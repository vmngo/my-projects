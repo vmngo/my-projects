{
 "cells": [
  {
   "cell_type": "markdown",
   "metadata": {
    "id": "pXluf-5f5BiT"
   },
   "source": [
    "# Predicting Beta Banks Customer's Behavior"
   ]
  },
  {
   "cell_type": "markdown",
   "metadata": {
    "id": "G5gbiqmf56oE"
   },
   "source": [
    "# Content\n",
    "* [Introduction](#introduction)\n",
    "* [Data Exploration](#data_preprocessing)\n",
    "    * [Conclusions](#conclusion)\n",
    "* [Data Preprocessing](#preprocessing)\n",
    "  * [Header style](#header)\n",
    "  * [Missing values](#missing_values)\n",
    "  * [Duplicates](#duplicates)\n",
    "  * [Conclusions](#splitting_data_conclusions)\n",
    "* [Feature Preparation](#feature_prep)\n",
    "  * [Conclusions](#conclusions)\n",
    "* [Training the Model](#training)\n",
    "  * [Examining the balance of class](#balance)\n",
    "  * [Decision Tree Classifier](#decision_tree)\n",
    "  * [Random Forest](#random_forest)\n",
    "  * [Logical Regression](#logical_regression)\n",
    "  * [Conclusions](#conclusions)\n",
    "* [Improving Quality of Model](#quality)\n",
    "  * [Upsampling](#upsampling)\n",
    "  * [Downsampling](#downsampling)\n",
    "  * [Class weight adjustment](#class_weight)\n",
    "  *[Conclusions](#conclusions)\n",
    "* [Final Testing](#final_testing)\n",
    "* [Findings](#conclusions)"
   ]
  },
  {
   "cell_type": "markdown",
   "metadata": {
    "id": "xT3vEe_k58dm"
   },
   "source": [
    "## Introduction \n",
    "\n",
    "Beta Bank customers have been leaving, little by little, each month. The bankers learned that it's cheaper to save the existing customer's rather than to attract new customers. We will use machine learning to predict whether a customer will leave the bank. \n",
    "\n",
    "**Data Description:**\n",
    "\n",
    "Features:\n",
    "\n",
    "* `RowNumber` - data string index\n",
    "* `CustomerId` - unique customer identifier\n",
    "* `Surname` - surname\n",
    "* `CreditScore` - credit score\n",
    "* `Geography` - country of residence\n",
    "* `Gender` - gender\n",
    "* `Age` - age\n",
    "* `Tenure` - period of maturation for a customer's fixed deposit (years)\n",
    "* `Balance` - account balance\n",
    "* `NumOfProducts` - number of banking products used by the customer\n",
    "* `HasCrCard` - customer has a credit car\n",
    "* `IsActiveMember` - customer's activeness\n",
    "* `EstimatedSalary` - estimated salary \n",
    "\n",
    "Target:\n",
    "* `Exited` - customer has left\n",
    "\n",
    "**Objective:**\n",
    "\n",
    "* Using the clients' past behavior and termination of contracts with the bank, predict whether a customer will leave the bank soon \n",
    "\n",
    "* Build a model with the maximum F1 score \n",
    "\n",
    "* Measure the AUC-ROC and compare it with the F1\n"
   ]
  },
  {
   "cell_type": "markdown",
   "metadata": {
    "id": "ED-SwnEb7r83"
   },
   "source": [
    "## Initialization"
   ]
  },
  {
   "cell_type": "code",
   "execution_count": 581,
   "metadata": {
    "id": "D7xBwmGw7zGE"
   },
   "outputs": [],
   "source": [
    "# Loading all libraries \n",
    "import pandas as pd \n",
    "import numpy as np\n",
    "import seaborn as sns\n",
    "import matplotlib.pyplot as plt\n",
    "from sklearn.tree import DecisionTreeClassifier\n",
    "from sklearn.metrics import accuracy_score\n",
    "from sklearn.model_selection import train_test_split\n",
    "from sklearn.ensemble import RandomForestClassifier\n",
    "from sklearn.linear_model import LogisticRegression\n",
    "from sklearn.preprocessing import StandardScaler\n",
    "from sklearn.metrics import confusion_matrix\n",
    "from sklearn.metrics import classification_report\n",
    "from sklearn.metrics import f1_score\n",
    "from sklearn.metrics import roc_auc_score\n",
    "from sklearn.utils import shuffle\n",
    "from sklearn.metrics import roc_curve"
   ]
  },
  {
   "cell_type": "code",
   "execution_count": 582,
   "metadata": {
    "id": "n-HGc1zi8ehy"
   },
   "outputs": [],
   "source": [
    "# Loading the data\n",
    "try:\n",
    "  df = pd.read_csv('Churn.csv')\n",
    "except:\n",
    "  df = pd.read_csv('/datasets/Churn.csv')"
   ]
  },
  {
   "cell_type": "markdown",
   "metadata": {
    "id": "WbvHJsYD84a_"
   },
   "source": [
    "## Data Exploration \n",
    "\n",
    "Description of data:\n",
    "\n",
    "* `RowNumber` - data string index\n",
    "* `CustomerId` - unique customer identifier\n",
    "* `Surname` - surname\n",
    "* `CreditScore` - credit score\n",
    "* `Geography` - country of residence\n",
    "* `Gender` - gender\n",
    "* `Age` - age\n",
    "* `Tenure` - period of maturation for a customer's fixed deposit (years)\n",
    "* `Balance` - account balance\n",
    "* `NumOfProducts` - number of banking products used by the customer\n",
    "* `HasCrCard` - customer has a credit car\n",
    "* `IsActiveMember` - customer's activeness\n",
    "* `EstimatedSalary` - estimated salary \n",
    "* `Exited` - customer has left"
   ]
  },
  {
   "cell_type": "code",
   "execution_count": 583,
   "metadata": {
    "colab": {
     "base_uri": "https://localhost:8080/",
     "height": 206
    },
    "id": "dsytZOQE870l",
    "outputId": "eaf22a39-bb25-42d6-bea6-1775da249823"
   },
   "outputs": [
    {
     "data": {
      "text/html": [
       "<div>\n",
       "<style scoped>\n",
       "    .dataframe tbody tr th:only-of-type {\n",
       "        vertical-align: middle;\n",
       "    }\n",
       "\n",
       "    .dataframe tbody tr th {\n",
       "        vertical-align: top;\n",
       "    }\n",
       "\n",
       "    .dataframe thead th {\n",
       "        text-align: right;\n",
       "    }\n",
       "</style>\n",
       "<table border=\"1\" class=\"dataframe\">\n",
       "  <thead>\n",
       "    <tr style=\"text-align: right;\">\n",
       "      <th></th>\n",
       "      <th>RowNumber</th>\n",
       "      <th>CustomerId</th>\n",
       "      <th>Surname</th>\n",
       "      <th>CreditScore</th>\n",
       "      <th>Geography</th>\n",
       "      <th>Gender</th>\n",
       "      <th>Age</th>\n",
       "      <th>Tenure</th>\n",
       "      <th>Balance</th>\n",
       "      <th>NumOfProducts</th>\n",
       "      <th>HasCrCard</th>\n",
       "      <th>IsActiveMember</th>\n",
       "      <th>EstimatedSalary</th>\n",
       "      <th>Exited</th>\n",
       "    </tr>\n",
       "  </thead>\n",
       "  <tbody>\n",
       "    <tr>\n",
       "      <th>0</th>\n",
       "      <td>1</td>\n",
       "      <td>15634602</td>\n",
       "      <td>Hargrave</td>\n",
       "      <td>619</td>\n",
       "      <td>France</td>\n",
       "      <td>Female</td>\n",
       "      <td>42</td>\n",
       "      <td>2.0</td>\n",
       "      <td>0.00</td>\n",
       "      <td>1</td>\n",
       "      <td>1</td>\n",
       "      <td>1</td>\n",
       "      <td>101348.88</td>\n",
       "      <td>1</td>\n",
       "    </tr>\n",
       "    <tr>\n",
       "      <th>1</th>\n",
       "      <td>2</td>\n",
       "      <td>15647311</td>\n",
       "      <td>Hill</td>\n",
       "      <td>608</td>\n",
       "      <td>Spain</td>\n",
       "      <td>Female</td>\n",
       "      <td>41</td>\n",
       "      <td>1.0</td>\n",
       "      <td>83807.86</td>\n",
       "      <td>1</td>\n",
       "      <td>0</td>\n",
       "      <td>1</td>\n",
       "      <td>112542.58</td>\n",
       "      <td>0</td>\n",
       "    </tr>\n",
       "    <tr>\n",
       "      <th>2</th>\n",
       "      <td>3</td>\n",
       "      <td>15619304</td>\n",
       "      <td>Onio</td>\n",
       "      <td>502</td>\n",
       "      <td>France</td>\n",
       "      <td>Female</td>\n",
       "      <td>42</td>\n",
       "      <td>8.0</td>\n",
       "      <td>159660.80</td>\n",
       "      <td>3</td>\n",
       "      <td>1</td>\n",
       "      <td>0</td>\n",
       "      <td>113931.57</td>\n",
       "      <td>1</td>\n",
       "    </tr>\n",
       "    <tr>\n",
       "      <th>3</th>\n",
       "      <td>4</td>\n",
       "      <td>15701354</td>\n",
       "      <td>Boni</td>\n",
       "      <td>699</td>\n",
       "      <td>France</td>\n",
       "      <td>Female</td>\n",
       "      <td>39</td>\n",
       "      <td>1.0</td>\n",
       "      <td>0.00</td>\n",
       "      <td>2</td>\n",
       "      <td>0</td>\n",
       "      <td>0</td>\n",
       "      <td>93826.63</td>\n",
       "      <td>0</td>\n",
       "    </tr>\n",
       "    <tr>\n",
       "      <th>4</th>\n",
       "      <td>5</td>\n",
       "      <td>15737888</td>\n",
       "      <td>Mitchell</td>\n",
       "      <td>850</td>\n",
       "      <td>Spain</td>\n",
       "      <td>Female</td>\n",
       "      <td>43</td>\n",
       "      <td>2.0</td>\n",
       "      <td>125510.82</td>\n",
       "      <td>1</td>\n",
       "      <td>1</td>\n",
       "      <td>1</td>\n",
       "      <td>79084.10</td>\n",
       "      <td>0</td>\n",
       "    </tr>\n",
       "  </tbody>\n",
       "</table>\n",
       "</div>"
      ],
      "text/plain": [
       "   RowNumber  CustomerId   Surname  CreditScore Geography  Gender  Age  \\\n",
       "0          1    15634602  Hargrave          619    France  Female   42   \n",
       "1          2    15647311      Hill          608     Spain  Female   41   \n",
       "2          3    15619304      Onio          502    France  Female   42   \n",
       "3          4    15701354      Boni          699    France  Female   39   \n",
       "4          5    15737888  Mitchell          850     Spain  Female   43   \n",
       "\n",
       "   Tenure    Balance  NumOfProducts  HasCrCard  IsActiveMember  \\\n",
       "0     2.0       0.00              1          1               1   \n",
       "1     1.0   83807.86              1          0               1   \n",
       "2     8.0  159660.80              3          1               0   \n",
       "3     1.0       0.00              2          0               0   \n",
       "4     2.0  125510.82              1          1               1   \n",
       "\n",
       "   EstimatedSalary  Exited  \n",
       "0        101348.88       1  \n",
       "1        112542.58       0  \n",
       "2        113931.57       1  \n",
       "3         93826.63       0  \n",
       "4         79084.10       0  "
      ]
     },
     "execution_count": 583,
     "metadata": {},
     "output_type": "execute_result"
    }
   ],
   "source": [
    "# Obtaining the first 5 rows of the table\n",
    "df.head()"
   ]
  },
  {
   "cell_type": "code",
   "execution_count": 584,
   "metadata": {
    "colab": {
     "base_uri": "https://localhost:8080/"
    },
    "id": "5whY538W9Spm",
    "outputId": "da8af84b-42c9-473f-aaf0-1709ffca20f6"
   },
   "outputs": [
    {
     "name": "stdout",
     "output_type": "stream",
     "text": [
      "The dataset has 10000 rows and 14 columns\n"
     ]
    }
   ],
   "source": [
    "# Obtaining number of rows and columns\n",
    "shape = df.shape\n",
    "print('The dataset has {} rows and {} columns'.format(shape[0], shape[1]))"
   ]
  },
  {
   "cell_type": "code",
   "execution_count": 585,
   "metadata": {
    "colab": {
     "base_uri": "https://localhost:8080/"
    },
    "id": "cNgfdhB19iH1",
    "outputId": "65eaf327-634d-450d-af6e-539665d726b0"
   },
   "outputs": [
    {
     "name": "stdout",
     "output_type": "stream",
     "text": [
      "<class 'pandas.core.frame.DataFrame'>\n",
      "RangeIndex: 10000 entries, 0 to 9999\n",
      "Data columns (total 14 columns):\n",
      " #   Column           Non-Null Count  Dtype  \n",
      "---  ------           --------------  -----  \n",
      " 0   RowNumber        10000 non-null  int64  \n",
      " 1   CustomerId       10000 non-null  int64  \n",
      " 2   Surname          10000 non-null  object \n",
      " 3   CreditScore      10000 non-null  int64  \n",
      " 4   Geography        10000 non-null  object \n",
      " 5   Gender           10000 non-null  object \n",
      " 6   Age              10000 non-null  int64  \n",
      " 7   Tenure           9091 non-null   float64\n",
      " 8   Balance          10000 non-null  float64\n",
      " 9   NumOfProducts    10000 non-null  int64  \n",
      " 10  HasCrCard        10000 non-null  int64  \n",
      " 11  IsActiveMember   10000 non-null  int64  \n",
      " 12  EstimatedSalary  10000 non-null  float64\n",
      " 13  Exited           10000 non-null  int64  \n",
      "dtypes: float64(3), int64(8), object(3)\n",
      "memory usage: 1.1+ MB\n"
     ]
    }
   ],
   "source": [
    "# Obtaining general info on the table\n",
    "df.info()"
   ]
  },
  {
   "cell_type": "markdown",
   "metadata": {
    "id": "6Giob6KL9mua"
   },
   "source": [
    "Since our dataset has 10,000 rows, we can see that there are missing values in the `Tenure` column. "
   ]
  },
  {
   "cell_type": "code",
   "execution_count": 586,
   "metadata": {
    "colab": {
     "base_uri": "https://localhost:8080/"
    },
    "id": "29C27ELq-0QQ",
    "outputId": "349af663-7a15-4324-8266-b92698c4a579"
   },
   "outputs": [
    {
     "name": "stdout",
     "output_type": "stream",
     "text": [
      "                 missing values     %\n",
      "Tenure                      909  9.09\n",
      "RowNumber                     0  0.00\n",
      "CustomerId                    0  0.00\n",
      "Surname                       0  0.00\n",
      "CreditScore                   0  0.00\n",
      "Geography                     0  0.00\n",
      "Gender                        0  0.00\n",
      "Age                           0  0.00\n",
      "Balance                       0  0.00\n",
      "NumOfProducts                 0  0.00\n",
      "HasCrCard                     0  0.00\n",
      "IsActiveMember                0  0.00\n",
      "EstimatedSalary               0  0.00\n",
      "Exited                        0  0.00\n"
     ]
    }
   ],
   "source": [
    "# Percentage of missing values per column\n",
    "df_mis = df.isna().sum().to_frame('missing values')\n",
    "df_mis['%'] = round(100 * df.isna().sum()/len(df), 2)\n",
    "print(df_mis.sort_values(by='%', ascending=False))"
   ]
  },
  {
   "cell_type": "markdown",
   "metadata": {
    "id": "m9i0U0tT_dz0"
   },
   "source": [
    "There are roughly 9% of missing values in the `Tenure` column. "
   ]
  },
  {
   "cell_type": "markdown",
   "metadata": {
    "id": "1klE06ivJrTL"
   },
   "source": [
    "**Conclusions**\n",
    "\n",
    "The dataset has 10,000 rows and 14 columns. Column names don't follow rules of good style, so change will be needed there. There is only one column with missing values. The `Tenure` column has 909 (~9%) of missing values.\n",
    "\n",
    "Next we will preprocess the data to deal with missing values and check for duplicated data."
   ]
  },
  {
   "cell_type": "markdown",
   "metadata": {
    "id": "MUyxo8_CAdFR"
   },
   "source": [
    "## Data Preprocessing"
   ]
  },
  {
   "cell_type": "markdown",
   "metadata": {
    "id": "1IuFBZsKC_Xt"
   },
   "source": [
    "### Header Style"
   ]
  },
  {
   "cell_type": "code",
   "execution_count": 587,
   "metadata": {
    "colab": {
     "base_uri": "https://localhost:8080/"
    },
    "id": "m8z6G1MqC89t",
    "outputId": "9b511a34-cf86-40e0-8a13-52e13f54263a"
   },
   "outputs": [
    {
     "name": "stdout",
     "output_type": "stream",
     "text": [
      "<class 'pandas.core.frame.DataFrame'>\n",
      "RangeIndex: 10000 entries, 0 to 9999\n",
      "Data columns (total 14 columns):\n",
      " #   Column            Non-Null Count  Dtype  \n",
      "---  ------            --------------  -----  \n",
      " 0   row_number        10000 non-null  int64  \n",
      " 1   customer_id       10000 non-null  int64  \n",
      " 2   surname           10000 non-null  object \n",
      " 3   credit_score      10000 non-null  int64  \n",
      " 4   geography         10000 non-null  object \n",
      " 5   gender            10000 non-null  object \n",
      " 6   age               10000 non-null  int64  \n",
      " 7   tenure            9091 non-null   float64\n",
      " 8   balance           10000 non-null  float64\n",
      " 9   num_of_products   10000 non-null  int64  \n",
      " 10  has_cr_card       10000 non-null  int64  \n",
      " 11  is_active_member  10000 non-null  int64  \n",
      " 12  estimated_salary  10000 non-null  float64\n",
      " 13  exited            10000 non-null  int64  \n",
      "dtypes: float64(3), int64(8), object(3)\n",
      "memory usage: 1.1+ MB\n"
     ]
    }
   ],
   "source": [
    "# Renaming columns\n",
    "df.columns = df.columns.str.lower()\n",
    "df = df.rename(columns={'rownumber':'row_number', 'customerid':'customer_id', \n",
    "                        'creditscore':'credit_score', \n",
    "                        'numofproducts':'num_of_products', \n",
    "                        'hascrcard':'has_cr_card', \n",
    "                        'isactivemember':'is_active_member', 'estimatedsalary':'estimated_salary'})\n",
    "\n",
    "# Checking to see if columns have been properly renamed\n",
    "df.info()\n"
   ]
  },
  {
   "cell_type": "markdown",
   "metadata": {
    "id": "iInekO2EE-Nt"
   },
   "source": [
    "### Missing values"
   ]
  },
  {
   "cell_type": "code",
   "execution_count": 588,
   "metadata": {
    "colab": {
     "base_uri": "https://localhost:8080/"
    },
    "id": "QacnxtNEFFCM",
    "outputId": "495e5529-431b-4e2f-cc99-de6f055da629"
   },
   "outputs": [
    {
     "data": {
      "text/plain": [
       "tenure              909\n",
       "row_number            0\n",
       "customer_id           0\n",
       "surname               0\n",
       "credit_score          0\n",
       "geography             0\n",
       "gender                0\n",
       "age                   0\n",
       "balance               0\n",
       "num_of_products       0\n",
       "has_cr_card           0\n",
       "is_active_member      0\n",
       "estimated_salary      0\n",
       "exited                0\n",
       "dtype: int64"
      ]
     },
     "execution_count": 588,
     "metadata": {},
     "output_type": "execute_result"
    }
   ],
   "source": [
    "# Calculating number of missing values \n",
    "df.isna().sum().sort_values(ascending=False)"
   ]
  },
  {
   "cell_type": "code",
   "execution_count": 589,
   "metadata": {
    "colab": {
     "base_uri": "https://localhost:8080/"
    },
    "id": "_CIK2P3CFp9I",
    "outputId": "79ce5509-5e7d-4384-df79-5110333a1c38"
   },
   "outputs": [
    {
     "name": "stdout",
     "output_type": "stream",
     "text": [
      "Percentage of missing values in tenure column: 9.09%\n"
     ]
    }
   ],
   "source": [
    "# Calculating the percentage of missing values for the tenure column \n",
    "mis_tenure = df['tenure'].isna().sum()/len(df)\n",
    "print(f'Percentage of missing values in tenure column:{mis_tenure: .2%}')"
   ]
  },
  {
   "cell_type": "code",
   "execution_count": 590,
   "metadata": {
    "colab": {
     "base_uri": "https://localhost:8080/"
    },
    "id": "UdZNYEs0H6Rg",
    "outputId": "fe2c92c0-1877-4047-d39c-985dc4f6fe10"
   },
   "outputs": [
    {
     "name": "stdout",
     "output_type": "stream",
     "text": [
      "[ 2.  1.  8.  7.  4.  6.  3. 10.  5.  9.  0. nan]\n"
     ]
    }
   ],
   "source": [
    "# Getting unique values for the tenure column \n",
    "print(df['tenure'].unique())"
   ]
  },
  {
   "cell_type": "code",
   "execution_count": 591,
   "metadata": {
    "colab": {
     "base_uri": "https://localhost:8080/"
    },
    "id": "ND-Swf8hGLZt",
    "outputId": "31dd3157-fee3-44c3-b6c3-a3e48316cc12"
   },
   "outputs": [
    {
     "data": {
      "text/plain": [
       "count    9091.000000\n",
       "mean        4.997690\n",
       "std         2.894723\n",
       "min         0.000000\n",
       "25%         2.000000\n",
       "50%         5.000000\n",
       "75%         7.000000\n",
       "max        10.000000\n",
       "Name: tenure, dtype: float64"
      ]
     },
     "execution_count": 591,
     "metadata": {},
     "output_type": "execute_result"
    }
   ],
   "source": [
    "# Getting statistical summary of the tenure column \n",
    "df['tenure'].describe()"
   ]
  },
  {
   "cell_type": "markdown",
   "metadata": {
    "id": "46bsisiRHJKt"
   },
   "source": [
    "Since there are no significant outliers in the `tenure` column, we will use the mean to replace the missing values."
   ]
  },
  {
   "cell_type": "code",
   "execution_count": 592,
   "metadata": {
    "colab": {
     "base_uri": "https://localhost:8080/"
    },
    "id": "2XlHWAegGTb0",
    "outputId": "b2e5d81c-422b-4b34-f9b4-c5e162c87924"
   },
   "outputs": [
    {
     "name": "stdout",
     "output_type": "stream",
     "text": [
      "[ 2.  1.  8.  7.  4.  6.  3. 10.  5.  9.  0.]\n"
     ]
    }
   ],
   "source": [
    "# Replacing missing values in the tenure column \n",
    "tenure_avg = round(df['tenure'].mean())\n",
    "df['tenure'].fillna(value=tenure_avg, inplace=True)\n",
    "\n",
    "# Checking to see if missing values have been replaced\n",
    "print(df['tenure'].unique())"
   ]
  },
  {
   "cell_type": "code",
   "execution_count": 593,
   "metadata": {
    "colab": {
     "base_uri": "https://localhost:8080/"
    },
    "id": "Aws-LQAUIlmm",
    "outputId": "2a4f9daf-4f31-4ac8-c93b-0d9b739cf586"
   },
   "outputs": [
    {
     "data": {
      "text/plain": [
       "row_number          0\n",
       "customer_id         0\n",
       "surname             0\n",
       "credit_score        0\n",
       "geography           0\n",
       "gender              0\n",
       "age                 0\n",
       "tenure              0\n",
       "balance             0\n",
       "num_of_products     0\n",
       "has_cr_card         0\n",
       "is_active_member    0\n",
       "estimated_salary    0\n",
       "exited              0\n",
       "dtype: int64"
      ]
     },
     "execution_count": 593,
     "metadata": {},
     "output_type": "execute_result"
    }
   ],
   "source": [
    "# Checking to make sure all missing values have been dealt with \n",
    "df.isna().sum()"
   ]
  },
  {
   "cell_type": "markdown",
   "metadata": {
    "id": "MKcTU2Z1IvIT"
   },
   "source": [
    "### Duplicates"
   ]
  },
  {
   "cell_type": "code",
   "execution_count": 594,
   "metadata": {
    "colab": {
     "base_uri": "https://localhost:8080/"
    },
    "id": "6ztL131UIqNZ",
    "outputId": "1d070a87-afdb-4c33-fdf4-a645a38d709d"
   },
   "outputs": [
    {
     "data": {
      "text/plain": [
       "0"
      ]
     },
     "execution_count": 594,
     "metadata": {},
     "output_type": "execute_result"
    }
   ],
   "source": [
    "# Checking for duplicates\n",
    "df.duplicated().sum()"
   ]
  },
  {
   "cell_type": "markdown",
   "metadata": {
    "id": "00GsnU4KIwlt"
   },
   "source": [
    "There are no duplicates in the dataset. "
   ]
  },
  {
   "cell_type": "markdown",
   "metadata": {
    "id": "Pk6q4c7cKgue"
   },
   "source": [
    "**Conclusions**\n",
    "\n",
    "We changed column names to lower case and added snake case to follow good rules of style.\n",
    "\n",
    "Since there were no significant outliers in the `tenure` column, we replaced the missing values there with the mean. \n",
    "\n",
    "There were no duplicates in this dataset. \n",
    "\n",
    "Now that the data has been preprocessed and cleaned, we will now prepare our data for training."
   ]
  },
  {
   "cell_type": "markdown",
   "metadata": {
    "id": "7aQQeAqCNIhu"
   },
   "source": [
    "## Feature Preparation \n"
   ]
  },
  {
   "cell_type": "code",
   "execution_count": 595,
   "metadata": {
    "colab": {
     "base_uri": "https://localhost:8080/",
     "height": 206
    },
    "id": "XptXwNxDNfSm",
    "outputId": "46d1800d-5f6d-4818-cb58-98aeae154e98"
   },
   "outputs": [
    {
     "data": {
      "text/html": [
       "<div>\n",
       "<style scoped>\n",
       "    .dataframe tbody tr th:only-of-type {\n",
       "        vertical-align: middle;\n",
       "    }\n",
       "\n",
       "    .dataframe tbody tr th {\n",
       "        vertical-align: top;\n",
       "    }\n",
       "\n",
       "    .dataframe thead th {\n",
       "        text-align: right;\n",
       "    }\n",
       "</style>\n",
       "<table border=\"1\" class=\"dataframe\">\n",
       "  <thead>\n",
       "    <tr style=\"text-align: right;\">\n",
       "      <th></th>\n",
       "      <th>credit_score</th>\n",
       "      <th>geography</th>\n",
       "      <th>gender</th>\n",
       "      <th>age</th>\n",
       "      <th>tenure</th>\n",
       "      <th>balance</th>\n",
       "      <th>num_of_products</th>\n",
       "      <th>has_cr_card</th>\n",
       "      <th>is_active_member</th>\n",
       "      <th>estimated_salary</th>\n",
       "      <th>exited</th>\n",
       "    </tr>\n",
       "  </thead>\n",
       "  <tbody>\n",
       "    <tr>\n",
       "      <th>0</th>\n",
       "      <td>619</td>\n",
       "      <td>France</td>\n",
       "      <td>Female</td>\n",
       "      <td>42</td>\n",
       "      <td>2.0</td>\n",
       "      <td>0.00</td>\n",
       "      <td>1</td>\n",
       "      <td>1</td>\n",
       "      <td>1</td>\n",
       "      <td>101348.88</td>\n",
       "      <td>1</td>\n",
       "    </tr>\n",
       "    <tr>\n",
       "      <th>1</th>\n",
       "      <td>608</td>\n",
       "      <td>Spain</td>\n",
       "      <td>Female</td>\n",
       "      <td>41</td>\n",
       "      <td>1.0</td>\n",
       "      <td>83807.86</td>\n",
       "      <td>1</td>\n",
       "      <td>0</td>\n",
       "      <td>1</td>\n",
       "      <td>112542.58</td>\n",
       "      <td>0</td>\n",
       "    </tr>\n",
       "    <tr>\n",
       "      <th>2</th>\n",
       "      <td>502</td>\n",
       "      <td>France</td>\n",
       "      <td>Female</td>\n",
       "      <td>42</td>\n",
       "      <td>8.0</td>\n",
       "      <td>159660.80</td>\n",
       "      <td>3</td>\n",
       "      <td>1</td>\n",
       "      <td>0</td>\n",
       "      <td>113931.57</td>\n",
       "      <td>1</td>\n",
       "    </tr>\n",
       "    <tr>\n",
       "      <th>3</th>\n",
       "      <td>699</td>\n",
       "      <td>France</td>\n",
       "      <td>Female</td>\n",
       "      <td>39</td>\n",
       "      <td>1.0</td>\n",
       "      <td>0.00</td>\n",
       "      <td>2</td>\n",
       "      <td>0</td>\n",
       "      <td>0</td>\n",
       "      <td>93826.63</td>\n",
       "      <td>0</td>\n",
       "    </tr>\n",
       "    <tr>\n",
       "      <th>4</th>\n",
       "      <td>850</td>\n",
       "      <td>Spain</td>\n",
       "      <td>Female</td>\n",
       "      <td>43</td>\n",
       "      <td>2.0</td>\n",
       "      <td>125510.82</td>\n",
       "      <td>1</td>\n",
       "      <td>1</td>\n",
       "      <td>1</td>\n",
       "      <td>79084.10</td>\n",
       "      <td>0</td>\n",
       "    </tr>\n",
       "  </tbody>\n",
       "</table>\n",
       "</div>"
      ],
      "text/plain": [
       "   credit_score geography  gender  age  tenure    balance  num_of_products  \\\n",
       "0           619    France  Female   42     2.0       0.00                1   \n",
       "1           608     Spain  Female   41     1.0   83807.86                1   \n",
       "2           502    France  Female   42     8.0  159660.80                3   \n",
       "3           699    France  Female   39     1.0       0.00                2   \n",
       "4           850     Spain  Female   43     2.0  125510.82                1   \n",
       "\n",
       "   has_cr_card  is_active_member  estimated_salary  exited  \n",
       "0            1                 1         101348.88       1  \n",
       "1            0                 1         112542.58       0  \n",
       "2            1                 0         113931.57       1  \n",
       "3            0                 0          93826.63       0  \n",
       "4            1                 1          79084.10       0  "
      ]
     },
     "execution_count": 595,
     "metadata": {},
     "output_type": "execute_result"
    }
   ],
   "source": [
    "# Dropping umimportant features\n",
    "df = df.drop(['row_number', 'customer_id', 'surname'], axis=1)\n",
    "\n",
    "# Checking to make sure columns were properly dropped\n",
    "df.head()"
   ]
  },
  {
   "cell_type": "code",
   "execution_count": 596,
   "metadata": {
    "id": "fKwSjmhiOX88"
   },
   "outputs": [],
   "source": [
    "# Transforming categorical features into numerical features\n",
    "df_ohe = pd.get_dummies(df, drop_first=True)"
   ]
  },
  {
   "cell_type": "code",
   "execution_count": 597,
   "metadata": {
    "id": "iaknYWCrPYQ8"
   },
   "outputs": [],
   "source": [
    "# Declaring variables for features and target\n",
    "features = df_ohe.drop(['exited'], axis=1)\n",
    "target= df_ohe['exited']"
   ]
  },
  {
   "cell_type": "code",
   "execution_count": 598,
   "metadata": {
    "id": "SJLs_BmdPaR3"
   },
   "outputs": [],
   "source": [
    "# Splitting the data into 60% training, 20% validation, 20% test set\n",
    "\n",
    "# Splitting data into training and validation \n",
    "features_train, features_valid, target_train, target_valid = train_test_split(features, target, test_size=0.20, random_state=12345, stratify=target)\n",
    "\n",
    "# Splitting data into training and testing \n",
    "features_train, features_test, target_train, target_test = train_test_split(features_train, target_train, test_size=0.25, random_state=12345, stratify=target_train)"
   ]
  },
  {
   "cell_type": "code",
   "execution_count": 599,
   "metadata": {
    "colab": {
     "base_uri": "https://localhost:8080/"
    },
    "id": "cWdrQ_dqQc5D",
    "outputId": "44f13f74-2108-4538-83eb-40d7aae70b8d"
   },
   "outputs": [
    {
     "name": "stdout",
     "output_type": "stream",
     "text": [
      "The training set contains 6000 rows, which represents 60% of the data\n",
      "\n",
      "The validation set contains 2000 rows, which represents 20% of the data\n",
      "\n",
      "The test set contains 2000 rows, which represents 20% of the data\n"
     ]
    }
   ],
   "source": [
    "# Checking to see if data was split properly\n",
    "print('The training set contains {} rows'.format(features_train.shape[0]) + ', which represents 60% of the data')\n",
    "print()\n",
    "print('The validation set contains {} rows'.format(features_valid.shape[0]) + ', which represents 20% of the data')\n",
    "print()\n",
    "print('The test set contains {} rows'.format(features_test.shape[0]) + ', which represents 20% of the data')\n"
   ]
  },
  {
   "cell_type": "code",
   "execution_count": 600,
   "metadata": {
    "id": "Scz_RhJoROfR"
   },
   "outputs": [],
   "source": [
    "# Declaring numeric features in dataset\n",
    "numeric = ['credit_score', 'age', 'tenure', 'balance', 'num_of_products', 'has_cr_card', 'is_active_member', 'estimated_salary']"
   ]
  },
  {
   "cell_type": "code",
   "execution_count": 601,
   "metadata": {
    "id": "-d4wm09iR_RW"
   },
   "outputs": [
    {
     "name": "stderr",
     "output_type": "stream",
     "text": [
      "/tmp/ipykernel_36/2894192037.py:5: SettingWithCopyWarning: \n",
      "A value is trying to be set on a copy of a slice from a DataFrame.\n",
      "Try using .loc[row_indexer,col_indexer] = value instead\n",
      "\n",
      "See the caveats in the documentation: https://pandas.pydata.org/pandas-docs/stable/user_guide/indexing.html#returning-a-view-versus-a-copy\n",
      "  features_valid[numeric] = scaler.transform(features_valid[numeric])\n",
      "/opt/conda/lib/python3.9/site-packages/pandas/core/indexing.py:1738: SettingWithCopyWarning: \n",
      "A value is trying to be set on a copy of a slice from a DataFrame.\n",
      "Try using .loc[row_indexer,col_indexer] = value instead\n",
      "\n",
      "See the caveats in the documentation: https://pandas.pydata.org/pandas-docs/stable/user_guide/indexing.html#returning-a-view-versus-a-copy\n",
      "  self._setitem_single_column(loc, value[:, i].tolist(), pi)\n"
     ]
    }
   ],
   "source": [
    "# Features scaling\n",
    "scaler = StandardScaler()\n",
    "scaler.fit(features_train[numeric])\n",
    "features_train[numeric] = scaler.transform(features_train[numeric])\n",
    "features_valid[numeric] = scaler.transform(features_valid[numeric])\n",
    "features_test[numeric] = scaler.transform(features_test[numeric])"
   ]
  },
  {
   "cell_type": "code",
   "execution_count": 602,
   "metadata": {
    "colab": {
     "base_uri": "https://localhost:8080/"
    },
    "id": "7GboB1qBUJHl",
    "outputId": "de22d046-45a0-480f-8c86-bbe35bc57efc"
   },
   "outputs": [
    {
     "name": "stdout",
     "output_type": "stream",
     "text": [
      "Size of training features: (6000, 11)\n",
      "Size of training target: (6000,)\n",
      "\n",
      "Size of validation features: (2000, 11)\n",
      "Size of validation target: (2000,)\n",
      "\n",
      "Size of test features: (2000, 11)\n",
      "Size of test target: (2000,)\n"
     ]
    }
   ],
   "source": [
    "# Checking size of each features and target set\n",
    "print('Size of training features:', features_train.shape)\n",
    "print('Size of training target:', target_train.shape)\n",
    "print()\n",
    "print('Size of validation features:', features_valid.shape)\n",
    "print('Size of validation target:', target_valid.shape)\n",
    "print()\n",
    "print('Size of test features:', features_test.shape)\n",
    "print('Size of test target:', target_test.shape)"
   ]
  },
  {
   "cell_type": "markdown",
   "metadata": {
    "id": "F7l6Jr8CUrVv"
   },
   "source": [
    "**Conclusions**\n",
    "\n",
    "We encoded the categorical features using a special technique called One-Hot Encoding (OHE). The OHE technique allowed us to transform categorical features into numerical features.  When data is abundant, we have a chance of falling into the dummy feature trap. To avoid this, we removed safely any one column. \n",
    "\n",
    "We split the source data in a 3:1:1 ratio: 60% training set, 20% validation set, and 20% test set. \n",
    "* The training set contains 6000 rows\n",
    "* The validation set contains 2000 rows\n",
    "* The test set contains 2000 rows\n",
    "\n",
    "We standardized the numerical features of the data. Now that the data is prepared, we can examine the balance of classes and train the model. \n"
   ]
  },
  {
   "cell_type": "markdown",
   "metadata": {
    "id": "nf6TkQv6X-PR"
   },
   "source": [
    "## Training the Model"
   ]
  },
  {
   "cell_type": "markdown",
   "metadata": {
    "id": "NQEBy3V1YctV"
   },
   "source": [
    "### Examining the balance of classes"
   ]
  },
  {
   "cell_type": "code",
   "execution_count": 603,
   "metadata": {
    "colab": {
     "base_uri": "https://localhost:8080/",
     "height": 334
    },
    "id": "yf9phxm2Y3c4",
    "outputId": "ed79ed92-b301-450b-e9ed-3938ddd82cb7"
   },
   "outputs": [
    {
     "name": "stderr",
     "output_type": "stream",
     "text": [
      "/opt/conda/lib/python3.9/site-packages/seaborn/_decorators.py:36: FutureWarning: Pass the following variable as a keyword arg: x. From version 0.12, the only valid positional argument will be `data`, and passing other arguments without an explicit keyword will result in an error or misinterpretation.\n",
      "  warnings.warn(\n"
     ]
    },
    {
     "data": {
      "image/png": "[encoded data removed]",
      "text/plain": [
       "<Figure size 432x288 with 1 Axes>"
      ]
     },
     "metadata": {
      "needs_background": "light"
     },
     "output_type": "display_data"
    }
   ],
   "source": [
    "# Investigating the balance of classes\n",
    "balance = sns.countplot(df_ohe['exited'])\n",
    "plt.show()"
   ]
  },
  {
   "cell_type": "markdown",
   "metadata": {
    "id": "hyd35ROZbUqr"
   },
   "source": [
    "We examined the balance of classes and can clearly see that there is a huge difference in dataset. There are almost 8000 customers that hasn't exited as compared to the 2000 that has. \n",
    "\n",
    "We will now train the model without taking the imbalance of classes into account. "
   ]
  },
  {
   "cell_type": "markdown",
   "metadata": {
    "id": "XnO3ZvXGcRjA"
   },
   "source": [
    "### Decision Tree Classifier "
   ]
  },
  {
   "cell_type": "code",
   "execution_count": 604,
   "metadata": {
    "colab": {
     "base_uri": "https://localhost:8080/"
    },
    "id": "hMwrYzvUdTAC",
    "outputId": "c90997d7-1cb2-4631-981f-3813eda2c689"
   },
   "outputs": [
    {
     "name": "stdout",
     "output_type": "stream",
     "text": [
      "Max depth =  6 : 0.8595\n",
      "F1 score: 0.49122807017543857\n",
      "AUC-ROC score: 0.679580967716561\n"
     ]
    }
   ],
   "source": [
    "# Tuning hyperparameters for Decision Tree Classifer\n",
    "highest_accuracy = 0\n",
    "best_depth = 0\n",
    "for depth in range (1,50):\n",
    "  model = DecisionTreeClassifier(random_state=12345, max_depth=depth)\n",
    "  model.fit(features_train, target_train)\n",
    "  predictions_valid = model.predict(features_valid)\n",
    "  accuracy = accuracy_score(target_valid, predictions_valid)\n",
    "  if accuracy > highest_accuracy:\n",
    "    highest_accuracy = accuracy\n",
    "    best_depth = depth\n",
    "print('Max depth = ', best_depth, ':', highest_accuracy)\n",
    "    \n",
    "# Calculating F1 score\n",
    "print('F1 score:', f1_score(target_valid, predictions_valid))\n",
    "\n",
    "# Calculating AUC-ROC score\n",
    "probabilities_valid = model.predict_proba(features_valid)\n",
    "probablities_one_valid = probabilities_valid[:,1]\n",
    "print('AUC-ROC score:', roc_auc_score(target_valid, probablities_one_valid))"
   ]
  },
  {
   "cell_type": "markdown",
   "metadata": {
    "id": "ADzE49bpgnq1"
   },
   "source": [
    "We found that a max depth of 6 produced the highest accuracy rate for the Decision Tree Classfier. The F1 score for the Decision Tree Classifier model is 51.6%.This is pretty low so we can say that both precision and recall are low. The AUC-ROC score is 0.69, meaning that the quality of the model can still be improved. "
   ]
  },
  {
   "cell_type": "markdown",
   "metadata": {
    "id": "pnCcwWfzeMMb"
   },
   "source": [
    "### Random Forest "
   ]
  },
  {
   "cell_type": "code",
   "execution_count": 605,
   "metadata": {
    "colab": {
     "base_uri": "https://localhost:8080/"
    },
    "id": "XkPSm-GaeSgp",
    "outputId": "6ed68b8c-0814-47b2-c75a-62445974a39c"
   },
   "outputs": [
    {
     "name": "stdout",
     "output_type": "stream",
     "text": [
      "n_estimators =  47 : max_depth = 49 : 0.8625\n",
      "F1 score: 0.5864661654135339\n",
      "AUC-ROC score: 0.7197837282583045\n"
     ]
    }
   ],
   "source": [
    "# Tuning hyperparameters for Random Forest model\n",
    "highest_accuracy = 0\n",
    "max_n_estimators = 0\n",
    "max_depth=0\n",
    "for n in range(1,50):\n",
    "  model = RandomForestClassifier(random_state=12345, n_estimators=n)\n",
    "  model.fit(features_train, target_train)\n",
    "  predictions_valid = model.predict(features_valid)\n",
    "  accuracy = accuracy_score(target_valid, predictions_valid)\n",
    "  if accuracy > highest_accuracy:\n",
    "    highest_accuracy = accuracy \n",
    "    max_n_estimators = n\n",
    "    max_depth = depth\n",
    "print('n_estimators = ', max_n_estimators, ':',  'max_depth =', max_depth, ':', highest_accuracy)\n",
    "\n",
    "# Calculating F1 score\n",
    "print('F1 score:', f1_score(target_valid, predictions_valid))\n",
    "\n",
    "# Calculating AUC-ROC score\n",
    "probabilities_valid = model.predict_proba(features_valid)\n",
    "probablities_one_valid = probabilities_valid[:,1]\n",
    "print('AUC-ROC score:', roc_auc_score(target_valid, predictions_valid))"
   ]
  },
  {
   "cell_type": "markdown",
   "metadata": {
    "id": "8v4JlAYPg-1h"
   },
   "source": [
    "We found that the a n_estimator of 43 and a max_depth of 49 produced the highest accuracy rate for the Random Forest model. The F1 score for the Random Forest model is higher than the Decision Tree Classifier model, at 57.6%.This is pretty low so we can say that both precision and recall are low. The AUC-ROC score is .71, which is means that the quality of the model can still be improved. "
   ]
  },
  {
   "cell_type": "markdown",
   "metadata": {
    "id": "90scKiHcepkE"
   },
   "source": [
    "### Logical Regression "
   ]
  },
  {
   "cell_type": "code",
   "execution_count": 606,
   "metadata": {
    "colab": {
     "base_uri": "https://localhost:8080/"
    },
    "id": "8Ha9TKhme3_T",
    "outputId": "b8bb239b-d04c-4660-dda2-bc377ca5b7e3"
   },
   "outputs": [
    {
     "name": "stdout",
     "output_type": "stream",
     "text": [
      "F1 score: 0.29906542056074764\n",
      "AUC-ROC score: 0.5832141849091003\n"
     ]
    }
   ],
   "source": [
    "# Logical Regression model\n",
    "model = LogisticRegression(random_state=12345, solver='liblinear')\n",
    "model.fit(features_train, target_train)\n",
    "predictions_valid = model.predict(features_valid)\n",
    "probabilities_valid = model.predict_proba(features_valid)\n",
    "probablities_one_valid = probabilities_valid[:,1]\n",
    "print('F1 score:', f1_score(target_valid, predictions_valid))\n",
    "print('AUC-ROC score:', roc_auc_score(target_valid, predictions_valid))"
   ]
  },
  {
   "cell_type": "markdown",
   "metadata": {
    "id": "C_oU6nClhLoz"
   },
   "source": [
    "The Logical Regression model has the lowest F1 score at 29.8%. We can say that both the precision and recall are low in this model. The AUC-ROC socre is .58, which means that model's quality still isn't great. "
   ]
  },
  {
   "cell_type": "markdown",
   "metadata": {
    "id": "BDD6fQCOhhyt"
   },
   "source": [
    "**Conclusions**\n",
    "\n",
    "The Random Forest model had the best F1 score at 57.6%, while the Logical Regression model had the worse F1 score at 29.8%. The Random Forest model has the highest AUC-ROC score at 0.71. \n",
    "\n",
    "We will now improve the quality of the model by fixing class imbalances."
   ]
  },
  {
   "cell_type": "markdown",
   "metadata": {
    "id": "uD20Fyt3iIgR"
   },
   "source": [
    "## Improving Quality of the Model "
   ]
  },
  {
   "cell_type": "markdown",
   "metadata": {
    "id": "yVIV2MITkiB5"
   },
   "source": [
    "### Upsampling"
   ]
  },
  {
   "cell_type": "markdown",
   "metadata": {
    "id": "cUp3j7HY3cBp"
   },
   "source": [
    "Upsampling we synthetically generate data points (corresponding to minority class) to inject into the dataset. After this process, the counts of both labels are almost the same. "
   ]
  },
  {
   "cell_type": "code",
   "execution_count": 607,
   "metadata": {
    "colab": {
     "base_uri": "https://localhost:8080/"
    },
    "id": "E3fcH2i4kkcu",
    "outputId": "f3af8fa4-14fb-4945-bee7-f9038c8f2207"
   },
   "outputs": [
    {
     "data": {
      "text/plain": [
       "1    4892\n",
       "0    4777\n",
       "Name: exited, dtype: int64"
      ]
     },
     "execution_count": 607,
     "metadata": {},
     "output_type": "execute_result"
    }
   ],
   "source": [
    "# Defining function for upsampling\n",
    "def upsample(features, target, repeat):\n",
    "    features_zeros = features[target == 0]\n",
    "    features_ones = features[target == 1]\n",
    "    target_zeros = target[target == 0]\n",
    "    target_ones = target[target == 1]\n",
    "\n",
    "    features_upsampled = pd.concat([features_zeros] + [features_ones] * repeat)\n",
    "    target_upsampled = pd.concat([target_zeros] + [target_ones] * repeat)\n",
    "\n",
    "    features_upsampled, target_upsampled = shuffle(features_upsampled, target_upsampled, random_state=12345)\n",
    "    \n",
    "    return features_upsampled, target_upsampled\n",
    "\n",
    "\n",
    "#  Creating new training sample\n",
    "features_upsampled, target_upsampled = upsample(features_train, target_train, 4)\n",
    "\n",
    "# Checking to see if our classes are more balanced \n",
    "target_upsampled.value_counts()"
   ]
  },
  {
   "cell_type": "code",
   "execution_count": 608,
   "metadata": {
    "colab": {
     "base_uri": "https://localhost:8080/"
    },
    "id": "Rf7jrWjem5N5",
    "outputId": "e506cb3b-2521-4d85-a87c-1376e9c5ff03"
   },
   "outputs": [
    {
     "name": "stdout",
     "output_type": "stream",
     "text": [
      "F1 score: 0.5732142857142858\n",
      "AUC-ROC score: 0.8409788833517646\n"
     ]
    }
   ],
   "source": [
    "# Decision Tree Classifier Model\n",
    "model = DecisionTreeClassifier(random_state=12345, max_depth=6)\n",
    "model.fit(features_upsampled, target_upsampled)\n",
    "\n",
    "# Calculaing F1 score\n",
    "predictions_valid = model.predict(features_valid)\n",
    "print('F1 score:', f1_score(target_valid, predictions_valid))\n",
    "\n",
    "# Calculating AUC-ROC score\n",
    "probabilities_valid = model.predict_proba(features_valid)\n",
    "probablities_one_valid = probabilities_valid[:,1]\n",
    "print('AUC-ROC score:', roc_auc_score(target_valid, probablities_one_valid))"
   ]
  },
  {
   "cell_type": "markdown",
   "metadata": {
    "id": "7ffffcCpqT9n"
   },
   "source": [
    "The F1 score increased from 51.6% to 59.3%,and the AUC-ROC score has improved from .69 to .82, which means that the overall quality of the model has improved. "
   ]
  },
  {
   "cell_type": "code",
   "execution_count": 609,
   "metadata": {
    "colab": {
     "base_uri": "https://localhost:8080/"
    },
    "id": "z8SfobnKry6G",
    "outputId": "3abc369b-f2ce-4917-ecf8-1bf4f98990e7"
   },
   "outputs": [
    {
     "name": "stdout",
     "output_type": "stream",
     "text": [
      "F1 score: 0.5841184387617767\n",
      "AUC-ROC score: 0.8532207091529125\n"
     ]
    }
   ],
   "source": [
    "# Random Forest Model \n",
    "model = RandomForestClassifier(random_state = 12345, n_estimators=43, max_depth=49)\n",
    "model.fit(features_upsampled, target_upsampled)\n",
    "\n",
    "# Calculating F1 score\n",
    "predictions_valid = model.predict(features_valid)\n",
    "print('F1 score:', f1_score(target_valid, predictions_valid))\n",
    "\n",
    "# Calculating AUC-ROC score\n",
    "probabilities_valid = model.predict_proba(features_valid)\n",
    "probabilities_valid_one = probabilities_valid[:,1]\n",
    "print('AUC-ROC score:', roc_auc_score(target_valid, probabilities_valid_one))"
   ]
  },
  {
   "cell_type": "markdown",
   "metadata": {
    "id": "GSe1YQ2AsxQM"
   },
   "source": [
    "The F1 score for the Random Forest model improved from 57.6% to 59.3%. The AUC-ROC score also increased from 0.71 to 0.85, which means the overall quality of the model has improved. "
   ]
  },
  {
   "cell_type": "code",
   "execution_count": 610,
   "metadata": {
    "colab": {
     "base_uri": "https://localhost:8080/"
    },
    "id": "f5NTE2GHtE7S",
    "outputId": "3c59a1e2-baba-408d-e08f-8756b57769b0"
   },
   "outputs": [
    {
     "name": "stdout",
     "output_type": "stream",
     "text": [
      "F1 score: 0.5054393305439331\n",
      "AUC-ROC score: 0.7812126456194253\n"
     ]
    }
   ],
   "source": [
    "# Logistical Regression Model\n",
    "model = LogisticRegression(random_state=12345, solver='liblinear')\n",
    "model.fit(features_upsampled, target_upsampled)\n",
    "\n",
    "# Calculating F1 score\n",
    "predictions_valid = model.predict(features_valid)\n",
    "print('F1 score:', f1_score(target_valid, predictions_valid))\n",
    "\n",
    "# Calculating AUC-ROC score\n",
    "probabilities_valid = model.predict_proba(features_valid)\n",
    "probabilities_valid_one = probabilities_valid[:,1]\n",
    "print('AUC-ROC score:', roc_auc_score(target_valid, probabilities_valid_one))"
   ]
  },
  {
   "cell_type": "markdown",
   "metadata": {
    "id": "m_C2Uk54taW7"
   },
   "source": [
    "The F1 score for the Logical Regression model increased from 29.8% to 50.4%. The AUC-ROC score also increased from 0.58 to 0.76, which means that the overall quality of the model has improved."
   ]
  },
  {
   "cell_type": "markdown",
   "metadata": {
    "id": "mA-L0XYrtrVC"
   },
   "source": [
    "### Downsampling"
   ]
  },
  {
   "cell_type": "markdown",
   "metadata": {
    "id": "VFJKczfp3pZJ"
   },
   "source": [
    "Downsampling reduces the count of training samples falling under the majority class. This helps even up the counts of the target category."
   ]
  },
  {
   "cell_type": "code",
   "execution_count": 611,
   "metadata": {
    "colab": {
     "base_uri": "https://localhost:8080/"
    },
    "id": "8zrvVk-Pttih",
    "outputId": "f29b52c8-a92a-484f-bd4b-2f34e4ab4424"
   },
   "outputs": [
    {
     "data": {
      "text/plain": [
       "1    1223\n",
       "0    1218\n",
       "Name: exited, dtype: int64"
      ]
     },
     "execution_count": 611,
     "metadata": {},
     "output_type": "execute_result"
    }
   ],
   "source": [
    "# Creating function for downsampling\n",
    "def downsample(features, target, fraction):\n",
    "    features_zeros = features[target == 0]\n",
    "    features_ones = features[target == 1]\n",
    "    target_zeros = target[target == 0]\n",
    "    target_ones = target[target == 1]\n",
    "\n",
    "    features_downsampled = pd.concat([features_zeros.sample(frac=fraction, random_state=12345)] + [features_ones])\n",
    "    target_downsampled = pd.concat([target_zeros.sample(frac=fraction, random_state=12345)] + [target_ones])\n",
    "\n",
    "    features_downsampled, target_downsampled = shuffle(features_downsampled, target_downsampled, random_state=12345)\n",
    "\n",
    "    return features_downsampled, target_downsampled\n",
    "\n",
    "# Creating new training sample\n",
    "features_downsampled, target_downsampled = downsample(features_train, target_train, 0.255)\n",
    "\n",
    "# Checking to see if our classes are balanced\n",
    "target_downsampled.value_counts()"
   ]
  },
  {
   "cell_type": "code",
   "execution_count": 612,
   "metadata": {
    "colab": {
     "base_uri": "https://localhost:8080/"
    },
    "id": "lEFZdBN7xayv",
    "outputId": "da86d8fe-1651-47a1-dc35-87009ea777c2"
   },
   "outputs": [
    {
     "name": "stdout",
     "output_type": "stream",
     "text": [
      "F1 score: 0.5855588526211671\n",
      "AUC-ROC score: 0.8445841835672344\n"
     ]
    }
   ],
   "source": [
    "# Decision Tree Classifier Model \n",
    "model = DecisionTreeClassifier(random_state=12345, max_depth=6)\n",
    "model.fit(features_downsampled, target_downsampled)\n",
    "\n",
    "# Calculaing F1 score\n",
    "predictions_valid = model.predict(features_valid)\n",
    "print('F1 score:', f1_score(target_valid, predictions_valid))\n",
    "\n",
    "# Calculating AUC-ROC score\n",
    "probabilities_valid = model.predict_proba(features_valid)\n",
    "probablities_one_valid = probabilities_valid[:,1]\n",
    "print('AUC-ROC score:', roc_auc_score(target_valid, probablities_one_valid))"
   ]
  },
  {
   "cell_type": "markdown",
   "metadata": {
    "id": "zkQBBGkD12qj"
   },
   "source": [
    "The F1 score for the Decision Tree Classifier Model increased from 51.6% to 57.5%, and the AUC-ROC score increase from .58 to .82. The overall quality of the model has increased. "
   ]
  },
  {
   "cell_type": "code",
   "execution_count": 613,
   "metadata": {
    "colab": {
     "base_uri": "https://localhost:8080/"
    },
    "id": "oCGhKhcSzR1B",
    "outputId": "416b8439-8c63-4da5-cac6-8dd4be1ea9a4"
   },
   "outputs": [
    {
     "name": "stdout",
     "output_type": "stream",
     "text": [
      "F1 score: 0.5914691943127961\n",
      "AUC-ROC score: 0.8593593593593594\n"
     ]
    }
   ],
   "source": [
    "# Random Forest Model \n",
    "model = RandomForestClassifier(random_state=12345, n_estimators=43, max_depth=49)\n",
    "model.fit(features_downsampled, target_downsampled)\n",
    "\n",
    "# Calculaing F1 score\n",
    "predictions_valid = model.predict(features_valid)\n",
    "print('F1 score:', f1_score(target_valid, predictions_valid))\n",
    "\n",
    "# Calculating AUC-ROC score\n",
    "probabilities_valid = model.predict_proba(features_valid)\n",
    "probablities_one_valid = probabilities_valid[:,1]\n",
    "print('AUC-ROC score:', roc_auc_score(target_valid, probablities_one_valid))"
   ]
  },
  {
   "cell_type": "markdown",
   "metadata": {
    "id": "4Ynsn_uv2Pxj"
   },
   "source": [
    "The F1 score for the Random Forest model improved from 57.6% to 60.1%. The AUC-ROC score also increased from 0.71 to 0.85, which means the overall quality of the model has improved."
   ]
  },
  {
   "cell_type": "code",
   "execution_count": 614,
   "metadata": {
    "colab": {
     "base_uri": "https://localhost:8080/"
    },
    "id": "Ae-fPe7VzYYp",
    "outputId": "c821ecbf-ea33-4007-f027-09c6c4cdd8f7"
   },
   "outputs": [
    {
     "name": "stdout",
     "output_type": "stream",
     "text": [
      "F1 score: 0.5055131467345207\n",
      "AUC-ROC score: 0.779218355489542\n"
     ]
    }
   ],
   "source": [
    "# Linear Regression Model \n",
    "model = LogisticRegression(random_state=12345)\n",
    "model.fit(features_downsampled, target_downsampled)\n",
    "\n",
    "# Calculaing F1 score\n",
    "predictions_valid = model.predict(features_valid)\n",
    "print('F1 score:', f1_score(target_valid, predictions_valid))\n",
    "\n",
    "# Calculating AUC-ROC score\n",
    "probabilities_valid = model.predict_proba(features_valid)\n",
    "probablities_one_valid = probabilities_valid[:,1]\n",
    "print('AUC-ROC score:', roc_auc_score(target_valid, probablities_one_valid))"
   ]
  },
  {
   "cell_type": "markdown",
   "metadata": {
    "id": "arVigNXT2U6c"
   },
   "source": [
    "The F1 score for the Logical Regression model increased from 29.8% to 49.5%. The AUC-ROC score also increased from 0.58 to 0.77, which means that the overall quality of the model has improved."
   ]
  },
  {
   "cell_type": "markdown",
   "metadata": {
    "id": "Brm0qiAo24j_"
   },
   "source": [
    "### Class weight adjustment"
   ]
  },
  {
   "cell_type": "markdown",
   "metadata": {
    "id": "KRoT9dfi3G_I"
   },
   "source": [
    "We can use the argument class_weight='balanced' to penalize mistakes on the minority class by an amount proportional to how under-represented it is"
   ]
  },
  {
   "cell_type": "code",
   "execution_count": 615,
   "metadata": {
    "colab": {
     "base_uri": "https://localhost:8080/"
    },
    "id": "mLrSkarQ2ZpE",
    "outputId": "9e7c43b9-7c11-4a74-b47f-5330a45d341e"
   },
   "outputs": [
    {
     "name": "stdout",
     "output_type": "stream",
     "text": [
      "F1 score: 0.5288065843621399\n",
      "AUC-ROC score: 0.7270082100590576\n"
     ]
    }
   ],
   "source": [
    "# Decision Tree Classifier Model\n",
    "model = DecisionTreeClassifier(random_state=12345, max_depth=11, class_weight='balanced')\n",
    "model.fit(features_train, target_train)\n",
    "predictions_valid = model.predict(features_valid)\n",
    "\n",
    "# Calculating the F1 score\n",
    "print('F1 score:', f1_score(target_valid, predictions_valid))\n",
    "\n",
    "# Calculating the AUC-ROC score\n",
    "probabilities_valid = model.predict_proba(features_valid)\n",
    "probabilities_one_valid = probabilities_valid[:,1]\n",
    "print('AUC-ROC score:', roc_auc_score(target_valid, probabilities_one_valid))"
   ]
  },
  {
   "cell_type": "markdown",
   "metadata": {
    "id": "ElbEaY0E5Ces"
   },
   "source": [
    "The F1 score for the Decision Tree Classifier Model stayed increased from 51% to 52.5%, and the AUC_ROC score increased from 0.69 to 0.73. The overall quality of the model has increased."
   ]
  },
  {
   "cell_type": "code",
   "execution_count": 616,
   "metadata": {
    "colab": {
     "base_uri": "https://localhost:8080/"
    },
    "id": "Wechawtz5WJE",
    "outputId": "1e43f59e-ee16-4769-b36d-00efe631ecb6"
   },
   "outputs": [
    {
     "name": "stdout",
     "output_type": "stream",
     "text": [
      "F1 score: 0.5529953917050691\n",
      "AUC-ROC score: 0.8484624840557045\n"
     ]
    }
   ],
   "source": [
    "# Random Forest Model\n",
    "model = RandomForestClassifier(random_state=12345, n_estimators=43, max_depth=49, class_weight='balanced')\n",
    "model.fit(features_train, target_train)\n",
    "predictions_valid = model.predict(features_valid)\n",
    "\n",
    "# Calculating the F1 score\n",
    "print('F1 score:', f1_score(target_valid, predictions_valid))\n",
    "\n",
    "# Calculating the AUC-ROC score\n",
    "probabilities_valid = model.predict_proba(features_valid)\n",
    "probabilities_one_valid = probabilities_valid[:,1]\n",
    "print('AUC-ROC score:', roc_auc_score(target_valid, probabilities_one_valid))"
   ]
  },
  {
   "cell_type": "markdown",
   "metadata": {
    "id": "6Kvux7EW5yRb"
   },
   "source": [
    "The F1 score for the Random Forest model decreased from 57.6% to 55.9%. The AUC-ROC score increased from 0.71 to 0.85, which means the overall quality of the model has improved."
   ]
  },
  {
   "cell_type": "code",
   "execution_count": 617,
   "metadata": {
    "colab": {
     "base_uri": "https://localhost:8080/"
    },
    "id": "WA1HmcGP6KSN",
    "outputId": "74cbff83-1fc4-411a-fdd4-514a491f5b68"
   },
   "outputs": [
    {
     "name": "stdout",
     "output_type": "stream",
     "text": [
      "F1 score: 0.5072340425531915\n",
      "AUC-ROC score: 0.7811247302772727\n"
     ]
    }
   ],
   "source": [
    "# Logistical Regression model \n",
    "model = LogisticRegression(random_state=1234, solver='liblinear', class_weight='balanced')\n",
    "model.fit(features_train, target_train)\n",
    "\n",
    "# Calculating the F1 score\n",
    "predictions_valid = model.predict(features_valid)\n",
    "print('F1 score:', f1_score(target_valid, predictions_valid))\n",
    "\n",
    "# Calculating the AUC-ROC score\n",
    "probabilities_valid = model.predict_proba(features_valid)\n",
    "probabilities_one_valid = probabilities_valid[:,1]\n",
    "print('AUC-ROC score:', roc_auc_score(target_valid, probabilities_one_valid))\n",
    "\n"
   ]
  },
  {
   "cell_type": "markdown",
   "metadata": {
    "id": "jPKLAJSc6fze"
   },
   "source": [
    "The F1 score for the Logical Regression model increased from 29.8% to 50.2%. The AUC-ROC score also increased from 0.58 to 0.76, which means that the overall quality of the model has improved."
   ]
  },
  {
   "cell_type": "markdown",
   "metadata": {
    "id": "nAqZzEq46mTv"
   },
   "source": [
    "**Conclusions**\n",
    "\n",
    "We used three different techniques to fix class imbalance: upsampling, downsampling, and adjusting class weight.\n",
    "\n",
    "Using upsampling, we found that the F1 score for the Decision Tree Classifier model increased from 51.6% to 59.3%, and the AUC-ROC score also increased from .69 to .82. The F1 score for the Random Forest model improved from 57.6% to 59.3%, and the AUC-ROC score increased from 0.71 to 0.85. The F1 score for the Logical Regression model increased from 29.8% to 50.4%, and the AUC-ROC score increased from 0.58 to 0.76.\n",
    "\n",
    "Using downsampling, we found that the F1 score for the Decision Tree Classifier model increased from 51.6% to 57.5%, and that the AUC-ROC score stayed increased from 0.69 to 0.82. The F1 score for the Random Forest model increased from 57.6% to 61.5%, and the AUC-ROC score increased from 0.71 to 0.85. The F1 score for the Logical Regression model increased from 29.8% to 49.5%, and the AUC-ROC score increased from 0.58 to 0.77.\n",
    "\n",
    "Using the argument, class_weight='balanced', we found that the F1 score increased from 51% to 52.5, and that the AUC-ROC score increased from 0.69 to 0.72. For the Random Forest model, we found that the F1 score decreased from 57.6% to 55.9%, but the AUC-ROC score increased from 0.71 to 0.85. The F1 score for the Logical Regression model increased from 29.8% to 50.2%, and the AUC-ROC score increased from 0.58 to 0.76. \n",
    "\n",
    "The F1 and AUC-ROC score was the best for the Decision Tree Classifier when using upsampling. The F1 and AUC-ROC score was the best for the Random Forest and Logical Regression model when using downsampling. Overall, the Random Forest model had the best F1 and AUC-ROC score.  \n"
   ]
  },
  {
   "cell_type": "markdown",
   "metadata": {
    "id": "ihpP0E3X_0t3"
   },
   "source": [
    "## Final Testing"
   ]
  },
  {
   "cell_type": "code",
   "execution_count": 618,
   "metadata": {
    "colab": {
     "base_uri": "https://localhost:8080/"
    },
    "id": "3G_boM0AAG7R",
    "outputId": "26a28c36-32e2-4a2a-e3ef-f14f5e8cc8f6"
   },
   "outputs": [
    {
     "name": "stdout",
     "output_type": "stream",
     "text": [
      "F1 Score: 0.6003861003861004\n"
     ]
    }
   ],
   "source": [
    "# Random Forest Model\n",
    "model = RandomForestClassifier(random_state=12345, n_estimators=50, max_depth=49)\n",
    "model.fit(features_downsampled, target_downsampled)\n",
    "predictions_test = model.predict(features_test)\n",
    "\n",
    "# Calculating the F1 score\n",
    "f1_score = f1_score(target_test, predictions_test)\n",
    "print('F1 Score:', f1_score)"
   ]
  },
  {
   "cell_type": "code",
   "execution_count": 619,
   "metadata": {
    "colab": {
     "base_uri": "https://localhost:8080/",
     "height": 312
    },
    "id": "qr9f_c3pAzwg",
    "outputId": "dc8c53c2-cfff-4d70-8b0d-ec21bb88a548"
   },
   "outputs": [
    {
     "name": "stdout",
     "output_type": "stream",
     "text": [
      "AUC-ROC Score: 0.8635862364675924\n"
     ]
    },
    {
     "data": {
      "image/png": "[encoded data removed]",
      "text/plain": [
       "<Figure size 432x288 with 1 Axes>"
      ]
     },
     "metadata": {
      "needs_background": "light"
     },
     "output_type": "display_data"
    }
   ],
   "source": [
    "#ROC Curve\n",
    "probabilities_test = model.predict_proba(features_test)\n",
    "probabilities_one_test = probabilities_test[:, 1]\n",
    "\n",
    "fpr, tpr, thresholds = roc_curve(target_test, probabilities_one_test)\n",
    "\n",
    "# Plotting the graph\n",
    "plt.figure()\n",
    "plt.plot(fpr,tpr)\n",
    "\n",
    "# ROC curve for a random model (looks like straight line)\n",
    "plt.plot([0, 1], [0, 1], linestyle='--')\n",
    "\n",
    "# Setting boundaries for the axes from 0 to 1\n",
    "plt.xlim([0,1])\n",
    "plt.ylim([0,1])\n",
    "\n",
    "# Adding title and axes label\n",
    "plt.title('ROC Curve')\n",
    "plt.xlabel('False Positive Rate')\n",
    "plt.ylabel('True Positive Rate')\n",
    "\n",
    "#Roc-Auc Score\n",
    "print('AUC-ROC Score:', roc_auc_score(target_test, probabilities_one_test))"
   ]
  },
  {
   "cell_type": "markdown",
   "metadata": {
    "id": "DYsFw5qcB2_r"
   },
   "source": [
    "The best model for our data was the Random Forest model after downsampling. The F1 score was 55.2% and the AUC-ROC score was 0.84. "
   ]
  },
  {
   "cell_type": "markdown",
   "metadata": {
    "id": "M7yVMY6pCR7T"
   },
   "source": [
    "## Findings\n",
    "\n",
    "Before training the data, we encoded the categorical features using OHE. To avoid falling into the dummy trap feature, we safely removed one column. We split the source data in a 3:1:1 ratio: 60% training set, 20% validation set, and 20% test set.\n",
    "* The training set contains 6000 rows\n",
    "* The validation set contains 2000 rows\n",
    "* The test set contains 2000 rows\n",
    "Lastly, we standardized the numerical features of the data. \n",
    "\n",
    "\n",
    "After examining the balance of classes, we saw that there was a huge difference in dataset. We trained the model without taking the imbalance of classes into account, and found that the Random Forest model had the best F1 score at 57.6% and the highest AUC-ROC score at 0.71. \n",
    "\n",
    "\n",
    "To improve the quality of the model, we employed three different techniques to fix class imbalance: upsampling, downsampling, and adjusting the class weight.\n",
    "* Using upsampling, we found that the F1 and AUC-ROC score increased for the Decision Tree Classifier, the Random Forest,  and Logical Regression model.\n",
    "* Using downsampling, we found that the F1 score and AUC-ROC score increased for the Decision Tree Classifier model, the Random Forest and Logical Regression model.\n",
    "* Using the class_weight=’balanced’ argument, that F1 and AUC-ROC score for the Decision Tree Classifier, Random Forest and Logical Regression model. \n",
    "\n",
    "The F1 and AUC-ROC score was the best for the Decision Tree Classifier when using upsampling. The F1 and AUC-ROC score was the best for the Random Forest and Logical Regression model when using downsampling. Overall, the Random Forest produced the best F1 and AUC-ROC score. \n",
    "\n",
    "Upon final testing of the Random Forest model after upsampling, we found that the F1 score was 60.0% and that the AUC-ROC score was 0.84. An AUC-ROC score of 0.84 shows that the overall model of the quality has improved after fixing class imbalance. The model can now reliably predict whether a customer will leave the bank.\n"
   ]
  }
 ],
 "metadata": {
  "ExecuteTimeLog": [
   {
    "duration": 1787,
    "start_time": "2022-03-27T22:13:43.587Z"
   },
   {
    "duration": 130,
    "start_time": "2022-03-27T22:13:45.376Z"
   },
   {
    "duration": 16,
    "start_time": "2022-03-27T22:13:45.507Z"
   },
   {
    "duration": 4,
    "start_time": "2022-03-27T22:13:45.525Z"
   },
   {
    "duration": 16,
    "start_time": "2022-03-27T22:13:45.531Z"
   },
   {
    "duration": 15,
    "start_time": "2022-03-27T22:13:45.548Z"
   },
   {
    "duration": 36,
    "start_time": "2022-03-27T22:13:45.565Z"
   },
   {
    "duration": 8,
    "start_time": "2022-03-27T22:13:45.602Z"
   },
   {
    "duration": 6,
    "start_time": "2022-03-27T22:13:45.612Z"
   },
   {
    "duration": 6,
    "start_time": "2022-03-27T22:13:45.620Z"
   },
   {
    "duration": 21,
    "start_time": "2022-03-27T22:13:45.627Z"
   },
   {
    "duration": 6,
    "start_time": "2022-03-27T22:13:45.650Z"
   },
   {
    "duration": 12,
    "start_time": "2022-03-27T22:13:45.658Z"
   },
   {
    "duration": 31,
    "start_time": "2022-03-27T22:13:45.671Z"
   },
   {
    "duration": 17,
    "start_time": "2022-03-27T22:13:45.705Z"
   },
   {
    "duration": 11,
    "start_time": "2022-03-27T22:13:45.723Z"
   },
   {
    "duration": 5,
    "start_time": "2022-03-27T22:13:45.736Z"
   },
   {
    "duration": 116,
    "start_time": "2022-03-27T22:14:04.944Z"
   },
   {
    "duration": 16,
    "start_time": "2022-03-27T22:14:20.270Z"
   },
   {
    "duration": 9,
    "start_time": "2022-03-27T22:14:25.847Z"
   },
   {
    "duration": 8,
    "start_time": "2022-03-27T22:14:31.095Z"
   },
   {
    "duration": 13,
    "start_time": "2022-03-27T22:14:53.333Z"
   },
   {
    "duration": 24,
    "start_time": "2022-03-27T22:15:02.036Z"
   },
   {
    "duration": 10,
    "start_time": "2022-03-27T22:15:14.644Z"
   },
   {
    "duration": 8,
    "start_time": "2022-03-27T22:15:31.483Z"
   },
   {
    "duration": 1603,
    "start_time": "2022-03-27T22:19:15.705Z"
   },
   {
    "duration": 4,
    "start_time": "2022-03-27T22:19:25.487Z"
   },
   {
    "duration": 132,
    "start_time": "2022-03-27T22:19:25.493Z"
   },
   {
    "duration": 12,
    "start_time": "2022-03-27T22:19:25.627Z"
   },
   {
    "duration": 12,
    "start_time": "2022-03-27T22:19:25.641Z"
   },
   {
    "duration": 15,
    "start_time": "2022-03-27T22:19:25.656Z"
   },
   {
    "duration": 14,
    "start_time": "2022-03-27T22:19:25.673Z"
   },
   {
    "duration": 16,
    "start_time": "2022-03-27T22:19:25.689Z"
   },
   {
    "duration": 7,
    "start_time": "2022-03-27T22:19:25.707Z"
   },
   {
    "duration": 18,
    "start_time": "2022-03-27T22:19:25.716Z"
   },
   {
    "duration": 10,
    "start_time": "2022-03-27T22:19:25.736Z"
   },
   {
    "duration": 22,
    "start_time": "2022-03-27T22:19:25.749Z"
   },
   {
    "duration": 7,
    "start_time": "2022-03-27T22:19:25.773Z"
   },
   {
    "duration": 17,
    "start_time": "2022-03-27T22:19:25.782Z"
   },
   {
    "duration": 19,
    "start_time": "2022-03-27T22:19:25.801Z"
   },
   {
    "duration": 16,
    "start_time": "2022-03-27T22:19:25.822Z"
   },
   {
    "duration": 23,
    "start_time": "2022-03-27T22:19:25.840Z"
   },
   {
    "duration": 13,
    "start_time": "2022-03-27T22:19:25.865Z"
   },
   {
    "duration": 18,
    "start_time": "2022-03-27T22:19:25.880Z"
   },
   {
    "duration": 16,
    "start_time": "2022-03-27T22:19:25.900Z"
   },
   {
    "duration": 18,
    "start_time": "2022-03-27T22:19:25.918Z"
   },
   {
    "duration": 55,
    "start_time": "2022-03-27T22:19:25.938Z"
   },
   {
    "duration": 7,
    "start_time": "2022-03-27T22:19:25.995Z"
   },
   {
    "duration": 128,
    "start_time": "2022-03-27T22:19:26.003Z"
   },
   {
    "duration": 1306,
    "start_time": "2022-03-27T22:20:18.853Z"
   },
   {
    "duration": 26,
    "start_time": "2022-03-27T22:20:58.663Z"
   },
   {
    "duration": 5,
    "start_time": "2022-03-27T22:21:03.952Z"
   },
   {
    "duration": 1410,
    "start_time": "2022-03-27T22:21:14.747Z"
   },
   {
    "duration": 8421,
    "start_time": "2022-03-27T22:23:24.666Z"
   },
   {
    "duration": 8307,
    "start_time": "2022-03-27T22:23:37.782Z"
   },
   {
    "duration": 11,
    "start_time": "2022-03-27T22:24:54.308Z"
   },
   {
    "duration": 12,
    "start_time": "2022-03-27T22:24:58.600Z"
   },
   {
    "duration": 45,
    "start_time": "2022-03-27T22:25:01.786Z"
   },
   {
    "duration": 405,
    "start_time": "2022-03-27T22:26:01.377Z"
   },
   {
    "duration": 457,
    "start_time": "2022-03-27T22:26:13.594Z"
   },
   {
    "duration": 12,
    "start_time": "2022-03-27T22:26:35.791Z"
   },
   {
    "duration": 18,
    "start_time": "2022-03-27T22:26:58.990Z"
   },
   {
    "duration": 172,
    "start_time": "2022-03-27T22:27:53.299Z"
   },
   {
    "duration": 36,
    "start_time": "2022-03-27T22:28:37.399Z"
   },
   {
    "duration": 308,
    "start_time": "2022-03-27T22:29:52.259Z"
   },
   {
    "duration": 158,
    "start_time": "2022-03-27T22:37:24.943Z"
   },
   {
    "duration": 312,
    "start_time": "2022-03-27T22:38:03.790Z"
   },
   {
    "duration": 337,
    "start_time": "2022-03-27T22:38:08.001Z"
   },
   {
    "duration": 205,
    "start_time": "2022-03-27T22:39:19.762Z"
   },
   {
    "duration": 4,
    "start_time": "2022-03-27T22:39:32.752Z"
   },
   {
    "duration": 134,
    "start_time": "2022-03-27T22:39:32.758Z"
   },
   {
    "duration": 12,
    "start_time": "2022-03-27T22:39:32.894Z"
   },
   {
    "duration": 4,
    "start_time": "2022-03-27T22:39:32.908Z"
   },
   {
    "duration": 12,
    "start_time": "2022-03-27T22:39:32.915Z"
   },
   {
    "duration": 12,
    "start_time": "2022-03-27T22:39:32.928Z"
   },
   {
    "duration": 14,
    "start_time": "2022-03-27T22:39:32.941Z"
   },
   {
    "duration": 8,
    "start_time": "2022-03-27T22:39:32.957Z"
   },
   {
    "duration": 6,
    "start_time": "2022-03-27T22:39:33.001Z"
   },
   {
    "duration": 5,
    "start_time": "2022-03-27T22:39:33.009Z"
   },
   {
    "duration": 10,
    "start_time": "2022-03-27T22:39:33.018Z"
   },
   {
    "duration": 6,
    "start_time": "2022-03-27T22:39:33.030Z"
   },
   {
    "duration": 9,
    "start_time": "2022-03-27T22:39:33.037Z"
   },
   {
    "duration": 62,
    "start_time": "2022-03-27T22:39:33.047Z"
   },
   {
    "duration": 12,
    "start_time": "2022-03-27T22:39:33.110Z"
   },
   {
    "duration": 11,
    "start_time": "2022-03-27T22:39:33.124Z"
   },
   {
    "duration": 4,
    "start_time": "2022-03-27T22:39:33.137Z"
   },
   {
    "duration": 7,
    "start_time": "2022-03-27T22:39:33.143Z"
   },
   {
    "duration": 8,
    "start_time": "2022-03-27T22:39:33.152Z"
   },
   {
    "duration": 40,
    "start_time": "2022-03-27T22:39:33.161Z"
   },
   {
    "duration": 33,
    "start_time": "2022-03-27T22:39:33.203Z"
   },
   {
    "duration": 6,
    "start_time": "2022-03-27T22:39:33.237Z"
   },
   {
    "duration": 113,
    "start_time": "2022-03-27T22:39:33.244Z"
   },
   {
    "duration": 1268,
    "start_time": "2022-03-27T22:39:33.359Z"
   },
   {
    "duration": 8473,
    "start_time": "2022-03-27T22:39:34.628Z"
   },
   {
    "duration": 107,
    "start_time": "2022-03-27T22:39:43.102Z"
   },
   {
    "duration": 101,
    "start_time": "2022-03-27T22:39:43.211Z"
   },
   {
    "duration": 34,
    "start_time": "2022-03-27T22:39:43.313Z"
   },
   {
    "duration": 471,
    "start_time": "2022-03-27T22:39:43.350Z"
   },
   {
    "duration": 82,
    "start_time": "2022-03-27T22:39:43.822Z"
   },
   {
    "duration": 102,
    "start_time": "2022-03-27T22:39:43.906Z"
   },
   {
    "duration": 19,
    "start_time": "2022-03-27T22:39:44.010Z"
   },
   {
    "duration": 192,
    "start_time": "2022-03-27T22:39:44.030Z"
   },
   {
    "duration": 92,
    "start_time": "2022-03-27T22:39:44.223Z"
   },
   {
    "duration": 190,
    "start_time": "2022-03-27T22:39:44.316Z"
   },
   {
    "duration": 327,
    "start_time": "2022-03-27T22:39:44.507Z"
   },
   {
    "duration": 24,
    "start_time": "2022-03-27T22:39:44.836Z"
   },
   {
    "duration": 0,
    "start_time": "2022-03-27T22:39:45.133Z"
   },
   {
    "duration": 281,
    "start_time": "2022-03-27T22:39:51.779Z"
   },
   {
    "duration": 161,
    "start_time": "2022-03-27T22:40:20.053Z"
   },
   {
    "duration": 152,
    "start_time": "2022-03-27T22:40:22.528Z"
   },
   {
    "duration": 4,
    "start_time": "2022-03-27T22:40:29.362Z"
   },
   {
    "duration": 166,
    "start_time": "2022-03-27T22:40:29.370Z"
   },
   {
    "duration": 11,
    "start_time": "2022-03-27T22:40:29.538Z"
   },
   {
    "duration": 4,
    "start_time": "2022-03-27T22:40:29.551Z"
   },
   {
    "duration": 12,
    "start_time": "2022-03-27T22:40:29.557Z"
   },
   {
    "duration": 11,
    "start_time": "2022-03-27T22:40:29.571Z"
   },
   {
    "duration": 29,
    "start_time": "2022-03-27T22:40:29.584Z"
   },
   {
    "duration": 7,
    "start_time": "2022-03-27T22:40:29.614Z"
   },
   {
    "duration": 4,
    "start_time": "2022-03-27T22:40:29.622Z"
   },
   {
    "duration": 5,
    "start_time": "2022-03-27T22:40:29.627Z"
   },
   {
    "duration": 13,
    "start_time": "2022-03-27T22:40:29.635Z"
   },
   {
    "duration": 6,
    "start_time": "2022-03-27T22:40:29.649Z"
   },
   {
    "duration": 46,
    "start_time": "2022-03-27T22:40:29.657Z"
   },
   {
    "duration": 11,
    "start_time": "2022-03-27T22:40:29.705Z"
   },
   {
    "duration": 13,
    "start_time": "2022-03-27T22:40:29.717Z"
   },
   {
    "duration": 10,
    "start_time": "2022-03-27T22:40:29.731Z"
   },
   {
    "duration": 6,
    "start_time": "2022-03-27T22:40:29.742Z"
   },
   {
    "duration": 10,
    "start_time": "2022-03-27T22:40:29.749Z"
   },
   {
    "duration": 40,
    "start_time": "2022-03-27T22:40:29.761Z"
   },
   {
    "duration": 3,
    "start_time": "2022-03-27T22:40:29.803Z"
   },
   {
    "duration": 31,
    "start_time": "2022-03-27T22:40:29.808Z"
   },
   {
    "duration": 6,
    "start_time": "2022-03-27T22:40:29.841Z"
   },
   {
    "duration": 160,
    "start_time": "2022-03-27T22:40:29.849Z"
   },
   {
    "duration": 1355,
    "start_time": "2022-03-27T22:40:30.010Z"
   },
   {
    "duration": 8591,
    "start_time": "2022-03-27T22:40:31.367Z"
   },
   {
    "duration": 142,
    "start_time": "2022-03-27T22:40:39.960Z"
   },
   {
    "duration": 96,
    "start_time": "2022-03-27T22:40:40.106Z"
   },
   {
    "duration": 32,
    "start_time": "2022-03-27T22:40:40.204Z"
   },
   {
    "duration": 453,
    "start_time": "2022-03-27T22:40:40.240Z"
   },
   {
    "duration": 33,
    "start_time": "2022-03-27T22:40:40.695Z"
   },
   {
    "duration": 98,
    "start_time": "2022-03-27T22:40:40.805Z"
   },
   {
    "duration": 19,
    "start_time": "2022-03-27T22:40:40.905Z"
   },
   {
    "duration": 206,
    "start_time": "2022-03-27T22:40:40.926Z"
   },
   {
    "duration": 168,
    "start_time": "2022-03-27T22:40:41.134Z"
   },
   {
    "duration": 122,
    "start_time": "2022-03-27T22:40:41.305Z"
   },
   {
    "duration": 318,
    "start_time": "2022-03-27T22:40:41.429Z"
   },
   {
    "duration": 64,
    "start_time": "2022-03-27T22:40:41.749Z"
   },
   {
    "duration": 332,
    "start_time": "2022-03-27T22:40:41.816Z"
   },
   {
    "duration": 440,
    "start_time": "2022-03-27T22:41:16.070Z"
   },
   {
    "duration": 4,
    "start_time": "2022-03-27T22:41:22.293Z"
   },
   {
    "duration": 141,
    "start_time": "2022-03-27T22:41:22.299Z"
   },
   {
    "duration": 12,
    "start_time": "2022-03-27T22:41:22.442Z"
   },
   {
    "duration": 5,
    "start_time": "2022-03-27T22:41:22.456Z"
   },
   {
    "duration": 16,
    "start_time": "2022-03-27T22:41:22.463Z"
   },
   {
    "duration": 12,
    "start_time": "2022-03-27T22:41:22.481Z"
   },
   {
    "duration": 20,
    "start_time": "2022-03-27T22:41:22.495Z"
   },
   {
    "duration": 8,
    "start_time": "2022-03-27T22:41:22.516Z"
   },
   {
    "duration": 5,
    "start_time": "2022-03-27T22:41:22.525Z"
   },
   {
    "duration": 8,
    "start_time": "2022-03-27T22:41:22.532Z"
   },
   {
    "duration": 13,
    "start_time": "2022-03-27T22:41:22.543Z"
   },
   {
    "duration": 44,
    "start_time": "2022-03-27T22:41:22.557Z"
   },
   {
    "duration": 8,
    "start_time": "2022-03-27T22:41:22.603Z"
   },
   {
    "duration": 10,
    "start_time": "2022-03-27T22:41:22.612Z"
   },
   {
    "duration": 13,
    "start_time": "2022-03-27T22:41:22.623Z"
   },
   {
    "duration": 9,
    "start_time": "2022-03-27T22:41:22.638Z"
   },
   {
    "duration": 6,
    "start_time": "2022-03-27T22:41:22.648Z"
   },
   {
    "duration": 51,
    "start_time": "2022-03-27T22:41:22.655Z"
   },
   {
    "duration": 4,
    "start_time": "2022-03-27T22:41:22.708Z"
   },
   {
    "duration": 3,
    "start_time": "2022-03-27T22:41:22.714Z"
   },
   {
    "duration": 30,
    "start_time": "2022-03-27T22:41:22.719Z"
   },
   {
    "duration": 6,
    "start_time": "2022-03-27T22:41:22.750Z"
   },
   {
    "duration": 132,
    "start_time": "2022-03-27T22:41:22.757Z"
   },
   {
    "duration": 1270,
    "start_time": "2022-03-27T22:41:22.890Z"
   },
   {
    "duration": 8285,
    "start_time": "2022-03-27T22:41:24.161Z"
   },
   {
    "duration": 154,
    "start_time": "2022-03-27T22:41:32.448Z"
   },
   {
    "duration": 18,
    "start_time": "2022-03-27T22:41:32.605Z"
   },
   {
    "duration": 106,
    "start_time": "2022-03-27T22:41:32.624Z"
   },
   {
    "duration": 430,
    "start_time": "2022-03-27T22:41:32.733Z"
   },
   {
    "duration": 145,
    "start_time": "2022-03-27T22:41:33.165Z"
   },
   {
    "duration": 18,
    "start_time": "2022-03-27T22:41:33.402Z"
   },
   {
    "duration": 79,
    "start_time": "2022-03-27T22:41:33.422Z"
   },
   {
    "duration": 356,
    "start_time": "2022-03-27T22:41:33.503Z"
   },
   {
    "duration": 145,
    "start_time": "2022-03-27T22:41:33.861Z"
   },
   {
    "duration": 208,
    "start_time": "2022-03-27T22:41:34.008Z"
   },
   {
    "duration": 337,
    "start_time": "2022-03-27T22:41:34.218Z"
   },
   {
    "duration": 49,
    "start_time": "2022-03-27T22:41:34.556Z"
   },
   {
    "duration": 593,
    "start_time": "2022-03-27T22:41:34.608Z"
   },
   {
    "duration": 4,
    "start_time": "2022-03-27T22:42:08.221Z"
   },
   {
    "duration": 143,
    "start_time": "2022-03-27T22:42:08.227Z"
   },
   {
    "duration": 12,
    "start_time": "2022-03-27T22:42:08.372Z"
   },
   {
    "duration": 10,
    "start_time": "2022-03-27T22:42:08.385Z"
   },
   {
    "duration": 14,
    "start_time": "2022-03-27T22:42:08.397Z"
   },
   {
    "duration": 14,
    "start_time": "2022-03-27T22:42:08.413Z"
   },
   {
    "duration": 12,
    "start_time": "2022-03-27T22:42:08.429Z"
   },
   {
    "duration": 8,
    "start_time": "2022-03-27T22:42:08.443Z"
   },
   {
    "duration": 4,
    "start_time": "2022-03-27T22:42:08.452Z"
   },
   {
    "duration": 7,
    "start_time": "2022-03-27T22:42:08.458Z"
   },
   {
    "duration": 40,
    "start_time": "2022-03-27T22:42:08.468Z"
   },
   {
    "duration": 5,
    "start_time": "2022-03-27T22:42:08.510Z"
   },
   {
    "duration": 10,
    "start_time": "2022-03-27T22:42:08.517Z"
   },
   {
    "duration": 14,
    "start_time": "2022-03-27T22:42:08.529Z"
   },
   {
    "duration": 14,
    "start_time": "2022-03-27T22:42:08.544Z"
   },
   {
    "duration": 50,
    "start_time": "2022-03-27T22:42:08.560Z"
   },
   {
    "duration": 6,
    "start_time": "2022-03-27T22:42:08.612Z"
   },
   {
    "duration": 10,
    "start_time": "2022-03-27T22:42:08.620Z"
   },
   {
    "duration": 6,
    "start_time": "2022-03-27T22:42:08.631Z"
   },
   {
    "duration": 12,
    "start_time": "2022-03-27T22:42:08.638Z"
   },
   {
    "duration": 69,
    "start_time": "2022-03-27T22:42:08.652Z"
   },
   {
    "duration": 6,
    "start_time": "2022-03-27T22:42:08.723Z"
   },
   {
    "duration": 111,
    "start_time": "2022-03-27T22:42:08.731Z"
   },
   {
    "duration": 1327,
    "start_time": "2022-03-27T22:42:08.844Z"
   },
   {
    "duration": 8690,
    "start_time": "2022-03-27T22:42:10.173Z"
   },
   {
    "duration": 154,
    "start_time": "2022-03-27T22:42:18.865Z"
   },
   {
    "duration": 13,
    "start_time": "2022-03-27T22:42:19.101Z"
   },
   {
    "duration": 32,
    "start_time": "2022-03-27T22:42:19.116Z"
   },
   {
    "duration": 468,
    "start_time": "2022-03-27T22:42:19.151Z"
   },
   {
    "duration": 91,
    "start_time": "2022-03-27T22:42:19.620Z"
   },
   {
    "duration": 190,
    "start_time": "2022-03-27T22:42:19.713Z"
   },
   {
    "duration": 21,
    "start_time": "2022-03-27T22:42:19.905Z"
   },
   {
    "duration": 202,
    "start_time": "2022-03-27T22:42:19.928Z"
   },
   {
    "duration": 272,
    "start_time": "2022-03-27T22:42:20.131Z"
   },
   {
    "duration": 123,
    "start_time": "2022-03-27T22:42:20.406Z"
   },
   {
    "duration": 319,
    "start_time": "2022-03-27T22:42:20.530Z"
   },
   {
    "duration": 54,
    "start_time": "2022-03-27T22:42:20.851Z"
   },
   {
    "duration": 206,
    "start_time": "2022-03-27T22:42:20.908Z"
   },
   {
    "duration": 8288,
    "start_time": "2022-03-27T22:43:22.984Z"
   },
   {
    "duration": 5,
    "start_time": "2022-03-27T22:43:35.866Z"
   },
   {
    "duration": 123,
    "start_time": "2022-03-27T22:43:35.873Z"
   },
   {
    "duration": 13,
    "start_time": "2022-03-27T22:43:35.997Z"
   },
   {
    "duration": 4,
    "start_time": "2022-03-27T22:43:36.012Z"
   },
   {
    "duration": 12,
    "start_time": "2022-03-27T22:43:36.018Z"
   },
   {
    "duration": 11,
    "start_time": "2022-03-27T22:43:36.032Z"
   },
   {
    "duration": 13,
    "start_time": "2022-03-27T22:43:36.045Z"
   },
   {
    "duration": 45,
    "start_time": "2022-03-27T22:43:36.060Z"
   },
   {
    "duration": 5,
    "start_time": "2022-03-27T22:43:36.107Z"
   },
   {
    "duration": 5,
    "start_time": "2022-03-27T22:43:36.113Z"
   },
   {
    "duration": 9,
    "start_time": "2022-03-27T22:43:36.120Z"
   },
   {
    "duration": 5,
    "start_time": "2022-03-27T22:43:36.131Z"
   },
   {
    "duration": 10,
    "start_time": "2022-03-27T22:43:36.138Z"
   },
   {
    "duration": 59,
    "start_time": "2022-03-27T22:43:36.150Z"
   },
   {
    "duration": 13,
    "start_time": "2022-03-27T22:43:36.211Z"
   },
   {
    "duration": 12,
    "start_time": "2022-03-27T22:43:36.225Z"
   },
   {
    "duration": 5,
    "start_time": "2022-03-27T22:43:36.238Z"
   },
   {
    "duration": 9,
    "start_time": "2022-03-27T22:43:36.244Z"
   },
   {
    "duration": 5,
    "start_time": "2022-03-27T22:43:36.255Z"
   },
   {
    "duration": 3,
    "start_time": "2022-03-27T22:43:36.301Z"
   },
   {
    "duration": 30,
    "start_time": "2022-03-27T22:43:36.305Z"
   },
   {
    "duration": 4,
    "start_time": "2022-03-27T22:43:36.337Z"
   },
   {
    "duration": 121,
    "start_time": "2022-03-27T22:43:36.343Z"
   },
   {
    "duration": 1696,
    "start_time": "2022-03-27T22:43:36.467Z"
   },
   {
    "duration": 8156,
    "start_time": "2022-03-27T22:43:38.164Z"
   },
   {
    "duration": 82,
    "start_time": "2022-03-27T22:43:46.322Z"
   },
   {
    "duration": 101,
    "start_time": "2022-03-27T22:43:46.406Z"
   },
   {
    "duration": 31,
    "start_time": "2022-03-27T22:43:46.509Z"
   },
   {
    "duration": 452,
    "start_time": "2022-03-27T22:43:46.541Z"
   },
   {
    "duration": 113,
    "start_time": "2022-03-27T22:43:46.994Z"
   },
   {
    "duration": 97,
    "start_time": "2022-03-27T22:43:47.110Z"
   },
   {
    "duration": 18,
    "start_time": "2022-03-27T22:43:47.208Z"
   },
   {
    "duration": 209,
    "start_time": "2022-03-27T22:43:47.228Z"
   },
   {
    "duration": 173,
    "start_time": "2022-03-27T22:43:47.439Z"
   },
   {
    "duration": 128,
    "start_time": "2022-03-27T22:43:47.702Z"
   },
   {
    "duration": 317,
    "start_time": "2022-03-27T22:43:47.831Z"
   },
   {
    "duration": 54,
    "start_time": "2022-03-27T22:43:48.151Z"
   },
   {
    "duration": 196,
    "start_time": "2022-03-27T22:43:48.208Z"
   },
   {
    "duration": 122,
    "start_time": "2022-03-27T22:43:48.405Z"
   },
   {
    "duration": 398,
    "start_time": "2022-03-27T22:44:46.322Z"
   },
   {
    "duration": 5,
    "start_time": "2022-03-27T22:44:50.545Z"
   },
   {
    "duration": 125,
    "start_time": "2022-03-27T22:44:50.552Z"
   },
   {
    "duration": 11,
    "start_time": "2022-03-27T22:44:50.679Z"
   },
   {
    "duration": 5,
    "start_time": "2022-03-27T22:44:50.692Z"
   },
   {
    "duration": 13,
    "start_time": "2022-03-27T22:44:50.698Z"
   },
   {
    "duration": 12,
    "start_time": "2022-03-27T22:44:50.712Z"
   },
   {
    "duration": 14,
    "start_time": "2022-03-27T22:44:50.725Z"
   },
   {
    "duration": 7,
    "start_time": "2022-03-27T22:44:50.740Z"
   },
   {
    "duration": 4,
    "start_time": "2022-03-27T22:44:50.748Z"
   },
   {
    "duration": 5,
    "start_time": "2022-03-27T22:44:50.755Z"
   },
   {
    "duration": 8,
    "start_time": "2022-03-27T22:44:50.800Z"
   },
   {
    "duration": 4,
    "start_time": "2022-03-27T22:44:50.810Z"
   },
   {
    "duration": 8,
    "start_time": "2022-03-27T22:44:50.816Z"
   },
   {
    "duration": 12,
    "start_time": "2022-03-27T22:44:50.825Z"
   },
   {
    "duration": 12,
    "start_time": "2022-03-27T22:44:50.838Z"
   },
   {
    "duration": 54,
    "start_time": "2022-03-27T22:44:50.852Z"
   },
   {
    "duration": 6,
    "start_time": "2022-03-27T22:44:50.907Z"
   },
   {
    "duration": 9,
    "start_time": "2022-03-27T22:44:50.914Z"
   },
   {
    "duration": 4,
    "start_time": "2022-03-27T22:44:50.925Z"
   },
   {
    "duration": 6,
    "start_time": "2022-03-27T22:44:50.931Z"
   },
   {
    "duration": 36,
    "start_time": "2022-03-27T22:44:50.938Z"
   },
   {
    "duration": 29,
    "start_time": "2022-03-27T22:44:50.976Z"
   },
   {
    "duration": 118,
    "start_time": "2022-03-27T22:44:51.007Z"
   },
   {
    "duration": 1233,
    "start_time": "2022-03-27T22:44:51.127Z"
   },
   {
    "duration": 8150,
    "start_time": "2022-03-27T22:44:52.362Z"
   },
   {
    "duration": 90,
    "start_time": "2022-03-27T22:45:00.513Z"
   },
   {
    "duration": 101,
    "start_time": "2022-03-27T22:45:00.606Z"
   },
   {
    "duration": 32,
    "start_time": "2022-03-27T22:45:00.710Z"
   },
   {
    "duration": 458,
    "start_time": "2022-03-27T22:45:00.743Z"
   },
   {
    "duration": 185,
    "start_time": "2022-03-27T22:45:17.414Z"
   },
   {
    "duration": 307,
    "start_time": "2022-03-27T22:45:36.336Z"
   },
   {
    "duration": 4,
    "start_time": "2022-03-27T22:46:13.073Z"
   },
   {
    "duration": 134,
    "start_time": "2022-03-27T22:46:13.082Z"
   },
   {
    "duration": 12,
    "start_time": "2022-03-27T22:46:13.219Z"
   },
   {
    "duration": 6,
    "start_time": "2022-03-27T22:46:13.233Z"
   },
   {
    "duration": 13,
    "start_time": "2022-03-27T22:46:13.241Z"
   },
   {
    "duration": 50,
    "start_time": "2022-03-27T22:46:13.255Z"
   },
   {
    "duration": 19,
    "start_time": "2022-03-27T22:46:13.307Z"
   },
   {
    "duration": 10,
    "start_time": "2022-03-27T22:46:13.328Z"
   },
   {
    "duration": 5,
    "start_time": "2022-03-27T22:46:13.340Z"
   },
   {
    "duration": 4,
    "start_time": "2022-03-27T22:46:13.347Z"
   },
   {
    "duration": 49,
    "start_time": "2022-03-27T22:46:13.354Z"
   },
   {
    "duration": 5,
    "start_time": "2022-03-27T22:46:13.405Z"
   },
   {
    "duration": 9,
    "start_time": "2022-03-27T22:46:13.412Z"
   },
   {
    "duration": 17,
    "start_time": "2022-03-27T22:46:13.423Z"
   },
   {
    "duration": 60,
    "start_time": "2022-03-27T22:46:13.441Z"
   },
   {
    "duration": 11,
    "start_time": "2022-03-27T22:46:13.504Z"
   },
   {
    "duration": 5,
    "start_time": "2022-03-27T22:46:13.517Z"
   },
   {
    "duration": 12,
    "start_time": "2022-03-27T22:46:13.525Z"
   },
   {
    "duration": 7,
    "start_time": "2022-03-27T22:46:13.539Z"
   },
   {
    "duration": 6,
    "start_time": "2022-03-27T22:46:13.548Z"
   },
   {
    "duration": 84,
    "start_time": "2022-03-27T22:46:13.556Z"
   },
   {
    "duration": 6,
    "start_time": "2022-03-27T22:46:13.642Z"
   },
   {
    "duration": 118,
    "start_time": "2022-03-27T22:46:13.650Z"
   },
   {
    "duration": 1356,
    "start_time": "2022-03-27T22:46:13.770Z"
   },
   {
    "duration": 9067,
    "start_time": "2022-03-27T22:46:15.129Z"
   },
   {
    "duration": 115,
    "start_time": "2022-03-27T22:46:24.201Z"
   },
   {
    "duration": 14,
    "start_time": "2022-03-27T22:46:24.402Z"
   },
   {
    "duration": 31,
    "start_time": "2022-03-27T22:46:24.418Z"
   },
   {
    "duration": 448,
    "start_time": "2022-03-27T22:46:24.453Z"
   },
   {
    "duration": 99,
    "start_time": "2022-03-27T22:46:24.903Z"
   },
   {
    "duration": 105,
    "start_time": "2022-03-27T22:46:25.004Z"
   },
   {
    "duration": 19,
    "start_time": "2022-03-27T22:46:25.111Z"
   },
   {
    "duration": 195,
    "start_time": "2022-03-27T22:46:25.132Z"
   },
   {
    "duration": 86,
    "start_time": "2022-03-27T22:46:25.329Z"
   },
   {
    "duration": 129,
    "start_time": "2022-03-27T22:46:25.502Z"
   },
   {
    "duration": 311,
    "start_time": "2022-03-27T22:46:25.633Z"
   },
   {
    "duration": 165,
    "start_time": "2022-03-27T22:46:25.945Z"
   },
   {
    "duration": 422,
    "start_time": "2022-03-27T22:46:26.112Z"
   },
   {
    "duration": 160,
    "start_time": "2022-03-27T22:46:50.088Z"
   },
   {
    "duration": 5,
    "start_time": "2022-03-27T22:46:53.501Z"
   },
   {
    "duration": 128,
    "start_time": "2022-03-27T22:46:53.508Z"
   },
   {
    "duration": 12,
    "start_time": "2022-03-27T22:46:53.638Z"
   },
   {
    "duration": 3,
    "start_time": "2022-03-27T22:46:53.652Z"
   },
   {
    "duration": 13,
    "start_time": "2022-03-27T22:46:53.657Z"
   },
   {
    "duration": 11,
    "start_time": "2022-03-27T22:46:53.671Z"
   },
   {
    "duration": 25,
    "start_time": "2022-03-27T22:46:53.683Z"
   },
   {
    "duration": 7,
    "start_time": "2022-03-27T22:46:53.710Z"
   },
   {
    "duration": 4,
    "start_time": "2022-03-27T22:46:53.719Z"
   },
   {
    "duration": 4,
    "start_time": "2022-03-27T22:46:53.725Z"
   },
   {
    "duration": 14,
    "start_time": "2022-03-27T22:46:53.731Z"
   },
   {
    "duration": 4,
    "start_time": "2022-03-27T22:46:53.747Z"
   },
   {
    "duration": 10,
    "start_time": "2022-03-27T22:46:53.753Z"
   },
   {
    "duration": 11,
    "start_time": "2022-03-27T22:46:53.801Z"
   },
   {
    "duration": 12,
    "start_time": "2022-03-27T22:46:53.814Z"
   },
   {
    "duration": 10,
    "start_time": "2022-03-27T22:46:53.828Z"
   },
   {
    "duration": 5,
    "start_time": "2022-03-27T22:46:53.839Z"
   },
   {
    "duration": 11,
    "start_time": "2022-03-27T22:46:53.845Z"
   },
   {
    "duration": 5,
    "start_time": "2022-03-27T22:46:53.858Z"
   },
   {
    "duration": 3,
    "start_time": "2022-03-27T22:46:53.901Z"
   },
   {
    "duration": 34,
    "start_time": "2022-03-27T22:46:53.905Z"
   },
   {
    "duration": 6,
    "start_time": "2022-03-27T22:46:53.940Z"
   },
   {
    "duration": 117,
    "start_time": "2022-03-27T22:46:53.948Z"
   },
   {
    "duration": 1216,
    "start_time": "2022-03-27T22:46:54.067Z"
   },
   {
    "duration": 8165,
    "start_time": "2022-03-27T22:46:55.285Z"
   },
   {
    "duration": 153,
    "start_time": "2022-03-27T22:47:03.452Z"
   },
   {
    "duration": 107,
    "start_time": "2022-03-27T22:47:03.606Z"
   },
   {
    "duration": 32,
    "start_time": "2022-03-27T22:47:03.718Z"
   },
   {
    "duration": 451,
    "start_time": "2022-03-27T22:47:03.752Z"
   },
   {
    "duration": 105,
    "start_time": "2022-03-27T22:47:04.205Z"
   },
   {
    "duration": 104,
    "start_time": "2022-03-27T22:47:04.312Z"
   },
   {
    "duration": 99,
    "start_time": "2022-03-27T22:47:04.418Z"
   },
   {
    "duration": 184,
    "start_time": "2022-03-27T22:47:04.519Z"
   },
   {
    "duration": 114,
    "start_time": "2022-03-27T22:47:04.705Z"
   },
   {
    "duration": 127,
    "start_time": "2022-03-27T22:47:04.902Z"
   },
   {
    "duration": 453,
    "start_time": "2022-03-27T22:47:05.031Z"
   },
   {
    "duration": 30,
    "start_time": "2022-03-27T22:47:05.487Z"
   },
   {
    "duration": 175,
    "start_time": "2022-03-27T22:47:05.858Z"
   },
   {
    "duration": 4,
    "start_time": "2022-03-27T22:47:12.086Z"
   },
   {
    "duration": 139,
    "start_time": "2022-03-27T22:47:12.091Z"
   },
   {
    "duration": 12,
    "start_time": "2022-03-27T22:47:12.232Z"
   },
   {
    "duration": 10,
    "start_time": "2022-03-27T22:47:12.246Z"
   },
   {
    "duration": 25,
    "start_time": "2022-03-27T22:47:12.257Z"
   },
   {
    "duration": 12,
    "start_time": "2022-03-27T22:47:12.283Z"
   },
   {
    "duration": 16,
    "start_time": "2022-03-27T22:47:12.297Z"
   },
   {
    "duration": 7,
    "start_time": "2022-03-27T22:47:12.315Z"
   },
   {
    "duration": 14,
    "start_time": "2022-03-27T22:47:12.324Z"
   },
   {
    "duration": 11,
    "start_time": "2022-03-27T22:47:12.340Z"
   },
   {
    "duration": 18,
    "start_time": "2022-03-27T22:47:12.353Z"
   },
   {
    "duration": 7,
    "start_time": "2022-03-27T22:47:12.373Z"
   },
   {
    "duration": 9,
    "start_time": "2022-03-27T22:47:12.401Z"
   },
   {
    "duration": 21,
    "start_time": "2022-03-27T22:47:12.412Z"
   },
   {
    "duration": 20,
    "start_time": "2022-03-27T22:47:12.435Z"
   },
   {
    "duration": 15,
    "start_time": "2022-03-27T22:47:12.457Z"
   },
   {
    "duration": 28,
    "start_time": "2022-03-27T22:47:12.474Z"
   },
   {
    "duration": 23,
    "start_time": "2022-03-27T22:47:12.504Z"
   },
   {
    "duration": 13,
    "start_time": "2022-03-27T22:47:12.529Z"
   },
   {
    "duration": 13,
    "start_time": "2022-03-27T22:47:12.544Z"
   },
   {
    "duration": 50,
    "start_time": "2022-03-27T22:47:12.559Z"
   },
   {
    "duration": 5,
    "start_time": "2022-03-27T22:47:12.610Z"
   },
   {
    "duration": 107,
    "start_time": "2022-03-27T22:47:12.617Z"
   },
   {
    "duration": 1332,
    "start_time": "2022-03-27T22:47:12.727Z"
   },
   {
    "duration": 10005,
    "start_time": "2022-03-27T22:47:14.061Z"
   },
   {
    "duration": 133,
    "start_time": "2022-03-27T22:47:24.068Z"
   },
   {
    "duration": 101,
    "start_time": "2022-03-27T22:47:24.204Z"
   },
   {
    "duration": 30,
    "start_time": "2022-03-27T22:47:24.306Z"
   },
   {
    "duration": 418,
    "start_time": "2022-03-27T22:47:24.337Z"
   },
   {
    "duration": 49,
    "start_time": "2022-03-27T22:47:24.756Z"
   },
   {
    "duration": 105,
    "start_time": "2022-03-27T22:47:24.808Z"
   },
   {
    "duration": 104,
    "start_time": "2022-03-27T22:47:24.915Z"
   },
   {
    "duration": 181,
    "start_time": "2022-03-27T22:47:25.021Z"
   },
   {
    "duration": 103,
    "start_time": "2022-03-27T22:47:25.203Z"
   },
   {
    "duration": 211,
    "start_time": "2022-03-27T22:47:25.308Z"
   },
   {
    "duration": 321,
    "start_time": "2022-03-27T22:47:25.521Z"
   },
   {
    "duration": 67,
    "start_time": "2022-03-27T22:47:25.844Z"
   },
   {
    "duration": 239,
    "start_time": "2022-03-27T22:47:26.020Z"
   },
   {
    "duration": 4,
    "start_time": "2022-03-27T22:47:48.289Z"
   },
   {
    "duration": 129,
    "start_time": "2022-03-27T22:47:48.296Z"
   },
   {
    "duration": 13,
    "start_time": "2022-03-27T22:47:48.427Z"
   },
   {
    "duration": 5,
    "start_time": "2022-03-27T22:47:48.441Z"
   },
   {
    "duration": 12,
    "start_time": "2022-03-27T22:47:48.447Z"
   },
   {
    "duration": 11,
    "start_time": "2022-03-27T22:47:48.461Z"
   },
   {
    "duration": 33,
    "start_time": "2022-03-27T22:47:48.473Z"
   },
   {
    "duration": 7,
    "start_time": "2022-03-27T22:47:48.508Z"
   },
   {
    "duration": 4,
    "start_time": "2022-03-27T22:47:48.517Z"
   },
   {
    "duration": 5,
    "start_time": "2022-03-27T22:47:48.523Z"
   },
   {
    "duration": 15,
    "start_time": "2022-03-27T22:47:48.530Z"
   },
   {
    "duration": 6,
    "start_time": "2022-03-27T22:47:48.546Z"
   },
   {
    "duration": 48,
    "start_time": "2022-03-27T22:47:48.554Z"
   },
   {
    "duration": 12,
    "start_time": "2022-03-27T22:47:48.604Z"
   },
   {
    "duration": 11,
    "start_time": "2022-03-27T22:47:48.620Z"
   },
   {
    "duration": 13,
    "start_time": "2022-03-27T22:47:48.633Z"
   },
   {
    "duration": 5,
    "start_time": "2022-03-27T22:47:48.647Z"
   },
   {
    "duration": 9,
    "start_time": "2022-03-27T22:47:48.654Z"
   },
   {
    "duration": 38,
    "start_time": "2022-03-27T22:47:48.665Z"
   },
   {
    "duration": 5,
    "start_time": "2022-03-27T22:47:48.705Z"
   },
   {
    "duration": 37,
    "start_time": "2022-03-27T22:47:48.711Z"
   },
   {
    "duration": 5,
    "start_time": "2022-03-27T22:47:48.750Z"
   },
   {
    "duration": 127,
    "start_time": "2022-03-27T22:47:48.757Z"
   },
   {
    "duration": 1298,
    "start_time": "2022-03-27T22:47:48.886Z"
   },
   {
    "duration": 9029,
    "start_time": "2022-03-27T22:47:50.185Z"
   },
   {
    "duration": 98,
    "start_time": "2022-03-27T22:47:59.215Z"
   },
   {
    "duration": 93,
    "start_time": "2022-03-27T22:47:59.316Z"
   },
   {
    "duration": 29,
    "start_time": "2022-03-27T22:47:59.411Z"
   },
   {
    "duration": 440,
    "start_time": "2022-03-27T22:47:59.442Z"
   },
   {
    "duration": 39,
    "start_time": "2022-03-27T22:47:59.883Z"
   },
   {
    "duration": 100,
    "start_time": "2022-03-27T22:48:00.003Z"
   },
   {
    "duration": 20,
    "start_time": "2022-03-27T22:48:00.104Z"
   },
   {
    "duration": 191,
    "start_time": "2022-03-27T22:48:00.125Z"
   },
   {
    "duration": 191,
    "start_time": "2022-03-27T22:48:00.317Z"
   },
   {
    "duration": 207,
    "start_time": "2022-03-27T22:48:00.511Z"
   },
   {
    "duration": 324,
    "start_time": "2022-03-27T22:48:00.720Z"
   },
   {
    "duration": 63,
    "start_time": "2022-03-27T22:48:01.046Z"
   },
   {
    "duration": 470,
    "start_time": "2022-03-27T22:48:01.203Z"
   },
   {
    "duration": 5,
    "start_time": "2022-03-27T22:54:22.647Z"
   },
   {
    "duration": 122,
    "start_time": "2022-03-27T22:54:22.654Z"
   },
   {
    "duration": 12,
    "start_time": "2022-03-27T22:54:22.778Z"
   },
   {
    "duration": 5,
    "start_time": "2022-03-27T22:54:22.792Z"
   },
   {
    "duration": 13,
    "start_time": "2022-03-27T22:54:22.798Z"
   },
   {
    "duration": 12,
    "start_time": "2022-03-27T22:54:22.813Z"
   },
   {
    "duration": 13,
    "start_time": "2022-03-27T22:54:22.827Z"
   },
   {
    "duration": 7,
    "start_time": "2022-03-27T22:54:22.842Z"
   },
   {
    "duration": 4,
    "start_time": "2022-03-27T22:54:22.852Z"
   },
   {
    "duration": 43,
    "start_time": "2022-03-27T22:54:22.858Z"
   },
   {
    "duration": 8,
    "start_time": "2022-03-27T22:54:22.903Z"
   },
   {
    "duration": 5,
    "start_time": "2022-03-27T22:54:22.912Z"
   },
   {
    "duration": 10,
    "start_time": "2022-03-27T22:54:22.918Z"
   },
   {
    "duration": 13,
    "start_time": "2022-03-27T22:54:22.929Z"
   },
   {
    "duration": 12,
    "start_time": "2022-03-27T22:54:22.944Z"
   },
   {
    "duration": 10,
    "start_time": "2022-03-27T22:54:23.001Z"
   },
   {
    "duration": 5,
    "start_time": "2022-03-27T22:54:23.012Z"
   },
   {
    "duration": 7,
    "start_time": "2022-03-27T22:54:23.019Z"
   },
   {
    "duration": 7,
    "start_time": "2022-03-27T22:54:23.028Z"
   },
   {
    "duration": 8,
    "start_time": "2022-03-27T22:54:23.037Z"
   },
   {
    "duration": 65,
    "start_time": "2022-03-27T22:54:23.047Z"
   },
   {
    "duration": 6,
    "start_time": "2022-03-27T22:54:23.113Z"
   },
   {
    "duration": 112,
    "start_time": "2022-03-27T22:54:23.120Z"
   },
   {
    "duration": 1234,
    "start_time": "2022-03-27T22:54:23.236Z"
   },
   {
    "duration": 8256,
    "start_time": "2022-03-27T22:54:24.471Z"
   },
   {
    "duration": 108,
    "start_time": "2022-03-27T22:54:32.728Z"
   },
   {
    "duration": 13,
    "start_time": "2022-03-27T22:54:32.902Z"
   },
   {
    "duration": 32,
    "start_time": "2022-03-27T22:54:32.916Z"
   },
   {
    "duration": 425,
    "start_time": "2022-03-27T22:54:32.950Z"
   },
   {
    "duration": 126,
    "start_time": "2022-03-27T22:54:33.376Z"
   },
   {
    "duration": 104,
    "start_time": "2022-03-27T22:54:33.504Z"
   },
   {
    "duration": 21,
    "start_time": "2022-03-27T22:54:33.610Z"
   },
   {
    "duration": 205,
    "start_time": "2022-03-27T22:54:33.633Z"
   },
   {
    "duration": 166,
    "start_time": "2022-03-27T22:54:33.840Z"
   },
   {
    "duration": 121,
    "start_time": "2022-03-27T22:54:34.008Z"
   },
   {
    "duration": 352,
    "start_time": "2022-03-27T22:54:34.132Z"
   },
   {
    "duration": 38,
    "start_time": "2022-03-27T22:54:34.485Z"
   },
   {
    "duration": 492,
    "start_time": "2022-03-27T22:54:34.603Z"
   },
   {
    "duration": 137,
    "start_time": "2022-03-27T22:54:35.097Z"
   },
   {
    "duration": 1619,
    "start_time": "2022-03-29T00:29:16.885Z"
   },
   {
    "duration": 142,
    "start_time": "2022-03-29T00:29:18.507Z"
   },
   {
    "duration": 16,
    "start_time": "2022-03-29T00:29:18.650Z"
   },
   {
    "duration": 6,
    "start_time": "2022-03-29T00:29:18.668Z"
   },
   {
    "duration": 14,
    "start_time": "2022-03-29T00:29:18.676Z"
   },
   {
    "duration": 15,
    "start_time": "2022-03-29T00:29:18.692Z"
   },
   {
    "duration": 13,
    "start_time": "2022-03-29T00:29:18.709Z"
   },
   {
    "duration": 7,
    "start_time": "2022-03-29T00:29:18.723Z"
   },
   {
    "duration": 7,
    "start_time": "2022-03-29T00:29:18.731Z"
   },
   {
    "duration": 5,
    "start_time": "2022-03-29T00:29:18.739Z"
   },
   {
    "duration": 9,
    "start_time": "2022-03-29T00:29:18.745Z"
   },
   {
    "duration": 4,
    "start_time": "2022-03-29T00:29:18.755Z"
   },
   {
    "duration": 6,
    "start_time": "2022-03-29T00:29:18.780Z"
   },
   {
    "duration": 10,
    "start_time": "2022-03-29T00:29:18.789Z"
   },
   {
    "duration": 11,
    "start_time": "2022-03-29T00:29:18.800Z"
   },
   {
    "duration": 9,
    "start_time": "2022-03-29T00:29:18.812Z"
   },
   {
    "duration": 4,
    "start_time": "2022-03-29T00:29:18.823Z"
   },
   {
    "duration": 11,
    "start_time": "2022-03-29T00:29:20.667Z"
   },
   {
    "duration": 12,
    "start_time": "2022-03-29T00:29:31.114Z"
   },
   {
    "duration": 3,
    "start_time": "2022-03-29T00:29:49.482Z"
   },
   {
    "duration": 149,
    "start_time": "2022-03-29T00:29:49.488Z"
   },
   {
    "duration": 10,
    "start_time": "2022-03-29T00:29:49.639Z"
   },
   {
    "duration": 22,
    "start_time": "2022-03-29T00:29:49.650Z"
   },
   {
    "duration": 27,
    "start_time": "2022-03-29T00:29:49.674Z"
   },
   {
    "duration": 24,
    "start_time": "2022-03-29T00:29:49.702Z"
   },
   {
    "duration": 19,
    "start_time": "2022-03-29T00:29:49.727Z"
   },
   {
    "duration": 6,
    "start_time": "2022-03-29T00:29:49.747Z"
   },
   {
    "duration": 14,
    "start_time": "2022-03-29T00:29:49.754Z"
   },
   {
    "duration": 27,
    "start_time": "2022-03-29T00:29:49.769Z"
   },
   {
    "duration": 36,
    "start_time": "2022-03-29T00:29:49.798Z"
   },
   {
    "duration": 17,
    "start_time": "2022-03-29T00:29:49.835Z"
   },
   {
    "duration": 28,
    "start_time": "2022-03-29T00:29:49.853Z"
   },
   {
    "duration": 25,
    "start_time": "2022-03-29T00:29:49.882Z"
   },
   {
    "duration": 13,
    "start_time": "2022-03-29T00:29:49.908Z"
   },
   {
    "duration": 17,
    "start_time": "2022-03-29T00:29:49.923Z"
   },
   {
    "duration": 24,
    "start_time": "2022-03-29T00:29:49.941Z"
   },
   {
    "duration": 24,
    "start_time": "2022-03-29T00:29:49.967Z"
   },
   {
    "duration": 4,
    "start_time": "2022-03-29T00:29:49.992Z"
   },
   {
    "duration": 24,
    "start_time": "2022-03-29T00:29:49.997Z"
   },
   {
    "duration": 43,
    "start_time": "2022-03-29T00:29:50.022Z"
   },
   {
    "duration": 4,
    "start_time": "2022-03-29T00:30:41.251Z"
   },
   {
    "duration": 113,
    "start_time": "2022-03-29T00:30:41.256Z"
   },
   {
    "duration": 10,
    "start_time": "2022-03-29T00:30:41.371Z"
   },
   {
    "duration": 4,
    "start_time": "2022-03-29T00:30:41.383Z"
   },
   {
    "duration": 13,
    "start_time": "2022-03-29T00:30:41.389Z"
   },
   {
    "duration": 10,
    "start_time": "2022-03-29T00:30:41.403Z"
   },
   {
    "duration": 11,
    "start_time": "2022-03-29T00:30:41.414Z"
   },
   {
    "duration": 6,
    "start_time": "2022-03-29T00:30:41.427Z"
   },
   {
    "duration": 3,
    "start_time": "2022-03-29T00:30:41.435Z"
   },
   {
    "duration": 5,
    "start_time": "2022-03-29T00:30:41.440Z"
   },
   {
    "duration": 39,
    "start_time": "2022-03-29T00:30:41.447Z"
   },
   {
    "duration": 5,
    "start_time": "2022-03-29T00:30:41.487Z"
   },
   {
    "duration": 7,
    "start_time": "2022-03-29T00:30:41.494Z"
   },
   {
    "duration": 10,
    "start_time": "2022-03-29T00:30:41.503Z"
   },
   {
    "duration": 11,
    "start_time": "2022-03-29T00:30:41.515Z"
   },
   {
    "duration": 9,
    "start_time": "2022-03-29T00:30:41.528Z"
   },
   {
    "duration": 44,
    "start_time": "2022-03-29T00:30:41.539Z"
   },
   {
    "duration": 11,
    "start_time": "2022-03-29T00:30:41.585Z"
   },
   {
    "duration": 4,
    "start_time": "2022-03-29T00:30:41.598Z"
   },
   {
    "duration": 6,
    "start_time": "2022-03-29T00:30:41.604Z"
   },
   {
    "duration": 27,
    "start_time": "2022-03-29T00:30:41.612Z"
   },
   {
    "duration": 6,
    "start_time": "2022-03-29T00:30:41.640Z"
   },
   {
    "duration": 90,
    "start_time": "2022-03-29T00:30:41.680Z"
   },
   {
    "duration": 1250,
    "start_time": "2022-03-29T00:30:41.781Z"
   },
   {
    "duration": 8198,
    "start_time": "2022-03-29T00:30:43.033Z"
   },
   {
    "duration": 55,
    "start_time": "2022-03-29T00:30:51.232Z"
   },
   {
    "duration": 100,
    "start_time": "2022-03-29T00:30:51.288Z"
   },
   {
    "duration": 106,
    "start_time": "2022-03-29T00:30:51.390Z"
   },
   {
    "duration": 391,
    "start_time": "2022-03-29T00:30:51.497Z"
   },
   {
    "duration": 92,
    "start_time": "2022-03-29T00:30:51.890Z"
   },
   {
    "duration": 101,
    "start_time": "2022-03-29T00:30:51.984Z"
   },
   {
    "duration": 17,
    "start_time": "2022-03-29T00:30:52.086Z"
   },
   {
    "duration": 171,
    "start_time": "2022-03-29T00:30:52.105Z"
   },
   {
    "duration": 110,
    "start_time": "2022-03-29T00:30:52.280Z"
   },
   {
    "duration": 129,
    "start_time": "2022-03-29T00:30:52.482Z"
   },
   {
    "duration": 298,
    "start_time": "2022-03-29T00:30:52.613Z"
   },
   {
    "duration": 71,
    "start_time": "2022-03-29T00:30:52.912Z"
   },
   {
    "duration": 462,
    "start_time": "2022-03-29T00:30:52.987Z"
   },
   {
    "duration": 463,
    "start_time": "2022-03-29T00:31:11.035Z"
   },
   {
    "duration": 4,
    "start_time": "2022-03-29T00:31:15.519Z"
   },
   {
    "duration": 122,
    "start_time": "2022-03-29T00:31:15.527Z"
   },
   {
    "duration": 10,
    "start_time": "2022-03-29T00:31:15.651Z"
   },
   {
    "duration": 5,
    "start_time": "2022-03-29T00:31:15.663Z"
   },
   {
    "duration": 17,
    "start_time": "2022-03-29T00:31:15.669Z"
   },
   {
    "duration": 10,
    "start_time": "2022-03-29T00:31:15.689Z"
   },
   {
    "duration": 11,
    "start_time": "2022-03-29T00:31:15.701Z"
   },
   {
    "duration": 6,
    "start_time": "2022-03-29T00:31:15.714Z"
   },
   {
    "duration": 3,
    "start_time": "2022-03-29T00:31:15.722Z"
   },
   {
    "duration": 6,
    "start_time": "2022-03-29T00:31:15.726Z"
   },
   {
    "duration": 11,
    "start_time": "2022-03-29T00:31:15.733Z"
   },
   {
    "duration": 35,
    "start_time": "2022-03-29T00:31:15.746Z"
   },
   {
    "duration": 7,
    "start_time": "2022-03-29T00:31:15.782Z"
   },
   {
    "duration": 9,
    "start_time": "2022-03-29T00:31:15.791Z"
   },
   {
    "duration": 10,
    "start_time": "2022-03-29T00:31:15.803Z"
   },
   {
    "duration": 12,
    "start_time": "2022-03-29T00:31:15.814Z"
   },
   {
    "duration": 4,
    "start_time": "2022-03-29T00:31:15.827Z"
   },
   {
    "duration": 12,
    "start_time": "2022-03-29T00:31:15.832Z"
   },
   {
    "duration": 4,
    "start_time": "2022-03-29T00:31:15.845Z"
   },
   {
    "duration": 3,
    "start_time": "2022-03-29T00:31:15.880Z"
   },
   {
    "duration": 29,
    "start_time": "2022-03-29T00:31:15.884Z"
   },
   {
    "duration": 5,
    "start_time": "2022-03-29T00:31:15.914Z"
   },
   {
    "duration": 102,
    "start_time": "2022-03-29T00:31:15.920Z"
   },
   {
    "duration": 1198,
    "start_time": "2022-03-29T00:31:16.023Z"
   },
   {
    "duration": 7649,
    "start_time": "2022-03-29T00:31:17.222Z"
   },
   {
    "duration": 29,
    "start_time": "2022-03-29T00:31:24.872Z"
   },
   {
    "duration": 104,
    "start_time": "2022-03-29T00:31:24.983Z"
   },
   {
    "duration": 28,
    "start_time": "2022-03-29T00:31:25.089Z"
   },
   {
    "duration": 397,
    "start_time": "2022-03-29T00:31:25.119Z"
   },
   {
    "duration": 67,
    "start_time": "2022-03-29T00:31:25.518Z"
   },
   {
    "duration": 103,
    "start_time": "2022-03-29T00:31:25.586Z"
   },
   {
    "duration": 18,
    "start_time": "2022-03-29T00:31:25.691Z"
   },
   {
    "duration": 178,
    "start_time": "2022-03-29T00:31:25.711Z"
   },
   {
    "duration": 191,
    "start_time": "2022-03-29T00:31:25.890Z"
   },
   {
    "duration": 128,
    "start_time": "2022-03-29T00:31:26.083Z"
   },
   {
    "duration": 295,
    "start_time": "2022-03-29T00:31:26.213Z"
   },
   {
    "duration": 72,
    "start_time": "2022-03-29T00:31:26.510Z"
   },
   {
    "duration": 376,
    "start_time": "2022-03-29T00:31:27.052Z"
   },
   {
    "duration": 4,
    "start_time": "2022-03-29T00:31:33.607Z"
   },
   {
    "duration": 120,
    "start_time": "2022-03-29T00:31:33.612Z"
   },
   {
    "duration": 11,
    "start_time": "2022-03-29T00:31:33.733Z"
   },
   {
    "duration": 6,
    "start_time": "2022-03-29T00:31:33.746Z"
   },
   {
    "duration": 13,
    "start_time": "2022-03-29T00:31:33.753Z"
   },
   {
    "duration": 10,
    "start_time": "2022-03-29T00:31:33.767Z"
   },
   {
    "duration": 11,
    "start_time": "2022-03-29T00:31:33.779Z"
   },
   {
    "duration": 6,
    "start_time": "2022-03-29T00:31:33.791Z"
   },
   {
    "duration": 4,
    "start_time": "2022-03-29T00:31:33.800Z"
   },
   {
    "duration": 5,
    "start_time": "2022-03-29T00:31:33.806Z"
   },
   {
    "duration": 11,
    "start_time": "2022-03-29T00:31:33.812Z"
   },
   {
    "duration": 4,
    "start_time": "2022-03-29T00:31:33.824Z"
   },
   {
    "duration": 7,
    "start_time": "2022-03-29T00:31:33.829Z"
   },
   {
    "duration": 9,
    "start_time": "2022-03-29T00:31:33.838Z"
   },
   {
    "duration": 39,
    "start_time": "2022-03-29T00:31:33.849Z"
   },
   {
    "duration": 14,
    "start_time": "2022-03-29T00:31:33.889Z"
   },
   {
    "duration": 4,
    "start_time": "2022-03-29T00:31:33.905Z"
   },
   {
    "duration": 11,
    "start_time": "2022-03-29T00:31:33.910Z"
   },
   {
    "duration": 4,
    "start_time": "2022-03-29T00:31:33.922Z"
   },
   {
    "duration": 4,
    "start_time": "2022-03-29T00:31:33.928Z"
   },
   {
    "duration": 48,
    "start_time": "2022-03-29T00:31:33.933Z"
   },
   {
    "duration": 6,
    "start_time": "2022-03-29T00:31:33.982Z"
   },
   {
    "duration": 97,
    "start_time": "2022-03-29T00:31:33.989Z"
   },
   {
    "duration": 1150,
    "start_time": "2022-03-29T00:31:34.089Z"
   },
   {
    "duration": 7751,
    "start_time": "2022-03-29T00:31:35.241Z"
   },
   {
    "duration": 94,
    "start_time": "2022-03-29T00:31:42.994Z"
   },
   {
    "duration": 14,
    "start_time": "2022-03-29T00:31:43.180Z"
   },
   {
    "duration": 102,
    "start_time": "2022-03-29T00:31:43.195Z"
   },
   {
    "duration": 389,
    "start_time": "2022-03-29T00:31:43.299Z"
   },
   {
    "duration": 93,
    "start_time": "2022-03-29T00:31:43.690Z"
   },
   {
    "duration": 103,
    "start_time": "2022-03-29T00:31:43.788Z"
   },
   {
    "duration": 16,
    "start_time": "2022-03-29T00:31:43.893Z"
   },
   {
    "duration": 186,
    "start_time": "2022-03-29T00:31:43.910Z"
   },
   {
    "duration": 184,
    "start_time": "2022-03-29T00:31:44.098Z"
   },
   {
    "duration": 124,
    "start_time": "2022-03-29T00:31:44.285Z"
   },
   {
    "duration": 294,
    "start_time": "2022-03-29T00:31:44.410Z"
   },
   {
    "duration": 78,
    "start_time": "2022-03-29T00:31:44.705Z"
   },
   {
    "duration": 371,
    "start_time": "2022-03-29T00:31:45.256Z"
   },
   {
    "duration": 4,
    "start_time": "2022-03-29T00:31:52.316Z"
   },
   {
    "duration": 138,
    "start_time": "2022-03-29T00:31:52.322Z"
   },
   {
    "duration": 12,
    "start_time": "2022-03-29T00:31:52.461Z"
   },
   {
    "duration": 6,
    "start_time": "2022-03-29T00:31:52.474Z"
   },
   {
    "duration": 12,
    "start_time": "2022-03-29T00:31:52.481Z"
   },
   {
    "duration": 10,
    "start_time": "2022-03-29T00:31:52.495Z"
   },
   {
    "duration": 11,
    "start_time": "2022-03-29T00:31:52.506Z"
   },
   {
    "duration": 6,
    "start_time": "2022-03-29T00:31:52.519Z"
   },
   {
    "duration": 3,
    "start_time": "2022-03-29T00:31:52.526Z"
   },
   {
    "duration": 6,
    "start_time": "2022-03-29T00:31:52.530Z"
   },
   {
    "duration": 9,
    "start_time": "2022-03-29T00:31:52.539Z"
   },
   {
    "duration": 34,
    "start_time": "2022-03-29T00:31:52.549Z"
   },
   {
    "duration": 9,
    "start_time": "2022-03-29T00:31:52.584Z"
   },
   {
    "duration": 17,
    "start_time": "2022-03-29T00:31:52.594Z"
   },
   {
    "duration": 11,
    "start_time": "2022-03-29T00:31:52.612Z"
   },
   {
    "duration": 16,
    "start_time": "2022-03-29T00:31:52.625Z"
   },
   {
    "duration": 9,
    "start_time": "2022-03-29T00:31:52.643Z"
   },
   {
    "duration": 19,
    "start_time": "2022-03-29T00:31:52.653Z"
   },
   {
    "duration": 5,
    "start_time": "2022-03-29T00:31:52.681Z"
   },
   {
    "duration": 8,
    "start_time": "2022-03-29T00:31:52.687Z"
   },
   {
    "duration": 31,
    "start_time": "2022-03-29T00:31:52.696Z"
   },
   {
    "duration": 5,
    "start_time": "2022-03-29T00:31:52.729Z"
   },
   {
    "duration": 105,
    "start_time": "2022-03-29T00:31:52.735Z"
   },
   {
    "duration": 1164,
    "start_time": "2022-03-29T00:31:52.842Z"
   },
   {
    "duration": 7557,
    "start_time": "2022-03-29T00:31:54.008Z"
   },
   {
    "duration": 32,
    "start_time": "2022-03-29T00:32:01.566Z"
   },
   {
    "duration": 107,
    "start_time": "2022-03-29T00:32:01.682Z"
   },
   {
    "duration": 45,
    "start_time": "2022-03-29T00:32:01.791Z"
   },
   {
    "duration": 442,
    "start_time": "2022-03-29T00:32:01.839Z"
   },
   {
    "duration": 102,
    "start_time": "2022-03-29T00:32:02.282Z"
   },
   {
    "duration": 101,
    "start_time": "2022-03-29T00:32:02.386Z"
   },
   {
    "duration": 23,
    "start_time": "2022-03-29T00:32:02.488Z"
   },
   {
    "duration": 178,
    "start_time": "2022-03-29T00:32:02.513Z"
   },
   {
    "duration": 97,
    "start_time": "2022-03-29T00:32:02.692Z"
   },
   {
    "duration": 213,
    "start_time": "2022-03-29T00:32:02.791Z"
   },
   {
    "duration": 305,
    "start_time": "2022-03-29T00:32:03.005Z"
   },
   {
    "duration": 71,
    "start_time": "2022-03-29T00:32:03.311Z"
   },
   {
    "duration": 562,
    "start_time": "2022-03-29T00:32:03.384Z"
   },
   {
    "duration": 4,
    "start_time": "2022-03-29T00:33:08.650Z"
   },
   {
    "duration": 139,
    "start_time": "2022-03-29T00:33:08.656Z"
   },
   {
    "duration": 11,
    "start_time": "2022-03-29T00:33:08.797Z"
   },
   {
    "duration": 5,
    "start_time": "2022-03-29T00:33:08.810Z"
   },
   {
    "duration": 11,
    "start_time": "2022-03-29T00:33:08.817Z"
   },
   {
    "duration": 12,
    "start_time": "2022-03-29T00:33:08.830Z"
   },
   {
    "duration": 38,
    "start_time": "2022-03-29T00:33:08.843Z"
   },
   {
    "duration": 7,
    "start_time": "2022-03-29T00:33:08.883Z"
   },
   {
    "duration": 4,
    "start_time": "2022-03-29T00:33:08.892Z"
   },
   {
    "duration": 5,
    "start_time": "2022-03-29T00:33:08.898Z"
   },
   {
    "duration": 8,
    "start_time": "2022-03-29T00:33:08.905Z"
   },
   {
    "duration": 4,
    "start_time": "2022-03-29T00:33:08.915Z"
   },
   {
    "duration": 7,
    "start_time": "2022-03-29T00:33:08.921Z"
   },
   {
    "duration": 49,
    "start_time": "2022-03-29T00:33:08.932Z"
   },
   {
    "duration": 12,
    "start_time": "2022-03-29T00:33:08.982Z"
   },
   {
    "duration": 10,
    "start_time": "2022-03-29T00:33:08.996Z"
   },
   {
    "duration": 5,
    "start_time": "2022-03-29T00:33:09.007Z"
   },
   {
    "duration": 11,
    "start_time": "2022-03-29T00:33:09.014Z"
   },
   {
    "duration": 4,
    "start_time": "2022-03-29T00:33:09.027Z"
   },
   {
    "duration": 4,
    "start_time": "2022-03-29T00:33:09.032Z"
   },
   {
    "duration": 64,
    "start_time": "2022-03-29T00:33:09.038Z"
   },
   {
    "duration": 5,
    "start_time": "2022-03-29T00:33:09.104Z"
   },
   {
    "duration": 93,
    "start_time": "2022-03-29T00:33:09.110Z"
   },
   {
    "duration": 1277,
    "start_time": "2022-03-29T00:33:09.204Z"
   },
   {
    "duration": 8047,
    "start_time": "2022-03-29T00:33:10.482Z"
   },
   {
    "duration": 59,
    "start_time": "2022-03-29T00:33:18.531Z"
   },
   {
    "duration": 105,
    "start_time": "2022-03-29T00:33:18.681Z"
   },
   {
    "duration": 29,
    "start_time": "2022-03-29T00:33:18.787Z"
   },
   {
    "duration": 403,
    "start_time": "2022-03-29T00:33:18.817Z"
   },
   {
    "duration": 159,
    "start_time": "2022-03-29T00:33:19.222Z"
   },
   {
    "duration": 105,
    "start_time": "2022-03-29T00:33:19.384Z"
   },
   {
    "duration": 17,
    "start_time": "2022-03-29T00:33:19.490Z"
   },
   {
    "duration": 177,
    "start_time": "2022-03-29T00:33:19.509Z"
   },
   {
    "duration": 192,
    "start_time": "2022-03-29T00:33:19.688Z"
   },
   {
    "duration": 130,
    "start_time": "2022-03-29T00:33:19.883Z"
   },
   {
    "duration": 294,
    "start_time": "2022-03-29T00:33:20.015Z"
   },
   {
    "duration": 73,
    "start_time": "2022-03-29T00:33:20.310Z"
   },
   {
    "duration": 241,
    "start_time": "2022-03-29T00:33:20.386Z"
   },
   {
    "duration": 4,
    "start_time": "2022-03-29T00:34:57.710Z"
   },
   {
    "duration": 122,
    "start_time": "2022-03-29T00:34:57.716Z"
   },
   {
    "duration": 11,
    "start_time": "2022-03-29T00:34:57.839Z"
   },
   {
    "duration": 4,
    "start_time": "2022-03-29T00:34:57.852Z"
   },
   {
    "duration": 12,
    "start_time": "2022-03-29T00:34:57.857Z"
   },
   {
    "duration": 10,
    "start_time": "2022-03-29T00:34:57.870Z"
   },
   {
    "duration": 11,
    "start_time": "2022-03-29T00:34:57.881Z"
   },
   {
    "duration": 6,
    "start_time": "2022-03-29T00:34:57.893Z"
   },
   {
    "duration": 3,
    "start_time": "2022-03-29T00:34:57.902Z"
   },
   {
    "duration": 5,
    "start_time": "2022-03-29T00:34:57.907Z"
   },
   {
    "duration": 9,
    "start_time": "2022-03-29T00:34:57.913Z"
   },
   {
    "duration": 3,
    "start_time": "2022-03-29T00:34:57.924Z"
   },
   {
    "duration": 8,
    "start_time": "2022-03-29T00:34:57.929Z"
   },
   {
    "duration": 10,
    "start_time": "2022-03-29T00:34:57.938Z"
   },
   {
    "duration": 11,
    "start_time": "2022-03-29T00:34:57.980Z"
   },
   {
    "duration": 10,
    "start_time": "2022-03-29T00:34:57.993Z"
   },
   {
    "duration": 5,
    "start_time": "2022-03-29T00:34:58.004Z"
   },
   {
    "duration": 11,
    "start_time": "2022-03-29T00:34:58.010Z"
   },
   {
    "duration": 4,
    "start_time": "2022-03-29T00:34:58.022Z"
   },
   {
    "duration": 4,
    "start_time": "2022-03-29T00:34:58.027Z"
   },
   {
    "duration": 53,
    "start_time": "2022-03-29T00:34:58.032Z"
   },
   {
    "duration": 5,
    "start_time": "2022-03-29T00:34:58.086Z"
   },
   {
    "duration": 98,
    "start_time": "2022-03-29T00:34:58.092Z"
   },
   {
    "duration": 1191,
    "start_time": "2022-03-29T00:34:58.192Z"
   },
   {
    "duration": 7602,
    "start_time": "2022-03-29T00:34:59.385Z"
   },
   {
    "duration": 93,
    "start_time": "2022-03-29T00:35:06.988Z"
   },
   {
    "duration": 108,
    "start_time": "2022-03-29T00:35:07.083Z"
   },
   {
    "duration": 28,
    "start_time": "2022-03-29T00:35:07.193Z"
   },
   {
    "duration": 416,
    "start_time": "2022-03-29T00:35:07.222Z"
   },
   {
    "duration": 46,
    "start_time": "2022-03-29T00:35:07.639Z"
   },
   {
    "duration": 195,
    "start_time": "2022-03-29T00:35:07.687Z"
   },
   {
    "duration": 18,
    "start_time": "2022-03-29T00:35:07.883Z"
   },
   {
    "duration": 180,
    "start_time": "2022-03-29T00:35:07.902Z"
   },
   {
    "duration": 100,
    "start_time": "2022-03-29T00:35:08.084Z"
   },
   {
    "duration": 134,
    "start_time": "2022-03-29T00:35:08.186Z"
   },
   {
    "duration": 327,
    "start_time": "2022-03-29T00:35:08.322Z"
   },
   {
    "duration": 137,
    "start_time": "2022-03-29T00:35:08.651Z"
   },
   {
    "duration": 550,
    "start_time": "2022-03-29T00:35:08.792Z"
   },
   {
    "duration": 841,
    "start_time": "2022-03-29T00:35:26.717Z"
   },
   {
    "duration": 3,
    "start_time": "2022-03-29T00:35:33.841Z"
   },
   {
    "duration": 141,
    "start_time": "2022-03-29T00:35:33.846Z"
   },
   {
    "duration": 11,
    "start_time": "2022-03-29T00:35:33.988Z"
   },
   {
    "duration": 4,
    "start_time": "2022-03-29T00:35:34.001Z"
   },
   {
    "duration": 14,
    "start_time": "2022-03-29T00:35:34.007Z"
   },
   {
    "duration": 11,
    "start_time": "2022-03-29T00:35:34.023Z"
   },
   {
    "duration": 12,
    "start_time": "2022-03-29T00:35:34.035Z"
   },
   {
    "duration": 6,
    "start_time": "2022-03-29T00:35:34.048Z"
   },
   {
    "duration": 3,
    "start_time": "2022-03-29T00:35:34.080Z"
   },
   {
    "duration": 5,
    "start_time": "2022-03-29T00:35:34.085Z"
   },
   {
    "duration": 11,
    "start_time": "2022-03-29T00:35:34.091Z"
   },
   {
    "duration": 5,
    "start_time": "2022-03-29T00:35:34.103Z"
   },
   {
    "duration": 7,
    "start_time": "2022-03-29T00:35:34.109Z"
   },
   {
    "duration": 11,
    "start_time": "2022-03-29T00:35:34.118Z"
   },
   {
    "duration": 11,
    "start_time": "2022-03-29T00:35:34.130Z"
   },
   {
    "duration": 9,
    "start_time": "2022-03-29T00:35:34.142Z"
   },
   {
    "duration": 5,
    "start_time": "2022-03-29T00:35:34.181Z"
   },
   {
    "duration": 11,
    "start_time": "2022-03-29T00:35:34.187Z"
   },
   {
    "duration": 4,
    "start_time": "2022-03-29T00:35:34.199Z"
   },
   {
    "duration": 3,
    "start_time": "2022-03-29T00:35:34.205Z"
   },
   {
    "duration": 30,
    "start_time": "2022-03-29T00:35:34.209Z"
   },
   {
    "duration": 5,
    "start_time": "2022-03-29T00:35:34.241Z"
   },
   {
    "duration": 112,
    "start_time": "2022-03-29T00:35:34.247Z"
   },
   {
    "duration": 1161,
    "start_time": "2022-03-29T00:35:34.362Z"
   },
   {
    "duration": 7586,
    "start_time": "2022-03-29T00:35:35.525Z"
   },
   {
    "duration": 71,
    "start_time": "2022-03-29T00:35:43.113Z"
   },
   {
    "duration": 102,
    "start_time": "2022-03-29T00:35:43.187Z"
   },
   {
    "duration": 28,
    "start_time": "2022-03-29T00:35:43.290Z"
   },
   {
    "duration": 398,
    "start_time": "2022-03-29T00:35:43.319Z"
   },
   {
    "duration": 69,
    "start_time": "2022-03-29T00:35:43.718Z"
   },
   {
    "duration": 195,
    "start_time": "2022-03-29T00:35:43.789Z"
   },
   {
    "duration": 17,
    "start_time": "2022-03-29T00:35:43.986Z"
   },
   {
    "duration": 183,
    "start_time": "2022-03-29T00:35:44.005Z"
   },
   {
    "duration": 94,
    "start_time": "2022-03-29T00:35:44.190Z"
   },
   {
    "duration": 119,
    "start_time": "2022-03-29T00:35:44.286Z"
   },
   {
    "duration": 303,
    "start_time": "2022-03-29T00:35:44.406Z"
   },
   {
    "duration": 70,
    "start_time": "2022-03-29T00:35:44.711Z"
   },
   {
    "duration": 934,
    "start_time": "2022-03-29T00:35:44.784Z"
   },
   {
    "duration": 4,
    "start_time": "2022-03-29T00:37:39.618Z"
   },
   {
    "duration": 133,
    "start_time": "2022-03-29T00:37:39.624Z"
   },
   {
    "duration": 11,
    "start_time": "2022-03-29T00:37:39.759Z"
   },
   {
    "duration": 4,
    "start_time": "2022-03-29T00:37:39.772Z"
   },
   {
    "duration": 10,
    "start_time": "2022-03-29T00:37:39.779Z"
   },
   {
    "duration": 12,
    "start_time": "2022-03-29T00:37:39.791Z"
   },
   {
    "duration": 12,
    "start_time": "2022-03-29T00:37:39.804Z"
   },
   {
    "duration": 6,
    "start_time": "2022-03-29T00:37:39.818Z"
   },
   {
    "duration": 4,
    "start_time": "2022-03-29T00:37:39.825Z"
   },
   {
    "duration": 7,
    "start_time": "2022-03-29T00:37:39.831Z"
   },
   {
    "duration": 8,
    "start_time": "2022-03-29T00:37:39.839Z"
   },
   {
    "duration": 34,
    "start_time": "2022-03-29T00:37:39.849Z"
   },
   {
    "duration": 9,
    "start_time": "2022-03-29T00:37:39.884Z"
   },
   {
    "duration": 9,
    "start_time": "2022-03-29T00:37:39.896Z"
   },
   {
    "duration": 11,
    "start_time": "2022-03-29T00:37:39.906Z"
   },
   {
    "duration": 10,
    "start_time": "2022-03-29T00:37:39.918Z"
   },
   {
    "duration": 4,
    "start_time": "2022-03-29T00:37:39.930Z"
   },
   {
    "duration": 12,
    "start_time": "2022-03-29T00:37:39.935Z"
   },
   {
    "duration": 34,
    "start_time": "2022-03-29T00:37:39.948Z"
   },
   {
    "duration": 3,
    "start_time": "2022-03-29T00:37:39.984Z"
   },
   {
    "duration": 30,
    "start_time": "2022-03-29T00:37:39.989Z"
   },
   {
    "duration": 4,
    "start_time": "2022-03-29T00:37:40.021Z"
   },
   {
    "duration": 108,
    "start_time": "2022-03-29T00:37:40.027Z"
   },
   {
    "duration": 1208,
    "start_time": "2022-03-29T00:37:40.137Z"
   },
   {
    "duration": 4,
    "start_time": "2022-03-29T00:37:51.341Z"
   },
   {
    "duration": 128,
    "start_time": "2022-03-29T00:37:51.346Z"
   },
   {
    "duration": 11,
    "start_time": "2022-03-29T00:37:51.475Z"
   },
   {
    "duration": 4,
    "start_time": "2022-03-29T00:37:51.488Z"
   },
   {
    "duration": 12,
    "start_time": "2022-03-29T00:37:51.494Z"
   },
   {
    "duration": 11,
    "start_time": "2022-03-29T00:37:51.507Z"
   },
   {
    "duration": 11,
    "start_time": "2022-03-29T00:37:51.519Z"
   },
   {
    "duration": 7,
    "start_time": "2022-03-29T00:37:51.531Z"
   },
   {
    "duration": 4,
    "start_time": "2022-03-29T00:37:51.539Z"
   },
   {
    "duration": 38,
    "start_time": "2022-03-29T00:37:51.544Z"
   },
   {
    "duration": 12,
    "start_time": "2022-03-29T00:37:51.583Z"
   },
   {
    "duration": 5,
    "start_time": "2022-03-29T00:37:51.596Z"
   },
   {
    "duration": 9,
    "start_time": "2022-03-29T00:37:51.602Z"
   },
   {
    "duration": 9,
    "start_time": "2022-03-29T00:37:51.612Z"
   },
   {
    "duration": 10,
    "start_time": "2022-03-29T00:37:51.623Z"
   },
   {
    "duration": 9,
    "start_time": "2022-03-29T00:37:51.634Z"
   },
   {
    "duration": 7,
    "start_time": "2022-03-29T00:37:51.644Z"
   },
   {
    "duration": 35,
    "start_time": "2022-03-29T00:37:51.652Z"
   },
   {
    "duration": 3,
    "start_time": "2022-03-29T00:37:51.689Z"
   },
   {
    "duration": 4,
    "start_time": "2022-03-29T00:37:51.694Z"
   },
   {
    "duration": 28,
    "start_time": "2022-03-29T00:37:51.699Z"
   },
   {
    "duration": 5,
    "start_time": "2022-03-29T00:37:51.728Z"
   },
   {
    "duration": 104,
    "start_time": "2022-03-29T00:37:51.734Z"
   },
   {
    "duration": 1143,
    "start_time": "2022-03-29T00:37:51.840Z"
   },
   {
    "duration": 7764,
    "start_time": "2022-03-29T00:37:52.984Z"
   },
   {
    "duration": 41,
    "start_time": "2022-03-29T00:38:00.749Z"
   },
   {
    "duration": 99,
    "start_time": "2022-03-29T00:38:00.885Z"
   },
   {
    "duration": 47,
    "start_time": "2022-03-29T00:38:00.986Z"
   },
   {
    "duration": 394,
    "start_time": "2022-03-29T00:38:01.034Z"
   },
   {
    "duration": 63,
    "start_time": "2022-03-29T00:38:01.429Z"
   },
   {
    "duration": 100,
    "start_time": "2022-03-29T00:38:01.495Z"
   },
   {
    "duration": 21,
    "start_time": "2022-03-29T00:38:01.682Z"
   },
   {
    "duration": 182,
    "start_time": "2022-03-29T00:38:01.705Z"
   },
   {
    "duration": 92,
    "start_time": "2022-03-29T00:38:01.889Z"
   },
   {
    "duration": 117,
    "start_time": "2022-03-29T00:38:01.984Z"
   },
   {
    "duration": 297,
    "start_time": "2022-03-29T00:38:02.103Z"
   },
   {
    "duration": 21,
    "start_time": "2022-03-29T00:38:02.401Z"
   },
   {
    "duration": 245,
    "start_time": "2022-03-29T00:38:02.480Z"
   },
   {
    "duration": 121,
    "start_time": "2022-03-29T00:38:02.726Z"
   },
   {
    "duration": 127,
    "start_time": "2022-03-29T00:38:39.173Z"
   },
   {
    "duration": 4,
    "start_time": "2022-03-29T00:38:45.024Z"
   },
   {
    "duration": 114,
    "start_time": "2022-03-29T00:38:45.030Z"
   },
   {
    "duration": 11,
    "start_time": "2022-03-29T00:38:45.146Z"
   },
   {
    "duration": 6,
    "start_time": "2022-03-29T00:38:45.158Z"
   },
   {
    "duration": 13,
    "start_time": "2022-03-29T00:38:45.165Z"
   },
   {
    "duration": 10,
    "start_time": "2022-03-29T00:38:45.180Z"
   },
   {
    "duration": 11,
    "start_time": "2022-03-29T00:38:45.191Z"
   },
   {
    "duration": 6,
    "start_time": "2022-03-29T00:38:45.204Z"
   },
   {
    "duration": 5,
    "start_time": "2022-03-29T00:38:45.212Z"
   },
   {
    "duration": 4,
    "start_time": "2022-03-29T00:38:45.219Z"
   },
   {
    "duration": 9,
    "start_time": "2022-03-29T00:38:45.224Z"
   },
   {
    "duration": 4,
    "start_time": "2022-03-29T00:38:45.235Z"
   },
   {
    "duration": 41,
    "start_time": "2022-03-29T00:38:45.240Z"
   },
   {
    "duration": 9,
    "start_time": "2022-03-29T00:38:45.282Z"
   },
   {
    "duration": 11,
    "start_time": "2022-03-29T00:38:45.292Z"
   },
   {
    "duration": 9,
    "start_time": "2022-03-29T00:38:45.305Z"
   },
   {
    "duration": 4,
    "start_time": "2022-03-29T00:38:45.316Z"
   },
   {
    "duration": 11,
    "start_time": "2022-03-29T00:38:45.321Z"
   },
   {
    "duration": 4,
    "start_time": "2022-03-29T00:38:45.333Z"
   },
   {
    "duration": 8,
    "start_time": "2022-03-29T00:38:45.338Z"
   },
   {
    "duration": 49,
    "start_time": "2022-03-29T00:38:45.348Z"
   },
   {
    "duration": 4,
    "start_time": "2022-03-29T00:38:45.398Z"
   },
   {
    "duration": 96,
    "start_time": "2022-03-29T00:38:45.404Z"
   },
   {
    "duration": 1178,
    "start_time": "2022-03-29T00:38:45.503Z"
   },
   {
    "duration": 5,
    "start_time": "2022-03-29T00:38:55.887Z"
   },
   {
    "duration": 217,
    "start_time": "2022-03-29T00:38:55.894Z"
   },
   {
    "duration": 11,
    "start_time": "2022-03-29T00:38:56.112Z"
   },
   {
    "duration": 5,
    "start_time": "2022-03-29T00:38:56.124Z"
   },
   {
    "duration": 14,
    "start_time": "2022-03-29T00:38:56.130Z"
   },
   {
    "duration": 15,
    "start_time": "2022-03-29T00:38:56.146Z"
   },
   {
    "duration": 11,
    "start_time": "2022-03-29T00:38:56.162Z"
   },
   {
    "duration": 6,
    "start_time": "2022-03-29T00:38:56.175Z"
   },
   {
    "duration": 3,
    "start_time": "2022-03-29T00:38:56.183Z"
   },
   {
    "duration": 5,
    "start_time": "2022-03-29T00:38:56.187Z"
   },
   {
    "duration": 11,
    "start_time": "2022-03-29T00:38:56.194Z"
   },
   {
    "duration": 5,
    "start_time": "2022-03-29T00:38:56.206Z"
   },
   {
    "duration": 8,
    "start_time": "2022-03-29T00:38:56.212Z"
   },
   {
    "duration": 11,
    "start_time": "2022-03-29T00:38:56.222Z"
   },
   {
    "duration": 10,
    "start_time": "2022-03-29T00:38:56.234Z"
   },
   {
    "duration": 39,
    "start_time": "2022-03-29T00:38:56.245Z"
   },
   {
    "duration": 4,
    "start_time": "2022-03-29T00:38:56.285Z"
   },
   {
    "duration": 12,
    "start_time": "2022-03-29T00:38:56.290Z"
   },
   {
    "duration": 3,
    "start_time": "2022-03-29T00:38:56.303Z"
   },
   {
    "duration": 5,
    "start_time": "2022-03-29T00:38:56.307Z"
   },
   {
    "duration": 30,
    "start_time": "2022-03-29T00:38:56.313Z"
   },
   {
    "duration": 5,
    "start_time": "2022-03-29T00:38:56.344Z"
   },
   {
    "duration": 105,
    "start_time": "2022-03-29T00:38:56.350Z"
   },
   {
    "duration": 1155,
    "start_time": "2022-03-29T00:38:56.457Z"
   },
   {
    "duration": 7888,
    "start_time": "2022-03-29T00:38:57.614Z"
   },
   {
    "duration": 23,
    "start_time": "2022-03-29T00:39:05.503Z"
   },
   {
    "duration": 155,
    "start_time": "2022-03-29T00:39:05.527Z"
   },
   {
    "duration": 28,
    "start_time": "2022-03-29T00:39:05.683Z"
   },
   {
    "duration": 421,
    "start_time": "2022-03-29T00:39:05.713Z"
   },
   {
    "duration": 49,
    "start_time": "2022-03-29T00:39:06.135Z"
   },
   {
    "duration": 103,
    "start_time": "2022-03-29T00:39:06.187Z"
   },
   {
    "duration": 104,
    "start_time": "2022-03-29T00:39:06.292Z"
   },
   {
    "duration": 171,
    "start_time": "2022-03-29T00:39:06.397Z"
   },
   {
    "duration": 210,
    "start_time": "2022-03-29T00:39:06.570Z"
   },
   {
    "duration": 126,
    "start_time": "2022-03-29T00:39:06.782Z"
   },
   {
    "duration": 294,
    "start_time": "2022-03-29T00:39:06.909Z"
   },
   {
    "duration": 78,
    "start_time": "2022-03-29T00:39:07.205Z"
   },
   {
    "duration": 240,
    "start_time": "2022-03-29T00:39:07.285Z"
   },
   {
    "duration": 4,
    "start_time": "2022-03-29T00:39:40.965Z"
   },
   {
    "duration": 1813,
    "start_time": "2022-03-29T00:39:40.971Z"
   },
   {
    "duration": 11,
    "start_time": "2022-03-29T00:39:42.786Z"
   },
   {
    "duration": 5,
    "start_time": "2022-03-29T00:39:42.798Z"
   },
   {
    "duration": 12,
    "start_time": "2022-03-29T00:39:42.804Z"
   },
   {
    "duration": 10,
    "start_time": "2022-03-29T00:39:42.817Z"
   },
   {
    "duration": 11,
    "start_time": "2022-03-29T00:39:42.829Z"
   },
   {
    "duration": 6,
    "start_time": "2022-03-29T00:39:42.842Z"
   },
   {
    "duration": 3,
    "start_time": "2022-03-29T00:39:42.881Z"
   },
   {
    "duration": 8,
    "start_time": "2022-03-29T00:39:42.885Z"
   },
   {
    "duration": 9,
    "start_time": "2022-03-29T00:39:42.895Z"
   },
   {
    "duration": 5,
    "start_time": "2022-03-29T00:39:42.905Z"
   },
   {
    "duration": 7,
    "start_time": "2022-03-29T00:39:42.911Z"
   },
   {
    "duration": 10,
    "start_time": "2022-03-29T00:39:42.919Z"
   },
   {
    "duration": 10,
    "start_time": "2022-03-29T00:39:42.930Z"
   },
   {
    "duration": 42,
    "start_time": "2022-03-29T00:39:42.941Z"
   },
   {
    "duration": 4,
    "start_time": "2022-03-29T00:39:42.985Z"
   },
   {
    "duration": 11,
    "start_time": "2022-03-29T00:39:42.990Z"
   },
   {
    "duration": 4,
    "start_time": "2022-03-29T00:39:43.002Z"
   },
   {
    "duration": 5,
    "start_time": "2022-03-29T00:39:43.007Z"
   },
   {
    "duration": 26,
    "start_time": "2022-03-29T00:39:43.013Z"
   },
   {
    "duration": 4,
    "start_time": "2022-03-29T00:39:43.041Z"
   },
   {
    "duration": 112,
    "start_time": "2022-03-29T00:39:43.047Z"
   },
   {
    "duration": 1164,
    "start_time": "2022-03-29T00:39:43.161Z"
   },
   {
    "duration": 7636,
    "start_time": "2022-03-29T00:39:44.326Z"
   },
   {
    "duration": 118,
    "start_time": "2022-03-29T00:39:51.964Z"
   },
   {
    "duration": 97,
    "start_time": "2022-03-29T00:39:52.085Z"
   },
   {
    "duration": 30,
    "start_time": "2022-03-29T00:39:52.184Z"
   },
   {
    "duration": 403,
    "start_time": "2022-03-29T00:39:52.216Z"
   },
   {
    "duration": 65,
    "start_time": "2022-03-29T00:39:52.621Z"
   },
   {
    "duration": 104,
    "start_time": "2022-03-29T00:39:52.689Z"
   },
   {
    "duration": 88,
    "start_time": "2022-03-29T00:39:52.795Z"
   },
   {
    "duration": 171,
    "start_time": "2022-03-29T00:39:52.885Z"
   },
   {
    "duration": 223,
    "start_time": "2022-03-29T00:39:53.058Z"
   },
   {
    "duration": 124,
    "start_time": "2022-03-29T00:39:53.286Z"
   },
   {
    "duration": 303,
    "start_time": "2022-03-29T00:39:53.412Z"
   },
   {
    "duration": 68,
    "start_time": "2022-03-29T00:39:53.717Z"
   },
   {
    "duration": 302,
    "start_time": "2022-03-29T00:39:53.787Z"
   },
   {
    "duration": 4,
    "start_time": "2022-03-29T00:40:35.506Z"
   },
   {
    "duration": 171,
    "start_time": "2022-03-29T00:40:35.513Z"
   },
   {
    "duration": 11,
    "start_time": "2022-03-29T00:40:35.686Z"
   },
   {
    "duration": 5,
    "start_time": "2022-03-29T00:40:35.699Z"
   },
   {
    "duration": 12,
    "start_time": "2022-03-29T00:40:35.705Z"
   },
   {
    "duration": 10,
    "start_time": "2022-03-29T00:40:35.719Z"
   },
   {
    "duration": 12,
    "start_time": "2022-03-29T00:40:35.730Z"
   },
   {
    "duration": 6,
    "start_time": "2022-03-29T00:40:35.743Z"
   },
   {
    "duration": 32,
    "start_time": "2022-03-29T00:40:35.751Z"
   },
   {
    "duration": 4,
    "start_time": "2022-03-29T00:40:35.785Z"
   },
   {
    "duration": 13,
    "start_time": "2022-03-29T00:40:35.793Z"
   },
   {
    "duration": 5,
    "start_time": "2022-03-29T00:40:35.808Z"
   },
   {
    "duration": 10,
    "start_time": "2022-03-29T00:40:35.814Z"
   },
   {
    "duration": 10,
    "start_time": "2022-03-29T00:40:35.825Z"
   },
   {
    "duration": 11,
    "start_time": "2022-03-29T00:40:35.836Z"
   },
   {
    "duration": 32,
    "start_time": "2022-03-29T00:40:35.849Z"
   },
   {
    "duration": 5,
    "start_time": "2022-03-29T00:40:35.882Z"
   },
   {
    "duration": 13,
    "start_time": "2022-03-29T00:40:35.888Z"
   },
   {
    "duration": 4,
    "start_time": "2022-03-29T00:40:35.902Z"
   },
   {
    "duration": 4,
    "start_time": "2022-03-29T00:40:35.907Z"
   },
   {
    "duration": 32,
    "start_time": "2022-03-29T00:40:35.912Z"
   },
   {
    "duration": 4,
    "start_time": "2022-03-29T00:40:35.945Z"
   },
   {
    "duration": 105,
    "start_time": "2022-03-29T00:40:35.950Z"
   },
   {
    "duration": 1196,
    "start_time": "2022-03-29T00:40:36.056Z"
   },
   {
    "duration": 7663,
    "start_time": "2022-03-29T00:40:37.254Z"
   },
   {
    "duration": 68,
    "start_time": "2022-03-29T00:40:44.918Z"
   },
   {
    "duration": 102,
    "start_time": "2022-03-29T00:40:44.988Z"
   },
   {
    "duration": 28,
    "start_time": "2022-03-29T00:40:45.092Z"
   },
   {
    "duration": 403,
    "start_time": "2022-03-29T00:40:45.123Z"
   },
   {
    "duration": 61,
    "start_time": "2022-03-29T00:40:45.528Z"
   },
   {
    "duration": 100,
    "start_time": "2022-03-29T00:40:45.590Z"
   },
   {
    "duration": 97,
    "start_time": "2022-03-29T00:40:45.692Z"
   },
   {
    "duration": 176,
    "start_time": "2022-03-29T00:40:45.791Z"
   },
   {
    "duration": 214,
    "start_time": "2022-03-29T00:40:45.968Z"
   },
   {
    "duration": 126,
    "start_time": "2022-03-29T00:40:46.185Z"
   },
   {
    "duration": 301,
    "start_time": "2022-03-29T00:40:46.312Z"
   },
   {
    "duration": 67,
    "start_time": "2022-03-29T00:40:46.615Z"
   },
   {
    "duration": 298,
    "start_time": "2022-03-29T00:40:46.684Z"
   },
   {
    "duration": 127,
    "start_time": "2022-03-29T00:40:46.984Z"
   },
   {
    "duration": 4,
    "start_time": "2022-03-29T00:40:59.014Z"
   },
   {
    "duration": 140,
    "start_time": "2022-03-29T00:40:59.020Z"
   },
   {
    "duration": 13,
    "start_time": "2022-03-29T00:40:59.162Z"
   },
   {
    "duration": 4,
    "start_time": "2022-03-29T00:40:59.178Z"
   },
   {
    "duration": 12,
    "start_time": "2022-03-29T00:40:59.184Z"
   },
   {
    "duration": 11,
    "start_time": "2022-03-29T00:40:59.198Z"
   },
   {
    "duration": 13,
    "start_time": "2022-03-29T00:40:59.210Z"
   },
   {
    "duration": 7,
    "start_time": "2022-03-29T00:40:59.224Z"
   },
   {
    "duration": 4,
    "start_time": "2022-03-29T00:40:59.233Z"
   },
   {
    "duration": 7,
    "start_time": "2022-03-29T00:40:59.238Z"
   },
   {
    "duration": 40,
    "start_time": "2022-03-29T00:40:59.246Z"
   },
   {
    "duration": 6,
    "start_time": "2022-03-29T00:40:59.287Z"
   },
   {
    "duration": 8,
    "start_time": "2022-03-29T00:40:59.294Z"
   },
   {
    "duration": 9,
    "start_time": "2022-03-29T00:40:59.304Z"
   },
   {
    "duration": 11,
    "start_time": "2022-03-29T00:40:59.314Z"
   },
   {
    "duration": 9,
    "start_time": "2022-03-29T00:40:59.327Z"
   },
   {
    "duration": 4,
    "start_time": "2022-03-29T00:40:59.337Z"
   },
   {
    "duration": 46,
    "start_time": "2022-03-29T00:40:59.342Z"
   },
   {
    "duration": 4,
    "start_time": "2022-03-29T00:40:59.389Z"
   },
   {
    "duration": 5,
    "start_time": "2022-03-29T00:40:59.394Z"
   },
   {
    "duration": 26,
    "start_time": "2022-03-29T00:40:59.400Z"
   },
   {
    "duration": 4,
    "start_time": "2022-03-29T00:40:59.428Z"
   },
   {
    "duration": 102,
    "start_time": "2022-03-29T00:40:59.433Z"
   },
   {
    "duration": 1154,
    "start_time": "2022-03-29T00:40:59.538Z"
   },
   {
    "duration": 7831,
    "start_time": "2022-03-29T00:41:00.693Z"
   },
   {
    "duration": 61,
    "start_time": "2022-03-29T00:41:08.526Z"
   },
   {
    "duration": 191,
    "start_time": "2022-03-29T00:41:08.589Z"
   },
   {
    "duration": 43,
    "start_time": "2022-03-29T00:41:08.783Z"
   },
   {
    "duration": 386,
    "start_time": "2022-03-29T00:41:08.827Z"
   },
   {
    "duration": 72,
    "start_time": "2022-03-29T00:41:09.214Z"
   },
   {
    "duration": 214,
    "start_time": "2022-03-29T00:41:09.289Z"
   },
   {
    "duration": 42,
    "start_time": "2022-03-29T00:41:09.504Z"
   },
   {
    "duration": 182,
    "start_time": "2022-03-29T00:41:09.547Z"
   },
   {
    "duration": 152,
    "start_time": "2022-03-29T00:41:09.731Z"
   },
   {
    "duration": 127,
    "start_time": "2022-03-29T00:41:09.886Z"
   },
   {
    "duration": 303,
    "start_time": "2022-03-29T00:41:10.014Z"
   },
   {
    "duration": 63,
    "start_time": "2022-03-29T00:41:10.318Z"
   },
   {
    "duration": 279,
    "start_time": "2022-03-29T00:41:10.384Z"
   },
   {
    "duration": 124,
    "start_time": "2022-03-29T00:41:10.664Z"
   },
   {
    "duration": 4,
    "start_time": "2022-03-29T00:41:17.809Z"
   },
   {
    "duration": 251,
    "start_time": "2022-03-29T00:41:17.816Z"
   },
   {
    "duration": 12,
    "start_time": "2022-03-29T00:41:18.068Z"
   },
   {
    "duration": 5,
    "start_time": "2022-03-29T00:41:18.081Z"
   },
   {
    "duration": 12,
    "start_time": "2022-03-29T00:41:18.088Z"
   },
   {
    "duration": 11,
    "start_time": "2022-03-29T00:41:18.102Z"
   },
   {
    "duration": 12,
    "start_time": "2022-03-29T00:41:18.115Z"
   },
   {
    "duration": 6,
    "start_time": "2022-03-29T00:41:18.129Z"
   },
   {
    "duration": 5,
    "start_time": "2022-03-29T00:41:18.137Z"
   },
   {
    "duration": 40,
    "start_time": "2022-03-29T00:41:18.143Z"
   },
   {
    "duration": 11,
    "start_time": "2022-03-29T00:41:18.184Z"
   },
   {
    "duration": 5,
    "start_time": "2022-03-29T00:41:18.196Z"
   },
   {
    "duration": 7,
    "start_time": "2022-03-29T00:41:18.203Z"
   },
   {
    "duration": 10,
    "start_time": "2022-03-29T00:41:18.211Z"
   },
   {
    "duration": 10,
    "start_time": "2022-03-29T00:41:18.222Z"
   },
   {
    "duration": 12,
    "start_time": "2022-03-29T00:41:18.233Z"
   },
   {
    "duration": 34,
    "start_time": "2022-03-29T00:41:18.247Z"
   },
   {
    "duration": 12,
    "start_time": "2022-03-29T00:41:18.282Z"
   },
   {
    "duration": 3,
    "start_time": "2022-03-29T00:41:18.296Z"
   },
   {
    "duration": 4,
    "start_time": "2022-03-29T00:41:18.301Z"
   },
   {
    "duration": 29,
    "start_time": "2022-03-29T00:41:18.306Z"
   },
   {
    "duration": 6,
    "start_time": "2022-03-29T00:41:18.336Z"
   },
   {
    "duration": 128,
    "start_time": "2022-03-29T00:41:18.344Z"
   },
   {
    "duration": 1163,
    "start_time": "2022-03-29T00:41:18.481Z"
   },
   {
    "duration": 7754,
    "start_time": "2022-03-29T00:41:19.646Z"
   },
   {
    "duration": 80,
    "start_time": "2022-03-29T00:41:27.402Z"
   },
   {
    "duration": 105,
    "start_time": "2022-03-29T00:41:27.484Z"
   },
   {
    "duration": 28,
    "start_time": "2022-03-29T00:41:27.591Z"
   },
   {
    "duration": 405,
    "start_time": "2022-03-29T00:41:27.620Z"
   },
   {
    "duration": 59,
    "start_time": "2022-03-29T00:41:28.026Z"
   },
   {
    "duration": 109,
    "start_time": "2022-03-29T00:41:28.087Z"
   },
   {
    "duration": 99,
    "start_time": "2022-03-29T00:41:28.198Z"
   },
   {
    "duration": 178,
    "start_time": "2022-03-29T00:41:28.298Z"
   },
   {
    "duration": 205,
    "start_time": "2022-03-29T00:41:28.480Z"
   },
   {
    "duration": 125,
    "start_time": "2022-03-29T00:41:28.687Z"
   },
   {
    "duration": 330,
    "start_time": "2022-03-29T00:41:28.814Z"
   },
   {
    "duration": 38,
    "start_time": "2022-03-29T00:41:29.147Z"
   },
   {
    "duration": 352,
    "start_time": "2022-03-29T00:41:29.187Z"
   },
   {
    "duration": 123,
    "start_time": "2022-03-29T00:41:29.541Z"
   }
  ],
  "colab": {
   "name": "Predicting Bank Customer's Behvaior.ipynb",
   "provenance": []
  },
  "kernelspec": {
   "display_name": "Python 3 (ipykernel)",
   "language": "python",
   "name": "python3"
  },
  "language_info": {
   "codemirror_mode": {
    "name": "ipython",
    "version": 3
   },
   "file_extension": ".py",
   "mimetype": "text/x-python",
   "name": "python",
   "nbconvert_exporter": "python",
   "pygments_lexer": "ipython3",
   "version": "3.9.7"
  },
  "toc": {
   "base_numbering": 1,
   "nav_menu": {},
   "number_sections": true,
   "sideBar": true,
   "skip_h1_title": true,
   "title_cell": "Table of Contents",
   "title_sidebar": "Contents",
   "toc_cell": false,
   "toc_position": {},
   "toc_section_display": true,
   "toc_window_display": false
  }
 },
 "nbformat": 4,
 "nbformat_minor": 1
}
