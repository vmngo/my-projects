{
 "cells": [
  {
   "cell_type": "markdown",
   "metadata": {
    "id": "V-SHF6AFTQf5"
   },
   "source": [
    "# Analyzing Borrowers’ Risk of Defaulting\n",
    "\n",
    "This project is to prepare a report for a bank’s loan division. The bank already has some data on customers’ credit worthiness.\n",
    "\n",
    "This report will be considered when building the **credit score** of a potential customer. The **credit score** is used to evaluate the ability of a potential borrower to repay their loan.\n",
    "\n",
    "We will be testing four hypotheses:\n",
    "    \n",
    "\n",
    "\n",
    "1.   It is more likely that customers who have children will default on a loan.\n",
    "\n",
    "2.   Marital status will not have an impact on the ability of a potential borrower to repay their loan.\n",
    "\n",
    "3. The higher the income, the more likely it is that the customer will repay the loan on time.\n",
    "\n",
    "4. Different loan purposes will not have an affect on on-time loan repayment.\n",
    "\n",
    "\n",
    "\n",
    "\n",
    "\n"
   ]
  },
  {
   "cell_type": "markdown",
   "metadata": {
    "id": "esr7Out3VOzS"
   },
   "source": [
    "## Open the data file and having a look at the general information"
   ]
  },
  {
   "cell_type": "code",
   "execution_count": 140,
   "metadata": {
    "colab": {
     "base_uri": "https://localhost:8080/",
     "height": 300
    },
    "id": "iG_tEbWwQdat",
    "outputId": "11093a2e-586b-4799-f2b3-78f000a746da"
   },
   "outputs": [],
   "source": [
    "# Loading all libraries \n",
    "import pandas as pd\n",
    "import numpy as np\n",
    "import matplotlib.pyplot as plt"
   ]
  },
  {
   "cell_type": "code",
   "execution_count": 141,
   "metadata": {},
   "outputs": [],
   "source": [
    "# Loading the data\n",
    "try:\n",
    "  df = pd.read_csv('credit_scoring_eng.csv')\n",
    "except:\n",
    "  df = pd.read_csv('/datasets/credit_scoring_eng.csv')"
   ]
  },
  {
   "cell_type": "markdown",
   "metadata": {
    "id": "0edNUGsbXG-V"
   },
   "source": [
    "## Data Exploration \n",
    "\n",
    "Description of the data:\n",
    "\n",
    "* `children` - the number of children in the family\n",
    "* `days_employed` - work experience in days\n",
    "* `dob_years` - client's age in years\n",
    "* `education` - client's education\n",
    "* `education_id` - education identifier\n",
    "* `family_status` - marital status\n",
    "* `family_status_id` - marital status identifier\n",
    "* `gender` - gender of the client\n",
    "* `income_type` - type of employment\n",
    "* `debt` - was there any debt on loan repayment\n",
    "* `total_income` - monthly income\n",
    "* `purpose` - the purpose of obtaining a loan\n",
    "\n",
    "\n",
    "\n",
    "\n",
    "\n"
   ]
  },
  {
   "cell_type": "code",
   "execution_count": 142,
   "metadata": {
    "colab": {
     "base_uri": "https://localhost:8080/",
     "height": 441
    },
    "id": "UgNny4IHXPYF",
    "outputId": "1e6e6821-54de-454d-f135-45f2963c8b54"
   },
   "outputs": [
    {
     "data": {
      "text/html": [
       "<div>\n",
       "<style scoped>\n",
       "    .dataframe tbody tr th:only-of-type {\n",
       "        vertical-align: middle;\n",
       "    }\n",
       "\n",
       "    .dataframe tbody tr th {\n",
       "        vertical-align: top;\n",
       "    }\n",
       "\n",
       "    .dataframe thead th {\n",
       "        text-align: right;\n",
       "    }\n",
       "</style>\n",
       "<table border=\"1\" class=\"dataframe\">\n",
       "  <thead>\n",
       "    <tr style=\"text-align: right;\">\n",
       "      <th></th>\n",
       "      <th>children</th>\n",
       "      <th>days_employed</th>\n",
       "      <th>dob_years</th>\n",
       "      <th>education</th>\n",
       "      <th>education_id</th>\n",
       "      <th>family_status</th>\n",
       "      <th>family_status_id</th>\n",
       "      <th>gender</th>\n",
       "      <th>income_type</th>\n",
       "      <th>debt</th>\n",
       "      <th>total_income</th>\n",
       "      <th>purpose</th>\n",
       "    </tr>\n",
       "  </thead>\n",
       "  <tbody>\n",
       "    <tr>\n",
       "      <th>0</th>\n",
       "      <td>1</td>\n",
       "      <td>-8437.673028</td>\n",
       "      <td>42</td>\n",
       "      <td>bachelor's degree</td>\n",
       "      <td>0</td>\n",
       "      <td>married</td>\n",
       "      <td>0</td>\n",
       "      <td>F</td>\n",
       "      <td>employee</td>\n",
       "      <td>0</td>\n",
       "      <td>40620.102</td>\n",
       "      <td>purchase of the house</td>\n",
       "    </tr>\n",
       "    <tr>\n",
       "      <th>1</th>\n",
       "      <td>1</td>\n",
       "      <td>-4024.803754</td>\n",
       "      <td>36</td>\n",
       "      <td>secondary education</td>\n",
       "      <td>1</td>\n",
       "      <td>married</td>\n",
       "      <td>0</td>\n",
       "      <td>F</td>\n",
       "      <td>employee</td>\n",
       "      <td>0</td>\n",
       "      <td>17932.802</td>\n",
       "      <td>car purchase</td>\n",
       "    </tr>\n",
       "    <tr>\n",
       "      <th>2</th>\n",
       "      <td>0</td>\n",
       "      <td>-5623.422610</td>\n",
       "      <td>33</td>\n",
       "      <td>Secondary Education</td>\n",
       "      <td>1</td>\n",
       "      <td>married</td>\n",
       "      <td>0</td>\n",
       "      <td>M</td>\n",
       "      <td>employee</td>\n",
       "      <td>0</td>\n",
       "      <td>23341.752</td>\n",
       "      <td>purchase of the house</td>\n",
       "    </tr>\n",
       "    <tr>\n",
       "      <th>3</th>\n",
       "      <td>3</td>\n",
       "      <td>-4124.747207</td>\n",
       "      <td>32</td>\n",
       "      <td>secondary education</td>\n",
       "      <td>1</td>\n",
       "      <td>married</td>\n",
       "      <td>0</td>\n",
       "      <td>M</td>\n",
       "      <td>employee</td>\n",
       "      <td>0</td>\n",
       "      <td>42820.568</td>\n",
       "      <td>supplementary education</td>\n",
       "    </tr>\n",
       "    <tr>\n",
       "      <th>4</th>\n",
       "      <td>0</td>\n",
       "      <td>340266.072047</td>\n",
       "      <td>53</td>\n",
       "      <td>secondary education</td>\n",
       "      <td>1</td>\n",
       "      <td>civil partnership</td>\n",
       "      <td>1</td>\n",
       "      <td>F</td>\n",
       "      <td>retiree</td>\n",
       "      <td>0</td>\n",
       "      <td>25378.572</td>\n",
       "      <td>to have a wedding</td>\n",
       "    </tr>\n",
       "    <tr>\n",
       "      <th>5</th>\n",
       "      <td>0</td>\n",
       "      <td>-926.185831</td>\n",
       "      <td>27</td>\n",
       "      <td>bachelor's degree</td>\n",
       "      <td>0</td>\n",
       "      <td>civil partnership</td>\n",
       "      <td>1</td>\n",
       "      <td>M</td>\n",
       "      <td>business</td>\n",
       "      <td>0</td>\n",
       "      <td>40922.170</td>\n",
       "      <td>purchase of the house</td>\n",
       "    </tr>\n",
       "    <tr>\n",
       "      <th>6</th>\n",
       "      <td>0</td>\n",
       "      <td>-2879.202052</td>\n",
       "      <td>43</td>\n",
       "      <td>bachelor's degree</td>\n",
       "      <td>0</td>\n",
       "      <td>married</td>\n",
       "      <td>0</td>\n",
       "      <td>F</td>\n",
       "      <td>business</td>\n",
       "      <td>0</td>\n",
       "      <td>38484.156</td>\n",
       "      <td>housing transactions</td>\n",
       "    </tr>\n",
       "    <tr>\n",
       "      <th>7</th>\n",
       "      <td>0</td>\n",
       "      <td>-152.779569</td>\n",
       "      <td>50</td>\n",
       "      <td>SECONDARY EDUCATION</td>\n",
       "      <td>1</td>\n",
       "      <td>married</td>\n",
       "      <td>0</td>\n",
       "      <td>M</td>\n",
       "      <td>employee</td>\n",
       "      <td>0</td>\n",
       "      <td>21731.829</td>\n",
       "      <td>education</td>\n",
       "    </tr>\n",
       "    <tr>\n",
       "      <th>8</th>\n",
       "      <td>2</td>\n",
       "      <td>-6929.865299</td>\n",
       "      <td>35</td>\n",
       "      <td>BACHELOR'S DEGREE</td>\n",
       "      <td>0</td>\n",
       "      <td>civil partnership</td>\n",
       "      <td>1</td>\n",
       "      <td>F</td>\n",
       "      <td>employee</td>\n",
       "      <td>0</td>\n",
       "      <td>15337.093</td>\n",
       "      <td>having a wedding</td>\n",
       "    </tr>\n",
       "    <tr>\n",
       "      <th>9</th>\n",
       "      <td>0</td>\n",
       "      <td>-2188.756445</td>\n",
       "      <td>41</td>\n",
       "      <td>secondary education</td>\n",
       "      <td>1</td>\n",
       "      <td>married</td>\n",
       "      <td>0</td>\n",
       "      <td>M</td>\n",
       "      <td>employee</td>\n",
       "      <td>0</td>\n",
       "      <td>23108.150</td>\n",
       "      <td>purchase of the house for my family</td>\n",
       "    </tr>\n",
       "  </tbody>\n",
       "</table>\n",
       "</div>"
      ],
      "text/plain": [
       "   children  days_employed  dob_years            education  education_id  \\\n",
       "0         1   -8437.673028         42    bachelor's degree             0   \n",
       "1         1   -4024.803754         36  secondary education             1   \n",
       "2         0   -5623.422610         33  Secondary Education             1   \n",
       "3         3   -4124.747207         32  secondary education             1   \n",
       "4         0  340266.072047         53  secondary education             1   \n",
       "5         0    -926.185831         27    bachelor's degree             0   \n",
       "6         0   -2879.202052         43    bachelor's degree             0   \n",
       "7         0    -152.779569         50  SECONDARY EDUCATION             1   \n",
       "8         2   -6929.865299         35    BACHELOR'S DEGREE             0   \n",
       "9         0   -2188.756445         41  secondary education             1   \n",
       "\n",
       "       family_status  family_status_id gender income_type  debt  total_income  \\\n",
       "0            married                 0      F    employee     0     40620.102   \n",
       "1            married                 0      F    employee     0     17932.802   \n",
       "2            married                 0      M    employee     0     23341.752   \n",
       "3            married                 0      M    employee     0     42820.568   \n",
       "4  civil partnership                 1      F     retiree     0     25378.572   \n",
       "5  civil partnership                 1      M    business     0     40922.170   \n",
       "6            married                 0      F    business     0     38484.156   \n",
       "7            married                 0      M    employee     0     21731.829   \n",
       "8  civil partnership                 1      F    employee     0     15337.093   \n",
       "9            married                 0      M    employee     0     23108.150   \n",
       "\n",
       "                               purpose  \n",
       "0                purchase of the house  \n",
       "1                         car purchase  \n",
       "2                purchase of the house  \n",
       "3              supplementary education  \n",
       "4                    to have a wedding  \n",
       "5                purchase of the house  \n",
       "6                 housing transactions  \n",
       "7                            education  \n",
       "8                     having a wedding  \n",
       "9  purchase of the house for my family  "
      ]
     },
     "execution_count": 142,
     "metadata": {},
     "output_type": "execute_result"
    }
   ],
   "source": [
    "# Obtaining the first 10 rows from df\n",
    "df.head(10)"
   ]
  },
  {
   "cell_type": "code",
   "execution_count": 143,
   "metadata": {
    "colab": {
     "base_uri": "https://localhost:8080/"
    },
    "id": "qL6lNuNOZmMK",
    "outputId": "ac8b662d-f38d-4844-8ffb-8bca067f57f7"
   },
   "outputs": [
    {
     "data": {
      "text/plain": [
       "(21525, 12)"
      ]
     },
     "execution_count": 143,
     "metadata": {},
     "output_type": "execute_result"
    }
   ],
   "source": [
    "# Seeing how many rows and columns our dataset has\n",
    "df.shape"
   ]
  },
  {
   "cell_type": "markdown",
   "metadata": {
    "id": "GegO6LysaFh3"
   },
   "source": [
    "The dataset has 21,525 rows and 12 columns"
   ]
  },
  {
   "cell_type": "code",
   "execution_count": 144,
   "metadata": {
    "colab": {
     "base_uri": "https://localhost:8080/"
    },
    "id": "6PNJ54fZY1fz",
    "outputId": "d37bc10f-844d-4a7e-969c-b13e22019052"
   },
   "outputs": [
    {
     "name": "stdout",
     "output_type": "stream",
     "text": [
      "<class 'pandas.core.frame.DataFrame'>\n",
      "RangeIndex: 21525 entries, 0 to 21524\n",
      "Data columns (total 12 columns):\n",
      " #   Column            Non-Null Count  Dtype  \n",
      "---  ------            --------------  -----  \n",
      " 0   children          21525 non-null  int64  \n",
      " 1   days_employed     19351 non-null  float64\n",
      " 2   dob_years         21525 non-null  int64  \n",
      " 3   education         21525 non-null  object \n",
      " 4   education_id      21525 non-null  int64  \n",
      " 5   family_status     21525 non-null  object \n",
      " 6   family_status_id  21525 non-null  int64  \n",
      " 7   gender            21525 non-null  object \n",
      " 8   income_type       21525 non-null  object \n",
      " 9   debt              21525 non-null  int64  \n",
      " 10  total_income      19351 non-null  float64\n",
      " 11  purpose           21525 non-null  object \n",
      "dtypes: float64(2), int64(5), object(5)\n",
      "memory usage: 2.0+ MB\n"
     ]
    }
   ],
   "source": [
    "# Obtaining general information \n",
    "df.info()"
   ]
  },
  {
   "cell_type": "markdown",
   "metadata": {
    "id": "F5DItt0lad4u"
   },
   "source": [
    "Our dataset has 21,525 rows, but the 'days_employed' and 'total_income' columns have less than 21,525 values. This means the data contains missing values."
   ]
  },
  {
   "cell_type": "code",
   "execution_count": 145,
   "metadata": {
    "colab": {
     "base_uri": "https://localhost:8080/"
    },
    "id": "Qzdn3Oflak30",
    "outputId": "171cad07-49d3-4134-cdf8-12559661f13b"
   },
   "outputs": [
    {
     "name": "stdout",
     "output_type": "stream",
     "text": [
      "                  missing_values     %\n",
      "days_employed               2174  10.1\n",
      "total_income                2174  10.1\n",
      "children                       0   0.0\n",
      "dob_years                      0   0.0\n",
      "education                      0   0.0\n",
      "education_id                   0   0.0\n",
      "family_status                  0   0.0\n",
      "family_status_id               0   0.0\n",
      "gender                         0   0.0\n",
      "income_type                    0   0.0\n",
      "debt                           0   0.0\n",
      "purpose                        0   0.0\n"
     ]
    }
   ],
   "source": [
    "# Percentage of missing values per column\n",
    "df_mis = df.isnull().sum().to_frame('missing_values')\n",
    "df_mis['%'] = round(100 * df.isnull().sum() / len(df), 3)\n",
    "print(df_mis.sort_values(by='%', ascending=False))"
   ]
  },
  {
   "cell_type": "markdown",
   "metadata": {
    "id": "6QK_Y5zrfvM5"
   },
   "source": [
    "The days_employed and total_income columns both have 2,174 missing values. The percent of missing values per column is roughly 10.1%."
   ]
  },
  {
   "cell_type": "code",
   "execution_count": 146,
   "metadata": {
    "colab": {
     "base_uri": "https://localhost:8080/",
     "height": 300
    },
    "id": "lRfb6PkegN_0",
    "outputId": "9a01e918-307d-409e-9a04-c27af201d2c6"
   },
   "outputs": [
    {
     "data": {
      "text/html": [
       "<div>\n",
       "<style scoped>\n",
       "    .dataframe tbody tr th:only-of-type {\n",
       "        vertical-align: middle;\n",
       "    }\n",
       "\n",
       "    .dataframe tbody tr th {\n",
       "        vertical-align: top;\n",
       "    }\n",
       "\n",
       "    .dataframe thead th {\n",
       "        text-align: right;\n",
       "    }\n",
       "</style>\n",
       "<table border=\"1\" class=\"dataframe\">\n",
       "  <thead>\n",
       "    <tr style=\"text-align: right;\">\n",
       "      <th></th>\n",
       "      <th>children</th>\n",
       "      <th>days_employed</th>\n",
       "      <th>dob_years</th>\n",
       "      <th>education_id</th>\n",
       "      <th>family_status_id</th>\n",
       "      <th>debt</th>\n",
       "      <th>total_income</th>\n",
       "    </tr>\n",
       "  </thead>\n",
       "  <tbody>\n",
       "    <tr>\n",
       "      <th>count</th>\n",
       "      <td>21525.000000</td>\n",
       "      <td>19351.000000</td>\n",
       "      <td>21525.000000</td>\n",
       "      <td>21525.000000</td>\n",
       "      <td>21525.000000</td>\n",
       "      <td>21525.000000</td>\n",
       "      <td>19351.000000</td>\n",
       "    </tr>\n",
       "    <tr>\n",
       "      <th>mean</th>\n",
       "      <td>0.538908</td>\n",
       "      <td>63046.497661</td>\n",
       "      <td>43.293380</td>\n",
       "      <td>0.817236</td>\n",
       "      <td>0.972544</td>\n",
       "      <td>0.080883</td>\n",
       "      <td>26787.568355</td>\n",
       "    </tr>\n",
       "    <tr>\n",
       "      <th>std</th>\n",
       "      <td>1.381587</td>\n",
       "      <td>140827.311974</td>\n",
       "      <td>12.574584</td>\n",
       "      <td>0.548138</td>\n",
       "      <td>1.420324</td>\n",
       "      <td>0.272661</td>\n",
       "      <td>16475.450632</td>\n",
       "    </tr>\n",
       "    <tr>\n",
       "      <th>min</th>\n",
       "      <td>-1.000000</td>\n",
       "      <td>-18388.949901</td>\n",
       "      <td>0.000000</td>\n",
       "      <td>0.000000</td>\n",
       "      <td>0.000000</td>\n",
       "      <td>0.000000</td>\n",
       "      <td>3306.762000</td>\n",
       "    </tr>\n",
       "    <tr>\n",
       "      <th>25%</th>\n",
       "      <td>0.000000</td>\n",
       "      <td>-2747.423625</td>\n",
       "      <td>33.000000</td>\n",
       "      <td>1.000000</td>\n",
       "      <td>0.000000</td>\n",
       "      <td>0.000000</td>\n",
       "      <td>16488.504500</td>\n",
       "    </tr>\n",
       "    <tr>\n",
       "      <th>50%</th>\n",
       "      <td>0.000000</td>\n",
       "      <td>-1203.369529</td>\n",
       "      <td>42.000000</td>\n",
       "      <td>1.000000</td>\n",
       "      <td>0.000000</td>\n",
       "      <td>0.000000</td>\n",
       "      <td>23202.870000</td>\n",
       "    </tr>\n",
       "    <tr>\n",
       "      <th>75%</th>\n",
       "      <td>1.000000</td>\n",
       "      <td>-291.095954</td>\n",
       "      <td>53.000000</td>\n",
       "      <td>1.000000</td>\n",
       "      <td>1.000000</td>\n",
       "      <td>0.000000</td>\n",
       "      <td>32549.611000</td>\n",
       "    </tr>\n",
       "    <tr>\n",
       "      <th>max</th>\n",
       "      <td>20.000000</td>\n",
       "      <td>401755.400475</td>\n",
       "      <td>75.000000</td>\n",
       "      <td>4.000000</td>\n",
       "      <td>4.000000</td>\n",
       "      <td>1.000000</td>\n",
       "      <td>362496.645000</td>\n",
       "    </tr>\n",
       "  </tbody>\n",
       "</table>\n",
       "</div>"
      ],
      "text/plain": [
       "           children  days_employed     dob_years  education_id  \\\n",
       "count  21525.000000   19351.000000  21525.000000  21525.000000   \n",
       "mean       0.538908   63046.497661     43.293380      0.817236   \n",
       "std        1.381587  140827.311974     12.574584      0.548138   \n",
       "min       -1.000000  -18388.949901      0.000000      0.000000   \n",
       "25%        0.000000   -2747.423625     33.000000      1.000000   \n",
       "50%        0.000000   -1203.369529     42.000000      1.000000   \n",
       "75%        1.000000    -291.095954     53.000000      1.000000   \n",
       "max       20.000000  401755.400475     75.000000      4.000000   \n",
       "\n",
       "       family_status_id          debt   total_income  \n",
       "count      21525.000000  21525.000000   19351.000000  \n",
       "mean           0.972544      0.080883   26787.568355  \n",
       "std            1.420324      0.272661   16475.450632  \n",
       "min            0.000000      0.000000    3306.762000  \n",
       "25%            0.000000      0.000000   16488.504500  \n",
       "50%            0.000000      0.000000   23202.870000  \n",
       "75%            1.000000      0.000000   32549.611000  \n",
       "max            4.000000      1.000000  362496.645000  "
      ]
     },
     "execution_count": 146,
     "metadata": {},
     "output_type": "execute_result"
    }
   ],
   "source": [
    "# Getting the statiscal summary of the dataset\n",
    "df.describe()"
   ]
  },
  {
   "cell_type": "markdown",
   "metadata": {
    "id": "9o_V1E6whcfx"
   },
   "source": [
    "### Conclusions\n",
    "\n",
    "We can see that there are 21,525 rows and 12 columns. Column names follow the rules of good style, so no change will be needed there. Since there are two columns with exactly the same number of missing values, we can say that these values are not missing at random. \n",
    "\n",
    "Next we will deal go through each column and see what issues we may have in them."
   ]
  },
  {
   "cell_type": "markdown",
   "metadata": {
    "id": "Px0Ggz9zVMQj"
   },
   "source": [
    "## Data Transformation"
   ]
  },
  {
   "cell_type": "code",
   "execution_count": 147,
   "metadata": {
    "colab": {
     "base_uri": "https://localhost:8080/"
    },
    "id": "677eqn8GVRlC",
    "outputId": "045f19dc-3156-4c96-bc67-27572c3905f0"
   },
   "outputs": [
    {
     "name": "stdout",
     "output_type": "stream",
     "text": [
      "[\"bachelor's degree\" 'secondary education' 'Secondary Education'\n",
      " 'SECONDARY EDUCATION' \"BACHELOR'S DEGREE\" 'some college'\n",
      " 'primary education' \"Bachelor's Degree\" 'SOME COLLEGE' 'Some College'\n",
      " 'PRIMARY EDUCATION' 'Primary Education' 'Graduate Degree'\n",
      " 'GRADUATE DEGREE' 'graduate degree']\n"
     ]
    }
   ],
   "source": [
    "# Checking for unique values in the education column\n",
    "print(df['education'].unique())"
   ]
  },
  {
   "cell_type": "code",
   "execution_count": 148,
   "metadata": {
    "id": "KhmQPmiqWMYk"
   },
   "outputs": [],
   "source": [
    "# Fixing uppercase and lowercase problems in the education column\n",
    "df['education'] = df['education'].str.lower()"
   ]
  },
  {
   "cell_type": "code",
   "execution_count": 149,
   "metadata": {
    "colab": {
     "base_uri": "https://localhost:8080/"
    },
    "id": "8knE4P_nWjoa",
    "outputId": "30f5f89a-b84c-413a-e376-5905e0b48a3a"
   },
   "outputs": [
    {
     "data": {
      "text/plain": [
       "secondary education    15233\n",
       "bachelor's degree       5260\n",
       "some college             744\n",
       "primary education        282\n",
       "graduate degree            6\n",
       "Name: education, dtype: int64"
      ]
     },
     "execution_count": 149,
     "metadata": {},
     "output_type": "execute_result"
    }
   ],
   "source": [
    "# Checking to see if all values in the education column has been fixed\n",
    "df['education'].value_counts()"
   ]
  },
  {
   "cell_type": "code",
   "execution_count": 150,
   "metadata": {
    "colab": {
     "base_uri": "https://localhost:8080/"
    },
    "id": "xFUYYJWpXAT7",
    "outputId": "0fd663f8-44d2-48c7-dfe3-151deaffe434"
   },
   "outputs": [
    {
     "name": "stdout",
     "output_type": "stream",
     "text": [
      "[ 1  0  3  2 -1  4 20  5]\n"
     ]
    }
   ],
   "source": [
    "# Checking for unique values in the children column\n",
    "print(df['children'].unique())"
   ]
  },
  {
   "cell_type": "markdown",
   "metadata": {
    "id": "IOaDFMBOXQtY"
   },
   "source": [
    "There is a negative value and an extremely high outlier in the 'children' column. This could be do to a human error when inputing the data. Most likely the person entering the data meant to put 1 for -1 and 2 for 20. We will replace these values accordingly."
   ]
  },
  {
   "cell_type": "code",
   "execution_count": 151,
   "metadata": {
    "id": "zCpI28DUXUMe"
   },
   "outputs": [],
   "source": [
    "# Replacing values for the children column\n",
    "df['children'].replace(-1, 1, inplace=True)\n",
    "df['children'].replace(20, 2, inplace=True)"
   ]
  },
  {
   "cell_type": "code",
   "execution_count": 152,
   "metadata": {
    "colab": {
     "base_uri": "https://localhost:8080/"
    },
    "id": "Y8Vmsve9XdX8",
    "outputId": "2353577b-f54a-4489-ec47-2b93da12135a"
   },
   "outputs": [
    {
     "data": {
      "text/plain": [
       "0    14149\n",
       "1     4865\n",
       "2     2131\n",
       "3      330\n",
       "4       41\n",
       "5        9\n",
       "Name: children, dtype: int64"
      ]
     },
     "execution_count": 152,
     "metadata": {},
     "output_type": "execute_result"
    }
   ],
   "source": [
    "# Checking to see if all values in the children column has been fixed\n",
    "df['children'].value_counts()"
   ]
  },
  {
   "cell_type": "code",
   "execution_count": 153,
   "metadata": {
    "colab": {
     "base_uri": "https://localhost:8080/"
    },
    "id": "2XS7TpD2XsuR",
    "outputId": "9afc15f8-69ed-4cf4-dd16-af8de50949f2"
   },
   "outputs": [
    {
     "name": "stdout",
     "output_type": "stream",
     "text": [
      "[-8437.67302776 -4024.80375385 -5623.42261023 ... -2113.3468877\n",
      " -3112.4817052  -1984.50758853]\n"
     ]
    }
   ],
   "source": [
    "# Checking for unique values in the days_employed column\n",
    "print(df['days_employed'].unique())"
   ]
  },
  {
   "cell_type": "markdown",
   "metadata": {
    "id": "-ycUxZ-_X2VJ"
   },
   "source": [
    "There are negative values in the 'days_employed' column. This could be due to some technical issues. We cannot drop these rows, so instead we will turn the negative values into positive values."
   ]
  },
  {
   "cell_type": "code",
   "execution_count": 154,
   "metadata": {
    "id": "2_IEIsLgX7d0"
   },
   "outputs": [],
   "source": [
    "# Taking the absolute value of the days_employed column\n",
    "df['days_employed'] = df['days_employed'].abs()"
   ]
  },
  {
   "cell_type": "code",
   "execution_count": 155,
   "metadata": {
    "colab": {
     "base_uri": "https://localhost:8080/"
    },
    "id": "r-pV-cl-YQAt",
    "outputId": "09d58c5e-d489-4907-9642-ebcf50f0304c"
   },
   "outputs": [
    {
     "name": "stdout",
     "output_type": "stream",
     "text": [
      "[8437.67302776 4024.80375385 5623.42261023 ... 2113.3468877  3112.4817052\n",
      " 1984.50758853]\n"
     ]
    }
   ],
   "source": [
    "# Checking to see if all values in the days_employed column has been fixed\n",
    "print(df['days_employed'].unique())"
   ]
  },
  {
   "cell_type": "code",
   "execution_count": 156,
   "metadata": {
    "colab": {
     "base_uri": "https://localhost:8080/"
    },
    "id": "q_by8XBsYyZ0",
    "outputId": "d80335d4-089e-4dd9-d648-966473b26f38"
   },
   "outputs": [
    {
     "name": "stdout",
     "output_type": "stream",
     "text": [
      "[42 36 33 32 53 27 43 50 35 41 40 65 54 56 26 48 24 21 57 67 28 63 62 47\n",
      " 34 68 25 31 30 20 49 37 45 61 64 44 52 46 23 38 39 51  0 59 29 60 55 58\n",
      " 71 22 73 66 69 19 72 70 74 75]\n"
     ]
    }
   ],
   "source": [
    "# Checking for unique values in the dob_years column\n",
    "print(df['dob_years'].unique())"
   ]
  },
  {
   "cell_type": "markdown",
   "metadata": {
    "id": "PGPkl_q8ZXMS"
   },
   "source": [
    "It is impossible for the dob_years column to have a value of 0. We will check for the mean and median of this column and replace it accordingly."
   ]
  },
  {
   "cell_type": "code",
   "execution_count": 157,
   "metadata": {
    "colab": {
     "base_uri": "https://localhost:8080/"
    },
    "id": "7KD0B63ZZnsU",
    "outputId": "6f90a1a2-a459-4c46-80e2-cf5ad5412bef"
   },
   "outputs": [
    {
     "data": {
      "text/plain": [
       "count    21525.000000\n",
       "mean        43.293380\n",
       "std         12.574584\n",
       "min          0.000000\n",
       "25%         33.000000\n",
       "50%         42.000000\n",
       "75%         53.000000\n",
       "max         75.000000\n",
       "Name: dob_years, dtype: float64"
      ]
     },
     "execution_count": 157,
     "metadata": {},
     "output_type": "execute_result"
    }
   ],
   "source": [
    "# Getting the satistical summary for the dob_years column\n",
    "df['dob_years'].describe()"
   ]
  },
  {
   "cell_type": "markdown",
   "metadata": {
    "id": "Ui__tTiaZyqf"
   },
   "source": [
    "Since the mean and median are pretty close in value, there are no significant outliers in this column. We will replace the 0's in the dob_years column with the mean."
   ]
  },
  {
   "cell_type": "code",
   "execution_count": 158,
   "metadata": {
    "id": "rSmrJJ5TaB7p"
   },
   "outputs": [],
   "source": [
    "# Replacing the 0 in dob_years with the mean\n",
    "avg_dob_years = df['dob_years'].mean()\n",
    "df.loc[df['dob_years'] == 0, 'dob_years'] = round(avg_dob_years)\n"
   ]
  },
  {
   "cell_type": "code",
   "execution_count": 159,
   "metadata": {
    "colab": {
     "base_uri": "https://localhost:8080/"
    },
    "id": "R7FbS2SUeRZw",
    "outputId": "b0e52626-d8e5-48ca-e4f2-8caa99e5bfa9"
   },
   "outputs": [
    {
     "name": "stdout",
     "output_type": "stream",
     "text": [
      "[42 36 33 32 53 27 43 50 35 41 40 65 54 56 26 48 24 21 57 67 28 63 62 47\n",
      " 34 68 25 31 30 20 49 37 45 61 64 44 52 46 23 38 39 51 59 29 60 55 58 71\n",
      " 22 73 66 69 19 72 70 74 75]\n"
     ]
    }
   ],
   "source": [
    "# Checking to see if all values in the dob_years column has been fixed\n",
    "print(df['dob_years'].unique())"
   ]
  },
  {
   "cell_type": "code",
   "execution_count": 160,
   "metadata": {
    "colab": {
     "base_uri": "https://localhost:8080/"
    },
    "id": "AyDI4WFhftAp",
    "outputId": "fabbc1ab-37ea-4f85-dffd-fa8bec1d7ceb"
   },
   "outputs": [
    {
     "name": "stdout",
     "output_type": "stream",
     "text": [
      "['married' 'civil partnership' 'widow / widower' 'divorced' 'unmarried']\n"
     ]
    }
   ],
   "source": [
    "# Checking for unique values in the family_status column\n",
    "print(df['family_status'].unique())"
   ]
  },
  {
   "cell_type": "code",
   "execution_count": 161,
   "metadata": {
    "id": "nhkLx2h5gLfn"
   },
   "outputs": [],
   "source": [
    "# Replacing widow / widower with widowed in the family_status column\n",
    "df.loc[df['family_status'] == 'widow / widower', 'family_status'] = 'widowed'"
   ]
  },
  {
   "cell_type": "code",
   "execution_count": 162,
   "metadata": {
    "colab": {
     "base_uri": "https://localhost:8080/"
    },
    "id": "mVuOlr-Mgqun",
    "outputId": "e1df6196-2942-4051-dbb5-2189ddf9598a"
   },
   "outputs": [
    {
     "name": "stdout",
     "output_type": "stream",
     "text": [
      "['married' 'civil partnership' 'widowed' 'divorced' 'unmarried']\n"
     ]
    }
   ],
   "source": [
    "# Checking to see if all values in the family_satus column has been fixed\n",
    "print(df['family_status'].unique())"
   ]
  },
  {
   "cell_type": "code",
   "execution_count": 163,
   "metadata": {
    "colab": {
     "base_uri": "https://localhost:8080/"
    },
    "id": "dpWT5VV3f7H3",
    "outputId": "69409e3a-f839-47c1-db91-4fc33555ea95"
   },
   "outputs": [
    {
     "name": "stdout",
     "output_type": "stream",
     "text": [
      "['F' 'M' 'XNA']\n"
     ]
    }
   ],
   "source": [
    "# Checking for unique values in the gender column\n",
    "print(df['gender'].unique())"
   ]
  },
  {
   "cell_type": "markdown",
   "metadata": {
    "id": "8MnjTbGthlcU"
   },
   "source": [
    "Since the XNA value is unclear. We shall see how many XNA value there are in the dataset before deciding what to do with it."
   ]
  },
  {
   "cell_type": "code",
   "execution_count": 164,
   "metadata": {
    "colab": {
     "base_uri": "https://localhost:8080/"
    },
    "id": "pbN5Ut4XhkZ5",
    "outputId": "77823bbd-59a7-4c6c-cb62-1fdf9ec6cb7e"
   },
   "outputs": [
    {
     "data": {
      "text/plain": [
       "F      14236\n",
       "M       7288\n",
       "XNA        1\n",
       "Name: gender, dtype: int64"
      ]
     },
     "execution_count": 164,
     "metadata": {},
     "output_type": "execute_result"
    }
   ],
   "source": [
    "# Finding the number of XNA values in the gender column\n",
    "df['gender'].value_counts()"
   ]
  },
  {
   "cell_type": "markdown",
   "metadata": {
    "id": "0C6TNGz0h4bB"
   },
   "source": [
    "Since there is only one XNA value in the dataset, we shall leave it alone. "
   ]
  },
  {
   "cell_type": "code",
   "execution_count": 165,
   "metadata": {
    "colab": {
     "base_uri": "https://localhost:8080/"
    },
    "id": "FZPpzYNUiDR5",
    "outputId": "22a721fb-3812-47d7-d217-5a5c9e25c97e"
   },
   "outputs": [
    {
     "name": "stdout",
     "output_type": "stream",
     "text": [
      "['employee' 'retiree' 'business' 'civil servant' 'unemployed'\n",
      " 'entrepreneur' 'student' 'paternity / maternity leave']\n"
     ]
    }
   ],
   "source": [
    "# Checking for unique values in the income_type column\n",
    "print(df['income_type'].unique())"
   ]
  },
  {
   "cell_type": "code",
   "execution_count": 166,
   "metadata": {
    "id": "V2LQooPGiYYv"
   },
   "outputs": [],
   "source": [
    "# Replacing the paternity/maternity leave value with parental leave in the income_type column\n",
    "df.loc[df['income_type'] == 'paternity / maternity leave', 'income_type'] = 'parental leave'"
   ]
  },
  {
   "cell_type": "code",
   "execution_count": 167,
   "metadata": {
    "colab": {
     "base_uri": "https://localhost:8080/"
    },
    "id": "fR9FmcTnio86",
    "outputId": "b94c4788-96ca-4d51-89b9-1977623d0d4d"
   },
   "outputs": [
    {
     "name": "stdout",
     "output_type": "stream",
     "text": [
      "['employee' 'retiree' 'business' 'civil servant' 'unemployed'\n",
      " 'entrepreneur' 'student' 'parental leave']\n"
     ]
    }
   ],
   "source": [
    "# Checking to see if all values in the income_type column has been fixed\n",
    "print(df['income_type'].unique())"
   ]
  },
  {
   "cell_type": "code",
   "execution_count": 168,
   "metadata": {
    "colab": {
     "base_uri": "https://localhost:8080/"
    },
    "id": "JkNA7Ns0kuF2",
    "outputId": "8ee56d67-c24b-4e19-ffc9-ae3ebd010ffe"
   },
   "outputs": [
    {
     "name": "stdout",
     "output_type": "stream",
     "text": [
      "['purchase of the house' 'car purchase' 'supplementary education'\n",
      " 'to have a wedding' 'housing transactions' 'education' 'having a wedding'\n",
      " 'purchase of the house for my family' 'buy real estate'\n",
      " 'buy commercial real estate' 'buy residential real estate'\n",
      " 'construction of own property' 'property' 'building a property'\n",
      " 'buying a second-hand car' 'buying my own car'\n",
      " 'transactions with commercial real estate' 'building a real estate'\n",
      " 'housing' 'transactions with my real estate' 'cars' 'to become educated'\n",
      " 'second-hand car purchase' 'getting an education' 'car'\n",
      " 'wedding ceremony' 'to get a supplementary education'\n",
      " 'purchase of my own house' 'real estate transactions'\n",
      " 'getting higher education' 'to own a car' 'purchase of a car'\n",
      " 'profile education' 'university education'\n",
      " 'buying property for renting out' 'to buy a car' 'housing renovation'\n",
      " 'going to university']\n"
     ]
    }
   ],
   "source": [
    "# Checking for unique values in the purpose column\n",
    "print(df['purpose'].unique())"
   ]
  },
  {
   "cell_type": "markdown",
   "metadata": {
    "id": "lEjjllNZmNBp"
   },
   "source": [
    "Since many of these purposes are the same, but worded differently, we will simplify the purpose column."
   ]
  },
  {
   "cell_type": "code",
   "execution_count": 169,
   "metadata": {
    "id": "ijFtADL3mB0w"
   },
   "outputs": [],
   "source": [
    "# Grouping phrases in common into 4 different groups in the purpose column \n",
    "real_estate = ['house', 'real estate', 'property', 'housing']\n",
    "car = ['car', 'cars']\n",
    "education = ['education', 'educated', 'university']\n",
    "wedding = ['wedding']\n",
    "\n",
    "# Changing the values with 4 groups of purposes: real estate, car, wedding, education\n",
    "df.loc[df['purpose'].str.contains('|'.join(real_estate)),'purpose'] = 'real estate'\n",
    "df.loc[df['purpose'].str.contains('|'.join(car)),'purpose'] = 'car'\n",
    "df.loc[df['purpose'].str.contains('|'.join(wedding)),'purpose'] = 'wedding'\n",
    "df.loc[df['purpose'].str.contains('|'.join(education)),'purpose'] = 'education'\n"
   ]
  },
  {
   "cell_type": "code",
   "execution_count": 170,
   "metadata": {
    "colab": {
     "base_uri": "https://localhost:8080/"
    },
    "id": "pG9E8h9xogM0",
    "outputId": "026ee84f-d503-429d-f99e-aec3d936b653"
   },
   "outputs": [
    {
     "name": "stdout",
     "output_type": "stream",
     "text": [
      "['real estate' 'car' 'education' 'wedding']\n"
     ]
    }
   ],
   "source": [
    "# Checking to see if all values in the purpose column has been fixed\n",
    "print(df['purpose'].unique())"
   ]
  },
  {
   "cell_type": "markdown",
   "metadata": {
    "id": "IA6dyGNcphP1"
   },
   "source": [
    "### Conclusions\n",
    "We went through each column and checked for unique values. Here is what we've changed:\n",
    "* We changed uppercase problems to lowercase in the `education` column\n",
    "* We replaced the -1 and 20 value in the `children` column with 1 and 2 \n",
    "* We changed all negative values in the `days_employed` column to positive values\n",
    "* We replaced the 0 in the `dob_years` column with the mean value \n",
    "* We simplified the 'widow/widower' value in the `family_status` column to 'widowed'\n",
    "* We simplified the purposes in the `pupose` column into 4 different categories: real estate, car, education, wedding\n",
    "\n",
    "Next we will deal with the duplicated and missing values in our dataset."
   ]
  },
  {
   "cell_type": "markdown",
   "metadata": {
    "id": "E3uYRg_DklMD"
   },
   "source": [
    "## Data Preprocessing"
   ]
  },
  {
   "cell_type": "code",
   "execution_count": 171,
   "metadata": {
    "colab": {
     "base_uri": "https://localhost:8080/"
    },
    "id": "H0xHixYCjucr",
    "outputId": "7e9ca3ec-819b-4156-a9ee-e224bfcfd6a4"
   },
   "outputs": [
    {
     "data": {
      "text/plain": [
       "408"
      ]
     },
     "execution_count": 171,
     "metadata": {},
     "output_type": "execute_result"
    }
   ],
   "source": [
    "# Checking for duplicates \n",
    "df.duplicated().sum()"
   ]
  },
  {
   "cell_type": "code",
   "execution_count": 172,
   "metadata": {
    "id": "9NBxA50DkBuB"
   },
   "outputs": [],
   "source": [
    "# Removing the duplicates\n",
    "df = df.drop_duplicates()"
   ]
  },
  {
   "cell_type": "code",
   "execution_count": 173,
   "metadata": {
    "colab": {
     "base_uri": "https://localhost:8080/"
    },
    "id": "tiGqrtdrkIzC",
    "outputId": "959aa412-fba4-4bfe-f1b2-f2455ecd6844"
   },
   "outputs": [
    {
     "data": {
      "text/plain": [
       "0"
      ]
     },
     "execution_count": 173,
     "metadata": {},
     "output_type": "execute_result"
    }
   ],
   "source": [
    "# Checking to see if there are any duplicates left\n",
    "df.duplicated().sum()"
   ]
  },
  {
   "cell_type": "markdown",
   "metadata": {
    "id": "IHG9VEV9sc1n"
   },
   "source": [
    "###  Missing Values"
   ]
  },
  {
   "cell_type": "code",
   "execution_count": 174,
   "metadata": {
    "colab": {
     "base_uri": "https://localhost:8080/"
    },
    "id": "PfkUyRzJkuuk",
    "outputId": "aedb2096-833a-43b9-ff46-d4261f7e41df"
   },
   "outputs": [
    {
     "data": {
      "text/plain": [
       "children               0\n",
       "days_employed       1766\n",
       "dob_years              0\n",
       "education              0\n",
       "education_id           0\n",
       "family_status          0\n",
       "family_status_id       0\n",
       "gender                 0\n",
       "income_type            0\n",
       "debt                   0\n",
       "total_income        1766\n",
       "purpose                0\n",
       "dtype: int64"
      ]
     },
     "execution_count": 174,
     "metadata": {},
     "output_type": "execute_result"
    }
   ],
   "source": [
    "# Calculating number of missing values per column\n",
    "df.isna().sum()"
   ]
  },
  {
   "cell_type": "markdown",
   "metadata": {
    "id": "i3o0gXJjss6g"
   },
   "source": [
    "We still have missing values in the `days_employed` and the `total_income` column. We now have to decide whether to replace the missing values in each column with the mean or median. "
   ]
  },
  {
   "cell_type": "code",
   "execution_count": 175,
   "metadata": {
    "colab": {
     "base_uri": "https://localhost:8080/"
    },
    "id": "x54bKgYAs6EJ",
    "outputId": "e3431454-49d2-46dc-d108-d73ccf32dca7"
   },
   "outputs": [
    {
     "data": {
      "text/plain": [
       "count     19351.000000\n",
       "mean      66914.728907\n",
       "std      139030.880527\n",
       "min          24.141633\n",
       "25%         927.009265\n",
       "50%        2194.220567\n",
       "75%        5537.882441\n",
       "max      401755.400475\n",
       "Name: days_employed, dtype: float64"
      ]
     },
     "execution_count": 175,
     "metadata": {},
     "output_type": "execute_result"
    }
   ],
   "source": [
    "# Checking the statistical summary of the days_employed column\n",
    "df['days_employed'].describe()"
   ]
  },
  {
   "cell_type": "markdown",
   "metadata": {
    "id": "xdK0jzacuEc5"
   },
   "source": [
    "We can see that there is a huge difference between the mean and median in the `days_employed` column. This means that there are signifincat outliers in this column. The high standard deviation indicates that the values are spread out over a very large range. \n",
    "We will explore this problem further by plotting a histogram of this column. "
   ]
  },
  {
   "cell_type": "code",
   "execution_count": 176,
   "metadata": {
    "colab": {
     "base_uri": "https://localhost:8080/"
    },
    "id": "MZzPNCKMz5km",
    "outputId": "bc4dfaab-8b31-43d8-e364-53144847ad3a"
   },
   "outputs": [
    {
     "data": {
      "text/plain": [
       "142.276217       1\n",
       "1849.622944      1\n",
       "886.253127       1\n",
       "2539.534295      1\n",
       "390574.985524    1\n",
       "                ..\n",
       "1394.302246      1\n",
       "2325.720832      1\n",
       "4086.407828      1\n",
       "1259.497032      1\n",
       "1636.419775      1\n",
       "Name: days_employed, Length: 19351, dtype: int64"
      ]
     },
     "execution_count": 176,
     "metadata": {},
     "output_type": "execute_result"
    }
   ],
   "source": [
    "df['days_employed'].value_counts()"
   ]
  },
  {
   "cell_type": "code",
   "execution_count": 177,
   "metadata": {
    "colab": {
     "base_uri": "https://localhost:8080/"
    },
    "id": "Y9rjfBhQuspC",
    "outputId": "ac49de5e-1dd9-474d-9575-472d217abd87"
   },
   "outputs": [
    {
     "data": {
      "text/plain": [
       "Text(0, 0.5, 'number of people')"
      ]
     },
     "execution_count": 177,
     "metadata": {},
     "output_type": "execute_result"
    },
    {
     "data": {
      "image/png": "[encoded data removed]",
      "text/plain": [
       "<Figure size 432x288 with 1 Axes>"
      ]
     },
     "metadata": {
      "needs_background": "light"
     },
     "output_type": "display_data"
    }
   ],
   "source": [
    "# Plotting a histogram of the days_employed column \n",
    "df.hist('days_employed', bins=10)\n",
    "plt.xlabel('days worked')\n",
    "plt.ylabel('number of people')"
   ]
  },
  {
   "cell_type": "markdown",
   "metadata": {
    "id": "JtBEPHT70_RE"
   },
   "source": [
    "We can see here that there are significant outliers in this `days_employed` column. We have data where some people in this column have worked between 330,000 days (~904 years) and 400,000 days (1095 years). This is impossible and the mistake could have been made due to technical errors. \n",
    "\n",
    "To deal with these values, we will replace all values of days_employed greater than 300,000 with null value, NaN."
   ]
  },
  {
   "cell_type": "code",
   "execution_count": 178,
   "metadata": {
    "id": "hfofG6YX0i4q"
   },
   "outputs": [],
   "source": [
    "# Replacing values greater than 300,000 in the days_employed column with NaN\n",
    "df.loc[(df['days_employed'] >= 300000), 'days_employed'] = float('nan')"
   ]
  },
  {
   "cell_type": "code",
   "execution_count": 179,
   "metadata": {
    "colab": {
     "base_uri": "https://localhost:8080/"
    },
    "id": "_GWAU9C-9j5L",
    "outputId": "7f900b7f-f396-444e-c946-9e330415d6b8"
   },
   "outputs": [
    {
     "data": {
      "text/plain": [
       "count    15906.000000\n",
       "mean      2353.015932\n",
       "std       2304.243851\n",
       "min         24.141633\n",
       "25%        756.371964\n",
       "50%       1630.019381\n",
       "75%       3157.480084\n",
       "max      18388.949901\n",
       "Name: days_employed, dtype: float64"
      ]
     },
     "execution_count": 179,
     "metadata": {},
     "output_type": "execute_result"
    }
   ],
   "source": [
    "# Checking statistical summary of the days_employed column after replacing values greater than 300,000 with NaN\n",
    "df['days_employed'].describe()"
   ]
  },
  {
   "cell_type": "markdown",
   "metadata": {
    "id": "JJLhawA4-J65"
   },
   "source": [
    "The distribution of the `days_employed` column looks a lot better now that the significant outliers have been removed. We will now proceed to replace missing values with the mean of the days_employed column. "
   ]
  },
  {
   "cell_type": "code",
   "execution_count": 180,
   "metadata": {
    "id": "O8AtuAsn-3vz"
   },
   "outputs": [],
   "source": [
    "# Replacing missing values in the days_employed column with the mean\n",
    "days_employed_avg = df['days_employed'].mean()\n",
    "df['days_employed'].fillna(value=days_employed_avg, inplace=True)"
   ]
  },
  {
   "cell_type": "code",
   "execution_count": 181,
   "metadata": {
    "colab": {
     "base_uri": "https://localhost:8080/"
    },
    "id": "A9b0pCVK_Wf0",
    "outputId": "5977a1d1-5a37-4589-f942-b5f0c0207d94"
   },
   "outputs": [
    {
     "data": {
      "text/plain": [
       "0"
      ]
     },
     "execution_count": 181,
     "metadata": {},
     "output_type": "execute_result"
    }
   ],
   "source": [
    "# Checking to see if all missing values in the days_employed column have been replaced\n",
    "df['days_employed'].isna().sum()"
   ]
  },
  {
   "cell_type": "code",
   "execution_count": 182,
   "metadata": {
    "colab": {
     "base_uri": "https://localhost:8080/"
    },
    "id": "0nHTGqjj_qVt",
    "outputId": "6efb3420-edf8-4878-e4fa-16802197efb9"
   },
   "outputs": [
    {
     "data": {
      "text/plain": [
       "count     19351.000000\n",
       "mean      26787.568355\n",
       "std       16475.450632\n",
       "min        3306.762000\n",
       "25%       16488.504500\n",
       "50%       23202.870000\n",
       "75%       32549.611000\n",
       "max      362496.645000\n",
       "Name: total_income, dtype: float64"
      ]
     },
     "execution_count": 182,
     "metadata": {},
     "output_type": "execute_result"
    }
   ],
   "source": [
    "# Checking the statistical summary of the total_income column\n",
    "df['total_income'].describe()"
   ]
  },
  {
   "cell_type": "markdown",
   "metadata": {
    "id": "014ntXko_593"
   },
   "source": [
    "Since the mean and median are close in value to each other, we can say that there are no significant outliers in the `total_income` column. We will then proceed by replacing missing values in this column with the mean."
   ]
  },
  {
   "cell_type": "code",
   "execution_count": 183,
   "metadata": {
    "id": "63m_aBchATer"
   },
   "outputs": [],
   "source": [
    "# Replacing missing values in the total_income column with the mean\n",
    "total_income_avg = df['total_income'].mean()\n",
    "df['total_income'].fillna(value=total_income_avg, inplace=True)"
   ]
  },
  {
   "cell_type": "code",
   "execution_count": 184,
   "metadata": {
    "colab": {
     "base_uri": "https://localhost:8080/"
    },
    "id": "UtIhvMipByIW",
    "outputId": "0620ed3a-b2c0-400c-9ca9-939f63609b72"
   },
   "outputs": [
    {
     "data": {
      "text/plain": [
       "0"
      ]
     },
     "execution_count": 184,
     "metadata": {},
     "output_type": "execute_result"
    }
   ],
   "source": [
    "# Checking to see if all missing values in the total_income column has been replaced\n",
    "df['total_income'].isna().sum()"
   ]
  },
  {
   "cell_type": "markdown",
   "metadata": {
    "id": "DUyUSDm0F4kb"
   },
   "source": [
    "To make the `days_employed` and `total_income` columns easier to work with, we will convert them to integers. "
   ]
  },
  {
   "cell_type": "code",
   "execution_count": 185,
   "metadata": {
    "id": "QQZp14xxGHdl"
   },
   "outputs": [],
   "source": [
    "# Converting days_employed and total_income columns to integer type\n",
    "df['days_employed'] = df['days_employed'].astype('int')\n",
    "df['total_income'] = df['total_income'].astype('int')"
   ]
  },
  {
   "cell_type": "code",
   "execution_count": 186,
   "metadata": {
    "colab": {
     "base_uri": "https://localhost:8080/"
    },
    "id": "AQBhRdFMCCph",
    "outputId": "606ec295-fc1e-439a-8560-23d778c82591"
   },
   "outputs": [
    {
     "name": "stdout",
     "output_type": "stream",
     "text": [
      "<class 'pandas.core.frame.DataFrame'>\n",
      "Int64Index: 21117 entries, 0 to 21524\n",
      "Data columns (total 12 columns):\n",
      " #   Column            Non-Null Count  Dtype \n",
      "---  ------            --------------  ----- \n",
      " 0   children          21117 non-null  int64 \n",
      " 1   days_employed     21117 non-null  int64 \n",
      " 2   dob_years         21117 non-null  int64 \n",
      " 3   education         21117 non-null  object\n",
      " 4   education_id      21117 non-null  int64 \n",
      " 5   family_status     21117 non-null  object\n",
      " 6   family_status_id  21117 non-null  int64 \n",
      " 7   gender            21117 non-null  object\n",
      " 8   income_type       21117 non-null  object\n",
      " 9   debt              21117 non-null  int64 \n",
      " 10  total_income      21117 non-null  int64 \n",
      " 11  purpose           21117 non-null  object\n",
      "dtypes: int64(7), object(5)\n",
      "memory usage: 2.1+ MB\n"
     ]
    }
   ],
   "source": [
    "# Checking size of data after manipulations\n",
    "df.info()"
   ]
  },
  {
   "cell_type": "markdown",
   "metadata": {
    "id": "LArTaW54Cpac"
   },
   "source": [
    "### Conclusions\n",
    "All duplicates have been dropped to make results more precise and easier to understand. \n",
    "\n",
    "We detected significant outliers in the `days_employed` column. We replaced these significant outliers with null value, NaN and checked the statistical summary. After removal of significant outliers, the mean and median value in the `days_employed` column became closer. We then proceeded to replace all missing values with the mean value of the `days_employed` column. \n",
    "\n",
    "Since the mean and median in the `total_income` column were close in value, we concluded that there were no significant outliers in this column. We then replaced all missing values in `total_income` with the mean value. \n",
    "\n",
    "To make our dataset easier to work with, we changed the values from our `days_employed` and `total_income` columns from float type to int type. \n",
    "\n",
    "After removing duplicates and replacing missing values, we checked the size of our dataset and found that it reduced from 21,525 rows to 21,117 rows. There are 7 columns with int64 type and 5 columns with object type.\n",
    "\n",
    "To answer the questions and test the hypotheses, we wil first categorize the data."
   ]
  },
  {
   "cell_type": "markdown",
   "metadata": {
    "id": "Ng6Fi96SG0wY"
   },
   "source": [
    "## Data Categorization"
   ]
  },
  {
   "cell_type": "markdown",
   "metadata": {
    "id": "ueKgoSkAeAH8"
   },
   "source": [
    "### Categorizing the debt column"
   ]
  },
  {
   "cell_type": "code",
   "execution_count": 187,
   "metadata": {
    "colab": {
     "base_uri": "https://localhost:8080/"
    },
    "id": "4Pi2gi54HlWa",
    "outputId": "0ea724a4-758a-4123-839e-5c5fcee243b0"
   },
   "outputs": [
    {
     "name": "stdout",
     "output_type": "stream",
     "text": [
      "[0 1]\n"
     ]
    }
   ],
   "source": [
    "# Checking for unique values in the debt column\n",
    "print(df['debt'].unique())"
   ]
  },
  {
   "cell_type": "markdown",
   "metadata": {
    "id": "sBRRiLFEbKTI"
   },
   "source": [
    "The `debt` column identifies whether the customer has any debt on loan repayment. Values in this column are marked with categorica values, 0 or 1:\n",
    "* 0 meaning no debt\n",
    "* 1 meaning there is debt\n",
    "\n",
    "In other words, customers with a 0 did not default on their loans, while customers with a 1 defaulted on their loans. \n",
    "\n",
    "To make things easier, we will create a new column to categorize each value in the `debt` column with \"default\" and \"no default.\""
   ]
  },
  {
   "cell_type": "code",
   "execution_count": 188,
   "metadata": {
    "id": "zosuHfHBc1wF"
   },
   "outputs": [],
   "source": [
    "# Creating a new column for loan defaulting from the debt column\n",
    "df['loan_default'] = df['debt']\n",
    "\n",
    "# Changing values in the debt column to \"default\" and \"no default\"\n",
    "df.loc[df['loan_default'] == 0, 'loan_default'] = 'no default'\n",
    "df.loc[df['loan_default'] == 1, 'loan_default'] = 'defaulted'"
   ]
  },
  {
   "cell_type": "code",
   "execution_count": 189,
   "metadata": {
    "colab": {
     "base_uri": "https://localhost:8080/"
    },
    "id": "gXFI-F9Kdx82",
    "outputId": "91eaf9e0-1fbd-4e1f-aa80-abf2143cca08"
   },
   "outputs": [
    {
     "data": {
      "text/plain": [
       "no default    19378\n",
       "defaulted      1739\n",
       "Name: loan_default, dtype: int64"
      ]
     },
     "execution_count": 189,
     "metadata": {},
     "output_type": "execute_result"
    }
   ],
   "source": [
    "# Checking the values in the loan_default column\n",
    "df['loan_default'].value_counts()"
   ]
  },
  {
   "cell_type": "markdown",
   "metadata": {
    "id": "fyYVD35veEii"
   },
   "source": [
    "### Categorizing the children column"
   ]
  },
  {
   "cell_type": "code",
   "execution_count": 190,
   "metadata": {
    "colab": {
     "base_uri": "https://localhost:8080/"
    },
    "id": "3pxgS-6XeVkI",
    "outputId": "d08ec56a-e3ac-414c-beac-4f924fd7cb04"
   },
   "outputs": [
    {
     "name": "stdout",
     "output_type": "stream",
     "text": [
      "[1 0 3 2 4 5]\n"
     ]
    }
   ],
   "source": [
    "# Checking for unique values in the children column\n",
    "print(df['children'].unique())"
   ]
  },
  {
   "cell_type": "markdown",
   "metadata": {
    "id": "mH8Xpgz4efPP"
   },
   "source": [
    "We will categorize the children column into categories where customers have kids and no kids. "
   ]
  },
  {
   "cell_type": "code",
   "execution_count": 191,
   "metadata": {
    "colab": {
     "base_uri": "https://localhost:8080/"
    },
    "id": "1taystOMetlf",
    "outputId": "af5884a8-eaef-4181-fdb5-ce9daecef7bd"
   },
   "outputs": [
    {
     "name": "stdout",
     "output_type": "stream",
     "text": [
      "no kids\n",
      "has kids\n"
     ]
    }
   ],
   "source": [
    "# Creating a function that defines whether a customer has children using the following rules:\n",
    "  # - 'no kids' for 'children' = 0\n",
    "  # - 'has kids' for 'children' > 0\n",
    "\n",
    "def having_kids(children):\n",
    "  if children == 0:\n",
    "    return 'no kids'\n",
    "  if children > 0:\n",
    "    return 'has kids'\n",
    "\n",
    "# Testing to see if function works\n",
    "print(having_kids(0))\n",
    "print(having_kids(1))\n",
    "\n"
   ]
  },
  {
   "cell_type": "code",
   "execution_count": 192,
   "metadata": {
    "colab": {
     "base_uri": "https://localhost:8080/"
    },
    "id": "sQtVWwGFgvyk",
    "outputId": "f2d3e79f-ed1f-42f8-a965-151b1cda4858"
   },
   "outputs": [
    {
     "name": "stdout",
     "output_type": "stream",
     "text": [
      "['has kids' 'no kids']\n"
     ]
    }
   ],
   "source": [
    "# Creating a seperate column for the having_kids column \n",
    "df['having_kids'] = df['children'].apply(having_kids)\n",
    "\n",
    "# Checking to see if new column was created\n",
    "print(df['having_kids'].unique())"
   ]
  },
  {
   "cell_type": "markdown",
   "metadata": {
    "id": "R-pTHEZzhumG"
   },
   "source": [
    "### Categorizing the family_status column"
   ]
  },
  {
   "cell_type": "code",
   "execution_count": 193,
   "metadata": {
    "colab": {
     "base_uri": "https://localhost:8080/"
    },
    "id": "CNQmwiuDh3vV",
    "outputId": "17a6e87c-187e-4b40-f548-b7fe7d1de227"
   },
   "outputs": [
    {
     "name": "stdout",
     "output_type": "stream",
     "text": [
      "['married' 'civil partnership' 'widowed' 'divorced' 'unmarried']\n"
     ]
    }
   ],
   "source": [
    "# Checking for unique values in the family_status column \n",
    "print(df['family_status'].unique())"
   ]
  },
  {
   "cell_type": "markdown",
   "metadata": {
    "id": "VsiHm3sGiEtO"
   },
   "source": [
    "Since data is clear, we will leave this column as is. "
   ]
  },
  {
   "cell_type": "markdown",
   "metadata": {
    "id": "W6UZGEQAiJLH"
   },
   "source": [
    "### Categorizing the total_income column"
   ]
  },
  {
   "cell_type": "code",
   "execution_count": 194,
   "metadata": {
    "colab": {
     "base_uri": "https://localhost:8080/"
    },
    "id": "BTSEm8oiiSax",
    "outputId": "20fd1f66-f121-4e05-e2e3-b33243471072"
   },
   "outputs": [
    {
     "data": {
      "text/plain": [
       "26787    1766\n",
       "19552       7\n",
       "23344       6\n",
       "15316       5\n",
       "24821       5\n",
       "         ... \n",
       "18333       1\n",
       "12192       1\n",
       "38823       1\n",
       "28584       1\n",
       "32728       1\n",
       "Name: total_income, Length: 15389, dtype: int64"
      ]
     },
     "execution_count": 194,
     "metadata": {},
     "output_type": "execute_result"
    }
   ],
   "source": [
    "# Checking for values in the total_income column\n",
    "df['total_income'].value_counts()"
   ]
  },
  {
   "cell_type": "markdown",
   "metadata": {
    "id": "uSzXrX4din5X"
   },
   "source": [
    "Since there are many different values in the `total_income` column, we will use the describe() method to get a statistical summary of this column."
   ]
  },
  {
   "cell_type": "code",
   "execution_count": 195,
   "metadata": {
    "colab": {
     "base_uri": "https://localhost:8080/"
    },
    "id": "L_-agytqi6UJ",
    "outputId": "c80d282b-36fd-4691-ca70-07995fd51cf2"
   },
   "outputs": [
    {
     "data": {
      "text/plain": [
       "count     21117.000000\n",
       "mean      26787.065303\n",
       "std       15771.463931\n",
       "min        3306.000000\n",
       "25%       17089.000000\n",
       "50%       24675.000000\n",
       "75%       31514.000000\n",
       "max      362496.000000\n",
       "Name: total_income, dtype: float64"
      ]
     },
     "execution_count": 195,
     "metadata": {},
     "output_type": "execute_result"
    }
   ],
   "source": [
    "# Getting the statistical summary of the total_income column \n",
    "df['total_income'].describe()"
   ]
  },
  {
   "cell_type": "markdown",
   "metadata": {
    "id": "Xe3rrqHNjJZv"
   },
   "source": [
    "Since the min(3,306) and max(362,496) total income vary so largely, we will categroize the total income into 5 different categories:\n",
    "* low income\n",
    "* lower middle income\n",
    "* middle income\n",
    "* upper middle income\n",
    "* high income  "
   ]
  },
  {
   "cell_type": "code",
   "execution_count": 196,
   "metadata": {
    "colab": {
     "base_uri": "https://localhost:8080/"
    },
    "id": "RLgiSRUWjd4l",
    "outputId": "9b29b1ec-7386-440d-e4fd-eeb6ae5e6bed"
   },
   "outputs": [
    {
     "name": "stdout",
     "output_type": "stream",
     "text": [
      "low income\n",
      "lower middle income\n",
      "middle income\n",
      "upper middle income\n",
      "high income\n"
     ]
    }
   ],
   "source": [
    "# We will create a function that returns income type according to total income using the following rules:\n",
    "  # 'low income' for total income <= 19400\n",
    "  # 'lower middle income' for total income between 19401 and 78950\n",
    "  # 'middle income' for total income between 78951 and 168400\n",
    "  # 'upper middle income' for total income between 168401 and 330000\n",
    "  # 'high income' for total income > 300000\n",
    "\n",
    "def income_type (total_income):\n",
    "  if total_income <= 19400:\n",
    "    return 'low income'\n",
    "  if (total_income > 19400) & (total_income <= 78950):\n",
    "    return 'lower middle income'\n",
    "  if (total_income > 78951) & (total_income <= 168400):\n",
    "    return 'middle income'\n",
    "  if (total_income > 168401) & (total_income <= 330000):\n",
    "    return 'upper middle income'\n",
    "  if total_income > 330000:\n",
    "    return 'high income'\n",
    "\n",
    "# Testing to see if function works\n",
    "print(income_type(3825))\n",
    "print(income_type(20000))\n",
    "print(income_type(160000))\n",
    "print(income_type(300000))\n",
    "print(income_type(400000))"
   ]
  },
  {
   "cell_type": "code",
   "execution_count": 197,
   "metadata": {
    "colab": {
     "base_uri": "https://localhost:8080/"
    },
    "id": "gmIewJaDmozV",
    "outputId": "1e82ee06-5801-4ff3-b38b-0716c2d9c0b5"
   },
   "outputs": [
    {
     "name": "stdout",
     "output_type": "stream",
     "text": [
      "['lower middle income' 'low income' 'middle income' 'upper middle income'\n",
      " 'high income']\n"
     ]
    }
   ],
   "source": [
    "# Creating a seperate column for income_type\n",
    "df['income_type'] = df['total_income'].apply(income_type)\n",
    "\n",
    "# Checking to see if new column was created\n",
    "print(df['income_type'].unique())"
   ]
  },
  {
   "cell_type": "markdown",
   "metadata": {
    "id": "_0gDf2FKoV1N"
   },
   "source": [
    "### Categorization of the purpose column "
   ]
  },
  {
   "cell_type": "code",
   "execution_count": 198,
   "metadata": {
    "colab": {
     "base_uri": "https://localhost:8080/"
    },
    "id": "g63NHHiDoaMa",
    "outputId": "e8dcee11-1fc8-4e3a-d36b-d73bf9bd69b4"
   },
   "outputs": [
    {
     "name": "stdout",
     "output_type": "stream",
     "text": [
      "['real estate' 'car' 'education' 'wedding']\n"
     ]
    }
   ],
   "source": [
    "# Checking for values in the purpose column \n",
    "print(df['purpose'].unique())"
   ]
  },
  {
   "cell_type": "markdown",
   "metadata": {
    "id": "6O2-oadzojsh"
   },
   "source": [
    "Since the data is clear, we will leave it as is."
   ]
  },
  {
   "cell_type": "code",
   "execution_count": 199,
   "metadata": {
    "colab": {
     "base_uri": "https://localhost:8080/",
     "height": 336
    },
    "id": "L2ttUZbqpB34",
    "outputId": "45807b71-cd2d-41ba-8d9f-fc92169b7696"
   },
   "outputs": [
    {
     "data": {
      "text/html": [
       "<div>\n",
       "<style scoped>\n",
       "    .dataframe tbody tr th:only-of-type {\n",
       "        vertical-align: middle;\n",
       "    }\n",
       "\n",
       "    .dataframe tbody tr th {\n",
       "        vertical-align: top;\n",
       "    }\n",
       "\n",
       "    .dataframe thead th {\n",
       "        text-align: right;\n",
       "    }\n",
       "</style>\n",
       "<table border=\"1\" class=\"dataframe\">\n",
       "  <thead>\n",
       "    <tr style=\"text-align: right;\">\n",
       "      <th></th>\n",
       "      <th>children</th>\n",
       "      <th>days_employed</th>\n",
       "      <th>dob_years</th>\n",
       "      <th>education</th>\n",
       "      <th>education_id</th>\n",
       "      <th>family_status</th>\n",
       "      <th>family_status_id</th>\n",
       "      <th>gender</th>\n",
       "      <th>income_type</th>\n",
       "      <th>debt</th>\n",
       "      <th>total_income</th>\n",
       "      <th>purpose</th>\n",
       "      <th>loan_default</th>\n",
       "      <th>having_kids</th>\n",
       "    </tr>\n",
       "  </thead>\n",
       "  <tbody>\n",
       "    <tr>\n",
       "      <th>0</th>\n",
       "      <td>1</td>\n",
       "      <td>8437</td>\n",
       "      <td>42</td>\n",
       "      <td>bachelor's degree</td>\n",
       "      <td>0</td>\n",
       "      <td>married</td>\n",
       "      <td>0</td>\n",
       "      <td>F</td>\n",
       "      <td>lower middle income</td>\n",
       "      <td>0</td>\n",
       "      <td>40620</td>\n",
       "      <td>real estate</td>\n",
       "      <td>no default</td>\n",
       "      <td>has kids</td>\n",
       "    </tr>\n",
       "    <tr>\n",
       "      <th>1</th>\n",
       "      <td>1</td>\n",
       "      <td>4024</td>\n",
       "      <td>36</td>\n",
       "      <td>secondary education</td>\n",
       "      <td>1</td>\n",
       "      <td>married</td>\n",
       "      <td>0</td>\n",
       "      <td>F</td>\n",
       "      <td>low income</td>\n",
       "      <td>0</td>\n",
       "      <td>17932</td>\n",
       "      <td>car</td>\n",
       "      <td>no default</td>\n",
       "      <td>has kids</td>\n",
       "    </tr>\n",
       "    <tr>\n",
       "      <th>2</th>\n",
       "      <td>0</td>\n",
       "      <td>5623</td>\n",
       "      <td>33</td>\n",
       "      <td>secondary education</td>\n",
       "      <td>1</td>\n",
       "      <td>married</td>\n",
       "      <td>0</td>\n",
       "      <td>M</td>\n",
       "      <td>lower middle income</td>\n",
       "      <td>0</td>\n",
       "      <td>23341</td>\n",
       "      <td>real estate</td>\n",
       "      <td>no default</td>\n",
       "      <td>no kids</td>\n",
       "    </tr>\n",
       "    <tr>\n",
       "      <th>3</th>\n",
       "      <td>3</td>\n",
       "      <td>4124</td>\n",
       "      <td>32</td>\n",
       "      <td>secondary education</td>\n",
       "      <td>1</td>\n",
       "      <td>married</td>\n",
       "      <td>0</td>\n",
       "      <td>M</td>\n",
       "      <td>lower middle income</td>\n",
       "      <td>0</td>\n",
       "      <td>42820</td>\n",
       "      <td>education</td>\n",
       "      <td>no default</td>\n",
       "      <td>has kids</td>\n",
       "    </tr>\n",
       "    <tr>\n",
       "      <th>4</th>\n",
       "      <td>0</td>\n",
       "      <td>2353</td>\n",
       "      <td>53</td>\n",
       "      <td>secondary education</td>\n",
       "      <td>1</td>\n",
       "      <td>civil partnership</td>\n",
       "      <td>1</td>\n",
       "      <td>F</td>\n",
       "      <td>lower middle income</td>\n",
       "      <td>0</td>\n",
       "      <td>25378</td>\n",
       "      <td>wedding</td>\n",
       "      <td>no default</td>\n",
       "      <td>no kids</td>\n",
       "    </tr>\n",
       "  </tbody>\n",
       "</table>\n",
       "</div>"
      ],
      "text/plain": [
       "   children  days_employed  dob_years            education  education_id  \\\n",
       "0         1           8437         42    bachelor's degree             0   \n",
       "1         1           4024         36  secondary education             1   \n",
       "2         0           5623         33  secondary education             1   \n",
       "3         3           4124         32  secondary education             1   \n",
       "4         0           2353         53  secondary education             1   \n",
       "\n",
       "       family_status  family_status_id gender          income_type  debt  \\\n",
       "0            married                 0      F  lower middle income     0   \n",
       "1            married                 0      F           low income     0   \n",
       "2            married                 0      M  lower middle income     0   \n",
       "3            married                 0      M  lower middle income     0   \n",
       "4  civil partnership                 1      F  lower middle income     0   \n",
       "\n",
       "   total_income      purpose loan_default having_kids  \n",
       "0         40620  real estate   no default    has kids  \n",
       "1         17932          car   no default    has kids  \n",
       "2         23341  real estate   no default     no kids  \n",
       "3         42820    education   no default    has kids  \n",
       "4         25378      wedding   no default     no kids  "
      ]
     },
     "execution_count": 199,
     "metadata": {},
     "output_type": "execute_result"
    }
   ],
   "source": [
    "# Printing the first 5 rows of the dataset to make sure all columns have been added\n",
    "df.head()"
   ]
  },
  {
   "cell_type": "markdown",
   "metadata": {
    "id": "8KO_jWKaqQyd"
   },
   "source": [
    "## Conclusions\n",
    "To make testing our hypotheses easier, we categorized certain data:\n",
    "* We categrozied the `debt` column by creating a new column, `loan_default`,  that describes whether each cusomer defaulted on a loan or not\n",
    "* We categorized the `children` column by creating a new column, `having_kids`, that describes whether each customer has kids or not\n",
    "* We categorized the `total_income` column by creating a new column, `income_type`, to classify whether each customer has low, lower middle, middle, upper middle, or high income. \n",
    "\n",
    "We left the `purpose` and `family_status` columns alone since the data was already concise. "
   ]
  },
  {
   "cell_type": "markdown",
   "metadata": {
    "id": "8IGul7sMt-tQ"
   },
   "source": [
    "## Testing Hypotheses "
   ]
  },
  {
   "cell_type": "markdown",
   "metadata": {
    "id": "-yje0on5uQW9"
   },
   "source": [
    "### **Is there a correlation between having children and paying back on time?**"
   ]
  },
  {
   "cell_type": "code",
   "execution_count": 200,
   "metadata": {
    "colab": {
     "base_uri": "https://localhost:8080/",
     "height": 143
    },
    "id": "uv0Um3iiuV7L",
    "outputId": "3690feb8-1ce3-4e66-d6a4-803a2030fb2b"
   },
   "outputs": [
    {
     "data": {
      "text/html": [
       "<div>\n",
       "<style scoped>\n",
       "    .dataframe tbody tr th:only-of-type {\n",
       "        vertical-align: middle;\n",
       "    }\n",
       "\n",
       "    .dataframe tbody tr th {\n",
       "        vertical-align: top;\n",
       "    }\n",
       "\n",
       "    .dataframe thead th {\n",
       "        text-align: right;\n",
       "    }\n",
       "</style>\n",
       "<table border=\"1\" class=\"dataframe\">\n",
       "  <thead>\n",
       "    <tr style=\"text-align: right;\">\n",
       "      <th>having_kids</th>\n",
       "      <th>loan_default</th>\n",
       "      <th>has kids</th>\n",
       "      <th>no kids</th>\n",
       "      <th>All</th>\n",
       "    </tr>\n",
       "  </thead>\n",
       "  <tbody>\n",
       "    <tr>\n",
       "      <th>0</th>\n",
       "      <td>defaulted</td>\n",
       "      <td>678</td>\n",
       "      <td>1061</td>\n",
       "      <td>1739</td>\n",
       "    </tr>\n",
       "    <tr>\n",
       "      <th>1</th>\n",
       "      <td>no default</td>\n",
       "      <td>6612</td>\n",
       "      <td>12766</td>\n",
       "      <td>19378</td>\n",
       "    </tr>\n",
       "    <tr>\n",
       "      <th>2</th>\n",
       "      <td>All</td>\n",
       "      <td>7290</td>\n",
       "      <td>13827</td>\n",
       "      <td>21117</td>\n",
       "    </tr>\n",
       "  </tbody>\n",
       "</table>\n",
       "</div>"
      ],
      "text/plain": [
       "having_kids loan_default  has kids  no kids    All\n",
       "0              defaulted       678     1061   1739\n",
       "1             no default      6612    12766  19378\n",
       "2                    All      7290    13827  21117"
      ]
     },
     "execution_count": 200,
     "metadata": {},
     "output_type": "execute_result"
    }
   ],
   "source": [
    "# Creating a table with 2 columns: having_kids and loan_default\n",
    "df_kids_default = df[['having_kids', 'loan_default']]\n",
    "\n",
    "# Creating a pivot table based on having_kids and loan_default\n",
    "kids_default_table = df_kids_default.pivot_table(index='loan_default', columns='having_kids', aggfunc=len, margins=True).reset_index()\n",
    "\n",
    "# Viewing pivot table\n",
    "kids_default_table"
   ]
  },
  {
   "cell_type": "code",
   "execution_count": 201,
   "metadata": {
    "colab": {
     "base_uri": "https://localhost:8080/"
    },
    "id": "0joFQSX5w5ra",
    "outputId": "ed542b05-2197-46b3-819f-0e7486d58e06"
   },
   "outputs": [
    {
     "name": "stdout",
     "output_type": "stream",
     "text": [
      "Default rate of customers with children: 39%\n",
      "Default rate of customers without children: 61%\n"
     ]
    }
   ],
   "source": [
    "# Calculating default-rate based on the customers who have children \n",
    "default_rate_kids = kids_default_table.loc[0,'has kids']/kids_default_table.loc[0,'All']\n",
    "print(f'Default rate of customers with children: {default_rate_kids:.0%}')\n",
    "\n",
    "# Calculating the default-rate based on customers who don't have children\n",
    "default_rate_no_kids = kids_default_table.loc[0,'no kids']/kids_default_table.loc[0,'All']\n",
    "print(f'Default rate of customers without children: {default_rate_no_kids:.0%}')\n"
   ]
  },
  {
   "cell_type": "markdown",
   "metadata": {
    "id": "7QW7TTyK0PBi"
   },
   "source": [
    "**Conclusion**\n",
    "\n",
    "The default rate for customers with children is 39%, while the default rate for customers without children is 61%. We can conclude that having children does not affect on a customer's ability to pay back their loan in time. "
   ]
  },
  {
   "cell_type": "code",
   "execution_count": 202,
   "metadata": {
    "colab": {
     "base_uri": "https://localhost:8080/",
     "height": 143
    },
    "id": "jkFE5rsf1KtO",
    "outputId": "10f7812a-6f62-4d2c-bec1-e56483c7abee"
   },
   "outputs": [
    {
     "data": {
      "text/html": [
       "<div>\n",
       "<style scoped>\n",
       "    .dataframe tbody tr th:only-of-type {\n",
       "        vertical-align: middle;\n",
       "    }\n",
       "\n",
       "    .dataframe tbody tr th {\n",
       "        vertical-align: top;\n",
       "    }\n",
       "\n",
       "    .dataframe thead th {\n",
       "        text-align: right;\n",
       "    }\n",
       "</style>\n",
       "<table border=\"1\" class=\"dataframe\">\n",
       "  <thead>\n",
       "    <tr style=\"text-align: right;\">\n",
       "      <th>family_status</th>\n",
       "      <th>loan_default</th>\n",
       "      <th>civil partnership</th>\n",
       "      <th>divorced</th>\n",
       "      <th>married</th>\n",
       "      <th>unmarried</th>\n",
       "      <th>widowed</th>\n",
       "      <th>All</th>\n",
       "    </tr>\n",
       "  </thead>\n",
       "  <tbody>\n",
       "    <tr>\n",
       "      <th>0</th>\n",
       "      <td>defaulted</td>\n",
       "      <td>388</td>\n",
       "      <td>85</td>\n",
       "      <td>929</td>\n",
       "      <td>274</td>\n",
       "      <td>63</td>\n",
       "      <td>1739</td>\n",
       "    </tr>\n",
       "    <tr>\n",
       "      <th>1</th>\n",
       "      <td>no default</td>\n",
       "      <td>3735</td>\n",
       "      <td>1108</td>\n",
       "      <td>11145</td>\n",
       "      <td>2510</td>\n",
       "      <td>880</td>\n",
       "      <td>19378</td>\n",
       "    </tr>\n",
       "    <tr>\n",
       "      <th>2</th>\n",
       "      <td>All</td>\n",
       "      <td>4123</td>\n",
       "      <td>1193</td>\n",
       "      <td>12074</td>\n",
       "      <td>2784</td>\n",
       "      <td>943</td>\n",
       "      <td>21117</td>\n",
       "    </tr>\n",
       "  </tbody>\n",
       "</table>\n",
       "</div>"
      ],
      "text/plain": [
       "family_status loan_default  civil partnership  divorced  married  unmarried  \\\n",
       "0                defaulted                388        85      929        274   \n",
       "1               no default               3735      1108    11145       2510   \n",
       "2                      All               4123      1193    12074       2784   \n",
       "\n",
       "family_status  widowed    All  \n",
       "0                   63   1739  \n",
       "1                  880  19378  \n",
       "2                  943  21117  "
      ]
     },
     "execution_count": 202,
     "metadata": {},
     "output_type": "execute_result"
    }
   ],
   "source": [
    "# Creating a table with 2 columns: family_status and loan_default\n",
    "family_status_default = df[['family_status', 'loan_default']]\n",
    "\n",
    "# Creating a pivot table for family_status and loan_default\n",
    "family_status_default_table = family_status_default.pivot_table(index='loan_default', columns='family_status', aggfunc=len, margins=True).reset_index()\n",
    "\n",
    "# Viewing pivot table\n",
    "family_status_default_table"
   ]
  },
  {
   "cell_type": "code",
   "execution_count": 203,
   "metadata": {
    "colab": {
     "base_uri": "https://localhost:8080/"
    },
    "id": "U1tVUWCS18oK",
    "outputId": "05ba5c4e-925e-4cc3-ef12-7d6ec8d33494"
   },
   "outputs": [
    {
     "name": "stdout",
     "output_type": "stream",
     "text": [
      "Default rate of customers in a civil partnership: 22%\n",
      "Default rate of married customers: 53%\n",
      "Default rate of divorced customers: 5%\n",
      "Default rate of unmarried customers: 16%\n",
      "Default rate of widowed customers: 4%\n"
     ]
    }
   ],
   "source": [
    "# Calculating default rate for customers in a civil partnership\n",
    "default_rate_cp = family_status_default_table.loc[0,'civil partnership']/family_status_default_table.loc[0,'All']\n",
    "print(f'Default rate of customers in a civil partnership: {default_rate_cp:.0%}')\n",
    "\n",
    "# Calculating default rate for married customers\n",
    "default_rate_married = family_status_default_table.loc[0,'married']/family_status_default_table.loc[0,'All']\n",
    "print(f'Default rate of married customers: {default_rate_married:.0%}')\n",
    "\n",
    "# Calculating default rate for divorced customers\n",
    "default_rate_divorce = family_status_default_table.loc[0,'divorced']/family_status_default_table.loc[0,'All']\n",
    "print(f'Default rate of divorced customers: {default_rate_divorce:.0%}')\n",
    "\n",
    "# Calculating default rate for unmarried customers\n",
    "default_rate_unmarried = family_status_default_table.loc[0,'unmarried']/family_status_default_table.loc[0,'All']\n",
    "print(f'Default rate of unmarried customers: {default_rate_unmarried:.0%}')\n",
    "\n",
    "# Calculating default rate for widowed customers\n",
    "default_rate_widowed = family_status_default_table.loc[0,'widowed']/family_status_default_table.loc[0,'All']\n",
    "print(f'Default rate of widowed customers: {default_rate_widowed:.0%}')"
   ]
  },
  {
   "cell_type": "markdown",
   "metadata": {
    "id": "7xpt-Dc34wzZ"
   },
   "source": [
    "**Conclusions**\n",
    "\n",
    "The highest default rate was for married customers at 53%. The next highest default rate was for customers in a civil partnership at 22%. The lowest default rate was for widowed customers at 4%. The default rate for divorce customers was 5% and the default rate for unmarried customers was 16%. \n",
    "\n",
    "From these rates, we can conclude that those in relationships (civil partnerships or married) have the highest default rate. \n",
    "\n"
   ]
  },
  {
   "cell_type": "markdown",
   "metadata": {
    "id": "VeUGAShZ5xKw"
   },
   "source": [
    "### **Is there a correlation between income level and paying back on time?**"
   ]
  },
  {
   "cell_type": "code",
   "execution_count": 204,
   "metadata": {
    "colab": {
     "base_uri": "https://localhost:8080/",
     "height": 143
    },
    "id": "mBFyz-eI56lm",
    "outputId": "01c8ed39-2e23-4295-86ba-d6f8d2fcba23"
   },
   "outputs": [],
   "source": [
    "# Creating a table with 2 columns: income_type and loan_default\n",
    "income_type_default = df[['income_type', 'loan_default']]\n",
    "\n",
    "# Creating a pivot table for income_type and loan_default\n",
    "income_type_default_table = income_type_default.pivot_table(index='loan_default', columns='income_type', aggfunc=len, margins=True).reset_index()"
   ]
  },
  {
   "cell_type": "code",
   "execution_count": 205,
   "metadata": {
    "colab": {
     "base_uri": "https://localhost:8080/"
    },
    "id": "mLOXpjab7X1z",
    "outputId": "8901a923-8ca2-4323-92aa-21c7bc2afb0e"
   },
   "outputs": [
    {
     "data": {
      "text/plain": [
       "lower middle income    13919\n",
       "low income              6966\n",
       "middle income            211\n",
       "upper middle income       19\n",
       "high income                2\n",
       "Name: income_type, dtype: int64"
      ]
     },
     "execution_count": 205,
     "metadata": {},
     "output_type": "execute_result"
    }
   ],
   "source": [
    "# Checking value count of income type\n",
    "df['income_type'].value_counts()"
   ]
  },
  {
   "cell_type": "markdown",
   "metadata": {
    "id": "R325DnzA74Kj"
   },
   "source": [
    "Here we see that there are 19 customers with upper middle income. Since all 19 customers did not default on there debt, there is a null value, NaN, in the pivot table above. To deal with this we will replace NaN with 0. "
   ]
  },
  {
   "cell_type": "code",
   "execution_count": 206,
   "metadata": {
    "colab": {
     "base_uri": "https://localhost:8080/",
     "height": 143
    },
    "id": "mpDH7AW78NzL",
    "outputId": "d29ba94f-b34f-4fdb-f153-1aa97bd1964d"
   },
   "outputs": [
    {
     "data": {
      "text/html": [
       "<div>\n",
       "<style scoped>\n",
       "    .dataframe tbody tr th:only-of-type {\n",
       "        vertical-align: middle;\n",
       "    }\n",
       "\n",
       "    .dataframe tbody tr th {\n",
       "        vertical-align: top;\n",
       "    }\n",
       "\n",
       "    .dataframe thead th {\n",
       "        text-align: right;\n",
       "    }\n",
       "</style>\n",
       "<table border=\"1\" class=\"dataframe\">\n",
       "  <thead>\n",
       "    <tr style=\"text-align: right;\">\n",
       "      <th>income_type</th>\n",
       "      <th>loan_default</th>\n",
       "      <th>high income</th>\n",
       "      <th>low income</th>\n",
       "      <th>lower middle income</th>\n",
       "      <th>middle income</th>\n",
       "      <th>upper middle income</th>\n",
       "      <th>All</th>\n",
       "    </tr>\n",
       "  </thead>\n",
       "  <tbody>\n",
       "    <tr>\n",
       "      <th>0</th>\n",
       "      <td>defaulted</td>\n",
       "      <td>1.0</td>\n",
       "      <td>567.0</td>\n",
       "      <td>1158.0</td>\n",
       "      <td>13.0</td>\n",
       "      <td>0.0</td>\n",
       "      <td>1739</td>\n",
       "    </tr>\n",
       "    <tr>\n",
       "      <th>1</th>\n",
       "      <td>no default</td>\n",
       "      <td>1.0</td>\n",
       "      <td>6399.0</td>\n",
       "      <td>12761.0</td>\n",
       "      <td>198.0</td>\n",
       "      <td>19.0</td>\n",
       "      <td>19378</td>\n",
       "    </tr>\n",
       "    <tr>\n",
       "      <th>2</th>\n",
       "      <td>All</td>\n",
       "      <td>2.0</td>\n",
       "      <td>6966.0</td>\n",
       "      <td>13919.0</td>\n",
       "      <td>211.0</td>\n",
       "      <td>19.0</td>\n",
       "      <td>21117</td>\n",
       "    </tr>\n",
       "  </tbody>\n",
       "</table>\n",
       "</div>"
      ],
      "text/plain": [
       "income_type loan_default  high income  low income  lower middle income  \\\n",
       "0              defaulted          1.0       567.0               1158.0   \n",
       "1             no default          1.0      6399.0              12761.0   \n",
       "2                    All          2.0      6966.0              13919.0   \n",
       "\n",
       "income_type  middle income  upper middle income    All  \n",
       "0                     13.0                  0.0   1739  \n",
       "1                    198.0                 19.0  19378  \n",
       "2                    211.0                 19.0  21117  "
      ]
     },
     "execution_count": 206,
     "metadata": {},
     "output_type": "execute_result"
    }
   ],
   "source": [
    "# Replacing NaN with 0 in the upper middle income column of our pivot table\n",
    "income_type_default_table['upper middle income'].fillna(0, inplace=True)\n",
    "\n",
    "# Reprinting the pivot table to make sure missing values were replaced\n",
    "income_type_default_table"
   ]
  },
  {
   "cell_type": "code",
   "execution_count": 207,
   "metadata": {
    "colab": {
     "base_uri": "https://localhost:8080/"
    },
    "id": "xVUbzyMm8rnw",
    "outputId": "2ad9cd01-5456-4d34-f619-0249241dcfb2"
   },
   "outputs": [
    {
     "name": "stdout",
     "output_type": "stream",
     "text": [
      "Default rate for high income customers: 0%\n",
      "Default rate for upper middle income customers: 0%\n",
      "Default rate for middle income customers: 1%\n",
      "Default rate for lower middle income customers: 67%\n",
      "Default rate for low income customers: 33%\n"
     ]
    }
   ],
   "source": [
    "# Default rate for high income customers\n",
    "default_rate_high = income_type_default_table.loc[0,'high income']/income_type_default_table.loc[0,'All']\n",
    "print(f'Default rate for high income customers: {default_rate_high:.0%}')\n",
    "\n",
    "# Default rate for upper middle income customers\n",
    "default_rate_upper_middle = income_type_default_table.loc[0,'upper middle income']/income_type_default_table.loc[0,'All']\n",
    "print(f'Default rate for upper middle income customers: {default_rate_upper_middle:.0%}')\n",
    "\n",
    "# Default rate for middle income customers\n",
    "default_rate_middle = income_type_default_table.loc[0,'middle income']/income_type_default_table.loc[0,'All']\n",
    "print(f'Default rate for middle income customers: {default_rate_middle:.0%}')\n",
    "\n",
    "# Default rate for lower middle income customers\n",
    "default_rate_lower_middle = income_type_default_table.loc[0,'lower middle income']/income_type_default_table.loc[0,'All']\n",
    "print(f'Default rate for lower middle income customers: {default_rate_lower_middle:.0%}')\n",
    "\n",
    "# Default rate for low income customers\n",
    "default_rate_low = income_type_default_table.loc[0,'low income']/income_type_default_table.loc[0,'All']\n",
    "print(f'Default rate for low income customers: {default_rate_low:.0%}')"
   ]
  },
  {
   "cell_type": "markdown",
   "metadata": {
    "id": "tNraTUWH-huS"
   },
   "source": [
    "**Conclusions**\n",
    "\n",
    "The default rate for customers with high to upper middle income is 0%. The middle income customers have a default rate of 1%. Those in the lower income brackets (lower middle and low income) have the highest default rate. \n",
    "\n",
    "We can conclude that customers low incomes tend to default on their loans more than customers in the higher income brackets.  "
   ]
  },
  {
   "cell_type": "markdown",
   "metadata": {
    "id": "7Xjx--aQ_VSy"
   },
   "source": [
    "### **How does credit purpose affect the default rate?**"
   ]
  },
  {
   "cell_type": "code",
   "execution_count": 208,
   "metadata": {
    "colab": {
     "base_uri": "https://localhost:8080/",
     "height": 143
    },
    "id": "lhiBu7T0_ZFq",
    "outputId": "9d5138c3-9fda-42aa-ff6a-662af215746a"
   },
   "outputs": [
    {
     "data": {
      "text/html": [
       "<div>\n",
       "<style scoped>\n",
       "    .dataframe tbody tr th:only-of-type {\n",
       "        vertical-align: middle;\n",
       "    }\n",
       "\n",
       "    .dataframe tbody tr th {\n",
       "        vertical-align: top;\n",
       "    }\n",
       "\n",
       "    .dataframe thead th {\n",
       "        text-align: right;\n",
       "    }\n",
       "</style>\n",
       "<table border=\"1\" class=\"dataframe\">\n",
       "  <thead>\n",
       "    <tr style=\"text-align: right;\">\n",
       "      <th>purpose</th>\n",
       "      <th>loan_default</th>\n",
       "      <th>car</th>\n",
       "      <th>education</th>\n",
       "      <th>real estate</th>\n",
       "      <th>wedding</th>\n",
       "      <th>All</th>\n",
       "    </tr>\n",
       "  </thead>\n",
       "  <tbody>\n",
       "    <tr>\n",
       "      <th>0</th>\n",
       "      <td>defaulted</td>\n",
       "      <td>402</td>\n",
       "      <td>370</td>\n",
       "      <td>781</td>\n",
       "      <td>186</td>\n",
       "      <td>1739</td>\n",
       "    </tr>\n",
       "    <tr>\n",
       "      <th>1</th>\n",
       "      <td>no default</td>\n",
       "      <td>3870</td>\n",
       "      <td>3594</td>\n",
       "      <td>9794</td>\n",
       "      <td>2120</td>\n",
       "      <td>19378</td>\n",
       "    </tr>\n",
       "    <tr>\n",
       "      <th>2</th>\n",
       "      <td>All</td>\n",
       "      <td>4272</td>\n",
       "      <td>3964</td>\n",
       "      <td>10575</td>\n",
       "      <td>2306</td>\n",
       "      <td>21117</td>\n",
       "    </tr>\n",
       "  </tbody>\n",
       "</table>\n",
       "</div>"
      ],
      "text/plain": [
       "purpose loan_default   car  education  real estate  wedding    All\n",
       "0          defaulted   402        370          781      186   1739\n",
       "1         no default  3870       3594         9794     2120  19378\n",
       "2                All  4272       3964        10575     2306  21117"
      ]
     },
     "execution_count": 208,
     "metadata": {},
     "output_type": "execute_result"
    }
   ],
   "source": [
    "# Creating a table with 2 columns: purpose and loan default\n",
    "purpose_default = df[['purpose', 'loan_default']]\n",
    "\n",
    "# Creating a pivot table with the purpose and loan_default\n",
    "purpose_default_table = purpose_default.pivot_table(index='loan_default', columns='purpose', aggfunc=len, margins=True).reset_index()\n",
    "\n",
    "# Checking pivot table\n",
    "purpose_default_table"
   ]
  },
  {
   "cell_type": "code",
   "execution_count": 209,
   "metadata": {
    "colab": {
     "base_uri": "https://localhost:8080/"
    },
    "id": "IVFGGKE6AQ2z",
    "outputId": "2cfe9351-29c4-46c3-eef9-c7f6794fe877"
   },
   "outputs": [
    {
     "name": "stdout",
     "output_type": "stream",
     "text": [
      "Default rate for car loans: 23%\n",
      "Default rate for education loans:21%\n",
      "Default rate for real estate loans: 45%\n",
      "Default rate for wedding purposes: 11%\n"
     ]
    }
   ],
   "source": [
    "# Default rate for customers who took out a loan for a car \n",
    "default_rate_car = purpose_default_table.loc[0,'car']/purpose_default_table.loc[0,'All']\n",
    "print(f'Default rate for car loans: {default_rate_car:.0%}')\n",
    "\n",
    "# Default rate for customers who took out a loan for education purposes\n",
    "default_rate_education = purpose_default_table.loc[0,'education']/purpose_default_table.loc[0,'All']\n",
    "print(f'Default rate for education loans:{default_rate_education:.0%}')\n",
    "\n",
    "# Default rate for customers who took out a loan for real estate purposes\n",
    "default_rate_real_estate = purpose_default_table.loc[0,'real estate']/purpose_default_table.loc[0,'All']\n",
    "print(f'Default rate for real estate loans: {default_rate_real_estate:.0%}')\n",
    "\n",
    "# Default rate for customers who took out a lon for wedding purposes \n",
    "default_rate_wedding = purpose_default_table.loc[0,'wedding']/purpose_default_table.loc[0,'All']\n",
    "print(f'Default rate for wedding purposes: {default_rate_wedding:.0%}')"
   ]
  },
  {
   "cell_type": "markdown",
   "metadata": {
    "id": "EqNTpAmqBkjD"
   },
   "source": [
    "### Conclusions\n",
    "\n",
    "The default rate for customers who took out a loan for real estate purposes was the highest at 45%. The default rate was the least for customers who took out a loan for wedding purposes at 11%. \n",
    "\n",
    "We can conclude that there is a correlation between loan purposes and defaulting on a loan. "
   ]
  },
  {
   "cell_type": "markdown",
   "metadata": {
    "id": "mDC0kideCJaB"
   },
   "source": [
    "# Findings"
   ]
  },
  {
   "cell_type": "markdown",
   "metadata": {
    "id": "ZpBHsL5oCM1b"
   },
   "source": [
    "We have tested the following four hypotheses:\n",
    "\n",
    "1. It is more likely that customers who have children will default on a loan.\n",
    "\n",
    "2. Marital status will not have an impact on the ability of a potential borrower to repay their loan.\n",
    "\n",
    "3. The higher the income, the more likely it is that the customer will repay the loan on time.\n",
    "\n",
    "4. Different loan purposes will not have an affect on on-time loan repayment.\n",
    "\n",
    "After analyzing the data, we concluded:\n",
    "\n",
    "1. Having children does not affect the customer's ability to pay back their loan on time. \n",
    "  * There are more clients without children that have defaulted on their loans\n",
    "  \n",
    "The first hypothesis is rejected. Having children does not seem to affect a customer's ability to repay their loan. \n",
    "\n",
    "2. Those in relationships (civil partnerships or married) have the highest default rate. \n",
    "\n",
    "The second hypothesis is rejected. \n",
    "\n",
    "3. Higher income customers had the lowest default rate.\n",
    "  * Those in high income brackets had the lowest default rate, while those in the lower income brackets has the highest default rate.\n",
    "\n",
    "The third hypothesis is fully accepted. Customers with a high income are more likely to not default on a loan. \n",
    "\n",
    "4. There were different default rates for different loan purposes.\n",
    "  * The highest default rate was for customers who took out a loan for real estate purposes. This makes sense since buying a house or doing home improvements are costly, so customers might be taking out a bigger loan. \n",
    "  * The lowest default rate was for customers who took out a loan for wedding purposes. \n",
    "\n",
    "The fourth hypothesis is rejected. Different loan purposes do have an affect on on-time loan repayment. \n",
    "\n",
    "\n",
    "\n",
    "\n",
    "\n"
   ]
  }
 ],
 "metadata": {
  "ExecuteTimeLog": [
   {
    "duration": 1209,
    "start_time": "2022-02-15T21:23:17.922Z"
   },
   {
    "duration": 20,
    "start_time": "2022-02-15T21:23:19.133Z"
   },
   {
    "duration": 13,
    "start_time": "2022-02-15T21:23:19.156Z"
   },
   {
    "duration": 17,
    "start_time": "2022-02-15T21:23:19.171Z"
   },
   {
    "duration": 39,
    "start_time": "2022-02-15T21:23:19.190Z"
   },
   {
    "duration": 35,
    "start_time": "2022-02-15T21:23:19.231Z"
   },
   {
    "duration": 4,
    "start_time": "2022-02-15T21:23:19.268Z"
   },
   {
    "duration": 34,
    "start_time": "2022-02-15T21:23:19.275Z"
   },
   {
    "duration": 18,
    "start_time": "2022-02-15T21:23:19.311Z"
   },
   {
    "duration": 21,
    "start_time": "2022-02-15T21:23:19.331Z"
   },
   {
    "duration": 21,
    "start_time": "2022-02-15T21:23:19.354Z"
   },
   {
    "duration": 17,
    "start_time": "2022-02-15T21:23:19.377Z"
   },
   {
    "duration": 21,
    "start_time": "2022-02-15T21:23:19.396Z"
   },
   {
    "duration": 19,
    "start_time": "2022-02-15T21:23:19.420Z"
   },
   {
    "duration": 12,
    "start_time": "2022-02-15T21:23:19.441Z"
   },
   {
    "duration": 18,
    "start_time": "2022-02-15T21:23:19.455Z"
   },
   {
    "duration": 29,
    "start_time": "2022-02-15T21:23:19.475Z"
   },
   {
    "duration": 12,
    "start_time": "2022-02-15T21:23:19.506Z"
   },
   {
    "duration": 11,
    "start_time": "2022-02-15T21:23:19.520Z"
   },
   {
    "duration": 10,
    "start_time": "2022-02-15T21:23:19.533Z"
   },
   {
    "duration": 14,
    "start_time": "2022-02-15T21:23:19.545Z"
   },
   {
    "duration": 11,
    "start_time": "2022-02-15T21:23:19.561Z"
   },
   {
    "duration": 11,
    "start_time": "2022-02-15T21:23:19.576Z"
   },
   {
    "duration": 18,
    "start_time": "2022-02-15T21:23:19.590Z"
   },
   {
    "duration": 12,
    "start_time": "2022-02-15T21:23:19.610Z"
   },
   {
    "duration": 15,
    "start_time": "2022-02-15T21:23:19.624Z"
   },
   {
    "duration": 18,
    "start_time": "2022-02-15T21:23:19.641Z"
   },
   {
    "duration": 12,
    "start_time": "2022-02-15T21:23:19.661Z"
   },
   {
    "duration": 64,
    "start_time": "2022-02-15T21:23:19.675Z"
   },
   {
    "duration": 5,
    "start_time": "2022-02-15T21:23:19.741Z"
   },
   {
    "duration": 26,
    "start_time": "2022-02-15T21:23:19.747Z"
   },
   {
    "duration": 32,
    "start_time": "2022-02-15T21:23:19.775Z"
   },
   {
    "duration": 16,
    "start_time": "2022-02-15T21:23:19.810Z"
   },
   {
    "duration": 11,
    "start_time": "2022-02-15T21:23:19.828Z"
   },
   {
    "duration": 16,
    "start_time": "2022-02-15T21:23:19.840Z"
   },
   {
    "duration": 13,
    "start_time": "2022-02-15T21:23:19.858Z"
   },
   {
    "duration": 252,
    "start_time": "2022-02-15T21:23:19.873Z"
   },
   {
    "duration": 6,
    "start_time": "2022-02-15T21:23:20.127Z"
   },
   {
    "duration": 14,
    "start_time": "2022-02-15T21:23:20.135Z"
   },
   {
    "duration": 5,
    "start_time": "2022-02-15T21:23:20.150Z"
   },
   {
    "duration": 10,
    "start_time": "2022-02-15T21:23:20.157Z"
   },
   {
    "duration": 15,
    "start_time": "2022-02-15T21:23:20.168Z"
   },
   {
    "duration": 4,
    "start_time": "2022-02-15T21:23:20.207Z"
   },
   {
    "duration": 13,
    "start_time": "2022-02-15T21:23:20.213Z"
   },
   {
    "duration": 8,
    "start_time": "2022-02-15T21:23:20.228Z"
   },
   {
    "duration": 17,
    "start_time": "2022-02-15T21:23:20.238Z"
   },
   {
    "duration": 4,
    "start_time": "2022-02-15T21:23:20.257Z"
   },
   {
    "duration": 24,
    "start_time": "2022-02-15T21:23:20.262Z"
   },
   {
    "duration": 22,
    "start_time": "2022-02-15T21:23:20.288Z"
   },
   {
    "duration": 7,
    "start_time": "2022-02-15T21:23:20.312Z"
   },
   {
    "duration": 16,
    "start_time": "2022-02-15T21:23:20.321Z"
   },
   {
    "duration": 19,
    "start_time": "2022-02-15T21:23:20.339Z"
   },
   {
    "duration": 12,
    "start_time": "2022-02-15T21:23:20.360Z"
   },
   {
    "duration": 15,
    "start_time": "2022-02-15T21:23:20.374Z"
   },
   {
    "duration": 20,
    "start_time": "2022-02-15T21:23:20.390Z"
   },
   {
    "duration": 6,
    "start_time": "2022-02-15T21:23:20.412Z"
   },
   {
    "duration": 23,
    "start_time": "2022-02-15T21:23:20.420Z"
   },
   {
    "duration": 12,
    "start_time": "2022-02-15T21:23:20.445Z"
   },
   {
    "duration": 21,
    "start_time": "2022-02-15T21:23:20.458Z"
   },
   {
    "duration": 54,
    "start_time": "2022-02-15T21:23:20.481Z"
   },
   {
    "duration": 5,
    "start_time": "2022-02-15T21:23:20.536Z"
   },
   {
    "duration": 67,
    "start_time": "2022-02-15T21:23:20.543Z"
   },
   {
    "duration": 7,
    "start_time": "2022-02-15T21:23:20.611Z"
   },
   {
    "duration": 68,
    "start_time": "2022-02-15T21:23:20.620Z"
   },
   {
    "duration": 7,
    "start_time": "2022-02-15T21:23:20.690Z"
   },
   {
    "duration": 18,
    "start_time": "2022-02-15T21:23:20.699Z"
   },
   {
    "duration": 23,
    "start_time": "2022-02-15T21:23:20.719Z"
   },
   {
    "duration": 59,
    "start_time": "2022-02-15T21:23:20.748Z"
   },
   {
    "duration": 5,
    "start_time": "2022-02-15T21:23:20.809Z"
   },
   {
    "duration": 6,
    "start_time": "2022-02-15T21:33:44.400Z"
   },
   {
    "duration": 302,
    "start_time": "2022-02-16T00:58:17.271Z"
   },
   {
    "duration": 902,
    "start_time": "2022-02-16T00:58:26.700Z"
   },
   {
    "duration": 13,
    "start_time": "2022-02-16T00:58:27.604Z"
   },
   {
    "duration": 16,
    "start_time": "2022-02-16T00:58:27.619Z"
   },
   {
    "duration": 19,
    "start_time": "2022-02-16T00:58:27.636Z"
   },
   {
    "duration": 19,
    "start_time": "2022-02-16T00:58:27.657Z"
   },
   {
    "duration": 32,
    "start_time": "2022-02-16T00:58:27.677Z"
   },
   {
    "duration": 4,
    "start_time": "2022-02-16T00:58:29.143Z"
   },
   {
    "duration": 4,
    "start_time": "2022-02-16T00:58:32.848Z"
   },
   {
    "duration": 236,
    "start_time": "2022-02-16T00:58:37.313Z"
   },
   {
    "duration": 12,
    "start_time": "2022-02-16T00:58:37.551Z"
   },
   {
    "duration": 5,
    "start_time": "2022-02-16T00:58:37.565Z"
   },
   {
    "duration": 11,
    "start_time": "2022-02-16T00:58:37.571Z"
   },
   {
    "duration": 16,
    "start_time": "2022-02-16T00:58:37.584Z"
   },
   {
    "duration": 31,
    "start_time": "2022-02-16T00:58:37.601Z"
   },
   {
    "duration": 4,
    "start_time": "2022-02-16T00:58:37.634Z"
   },
   {
    "duration": 37,
    "start_time": "2022-02-16T00:58:37.640Z"
   },
   {
    "duration": 10,
    "start_time": "2022-02-16T00:58:37.679Z"
   },
   {
    "duration": 5,
    "start_time": "2022-02-16T00:58:37.691Z"
   },
   {
    "duration": 7,
    "start_time": "2022-02-16T00:58:37.697Z"
   },
   {
    "duration": 7,
    "start_time": "2022-02-16T00:58:37.705Z"
   },
   {
    "duration": 5,
    "start_time": "2022-02-16T00:58:37.713Z"
   },
   {
    "duration": 4,
    "start_time": "2022-02-16T00:58:37.719Z"
   },
   {
    "duration": 7,
    "start_time": "2022-02-16T00:58:37.724Z"
   },
   {
    "duration": 4,
    "start_time": "2022-02-16T00:58:37.769Z"
   },
   {
    "duration": 9,
    "start_time": "2022-02-16T00:58:37.775Z"
   },
   {
    "duration": 6,
    "start_time": "2022-02-16T00:58:37.785Z"
   },
   {
    "duration": 7,
    "start_time": "2022-02-16T00:58:37.792Z"
   },
   {
    "duration": 8,
    "start_time": "2022-02-16T00:58:37.800Z"
   },
   {
    "duration": 8,
    "start_time": "2022-02-16T00:58:37.810Z"
   },
   {
    "duration": 7,
    "start_time": "2022-02-16T00:58:37.819Z"
   },
   {
    "duration": 4,
    "start_time": "2022-02-16T00:58:37.829Z"
   },
   {
    "duration": 40,
    "start_time": "2022-02-16T00:58:37.836Z"
   },
   {
    "duration": 6,
    "start_time": "2022-02-16T00:58:37.878Z"
   },
   {
    "duration": 7,
    "start_time": "2022-02-16T00:58:37.885Z"
   },
   {
    "duration": 9,
    "start_time": "2022-02-16T00:58:37.893Z"
   },
   {
    "duration": 6,
    "start_time": "2022-02-16T00:58:37.903Z"
   },
   {
    "duration": 79,
    "start_time": "2022-02-16T00:58:37.911Z"
   },
   {
    "duration": 5,
    "start_time": "2022-02-16T00:58:37.991Z"
   },
   {
    "duration": 24,
    "start_time": "2022-02-16T00:58:37.997Z"
   },
   {
    "duration": 15,
    "start_time": "2022-02-16T00:58:38.023Z"
   },
   {
    "duration": 38,
    "start_time": "2022-02-16T00:58:38.040Z"
   },
   {
    "duration": 10,
    "start_time": "2022-02-16T00:58:38.080Z"
   },
   {
    "duration": 10,
    "start_time": "2022-02-16T00:58:38.091Z"
   },
   {
    "duration": 8,
    "start_time": "2022-02-16T00:58:38.102Z"
   },
   {
    "duration": 270,
    "start_time": "2022-02-16T00:58:38.112Z"
   },
   {
    "duration": 5,
    "start_time": "2022-02-16T00:58:38.384Z"
   },
   {
    "duration": 12,
    "start_time": "2022-02-16T00:58:38.390Z"
   },
   {
    "duration": 3,
    "start_time": "2022-02-16T00:58:38.404Z"
   },
   {
    "duration": 6,
    "start_time": "2022-02-16T00:58:38.408Z"
   },
   {
    "duration": 10,
    "start_time": "2022-02-16T00:58:38.416Z"
   },
   {
    "duration": 3,
    "start_time": "2022-02-16T00:58:38.427Z"
   },
   {
    "duration": 5,
    "start_time": "2022-02-16T00:58:38.432Z"
   },
   {
    "duration": 5,
    "start_time": "2022-02-16T00:58:38.470Z"
   },
   {
    "duration": 32,
    "start_time": "2022-02-16T00:58:38.476Z"
   },
   {
    "duration": 4,
    "start_time": "2022-02-16T00:58:38.510Z"
   },
   {
    "duration": 27,
    "start_time": "2022-02-16T00:58:38.516Z"
   },
   {
    "duration": 7,
    "start_time": "2022-02-16T00:58:38.545Z"
   },
   {
    "duration": 9,
    "start_time": "2022-02-16T00:58:38.553Z"
   },
   {
    "duration": 17,
    "start_time": "2022-02-16T00:58:38.563Z"
   },
   {
    "duration": 16,
    "start_time": "2022-02-16T00:58:38.581Z"
   },
   {
    "duration": 18,
    "start_time": "2022-02-16T00:58:38.599Z"
   },
   {
    "duration": 15,
    "start_time": "2022-02-16T00:58:38.618Z"
   },
   {
    "duration": 20,
    "start_time": "2022-02-16T00:58:38.634Z"
   },
   {
    "duration": 11,
    "start_time": "2022-02-16T00:58:38.656Z"
   },
   {
    "duration": 30,
    "start_time": "2022-02-16T00:58:38.668Z"
   },
   {
    "duration": 13,
    "start_time": "2022-02-16T00:58:38.700Z"
   },
   {
    "duration": 26,
    "start_time": "2022-02-16T00:58:38.714Z"
   },
   {
    "duration": 43,
    "start_time": "2022-02-16T00:58:38.742Z"
   },
   {
    "duration": 4,
    "start_time": "2022-02-16T00:58:38.786Z"
   },
   {
    "duration": 54,
    "start_time": "2022-02-16T00:58:38.791Z"
   },
   {
    "duration": 7,
    "start_time": "2022-02-16T00:58:38.846Z"
   },
   {
    "duration": 41,
    "start_time": "2022-02-16T00:58:38.855Z"
   },
   {
    "duration": 8,
    "start_time": "2022-02-16T00:58:38.897Z"
   },
   {
    "duration": 12,
    "start_time": "2022-02-16T00:58:38.906Z"
   },
   {
    "duration": 7,
    "start_time": "2022-02-16T00:58:38.920Z"
   },
   {
    "duration": 58,
    "start_time": "2022-02-16T00:58:38.931Z"
   },
   {
    "duration": 6,
    "start_time": "2022-02-16T00:58:38.991Z"
   },
   {
    "duration": 245,
    "start_time": "2022-02-16T01:01:17.618Z"
   },
   {
    "duration": 14,
    "start_time": "2022-02-16T01:01:17.865Z"
   },
   {
    "duration": 6,
    "start_time": "2022-02-16T01:01:17.881Z"
   },
   {
    "duration": 14,
    "start_time": "2022-02-16T01:01:17.889Z"
   },
   {
    "duration": 18,
    "start_time": "2022-02-16T01:01:17.905Z"
   },
   {
    "duration": 55,
    "start_time": "2022-02-16T01:01:17.925Z"
   },
   {
    "duration": 5,
    "start_time": "2022-02-16T01:01:17.982Z"
   },
   {
    "duration": 12,
    "start_time": "2022-02-16T01:01:17.989Z"
   },
   {
    "duration": 11,
    "start_time": "2022-02-16T01:01:18.003Z"
   },
   {
    "duration": 5,
    "start_time": "2022-02-16T01:01:18.016Z"
   },
   {
    "duration": 9,
    "start_time": "2022-02-16T01:01:18.023Z"
   },
   {
    "duration": 7,
    "start_time": "2022-02-16T01:01:18.033Z"
   },
   {
    "duration": 5,
    "start_time": "2022-02-16T01:01:18.070Z"
   },
   {
    "duration": 3,
    "start_time": "2022-02-16T01:01:18.077Z"
   },
   {
    "duration": 6,
    "start_time": "2022-02-16T01:01:18.082Z"
   },
   {
    "duration": 5,
    "start_time": "2022-02-16T01:01:18.089Z"
   },
   {
    "duration": 12,
    "start_time": "2022-02-16T01:01:18.096Z"
   },
   {
    "duration": 7,
    "start_time": "2022-02-16T01:01:18.109Z"
   },
   {
    "duration": 5,
    "start_time": "2022-02-16T01:01:18.117Z"
   },
   {
    "duration": 46,
    "start_time": "2022-02-16T01:01:18.123Z"
   },
   {
    "duration": 7,
    "start_time": "2022-02-16T01:01:18.171Z"
   },
   {
    "duration": 8,
    "start_time": "2022-02-16T01:01:18.180Z"
   },
   {
    "duration": 4,
    "start_time": "2022-02-16T01:01:18.193Z"
   },
   {
    "duration": 8,
    "start_time": "2022-02-16T01:01:18.200Z"
   },
   {
    "duration": 8,
    "start_time": "2022-02-16T01:01:18.210Z"
   },
   {
    "duration": 7,
    "start_time": "2022-02-16T01:01:18.220Z"
   },
   {
    "duration": 40,
    "start_time": "2022-02-16T01:01:18.229Z"
   },
   {
    "duration": 5,
    "start_time": "2022-02-16T01:01:18.271Z"
   },
   {
    "duration": 65,
    "start_time": "2022-02-16T01:01:18.278Z"
   },
   {
    "duration": 26,
    "start_time": "2022-02-16T01:01:18.345Z"
   },
   {
    "duration": 19,
    "start_time": "2022-02-16T01:01:18.373Z"
   },
   {
    "duration": 15,
    "start_time": "2022-02-16T01:01:18.394Z"
   },
   {
    "duration": 16,
    "start_time": "2022-02-16T01:01:18.411Z"
   },
   {
    "duration": 10,
    "start_time": "2022-02-16T01:01:18.428Z"
   },
   {
    "duration": 37,
    "start_time": "2022-02-16T01:01:18.440Z"
   },
   {
    "duration": 8,
    "start_time": "2022-02-16T01:01:18.478Z"
   },
   {
    "duration": 258,
    "start_time": "2022-02-16T01:01:18.487Z"
   },
   {
    "duration": 5,
    "start_time": "2022-02-16T01:01:18.747Z"
   },
   {
    "duration": 21,
    "start_time": "2022-02-16T01:01:18.754Z"
   },
   {
    "duration": 4,
    "start_time": "2022-02-16T01:01:18.777Z"
   },
   {
    "duration": 8,
    "start_time": "2022-02-16T01:01:18.782Z"
   },
   {
    "duration": 11,
    "start_time": "2022-02-16T01:01:18.791Z"
   },
   {
    "duration": 4,
    "start_time": "2022-02-16T01:01:18.803Z"
   },
   {
    "duration": 6,
    "start_time": "2022-02-16T01:01:18.808Z"
   },
   {
    "duration": 8,
    "start_time": "2022-02-16T01:01:18.816Z"
   },
   {
    "duration": 45,
    "start_time": "2022-02-16T01:01:18.825Z"
   },
   {
    "duration": 4,
    "start_time": "2022-02-16T01:01:18.871Z"
   },
   {
    "duration": 21,
    "start_time": "2022-02-16T01:01:18.876Z"
   },
   {
    "duration": 7,
    "start_time": "2022-02-16T01:01:18.899Z"
   },
   {
    "duration": 9,
    "start_time": "2022-02-16T01:01:18.907Z"
   },
   {
    "duration": 68,
    "start_time": "2022-02-16T01:01:18.918Z"
   },
   {
    "duration": 12,
    "start_time": "2022-02-16T01:01:18.988Z"
   },
   {
    "duration": 7,
    "start_time": "2022-02-16T01:01:19.002Z"
   },
   {
    "duration": 9,
    "start_time": "2022-02-16T01:01:19.011Z"
   },
   {
    "duration": 9,
    "start_time": "2022-02-16T01:01:19.022Z"
   },
   {
    "duration": 39,
    "start_time": "2022-02-16T01:01:19.033Z"
   },
   {
    "duration": 12,
    "start_time": "2022-02-16T01:01:19.075Z"
   },
   {
    "duration": 6,
    "start_time": "2022-02-16T01:01:19.090Z"
   },
   {
    "duration": 14,
    "start_time": "2022-02-16T01:01:19.098Z"
   },
   {
    "duration": 77,
    "start_time": "2022-02-16T01:01:19.114Z"
   },
   {
    "duration": 5,
    "start_time": "2022-02-16T01:01:19.193Z"
   },
   {
    "duration": 38,
    "start_time": "2022-02-16T01:01:19.200Z"
   },
   {
    "duration": 7,
    "start_time": "2022-02-16T01:01:19.240Z"
   },
   {
    "duration": 39,
    "start_time": "2022-02-16T01:01:19.270Z"
   },
   {
    "duration": 7,
    "start_time": "2022-02-16T01:01:19.311Z"
   },
   {
    "duration": 12,
    "start_time": "2022-02-16T01:01:19.320Z"
   },
   {
    "duration": 36,
    "start_time": "2022-02-16T01:01:19.334Z"
   },
   {
    "duration": 35,
    "start_time": "2022-02-16T01:01:19.375Z"
   },
   {
    "duration": 6,
    "start_time": "2022-02-16T01:01:19.412Z"
   },
   {
    "duration": 256,
    "start_time": "2022-02-16T01:02:33.549Z"
   },
   {
    "duration": 13,
    "start_time": "2022-02-16T01:02:33.808Z"
   },
   {
    "duration": 4,
    "start_time": "2022-02-16T01:02:33.824Z"
   },
   {
    "duration": 12,
    "start_time": "2022-02-16T01:02:33.830Z"
   },
   {
    "duration": 42,
    "start_time": "2022-02-16T01:02:33.844Z"
   },
   {
    "duration": 34,
    "start_time": "2022-02-16T01:02:33.888Z"
   },
   {
    "duration": 4,
    "start_time": "2022-02-16T01:02:33.924Z"
   },
   {
    "duration": 39,
    "start_time": "2022-02-16T01:02:33.930Z"
   },
   {
    "duration": 8,
    "start_time": "2022-02-16T01:02:33.971Z"
   },
   {
    "duration": 8,
    "start_time": "2022-02-16T01:02:33.981Z"
   },
   {
    "duration": 12,
    "start_time": "2022-02-16T01:02:33.991Z"
   },
   {
    "duration": 8,
    "start_time": "2022-02-16T01:02:34.005Z"
   },
   {
    "duration": 5,
    "start_time": "2022-02-16T01:02:34.015Z"
   },
   {
    "duration": 4,
    "start_time": "2022-02-16T01:02:34.021Z"
   },
   {
    "duration": 8,
    "start_time": "2022-02-16T01:02:34.026Z"
   },
   {
    "duration": 4,
    "start_time": "2022-02-16T01:02:34.036Z"
   },
   {
    "duration": 35,
    "start_time": "2022-02-16T01:02:34.041Z"
   },
   {
    "duration": 7,
    "start_time": "2022-02-16T01:02:34.078Z"
   },
   {
    "duration": 6,
    "start_time": "2022-02-16T01:02:34.086Z"
   },
   {
    "duration": 6,
    "start_time": "2022-02-16T01:02:34.093Z"
   },
   {
    "duration": 8,
    "start_time": "2022-02-16T01:02:34.101Z"
   },
   {
    "duration": 6,
    "start_time": "2022-02-16T01:02:34.111Z"
   },
   {
    "duration": 4,
    "start_time": "2022-02-16T01:02:34.121Z"
   },
   {
    "duration": 43,
    "start_time": "2022-02-16T01:02:34.127Z"
   },
   {
    "duration": 4,
    "start_time": "2022-02-16T01:02:34.172Z"
   },
   {
    "duration": 9,
    "start_time": "2022-02-16T01:02:34.177Z"
   },
   {
    "duration": 5,
    "start_time": "2022-02-16T01:02:34.188Z"
   },
   {
    "duration": 11,
    "start_time": "2022-02-16T01:02:34.195Z"
   },
   {
    "duration": 83,
    "start_time": "2022-02-16T01:02:34.207Z"
   },
   {
    "duration": 4,
    "start_time": "2022-02-16T01:02:34.292Z"
   },
   {
    "duration": 26,
    "start_time": "2022-02-16T01:02:34.297Z"
   },
   {
    "duration": 14,
    "start_time": "2022-02-16T01:02:34.325Z"
   },
   {
    "duration": 30,
    "start_time": "2022-02-16T01:02:34.340Z"
   },
   {
    "duration": 10,
    "start_time": "2022-02-16T01:02:34.371Z"
   },
   {
    "duration": 9,
    "start_time": "2022-02-16T01:02:34.382Z"
   },
   {
    "duration": 7,
    "start_time": "2022-02-16T01:02:34.393Z"
   },
   {
    "duration": 268,
    "start_time": "2022-02-16T01:02:34.402Z"
   },
   {
    "duration": 6,
    "start_time": "2022-02-16T01:02:34.672Z"
   },
   {
    "duration": 14,
    "start_time": "2022-02-16T01:02:34.679Z"
   },
   {
    "duration": 4,
    "start_time": "2022-02-16T01:02:34.695Z"
   },
   {
    "duration": 7,
    "start_time": "2022-02-16T01:02:34.700Z"
   },
   {
    "duration": 14,
    "start_time": "2022-02-16T01:02:34.708Z"
   },
   {
    "duration": 4,
    "start_time": "2022-02-16T01:02:34.723Z"
   },
   {
    "duration": 7,
    "start_time": "2022-02-16T01:02:34.728Z"
   },
   {
    "duration": 33,
    "start_time": "2022-02-16T01:02:34.736Z"
   },
   {
    "duration": 13,
    "start_time": "2022-02-16T01:02:34.771Z"
   },
   {
    "duration": 3,
    "start_time": "2022-02-16T01:02:34.786Z"
   },
   {
    "duration": 21,
    "start_time": "2022-02-16T01:02:34.791Z"
   },
   {
    "duration": 7,
    "start_time": "2022-02-16T01:02:34.813Z"
   },
   {
    "duration": 6,
    "start_time": "2022-02-16T01:02:34.822Z"
   },
   {
    "duration": 5,
    "start_time": "2022-02-16T01:02:34.829Z"
   },
   {
    "duration": 9,
    "start_time": "2022-02-16T01:02:34.870Z"
   },
   {
    "duration": 10,
    "start_time": "2022-02-16T01:02:34.880Z"
   },
   {
    "duration": 8,
    "start_time": "2022-02-16T01:02:34.892Z"
   },
   {
    "duration": 8,
    "start_time": "2022-02-16T01:02:34.902Z"
   },
   {
    "duration": 5,
    "start_time": "2022-02-16T01:02:34.911Z"
   },
   {
    "duration": 12,
    "start_time": "2022-02-16T01:02:34.918Z"
   },
   {
    "duration": 38,
    "start_time": "2022-02-16T01:02:34.932Z"
   },
   {
    "duration": 12,
    "start_time": "2022-02-16T01:02:34.972Z"
   },
   {
    "duration": 46,
    "start_time": "2022-02-16T01:02:34.986Z"
   },
   {
    "duration": 5,
    "start_time": "2022-02-16T01:02:35.033Z"
   },
   {
    "duration": 61,
    "start_time": "2022-02-16T01:02:35.040Z"
   },
   {
    "duration": 5,
    "start_time": "2022-02-16T01:02:35.103Z"
   },
   {
    "duration": 45,
    "start_time": "2022-02-16T01:02:35.110Z"
   },
   {
    "duration": 15,
    "start_time": "2022-02-16T01:02:35.157Z"
   },
   {
    "duration": 12,
    "start_time": "2022-02-16T01:02:35.174Z"
   },
   {
    "duration": 6,
    "start_time": "2022-02-16T01:02:35.188Z"
   },
   {
    "duration": 35,
    "start_time": "2022-02-16T01:02:35.199Z"
   },
   {
    "duration": 35,
    "start_time": "2022-02-16T01:02:35.236Z"
   },
   {
    "duration": 1299,
    "start_time": "2022-02-17T17:40:31.806Z"
   },
   {
    "duration": 18,
    "start_time": "2022-02-17T17:40:33.107Z"
   },
   {
    "duration": 9,
    "start_time": "2022-02-17T17:40:33.128Z"
   },
   {
    "duration": 35,
    "start_time": "2022-02-17T17:40:33.140Z"
   },
   {
    "duration": 35,
    "start_time": "2022-02-17T17:40:33.178Z"
   },
   {
    "duration": 69,
    "start_time": "2022-02-17T17:40:33.216Z"
   },
   {
    "duration": 6,
    "start_time": "2022-02-17T17:40:33.288Z"
   },
   {
    "duration": 14,
    "start_time": "2022-02-17T17:40:33.300Z"
   },
   {
    "duration": 45,
    "start_time": "2022-02-17T17:40:33.317Z"
   },
   {
    "duration": 5,
    "start_time": "2022-02-17T17:40:33.365Z"
   },
   {
    "duration": 13,
    "start_time": "2022-02-17T17:40:33.373Z"
   },
   {
    "duration": 10,
    "start_time": "2022-02-17T17:40:33.389Z"
   },
   {
    "duration": 6,
    "start_time": "2022-02-17T17:40:33.402Z"
   },
   {
    "duration": 5,
    "start_time": "2022-02-17T17:40:33.411Z"
   },
   {
    "duration": 48,
    "start_time": "2022-02-17T17:40:33.418Z"
   },
   {
    "duration": 5,
    "start_time": "2022-02-17T17:40:33.468Z"
   },
   {
    "duration": 13,
    "start_time": "2022-02-17T17:40:33.476Z"
   },
   {
    "duration": 8,
    "start_time": "2022-02-17T17:40:33.491Z"
   },
   {
    "duration": 8,
    "start_time": "2022-02-17T17:40:33.502Z"
   },
   {
    "duration": 49,
    "start_time": "2022-02-17T17:40:33.512Z"
   },
   {
    "duration": 9,
    "start_time": "2022-02-17T17:40:33.564Z"
   },
   {
    "duration": 9,
    "start_time": "2022-02-17T17:40:33.575Z"
   },
   {
    "duration": 8,
    "start_time": "2022-02-17T17:40:33.590Z"
   },
   {
    "duration": 10,
    "start_time": "2022-02-17T17:40:33.602Z"
   },
   {
    "duration": 47,
    "start_time": "2022-02-17T17:40:33.614Z"
   },
   {
    "duration": 10,
    "start_time": "2022-02-17T17:40:33.664Z"
   },
   {
    "duration": 8,
    "start_time": "2022-02-17T17:40:33.676Z"
   },
   {
    "duration": 8,
    "start_time": "2022-02-17T17:40:33.686Z"
   },
   {
    "duration": 122,
    "start_time": "2022-02-17T17:40:33.696Z"
   },
   {
    "duration": 6,
    "start_time": "2022-02-17T17:40:33.820Z"
   },
   {
    "duration": 41,
    "start_time": "2022-02-17T17:40:33.828Z"
   },
   {
    "duration": 19,
    "start_time": "2022-02-17T17:40:33.872Z"
   },
   {
    "duration": 22,
    "start_time": "2022-02-17T17:40:33.894Z"
   },
   {
    "duration": 44,
    "start_time": "2022-02-17T17:40:33.918Z"
   },
   {
    "duration": 12,
    "start_time": "2022-02-17T17:40:33.964Z"
   },
   {
    "duration": 11,
    "start_time": "2022-02-17T17:40:33.978Z"
   },
   {
    "duration": 389,
    "start_time": "2022-02-17T17:40:33.992Z"
   },
   {
    "duration": 8,
    "start_time": "2022-02-17T17:40:34.383Z"
   },
   {
    "duration": 16,
    "start_time": "2022-02-17T17:40:34.393Z"
   },
   {
    "duration": 5,
    "start_time": "2022-02-17T17:40:34.412Z"
   },
   {
    "duration": 6,
    "start_time": "2022-02-17T17:40:34.419Z"
   },
   {
    "duration": 11,
    "start_time": "2022-02-17T17:40:34.462Z"
   },
   {
    "duration": 5,
    "start_time": "2022-02-17T17:40:34.476Z"
   },
   {
    "duration": 10,
    "start_time": "2022-02-17T17:40:34.483Z"
   },
   {
    "duration": 8,
    "start_time": "2022-02-17T17:40:34.495Z"
   },
   {
    "duration": 58,
    "start_time": "2022-02-17T17:40:34.506Z"
   },
   {
    "duration": 5,
    "start_time": "2022-02-17T17:40:34.567Z"
   },
   {
    "duration": 26,
    "start_time": "2022-02-17T17:40:34.575Z"
   },
   {
    "duration": 10,
    "start_time": "2022-02-17T17:40:34.603Z"
   },
   {
    "duration": 45,
    "start_time": "2022-02-17T17:40:34.616Z"
   },
   {
    "duration": 6,
    "start_time": "2022-02-17T17:40:34.664Z"
   },
   {
    "duration": 17,
    "start_time": "2022-02-17T17:40:34.673Z"
   },
   {
    "duration": 7,
    "start_time": "2022-02-17T17:40:34.692Z"
   },
   {
    "duration": 11,
    "start_time": "2022-02-17T17:40:34.701Z"
   },
   {
    "duration": 12,
    "start_time": "2022-02-17T17:40:34.761Z"
   },
   {
    "duration": 8,
    "start_time": "2022-02-17T17:40:34.775Z"
   },
   {
    "duration": 21,
    "start_time": "2022-02-17T17:40:34.785Z"
   },
   {
    "duration": 9,
    "start_time": "2022-02-17T17:40:34.808Z"
   },
   {
    "duration": 53,
    "start_time": "2022-02-17T17:40:34.820Z"
   },
   {
    "duration": 61,
    "start_time": "2022-02-17T17:40:34.876Z"
   },
   {
    "duration": 23,
    "start_time": "2022-02-17T17:40:34.940Z"
   },
   {
    "duration": 57,
    "start_time": "2022-02-17T17:40:34.966Z"
   },
   {
    "duration": 36,
    "start_time": "2022-02-17T17:40:35.026Z"
   },
   {
    "duration": 64,
    "start_time": "2022-02-17T17:40:35.064Z"
   },
   {
    "duration": 34,
    "start_time": "2022-02-17T17:40:35.131Z"
   },
   {
    "duration": 22,
    "start_time": "2022-02-17T17:40:35.168Z"
   },
   {
    "duration": 13,
    "start_time": "2022-02-17T17:40:35.194Z"
   },
   {
    "duration": 81,
    "start_time": "2022-02-17T17:40:35.213Z"
   },
   {
    "duration": 8,
    "start_time": "2022-02-17T17:40:35.297Z"
   },
   {
    "duration": 748,
    "start_time": "2022-02-17T17:41:10.334Z"
   },
   {
    "duration": 326,
    "start_time": "2022-02-17T17:41:36.328Z"
   },
   {
    "duration": 344,
    "start_time": "2022-02-17T17:41:44.197Z"
   },
   {
    "duration": 364,
    "start_time": "2022-02-17T17:41:58.644Z"
   },
   {
    "duration": 55,
    "start_time": "2022-02-17T17:42:02.756Z"
   },
   {
    "duration": 61,
    "start_time": "2022-02-17T17:42:43.158Z"
   },
   {
    "duration": 54,
    "start_time": "2022-02-17T17:42:53.124Z"
   },
   {
    "duration": 56,
    "start_time": "2022-02-17T17:43:01.543Z"
   },
   {
    "duration": 60,
    "start_time": "2022-02-17T17:43:08.629Z"
   },
   {
    "duration": 59,
    "start_time": "2022-02-17T17:43:25.739Z"
   },
   {
    "duration": 112,
    "start_time": "2022-02-17T17:44:40.664Z"
   },
   {
    "duration": 94,
    "start_time": "2022-02-17T17:44:48.459Z"
   },
   {
    "duration": 53,
    "start_time": "2022-02-17T17:44:59.887Z"
   },
   {
    "duration": 47,
    "start_time": "2022-02-17T17:46:41.500Z"
   },
   {
    "duration": 312,
    "start_time": "2022-02-17T18:05:12.413Z"
   },
   {
    "duration": 37,
    "start_time": "2022-02-17T18:05:12.728Z"
   },
   {
    "duration": 6,
    "start_time": "2022-02-17T18:05:12.769Z"
   },
   {
    "duration": 17,
    "start_time": "2022-02-17T18:05:12.778Z"
   },
   {
    "duration": 64,
    "start_time": "2022-02-17T18:05:12.797Z"
   },
   {
    "duration": 47,
    "start_time": "2022-02-17T18:05:12.863Z"
   },
   {
    "duration": 5,
    "start_time": "2022-02-17T18:05:12.912Z"
   },
   {
    "duration": 52,
    "start_time": "2022-02-17T18:05:12.921Z"
   },
   {
    "duration": 24,
    "start_time": "2022-02-17T18:05:12.976Z"
   },
   {
    "duration": 7,
    "start_time": "2022-02-17T18:05:13.002Z"
   },
   {
    "duration": 8,
    "start_time": "2022-02-17T18:05:13.011Z"
   },
   {
    "duration": 12,
    "start_time": "2022-02-17T18:05:13.021Z"
   },
   {
    "duration": 30,
    "start_time": "2022-02-17T18:05:13.035Z"
   },
   {
    "duration": 5,
    "start_time": "2022-02-17T18:05:13.068Z"
   },
   {
    "duration": 15,
    "start_time": "2022-02-17T18:05:13.075Z"
   },
   {
    "duration": 11,
    "start_time": "2022-02-17T18:05:13.093Z"
   },
   {
    "duration": 17,
    "start_time": "2022-02-17T18:05:13.107Z"
   },
   {
    "duration": 46,
    "start_time": "2022-02-17T18:05:13.127Z"
   },
   {
    "duration": 8,
    "start_time": "2022-02-17T18:05:13.176Z"
   },
   {
    "duration": 10,
    "start_time": "2022-02-17T18:05:13.186Z"
   },
   {
    "duration": 18,
    "start_time": "2022-02-17T18:05:13.199Z"
   },
   {
    "duration": 8,
    "start_time": "2022-02-17T18:05:13.219Z"
   },
   {
    "duration": 6,
    "start_time": "2022-02-17T18:05:13.267Z"
   },
   {
    "duration": 10,
    "start_time": "2022-02-17T18:05:13.278Z"
   },
   {
    "duration": 8,
    "start_time": "2022-02-17T18:05:13.290Z"
   },
   {
    "duration": 11,
    "start_time": "2022-02-17T18:05:13.301Z"
   },
   {
    "duration": 22,
    "start_time": "2022-02-17T18:05:13.314Z"
   },
   {
    "duration": 11,
    "start_time": "2022-02-17T18:05:13.362Z"
   },
   {
    "duration": 97,
    "start_time": "2022-02-17T18:05:13.375Z"
   },
   {
    "duration": 5,
    "start_time": "2022-02-17T18:05:13.474Z"
   },
   {
    "duration": 25,
    "start_time": "2022-02-17T18:05:13.481Z"
   },
   {
    "duration": 21,
    "start_time": "2022-02-17T18:05:13.508Z"
   },
   {
    "duration": 50,
    "start_time": "2022-02-17T18:05:13.532Z"
   },
   {
    "duration": 12,
    "start_time": "2022-02-17T18:05:13.585Z"
   },
   {
    "duration": 11,
    "start_time": "2022-02-17T18:05:13.599Z"
   },
   {
    "duration": 49,
    "start_time": "2022-02-17T18:05:13.613Z"
   },
   {
    "duration": 370,
    "start_time": "2022-02-17T18:05:13.665Z"
   },
   {
    "duration": 7,
    "start_time": "2022-02-17T18:05:14.038Z"
   },
   {
    "duration": 26,
    "start_time": "2022-02-17T18:05:14.048Z"
   },
   {
    "duration": 11,
    "start_time": "2022-02-17T18:05:14.077Z"
   },
   {
    "duration": 12,
    "start_time": "2022-02-17T18:05:14.091Z"
   },
   {
    "duration": 16,
    "start_time": "2022-02-17T18:05:14.105Z"
   },
   {
    "duration": 4,
    "start_time": "2022-02-17T18:05:14.124Z"
   },
   {
    "duration": 34,
    "start_time": "2022-02-17T18:05:14.131Z"
   },
   {
    "duration": 8,
    "start_time": "2022-02-17T18:05:14.168Z"
   },
   {
    "duration": 19,
    "start_time": "2022-02-17T18:05:14.178Z"
   },
   {
    "duration": 4,
    "start_time": "2022-02-17T18:05:14.199Z"
   },
   {
    "duration": 65,
    "start_time": "2022-02-17T18:05:14.205Z"
   },
   {
    "duration": 9,
    "start_time": "2022-02-17T18:05:14.273Z"
   },
   {
    "duration": 7,
    "start_time": "2022-02-17T18:05:14.285Z"
   },
   {
    "duration": 77,
    "start_time": "2022-02-17T18:05:14.295Z"
   },
   {
    "duration": 17,
    "start_time": "2022-02-17T18:05:14.376Z"
   },
   {
    "duration": 7,
    "start_time": "2022-02-17T18:05:14.395Z"
   },
   {
    "duration": 12,
    "start_time": "2022-02-17T18:05:14.405Z"
   },
   {
    "duration": 11,
    "start_time": "2022-02-17T18:05:14.460Z"
   },
   {
    "duration": 7,
    "start_time": "2022-02-17T18:05:14.473Z"
   },
   {
    "duration": 18,
    "start_time": "2022-02-17T18:05:14.482Z"
   },
   {
    "duration": 8,
    "start_time": "2022-02-17T18:05:14.502Z"
   },
   {
    "duration": 55,
    "start_time": "2022-02-17T18:05:14.513Z"
   },
   {
    "duration": 58,
    "start_time": "2022-02-17T18:05:14.570Z"
   },
   {
    "duration": 6,
    "start_time": "2022-02-17T18:05:14.630Z"
   },
   {
    "duration": 54,
    "start_time": "2022-02-17T18:05:14.661Z"
   },
   {
    "duration": 10,
    "start_time": "2022-02-17T18:05:14.718Z"
   },
   {
    "duration": 90,
    "start_time": "2022-02-17T18:05:14.731Z"
   },
   {
    "duration": 10,
    "start_time": "2022-02-17T18:05:14.824Z"
   },
   {
    "duration": 37,
    "start_time": "2022-02-17T18:05:14.837Z"
   },
   {
    "duration": 12,
    "start_time": "2022-02-17T18:05:14.877Z"
   },
   {
    "duration": 85,
    "start_time": "2022-02-17T18:05:14.897Z"
   },
   {
    "duration": 9,
    "start_time": "2022-02-17T18:05:14.984Z"
   },
   {
    "duration": 261,
    "start_time": "2022-02-17T18:07:01.088Z"
   },
   {
    "duration": 21,
    "start_time": "2022-02-17T18:07:01.352Z"
   },
   {
    "duration": 19,
    "start_time": "2022-02-17T18:07:01.376Z"
   },
   {
    "duration": 32,
    "start_time": "2022-02-17T18:07:01.399Z"
   },
   {
    "duration": 34,
    "start_time": "2022-02-17T18:07:01.434Z"
   },
   {
    "duration": 48,
    "start_time": "2022-02-17T18:07:01.471Z"
   },
   {
    "duration": 8,
    "start_time": "2022-02-17T18:07:01.522Z"
   },
   {
    "duration": 15,
    "start_time": "2022-02-17T18:07:01.563Z"
   },
   {
    "duration": 14,
    "start_time": "2022-02-17T18:07:01.582Z"
   },
   {
    "duration": 18,
    "start_time": "2022-02-17T18:07:01.598Z"
   },
   {
    "duration": 23,
    "start_time": "2022-02-17T18:07:01.619Z"
   },
   {
    "duration": 23,
    "start_time": "2022-02-17T18:07:01.645Z"
   },
   {
    "duration": 22,
    "start_time": "2022-02-17T18:07:01.671Z"
   },
   {
    "duration": 5,
    "start_time": "2022-02-17T18:07:01.696Z"
   },
   {
    "duration": 13,
    "start_time": "2022-02-17T18:07:01.704Z"
   },
   {
    "duration": 10,
    "start_time": "2022-02-17T18:07:01.720Z"
   },
   {
    "duration": 35,
    "start_time": "2022-02-17T18:07:01.732Z"
   },
   {
    "duration": 50,
    "start_time": "2022-02-17T18:07:01.770Z"
   },
   {
    "duration": 6,
    "start_time": "2022-02-17T18:07:01.823Z"
   },
   {
    "duration": 7,
    "start_time": "2022-02-17T18:07:01.832Z"
   },
   {
    "duration": 23,
    "start_time": "2022-02-17T18:07:01.842Z"
   },
   {
    "duration": 10,
    "start_time": "2022-02-17T18:07:01.867Z"
   },
   {
    "duration": 9,
    "start_time": "2022-02-17T18:07:01.884Z"
   },
   {
    "duration": 8,
    "start_time": "2022-02-17T18:07:01.898Z"
   },
   {
    "duration": 9,
    "start_time": "2022-02-17T18:07:01.908Z"
   },
   {
    "duration": 48,
    "start_time": "2022-02-17T18:07:01.920Z"
   },
   {
    "duration": 9,
    "start_time": "2022-02-17T18:07:01.971Z"
   },
   {
    "duration": 11,
    "start_time": "2022-02-17T18:07:01.983Z"
   },
   {
    "duration": 127,
    "start_time": "2022-02-17T18:07:01.996Z"
   },
   {
    "duration": 6,
    "start_time": "2022-02-17T18:07:02.125Z"
   },
   {
    "duration": 43,
    "start_time": "2022-02-17T18:07:02.133Z"
   },
   {
    "duration": 23,
    "start_time": "2022-02-17T18:07:02.179Z"
   },
   {
    "duration": 22,
    "start_time": "2022-02-17T18:07:02.205Z"
   },
   {
    "duration": 41,
    "start_time": "2022-02-17T18:07:02.230Z"
   },
   {
    "duration": 11,
    "start_time": "2022-02-17T18:07:02.273Z"
   },
   {
    "duration": 11,
    "start_time": "2022-02-17T18:07:02.286Z"
   },
   {
    "duration": 416,
    "start_time": "2022-02-17T18:07:02.299Z"
   },
   {
    "duration": 8,
    "start_time": "2022-02-17T18:07:02.717Z"
   },
   {
    "duration": 17,
    "start_time": "2022-02-17T18:07:02.727Z"
   },
   {
    "duration": 4,
    "start_time": "2022-02-17T18:07:02.746Z"
   },
   {
    "duration": 13,
    "start_time": "2022-02-17T18:07:02.753Z"
   },
   {
    "duration": 38,
    "start_time": "2022-02-17T18:07:02.769Z"
   },
   {
    "duration": 9,
    "start_time": "2022-02-17T18:07:02.810Z"
   },
   {
    "duration": 8,
    "start_time": "2022-02-17T18:07:02.822Z"
   },
   {
    "duration": 6,
    "start_time": "2022-02-17T18:07:02.832Z"
   },
   {
    "duration": 22,
    "start_time": "2022-02-17T18:07:02.840Z"
   },
   {
    "duration": 5,
    "start_time": "2022-02-17T18:07:02.864Z"
   },
   {
    "duration": 26,
    "start_time": "2022-02-17T18:07:02.871Z"
   },
   {
    "duration": 9,
    "start_time": "2022-02-17T18:07:02.899Z"
   },
   {
    "duration": 10,
    "start_time": "2022-02-17T18:07:02.910Z"
   },
   {
    "duration": 6,
    "start_time": "2022-02-17T18:07:02.922Z"
   },
   {
    "duration": 14,
    "start_time": "2022-02-17T18:07:02.931Z"
   },
   {
    "duration": 6,
    "start_time": "2022-02-17T18:07:02.947Z"
   },
   {
    "duration": 14,
    "start_time": "2022-02-17T18:07:02.956Z"
   },
   {
    "duration": 9,
    "start_time": "2022-02-17T18:07:02.973Z"
   },
   {
    "duration": 13,
    "start_time": "2022-02-17T18:07:02.985Z"
   },
   {
    "duration": 17,
    "start_time": "2022-02-17T18:07:03.000Z"
   },
   {
    "duration": 6,
    "start_time": "2022-02-17T18:07:03.020Z"
   },
   {
    "duration": 35,
    "start_time": "2022-02-17T18:07:03.029Z"
   },
   {
    "duration": 55,
    "start_time": "2022-02-17T18:07:03.067Z"
   },
   {
    "duration": 6,
    "start_time": "2022-02-17T18:07:03.125Z"
   },
   {
    "duration": 69,
    "start_time": "2022-02-17T18:07:03.133Z"
   },
   {
    "duration": 9,
    "start_time": "2022-02-17T18:07:03.205Z"
   },
   {
    "duration": 69,
    "start_time": "2022-02-17T18:07:03.217Z"
   },
   {
    "duration": 12,
    "start_time": "2022-02-17T18:07:03.289Z"
   },
   {
    "duration": 32,
    "start_time": "2022-02-17T18:07:03.304Z"
   },
   {
    "duration": 9,
    "start_time": "2022-02-17T18:07:03.339Z"
   },
   {
    "duration": 78,
    "start_time": "2022-02-17T18:07:03.355Z"
   },
   {
    "duration": 9,
    "start_time": "2022-02-17T18:07:03.436Z"
   },
   {
    "duration": 1038,
    "start_time": "2022-02-17T23:10:41.051Z"
   },
   {
    "duration": 10,
    "start_time": "2022-02-17T23:10:42.091Z"
   },
   {
    "duration": 9,
    "start_time": "2022-02-17T23:10:42.103Z"
   },
   {
    "duration": 15,
    "start_time": "2022-02-17T23:10:42.114Z"
   },
   {
    "duration": 32,
    "start_time": "2022-02-17T23:10:42.130Z"
   },
   {
    "duration": 27,
    "start_time": "2022-02-17T23:10:42.163Z"
   },
   {
    "duration": 4,
    "start_time": "2022-02-17T23:10:42.191Z"
   },
   {
    "duration": 8,
    "start_time": "2022-02-17T23:10:42.197Z"
   },
   {
    "duration": 8,
    "start_time": "2022-02-17T23:10:42.207Z"
   },
   {
    "duration": 4,
    "start_time": "2022-02-17T23:10:42.216Z"
   },
   {
    "duration": 30,
    "start_time": "2022-02-17T23:10:42.221Z"
   },
   {
    "duration": 6,
    "start_time": "2022-02-17T23:10:42.252Z"
   },
   {
    "duration": 10,
    "start_time": "2022-02-17T23:10:42.259Z"
   },
   {
    "duration": 5,
    "start_time": "2022-02-17T23:10:42.270Z"
   },
   {
    "duration": 6,
    "start_time": "2022-02-17T23:10:42.276Z"
   },
   {
    "duration": 4,
    "start_time": "2022-02-17T23:10:42.283Z"
   },
   {
    "duration": 8,
    "start_time": "2022-02-17T23:10:42.288Z"
   },
   {
    "duration": 5,
    "start_time": "2022-02-17T23:10:42.297Z"
   },
   {
    "duration": 4,
    "start_time": "2022-02-17T23:10:42.304Z"
   },
   {
    "duration": 39,
    "start_time": "2022-02-17T23:10:42.309Z"
   },
   {
    "duration": 8,
    "start_time": "2022-02-17T23:10:42.349Z"
   },
   {
    "duration": 9,
    "start_time": "2022-02-17T23:10:42.359Z"
   },
   {
    "duration": 5,
    "start_time": "2022-02-17T23:10:42.372Z"
   },
   {
    "duration": 7,
    "start_time": "2022-02-17T23:10:42.379Z"
   },
   {
    "duration": 5,
    "start_time": "2022-02-17T23:10:42.387Z"
   },
   {
    "duration": 7,
    "start_time": "2022-02-17T23:10:42.393Z"
   },
   {
    "duration": 5,
    "start_time": "2022-02-17T23:10:42.401Z"
   },
   {
    "duration": 5,
    "start_time": "2022-02-17T23:10:42.407Z"
   },
   {
    "duration": 74,
    "start_time": "2022-02-17T23:10:42.413Z"
   },
   {
    "duration": 3,
    "start_time": "2022-02-17T23:10:42.489Z"
   },
   {
    "duration": 15,
    "start_time": "2022-02-17T23:10:42.493Z"
   },
   {
    "duration": 11,
    "start_time": "2022-02-17T23:10:42.510Z"
   },
   {
    "duration": 35,
    "start_time": "2022-02-17T23:10:42.523Z"
   },
   {
    "duration": 9,
    "start_time": "2022-02-17T23:10:42.560Z"
   },
   {
    "duration": 7,
    "start_time": "2022-02-17T23:10:42.570Z"
   },
   {
    "duration": 6,
    "start_time": "2022-02-17T23:10:42.578Z"
   },
   {
    "duration": 221,
    "start_time": "2022-02-17T23:10:42.585Z"
   },
   {
    "duration": 5,
    "start_time": "2022-02-17T23:10:42.808Z"
   },
   {
    "duration": 10,
    "start_time": "2022-02-17T23:10:42.814Z"
   },
   {
    "duration": 4,
    "start_time": "2022-02-17T23:10:42.825Z"
   },
   {
    "duration": 24,
    "start_time": "2022-02-17T23:10:42.831Z"
   },
   {
    "duration": 11,
    "start_time": "2022-02-17T23:10:42.858Z"
   },
   {
    "duration": 3,
    "start_time": "2022-02-17T23:10:42.871Z"
   },
   {
    "duration": 5,
    "start_time": "2022-02-17T23:10:42.875Z"
   },
   {
    "duration": 5,
    "start_time": "2022-02-17T23:10:42.881Z"
   },
   {
    "duration": 11,
    "start_time": "2022-02-17T23:10:42.887Z"
   },
   {
    "duration": 6,
    "start_time": "2022-02-17T23:10:42.899Z"
   },
   {
    "duration": 19,
    "start_time": "2022-02-17T23:10:42.907Z"
   },
   {
    "duration": 27,
    "start_time": "2022-02-17T23:10:42.927Z"
   },
   {
    "duration": 9,
    "start_time": "2022-02-17T23:10:42.956Z"
   },
   {
    "duration": 5,
    "start_time": "2022-02-17T23:10:42.966Z"
   },
   {
    "duration": 12,
    "start_time": "2022-02-17T23:10:42.972Z"
   },
   {
    "duration": 4,
    "start_time": "2022-02-17T23:10:42.985Z"
   },
   {
    "duration": 7,
    "start_time": "2022-02-17T23:10:42.990Z"
   },
   {
    "duration": 6,
    "start_time": "2022-02-17T23:10:42.999Z"
   },
   {
    "duration": 4,
    "start_time": "2022-02-17T23:10:43.006Z"
   },
   {
    "duration": 13,
    "start_time": "2022-02-17T23:10:43.012Z"
   },
   {
    "duration": 27,
    "start_time": "2022-02-17T23:10:43.026Z"
   },
   {
    "duration": 18,
    "start_time": "2022-02-17T23:10:43.054Z"
   },
   {
    "duration": 32,
    "start_time": "2022-02-17T23:10:43.073Z"
   },
   {
    "duration": 5,
    "start_time": "2022-02-17T23:10:43.106Z"
   },
   {
    "duration": 56,
    "start_time": "2022-02-17T23:10:43.113Z"
   },
   {
    "duration": 6,
    "start_time": "2022-02-17T23:10:43.170Z"
   },
   {
    "duration": 422,
    "start_time": "2022-02-17T23:11:22.060Z"
   },
   {
    "duration": 410,
    "start_time": "2022-02-17T23:11:30.418Z"
   },
   {
    "duration": 371,
    "start_time": "2022-02-17T23:11:39.441Z"
   },
   {
    "duration": 361,
    "start_time": "2022-02-17T23:11:55.959Z"
   },
   {
    "duration": 35,
    "start_time": "2022-02-17T23:12:27.681Z"
   },
   {
    "duration": 31,
    "start_time": "2022-02-17T23:12:31.553Z"
   },
   {
    "duration": 378,
    "start_time": "2022-02-17T23:12:43.466Z"
   },
   {
    "duration": 37,
    "start_time": "2022-02-17T23:12:46.623Z"
   },
   {
    "duration": 416,
    "start_time": "2022-02-17T23:13:14.610Z"
   },
   {
    "duration": 33,
    "start_time": "2022-02-17T23:13:22.492Z"
   },
   {
    "duration": 399,
    "start_time": "2022-02-17T23:15:12.559Z"
   },
   {
    "duration": 106,
    "start_time": "2022-02-17T23:15:29.892Z"
   },
   {
    "duration": 368,
    "start_time": "2022-02-17T23:15:34.068Z"
   },
   {
    "duration": 378,
    "start_time": "2022-02-17T23:15:58.179Z"
   },
   {
    "duration": 389,
    "start_time": "2022-02-17T23:16:09.352Z"
   },
   {
    "duration": 1743,
    "start_time": "2022-05-19T01:16:31.213Z"
   },
   {
    "duration": 18,
    "start_time": "2022-05-19T01:16:32.959Z"
   },
   {
    "duration": 11,
    "start_time": "2022-05-19T01:16:32.979Z"
   },
   {
    "duration": 27,
    "start_time": "2022-05-19T01:16:32.992Z"
   },
   {
    "duration": 17,
    "start_time": "2022-05-19T01:16:33.021Z"
   },
   {
    "duration": 45,
    "start_time": "2022-05-19T01:16:33.040Z"
   },
   {
    "duration": 5,
    "start_time": "2022-05-19T01:16:33.087Z"
   },
   {
    "duration": 15,
    "start_time": "2022-05-19T01:16:33.093Z"
   },
   {
    "duration": 10,
    "start_time": "2022-05-19T01:16:33.110Z"
   },
   {
    "duration": 7,
    "start_time": "2022-05-19T01:16:33.123Z"
   },
   {
    "duration": 6,
    "start_time": "2022-05-19T01:16:33.132Z"
   },
   {
    "duration": 36,
    "start_time": "2022-05-19T01:16:33.140Z"
   },
   {
    "duration": 5,
    "start_time": "2022-05-19T01:16:33.177Z"
   },
   {
    "duration": 4,
    "start_time": "2022-05-19T01:16:33.184Z"
   },
   {
    "duration": 7,
    "start_time": "2022-05-19T01:16:33.189Z"
   },
   {
    "duration": 5,
    "start_time": "2022-05-19T01:16:33.197Z"
   },
   {
    "duration": 9,
    "start_time": "2022-05-19T01:16:33.203Z"
   },
   {
    "duration": 4,
    "start_time": "2022-05-19T01:16:33.213Z"
   },
   {
    "duration": 9,
    "start_time": "2022-05-19T01:16:33.219Z"
   },
   {
    "duration": 46,
    "start_time": "2022-05-19T01:16:33.229Z"
   },
   {
    "duration": 6,
    "start_time": "2022-05-19T01:16:33.276Z"
   },
   {
    "duration": 10,
    "start_time": "2022-05-19T01:16:33.284Z"
   },
   {
    "duration": 11,
    "start_time": "2022-05-19T01:16:33.295Z"
   },
   {
    "duration": 12,
    "start_time": "2022-05-19T01:16:33.309Z"
   },
   {
    "duration": 9,
    "start_time": "2022-05-19T01:16:33.323Z"
   },
   {
    "duration": 7,
    "start_time": "2022-05-19T01:16:33.334Z"
   },
   {
    "duration": 6,
    "start_time": "2022-05-19T01:16:33.343Z"
   },
   {
    "duration": 6,
    "start_time": "2022-05-19T01:16:33.379Z"
   },
   {
    "duration": 90,
    "start_time": "2022-05-19T01:16:33.387Z"
   },
   {
    "duration": 6,
    "start_time": "2022-05-19T01:16:33.479Z"
   },
   {
    "duration": 29,
    "start_time": "2022-05-19T01:16:33.487Z"
   },
   {
    "duration": 21,
    "start_time": "2022-05-19T01:16:33.518Z"
   },
   {
    "duration": 47,
    "start_time": "2022-05-19T01:16:33.541Z"
   },
   {
    "duration": 10,
    "start_time": "2022-05-19T01:16:33.590Z"
   },
   {
    "duration": 15,
    "start_time": "2022-05-19T01:16:33.602Z"
   },
   {
    "duration": 21,
    "start_time": "2022-05-19T01:16:33.619Z"
   },
   {
    "duration": 214,
    "start_time": "2022-05-19T01:16:33.642Z"
   },
   {
    "duration": 4,
    "start_time": "2022-05-19T01:16:33.858Z"
   },
   {
    "duration": 13,
    "start_time": "2022-05-19T01:16:33.864Z"
   },
   {
    "duration": 5,
    "start_time": "2022-05-19T01:16:33.879Z"
   },
   {
    "duration": 5,
    "start_time": "2022-05-19T01:16:33.885Z"
   },
   {
    "duration": 10,
    "start_time": "2022-05-19T01:16:33.892Z"
   },
   {
    "duration": 3,
    "start_time": "2022-05-19T01:16:33.904Z"
   },
   {
    "duration": 6,
    "start_time": "2022-05-19T01:16:33.909Z"
   },
   {
    "duration": 4,
    "start_time": "2022-05-19T01:16:33.917Z"
   },
   {
    "duration": 15,
    "start_time": "2022-05-19T01:16:33.922Z"
   },
   {
    "duration": 4,
    "start_time": "2022-05-19T01:16:33.975Z"
   },
   {
    "duration": 10,
    "start_time": "2022-05-19T01:16:33.981Z"
   },
   {
    "duration": 10,
    "start_time": "2022-05-19T01:16:33.992Z"
   },
   {
    "duration": 7,
    "start_time": "2022-05-19T01:16:34.003Z"
   },
   {
    "duration": 5,
    "start_time": "2022-05-19T01:16:34.012Z"
   },
   {
    "duration": 29,
    "start_time": "2022-05-19T01:16:34.018Z"
   },
   {
    "duration": 16,
    "start_time": "2022-05-19T01:16:34.048Z"
   },
   {
    "duration": 33,
    "start_time": "2022-05-19T01:16:34.065Z"
   },
   {
    "duration": 21,
    "start_time": "2022-05-19T01:16:34.100Z"
   },
   {
    "duration": 8,
    "start_time": "2022-05-19T01:16:34.123Z"
   },
   {
    "duration": 33,
    "start_time": "2022-05-19T01:16:34.133Z"
   },
   {
    "duration": 16,
    "start_time": "2022-05-19T01:16:34.168Z"
   },
   {
    "duration": 42,
    "start_time": "2022-05-19T01:16:34.186Z"
   },
   {
    "duration": 53,
    "start_time": "2022-05-19T01:16:34.230Z"
   },
   {
    "duration": 4,
    "start_time": "2022-05-19T01:16:34.285Z"
   },
   {
    "duration": 58,
    "start_time": "2022-05-19T01:16:34.291Z"
   },
   {
    "duration": 6,
    "start_time": "2022-05-19T01:16:34.350Z"
   },
   {
    "duration": 50,
    "start_time": "2022-05-19T01:16:34.357Z"
   },
   {
    "duration": 7,
    "start_time": "2022-05-19T01:16:34.408Z"
   },
   {
    "duration": 39,
    "start_time": "2022-05-19T01:16:34.417Z"
   },
   {
    "duration": 16,
    "start_time": "2022-05-19T01:16:34.458Z"
   },
   {
    "duration": 54,
    "start_time": "2022-05-19T01:16:34.475Z"
   },
   {
    "duration": 6,
    "start_time": "2022-05-19T01:16:34.530Z"
   },
   {
    "duration": 3,
    "start_time": "2022-05-19T01:17:25.780Z"
   },
   {
    "duration": 100,
    "start_time": "2022-05-19T01:17:25.786Z"
   },
   {
    "duration": 17,
    "start_time": "2022-05-19T01:17:25.888Z"
   },
   {
    "duration": 8,
    "start_time": "2022-05-19T01:17:25.907Z"
   },
   {
    "duration": 19,
    "start_time": "2022-05-19T01:17:25.917Z"
   },
   {
    "duration": 38,
    "start_time": "2022-05-19T01:17:25.938Z"
   },
   {
    "duration": 32,
    "start_time": "2022-05-19T01:17:25.978Z"
   },
   {
    "duration": 4,
    "start_time": "2022-05-19T01:17:26.011Z"
   },
   {
    "duration": 16,
    "start_time": "2022-05-19T01:17:26.017Z"
   },
   {
    "duration": 45,
    "start_time": "2022-05-19T01:17:26.035Z"
   },
   {
    "duration": 7,
    "start_time": "2022-05-19T01:17:26.083Z"
   },
   {
    "duration": 8,
    "start_time": "2022-05-19T01:17:26.091Z"
   },
   {
    "duration": 12,
    "start_time": "2022-05-19T01:17:26.101Z"
   },
   {
    "duration": 8,
    "start_time": "2022-05-19T01:17:26.114Z"
   },
   {
    "duration": 4,
    "start_time": "2022-05-19T01:17:26.123Z"
   },
   {
    "duration": 8,
    "start_time": "2022-05-19T01:17:26.129Z"
   },
   {
    "duration": 5,
    "start_time": "2022-05-19T01:17:26.140Z"
   },
   {
    "duration": 35,
    "start_time": "2022-05-19T01:17:26.146Z"
   },
   {
    "duration": 5,
    "start_time": "2022-05-19T01:17:26.182Z"
   },
   {
    "duration": 9,
    "start_time": "2022-05-19T01:17:26.188Z"
   },
   {
    "duration": 17,
    "start_time": "2022-05-19T01:17:26.199Z"
   },
   {
    "duration": 6,
    "start_time": "2022-05-19T01:17:26.218Z"
   },
   {
    "duration": 11,
    "start_time": "2022-05-19T01:17:26.226Z"
   },
   {
    "duration": 7,
    "start_time": "2022-05-19T01:17:26.238Z"
   },
   {
    "duration": 34,
    "start_time": "2022-05-19T01:17:26.247Z"
   },
   {
    "duration": 7,
    "start_time": "2022-05-19T01:17:26.282Z"
   },
   {
    "duration": 5,
    "start_time": "2022-05-19T01:17:26.293Z"
   },
   {
    "duration": 7,
    "start_time": "2022-05-19T01:17:26.300Z"
   },
   {
    "duration": 8,
    "start_time": "2022-05-19T01:17:26.308Z"
   },
   {
    "duration": 74,
    "start_time": "2022-05-19T01:17:26.318Z"
   },
   {
    "duration": 5,
    "start_time": "2022-05-19T01:17:26.394Z"
   },
   {
    "duration": 16,
    "start_time": "2022-05-19T01:17:26.401Z"
   },
   {
    "duration": 14,
    "start_time": "2022-05-19T01:17:26.419Z"
   },
   {
    "duration": 15,
    "start_time": "2022-05-19T01:17:26.435Z"
   },
   {
    "duration": 11,
    "start_time": "2022-05-19T01:17:26.475Z"
   },
   {
    "duration": 8,
    "start_time": "2022-05-19T01:17:26.488Z"
   },
   {
    "duration": 7,
    "start_time": "2022-05-19T01:17:26.498Z"
   },
   {
    "duration": 202,
    "start_time": "2022-05-19T01:17:26.507Z"
   },
   {
    "duration": 5,
    "start_time": "2022-05-19T01:17:26.710Z"
   },
   {
    "duration": 14,
    "start_time": "2022-05-19T01:17:26.716Z"
   },
   {
    "duration": 3,
    "start_time": "2022-05-19T01:17:26.734Z"
   },
   {
    "duration": 12,
    "start_time": "2022-05-19T01:17:26.739Z"
   },
   {
    "duration": 29,
    "start_time": "2022-05-19T01:17:26.753Z"
   },
   {
    "duration": 5,
    "start_time": "2022-05-19T01:17:26.783Z"
   },
   {
    "duration": 6,
    "start_time": "2022-05-19T01:17:26.789Z"
   },
   {
    "duration": 8,
    "start_time": "2022-05-19T01:17:26.796Z"
   },
   {
    "duration": 15,
    "start_time": "2022-05-19T01:17:26.806Z"
   },
   {
    "duration": 4,
    "start_time": "2022-05-19T01:17:26.822Z"
   },
   {
    "duration": 9,
    "start_time": "2022-05-19T01:17:26.828Z"
   },
   {
    "duration": 7,
    "start_time": "2022-05-19T01:17:26.838Z"
   },
   {
    "duration": 4,
    "start_time": "2022-05-19T01:17:26.875Z"
   },
   {
    "duration": 8,
    "start_time": "2022-05-19T01:17:26.881Z"
   },
   {
    "duration": 11,
    "start_time": "2022-05-19T01:17:26.891Z"
   },
   {
    "duration": 6,
    "start_time": "2022-05-19T01:17:26.903Z"
   },
   {
    "duration": 9,
    "start_time": "2022-05-19T01:17:26.911Z"
   },
   {
    "duration": 9,
    "start_time": "2022-05-19T01:17:26.921Z"
   },
   {
    "duration": 5,
    "start_time": "2022-05-19T01:17:26.932Z"
   },
   {
    "duration": 48,
    "start_time": "2022-05-19T01:17:26.939Z"
   },
   {
    "duration": 8,
    "start_time": "2022-05-19T01:17:26.989Z"
   },
   {
    "duration": 14,
    "start_time": "2022-05-19T01:17:26.999Z"
   },
   {
    "duration": 40,
    "start_time": "2022-05-19T01:17:27.015Z"
   },
   {
    "duration": 20,
    "start_time": "2022-05-19T01:17:27.057Z"
   },
   {
    "duration": 41,
    "start_time": "2022-05-19T01:17:27.079Z"
   },
   {
    "duration": 9,
    "start_time": "2022-05-19T01:17:27.122Z"
   },
   {
    "duration": 66,
    "start_time": "2022-05-19T01:17:27.133Z"
   },
   {
    "duration": 9,
    "start_time": "2022-05-19T01:17:27.203Z"
   },
   {
    "duration": 18,
    "start_time": "2022-05-19T01:17:27.214Z"
   },
   {
    "duration": 8,
    "start_time": "2022-05-19T01:17:27.234Z"
   },
   {
    "duration": 58,
    "start_time": "2022-05-19T01:17:27.245Z"
   },
   {
    "duration": 10,
    "start_time": "2022-05-19T01:17:27.306Z"
   },
   {
    "duration": 3,
    "start_time": "2022-05-19T01:18:41.676Z"
   },
   {
    "duration": 95,
    "start_time": "2022-05-19T01:18:41.682Z"
   },
   {
    "duration": 16,
    "start_time": "2022-05-19T01:18:41.780Z"
   },
   {
    "duration": 9,
    "start_time": "2022-05-19T01:18:41.798Z"
   },
   {
    "duration": 27,
    "start_time": "2022-05-19T01:18:41.809Z"
   },
   {
    "duration": 44,
    "start_time": "2022-05-19T01:18:41.838Z"
   },
   {
    "duration": 34,
    "start_time": "2022-05-19T01:18:41.884Z"
   },
   {
    "duration": 5,
    "start_time": "2022-05-19T01:18:41.920Z"
   },
   {
    "duration": 62,
    "start_time": "2022-05-19T01:18:41.927Z"
   },
   {
    "duration": 13,
    "start_time": "2022-05-19T01:18:41.991Z"
   },
   {
    "duration": 4,
    "start_time": "2022-05-19T01:18:42.007Z"
   },
   {
    "duration": 12,
    "start_time": "2022-05-19T01:18:42.013Z"
   },
   {
    "duration": 7,
    "start_time": "2022-05-19T01:18:42.027Z"
   },
   {
    "duration": 11,
    "start_time": "2022-05-19T01:18:42.035Z"
   },
   {
    "duration": 29,
    "start_time": "2022-05-19T01:18:42.047Z"
   },
   {
    "duration": 5,
    "start_time": "2022-05-19T01:18:42.078Z"
   },
   {
    "duration": 5,
    "start_time": "2022-05-19T01:18:42.085Z"
   },
   {
    "duration": 9,
    "start_time": "2022-05-19T01:18:42.092Z"
   },
   {
    "duration": 9,
    "start_time": "2022-05-19T01:18:42.103Z"
   },
   {
    "duration": 7,
    "start_time": "2022-05-19T01:18:42.114Z"
   },
   {
    "duration": 8,
    "start_time": "2022-05-19T01:18:42.123Z"
   },
   {
    "duration": 44,
    "start_time": "2022-05-19T01:18:42.133Z"
   },
   {
    "duration": 9,
    "start_time": "2022-05-19T01:18:42.179Z"
   },
   {
    "duration": 7,
    "start_time": "2022-05-19T01:18:42.189Z"
   },
   {
    "duration": 19,
    "start_time": "2022-05-19T01:18:42.198Z"
   },
   {
    "duration": 13,
    "start_time": "2022-05-19T01:18:42.219Z"
   },
   {
    "duration": 25,
    "start_time": "2022-05-19T01:18:42.239Z"
   },
   {
    "duration": 13,
    "start_time": "2022-05-19T01:18:42.266Z"
   },
   {
    "duration": 9,
    "start_time": "2022-05-19T01:18:42.281Z"
   },
   {
    "duration": 86,
    "start_time": "2022-05-19T01:18:42.292Z"
   },
   {
    "duration": 5,
    "start_time": "2022-05-19T01:18:42.379Z"
   },
   {
    "duration": 25,
    "start_time": "2022-05-19T01:18:42.385Z"
   },
   {
    "duration": 23,
    "start_time": "2022-05-19T01:18:42.412Z"
   },
   {
    "duration": 43,
    "start_time": "2022-05-19T01:18:42.437Z"
   },
   {
    "duration": 17,
    "start_time": "2022-05-19T01:18:42.482Z"
   },
   {
    "duration": 10,
    "start_time": "2022-05-19T01:18:42.501Z"
   },
   {
    "duration": 10,
    "start_time": "2022-05-19T01:18:42.514Z"
   },
   {
    "duration": 245,
    "start_time": "2022-05-19T01:18:42.525Z"
   },
   {
    "duration": 5,
    "start_time": "2022-05-19T01:18:42.772Z"
   },
   {
    "duration": 44,
    "start_time": "2022-05-19T01:18:42.781Z"
   },
   {
    "duration": 20,
    "start_time": "2022-05-19T01:18:42.827Z"
   },
   {
    "duration": 16,
    "start_time": "2022-05-19T01:18:42.850Z"
   },
   {
    "duration": 17,
    "start_time": "2022-05-19T01:18:42.868Z"
   },
   {
    "duration": 6,
    "start_time": "2022-05-19T01:18:42.886Z"
   },
   {
    "duration": 15,
    "start_time": "2022-05-19T01:18:42.894Z"
   },
   {
    "duration": 7,
    "start_time": "2022-05-19T01:18:42.912Z"
   },
   {
    "duration": 31,
    "start_time": "2022-05-19T01:18:42.921Z"
   },
   {
    "duration": 4,
    "start_time": "2022-05-19T01:18:42.955Z"
   },
   {
    "duration": 27,
    "start_time": "2022-05-19T01:18:42.961Z"
   },
   {
    "duration": 16,
    "start_time": "2022-05-19T01:18:42.989Z"
   },
   {
    "duration": 6,
    "start_time": "2022-05-19T01:18:43.007Z"
   },
   {
    "duration": 14,
    "start_time": "2022-05-19T01:18:43.015Z"
   },
   {
    "duration": 36,
    "start_time": "2022-05-19T01:18:43.032Z"
   },
   {
    "duration": 13,
    "start_time": "2022-05-19T01:18:43.070Z"
   },
   {
    "duration": 22,
    "start_time": "2022-05-19T01:18:43.086Z"
   },
   {
    "duration": 20,
    "start_time": "2022-05-19T01:18:43.109Z"
   },
   {
    "duration": 15,
    "start_time": "2022-05-19T01:18:43.131Z"
   },
   {
    "duration": 24,
    "start_time": "2022-05-19T01:18:43.148Z"
   },
   {
    "duration": 10,
    "start_time": "2022-05-19T01:18:43.174Z"
   },
   {
    "duration": 33,
    "start_time": "2022-05-19T01:18:43.186Z"
   },
   {
    "duration": 64,
    "start_time": "2022-05-19T01:18:43.221Z"
   },
   {
    "duration": 5,
    "start_time": "2022-05-19T01:18:43.287Z"
   },
   {
    "duration": 57,
    "start_time": "2022-05-19T01:18:43.294Z"
   },
   {
    "duration": 8,
    "start_time": "2022-05-19T01:18:43.353Z"
   },
   {
    "duration": 34,
    "start_time": "2022-05-19T01:18:43.374Z"
   },
   {
    "duration": 10,
    "start_time": "2022-05-19T01:18:43.410Z"
   },
   {
    "duration": 28,
    "start_time": "2022-05-19T01:18:43.422Z"
   },
   {
    "duration": 26,
    "start_time": "2022-05-19T01:18:43.452Z"
   },
   {
    "duration": 39,
    "start_time": "2022-05-19T01:18:43.480Z"
   },
   {
    "duration": 8,
    "start_time": "2022-05-19T01:18:43.521Z"
   }
  ],
  "colab": {
   "name": "Analyzing Borrowers' Risk of Defaulting.ipynb",
   "provenance": []
  },
  "kernelspec": {
   "display_name": "Python 3 (ipykernel)",
   "language": "python",
   "name": "python3"
  },
  "language_info": {
   "codemirror_mode": {
    "name": "ipython",
    "version": 3
   },
   "file_extension": ".py",
   "mimetype": "text/x-python",
   "name": "python",
   "nbconvert_exporter": "python",
   "pygments_lexer": "ipython3",
   "version": "3.9.7"
  },
  "toc": {
   "base_numbering": 1,
   "nav_menu": {},
   "number_sections": true,
   "sideBar": true,
   "skip_h1_title": true,
   "title_cell": "Table of Contents",
   "title_sidebar": "Contents",
   "toc_cell": false,
   "toc_position": {},
   "toc_section_display": true,
   "toc_window_display": false
  }
 },
 "nbformat": 4,
 "nbformat_minor": 1
}
