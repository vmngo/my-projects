{
 "cells": [
  {
   "cell_type": "markdown",
   "metadata": {
    "id": "ueTXASUzBAtt"
   },
   "source": [
    "# Which Phone Plan is Better?\n",
    "\n",
    "The telecom operator, Megaline, offers its clients two prepaid phone plans, Surf and Ultimate. The commercial department wants to know which of the plans brings in more revenue in order to adjust the advertising budget. The data on 500 Megaline clients from 2018 will be used to analyze clients' behavior and determine which prepaid plan brings in more revenue. \n",
    "\n",
    "**Description of the phone plans:**\n",
    "\n",
    "**Surf**\n",
    "1. Monthly charge: \\$20\n",
    "2. 500 monthly minutes, 50 texts, and 15 GB of data\n",
    "3. After exceeding the package limits:\n",
    "  * 1 minute: 3 cents\n",
    "  * 1 text message: 3 cents\n",
    "  * 1 GB of data: $10\n",
    "\n",
    "\n",
    "**Ultimate**\n",
    "1. Monthly charge: \\$70\n",
    "2. 3000 monthly minutes, 1000 text messages, and 30 GB of data\n",
    "3. After exceeding the package limits:\n",
    "  * 1 minute: 1 cent\n",
    "  * 1 text message: 1 cent\n",
    "  * 1 GB of data: $7"
   ]
  },
  {
   "cell_type": "markdown",
   "metadata": {
    "id": "b5mac5epD_2Y"
   },
   "source": [
    "## Initialization"
   ]
  },
  {
   "cell_type": "code",
   "execution_count": 71,
   "metadata": {
    "id": "NFtQIgWDC-yL"
   },
   "outputs": [],
   "source": [
    "# Loading all libraries \n",
    "import pandas as pd\n",
    "import numpy as np\n",
    "import seaborn as sns\n",
    "import matplotlib.pyplot as plt\n",
    "from scipy import stats as st\n",
    "import math"
   ]
  },
  {
   "cell_type": "code",
   "execution_count": 72,
   "metadata": {
    "id": "aiNCWRXdE8lB"
   },
   "outputs": [],
   "source": [
    "# Loading the data\n",
    "try:\n",
    "   calls = pd.read_csv('megaline_calls.csv')\n",
    "   internet = pd.read_csv('megaline_internet.csv')\n",
    "   messages = pd.read_csv('megaline_messages.csv')\n",
    "   plans = pd.read_csv('megaline_plans.csv')\n",
    "   users = pd.read_csv('megaline_users.csv')\n",
    "except:\n",
    "  calls = pd.read_csv('/datasets/megaline_calls.csv')\n",
    "  internet = pd.read_csv('/datasets/megaline_internet.csv')\n",
    "  messages = pd.read_csv('/datasets/megaline_messages.csv')\n",
    "  plans = pd.read_csv('/datasets/megaline_plans.csv')\n",
    "  users = pd.read_csv('/datasets/megaline_users.csv')"
   ]
  },
  {
   "cell_type": "markdown",
   "metadata": {
    "id": "vHzoU0XXKeCv"
   },
   "source": [
    "## Data Exploration"
   ]
  },
  {
   "cell_type": "markdown",
   "metadata": {
    "id": "RvY1CLSnK2H8"
   },
   "source": [
    "Description of the data for the `users` table (data on users):\n",
    "* `user_id` — unique user identifier\n",
    "* `first_name` — user's name\n",
    "* `last_name` — user's last name\n",
    "* `age` — user's age (years)\n",
    "* `reg_date` — subscription date (dd, mm, yy)\n",
    "* `churn_date` — the date the user stopped using the service (if the value is missing, the calling plan was being used when this database was extracted)\n",
    "* `city` — user's city of residence\n",
    "* `plan` — calling plan name\n",
    "\n"
   ]
  },
  {
   "cell_type": "code",
   "execution_count": 73,
   "metadata": {
    "colab": {
     "base_uri": "https://localhost:8080/",
     "height": 206
    },
    "id": "gKtcUgPQL17N",
    "outputId": "fd648ff3-3414-490e-e040-48158af0d228"
   },
   "outputs": [
    {
     "data": {
      "text/html": [
       "<div>\n",
       "<style scoped>\n",
       "    .dataframe tbody tr th:only-of-type {\n",
       "        vertical-align: middle;\n",
       "    }\n",
       "\n",
       "    .dataframe tbody tr th {\n",
       "        vertical-align: top;\n",
       "    }\n",
       "\n",
       "    .dataframe thead th {\n",
       "        text-align: right;\n",
       "    }\n",
       "</style>\n",
       "<table border=\"1\" class=\"dataframe\">\n",
       "  <thead>\n",
       "    <tr style=\"text-align: right;\">\n",
       "      <th></th>\n",
       "      <th>user_id</th>\n",
       "      <th>first_name</th>\n",
       "      <th>last_name</th>\n",
       "      <th>age</th>\n",
       "      <th>city</th>\n",
       "      <th>reg_date</th>\n",
       "      <th>plan</th>\n",
       "      <th>churn_date</th>\n",
       "    </tr>\n",
       "  </thead>\n",
       "  <tbody>\n",
       "    <tr>\n",
       "      <th>0</th>\n",
       "      <td>1000</td>\n",
       "      <td>Anamaria</td>\n",
       "      <td>Bauer</td>\n",
       "      <td>45</td>\n",
       "      <td>Atlanta-Sandy Springs-Roswell, GA MSA</td>\n",
       "      <td>2018-12-24</td>\n",
       "      <td>ultimate</td>\n",
       "      <td>NaN</td>\n",
       "    </tr>\n",
       "    <tr>\n",
       "      <th>1</th>\n",
       "      <td>1001</td>\n",
       "      <td>Mickey</td>\n",
       "      <td>Wilkerson</td>\n",
       "      <td>28</td>\n",
       "      <td>Seattle-Tacoma-Bellevue, WA MSA</td>\n",
       "      <td>2018-08-13</td>\n",
       "      <td>surf</td>\n",
       "      <td>NaN</td>\n",
       "    </tr>\n",
       "    <tr>\n",
       "      <th>2</th>\n",
       "      <td>1002</td>\n",
       "      <td>Carlee</td>\n",
       "      <td>Hoffman</td>\n",
       "      <td>36</td>\n",
       "      <td>Las Vegas-Henderson-Paradise, NV MSA</td>\n",
       "      <td>2018-10-21</td>\n",
       "      <td>surf</td>\n",
       "      <td>NaN</td>\n",
       "    </tr>\n",
       "    <tr>\n",
       "      <th>3</th>\n",
       "      <td>1003</td>\n",
       "      <td>Reynaldo</td>\n",
       "      <td>Jenkins</td>\n",
       "      <td>52</td>\n",
       "      <td>Tulsa, OK MSA</td>\n",
       "      <td>2018-01-28</td>\n",
       "      <td>surf</td>\n",
       "      <td>NaN</td>\n",
       "    </tr>\n",
       "    <tr>\n",
       "      <th>4</th>\n",
       "      <td>1004</td>\n",
       "      <td>Leonila</td>\n",
       "      <td>Thompson</td>\n",
       "      <td>40</td>\n",
       "      <td>Seattle-Tacoma-Bellevue, WA MSA</td>\n",
       "      <td>2018-05-23</td>\n",
       "      <td>surf</td>\n",
       "      <td>NaN</td>\n",
       "    </tr>\n",
       "  </tbody>\n",
       "</table>\n",
       "</div>"
      ],
      "text/plain": [
       "   user_id first_name  last_name  age                                   city  \\\n",
       "0     1000   Anamaria      Bauer   45  Atlanta-Sandy Springs-Roswell, GA MSA   \n",
       "1     1001     Mickey  Wilkerson   28        Seattle-Tacoma-Bellevue, WA MSA   \n",
       "2     1002     Carlee    Hoffman   36   Las Vegas-Henderson-Paradise, NV MSA   \n",
       "3     1003   Reynaldo    Jenkins   52                          Tulsa, OK MSA   \n",
       "4     1004    Leonila   Thompson   40        Seattle-Tacoma-Bellevue, WA MSA   \n",
       "\n",
       "     reg_date      plan churn_date  \n",
       "0  2018-12-24  ultimate        NaN  \n",
       "1  2018-08-13      surf        NaN  \n",
       "2  2018-10-21      surf        NaN  \n",
       "3  2018-01-28      surf        NaN  \n",
       "4  2018-05-23      surf        NaN  "
      ]
     },
     "execution_count": 73,
     "metadata": {},
     "output_type": "execute_result"
    }
   ],
   "source": [
    "# Obtaining the first 5 rows of the users table\n",
    "users.head()"
   ]
  },
  {
   "cell_type": "code",
   "execution_count": 74,
   "metadata": {
    "colab": {
     "base_uri": "https://localhost:8080/"
    },
    "id": "-AEY_IeDYPzp",
    "outputId": "0afe7cb3-87b5-4c1f-e2da-0d72faf723fe"
   },
   "outputs": [
    {
     "name": "stdout",
     "output_type": "stream",
     "text": [
      "The users table has 500 rows and 8 columns\n"
     ]
    }
   ],
   "source": [
    "# Obtaining the number of rows and columns in the users table \n",
    "shape = users.shape\n",
    "\n",
    "print('The users table has {} rows and {} columns'.format(shape[0],shape[1]))"
   ]
  },
  {
   "cell_type": "code",
   "execution_count": 75,
   "metadata": {
    "colab": {
     "base_uri": "https://localhost:8080/"
    },
    "id": "TQ6aWOmVYuKl",
    "outputId": "9b6e94dd-69aa-4afb-a4d6-cabf7942d832"
   },
   "outputs": [
    {
     "name": "stdout",
     "output_type": "stream",
     "text": [
      "<class 'pandas.core.frame.DataFrame'>\n",
      "RangeIndex: 500 entries, 0 to 499\n",
      "Data columns (total 8 columns):\n",
      " #   Column      Non-Null Count  Dtype \n",
      "---  ------      --------------  ----- \n",
      " 0   user_id     500 non-null    int64 \n",
      " 1   first_name  500 non-null    object\n",
      " 2   last_name   500 non-null    object\n",
      " 3   age         500 non-null    int64 \n",
      " 4   city        500 non-null    object\n",
      " 5   reg_date    500 non-null    object\n",
      " 6   plan        500 non-null    object\n",
      " 7   churn_date  34 non-null     object\n",
      "dtypes: int64(2), object(6)\n",
      "memory usage: 31.4+ KB\n"
     ]
    }
   ],
   "source": [
    "# Obtaining general information for the users table \n",
    "users.info()"
   ]
  },
  {
   "cell_type": "markdown",
   "metadata": {
    "id": "Am0Dw-83Y1zW"
   },
   "source": [
    "Since the `users` table has 500 rows, we see that there are missing values in the `churn_date` column."
   ]
  },
  {
   "cell_type": "code",
   "execution_count": 76,
   "metadata": {
    "colab": {
     "base_uri": "https://localhost:8080/"
    },
    "id": "OjNjycVdZBIm",
    "outputId": "afa7f8b3-c17f-46d7-e428-f33d81d54819"
   },
   "outputs": [
    {
     "name": "stdout",
     "output_type": "stream",
     "text": [
      "            missing_values     %\n",
      "churn_date             466  93.2\n",
      "user_id                  0   0.0\n",
      "first_name               0   0.0\n",
      "last_name                0   0.0\n",
      "age                      0   0.0\n",
      "city                     0   0.0\n",
      "reg_date                 0   0.0\n",
      "plan                     0   0.0\n"
     ]
    }
   ],
   "source": [
    "# Percentage of missing values per column in the users table\n",
    "users_mis = users.isna().sum().to_frame('missing_values')\n",
    "users_mis['%'] = round(100 * users.isna().sum() / len(users), 1)\n",
    "print(users_mis.sort_values(by='%', ascending=False))"
   ]
  },
  {
   "cell_type": "markdown",
   "metadata": {
    "id": "7-aiEVKoZTP6"
   },
   "source": [
    "There are 466 missing values in the `churn_date` column, which is equivalent to 93.2% missing data."
   ]
  },
  {
   "cell_type": "markdown",
   "metadata": {
    "id": "Ga5E6oYDWtjQ"
   },
   "source": [
    "Description of the data for the `calls` table (data on calls):\n",
    "* `id` — unique call identifier\n",
    "* `call_date` — call date\n",
    "* `duration` — call duration (in minutes)\n",
    "* `user_id` — the identifier of the user making the call"
   ]
  },
  {
   "cell_type": "code",
   "execution_count": 77,
   "metadata": {
    "colab": {
     "base_uri": "https://localhost:8080/",
     "height": 206
    },
    "id": "IyixNrV2Z1XN",
    "outputId": "d0a58a12-62f5-42b8-ff44-22410d3b2581"
   },
   "outputs": [
    {
     "data": {
      "text/html": [
       "<div>\n",
       "<style scoped>\n",
       "    .dataframe tbody tr th:only-of-type {\n",
       "        vertical-align: middle;\n",
       "    }\n",
       "\n",
       "    .dataframe tbody tr th {\n",
       "        vertical-align: top;\n",
       "    }\n",
       "\n",
       "    .dataframe thead th {\n",
       "        text-align: right;\n",
       "    }\n",
       "</style>\n",
       "<table border=\"1\" class=\"dataframe\">\n",
       "  <thead>\n",
       "    <tr style=\"text-align: right;\">\n",
       "      <th></th>\n",
       "      <th>id</th>\n",
       "      <th>user_id</th>\n",
       "      <th>call_date</th>\n",
       "      <th>duration</th>\n",
       "    </tr>\n",
       "  </thead>\n",
       "  <tbody>\n",
       "    <tr>\n",
       "      <th>0</th>\n",
       "      <td>1000_93</td>\n",
       "      <td>1000</td>\n",
       "      <td>2018-12-27</td>\n",
       "      <td>8.52</td>\n",
       "    </tr>\n",
       "    <tr>\n",
       "      <th>1</th>\n",
       "      <td>1000_145</td>\n",
       "      <td>1000</td>\n",
       "      <td>2018-12-27</td>\n",
       "      <td>13.66</td>\n",
       "    </tr>\n",
       "    <tr>\n",
       "      <th>2</th>\n",
       "      <td>1000_247</td>\n",
       "      <td>1000</td>\n",
       "      <td>2018-12-27</td>\n",
       "      <td>14.48</td>\n",
       "    </tr>\n",
       "    <tr>\n",
       "      <th>3</th>\n",
       "      <td>1000_309</td>\n",
       "      <td>1000</td>\n",
       "      <td>2018-12-28</td>\n",
       "      <td>5.76</td>\n",
       "    </tr>\n",
       "    <tr>\n",
       "      <th>4</th>\n",
       "      <td>1000_380</td>\n",
       "      <td>1000</td>\n",
       "      <td>2018-12-30</td>\n",
       "      <td>4.22</td>\n",
       "    </tr>\n",
       "  </tbody>\n",
       "</table>\n",
       "</div>"
      ],
      "text/plain": [
       "         id  user_id   call_date  duration\n",
       "0   1000_93     1000  2018-12-27      8.52\n",
       "1  1000_145     1000  2018-12-27     13.66\n",
       "2  1000_247     1000  2018-12-27     14.48\n",
       "3  1000_309     1000  2018-12-28      5.76\n",
       "4  1000_380     1000  2018-12-30      4.22"
      ]
     },
     "execution_count": 77,
     "metadata": {},
     "output_type": "execute_result"
    }
   ],
   "source": [
    "# Obtaining the first five rows of the calls table\n",
    "calls.head()"
   ]
  },
  {
   "cell_type": "code",
   "execution_count": 78,
   "metadata": {
    "colab": {
     "base_uri": "https://localhost:8080/"
    },
    "id": "sIP9muqxZ4Tn",
    "outputId": "76538f6d-6005-4468-bdf7-e1924a10d7da"
   },
   "outputs": [
    {
     "name": "stdout",
     "output_type": "stream",
     "text": [
      "The calls table has 137735 rows and 4 columns\n"
     ]
    }
   ],
   "source": [
    "# Obtaining the number of rows and columns in the calls table \n",
    "shape = calls.shape\n",
    "\n",
    "print('The calls table has {} rows and {} columns'.format(shape[0],shape[1]))"
   ]
  },
  {
   "cell_type": "code",
   "execution_count": 79,
   "metadata": {
    "colab": {
     "base_uri": "https://localhost:8080/"
    },
    "id": "M1zf9Am5aEiA",
    "outputId": "e39988c2-29a4-4cc3-8fbf-a9ec7f9c1eb1"
   },
   "outputs": [
    {
     "name": "stdout",
     "output_type": "stream",
     "text": [
      "<class 'pandas.core.frame.DataFrame'>\n",
      "RangeIndex: 137735 entries, 0 to 137734\n",
      "Data columns (total 4 columns):\n",
      " #   Column     Non-Null Count   Dtype  \n",
      "---  ------     --------------   -----  \n",
      " 0   id         137735 non-null  object \n",
      " 1   user_id    137735 non-null  int64  \n",
      " 2   call_date  137735 non-null  object \n",
      " 3   duration   137735 non-null  float64\n",
      "dtypes: float64(1), int64(1), object(2)\n",
      "memory usage: 4.2+ MB\n"
     ]
    }
   ],
   "source": [
    "# Obtaining general information for the calls table \n",
    "calls.info()"
   ]
  },
  {
   "cell_type": "markdown",
   "metadata": {
    "id": "2gQ348QiaQec"
   },
   "source": [
    "There are no missing values in the `calls` table. Each column has exactly 137,735 rows."
   ]
  },
  {
   "cell_type": "markdown",
   "metadata": {
    "id": "P69s1ajFW5QP"
   },
   "source": [
    "Description of the data for the `messages` table (data on texts):\n",
    "* `id` — unique text message identifier\n",
    "* `message_date` — text message date\n",
    "* `user_id` — the identifier of the user sending the text"
   ]
  },
  {
   "cell_type": "code",
   "execution_count": 80,
   "metadata": {
    "colab": {
     "base_uri": "https://localhost:8080/",
     "height": 206
    },
    "id": "GybOM82BanrS",
    "outputId": "3509f871-53bb-47d5-a863-8e51544dd9cd"
   },
   "outputs": [
    {
     "data": {
      "text/html": [
       "<div>\n",
       "<style scoped>\n",
       "    .dataframe tbody tr th:only-of-type {\n",
       "        vertical-align: middle;\n",
       "    }\n",
       "\n",
       "    .dataframe tbody tr th {\n",
       "        vertical-align: top;\n",
       "    }\n",
       "\n",
       "    .dataframe thead th {\n",
       "        text-align: right;\n",
       "    }\n",
       "</style>\n",
       "<table border=\"1\" class=\"dataframe\">\n",
       "  <thead>\n",
       "    <tr style=\"text-align: right;\">\n",
       "      <th></th>\n",
       "      <th>id</th>\n",
       "      <th>user_id</th>\n",
       "      <th>message_date</th>\n",
       "    </tr>\n",
       "  </thead>\n",
       "  <tbody>\n",
       "    <tr>\n",
       "      <th>0</th>\n",
       "      <td>1000_125</td>\n",
       "      <td>1000</td>\n",
       "      <td>2018-12-27</td>\n",
       "    </tr>\n",
       "    <tr>\n",
       "      <th>1</th>\n",
       "      <td>1000_160</td>\n",
       "      <td>1000</td>\n",
       "      <td>2018-12-31</td>\n",
       "    </tr>\n",
       "    <tr>\n",
       "      <th>2</th>\n",
       "      <td>1000_223</td>\n",
       "      <td>1000</td>\n",
       "      <td>2018-12-31</td>\n",
       "    </tr>\n",
       "    <tr>\n",
       "      <th>3</th>\n",
       "      <td>1000_251</td>\n",
       "      <td>1000</td>\n",
       "      <td>2018-12-27</td>\n",
       "    </tr>\n",
       "    <tr>\n",
       "      <th>4</th>\n",
       "      <td>1000_255</td>\n",
       "      <td>1000</td>\n",
       "      <td>2018-12-26</td>\n",
       "    </tr>\n",
       "  </tbody>\n",
       "</table>\n",
       "</div>"
      ],
      "text/plain": [
       "         id  user_id message_date\n",
       "0  1000_125     1000   2018-12-27\n",
       "1  1000_160     1000   2018-12-31\n",
       "2  1000_223     1000   2018-12-31\n",
       "3  1000_251     1000   2018-12-27\n",
       "4  1000_255     1000   2018-12-26"
      ]
     },
     "execution_count": 80,
     "metadata": {},
     "output_type": "execute_result"
    }
   ],
   "source": [
    "# Obtaining the first five rows for the messages table \n",
    "messages.head()"
   ]
  },
  {
   "cell_type": "code",
   "execution_count": 81,
   "metadata": {
    "colab": {
     "base_uri": "https://localhost:8080/"
    },
    "id": "Z-yBbP2Fatn0",
    "outputId": "75a8c93a-ca3d-4495-ebbc-ebf841288dc1"
   },
   "outputs": [
    {
     "name": "stdout",
     "output_type": "stream",
     "text": [
      "The messages table has 76051 rows and 3 columns\n"
     ]
    }
   ],
   "source": [
    "# Obtaining the number of rows and columns in the messages table \n",
    "shape = messages.shape\n",
    "\n",
    "print('The messages table has {} rows and {} columns'.format(shape[0],shape[1]))"
   ]
  },
  {
   "cell_type": "code",
   "execution_count": 82,
   "metadata": {
    "colab": {
     "base_uri": "https://localhost:8080/"
    },
    "id": "FCzMfI_Da1-h",
    "outputId": "251838e1-512b-4bf9-de9a-ddb8f50835d6"
   },
   "outputs": [
    {
     "name": "stdout",
     "output_type": "stream",
     "text": [
      "<class 'pandas.core.frame.DataFrame'>\n",
      "RangeIndex: 76051 entries, 0 to 76050\n",
      "Data columns (total 3 columns):\n",
      " #   Column        Non-Null Count  Dtype \n",
      "---  ------        --------------  ----- \n",
      " 0   id            76051 non-null  object\n",
      " 1   user_id       76051 non-null  int64 \n",
      " 2   message_date  76051 non-null  object\n",
      "dtypes: int64(1), object(2)\n",
      "memory usage: 1.7+ MB\n"
     ]
    }
   ],
   "source": [
    "# Obtaining general information for the messages table\n",
    "messages.info()"
   ]
  },
  {
   "cell_type": "markdown",
   "metadata": {
    "id": "Pv1d1rwCa_VX"
   },
   "source": [
    "There are no missing values in the `messages` table. Each column has exactly 76,051 rows. "
   ]
  },
  {
   "cell_type": "markdown",
   "metadata": {
    "id": "rxDqJymrW8hX"
   },
   "source": [
    "Description of the data for the `internet` table (data on web sessions):\n",
    "* `id` — unique session identifier\n",
    "* `mb_used` — the volume of data spent during the session (in megabytes)\n",
    "* `session_date` — web session date\n",
    "* `user_id` — user identifier"
   ]
  },
  {
   "cell_type": "code",
   "execution_count": 83,
   "metadata": {
    "colab": {
     "base_uri": "https://localhost:8080/",
     "height": 206
    },
    "id": "hctqbi5vbKfI",
    "outputId": "35a543ca-f626-4789-e5cc-273b21a5b5ba"
   },
   "outputs": [
    {
     "data": {
      "text/html": [
       "<div>\n",
       "<style scoped>\n",
       "    .dataframe tbody tr th:only-of-type {\n",
       "        vertical-align: middle;\n",
       "    }\n",
       "\n",
       "    .dataframe tbody tr th {\n",
       "        vertical-align: top;\n",
       "    }\n",
       "\n",
       "    .dataframe thead th {\n",
       "        text-align: right;\n",
       "    }\n",
       "</style>\n",
       "<table border=\"1\" class=\"dataframe\">\n",
       "  <thead>\n",
       "    <tr style=\"text-align: right;\">\n",
       "      <th></th>\n",
       "      <th>id</th>\n",
       "      <th>user_id</th>\n",
       "      <th>session_date</th>\n",
       "      <th>mb_used</th>\n",
       "    </tr>\n",
       "  </thead>\n",
       "  <tbody>\n",
       "    <tr>\n",
       "      <th>0</th>\n",
       "      <td>1000_13</td>\n",
       "      <td>1000</td>\n",
       "      <td>2018-12-29</td>\n",
       "      <td>89.86</td>\n",
       "    </tr>\n",
       "    <tr>\n",
       "      <th>1</th>\n",
       "      <td>1000_204</td>\n",
       "      <td>1000</td>\n",
       "      <td>2018-12-31</td>\n",
       "      <td>0.00</td>\n",
       "    </tr>\n",
       "    <tr>\n",
       "      <th>2</th>\n",
       "      <td>1000_379</td>\n",
       "      <td>1000</td>\n",
       "      <td>2018-12-28</td>\n",
       "      <td>660.40</td>\n",
       "    </tr>\n",
       "    <tr>\n",
       "      <th>3</th>\n",
       "      <td>1000_413</td>\n",
       "      <td>1000</td>\n",
       "      <td>2018-12-26</td>\n",
       "      <td>270.99</td>\n",
       "    </tr>\n",
       "    <tr>\n",
       "      <th>4</th>\n",
       "      <td>1000_442</td>\n",
       "      <td>1000</td>\n",
       "      <td>2018-12-27</td>\n",
       "      <td>880.22</td>\n",
       "    </tr>\n",
       "  </tbody>\n",
       "</table>\n",
       "</div>"
      ],
      "text/plain": [
       "         id  user_id session_date  mb_used\n",
       "0   1000_13     1000   2018-12-29    89.86\n",
       "1  1000_204     1000   2018-12-31     0.00\n",
       "2  1000_379     1000   2018-12-28   660.40\n",
       "3  1000_413     1000   2018-12-26   270.99\n",
       "4  1000_442     1000   2018-12-27   880.22"
      ]
     },
     "execution_count": 83,
     "metadata": {},
     "output_type": "execute_result"
    }
   ],
   "source": [
    "# Obtaining the first five rows for the internet table \n",
    "internet.head()"
   ]
  },
  {
   "cell_type": "code",
   "execution_count": 84,
   "metadata": {
    "colab": {
     "base_uri": "https://localhost:8080/"
    },
    "id": "bhaHc3DFbOP3",
    "outputId": "5a76346b-7177-41cf-d1fc-a9543ffa4a91"
   },
   "outputs": [
    {
     "name": "stdout",
     "output_type": "stream",
     "text": [
      "The internet table has 104825 rows and 4 columns\n"
     ]
    }
   ],
   "source": [
    "# Obtaining the number of rows and columns in the internet table \n",
    "shape = internet.shape\n",
    "\n",
    "print('The internet table has {} rows and {} columns'.format(shape[0],shape[1]))"
   ]
  },
  {
   "cell_type": "code",
   "execution_count": 85,
   "metadata": {
    "colab": {
     "base_uri": "https://localhost:8080/"
    },
    "id": "eM1iThr6bUdL",
    "outputId": "47689c1d-6599-42b8-a5be-2f7744750c7f"
   },
   "outputs": [
    {
     "name": "stdout",
     "output_type": "stream",
     "text": [
      "<class 'pandas.core.frame.DataFrame'>\n",
      "RangeIndex: 104825 entries, 0 to 104824\n",
      "Data columns (total 4 columns):\n",
      " #   Column        Non-Null Count   Dtype  \n",
      "---  ------        --------------   -----  \n",
      " 0   id            104825 non-null  object \n",
      " 1   user_id       104825 non-null  int64  \n",
      " 2   session_date  104825 non-null  object \n",
      " 3   mb_used       104825 non-null  float64\n",
      "dtypes: float64(1), int64(1), object(2)\n",
      "memory usage: 3.2+ MB\n"
     ]
    }
   ],
   "source": [
    "# Obtaining general information about the internet table\n",
    "internet.info()"
   ]
  },
  {
   "cell_type": "markdown",
   "metadata": {
    "id": "bolIkrzsbcc7"
   },
   "source": [
    "There are no missing values in the `internet` table. Each column has exactly 104,825 rows. "
   ]
  },
  {
   "cell_type": "markdown",
   "metadata": {
    "id": "DJU1i7c9XBPD"
   },
   "source": [
    "Description of the data for the `plans` table (data on the plans):\n",
    "* `plan_name` — calling plan name\n",
    "* `usd_monthly_fee` — monthly charge in US dollars\n",
    "* `minutes_included` — monthly minute allowance\n",
    "* `messages_included` — monthly text allowance\n",
    "* `mb_per_month_included` — data volume allowance (in megabytes)\n",
    "* `usd_per_minute` — price per minute after exceeding the package limits (e.g., if the package includes 100 minutes, the 101st minute will be charged)\n",
    "* `usd_per_message` — price per text after exceeding the package limits\n",
    "* `usd_per_gb` — price per extra gigabyte of data after exceeding the package limits (1 GB = 1024 megabytes)"
   ]
  },
  {
   "cell_type": "code",
   "execution_count": 86,
   "metadata": {
    "colab": {
     "base_uri": "https://localhost:8080/",
     "height": 112
    },
    "id": "12Skl8G4blmG",
    "outputId": "840ffd1c-c225-4e52-e5f3-2faa6977ddf0"
   },
   "outputs": [
    {
     "data": {
      "text/html": [
       "<div>\n",
       "<style scoped>\n",
       "    .dataframe tbody tr th:only-of-type {\n",
       "        vertical-align: middle;\n",
       "    }\n",
       "\n",
       "    .dataframe tbody tr th {\n",
       "        vertical-align: top;\n",
       "    }\n",
       "\n",
       "    .dataframe thead th {\n",
       "        text-align: right;\n",
       "    }\n",
       "</style>\n",
       "<table border=\"1\" class=\"dataframe\">\n",
       "  <thead>\n",
       "    <tr style=\"text-align: right;\">\n",
       "      <th></th>\n",
       "      <th>messages_included</th>\n",
       "      <th>mb_per_month_included</th>\n",
       "      <th>minutes_included</th>\n",
       "      <th>usd_monthly_pay</th>\n",
       "      <th>usd_per_gb</th>\n",
       "      <th>usd_per_message</th>\n",
       "      <th>usd_per_minute</th>\n",
       "      <th>plan_name</th>\n",
       "    </tr>\n",
       "  </thead>\n",
       "  <tbody>\n",
       "    <tr>\n",
       "      <th>0</th>\n",
       "      <td>50</td>\n",
       "      <td>15360</td>\n",
       "      <td>500</td>\n",
       "      <td>20</td>\n",
       "      <td>10</td>\n",
       "      <td>0.03</td>\n",
       "      <td>0.03</td>\n",
       "      <td>surf</td>\n",
       "    </tr>\n",
       "    <tr>\n",
       "      <th>1</th>\n",
       "      <td>1000</td>\n",
       "      <td>30720</td>\n",
       "      <td>3000</td>\n",
       "      <td>70</td>\n",
       "      <td>7</td>\n",
       "      <td>0.01</td>\n",
       "      <td>0.01</td>\n",
       "      <td>ultimate</td>\n",
       "    </tr>\n",
       "  </tbody>\n",
       "</table>\n",
       "</div>"
      ],
      "text/plain": [
       "   messages_included  mb_per_month_included  minutes_included  \\\n",
       "0                 50                  15360               500   \n",
       "1               1000                  30720              3000   \n",
       "\n",
       "   usd_monthly_pay  usd_per_gb  usd_per_message  usd_per_minute plan_name  \n",
       "0               20          10             0.03            0.03      surf  \n",
       "1               70           7             0.01            0.01  ultimate  "
      ]
     },
     "execution_count": 86,
     "metadata": {},
     "output_type": "execute_result"
    }
   ],
   "source": [
    "# Obtaining the first five rows for the plans table\n",
    "plans.head()"
   ]
  },
  {
   "cell_type": "code",
   "execution_count": 87,
   "metadata": {
    "colab": {
     "base_uri": "https://localhost:8080/"
    },
    "id": "kPJH-K9SbrbM",
    "outputId": "a6a1804c-5972-47b9-9db8-64c3d8360f04"
   },
   "outputs": [
    {
     "name": "stdout",
     "output_type": "stream",
     "text": [
      "The plans table has 2 rows and 8 columns\n"
     ]
    }
   ],
   "source": [
    "# Obtaining the number of rows and columns in the plans table \n",
    "shape = plans.shape\n",
    "\n",
    "print('The plans table has {} rows and {} columns'.format(shape[0],shape[1]))"
   ]
  },
  {
   "cell_type": "code",
   "execution_count": 88,
   "metadata": {
    "colab": {
     "base_uri": "https://localhost:8080/"
    },
    "id": "-ig4IixGbzbx",
    "outputId": "7da38bcd-9200-4163-b638-b4c3d3285236"
   },
   "outputs": [
    {
     "name": "stdout",
     "output_type": "stream",
     "text": [
      "<class 'pandas.core.frame.DataFrame'>\n",
      "RangeIndex: 2 entries, 0 to 1\n",
      "Data columns (total 8 columns):\n",
      " #   Column                 Non-Null Count  Dtype  \n",
      "---  ------                 --------------  -----  \n",
      " 0   messages_included      2 non-null      int64  \n",
      " 1   mb_per_month_included  2 non-null      int64  \n",
      " 2   minutes_included       2 non-null      int64  \n",
      " 3   usd_monthly_pay        2 non-null      int64  \n",
      " 4   usd_per_gb             2 non-null      int64  \n",
      " 5   usd_per_message        2 non-null      float64\n",
      " 6   usd_per_minute         2 non-null      float64\n",
      " 7   plan_name              2 non-null      object \n",
      "dtypes: float64(2), int64(5), object(1)\n",
      "memory usage: 256.0+ bytes\n"
     ]
    }
   ],
   "source": [
    "# Obtaining general info about the plans table\n",
    "plans.info()"
   ]
  },
  {
   "cell_type": "markdown",
   "metadata": {
    "id": "2ELTqngZb5z4"
   },
   "source": [
    "There are no missing values in the `plans` table. Each column has exactly 2 rows. "
   ]
  },
  {
   "cell_type": "markdown",
   "metadata": {
    "id": "sk1_jH9Tcjlr"
   },
   "source": [
    "**Conclusions**\n",
    "\n",
    "We loaded five different datasets: `calls`, `internet`, `messages`, `plans`, and `users`. \n",
    "\n",
    "The `calls` table has 137,735 rows and 4 columns. Since column names follow rules of good style, no change will be needed there. There was no missing data in this table. The values in the `call_date` column need to be converted from string type to datetime. \n",
    "\n",
    "The `internet` table has 104,825 rows and 4 columns. Since column names follow rules of good style, no change will be needed there. There was no missing data in this table.\n",
    "\n",
    "The `messages` table has 76,051 rows and 3 columns. Since column names follow rules of good style, no change will be needed there. There was no missing data in this table. The values in the `message_date` column need to be converted from string type to datetime. \n",
    "\n",
    "The `plans` table has  2 rows and 8 columns. Since column names follow rules of good style, no change will be needed there. There was no missing data in this table.\n",
    "\n",
    "The `users` table has 500 rows and 8 columns. Since column names follow rules of good style, no change will be needed there. Over 90% of the values in the  `churn_date` column were missing. The values in the `reg_date` and `churn_date` columns need to be converted from string type to datetime. \n",
    "\n",
    "We will now preprocess the data to deal with missing values, duplicated data, and to change datatype. "
   ]
  },
  {
   "cell_type": "markdown",
   "metadata": {
    "id": "c2B3n2g2eR1Z"
   },
   "source": [
    "## Data Preprocessing"
   ]
  },
  {
   "cell_type": "markdown",
   "metadata": {
    "id": "Stysl21QEsS2"
   },
   "source": [
    "### `calls` table"
   ]
  },
  {
   "cell_type": "code",
   "execution_count": 89,
   "metadata": {
    "colab": {
     "base_uri": "https://localhost:8080/"
    },
    "id": "DySL4_IzEvqF",
    "outputId": "fa720f32-1e79-4a60-88f3-bee3756c15a1"
   },
   "outputs": [
    {
     "data": {
      "text/plain": [
       "id           0\n",
       "user_id      0\n",
       "call_date    0\n",
       "duration     0\n",
       "dtype: int64"
      ]
     },
     "execution_count": 89,
     "metadata": {},
     "output_type": "execute_result"
    }
   ],
   "source": [
    "# Calculating number of missing values per column\n",
    "calls.isna().sum().sort_values(ascending=False)"
   ]
  },
  {
   "cell_type": "markdown",
   "metadata": {
    "id": "EuMtnCQkFTga"
   },
   "source": [
    "No missing values in the `calls` table."
   ]
  },
  {
   "cell_type": "code",
   "execution_count": 90,
   "metadata": {
    "colab": {
     "base_uri": "https://localhost:8080/"
    },
    "id": "8WmaZVopFGXx",
    "outputId": "2cd854b8-5b32-40f1-dc6f-de04f1983d84"
   },
   "outputs": [
    {
     "data": {
      "text/plain": [
       "0"
      ]
     },
     "execution_count": 90,
     "metadata": {},
     "output_type": "execute_result"
    }
   ],
   "source": [
    "# Checking for duplicates\n",
    "calls.duplicated().sum()"
   ]
  },
  {
   "cell_type": "markdown",
   "metadata": {
    "id": "D7--yHjnFXRO"
   },
   "source": [
    "There are no duplicates in the `calls` table. "
   ]
  },
  {
   "cell_type": "code",
   "execution_count": 91,
   "metadata": {
    "colab": {
     "base_uri": "https://localhost:8080/"
    },
    "id": "-yaIadnZFeK5",
    "outputId": "47c22b29-5d74-4a0f-84a4-a16d9d9fef25"
   },
   "outputs": [
    {
     "data": {
      "text/plain": [
       "id            object\n",
       "user_id        int64\n",
       "call_date     object\n",
       "duration     float64\n",
       "dtype: object"
      ]
     },
     "execution_count": 91,
     "metadata": {},
     "output_type": "execute_result"
    }
   ],
   "source": [
    "# Getting datatypes for each column\n",
    "calls.dtypes"
   ]
  },
  {
   "cell_type": "markdown",
   "metadata": {
    "id": "BmIRLwxlFlOt"
   },
   "source": [
    "Since the values in the `call_date` column are written as strings, we will convert them to datetime format so it is easier for Python to read. "
   ]
  },
  {
   "cell_type": "code",
   "execution_count": 92,
   "metadata": {
    "colab": {
     "base_uri": "https://localhost:8080/"
    },
    "id": "ke01EgWdF10Z",
    "outputId": "0e7b2c02-1574-42b6-d9bf-41827406d178"
   },
   "outputs": [
    {
     "data": {
      "text/plain": [
       "id                   object\n",
       "user_id               int64\n",
       "call_date    datetime64[ns]\n",
       "duration            float64\n",
       "dtype: object"
      ]
     },
     "execution_count": 92,
     "metadata": {},
     "output_type": "execute_result"
    }
   ],
   "source": [
    "# Converting call_date column to datetime format\n",
    "calls['call_date'] = pd.to_datetime(calls['call_date'], format='%Y-%m-%d')\n",
    "\n",
    "# Checking to see if call_date has been converted to datetime \n",
    "calls.dtypes"
   ]
  },
  {
   "cell_type": "code",
   "execution_count": 93,
   "metadata": {
    "id": "A60-PTaZImLp"
   },
   "outputs": [],
   "source": [
    "# Adding column for month in call_date\n",
    "calls['call_month'] = pd.DatetimeIndex(calls['call_date']).month"
   ]
  },
  {
   "cell_type": "code",
   "execution_count": 94,
   "metadata": {
    "colab": {
     "base_uri": "https://localhost:8080/"
    },
    "id": "UYZoJfC8Jg5s",
    "outputId": "bdb530ea-ae97-4ca7-a951-5f50a47f01ba"
   },
   "outputs": [
    {
     "name": "stdout",
     "output_type": "stream",
     "text": [
      "[ 9. 14. 15.  6.  5.  3. 13.  2.  4. 10. 11.  1. 16.  0.  7.  8. 30. 12.\n",
      " 19. 17. 22. 27. 21. 20. 18. 26. 23. 24. 25. 28. 33. 32. 29. 31. 36. 38.\n",
      " 34. 37.]\n"
     ]
    }
   ],
   "source": [
    "# Rounding up call duration\n",
    "calls['duration'] = np.ceil(calls['duration'])\n",
    "\n",
    "# Checking for unique values in the duration column\n",
    "print(calls['duration'].unique())"
   ]
  },
  {
   "cell_type": "code",
   "execution_count": 95,
   "metadata": {
    "colab": {
     "base_uri": "https://localhost:8080/",
     "height": 206
    },
    "id": "rKhBM1BcJ6qA",
    "outputId": "22735c72-2c5c-4d4a-b734-9e241a695ca2"
   },
   "outputs": [
    {
     "data": {
      "text/html": [
       "<div>\n",
       "<style scoped>\n",
       "    .dataframe tbody tr th:only-of-type {\n",
       "        vertical-align: middle;\n",
       "    }\n",
       "\n",
       "    .dataframe tbody tr th {\n",
       "        vertical-align: top;\n",
       "    }\n",
       "\n",
       "    .dataframe thead th {\n",
       "        text-align: right;\n",
       "    }\n",
       "</style>\n",
       "<table border=\"1\" class=\"dataframe\">\n",
       "  <thead>\n",
       "    <tr style=\"text-align: right;\">\n",
       "      <th></th>\n",
       "      <th>id</th>\n",
       "      <th>user_id</th>\n",
       "      <th>call_date</th>\n",
       "      <th>duration</th>\n",
       "      <th>call_month</th>\n",
       "    </tr>\n",
       "  </thead>\n",
       "  <tbody>\n",
       "    <tr>\n",
       "      <th>0</th>\n",
       "      <td>1000_93</td>\n",
       "      <td>1000</td>\n",
       "      <td>2018-12-27</td>\n",
       "      <td>9.0</td>\n",
       "      <td>12</td>\n",
       "    </tr>\n",
       "    <tr>\n",
       "      <th>1</th>\n",
       "      <td>1000_145</td>\n",
       "      <td>1000</td>\n",
       "      <td>2018-12-27</td>\n",
       "      <td>14.0</td>\n",
       "      <td>12</td>\n",
       "    </tr>\n",
       "    <tr>\n",
       "      <th>2</th>\n",
       "      <td>1000_247</td>\n",
       "      <td>1000</td>\n",
       "      <td>2018-12-27</td>\n",
       "      <td>15.0</td>\n",
       "      <td>12</td>\n",
       "    </tr>\n",
       "    <tr>\n",
       "      <th>3</th>\n",
       "      <td>1000_309</td>\n",
       "      <td>1000</td>\n",
       "      <td>2018-12-28</td>\n",
       "      <td>6.0</td>\n",
       "      <td>12</td>\n",
       "    </tr>\n",
       "    <tr>\n",
       "      <th>4</th>\n",
       "      <td>1000_380</td>\n",
       "      <td>1000</td>\n",
       "      <td>2018-12-30</td>\n",
       "      <td>5.0</td>\n",
       "      <td>12</td>\n",
       "    </tr>\n",
       "  </tbody>\n",
       "</table>\n",
       "</div>"
      ],
      "text/plain": [
       "         id  user_id  call_date  duration  call_month\n",
       "0   1000_93     1000 2018-12-27       9.0          12\n",
       "1  1000_145     1000 2018-12-27      14.0          12\n",
       "2  1000_247     1000 2018-12-27      15.0          12\n",
       "3  1000_309     1000 2018-12-28       6.0          12\n",
       "4  1000_380     1000 2018-12-30       5.0          12"
      ]
     },
     "execution_count": 95,
     "metadata": {},
     "output_type": "execute_result"
    }
   ],
   "source": [
    "# Checking data after manipulations\n",
    "calls.head()"
   ]
  },
  {
   "cell_type": "markdown",
   "metadata": {
    "id": "XV40dhKaKmJ9"
   },
   "source": [
    "**Conclusions**\n",
    "\n",
    "There were no missing values or duplicated data in the `calls` table. We converted the values in the `call_date` column from string format to datetime format. We added a month column for `call_date` and called it `call_month`. We rounded all values in the `duration` column up."
   ]
  },
  {
   "cell_type": "markdown",
   "metadata": {
    "id": "vpX994P-G8mW"
   },
   "source": [
    "### `internet` table"
   ]
  },
  {
   "cell_type": "code",
   "execution_count": 96,
   "metadata": {
    "colab": {
     "base_uri": "https://localhost:8080/"
    },
    "id": "L9mTqZjBHAPy",
    "outputId": "c85de075-367a-476a-a781-b2dc917530ed"
   },
   "outputs": [
    {
     "data": {
      "text/plain": [
       "id              0\n",
       "user_id         0\n",
       "session_date    0\n",
       "mb_used         0\n",
       "dtype: int64"
      ]
     },
     "execution_count": 96,
     "metadata": {},
     "output_type": "execute_result"
    }
   ],
   "source": [
    "# Calculating number of missing values per column\n",
    "internet.isna().sum().sort_values(ascending=False)"
   ]
  },
  {
   "cell_type": "markdown",
   "metadata": {
    "id": "ZuhCb97dHG_a"
   },
   "source": [
    "There are no missing values in the `internet` table."
   ]
  },
  {
   "cell_type": "code",
   "execution_count": 97,
   "metadata": {
    "colab": {
     "base_uri": "https://localhost:8080/"
    },
    "id": "tJKdjiXBHKfU",
    "outputId": "ff77d18b-0dc7-448c-a587-fd5e8b38e0e5"
   },
   "outputs": [
    {
     "data": {
      "text/plain": [
       "0"
      ]
     },
     "execution_count": 97,
     "metadata": {},
     "output_type": "execute_result"
    }
   ],
   "source": [
    "# Checking for duplicates\n",
    "internet.duplicated().sum()"
   ]
  },
  {
   "cell_type": "markdown",
   "metadata": {
    "id": "cR8cbrslHQbU"
   },
   "source": [
    "There are no duplicates in the `internet` table. "
   ]
  },
  {
   "cell_type": "code",
   "execution_count": 98,
   "metadata": {
    "colab": {
     "base_uri": "https://localhost:8080/"
    },
    "id": "y9CtoycGHP4P",
    "outputId": "dad794af-9666-402c-c183-8efdee6a392c"
   },
   "outputs": [
    {
     "data": {
      "text/plain": [
       "id               object\n",
       "user_id           int64\n",
       "session_date     object\n",
       "mb_used         float64\n",
       "dtype: object"
      ]
     },
     "execution_count": 98,
     "metadata": {},
     "output_type": "execute_result"
    }
   ],
   "source": [
    "# Getting datatypes for each column\n",
    "internet.dtypes"
   ]
  },
  {
   "cell_type": "markdown",
   "metadata": {
    "id": "LWR6VGeOHkyp"
   },
   "source": [
    "Since the values in the `session_date` column are written as strings, we will convert them to datetime format so it is easier for Python to read."
   ]
  },
  {
   "cell_type": "code",
   "execution_count": 99,
   "metadata": {
    "colab": {
     "base_uri": "https://localhost:8080/"
    },
    "id": "flQzdlvwHx75",
    "outputId": "e0352ac0-a6a2-4ca5-ae53-7a4059a281f8"
   },
   "outputs": [
    {
     "data": {
      "text/plain": [
       "id                      object\n",
       "user_id                  int64\n",
       "session_date    datetime64[ns]\n",
       "mb_used                float64\n",
       "dtype: object"
      ]
     },
     "execution_count": 99,
     "metadata": {},
     "output_type": "execute_result"
    }
   ],
   "source": [
    "# Converting session_date column to datetime format\n",
    "internet['session_date'] = pd.to_datetime(internet['session_date'], format='%Y-%m-%d')\n",
    "\n",
    "# Checking to see if session_date has been converted to datetime\n",
    "internet.dtypes"
   ]
  },
  {
   "cell_type": "code",
   "execution_count": 100,
   "metadata": {
    "id": "kvfsYllDMuVQ"
   },
   "outputs": [],
   "source": [
    "# Adding column for month in session_date\n",
    "internet['session_date_month'] = pd.DatetimeIndex(internet['session_date']).month"
   ]
  },
  {
   "cell_type": "code",
   "execution_count": 101,
   "metadata": {
    "id": "cGaTT2EaHGjg"
   },
   "outputs": [],
   "source": [
    "# Adding column for gb used\n",
    "internet['gb_used'] = internet['mb_used']/1024"
   ]
  },
  {
   "cell_type": "code",
   "execution_count": 102,
   "metadata": {
    "colab": {
     "base_uri": "https://localhost:8080/",
     "height": 206
    },
    "id": "5NbJsR2hHrzV",
    "outputId": "ca66e47d-970e-45ed-bfbd-937f02a67fea"
   },
   "outputs": [
    {
     "data": {
      "text/html": [
       "<div>\n",
       "<style scoped>\n",
       "    .dataframe tbody tr th:only-of-type {\n",
       "        vertical-align: middle;\n",
       "    }\n",
       "\n",
       "    .dataframe tbody tr th {\n",
       "        vertical-align: top;\n",
       "    }\n",
       "\n",
       "    .dataframe thead th {\n",
       "        text-align: right;\n",
       "    }\n",
       "</style>\n",
       "<table border=\"1\" class=\"dataframe\">\n",
       "  <thead>\n",
       "    <tr style=\"text-align: right;\">\n",
       "      <th></th>\n",
       "      <th>id</th>\n",
       "      <th>user_id</th>\n",
       "      <th>session_date</th>\n",
       "      <th>mb_used</th>\n",
       "      <th>session_date_month</th>\n",
       "      <th>gb_used</th>\n",
       "    </tr>\n",
       "  </thead>\n",
       "  <tbody>\n",
       "    <tr>\n",
       "      <th>0</th>\n",
       "      <td>1000_13</td>\n",
       "      <td>1000</td>\n",
       "      <td>2018-12-29</td>\n",
       "      <td>89.86</td>\n",
       "      <td>12</td>\n",
       "      <td>0.087754</td>\n",
       "    </tr>\n",
       "    <tr>\n",
       "      <th>1</th>\n",
       "      <td>1000_204</td>\n",
       "      <td>1000</td>\n",
       "      <td>2018-12-31</td>\n",
       "      <td>0.00</td>\n",
       "      <td>12</td>\n",
       "      <td>0.000000</td>\n",
       "    </tr>\n",
       "    <tr>\n",
       "      <th>2</th>\n",
       "      <td>1000_379</td>\n",
       "      <td>1000</td>\n",
       "      <td>2018-12-28</td>\n",
       "      <td>660.40</td>\n",
       "      <td>12</td>\n",
       "      <td>0.644922</td>\n",
       "    </tr>\n",
       "    <tr>\n",
       "      <th>3</th>\n",
       "      <td>1000_413</td>\n",
       "      <td>1000</td>\n",
       "      <td>2018-12-26</td>\n",
       "      <td>270.99</td>\n",
       "      <td>12</td>\n",
       "      <td>0.264639</td>\n",
       "    </tr>\n",
       "    <tr>\n",
       "      <th>4</th>\n",
       "      <td>1000_442</td>\n",
       "      <td>1000</td>\n",
       "      <td>2018-12-27</td>\n",
       "      <td>880.22</td>\n",
       "      <td>12</td>\n",
       "      <td>0.859590</td>\n",
       "    </tr>\n",
       "  </tbody>\n",
       "</table>\n",
       "</div>"
      ],
      "text/plain": [
       "         id  user_id session_date  mb_used  session_date_month   gb_used\n",
       "0   1000_13     1000   2018-12-29    89.86                  12  0.087754\n",
       "1  1000_204     1000   2018-12-31     0.00                  12  0.000000\n",
       "2  1000_379     1000   2018-12-28   660.40                  12  0.644922\n",
       "3  1000_413     1000   2018-12-26   270.99                  12  0.264639\n",
       "4  1000_442     1000   2018-12-27   880.22                  12  0.859590"
      ]
     },
     "execution_count": 102,
     "metadata": {},
     "output_type": "execute_result"
    }
   ],
   "source": [
    "# Checking data after manipulations\n",
    "internet.head()"
   ]
  },
  {
   "cell_type": "markdown",
   "metadata": {
    "id": "mbQLHI3fNGyF"
   },
   "source": [
    "**Conclusions**\n",
    "\n",
    "There were no missing values or duplicated data in the `internet` table. The values in the `session_date` column were converted from string type to datetime format. We added a month column for `session_date` and called it `session_date_month`. We also added a column for gb used and called it `gb_used`. The `mb_used` and `gb_used` columns were rounded up. "
   ]
  },
  {
   "cell_type": "markdown",
   "metadata": {
    "id": "bbuV4tKxNiB1"
   },
   "source": [
    "### `messages` table"
   ]
  },
  {
   "cell_type": "code",
   "execution_count": 103,
   "metadata": {
    "colab": {
     "base_uri": "https://localhost:8080/"
    },
    "id": "kMFYCd53NqmA",
    "outputId": "d4e1a1a4-3f0e-4020-aaa8-16b85f12228d"
   },
   "outputs": [
    {
     "data": {
      "text/plain": [
       "id              0\n",
       "user_id         0\n",
       "message_date    0\n",
       "dtype: int64"
      ]
     },
     "execution_count": 103,
     "metadata": {},
     "output_type": "execute_result"
    }
   ],
   "source": [
    "# Calculating number of missing values per column\n",
    "messages.isna().sum().sort_values(ascending=False)"
   ]
  },
  {
   "cell_type": "markdown",
   "metadata": {
    "id": "cBhqZ_zFNyy-"
   },
   "source": [
    "There are no missing values in the `messages` table."
   ]
  },
  {
   "cell_type": "code",
   "execution_count": 104,
   "metadata": {
    "colab": {
     "base_uri": "https://localhost:8080/"
    },
    "id": "mU-lxy9wNvC9",
    "outputId": "b2d8a093-6e4d-4154-93c5-1fe751099f12"
   },
   "outputs": [
    {
     "data": {
      "text/plain": [
       "0"
      ]
     },
     "execution_count": 104,
     "metadata": {},
     "output_type": "execute_result"
    }
   ],
   "source": [
    "# Checking for duplicates\n",
    "messages.duplicated().sum()"
   ]
  },
  {
   "cell_type": "markdown",
   "metadata": {
    "id": "c0IZgYH-N39a"
   },
   "source": [
    "There are no duplicated data in the `messages` table. "
   ]
  },
  {
   "cell_type": "code",
   "execution_count": 105,
   "metadata": {
    "colab": {
     "base_uri": "https://localhost:8080/"
    },
    "id": "hBXzqYP2N9me",
    "outputId": "f0133529-f918-4b8f-eca8-e5f8fbd39ce2"
   },
   "outputs": [
    {
     "data": {
      "text/plain": [
       "id              object\n",
       "user_id          int64\n",
       "message_date    object\n",
       "dtype: object"
      ]
     },
     "execution_count": 105,
     "metadata": {},
     "output_type": "execute_result"
    }
   ],
   "source": [
    "# Getting for datatypes for each column \n",
    "messages.dtypes"
   ]
  },
  {
   "cell_type": "markdown",
   "metadata": {
    "id": "cuGIvJsfOEZh"
   },
   "source": [
    "Since the values in the `message_date` column are written as strings, we will convert them to datetime format so it is easier for Python to read."
   ]
  },
  {
   "cell_type": "code",
   "execution_count": 106,
   "metadata": {
    "colab": {
     "base_uri": "https://localhost:8080/"
    },
    "id": "PsJKyP-nOKaA",
    "outputId": "dd3bfcc6-ebda-4dcf-99b2-085280aae1c2"
   },
   "outputs": [
    {
     "data": {
      "text/plain": [
       "id                      object\n",
       "user_id                  int64\n",
       "message_date    datetime64[ns]\n",
       "dtype: object"
      ]
     },
     "execution_count": 106,
     "metadata": {},
     "output_type": "execute_result"
    }
   ],
   "source": [
    "# Converting message_date column to datetime format\n",
    "messages['message_date'] = pd.to_datetime(messages['message_date'], format='%Y-%m-%d')\n",
    "\n",
    "# Checking to see if message_date has been converted to datetime\n",
    "messages.dtypes"
   ]
  },
  {
   "cell_type": "code",
   "execution_count": 107,
   "metadata": {
    "id": "2D7j2dP3OYiU"
   },
   "outputs": [],
   "source": [
    "# Adding column for month in message_date\n",
    "messages['message_date_month'] = pd.DatetimeIndex(messages['message_date']).month"
   ]
  },
  {
   "cell_type": "code",
   "execution_count": 108,
   "metadata": {
    "colab": {
     "base_uri": "https://localhost:8080/",
     "height": 206
    },
    "id": "Czbci-cwOkcS",
    "outputId": "de6dba02-22c3-4b07-82aa-03704019d1ca"
   },
   "outputs": [
    {
     "data": {
      "text/html": [
       "<div>\n",
       "<style scoped>\n",
       "    .dataframe tbody tr th:only-of-type {\n",
       "        vertical-align: middle;\n",
       "    }\n",
       "\n",
       "    .dataframe tbody tr th {\n",
       "        vertical-align: top;\n",
       "    }\n",
       "\n",
       "    .dataframe thead th {\n",
       "        text-align: right;\n",
       "    }\n",
       "</style>\n",
       "<table border=\"1\" class=\"dataframe\">\n",
       "  <thead>\n",
       "    <tr style=\"text-align: right;\">\n",
       "      <th></th>\n",
       "      <th>id</th>\n",
       "      <th>user_id</th>\n",
       "      <th>message_date</th>\n",
       "      <th>message_date_month</th>\n",
       "    </tr>\n",
       "  </thead>\n",
       "  <tbody>\n",
       "    <tr>\n",
       "      <th>0</th>\n",
       "      <td>1000_125</td>\n",
       "      <td>1000</td>\n",
       "      <td>2018-12-27</td>\n",
       "      <td>12</td>\n",
       "    </tr>\n",
       "    <tr>\n",
       "      <th>1</th>\n",
       "      <td>1000_160</td>\n",
       "      <td>1000</td>\n",
       "      <td>2018-12-31</td>\n",
       "      <td>12</td>\n",
       "    </tr>\n",
       "    <tr>\n",
       "      <th>2</th>\n",
       "      <td>1000_223</td>\n",
       "      <td>1000</td>\n",
       "      <td>2018-12-31</td>\n",
       "      <td>12</td>\n",
       "    </tr>\n",
       "    <tr>\n",
       "      <th>3</th>\n",
       "      <td>1000_251</td>\n",
       "      <td>1000</td>\n",
       "      <td>2018-12-27</td>\n",
       "      <td>12</td>\n",
       "    </tr>\n",
       "    <tr>\n",
       "      <th>4</th>\n",
       "      <td>1000_255</td>\n",
       "      <td>1000</td>\n",
       "      <td>2018-12-26</td>\n",
       "      <td>12</td>\n",
       "    </tr>\n",
       "  </tbody>\n",
       "</table>\n",
       "</div>"
      ],
      "text/plain": [
       "         id  user_id message_date  message_date_month\n",
       "0  1000_125     1000   2018-12-27                  12\n",
       "1  1000_160     1000   2018-12-31                  12\n",
       "2  1000_223     1000   2018-12-31                  12\n",
       "3  1000_251     1000   2018-12-27                  12\n",
       "4  1000_255     1000   2018-12-26                  12"
      ]
     },
     "execution_count": 108,
     "metadata": {},
     "output_type": "execute_result"
    }
   ],
   "source": [
    "# Checking data after manipulations\n",
    "messages.head()"
   ]
  },
  {
   "cell_type": "markdown",
   "metadata": {
    "id": "BbWhNVFdOpfU"
   },
   "source": [
    "**Conclusions**\n",
    "\n",
    "There were no missing values or duplicated data in the `messages` table. The values in the `message_date` column were converted from string type to datetime format. We added a month column for `message_date` and called it `message_date_month`."
   ]
  },
  {
   "cell_type": "markdown",
   "metadata": {
    "id": "0ao7aSR0O6jq"
   },
   "source": [
    "### `plans` table"
   ]
  },
  {
   "cell_type": "code",
   "execution_count": 109,
   "metadata": {
    "colab": {
     "base_uri": "https://localhost:8080/"
    },
    "id": "ykg3aCtePAHv",
    "outputId": "5abd91f8-cf99-4186-fac9-ea9b28bb9240"
   },
   "outputs": [
    {
     "data": {
      "text/plain": [
       "messages_included        0\n",
       "mb_per_month_included    0\n",
       "minutes_included         0\n",
       "usd_monthly_pay          0\n",
       "usd_per_gb               0\n",
       "usd_per_message          0\n",
       "usd_per_minute           0\n",
       "plan_name                0\n",
       "dtype: int64"
      ]
     },
     "execution_count": 109,
     "metadata": {},
     "output_type": "execute_result"
    }
   ],
   "source": [
    "# Calculating number of missing values per column\n",
    "plans.isna().sum().sort_values(ascending=False)"
   ]
  },
  {
   "cell_type": "markdown",
   "metadata": {
    "id": "7RwJZIDRPDyY"
   },
   "source": [
    "There are no missing values in the `plans` table."
   ]
  },
  {
   "cell_type": "code",
   "execution_count": 110,
   "metadata": {
    "colab": {
     "base_uri": "https://localhost:8080/"
    },
    "id": "EDcFSD6KPGT3",
    "outputId": "25a19b4c-d933-48e1-b300-fb084b384c56"
   },
   "outputs": [
    {
     "data": {
      "text/plain": [
       "0"
      ]
     },
     "execution_count": 110,
     "metadata": {},
     "output_type": "execute_result"
    }
   ],
   "source": [
    "# Checking for duplicated data\n",
    "plans.duplicated().sum()"
   ]
  },
  {
   "cell_type": "markdown",
   "metadata": {
    "id": "Ioh304COPMcw"
   },
   "source": [
    "There are no duplicated data in the `plans` table."
   ]
  },
  {
   "cell_type": "code",
   "execution_count": 111,
   "metadata": {
    "colab": {
     "base_uri": "https://localhost:8080/"
    },
    "id": "AWtZTKwxPPW9",
    "outputId": "b022fa5f-e693-4b72-ee94-6546eae9c0bc"
   },
   "outputs": [
    {
     "data": {
      "text/plain": [
       "messages_included          int64\n",
       "mb_per_month_included      int64\n",
       "minutes_included           int64\n",
       "usd_monthly_pay            int64\n",
       "usd_per_gb                 int64\n",
       "usd_per_message          float64\n",
       "usd_per_minute           float64\n",
       "plan_name                 object\n",
       "dtype: object"
      ]
     },
     "execution_count": 111,
     "metadata": {},
     "output_type": "execute_result"
    }
   ],
   "source": [
    "# Getting datatypes for each column \n",
    "plans.dtypes"
   ]
  },
  {
   "cell_type": "markdown",
   "metadata": {
    "id": "QgbgxXnRPmyP"
   },
   "source": [
    "Since everything looks good, we will leave the data in the `plans` table alone."
   ]
  },
  {
   "cell_type": "markdown",
   "metadata": {
    "id": "A3_DKzczPrlG"
   },
   "source": [
    "### `users` table"
   ]
  },
  {
   "cell_type": "code",
   "execution_count": 112,
   "metadata": {
    "colab": {
     "base_uri": "https://localhost:8080/"
    },
    "id": "oMjfs5IRPyHe",
    "outputId": "249875d1-01dc-48fa-d3c0-eea011f023d2"
   },
   "outputs": [
    {
     "data": {
      "text/plain": [
       "churn_date    466\n",
       "user_id         0\n",
       "first_name      0\n",
       "last_name       0\n",
       "age             0\n",
       "city            0\n",
       "reg_date        0\n",
       "plan            0\n",
       "dtype: int64"
      ]
     },
     "execution_count": 112,
     "metadata": {},
     "output_type": "execute_result"
    }
   ],
   "source": [
    "# Calculating number of missing values per column\n",
    "users.isna().sum().sort_values(ascending=False)"
   ]
  },
  {
   "cell_type": "code",
   "execution_count": 113,
   "metadata": {
    "colab": {
     "base_uri": "https://localhost:8080/"
    },
    "id": "OyzyLD8mP8eW",
    "outputId": "5ba9b31b-5722-45a3-a1a4-22deeab27235"
   },
   "outputs": [
    {
     "name": "stdout",
     "output_type": "stream",
     "text": [
      "Percent of missing values in the churn_date column: 93.2%\n"
     ]
    }
   ],
   "source": [
    "# Calculating percentage of missing values in the cylinders column\n",
    "mis_churn_date = users['churn_date'].isna().sum() / len(users)\n",
    "print(f'Percent of missing values in the churn_date column: {mis_churn_date:.1%}')"
   ]
  },
  {
   "cell_type": "markdown",
   "metadata": {
    "id": "RGH9Fm-uQZXh"
   },
   "source": [
    "The `churn_date` column is the date the user stopped using the service. The missing values are due to customers who are still using the service. To deal with this, we will replace missing values with December 31, 2018 (since only data from 2018 is used in this project). "
   ]
  },
  {
   "cell_type": "code",
   "execution_count": 114,
   "metadata": {
    "colab": {
     "base_uri": "https://localhost:8080/"
    },
    "id": "40T-o3IyR4yv",
    "outputId": "768018b1-b7ab-418a-e451-7deb72c4cd47"
   },
   "outputs": [
    {
     "data": {
      "text/plain": [
       "0"
      ]
     },
     "execution_count": 114,
     "metadata": {},
     "output_type": "execute_result"
    }
   ],
   "source": [
    "# Replacing missing values in the churn_date column\n",
    "users['churn_date'].fillna('2018-12-31', inplace=True)\n",
    "\n",
    "# Checking to see if missing values have been replaced\n",
    "users['churn_date'].isna().sum()"
   ]
  },
  {
   "cell_type": "code",
   "execution_count": 115,
   "metadata": {
    "colab": {
     "base_uri": "https://localhost:8080/"
    },
    "id": "KnAXQmQITl6_",
    "outputId": "3c347831-b941-4646-a38c-ce9477ae92f9"
   },
   "outputs": [
    {
     "data": {
      "text/plain": [
       "0"
      ]
     },
     "execution_count": 115,
     "metadata": {},
     "output_type": "execute_result"
    }
   ],
   "source": [
    "# Checking for duplicates\n",
    "users.duplicated().sum()"
   ]
  },
  {
   "cell_type": "markdown",
   "metadata": {
    "id": "DsNbF0eaTsvQ"
   },
   "source": [
    "There are no duplicated data in the `users` table."
   ]
  },
  {
   "cell_type": "code",
   "execution_count": 116,
   "metadata": {
    "colab": {
     "base_uri": "https://localhost:8080/"
    },
    "id": "jXFJJ-NfST1Q",
    "outputId": "67ba7978-3f23-4e80-a560-719d7ac5e9d1"
   },
   "outputs": [
    {
     "data": {
      "text/plain": [
       "user_id        int64\n",
       "first_name    object\n",
       "last_name     object\n",
       "age            int64\n",
       "city          object\n",
       "reg_date      object\n",
       "plan          object\n",
       "churn_date    object\n",
       "dtype: object"
      ]
     },
     "execution_count": 116,
     "metadata": {},
     "output_type": "execute_result"
    }
   ],
   "source": [
    "# Checking datatypes for each column \n",
    "users.dtypes"
   ]
  },
  {
   "cell_type": "markdown",
   "metadata": {
    "id": "wDoc2wbGSZi1"
   },
   "source": [
    "Since the values in the `churn_date` and `reg_date` columns are written as strings, we will convert them to datetime format so it is easier for Python to read."
   ]
  },
  {
   "cell_type": "code",
   "execution_count": 117,
   "metadata": {
    "colab": {
     "base_uri": "https://localhost:8080/"
    },
    "id": "QlnJNQGgShcD",
    "outputId": "4d6538a3-857d-4dba-8697-77a52a266968"
   },
   "outputs": [
    {
     "data": {
      "text/plain": [
       "user_id                int64\n",
       "first_name            object\n",
       "last_name             object\n",
       "age                    int64\n",
       "city                  object\n",
       "reg_date      datetime64[ns]\n",
       "plan                  object\n",
       "churn_date    datetime64[ns]\n",
       "dtype: object"
      ]
     },
     "execution_count": 117,
     "metadata": {},
     "output_type": "execute_result"
    }
   ],
   "source": [
    "# Converting churn_date and reg_date columns to datetime format\n",
    "users['churn_date'] = pd.to_datetime(users['churn_date'], format='%Y-%m-%d')\n",
    "users['reg_date'] = pd.to_datetime(users['reg_date'], format='%Y-%m-%d')\n",
    "\n",
    "# Checking to see if churn_date and reg_date have been converted to datetime\n",
    "users.dtypes"
   ]
  },
  {
   "cell_type": "code",
   "execution_count": 118,
   "metadata": {
    "colab": {
     "base_uri": "https://localhost:8080/"
    },
    "id": "OrKSRxIPTwyS",
    "outputId": "190cc95f-db3a-4649-802d-14930027863a"
   },
   "outputs": [
    {
     "name": "stdout",
     "output_type": "stream",
     "text": [
      "<class 'pandas.core.frame.DataFrame'>\n",
      "RangeIndex: 500 entries, 0 to 499\n",
      "Data columns (total 8 columns):\n",
      " #   Column      Non-Null Count  Dtype         \n",
      "---  ------      --------------  -----         \n",
      " 0   user_id     500 non-null    int64         \n",
      " 1   first_name  500 non-null    object        \n",
      " 2   last_name   500 non-null    object        \n",
      " 3   age         500 non-null    int64         \n",
      " 4   city        500 non-null    object        \n",
      " 5   reg_date    500 non-null    datetime64[ns]\n",
      " 6   plan        500 non-null    object        \n",
      " 7   churn_date  500 non-null    datetime64[ns]\n",
      "dtypes: datetime64[ns](2), int64(2), object(4)\n",
      "memory usage: 31.4+ KB\n"
     ]
    }
   ],
   "source": [
    "# Checking data after manipulaitons\n",
    "users.info()"
   ]
  },
  {
   "cell_type": "markdown",
   "metadata": {
    "id": "GSLanjjYThLT"
   },
   "source": [
    "**Conclusions**\n",
    "\n",
    "Since the `churn_date` column represents the date the user stopped using the service, we replaced all missing data in this column with 2018-12-31. The values in the `churn_date` and `reg_date` columns were converted from string type to datetime format."
   ]
  },
  {
   "cell_type": "markdown",
   "metadata": {
    "id": "SRLvVxmmVPqk"
   },
   "source": [
    "### Calculations\n",
    "\n",
    "For each user, we can now find:\n",
    "* The number of calls made and minutes used per month\n",
    "* The number of text messages sent per month\n",
    "* The volume of data per month\n",
    "* The monthly revenue from each user"
   ]
  },
  {
   "cell_type": "code",
   "execution_count": 119,
   "metadata": {
    "colab": {
     "base_uri": "https://localhost:8080/",
     "height": 237
    },
    "id": "r7Cj_ASvVR7N",
    "outputId": "6a14679d-d6de-4290-aacc-e9dc152af79a"
   },
   "outputs": [
    {
     "data": {
      "text/html": [
       "<div>\n",
       "<style scoped>\n",
       "    .dataframe tbody tr th:only-of-type {\n",
       "        vertical-align: middle;\n",
       "    }\n",
       "\n",
       "    .dataframe tbody tr th {\n",
       "        vertical-align: top;\n",
       "    }\n",
       "\n",
       "    .dataframe thead th {\n",
       "        text-align: right;\n",
       "    }\n",
       "</style>\n",
       "<table border=\"1\" class=\"dataframe\">\n",
       "  <thead>\n",
       "    <tr style=\"text-align: right;\">\n",
       "      <th></th>\n",
       "      <th></th>\n",
       "      <th>monthly_calls_made</th>\n",
       "      <th>monthly_minutes_used</th>\n",
       "    </tr>\n",
       "    <tr>\n",
       "      <th>user_id</th>\n",
       "      <th>call_month</th>\n",
       "      <th></th>\n",
       "      <th></th>\n",
       "    </tr>\n",
       "  </thead>\n",
       "  <tbody>\n",
       "    <tr>\n",
       "      <th>1000</th>\n",
       "      <th>12</th>\n",
       "      <td>16</td>\n",
       "      <td>124.0</td>\n",
       "    </tr>\n",
       "    <tr>\n",
       "      <th rowspan=\"4\" valign=\"top\">1001</th>\n",
       "      <th>8</th>\n",
       "      <td>27</td>\n",
       "      <td>182.0</td>\n",
       "    </tr>\n",
       "    <tr>\n",
       "      <th>9</th>\n",
       "      <td>49</td>\n",
       "      <td>315.0</td>\n",
       "    </tr>\n",
       "    <tr>\n",
       "      <th>10</th>\n",
       "      <td>65</td>\n",
       "      <td>393.0</td>\n",
       "    </tr>\n",
       "    <tr>\n",
       "      <th>11</th>\n",
       "      <td>64</td>\n",
       "      <td>426.0</td>\n",
       "    </tr>\n",
       "  </tbody>\n",
       "</table>\n",
       "</div>"
      ],
      "text/plain": [
       "                    monthly_calls_made  monthly_minutes_used\n",
       "user_id call_month                                          \n",
       "1000    12                          16                 124.0\n",
       "1001    8                           27                 182.0\n",
       "        9                           49                 315.0\n",
       "        10                          65                 393.0\n",
       "        11                          64                 426.0"
      ]
     },
     "execution_count": 119,
     "metadata": {},
     "output_type": "execute_result"
    }
   ],
   "source": [
    "# Calculating the number of calls made and minutes used per month\n",
    "groupby_calls = calls.groupby(['user_id', 'call_month'])['duration'].agg(['count','sum'])\n",
    "\n",
    "# Renaming columns\n",
    "groupby_calls.columns = ['monthly_calls_made', 'monthly_minutes_used']\n",
    "\n",
    "# Printing first 5 rows of the table\n",
    "groupby_calls.head()"
   ]
  },
  {
   "cell_type": "code",
   "execution_count": 120,
   "metadata": {
    "colab": {
     "base_uri": "https://localhost:8080/",
     "height": 237
    },
    "id": "qRUlZndo-S6n",
    "outputId": "1447c008-5fd3-4a71-e891-efc4e7cb0e7f"
   },
   "outputs": [
    {
     "data": {
      "text/html": [
       "<div>\n",
       "<style scoped>\n",
       "    .dataframe tbody tr th:only-of-type {\n",
       "        vertical-align: middle;\n",
       "    }\n",
       "\n",
       "    .dataframe tbody tr th {\n",
       "        vertical-align: top;\n",
       "    }\n",
       "\n",
       "    .dataframe thead th {\n",
       "        text-align: right;\n",
       "    }\n",
       "</style>\n",
       "<table border=\"1\" class=\"dataframe\">\n",
       "  <thead>\n",
       "    <tr style=\"text-align: right;\">\n",
       "      <th></th>\n",
       "      <th></th>\n",
       "      <th>monthly_messages_sent</th>\n",
       "    </tr>\n",
       "    <tr>\n",
       "      <th>user_id</th>\n",
       "      <th>message_date_month</th>\n",
       "      <th></th>\n",
       "    </tr>\n",
       "  </thead>\n",
       "  <tbody>\n",
       "    <tr>\n",
       "      <th>1000</th>\n",
       "      <th>12</th>\n",
       "      <td>132</td>\n",
       "    </tr>\n",
       "    <tr>\n",
       "      <th rowspan=\"4\" valign=\"top\">1001</th>\n",
       "      <th>8</th>\n",
       "      <td>240</td>\n",
       "    </tr>\n",
       "    <tr>\n",
       "      <th>9</th>\n",
       "      <td>396</td>\n",
       "    </tr>\n",
       "    <tr>\n",
       "      <th>10</th>\n",
       "      <td>530</td>\n",
       "    </tr>\n",
       "    <tr>\n",
       "      <th>11</th>\n",
       "      <td>396</td>\n",
       "    </tr>\n",
       "  </tbody>\n",
       "</table>\n",
       "</div>"
      ],
      "text/plain": [
       "                            monthly_messages_sent\n",
       "user_id message_date_month                       \n",
       "1000    12                                    132\n",
       "1001    8                                     240\n",
       "        9                                     396\n",
       "        10                                    530\n",
       "        11                                    396"
      ]
     },
     "execution_count": 120,
     "metadata": {},
     "output_type": "execute_result"
    }
   ],
   "source": [
    "# Calculating the number of text messages sent per month\n",
    "groupby_messages = messages.groupby(['user_id', 'message_date_month']).agg({'message_date_month':'sum'})\n",
    "\n",
    "# Renaming columns\n",
    "groupby_messages.columns = ['monthly_messages_sent']\n",
    "\n",
    "# Printing first five rows of the table\n",
    "groupby_messages.head()"
   ]
  },
  {
   "cell_type": "code",
   "execution_count": 121,
   "metadata": {
    "colab": {
     "base_uri": "https://localhost:8080/",
     "height": 237
    },
    "id": "Dw4N0ZkbBpjQ",
    "outputId": "52750dc9-cd15-4ecc-9039-035bd6ab50eb"
   },
   "outputs": [
    {
     "data": {
      "text/html": [
       "<div>\n",
       "<style scoped>\n",
       "    .dataframe tbody tr th:only-of-type {\n",
       "        vertical-align: middle;\n",
       "    }\n",
       "\n",
       "    .dataframe tbody tr th {\n",
       "        vertical-align: top;\n",
       "    }\n",
       "\n",
       "    .dataframe thead th {\n",
       "        text-align: right;\n",
       "    }\n",
       "</style>\n",
       "<table border=\"1\" class=\"dataframe\">\n",
       "  <thead>\n",
       "    <tr style=\"text-align: right;\">\n",
       "      <th></th>\n",
       "      <th></th>\n",
       "      <th>total_mb_used</th>\n",
       "      <th>total_gb_used</th>\n",
       "    </tr>\n",
       "    <tr>\n",
       "      <th>user_id</th>\n",
       "      <th>session_date_month</th>\n",
       "      <th></th>\n",
       "      <th></th>\n",
       "    </tr>\n",
       "  </thead>\n",
       "  <tbody>\n",
       "    <tr>\n",
       "      <th>1000</th>\n",
       "      <th>12</th>\n",
       "      <td>1902.0</td>\n",
       "      <td>2.0</td>\n",
       "    </tr>\n",
       "    <tr>\n",
       "      <th rowspan=\"4\" valign=\"top\">1001</th>\n",
       "      <th>8</th>\n",
       "      <td>6920.0</td>\n",
       "      <td>7.0</td>\n",
       "    </tr>\n",
       "    <tr>\n",
       "      <th>9</th>\n",
       "      <td>13315.0</td>\n",
       "      <td>14.0</td>\n",
       "    </tr>\n",
       "    <tr>\n",
       "      <th>10</th>\n",
       "      <td>22331.0</td>\n",
       "      <td>22.0</td>\n",
       "    </tr>\n",
       "    <tr>\n",
       "      <th>11</th>\n",
       "      <td>18505.0</td>\n",
       "      <td>19.0</td>\n",
       "    </tr>\n",
       "  </tbody>\n",
       "</table>\n",
       "</div>"
      ],
      "text/plain": [
       "                            total_mb_used  total_gb_used\n",
       "user_id session_date_month                              \n",
       "1000    12                         1902.0            2.0\n",
       "1001    8                          6920.0            7.0\n",
       "        9                         13315.0           14.0\n",
       "        10                        22331.0           22.0\n",
       "        11                        18505.0           19.0"
      ]
     },
     "execution_count": 121,
     "metadata": {},
     "output_type": "execute_result"
    }
   ],
   "source": [
    "# Calculating the volume of data per month\n",
    "groupby_internet = internet.groupby(['user_id', 'session_date_month']).agg({'mb_used':'sum','gb_used':'sum'})\n",
    "\n",
    "# Renaming columns\n",
    "groupby_internet.columns = ['total_mb_used', 'total_gb_used']\n",
    "\n",
    "# Rounding up total_mb_used and total_gb_used\n",
    "groupby_internet['total_mb_used'] = np.ceil(groupby_internet['total_mb_used'])\n",
    "groupby_internet['total_gb_used'] = np.ceil(groupby_internet['total_gb_used'])\n",
    "\n",
    "# Printing table first five rows of the table\n",
    "groupby_internet.head()"
   ]
  },
  {
   "cell_type": "markdown",
   "metadata": {
    "id": "6s5medaFWpgU"
   },
   "source": [
    "We will now combine our newly formed tables so that we can calculate the monthly revenue from each user."
   ]
  },
  {
   "cell_type": "code",
   "execution_count": 122,
   "metadata": {
    "colab": {
     "base_uri": "https://localhost:8080/",
     "height": 582
    },
    "id": "PAW1JqVdCnln",
    "outputId": "106eb502-a07e-4f48-ae8a-1407ab79e597"
   },
   "outputs": [
    {
     "data": {
      "text/html": [
       "<div>\n",
       "<style scoped>\n",
       "    .dataframe tbody tr th:only-of-type {\n",
       "        vertical-align: middle;\n",
       "    }\n",
       "\n",
       "    .dataframe tbody tr th {\n",
       "        vertical-align: top;\n",
       "    }\n",
       "\n",
       "    .dataframe thead th {\n",
       "        text-align: right;\n",
       "    }\n",
       "</style>\n",
       "<table border=\"1\" class=\"dataframe\">\n",
       "  <thead>\n",
       "    <tr style=\"text-align: right;\">\n",
       "      <th></th>\n",
       "      <th>user_id</th>\n",
       "      <th>first_name</th>\n",
       "      <th>last_name</th>\n",
       "      <th>age</th>\n",
       "      <th>city</th>\n",
       "      <th>reg_date</th>\n",
       "      <th>plan</th>\n",
       "      <th>churn_date</th>\n",
       "      <th>month</th>\n",
       "      <th>calls_made</th>\n",
       "      <th>...</th>\n",
       "      <th>messages_sent</th>\n",
       "      <th>mb_used</th>\n",
       "      <th>gb_used</th>\n",
       "      <th>messages_included</th>\n",
       "      <th>mb_per_month_included</th>\n",
       "      <th>minutes_included</th>\n",
       "      <th>usd_monthly_pay</th>\n",
       "      <th>usd_per_gb</th>\n",
       "      <th>usd_per_message</th>\n",
       "      <th>usd_per_minute</th>\n",
       "    </tr>\n",
       "  </thead>\n",
       "  <tbody>\n",
       "    <tr>\n",
       "      <th>0</th>\n",
       "      <td>1000</td>\n",
       "      <td>Anamaria</td>\n",
       "      <td>Bauer</td>\n",
       "      <td>45</td>\n",
       "      <td>Atlanta-Sandy Springs-Roswell, GA MSA</td>\n",
       "      <td>2018-12-24</td>\n",
       "      <td>ultimate</td>\n",
       "      <td>2018-12-31</td>\n",
       "      <td>12</td>\n",
       "      <td>16.0</td>\n",
       "      <td>...</td>\n",
       "      <td>132.0</td>\n",
       "      <td>1902.0</td>\n",
       "      <td>2.0</td>\n",
       "      <td>1000</td>\n",
       "      <td>30720</td>\n",
       "      <td>3000</td>\n",
       "      <td>70</td>\n",
       "      <td>7</td>\n",
       "      <td>0.01</td>\n",
       "      <td>0.01</td>\n",
       "    </tr>\n",
       "    <tr>\n",
       "      <th>1</th>\n",
       "      <td>1006</td>\n",
       "      <td>Jesusa</td>\n",
       "      <td>Bradford</td>\n",
       "      <td>73</td>\n",
       "      <td>San Francisco-Oakland-Berkeley, CA MSA</td>\n",
       "      <td>2018-11-27</td>\n",
       "      <td>ultimate</td>\n",
       "      <td>2018-12-18</td>\n",
       "      <td>11</td>\n",
       "      <td>2.0</td>\n",
       "      <td>...</td>\n",
       "      <td>165.0</td>\n",
       "      <td>2069.0</td>\n",
       "      <td>3.0</td>\n",
       "      <td>1000</td>\n",
       "      <td>30720</td>\n",
       "      <td>3000</td>\n",
       "      <td>70</td>\n",
       "      <td>7</td>\n",
       "      <td>0.01</td>\n",
       "      <td>0.01</td>\n",
       "    </tr>\n",
       "    <tr>\n",
       "      <th>2</th>\n",
       "      <td>1006</td>\n",
       "      <td>Jesusa</td>\n",
       "      <td>Bradford</td>\n",
       "      <td>73</td>\n",
       "      <td>San Francisco-Oakland-Berkeley, CA MSA</td>\n",
       "      <td>2018-11-27</td>\n",
       "      <td>ultimate</td>\n",
       "      <td>2018-12-18</td>\n",
       "      <td>12</td>\n",
       "      <td>9.0</td>\n",
       "      <td>...</td>\n",
       "      <td>1668.0</td>\n",
       "      <td>32119.0</td>\n",
       "      <td>32.0</td>\n",
       "      <td>1000</td>\n",
       "      <td>30720</td>\n",
       "      <td>3000</td>\n",
       "      <td>70</td>\n",
       "      <td>7</td>\n",
       "      <td>0.01</td>\n",
       "      <td>0.01</td>\n",
       "    </tr>\n",
       "    <tr>\n",
       "      <th>3</th>\n",
       "      <td>1008</td>\n",
       "      <td>Emely</td>\n",
       "      <td>Hoffman</td>\n",
       "      <td>53</td>\n",
       "      <td>Orlando-Kissimmee-Sanford, FL MSA</td>\n",
       "      <td>2018-08-03</td>\n",
       "      <td>ultimate</td>\n",
       "      <td>2018-12-31</td>\n",
       "      <td>10</td>\n",
       "      <td>71.0</td>\n",
       "      <td>...</td>\n",
       "      <td>210.0</td>\n",
       "      <td>17107.0</td>\n",
       "      <td>17.0</td>\n",
       "      <td>1000</td>\n",
       "      <td>30720</td>\n",
       "      <td>3000</td>\n",
       "      <td>70</td>\n",
       "      <td>7</td>\n",
       "      <td>0.01</td>\n",
       "      <td>0.01</td>\n",
       "    </tr>\n",
       "    <tr>\n",
       "      <th>4</th>\n",
       "      <td>1008</td>\n",
       "      <td>Emely</td>\n",
       "      <td>Hoffman</td>\n",
       "      <td>53</td>\n",
       "      <td>Orlando-Kissimmee-Sanford, FL MSA</td>\n",
       "      <td>2018-08-03</td>\n",
       "      <td>ultimate</td>\n",
       "      <td>2018-12-31</td>\n",
       "      <td>11</td>\n",
       "      <td>63.0</td>\n",
       "      <td>...</td>\n",
       "      <td>407.0</td>\n",
       "      <td>23677.0</td>\n",
       "      <td>24.0</td>\n",
       "      <td>1000</td>\n",
       "      <td>30720</td>\n",
       "      <td>3000</td>\n",
       "      <td>70</td>\n",
       "      <td>7</td>\n",
       "      <td>0.01</td>\n",
       "      <td>0.01</td>\n",
       "    </tr>\n",
       "  </tbody>\n",
       "</table>\n",
       "<p>5 rows × 21 columns</p>\n",
       "</div>"
      ],
      "text/plain": [
       "   user_id first_name last_name  age                                    city  \\\n",
       "0     1000   Anamaria     Bauer   45   Atlanta-Sandy Springs-Roswell, GA MSA   \n",
       "1     1006     Jesusa  Bradford   73  San Francisco-Oakland-Berkeley, CA MSA   \n",
       "2     1006     Jesusa  Bradford   73  San Francisco-Oakland-Berkeley, CA MSA   \n",
       "3     1008      Emely   Hoffman   53       Orlando-Kissimmee-Sanford, FL MSA   \n",
       "4     1008      Emely   Hoffman   53       Orlando-Kissimmee-Sanford, FL MSA   \n",
       "\n",
       "    reg_date      plan churn_date  month  calls_made  ...  messages_sent  \\\n",
       "0 2018-12-24  ultimate 2018-12-31     12        16.0  ...          132.0   \n",
       "1 2018-11-27  ultimate 2018-12-18     11         2.0  ...          165.0   \n",
       "2 2018-11-27  ultimate 2018-12-18     12         9.0  ...         1668.0   \n",
       "3 2018-08-03  ultimate 2018-12-31     10        71.0  ...          210.0   \n",
       "4 2018-08-03  ultimate 2018-12-31     11        63.0  ...          407.0   \n",
       "\n",
       "   mb_used  gb_used  messages_included  mb_per_month_included  \\\n",
       "0   1902.0      2.0               1000                  30720   \n",
       "1   2069.0      3.0               1000                  30720   \n",
       "2  32119.0     32.0               1000                  30720   \n",
       "3  17107.0     17.0               1000                  30720   \n",
       "4  23677.0     24.0               1000                  30720   \n",
       "\n",
       "   minutes_included  usd_monthly_pay  usd_per_gb  usd_per_message  \\\n",
       "0              3000               70           7             0.01   \n",
       "1              3000               70           7             0.01   \n",
       "2              3000               70           7             0.01   \n",
       "3              3000               70           7             0.01   \n",
       "4              3000               70           7             0.01   \n",
       "\n",
       "   usd_per_minute  \n",
       "0            0.01  \n",
       "1            0.01  \n",
       "2            0.01  \n",
       "3            0.01  \n",
       "4            0.01  \n",
       "\n",
       "[5 rows x 21 columns]"
      ]
     },
     "execution_count": 122,
     "metadata": {},
     "output_type": "execute_result"
    }
   ],
   "source": [
    "# Merging tables: groupby_calls, groupby_messages, and groupby_internet\n",
    "df = pd.concat([groupby_calls, groupby_messages, groupby_internet], axis=1).reset_index().fillna(0)\n",
    "\n",
    "#Renaming columns\n",
    "df.columns = ['user_id', 'month', 'calls_made', 'call_duration', 'messages_sent', 'mb_used', 'gb_used']\n",
    "\n",
    "# Merging users table with agg_df \n",
    "df = users.merge(df, on='user_id')\n",
    "\n",
    "# Merging agg_df with plans table\n",
    "plans = plans.rename(columns={'plan_name':'plan'})\n",
    "df = df.merge(plans, on='plan')\n",
    "\n",
    "# Printing first 5 rows of our newly formed table\n",
    "df.head()\n"
   ]
  },
  {
   "cell_type": "code",
   "execution_count": 123,
   "metadata": {
    "id": "yHxm-W1zcpSS"
   },
   "outputs": [],
   "source": [
    "# Calculating the number of minutes used from plan \n",
    "df['minutes_used_plan'] = df['calls_made'] - df['minutes_included']\n",
    "\n",
    "# Calculating the number of messages used from plan\n",
    "df['messages_used_plan'] = df['messages_sent'] - df['messages_included']\n",
    "\n",
    "# Calculating amount of data used from plan\n",
    "df['gb_used_plan'] = df['gb_used'] - (df['mb_per_month_included']/1024)"
   ]
  },
  {
   "cell_type": "code",
   "execution_count": 124,
   "metadata": {
    "id": "mmjESBTXf3AB"
   },
   "outputs": [],
   "source": [
    "# Creating a function that calculates the monthly revenue from each user\n",
    "def monthly_revenue(row):\n",
    "  revenue = 0\n",
    "  if row['minutes_used_plan'] > 0:\n",
    "    revenue += row['minutes_used_plan'] * row['usd_per_minute']\n",
    "\n",
    "  if row['messages_used_plan'] > 0:\n",
    "    revenue += row['messages_used_plan'] * row['usd_per_message']\n",
    "\n",
    "  if row['gb_used_plan'] > 0:\n",
    "    revenue += row['gb_used_plan'] * row['usd_per_gb']\n",
    "\n",
    "  return revenue + row['usd_monthly_pay']"
   ]
  },
  {
   "cell_type": "code",
   "execution_count": 125,
   "metadata": {
    "colab": {
     "base_uri": "https://localhost:8080/",
     "height": 582
    },
    "id": "Zrw9V4rKhcpp",
    "outputId": "af13445f-8232-40ca-a571-f528ca755e7d"
   },
   "outputs": [
    {
     "data": {
      "text/html": [
       "<div>\n",
       "<style scoped>\n",
       "    .dataframe tbody tr th:only-of-type {\n",
       "        vertical-align: middle;\n",
       "    }\n",
       "\n",
       "    .dataframe tbody tr th {\n",
       "        vertical-align: top;\n",
       "    }\n",
       "\n",
       "    .dataframe thead th {\n",
       "        text-align: right;\n",
       "    }\n",
       "</style>\n",
       "<table border=\"1\" class=\"dataframe\">\n",
       "  <thead>\n",
       "    <tr style=\"text-align: right;\">\n",
       "      <th></th>\n",
       "      <th>user_id</th>\n",
       "      <th>first_name</th>\n",
       "      <th>last_name</th>\n",
       "      <th>age</th>\n",
       "      <th>city</th>\n",
       "      <th>reg_date</th>\n",
       "      <th>plan</th>\n",
       "      <th>churn_date</th>\n",
       "      <th>month</th>\n",
       "      <th>calls_made</th>\n",
       "      <th>...</th>\n",
       "      <th>mb_per_month_included</th>\n",
       "      <th>minutes_included</th>\n",
       "      <th>usd_monthly_pay</th>\n",
       "      <th>usd_per_gb</th>\n",
       "      <th>usd_per_message</th>\n",
       "      <th>usd_per_minute</th>\n",
       "      <th>minutes_used_plan</th>\n",
       "      <th>messages_used_plan</th>\n",
       "      <th>gb_used_plan</th>\n",
       "      <th>monthly_revenue</th>\n",
       "    </tr>\n",
       "  </thead>\n",
       "  <tbody>\n",
       "    <tr>\n",
       "      <th>0</th>\n",
       "      <td>1000</td>\n",
       "      <td>Anamaria</td>\n",
       "      <td>Bauer</td>\n",
       "      <td>45</td>\n",
       "      <td>Atlanta-Sandy Springs-Roswell, GA MSA</td>\n",
       "      <td>2018-12-24</td>\n",
       "      <td>ultimate</td>\n",
       "      <td>2018-12-31</td>\n",
       "      <td>12</td>\n",
       "      <td>16.0</td>\n",
       "      <td>...</td>\n",
       "      <td>30720</td>\n",
       "      <td>3000</td>\n",
       "      <td>70</td>\n",
       "      <td>7</td>\n",
       "      <td>0.01</td>\n",
       "      <td>0.01</td>\n",
       "      <td>-2984.0</td>\n",
       "      <td>-868.0</td>\n",
       "      <td>-28.0</td>\n",
       "      <td>70.00</td>\n",
       "    </tr>\n",
       "    <tr>\n",
       "      <th>1</th>\n",
       "      <td>1006</td>\n",
       "      <td>Jesusa</td>\n",
       "      <td>Bradford</td>\n",
       "      <td>73</td>\n",
       "      <td>San Francisco-Oakland-Berkeley, CA MSA</td>\n",
       "      <td>2018-11-27</td>\n",
       "      <td>ultimate</td>\n",
       "      <td>2018-12-18</td>\n",
       "      <td>11</td>\n",
       "      <td>2.0</td>\n",
       "      <td>...</td>\n",
       "      <td>30720</td>\n",
       "      <td>3000</td>\n",
       "      <td>70</td>\n",
       "      <td>7</td>\n",
       "      <td>0.01</td>\n",
       "      <td>0.01</td>\n",
       "      <td>-2998.0</td>\n",
       "      <td>-835.0</td>\n",
       "      <td>-27.0</td>\n",
       "      <td>70.00</td>\n",
       "    </tr>\n",
       "    <tr>\n",
       "      <th>2</th>\n",
       "      <td>1006</td>\n",
       "      <td>Jesusa</td>\n",
       "      <td>Bradford</td>\n",
       "      <td>73</td>\n",
       "      <td>San Francisco-Oakland-Berkeley, CA MSA</td>\n",
       "      <td>2018-11-27</td>\n",
       "      <td>ultimate</td>\n",
       "      <td>2018-12-18</td>\n",
       "      <td>12</td>\n",
       "      <td>9.0</td>\n",
       "      <td>...</td>\n",
       "      <td>30720</td>\n",
       "      <td>3000</td>\n",
       "      <td>70</td>\n",
       "      <td>7</td>\n",
       "      <td>0.01</td>\n",
       "      <td>0.01</td>\n",
       "      <td>-2991.0</td>\n",
       "      <td>668.0</td>\n",
       "      <td>2.0</td>\n",
       "      <td>90.68</td>\n",
       "    </tr>\n",
       "    <tr>\n",
       "      <th>3</th>\n",
       "      <td>1008</td>\n",
       "      <td>Emely</td>\n",
       "      <td>Hoffman</td>\n",
       "      <td>53</td>\n",
       "      <td>Orlando-Kissimmee-Sanford, FL MSA</td>\n",
       "      <td>2018-08-03</td>\n",
       "      <td>ultimate</td>\n",
       "      <td>2018-12-31</td>\n",
       "      <td>10</td>\n",
       "      <td>71.0</td>\n",
       "      <td>...</td>\n",
       "      <td>30720</td>\n",
       "      <td>3000</td>\n",
       "      <td>70</td>\n",
       "      <td>7</td>\n",
       "      <td>0.01</td>\n",
       "      <td>0.01</td>\n",
       "      <td>-2929.0</td>\n",
       "      <td>-790.0</td>\n",
       "      <td>-13.0</td>\n",
       "      <td>70.00</td>\n",
       "    </tr>\n",
       "    <tr>\n",
       "      <th>4</th>\n",
       "      <td>1008</td>\n",
       "      <td>Emely</td>\n",
       "      <td>Hoffman</td>\n",
       "      <td>53</td>\n",
       "      <td>Orlando-Kissimmee-Sanford, FL MSA</td>\n",
       "      <td>2018-08-03</td>\n",
       "      <td>ultimate</td>\n",
       "      <td>2018-12-31</td>\n",
       "      <td>11</td>\n",
       "      <td>63.0</td>\n",
       "      <td>...</td>\n",
       "      <td>30720</td>\n",
       "      <td>3000</td>\n",
       "      <td>70</td>\n",
       "      <td>7</td>\n",
       "      <td>0.01</td>\n",
       "      <td>0.01</td>\n",
       "      <td>-2937.0</td>\n",
       "      <td>-593.0</td>\n",
       "      <td>-6.0</td>\n",
       "      <td>70.00</td>\n",
       "    </tr>\n",
       "  </tbody>\n",
       "</table>\n",
       "<p>5 rows × 25 columns</p>\n",
       "</div>"
      ],
      "text/plain": [
       "   user_id first_name last_name  age                                    city  \\\n",
       "0     1000   Anamaria     Bauer   45   Atlanta-Sandy Springs-Roswell, GA MSA   \n",
       "1     1006     Jesusa  Bradford   73  San Francisco-Oakland-Berkeley, CA MSA   \n",
       "2     1006     Jesusa  Bradford   73  San Francisco-Oakland-Berkeley, CA MSA   \n",
       "3     1008      Emely   Hoffman   53       Orlando-Kissimmee-Sanford, FL MSA   \n",
       "4     1008      Emely   Hoffman   53       Orlando-Kissimmee-Sanford, FL MSA   \n",
       "\n",
       "    reg_date      plan churn_date  month  calls_made  ...  \\\n",
       "0 2018-12-24  ultimate 2018-12-31     12        16.0  ...   \n",
       "1 2018-11-27  ultimate 2018-12-18     11         2.0  ...   \n",
       "2 2018-11-27  ultimate 2018-12-18     12         9.0  ...   \n",
       "3 2018-08-03  ultimate 2018-12-31     10        71.0  ...   \n",
       "4 2018-08-03  ultimate 2018-12-31     11        63.0  ...   \n",
       "\n",
       "   mb_per_month_included  minutes_included  usd_monthly_pay  usd_per_gb  \\\n",
       "0                  30720              3000               70           7   \n",
       "1                  30720              3000               70           7   \n",
       "2                  30720              3000               70           7   \n",
       "3                  30720              3000               70           7   \n",
       "4                  30720              3000               70           7   \n",
       "\n",
       "   usd_per_message  usd_per_minute  minutes_used_plan  messages_used_plan  \\\n",
       "0             0.01            0.01            -2984.0              -868.0   \n",
       "1             0.01            0.01            -2998.0              -835.0   \n",
       "2             0.01            0.01            -2991.0               668.0   \n",
       "3             0.01            0.01            -2929.0              -790.0   \n",
       "4             0.01            0.01            -2937.0              -593.0   \n",
       "\n",
       "   gb_used_plan  monthly_revenue  \n",
       "0         -28.0            70.00  \n",
       "1         -27.0            70.00  \n",
       "2           2.0            90.68  \n",
       "3         -13.0            70.00  \n",
       "4          -6.0            70.00  \n",
       "\n",
       "[5 rows x 25 columns]"
      ]
     },
     "execution_count": 125,
     "metadata": {},
     "output_type": "execute_result"
    }
   ],
   "source": [
    "# Creating monthly revenue column from our defined function above\n",
    "df['monthly_revenue'] = df.apply(monthly_revenue, axis=1)\n",
    "\n",
    "# Checking to see if new column was added \n",
    "df.head()"
   ]
  },
  {
   "cell_type": "code",
   "execution_count": 126,
   "metadata": {
    "colab": {
     "base_uri": "https://localhost:8080/"
    },
    "id": "CouvMA5cmRkP",
    "outputId": "f06a1445-a458-46c4-fdbf-14054e62aa32"
   },
   "outputs": [
    {
     "name": "stdout",
     "output_type": "stream",
     "text": [
      "<class 'pandas.core.frame.DataFrame'>\n",
      "Int64Index: 2293 entries, 0 to 2292\n",
      "Data columns (total 25 columns):\n",
      " #   Column                 Non-Null Count  Dtype         \n",
      "---  ------                 --------------  -----         \n",
      " 0   user_id                2293 non-null   int64         \n",
      " 1   first_name             2293 non-null   object        \n",
      " 2   last_name              2293 non-null   object        \n",
      " 3   age                    2293 non-null   int64         \n",
      " 4   city                   2293 non-null   object        \n",
      " 5   reg_date               2293 non-null   datetime64[ns]\n",
      " 6   plan                   2293 non-null   object        \n",
      " 7   churn_date             2293 non-null   datetime64[ns]\n",
      " 8   month                  2293 non-null   int64         \n",
      " 9   calls_made             2293 non-null   float64       \n",
      " 10  call_duration          2293 non-null   float64       \n",
      " 11  messages_sent          2293 non-null   float64       \n",
      " 12  mb_used                2293 non-null   float64       \n",
      " 13  gb_used                2293 non-null   float64       \n",
      " 14  messages_included      2293 non-null   int64         \n",
      " 15  mb_per_month_included  2293 non-null   int64         \n",
      " 16  minutes_included       2293 non-null   int64         \n",
      " 17  usd_monthly_pay        2293 non-null   int64         \n",
      " 18  usd_per_gb             2293 non-null   int64         \n",
      " 19  usd_per_message        2293 non-null   float64       \n",
      " 20  usd_per_minute         2293 non-null   float64       \n",
      " 21  minutes_used_plan      2293 non-null   float64       \n",
      " 22  messages_used_plan     2293 non-null   float64       \n",
      " 23  gb_used_plan           2293 non-null   float64       \n",
      " 24  monthly_revenue        2293 non-null   float64       \n",
      "dtypes: datetime64[ns](2), float64(11), int64(8), object(4)\n",
      "memory usage: 465.8+ KB\n"
     ]
    }
   ],
   "source": [
    "# Checking our data after manipulations\n",
    "df.info()"
   ]
  },
  {
   "cell_type": "markdown",
   "metadata": {
    "id": "fTKi1iGsmXa8"
   },
   "source": [
    "**Conclusions**\n",
    "\n",
    "For each user, we calculated:\n",
    "* The number of calls and minutes used per month\n",
    "* The number of text messages sent per month\n",
    "* The volume of data per month\n",
    "\n",
    "We then grouped tables together to calculate the monthly revenue from each user. We stored all calculations in seperate columns in our newly created `df` table. \n",
    "\n",
    "We will now carry out exploratory data analysis to describe the customers' behavior."
   ]
  },
  {
   "cell_type": "markdown",
   "metadata": {
    "id": "7G3eWD4foV2F"
   },
   "source": [
    "## Exploratory Data Analysis (EDA)"
   ]
  },
  {
   "cell_type": "code",
   "execution_count": 127,
   "metadata": {
    "colab": {
     "base_uri": "https://localhost:8080/",
     "height": 229
    },
    "id": "LBRZz99eoY4k",
    "outputId": "e7c737f8-044b-49fe-aca2-79d14b206014"
   },
   "outputs": [
    {
     "name": "stderr",
     "output_type": "stream",
     "text": [
      "/tmp/ipykernel_84/681104410.py:2: FutureWarning: Indexing with multiple keys (implicitly converted to a tuple of keys) will be deprecated, use a list instead.\n",
      "  df.groupby('plan')['call_duration', 'messages_sent', 'gb_used'].agg(['mean','var', 'std'])\n"
     ]
    },
    {
     "data": {
      "text/html": [
       "<div>\n",
       "<style scoped>\n",
       "    .dataframe tbody tr th:only-of-type {\n",
       "        vertical-align: middle;\n",
       "    }\n",
       "\n",
       "    .dataframe tbody tr th {\n",
       "        vertical-align: top;\n",
       "    }\n",
       "\n",
       "    .dataframe thead tr th {\n",
       "        text-align: left;\n",
       "    }\n",
       "\n",
       "    .dataframe thead tr:last-of-type th {\n",
       "        text-align: right;\n",
       "    }\n",
       "</style>\n",
       "<table border=\"1\" class=\"dataframe\">\n",
       "  <thead>\n",
       "    <tr>\n",
       "      <th></th>\n",
       "      <th colspan=\"3\" halign=\"left\">call_duration</th>\n",
       "      <th colspan=\"3\" halign=\"left\">messages_sent</th>\n",
       "      <th colspan=\"3\" halign=\"left\">gb_used</th>\n",
       "    </tr>\n",
       "    <tr>\n",
       "      <th></th>\n",
       "      <th>mean</th>\n",
       "      <th>var</th>\n",
       "      <th>std</th>\n",
       "      <th>mean</th>\n",
       "      <th>var</th>\n",
       "      <th>std</th>\n",
       "      <th>mean</th>\n",
       "      <th>var</th>\n",
       "      <th>std</th>\n",
       "    </tr>\n",
       "    <tr>\n",
       "      <th>plan</th>\n",
       "      <th></th>\n",
       "      <th></th>\n",
       "      <th></th>\n",
       "      <th></th>\n",
       "      <th></th>\n",
       "      <th></th>\n",
       "      <th></th>\n",
       "      <th></th>\n",
       "      <th></th>\n",
       "    </tr>\n",
       "  </thead>\n",
       "  <tbody>\n",
       "    <tr>\n",
       "      <th>surf</th>\n",
       "      <td>428.749523</td>\n",
       "      <td>54968.279461</td>\n",
       "      <td>234.453150</td>\n",
       "      <td>299.401780</td>\n",
       "      <td>121948.706155</td>\n",
       "      <td>349.211549</td>\n",
       "      <td>16.670693</td>\n",
       "      <td>61.58360</td>\n",
       "      <td>7.847522</td>\n",
       "    </tr>\n",
       "    <tr>\n",
       "      <th>ultimate</th>\n",
       "      <td>430.450000</td>\n",
       "      <td>57844.464812</td>\n",
       "      <td>240.508762</td>\n",
       "      <td>358.215278</td>\n",
       "      <td>133950.539126</td>\n",
       "      <td>365.992540</td>\n",
       "      <td>17.306944</td>\n",
       "      <td>58.83055</td>\n",
       "      <td>7.670108</td>\n",
       "    </tr>\n",
       "  </tbody>\n",
       "</table>\n",
       "</div>"
      ],
      "text/plain": [
       "         call_duration                           messages_sent                 \\\n",
       "                  mean           var         std          mean            var   \n",
       "plan                                                                            \n",
       "surf        428.749523  54968.279461  234.453150    299.401780  121948.706155   \n",
       "ultimate    430.450000  57844.464812  240.508762    358.215278  133950.539126   \n",
       "\n",
       "                        gb_used                      \n",
       "                 std       mean       var       std  \n",
       "plan                                                 \n",
       "surf      349.211549  16.670693  61.58360  7.847522  \n",
       "ultimate  365.992540  17.306944  58.83055  7.670108  "
      ]
     },
     "execution_count": 127,
     "metadata": {},
     "output_type": "execute_result"
    }
   ],
   "source": [
    "# Calculating the mean, dispersion, and standard deviation for minutes, messages, and data used per plan \n",
    "df.groupby('plan')['call_duration', 'messages_sent', 'gb_used'].agg(['mean','var', 'std'])"
   ]
  },
  {
   "cell_type": "markdown",
   "metadata": {
    "id": "9ZyYnGKT8uxa"
   },
   "source": [
    "We can see that users with the ultimate plan on average use more minutes, send more messages, and use more data than users with the surf plan. Now lets see if we get the same results when we remove outliers for the ultimate plan and surf plan. "
   ]
  },
  {
   "cell_type": "code",
   "execution_count": 128,
   "metadata": {
    "colab": {
     "base_uri": "https://localhost:8080/",
     "height": 300
    },
    "id": "wqIFj8KP0_A2",
    "outputId": "d5a81d33-7014-4a49-879a-870d5988d2b7"
   },
   "outputs": [
    {
     "data": {
      "text/html": [
       "<div>\n",
       "<style scoped>\n",
       "    .dataframe tbody tr th:only-of-type {\n",
       "        vertical-align: middle;\n",
       "    }\n",
       "\n",
       "    .dataframe tbody tr th {\n",
       "        vertical-align: top;\n",
       "    }\n",
       "\n",
       "    .dataframe thead th {\n",
       "        text-align: right;\n",
       "    }\n",
       "</style>\n",
       "<table border=\"1\" class=\"dataframe\">\n",
       "  <thead>\n",
       "    <tr style=\"text-align: right;\">\n",
       "      <th></th>\n",
       "      <th>calls_made</th>\n",
       "      <th>call_duration</th>\n",
       "      <th>messages_sent</th>\n",
       "      <th>gb_used</th>\n",
       "      <th>monthly_revenue</th>\n",
       "    </tr>\n",
       "  </thead>\n",
       "  <tbody>\n",
       "    <tr>\n",
       "      <th>count</th>\n",
       "      <td>676.000000</td>\n",
       "      <td>676.000000</td>\n",
       "      <td>676.000000</td>\n",
       "      <td>676.000000</td>\n",
       "      <td>676.000000</td>\n",
       "    </tr>\n",
       "    <tr>\n",
       "      <th>mean</th>\n",
       "      <td>59.085799</td>\n",
       "      <td>419.217456</td>\n",
       "      <td>322.806213</td>\n",
       "      <td>16.446746</td>\n",
       "      <td>70.522189</td>\n",
       "    </tr>\n",
       "    <tr>\n",
       "      <th>std</th>\n",
       "      <td>29.715965</td>\n",
       "      <td>215.192734</td>\n",
       "      <td>320.496341</td>\n",
       "      <td>6.698489</td>\n",
       "      <td>3.235619</td>\n",
       "    </tr>\n",
       "    <tr>\n",
       "      <th>min</th>\n",
       "      <td>0.000000</td>\n",
       "      <td>0.000000</td>\n",
       "      <td>0.000000</td>\n",
       "      <td>0.000000</td>\n",
       "      <td>70.000000</td>\n",
       "    </tr>\n",
       "    <tr>\n",
       "      <th>25%</th>\n",
       "      <td>36.000000</td>\n",
       "      <td>262.000000</td>\n",
       "      <td>36.000000</td>\n",
       "      <td>13.000000</td>\n",
       "      <td>70.000000</td>\n",
       "    </tr>\n",
       "    <tr>\n",
       "      <th>50%</th>\n",
       "      <td>60.000000</td>\n",
       "      <td>420.500000</td>\n",
       "      <td>243.000000</td>\n",
       "      <td>17.000000</td>\n",
       "      <td>70.000000</td>\n",
       "    </tr>\n",
       "    <tr>\n",
       "      <th>75%</th>\n",
       "      <td>78.000000</td>\n",
       "      <td>550.250000</td>\n",
       "      <td>528.000000</td>\n",
       "      <td>20.000000</td>\n",
       "      <td>70.000000</td>\n",
       "    </tr>\n",
       "    <tr>\n",
       "      <th>max</th>\n",
       "      <td>150.000000</td>\n",
       "      <td>1111.000000</td>\n",
       "      <td>1404.000000</td>\n",
       "      <td>35.000000</td>\n",
       "      <td>105.000000</td>\n",
       "    </tr>\n",
       "  </tbody>\n",
       "</table>\n",
       "</div>"
      ],
      "text/plain": [
       "       calls_made  call_duration  messages_sent     gb_used  monthly_revenue\n",
       "count  676.000000     676.000000     676.000000  676.000000       676.000000\n",
       "mean    59.085799     419.217456     322.806213   16.446746        70.522189\n",
       "std     29.715965     215.192734     320.496341    6.698489         3.235619\n",
       "min      0.000000       0.000000       0.000000    0.000000        70.000000\n",
       "25%     36.000000     262.000000      36.000000   13.000000        70.000000\n",
       "50%     60.000000     420.500000     243.000000   17.000000        70.000000\n",
       "75%     78.000000     550.250000     528.000000   20.000000        70.000000\n",
       "max    150.000000    1111.000000    1404.000000   35.000000       105.000000"
      ]
     },
     "execution_count": 128,
     "metadata": {},
     "output_type": "execute_result"
    }
   ],
   "source": [
    "# Extracting filtered data for the ultimate plan\n",
    "ultimate = df.query('plan == \"ultimate\"')\n",
    "ultimate_plan = ultimate[['calls_made', 'call_duration', 'messages_sent', 'gb_used', 'monthly_revenue']]\n",
    "\n",
    "# Removing outliers for the ultimate plan \n",
    "ultimate_plan_filtered = ultimate_plan[(np.abs(st.zscore(ultimate_plan)) < 3).all(axis=1)]\n",
    "\n",
    "# Getting statistical summary for the ultimate plan without outliers\n",
    "ultimate_plan_filtered.describe()"
   ]
  },
  {
   "cell_type": "code",
   "execution_count": 129,
   "metadata": {
    "colab": {
     "base_uri": "https://localhost:8080/"
    },
    "id": "IW0YkKt1-Dkb",
    "outputId": "c3548fd1-d025-4134-80d5-40c1b688463e"
   },
   "outputs": [
    {
     "name": "stdout",
     "output_type": "stream",
     "text": [
      "Variance of calls_made: 883.04\n",
      "Variance of call_duration: 46307.91\n",
      "Variance of messages_sent: 102717.90\n",
      "Variance of gb_used: 44.87\n",
      "Variance of monthly_revenue: 10.47\n"
     ]
    }
   ],
   "source": [
    "# Finding dispersion for the ultimate plan\n",
    "for i in ultimate_plan_filtered:\n",
    "  ultimate_plan_filtered[i].var()\n",
    "  print('Variance of ' + i + ': {:.2f}'.format(ultimate_plan_filtered[i].var()))"
   ]
  },
  {
   "cell_type": "markdown",
   "metadata": {
    "id": "UeXx2wNY_uE-"
   },
   "source": [
    "On average, users with the ultimate plan make 58 calls, use 416 minutes, send 328 messages, and use 40 gb worth of data per month. The dispersions for `calls_duration`, `messages_sent`, and `gb_used` for the ultimate plan is 47147, 104363, and 257 respectively. On average, the monthly revenue generated from users with the ultimate plan is \\$163.48."
   ]
  },
  {
   "cell_type": "code",
   "execution_count": 130,
   "metadata": {
    "colab": {
     "base_uri": "https://localhost:8080/",
     "height": 300
    },
    "id": "q9rDTfpLBJh2",
    "outputId": "e06af76e-deaa-47b4-b642-4d65f41e3ca0"
   },
   "outputs": [
    {
     "data": {
      "text/html": [
       "<div>\n",
       "<style scoped>\n",
       "    .dataframe tbody tr th:only-of-type {\n",
       "        vertical-align: middle;\n",
       "    }\n",
       "\n",
       "    .dataframe tbody tr th {\n",
       "        vertical-align: top;\n",
       "    }\n",
       "\n",
       "    .dataframe thead th {\n",
       "        text-align: right;\n",
       "    }\n",
       "</style>\n",
       "<table border=\"1\" class=\"dataframe\">\n",
       "  <thead>\n",
       "    <tr style=\"text-align: right;\">\n",
       "      <th></th>\n",
       "      <th>calls_made</th>\n",
       "      <th>call_duration</th>\n",
       "      <th>messages_sent</th>\n",
       "      <th>gb_used</th>\n",
       "      <th>monthly_revenue</th>\n",
       "    </tr>\n",
       "  </thead>\n",
       "  <tbody>\n",
       "    <tr>\n",
       "      <th>count</th>\n",
       "      <td>1573.000000</td>\n",
       "      <td>1573.000000</td>\n",
       "      <td>1573.000000</td>\n",
       "      <td>1573.000000</td>\n",
       "      <td>1573.000000</td>\n",
       "    </tr>\n",
       "    <tr>\n",
       "      <th>mean</th>\n",
       "      <td>59.811825</td>\n",
       "      <td>428.749523</td>\n",
       "      <td>299.401780</td>\n",
       "      <td>16.670693</td>\n",
       "      <td>66.527057</td>\n",
       "    </tr>\n",
       "    <tr>\n",
       "      <th>std</th>\n",
       "      <td>32.017989</td>\n",
       "      <td>234.453150</td>\n",
       "      <td>349.211549</td>\n",
       "      <td>7.847522</td>\n",
       "      <td>56.963000</td>\n",
       "    </tr>\n",
       "    <tr>\n",
       "      <th>min</th>\n",
       "      <td>0.000000</td>\n",
       "      <td>0.000000</td>\n",
       "      <td>0.000000</td>\n",
       "      <td>0.000000</td>\n",
       "      <td>20.000000</td>\n",
       "    </tr>\n",
       "    <tr>\n",
       "      <th>25%</th>\n",
       "      <td>39.000000</td>\n",
       "      <td>272.000000</td>\n",
       "      <td>18.000000</td>\n",
       "      <td>12.000000</td>\n",
       "      <td>25.100000</td>\n",
       "    </tr>\n",
       "    <tr>\n",
       "      <th>50%</th>\n",
       "      <td>60.000000</td>\n",
       "      <td>425.000000</td>\n",
       "      <td>198.000000</td>\n",
       "      <td>17.000000</td>\n",
       "      <td>49.460000</td>\n",
       "    </tr>\n",
       "    <tr>\n",
       "      <th>75%</th>\n",
       "      <td>79.000000</td>\n",
       "      <td>576.000000</td>\n",
       "      <td>430.000000</td>\n",
       "      <td>21.000000</td>\n",
       "      <td>89.300000</td>\n",
       "    </tr>\n",
       "    <tr>\n",
       "      <th>max</th>\n",
       "      <td>205.000000</td>\n",
       "      <td>1510.000000</td>\n",
       "      <td>3192.000000</td>\n",
       "      <td>70.000000</td>\n",
       "      <td>613.860000</td>\n",
       "    </tr>\n",
       "  </tbody>\n",
       "</table>\n",
       "</div>"
      ],
      "text/plain": [
       "        calls_made  call_duration  messages_sent      gb_used  monthly_revenue\n",
       "count  1573.000000    1573.000000    1573.000000  1573.000000      1573.000000\n",
       "mean     59.811825     428.749523     299.401780    16.670693        66.527057\n",
       "std      32.017989     234.453150     349.211549     7.847522        56.963000\n",
       "min       0.000000       0.000000       0.000000     0.000000        20.000000\n",
       "25%      39.000000     272.000000      18.000000    12.000000        25.100000\n",
       "50%      60.000000     425.000000     198.000000    17.000000        49.460000\n",
       "75%      79.000000     576.000000     430.000000    21.000000        89.300000\n",
       "max     205.000000    1510.000000    3192.000000    70.000000       613.860000"
      ]
     },
     "execution_count": 130,
     "metadata": {},
     "output_type": "execute_result"
    }
   ],
   "source": [
    "# Extracting filtered data for the surf plan\n",
    "surf = df.query('plan == \"surf\"')\n",
    "surf_plan = surf[['calls_made', 'call_duration', 'messages_sent', 'gb_used', 'monthly_revenue']]\n",
    "\n",
    "# Removing outliers for the surf plan \n",
    "surf_plan_filtered = surf_plan[(np.abs(st.zscore(surf_plan)) < 3).all(axis=1)]\n",
    "\n",
    "# Getting statistical summary for the surf plan without outliers\n",
    "surf_plan.describe()"
   ]
  },
  {
   "cell_type": "code",
   "execution_count": 131,
   "metadata": {
    "colab": {
     "base_uri": "https://localhost:8080/"
    },
    "id": "yDqSnMZ7B_qt",
    "outputId": "5cbeed81-e04e-48be-eb17-fa000b1a1590"
   },
   "outputs": [
    {
     "name": "stdout",
     "output_type": "stream",
     "text": [
      "Variance of calls_made: 929.77\n",
      "Variance of call_duration: 49798.47\n",
      "Variance of messages_sent: 83766.12\n",
      "Variance of gb_used: 49.09\n",
      "Variance of monthly_revenue: 2046.01\n"
     ]
    }
   ],
   "source": [
    "# Finding dispersion for the surf plan \n",
    "for i in surf_plan_filtered:\n",
    "  surf_plan_filtered[i].var()\n",
    "  print('Variance of ' + i + ': {:.2f}'.format(surf_plan_filtered[i].var()))"
   ]
  },
  {
   "cell_type": "markdown",
   "metadata": {
    "id": "InWE8g9MCiQy"
   },
   "source": [
    "On average, users with the surf plan make 58 calls, use 428 minutes, send 299 messages, and use 40 gb worth of data per month. The dispersions for calls_duration, messages_sent, and gb_used for the ultimate plan is 49861, 86068, and 289 respectively. On average, the monthly revenue generated from users with the surf plan is \\$164.11"
   ]
  },
  {
   "cell_type": "code",
   "execution_count": 132,
   "metadata": {
    "colab": {
     "base_uri": "https://localhost:8080/",
     "height": 531
    },
    "id": "346RVpKlDMWK",
    "outputId": "45fe737b-71d8-4b08-aa7e-959a4507446d"
   },
   "outputs": [
    {
     "data": {
      "text/plain": [
       "<matplotlib.legend.Legend at 0x7f37e084d6a0>"
      ]
     },
     "execution_count": 132,
     "metadata": {},
     "output_type": "execute_result"
    },
    {
     "data": {
      "image/png": "[encoded data removed]",
      "text/plain": [
       "<Figure size 720x576 with 1 Axes>"
      ]
     },
     "metadata": {
      "needs_background": "light"
     },
     "output_type": "display_data"
    }
   ],
   "source": [
    "# Plotting a histogram for number of calls made per month for both plans\n",
    "plt.figure(figsize=(10,8))\n",
    "plt.hist(ultimate_plan_filtered['calls_made'], bins=20, alpha=0.5, label='ultimate')\n",
    "plt.hist(surf_plan_filtered['calls_made'], bins=20, alpha=0.5, label='surf')\n",
    "\n",
    "# Adding title and axes label\n",
    "plt.xlabel('calls_made')\n",
    "plt.ylabel('count')\n",
    "plt.title('Overlay of Histogram for Number of Calls Made per Month')\n",
    "plt.legend()"
   ]
  },
  {
   "cell_type": "markdown",
   "metadata": {
    "id": "7oZfqRC-EFSI"
   },
   "source": [
    "From the overlay of the histogram plot, we can see that the surf plan had the most representation for the number of calls per month."
   ]
  },
  {
   "cell_type": "code",
   "execution_count": 133,
   "metadata": {
    "colab": {
     "base_uri": "https://localhost:8080/",
     "height": 619
    },
    "id": "zOcfsvyiDpv-",
    "outputId": "1270ba67-653e-4b42-a41d-1b84bbdce096"
   },
   "outputs": [
    {
     "data": {
      "text/plain": [
       "<matplotlib.legend.Legend at 0x7f37de8e61c0>"
      ]
     },
     "execution_count": 133,
     "metadata": {},
     "output_type": "execute_result"
    },
    {
     "data": {
      "image/png": "[encoded data removed]",
      "text/plain": [
       "<Figure size 720x576 with 1 Axes>"
      ]
     },
     "metadata": {
      "needs_background": "light"
     },
     "output_type": "display_data"
    }
   ],
   "source": [
    "# Plotting a density histogram of number of calls per month for both plans\n",
    "plt.figure(figsize=(10,8))\n",
    "plt.hist([ultimate_plan_filtered['calls_made'], surf_plan_filtered['calls_made']], label= ['ultimate', 'surf'], density = True)\n",
    "\n",
    "\n",
    "# Adding title and axes label\n",
    "plt.ylabel('frequency Density')\n",
    "plt.xlabel('number of calls')\n",
    "plt.title('Frequency Density for Number of Calls per Month')\n",
    "plt.legend()"
   ]
  },
  {
   "cell_type": "markdown",
   "metadata": {
    "id": "NY_8baEvE8v5"
   },
   "source": [
    "With the frequency density plot, we can see the number of calls made per users across phone plan. We can see that the surf plan has more number of calls than the ultimate plan."
   ]
  },
  {
   "cell_type": "code",
   "execution_count": 134,
   "metadata": {
    "colab": {
     "base_uri": "https://localhost:8080/",
     "height": 531
    },
    "id": "Q6Z5UkXfFluC",
    "outputId": "b557b2ff-5c39-4d8c-9246-0e28253885bf"
   },
   "outputs": [
    {
     "data": {
      "text/plain": [
       "<matplotlib.legend.Legend at 0x7f37dea1ba30>"
      ]
     },
     "execution_count": 134,
     "metadata": {},
     "output_type": "execute_result"
    },
    {
     "data": {
      "image/png": "[encoded data removed]",
      "text/plain": [
       "<Figure size 720x576 with 1 Axes>"
      ]
     },
     "metadata": {
      "needs_background": "light"
     },
     "output_type": "display_data"
    }
   ],
   "source": [
    "# Plotting a historgram for minutes used per month for both plans\n",
    "plt.figure(figsize=(10,8))\n",
    "plt.hist(ultimate_plan_filtered['call_duration'], bins=20, alpha=0.5, label='ultimate')\n",
    "plt.hist(surf_plan_filtered['call_duration'], bins=20, alpha=0.5, label='surf')\n",
    "\n",
    "# Adding title and axes label\n",
    "plt.title('Overlay of Histogram for Minutes Used per Month')\n",
    "plt.xlabel('call_duration')\n",
    "plt.ylabel('count')\n",
    "plt.legend()"
   ]
  },
  {
   "cell_type": "markdown",
   "metadata": {
    "id": "mYeZS3-uOkHJ"
   },
   "source": [
    "From the overlay of the histograms, we can see that users of the surf plan use more minutes per month."
   ]
  },
  {
   "cell_type": "code",
   "execution_count": 135,
   "metadata": {
    "colab": {
     "base_uri": "https://localhost:8080/",
     "height": 620
    },
    "id": "9rOra3oBO1Gv",
    "outputId": "8a4d252b-7c47-4ea2-d38d-c32249c19463"
   },
   "outputs": [
    {
     "data": {
      "text/plain": [
       "<matplotlib.legend.Legend at 0x7f37de805ee0>"
      ]
     },
     "execution_count": 135,
     "metadata": {},
     "output_type": "execute_result"
    },
    {
     "data": {
      "image/png": "[encoded data removed]",
      "text/plain": [
       "<Figure size 720x576 with 1 Axes>"
      ]
     },
     "metadata": {
      "needs_background": "light"
     },
     "output_type": "display_data"
    }
   ],
   "source": [
    "# Plotting a density histogram of minutes used per month for both plans\n",
    "plt.figure(figsize=(10,8))\n",
    "plt.hist([ultimate_plan_filtered['call_duration'], surf_plan_filtered['call_duration']], label=['ultimate', 'surf'], density=True)\n",
    "\n",
    "# Adding title and axes label\n",
    "plt.title('Frequency Density for Minutes Used per Month')\n",
    "plt.xlabel('call_duration')\n",
    "plt.ylabel('frequency densit')\n",
    "plt.legend()"
   ]
  },
  {
   "cell_type": "markdown",
   "metadata": {
    "id": "grJmGoa4QJCo"
   },
   "source": [
    "From the frequency density histogram, we can see that more users in the ultimate plan spend less time on their phone conversations than users with the surf plan. Most users in the the ultimate plan spend on average less than 600 minutes (10 hours) on their phones. "
   ]
  },
  {
   "cell_type": "code",
   "execution_count": 136,
   "metadata": {
    "colab": {
     "base_uri": "https://localhost:8080/",
     "height": 531
    },
    "id": "rXId7M2aSnFd",
    "outputId": "c45d5256-76a2-401c-ecb8-9090d1f47433"
   },
   "outputs": [
    {
     "data": {
      "text/plain": [
       "<matplotlib.legend.Legend at 0x7f37de7c0d90>"
      ]
     },
     "execution_count": 136,
     "metadata": {},
     "output_type": "execute_result"
    },
    {
     "data": {
      "image/png": "[encoded data removed]",
      "text/plain": [
       "<Figure size 720x576 with 1 Axes>"
      ]
     },
     "metadata": {
      "needs_background": "light"
     },
     "output_type": "display_data"
    }
   ],
   "source": [
    "# Plotting a historgram for data usage (in gb) per month for both plans\n",
    "plt.figure(figsize=(10,8))\n",
    "plt.hist(ultimate_plan_filtered['gb_used'], bins=20, alpha=0.5, label='ultimate')\n",
    "plt.hist(surf_plan_filtered['gb_used'], bins=20, alpha=0.5, label='surf')\n",
    "\n",
    "# Adding title and axes label\n",
    "plt.title('Overlay of Histogram for Data Usage per Month')\n",
    "plt.xlabel('gb_used')\n",
    "plt.ylabel('count')\n",
    "plt.legend()"
   ]
  },
  {
   "cell_type": "markdown",
   "metadata": {
    "id": "DiV76BzHTPBJ"
   },
   "source": [
    "From the overlay of the histograms, we can see that people with the surf plan tend to use more data than people with ultimate plan. "
   ]
  },
  {
   "cell_type": "code",
   "execution_count": 137,
   "metadata": {
    "colab": {
     "base_uri": "https://localhost:8080/",
     "height": 620
    },
    "id": "VX__i2a1ToOl",
    "outputId": "ac9bfdd2-f067-4451-ba80-81c470abead0"
   },
   "outputs": [
    {
     "data": {
      "text/plain": [
       "<matplotlib.legend.Legend at 0x7f37de6d7bb0>"
      ]
     },
     "execution_count": 137,
     "metadata": {},
     "output_type": "execute_result"
    },
    {
     "data": {
      "image/png": "[encoded data removed]",
      "text/plain": [
       "<Figure size 720x576 with 1 Axes>"
      ]
     },
     "metadata": {
      "needs_background": "light"
     },
     "output_type": "display_data"
    }
   ],
   "source": [
    "# Plotting a density historgram for data usage (in gb) per month for both plans\n",
    "plt.figure(figsize=(10,8))\n",
    "plt.hist([ultimate_plan_filtered['gb_used'], surf_plan_filtered['gb_used']], label=['ultimate','surf'], density=True)\n",
    "\n",
    "# Adding title and axes label\n",
    "plt.title('Frequency Density Histogram for Data Usage')\n",
    "plt.xlabel('gb_used')\n",
    "plt.ylabel('frequency density')\n",
    "plt.legend()"
   ]
  },
  {
   "cell_type": "markdown",
   "metadata": {
    "id": "MM-75Er9UuJ3"
   },
   "source": [
    "From the frquency density histogram, we can see there is a higher proportion of users that use their data more frequently than users with the ultimate plan. "
   ]
  },
  {
   "cell_type": "code",
   "execution_count": 138,
   "metadata": {
    "colab": {
     "base_uri": "https://localhost:8080/"
    },
    "id": "TlDN2h4PVM-F",
    "outputId": "f49606fe-325a-462d-b756-72dea70b5b2b"
   },
   "outputs": [
    {
     "name": "stdout",
     "output_type": "stream",
     "text": [
      "Average revenue for users with the ultimate plan: $70.52\n",
      "Average revenue for users with the surf plan: $61.14\n",
      "Difference in revenue between the ultimate plan and surf plan: -15.3%\n"
     ]
    }
   ],
   "source": [
    "# Calculating average revenue for ultimate plan\n",
    "ultimate_rev_avg = ultimate_plan_filtered['monthly_revenue'].sum()/len(ultimate_plan_filtered['monthly_revenue'])\n",
    "print(f'Average revenue for users with the ultimate plan: ${ultimate_rev_avg:.2f}')\n",
    "\n",
    "# Calculating average revenue for surf plan\n",
    "surf_rev_avg = surf_plan_filtered['monthly_revenue'].sum()/len(surf_plan_filtered['monthly_revenue'])\n",
    "print(f'Average revenue for users with the surf plan: ${surf_rev_avg:.2f}')\n",
    "\n",
    "# Difference in revenue between the 2 plans\n",
    "revenue_diff = (surf_rev_avg - ultimate_rev_avg)/surf_rev_avg * 100\n",
    "print(f'Difference in revenue between the ultimate plan and surf plan: {revenue_diff:.1f}%') "
   ]
  },
  {
   "cell_type": "markdown",
   "metadata": {
    "id": "2Os5j5HtXzUx"
   },
   "source": [
    "**Conclusions**\n",
    "\n",
    "We determined that ultimate users on the average make 58 calls, use 416 minutes per month, sent about 328 messages, and use 41 GB of data per month. For surf users, we found that on average users make 58 calls, use 429 minutes per month, sent about 299 messages, and use 40 GB of data per month. We plotted the distribution and the frequency density of the plans per user and observed that surf users have more representation overall than ultimate users. We found that users with the surf plan brought in more revenue than users with the ultimate plan. There was a 40% difference in revenue between the two plans. "
   ]
  },
  {
   "cell_type": "markdown",
   "metadata": {
    "id": "C1wXCjN_aYYj"
   },
   "source": [
    "## Testing Hypotheses "
   ]
  },
  {
   "cell_type": "markdown",
   "metadata": {
    "id": "JgeNqdglav5K"
   },
   "source": [
    "### Test 1\n",
    "\n",
    "**Null hypothesis (H$_{0}$):** There is no difference between the average revenue from users of the Ultimate and Surf calling plans. \n",
    "\n",
    "**Alternative hypothesis (H$_{1}$):** There is a difference between the average revenue from users of the Ultimate and Surf calling plans. "
   ]
  },
  {
   "cell_type": "markdown",
   "metadata": {
    "id": "m1CuqWHGbz0Z"
   },
   "source": [
    "We will use a significance level (or alpha) of 0.05, which indicates a 5% risk of concluding that a difference exists when there is no actual difference. We will use a t-test to test the hypothesis.\n",
    "\n",
    "* H$_{0}$: average revenue for users of Ultimate plan = average revenue of Surf plan\n",
    "\n",
    "* H$_{1}$: average revenue for users of Ultimate plan $\\neq$ average revenue of Surf plan  \n",
    "\n",
    "* $\\alpha$: 0.05\n",
    "\n",
    "* If p-value <= significance level ($\\alpha$) then we reject our null hypthesis.\n",
    "\n"
   ]
  },
  {
   "cell_type": "code",
   "execution_count": 139,
   "metadata": {
    "colab": {
     "base_uri": "https://localhost:8080/"
    },
    "id": "zRlewKa0caU6",
    "outputId": "a79ddf8d-2f67-4e03-8e6e-f4e46103c96a"
   },
   "outputs": [
    {
     "name": "stdout",
     "output_type": "stream",
     "text": [
      "pvalue: 2.0280554940717037e-15\n",
      "\n",
      "We reject the null hypothesis\n"
     ]
    }
   ],
   "source": [
    "# Hypothesis testing\n",
    "ultimate = ultimate_plan_filtered['monthly_revenue']\n",
    "surf = surf_plan_filtered['monthly_revenue']\n",
    "\n",
    "# Setting significance level\n",
    "alpha = 0.05 \n",
    "\n",
    "# Formulating t-test\n",
    "results = st.ttest_ind(ultimate,surf, equal_var=False)\n",
    "\n",
    "print('pvalue:', results.pvalue)\n",
    "\n",
    "print()\n",
    "\n",
    "if results.pvalue < alpha:\n",
    "  print('We reject the null hypothesis')\n",
    "\n",
    "else:\n",
    "  print('We cannot reject the null hypothesis')"
   ]
  },
  {
   "cell_type": "markdown",
   "metadata": {
    "id": "A_nYOiPRhUcL"
   },
   "source": [
    "Since the p-value is less than 0.05, we reject the null hypothesis. This suggests that there is a difference between average revenue from users of Ultimate and Surf calling plans "
   ]
  },
  {
   "cell_type": "markdown",
   "metadata": {
    "id": "82E81nzqhiVk"
   },
   "source": [
    "### Test 2\n",
    "\n",
    "**Null hypothesis (H$_{0}$):** There is no difference between the average revenue from users in NY-NJ area is different from that of the users from other regions.\n",
    "\n",
    "**Alternative hypothesis (H$_{1}$):** There is a difference between the average revenue from users in NY-NJ area is different from that of the users from other regions."
   ]
  },
  {
   "cell_type": "markdown",
   "metadata": {
    "id": "3hPqmjjqhk2g"
   },
   "source": [
    "We will use a significance level (or alpha) of 0.05, which indicates a 5% risk of concluding that a difference exists when there is no actual difference. We will use a t-test to test the hypothesis.\n",
    "\n",
    "* H$_{0}$: average revenue for users in NY-NJ area = average revenue of other regions\n",
    "\n",
    "* H$_{1}$: average revenue for users in NY-NJ area $\\neq$ average revenue of other regions\n",
    "\n",
    "* $\\alpha$: 0.05\n",
    "\n",
    "* If p-value <= significance level ($\\alpha$) then we reject our null hypthesis."
   ]
  },
  {
   "cell_type": "code",
   "execution_count": 140,
   "metadata": {
    "colab": {
     "base_uri": "https://localhost:8080/"
    },
    "id": "IuOfwBvgiOrV",
    "outputId": "cf378655-736e-42cf-fc59-edf267eab788"
   },
   "outputs": [
    {
     "name": "stdout",
     "output_type": "stream",
     "text": [
      "pvalue: 0.01480036990805003\n",
      "\n",
      "We reject the null hypothesis\n"
     ]
    }
   ],
   "source": [
    "# Hypothesis testing\n",
    "ny_nj = df.query('city == \"New York-Newark-Jersey City, NY-NJ-PA MSA\"')['monthly_revenue']\n",
    "not_ny_nj = df.query ('city != \"New York-Newark-Jersey City, NY-NJ-PA MSA\"')['monthly_revenue']\n",
    "\n",
    "# Setting significance level\n",
    "alpha = 0.05\n",
    "\n",
    "# Formulating t-test\n",
    "results = st.ttest_ind(ny_nj,not_ny_nj, equal_var=False)\n",
    "\n",
    "print('pvalue:', results.pvalue)\n",
    "\n",
    "print()\n",
    "\n",
    "if results.pvalue < alpha:\n",
    "  print('We reject the null hypothesis')\n",
    "\n",
    "else:\n",
    "  print('We cannot reject the null hypothesis')"
   ]
  },
  {
   "cell_type": "markdown",
   "metadata": {
    "id": "gZay3dv6j_pp"
   },
   "source": [
    "Since the p-value is less than 0.05, we reject the null hypothesis. This suggests that there is a difference the average revenue from users in NY-NJ area is."
   ]
  },
  {
   "cell_type": "markdown",
   "metadata": {
    "id": "DavnCErTkNlc"
   },
   "source": [
    "# Findings\n",
    "\n",
    "We determined that Ultimate users on the average make 58 calls, use 416 minutes per month, sent about 328 messages, and use 41 GB of data per month. For Surf users, we found that on average users make 58 calls, use 429 minutes per month, sent about 299 messages, and use 40 GB of data per month.\n",
    "\n",
    "\n",
    "We plotted the distribution and the frequency density of the plans per user and observed that Surf users have more representation overall than ultimate users. From our plot, we can see that users with the Surf plan made more calls, spent more time on phone conversations, sent more text messags, and used more data per month than users with the Ultimate plan. \n",
    "\n",
    "\n",
    "We found that the average revenue for users with the ultimate plan was 163.48 dollars, while the average revenue for users with the surf plan was 283.31 dollars. The difference in revenue between the ultimate plan and surf plan: 42.3%.\n",
    "\n",
    "\n",
    "We performed a t-test to test two hypothesis:\n",
    "* The average revenue from users of Ultimate and Surf calling plans differs.\n",
    "\n",
    "* The average revenue from users in NY-NJ area is different from that of the users from other regions.\n",
    "\n",
    "We stated that our significance level was 0.05, which indicates a 5% risk of concluding that a difference exists when there is no actual difference.\n",
    "\n",
    "From our t-test, we concluded:\n",
    "\n",
    "* We rejected our null hypothesis and state that there is a difference between the average revenue from users of Ultimate and Surf calling plans.\n",
    "  * The Surf plan is more profitable than the Ultimate plan.\n",
    "\n",
    "* We rejected our other null hypothesis and stated that there is a difference between average revenue from users in the New York-New Jersey area and other regions.\n"
   ]
  }
 ],
 "metadata": {
  "ExecuteTimeLog": [
   {
    "duration": 1152,
    "start_time": "2022-02-27T11:51:00.008Z"
   },
   {
    "duration": 801,
    "start_time": "2022-02-27T11:51:01.163Z"
   },
   {
    "duration": 13,
    "start_time": "2022-02-27T11:51:01.967Z"
   },
   {
    "duration": 4,
    "start_time": "2022-02-27T11:51:01.982Z"
   },
   {
    "duration": 9,
    "start_time": "2022-02-27T11:51:01.988Z"
   },
   {
    "duration": 12,
    "start_time": "2022-02-27T11:51:01.999Z"
   },
   {
    "duration": 9,
    "start_time": "2022-02-27T11:51:02.013Z"
   },
   {
    "duration": 5,
    "start_time": "2022-02-27T11:51:02.024Z"
   },
   {
    "duration": 21,
    "start_time": "2022-02-27T11:51:02.032Z"
   },
   {
    "duration": 7,
    "start_time": "2022-02-27T11:51:02.055Z"
   },
   {
    "duration": 6,
    "start_time": "2022-02-27T11:51:02.064Z"
   },
   {
    "duration": 16,
    "start_time": "2022-02-27T11:51:02.072Z"
   },
   {
    "duration": 9,
    "start_time": "2022-02-27T11:51:02.090Z"
   },
   {
    "duration": 5,
    "start_time": "2022-02-27T11:51:02.101Z"
   },
   {
    "duration": 44,
    "start_time": "2022-02-27T11:51:02.108Z"
   },
   {
    "duration": 8,
    "start_time": "2022-02-27T11:51:02.154Z"
   },
   {
    "duration": 7,
    "start_time": "2022-02-27T11:51:02.164Z"
   },
   {
    "duration": 8,
    "start_time": "2022-02-27T11:51:02.172Z"
   },
   {
    "duration": 19,
    "start_time": "2022-02-27T11:51:02.181Z"
   },
   {
    "duration": 62,
    "start_time": "2022-02-27T11:51:02.202Z"
   },
   {
    "duration": 5,
    "start_time": "2022-02-27T11:51:02.266Z"
   },
   {
    "duration": 32,
    "start_time": "2022-02-27T11:51:02.273Z"
   },
   {
    "duration": 34,
    "start_time": "2022-02-27T11:51:02.307Z"
   },
   {
    "duration": 8,
    "start_time": "2022-02-27T11:51:02.343Z"
   },
   {
    "duration": 10,
    "start_time": "2022-02-27T11:51:02.353Z"
   },
   {
    "duration": 15,
    "start_time": "2022-02-27T11:51:02.365Z"
   },
   {
    "duration": 72,
    "start_time": "2022-02-27T11:51:02.384Z"
   },
   {
    "duration": 5,
    "start_time": "2022-02-27T11:51:02.458Z"
   },
   {
    "duration": 18,
    "start_time": "2022-02-27T11:51:02.464Z"
   },
   {
    "duration": 13,
    "start_time": "2022-02-27T11:51:02.484Z"
   },
   {
    "duration": 3,
    "start_time": "2022-02-27T11:51:02.498Z"
   },
   {
    "duration": 5,
    "start_time": "2022-02-27T11:51:04.380Z"
   },
   {
    "duration": 9,
    "start_time": "2022-02-27T11:51:04.387Z"
   },
   {
    "duration": 11,
    "start_time": "2022-02-27T11:51:04.398Z"
   },
   {
    "duration": 23,
    "start_time": "2022-02-27T11:51:04.411Z"
   },
   {
    "duration": 5,
    "start_time": "2022-02-27T11:51:04.435Z"
   },
   {
    "duration": 17,
    "start_time": "2022-02-27T11:51:04.441Z"
   },
   {
    "duration": 10,
    "start_time": "2022-02-27T11:51:04.459Z"
   },
   {
    "duration": 8,
    "start_time": "2022-02-27T11:51:04.470Z"
   },
   {
    "duration": 6,
    "start_time": "2022-02-27T11:51:04.481Z"
   },
   {
    "duration": 46,
    "start_time": "2022-02-27T11:51:04.489Z"
   },
   {
    "duration": 6,
    "start_time": "2022-02-27T11:51:04.537Z"
   },
   {
    "duration": 9,
    "start_time": "2022-02-27T11:51:04.545Z"
   },
   {
    "duration": 5,
    "start_time": "2022-02-27T11:51:04.555Z"
   },
   {
    "duration": 6,
    "start_time": "2022-02-27T11:51:04.562Z"
   },
   {
    "duration": 8,
    "start_time": "2022-02-27T11:51:04.569Z"
   },
   {
    "duration": 8,
    "start_time": "2022-02-27T11:51:04.578Z"
   },
   {
    "duration": 10,
    "start_time": "2022-02-27T11:51:04.588Z"
   },
   {
    "duration": 37,
    "start_time": "2022-02-27T11:51:04.599Z"
   },
   {
    "duration": 24,
    "start_time": "2022-02-27T11:51:04.638Z"
   },
   {
    "duration": 15,
    "start_time": "2022-02-27T11:51:04.664Z"
   },
   {
    "duration": 18,
    "start_time": "2022-02-27T11:51:04.681Z"
   },
   {
    "duration": 70,
    "start_time": "2022-02-27T11:51:04.700Z"
   },
   {
    "duration": 5,
    "start_time": "2022-02-27T11:51:04.772Z"
   },
   {
    "duration": 5,
    "start_time": "2022-02-27T11:51:04.779Z"
   },
   {
    "duration": 147,
    "start_time": "2022-02-27T11:51:04.786Z"
   },
   {
    "duration": 8,
    "start_time": "2022-02-27T11:51:04.937Z"
   },
   {
    "duration": 21,
    "start_time": "2022-02-27T11:51:04.947Z"
   },
   {
    "duration": 25,
    "start_time": "2022-02-27T11:51:04.970Z"
   },
   {
    "duration": 36,
    "start_time": "2022-02-27T11:51:04.996Z"
   },
   {
    "duration": 27,
    "start_time": "2022-02-27T11:51:05.034Z"
   },
   {
    "duration": 7,
    "start_time": "2022-02-27T11:51:05.062Z"
   },
   {
    "duration": 343,
    "start_time": "2022-02-27T11:51:05.070Z"
   },
   {
    "duration": 281,
    "start_time": "2022-02-27T11:51:05.415Z"
   },
   {
    "duration": 312,
    "start_time": "2022-02-27T11:51:05.698Z"
   },
   {
    "duration": 341,
    "start_time": "2022-02-27T11:51:06.012Z"
   },
   {
    "duration": 313,
    "start_time": "2022-02-27T11:51:06.355Z"
   },
   {
    "duration": 267,
    "start_time": "2022-02-27T11:51:06.670Z"
   },
   {
    "duration": 5,
    "start_time": "2022-02-27T11:51:06.939Z"
   },
   {
    "duration": 9,
    "start_time": "2022-02-27T11:51:06.945Z"
   },
   {
    "duration": 11,
    "start_time": "2022-02-27T11:51:06.955Z"
   },
   {
    "duration": 1267,
    "start_time": "2022-02-27T12:49:21.957Z"
   },
   {
    "duration": 373,
    "start_time": "2022-02-27T12:49:26.648Z"
   },
   {
    "duration": 12,
    "start_time": "2022-02-27T12:53:39.947Z"
   },
   {
    "duration": 4,
    "start_time": "2022-02-27T12:53:40.870Z"
   },
   {
    "duration": 7,
    "start_time": "2022-02-27T12:53:42.260Z"
   },
   {
    "duration": 11,
    "start_time": "2022-02-27T12:54:12.139Z"
   },
   {
    "duration": 8,
    "start_time": "2022-02-27T12:54:23.636Z"
   },
   {
    "duration": 3,
    "start_time": "2022-02-27T12:54:24.331Z"
   },
   {
    "duration": 15,
    "start_time": "2022-02-27T12:54:27.390Z"
   },
   {
    "duration": 8,
    "start_time": "2022-02-27T12:54:30.938Z"
   },
   {
    "duration": 4,
    "start_time": "2022-02-27T12:54:33.421Z"
   },
   {
    "duration": 13,
    "start_time": "2022-02-27T12:54:39.204Z"
   },
   {
    "duration": 8,
    "start_time": "2022-02-27T12:55:25.863Z"
   },
   {
    "duration": 3,
    "start_time": "2022-02-27T12:55:27.459Z"
   },
   {
    "duration": 14,
    "start_time": "2022-02-27T12:55:28.340Z"
   },
   {
    "duration": 8,
    "start_time": "2022-02-27T12:55:38.050Z"
   },
   {
    "duration": 4,
    "start_time": "2022-02-27T12:55:38.350Z"
   },
   {
    "duration": 6,
    "start_time": "2022-02-27T12:55:38.954Z"
   },
   {
    "duration": 16,
    "start_time": "2022-02-27T12:59:41.810Z"
   },
   {
    "duration": 40,
    "start_time": "2022-02-27T12:59:47.035Z"
   },
   {
    "duration": 4,
    "start_time": "2022-02-27T12:59:52.859Z"
   },
   {
    "duration": 24,
    "start_time": "2022-02-27T13:00:04.554Z"
   },
   {
    "duration": 16,
    "start_time": "2022-02-27T13:00:24.534Z"
   },
   {
    "duration": 8,
    "start_time": "2022-02-27T13:00:40.060Z"
   },
   {
    "duration": 9,
    "start_time": "2022-02-27T13:00:42.699Z"
   },
   {
    "duration": 13,
    "start_time": "2022-02-27T13:07:31.464Z"
   },
   {
    "duration": 49,
    "start_time": "2022-02-27T13:07:34.654Z"
   },
   {
    "duration": 5,
    "start_time": "2022-02-27T13:07:36.859Z"
   },
   {
    "duration": 18,
    "start_time": "2022-02-27T13:12:31.263Z"
   },
   {
    "duration": 15,
    "start_time": "2022-02-27T13:12:32.669Z"
   },
   {
    "duration": 4,
    "start_time": "2022-02-27T13:12:34.150Z"
   },
   {
    "duration": 5,
    "start_time": "2022-02-27T13:12:34.758Z"
   },
   {
    "duration": 10,
    "start_time": "2022-02-27T13:12:35.244Z"
   },
   {
    "duration": 11,
    "start_time": "2022-02-27T13:18:04.201Z"
   },
   {
    "duration": 23,
    "start_time": "2022-02-27T13:18:06.038Z"
   },
   {
    "duration": 5,
    "start_time": "2022-02-27T13:18:07.729Z"
   },
   {
    "duration": 16,
    "start_time": "2022-02-27T13:19:00.660Z"
   },
   {
    "duration": 11,
    "start_time": "2022-02-27T13:19:02.675Z"
   },
   {
    "duration": 8,
    "start_time": "2022-02-27T13:19:03.989Z"
   },
   {
    "duration": 6,
    "start_time": "2022-02-27T13:21:23.066Z"
   },
   {
    "duration": 5,
    "start_time": "2022-02-27T13:21:24.586Z"
   },
   {
    "duration": 5,
    "start_time": "2022-02-27T13:21:25.697Z"
   },
   {
    "duration": 6,
    "start_time": "2022-02-27T13:21:36.318Z"
   },
   {
    "duration": 4,
    "start_time": "2022-02-27T13:21:39.560Z"
   },
   {
    "duration": 5,
    "start_time": "2022-02-27T13:21:50.646Z"
   },
   {
    "duration": 6,
    "start_time": "2022-02-27T13:21:51.263Z"
   },
   {
    "duration": 5,
    "start_time": "2022-02-27T13:21:53.541Z"
   },
   {
    "duration": 9,
    "start_time": "2022-02-27T13:21:57.494Z"
   },
   {
    "duration": 7,
    "start_time": "2022-02-27T13:21:58.774Z"
   },
   {
    "duration": 25,
    "start_time": "2022-02-27T13:31:22.082Z"
   },
   {
    "duration": 17,
    "start_time": "2022-02-27T13:31:27.159Z"
   },
   {
    "duration": 21,
    "start_time": "2022-02-27T13:31:28.695Z"
   },
   {
    "duration": 50,
    "start_time": "2022-02-27T13:35:51.740Z"
   },
   {
    "duration": 6,
    "start_time": "2022-02-27T13:36:23.267Z"
   },
   {
    "duration": 26,
    "start_time": "2022-02-27T13:38:56.609Z"
   },
   {
    "duration": 27,
    "start_time": "2022-02-27T13:47:17.135Z"
   },
   {
    "duration": 14,
    "start_time": "2022-02-27T13:51:01.962Z"
   },
   {
    "duration": 12,
    "start_time": "2022-02-27T13:51:20.883Z"
   },
   {
    "duration": 1089,
    "start_time": "2022-02-27T14:00:23.109Z"
   },
   {
    "duration": 429,
    "start_time": "2022-02-27T14:00:24.200Z"
   },
   {
    "duration": 14,
    "start_time": "2022-02-27T14:00:26.543Z"
   },
   {
    "duration": 4,
    "start_time": "2022-02-27T14:00:26.823Z"
   },
   {
    "duration": 6,
    "start_time": "2022-02-27T14:00:27.154Z"
   },
   {
    "duration": 10,
    "start_time": "2022-02-27T14:00:29.161Z"
   },
   {
    "duration": 8,
    "start_time": "2022-02-27T14:00:30.113Z"
   },
   {
    "duration": 4,
    "start_time": "2022-02-27T14:00:30.656Z"
   },
   {
    "duration": 15,
    "start_time": "2022-02-27T14:00:30.701Z"
   },
   {
    "duration": 7,
    "start_time": "2022-02-27T14:00:31.619Z"
   },
   {
    "duration": 3,
    "start_time": "2022-02-27T14:00:31.815Z"
   },
   {
    "duration": 12,
    "start_time": "2022-02-27T14:00:32.081Z"
   },
   {
    "duration": 8,
    "start_time": "2022-02-27T14:00:33.395Z"
   },
   {
    "duration": 3,
    "start_time": "2022-02-27T14:00:33.566Z"
   },
   {
    "duration": 14,
    "start_time": "2022-02-27T14:00:33.741Z"
   },
   {
    "duration": 10,
    "start_time": "2022-02-27T14:00:34.866Z"
   },
   {
    "duration": 3,
    "start_time": "2022-02-27T14:00:35.027Z"
   },
   {
    "duration": 9,
    "start_time": "2022-02-27T14:00:35.032Z"
   },
   {
    "duration": 25,
    "start_time": "2022-02-27T14:00:38.472Z"
   },
   {
    "duration": 58,
    "start_time": "2022-02-27T14:00:38.529Z"
   },
   {
    "duration": 7,
    "start_time": "2022-02-27T14:00:38.785Z"
   },
   {
    "duration": 24,
    "start_time": "2022-02-27T14:00:39.008Z"
   },
   {
    "duration": 17,
    "start_time": "2022-02-27T14:00:39.139Z"
   },
   {
    "duration": 9,
    "start_time": "2022-02-27T14:00:39.324Z"
   },
   {
    "duration": 9,
    "start_time": "2022-02-27T14:00:41.377Z"
   },
   {
    "duration": 13,
    "start_time": "2022-02-27T14:00:41.740Z"
   },
   {
    "duration": 51,
    "start_time": "2022-02-27T14:00:42.799Z"
   },
   {
    "duration": 5,
    "start_time": "2022-02-27T14:00:43.293Z"
   },
   {
    "duration": 17,
    "start_time": "2022-02-27T14:00:43.416Z"
   },
   {
    "duration": 13,
    "start_time": "2022-02-27T14:00:43.669Z"
   },
   {
    "duration": 4,
    "start_time": "2022-02-27T14:00:44.670Z"
   },
   {
    "duration": 5,
    "start_time": "2022-02-27T14:00:44.868Z"
   },
   {
    "duration": 11,
    "start_time": "2022-02-27T14:00:44.977Z"
   },
   {
    "duration": 12,
    "start_time": "2022-02-27T14:00:45.533Z"
   },
   {
    "duration": 22,
    "start_time": "2022-02-27T14:00:49.250Z"
   },
   {
    "duration": 4,
    "start_time": "2022-02-27T14:00:49.274Z"
   },
   {
    "duration": 18,
    "start_time": "2022-02-27T14:00:49.280Z"
   },
   {
    "duration": 11,
    "start_time": "2022-02-27T14:00:52.370Z"
   },
   {
    "duration": 8,
    "start_time": "2022-02-27T14:00:52.585Z"
   },
   {
    "duration": 6,
    "start_time": "2022-02-27T14:00:53.159Z"
   },
   {
    "duration": 5,
    "start_time": "2022-02-27T14:00:53.586Z"
   },
   {
    "duration": 5,
    "start_time": "2022-02-27T14:00:54.896Z"
   },
   {
    "duration": 7,
    "start_time": "2022-02-27T14:00:55.334Z"
   },
   {
    "duration": 4,
    "start_time": "2022-02-27T14:00:55.640Z"
   },
   {
    "duration": 5,
    "start_time": "2022-02-27T14:00:57.308Z"
   },
   {
    "duration": 6,
    "start_time": "2022-02-27T14:00:57.461Z"
   },
   {
    "duration": 5,
    "start_time": "2022-02-27T14:00:58.516Z"
   },
   {
    "duration": 9,
    "start_time": "2022-02-27T14:00:58.837Z"
   },
   {
    "duration": 7,
    "start_time": "2022-02-27T14:00:59.424Z"
   },
   {
    "duration": 23,
    "start_time": "2022-02-27T14:07:12.164Z"
   },
   {
    "duration": 18,
    "start_time": "2022-02-27T14:07:12.363Z"
   },
   {
    "duration": 20,
    "start_time": "2022-02-27T14:07:12.599Z"
   },
   {
    "duration": 48,
    "start_time": "2022-02-27T14:07:14.142Z"
   },
   {
    "duration": 6,
    "start_time": "2022-02-27T14:07:26.067Z"
   },
   {
    "duration": 3,
    "start_time": "2022-02-27T14:13:45.697Z"
   },
   {
    "duration": 138,
    "start_time": "2022-02-27T14:13:49.999Z"
   },
   {
    "duration": 7,
    "start_time": "2022-02-27T14:13:55.717Z"
   },
   {
    "duration": 15,
    "start_time": "2022-02-27T14:15:14.848Z"
   },
   {
    "duration": 14,
    "start_time": "2022-02-27T14:15:24.360Z"
   },
   {
    "duration": 22,
    "start_time": "2022-02-27T14:27:12.289Z"
   },
   {
    "duration": 25,
    "start_time": "2022-02-27T14:29:20.121Z"
   },
   {
    "duration": 7,
    "start_time": "2022-02-27T14:29:33.530Z"
   },
   {
    "duration": 25,
    "start_time": "2022-02-27T14:31:12.633Z"
   },
   {
    "duration": 6,
    "start_time": "2022-02-27T14:31:15.619Z"
   },
   {
    "duration": 313,
    "start_time": "2022-02-27T14:31:18.282Z"
   },
   {
    "duration": 270,
    "start_time": "2022-02-27T14:31:26.192Z"
   },
   {
    "duration": 310,
    "start_time": "2022-02-27T14:32:16.965Z"
   },
   {
    "duration": 343,
    "start_time": "2022-02-27T14:32:19.425Z"
   },
   {
    "duration": 299,
    "start_time": "2022-02-27T14:37:27.798Z"
   },
   {
    "duration": 272,
    "start_time": "2022-02-27T14:37:29.901Z"
   },
   {
    "duration": 4,
    "start_time": "2022-02-27T14:37:32.291Z"
   },
   {
    "duration": 6,
    "start_time": "2022-02-27T14:47:28.096Z"
   },
   {
    "duration": 10,
    "start_time": "2022-02-27T14:53:21.521Z"
   },
   {
    "duration": 316,
    "start_time": "2022-02-28T19:45:37.929Z"
   },
   {
    "duration": 216,
    "start_time": "2022-02-28T19:45:41.368Z"
   },
   {
    "duration": 1462,
    "start_time": "2022-02-28T19:45:44.590Z"
   },
   {
    "duration": 859,
    "start_time": "2022-02-28T19:45:46.055Z"
   },
   {
    "duration": 18,
    "start_time": "2022-02-28T19:45:46.917Z"
   },
   {
    "duration": 5,
    "start_time": "2022-02-28T19:45:46.937Z"
   },
   {
    "duration": 13,
    "start_time": "2022-02-28T19:45:46.944Z"
   },
   {
    "duration": 22,
    "start_time": "2022-02-28T19:45:46.959Z"
   },
   {
    "duration": 16,
    "start_time": "2022-02-28T19:45:46.983Z"
   },
   {
    "duration": 5,
    "start_time": "2022-02-28T19:45:47.003Z"
   },
   {
    "duration": 34,
    "start_time": "2022-02-28T19:45:47.012Z"
   },
   {
    "duration": 47,
    "start_time": "2022-02-28T19:45:47.049Z"
   },
   {
    "duration": 6,
    "start_time": "2022-02-28T19:45:47.099Z"
   },
   {
    "duration": 17,
    "start_time": "2022-02-28T19:45:47.108Z"
   },
   {
    "duration": 11,
    "start_time": "2022-02-28T19:45:47.128Z"
   },
   {
    "duration": 45,
    "start_time": "2022-02-28T19:45:47.142Z"
   },
   {
    "duration": 22,
    "start_time": "2022-02-28T19:45:47.190Z"
   },
   {
    "duration": 14,
    "start_time": "2022-02-28T19:45:47.214Z"
   },
   {
    "duration": 4,
    "start_time": "2022-02-28T19:45:47.231Z"
   },
   {
    "duration": 9,
    "start_time": "2022-02-28T19:45:47.237Z"
   },
   {
    "duration": 57,
    "start_time": "2022-02-28T19:45:47.249Z"
   },
   {
    "duration": 58,
    "start_time": "2022-02-28T19:45:47.308Z"
   },
   {
    "duration": 7,
    "start_time": "2022-02-28T19:45:47.387Z"
   },
   {
    "duration": 52,
    "start_time": "2022-02-28T19:45:47.396Z"
   },
   {
    "duration": 48,
    "start_time": "2022-02-28T19:45:47.453Z"
   },
   {
    "duration": 9,
    "start_time": "2022-02-28T19:45:47.504Z"
   },
   {
    "duration": 14,
    "start_time": "2022-02-28T19:45:47.516Z"
   },
   {
    "duration": 19,
    "start_time": "2022-02-28T19:45:47.532Z"
   },
   {
    "duration": 95,
    "start_time": "2022-02-28T19:45:47.554Z"
   },
   {
    "duration": 6,
    "start_time": "2022-02-28T19:45:47.652Z"
   },
   {
    "duration": 46,
    "start_time": "2022-02-28T19:45:47.661Z"
   },
   {
    "duration": 19,
    "start_time": "2022-02-28T19:45:47.709Z"
   },
   {
    "duration": 5,
    "start_time": "2022-02-28T19:45:47.731Z"
   },
   {
    "duration": 22,
    "start_time": "2022-02-28T19:45:47.738Z"
   },
   {
    "duration": 23,
    "start_time": "2022-02-28T19:45:47.788Z"
   },
   {
    "duration": 39,
    "start_time": "2022-02-28T19:45:47.815Z"
   },
   {
    "duration": 32,
    "start_time": "2022-02-28T19:45:47.857Z"
   },
   {
    "duration": 32,
    "start_time": "2022-02-28T19:45:47.893Z"
   },
   {
    "duration": 18,
    "start_time": "2022-02-28T19:45:47.928Z"
   },
   {
    "duration": 48,
    "start_time": "2022-02-28T19:45:47.949Z"
   },
   {
    "duration": 11,
    "start_time": "2022-02-28T19:45:48.000Z"
   },
   {
    "duration": 10,
    "start_time": "2022-02-28T19:45:48.013Z"
   },
   {
    "duration": 7,
    "start_time": "2022-02-28T19:45:48.025Z"
   },
   {
    "duration": 8,
    "start_time": "2022-02-28T19:45:48.034Z"
   },
   {
    "duration": 43,
    "start_time": "2022-02-28T19:45:48.044Z"
   },
   {
    "duration": 8,
    "start_time": "2022-02-28T19:45:48.089Z"
   },
   {
    "duration": 9,
    "start_time": "2022-02-28T19:45:48.099Z"
   },
   {
    "duration": 5,
    "start_time": "2022-02-28T19:45:48.111Z"
   },
   {
    "duration": 13,
    "start_time": "2022-02-28T19:45:48.118Z"
   },
   {
    "duration": 10,
    "start_time": "2022-02-28T19:45:48.133Z"
   },
   {
    "duration": 33,
    "start_time": "2022-02-28T19:45:48.187Z"
   },
   {
    "duration": 29,
    "start_time": "2022-02-28T19:45:48.223Z"
   },
   {
    "duration": 66,
    "start_time": "2022-02-28T19:45:48.255Z"
   },
   {
    "duration": 387,
    "start_time": "2022-02-28T19:45:48.324Z"
   },
   {
    "duration": 222,
    "start_time": "2022-02-28T19:45:49.810Z"
   },
   {
    "duration": 28,
    "start_time": "2022-02-28T19:47:00.736Z"
   },
   {
    "duration": 77,
    "start_time": "2022-02-28T19:47:04.774Z"
   },
   {
    "duration": 8,
    "start_time": "2022-02-28T19:48:31.116Z"
   },
   {
    "duration": 5,
    "start_time": "2022-02-28T19:48:32.911Z"
   },
   {
    "duration": 219,
    "start_time": "2022-02-28T19:48:34.842Z"
   },
   {
    "duration": 4,
    "start_time": "2022-02-28T19:48:46.929Z"
   },
   {
    "duration": 474,
    "start_time": "2022-02-28T19:48:46.938Z"
   },
   {
    "duration": 14,
    "start_time": "2022-02-28T19:48:47.415Z"
   },
   {
    "duration": 5,
    "start_time": "2022-02-28T19:48:47.433Z"
   },
   {
    "duration": 8,
    "start_time": "2022-02-28T19:48:47.441Z"
   },
   {
    "duration": 13,
    "start_time": "2022-02-28T19:48:47.452Z"
   },
   {
    "duration": 11,
    "start_time": "2022-02-28T19:48:47.487Z"
   },
   {
    "duration": 7,
    "start_time": "2022-02-28T19:48:47.500Z"
   },
   {
    "duration": 20,
    "start_time": "2022-02-28T19:48:47.511Z"
   },
   {
    "duration": 10,
    "start_time": "2022-02-28T19:48:47.534Z"
   },
   {
    "duration": 42,
    "start_time": "2022-02-28T19:48:47.547Z"
   },
   {
    "duration": 16,
    "start_time": "2022-02-28T19:48:47.591Z"
   },
   {
    "duration": 11,
    "start_time": "2022-02-28T19:48:47.610Z"
   },
   {
    "duration": 5,
    "start_time": "2022-02-28T19:48:47.623Z"
   },
   {
    "duration": 60,
    "start_time": "2022-02-28T19:48:47.630Z"
   },
   {
    "duration": 12,
    "start_time": "2022-02-28T19:48:47.692Z"
   },
   {
    "duration": 5,
    "start_time": "2022-02-28T19:48:47.707Z"
   },
   {
    "duration": 10,
    "start_time": "2022-02-28T19:48:47.714Z"
   },
   {
    "duration": 23,
    "start_time": "2022-02-28T19:48:47.727Z"
   },
   {
    "duration": 84,
    "start_time": "2022-02-28T19:48:47.752Z"
   },
   {
    "duration": 7,
    "start_time": "2022-02-28T19:48:47.839Z"
   },
   {
    "duration": 59,
    "start_time": "2022-02-28T19:48:47.849Z"
   },
   {
    "duration": 22,
    "start_time": "2022-02-28T19:48:47.910Z"
   },
   {
    "duration": 10,
    "start_time": "2022-02-28T19:48:47.938Z"
   },
   {
    "duration": 11,
    "start_time": "2022-02-28T19:48:47.951Z"
   },
   {
    "duration": 17,
    "start_time": "2022-02-28T19:48:47.987Z"
   },
   {
    "duration": 88,
    "start_time": "2022-02-28T19:48:48.007Z"
   },
   {
    "duration": 6,
    "start_time": "2022-02-28T19:48:48.097Z"
   },
   {
    "duration": 27,
    "start_time": "2022-02-28T19:48:48.105Z"
   },
   {
    "duration": 17,
    "start_time": "2022-02-28T19:48:48.135Z"
   },
   {
    "duration": 34,
    "start_time": "2022-02-28T19:48:48.154Z"
   },
   {
    "duration": 16,
    "start_time": "2022-02-28T19:48:48.190Z"
   },
   {
    "duration": 23,
    "start_time": "2022-02-28T19:48:48.208Z"
   },
   {
    "duration": 27,
    "start_time": "2022-02-28T19:48:48.233Z"
   },
   {
    "duration": 27,
    "start_time": "2022-02-28T19:48:48.262Z"
   },
   {
    "duration": 24,
    "start_time": "2022-02-28T19:48:48.291Z"
   },
   {
    "duration": 13,
    "start_time": "2022-02-28T19:48:48.318Z"
   },
   {
    "duration": 11,
    "start_time": "2022-02-28T19:48:48.333Z"
   },
   {
    "duration": 42,
    "start_time": "2022-02-28T19:48:48.346Z"
   },
   {
    "duration": 12,
    "start_time": "2022-02-28T19:48:48.390Z"
   },
   {
    "duration": 17,
    "start_time": "2022-02-28T19:48:48.404Z"
   },
   {
    "duration": 14,
    "start_time": "2022-02-28T19:48:48.423Z"
   },
   {
    "duration": 7,
    "start_time": "2022-02-28T19:48:48.439Z"
   },
   {
    "duration": 6,
    "start_time": "2022-02-28T19:48:48.448Z"
   },
   {
    "duration": 9,
    "start_time": "2022-02-28T19:48:48.487Z"
   },
   {
    "duration": 9,
    "start_time": "2022-02-28T19:48:48.499Z"
   },
   {
    "duration": 12,
    "start_time": "2022-02-28T19:48:48.510Z"
   },
   {
    "duration": 12,
    "start_time": "2022-02-28T19:48:48.524Z"
   },
   {
    "duration": 69,
    "start_time": "2022-02-28T19:48:48.538Z"
   },
   {
    "duration": 24,
    "start_time": "2022-02-28T19:48:48.610Z"
   },
   {
    "duration": 62,
    "start_time": "2022-02-28T19:48:48.636Z"
   },
   {
    "duration": 97,
    "start_time": "2022-02-28T19:48:48.701Z"
   },
   {
    "duration": 8,
    "start_time": "2022-02-28T19:48:48.800Z"
   },
   {
    "duration": 7,
    "start_time": "2022-02-28T19:48:48.810Z"
   },
   {
    "duration": 4,
    "start_time": "2022-02-28T19:48:52.668Z"
   },
   {
    "duration": 469,
    "start_time": "2022-02-28T19:48:52.677Z"
   },
   {
    "duration": 15,
    "start_time": "2022-02-28T19:48:53.149Z"
   },
   {
    "duration": 9,
    "start_time": "2022-02-28T19:48:53.167Z"
   },
   {
    "duration": 12,
    "start_time": "2022-02-28T19:48:53.179Z"
   },
   {
    "duration": 11,
    "start_time": "2022-02-28T19:48:53.194Z"
   },
   {
    "duration": 12,
    "start_time": "2022-02-28T19:48:53.207Z"
   },
   {
    "duration": 5,
    "start_time": "2022-02-28T19:48:53.221Z"
   },
   {
    "duration": 21,
    "start_time": "2022-02-28T19:48:53.230Z"
   },
   {
    "duration": 10,
    "start_time": "2022-02-28T19:48:53.288Z"
   },
   {
    "duration": 12,
    "start_time": "2022-02-28T19:48:53.300Z"
   },
   {
    "duration": 16,
    "start_time": "2022-02-28T19:48:53.315Z"
   },
   {
    "duration": 11,
    "start_time": "2022-02-28T19:48:53.333Z"
   },
   {
    "duration": 40,
    "start_time": "2022-02-28T19:48:53.347Z"
   },
   {
    "duration": 19,
    "start_time": "2022-02-28T19:48:53.390Z"
   },
   {
    "duration": 13,
    "start_time": "2022-02-28T19:48:53.411Z"
   },
   {
    "duration": 7,
    "start_time": "2022-02-28T19:48:53.426Z"
   },
   {
    "duration": 11,
    "start_time": "2022-02-28T19:48:53.436Z"
   },
   {
    "duration": 22,
    "start_time": "2022-02-28T19:48:53.486Z"
   },
   {
    "duration": 55,
    "start_time": "2022-02-28T19:48:53.510Z"
   },
   {
    "duration": 23,
    "start_time": "2022-02-28T19:48:53.567Z"
   },
   {
    "duration": 32,
    "start_time": "2022-02-28T19:48:53.592Z"
   },
   {
    "duration": 22,
    "start_time": "2022-02-28T19:48:53.626Z"
   },
   {
    "duration": 39,
    "start_time": "2022-02-28T19:48:53.654Z"
   },
   {
    "duration": 12,
    "start_time": "2022-02-28T19:48:53.697Z"
   },
   {
    "duration": 20,
    "start_time": "2022-02-28T19:48:53.711Z"
   },
   {
    "duration": 93,
    "start_time": "2022-02-28T19:48:53.733Z"
   },
   {
    "duration": 6,
    "start_time": "2022-02-28T19:48:53.829Z"
   },
   {
    "duration": 26,
    "start_time": "2022-02-28T19:48:53.838Z"
   },
   {
    "duration": 18,
    "start_time": "2022-02-28T19:48:53.887Z"
   },
   {
    "duration": 6,
    "start_time": "2022-02-28T19:48:53.907Z"
   },
   {
    "duration": 22,
    "start_time": "2022-02-28T19:48:53.915Z"
   },
   {
    "duration": 25,
    "start_time": "2022-02-28T19:48:53.939Z"
   },
   {
    "duration": 42,
    "start_time": "2022-02-28T19:48:53.966Z"
   },
   {
    "duration": 6,
    "start_time": "2022-02-28T19:48:54.011Z"
   },
   {
    "duration": 22,
    "start_time": "2022-02-28T19:48:54.019Z"
   },
   {
    "duration": 44,
    "start_time": "2022-02-28T19:48:54.043Z"
   },
   {
    "duration": 12,
    "start_time": "2022-02-28T19:48:54.089Z"
   },
   {
    "duration": 9,
    "start_time": "2022-02-28T19:48:54.103Z"
   },
   {
    "duration": 9,
    "start_time": "2022-02-28T19:48:54.114Z"
   },
   {
    "duration": 7,
    "start_time": "2022-02-28T19:48:54.125Z"
   },
   {
    "duration": 10,
    "start_time": "2022-02-28T19:48:54.134Z"
   },
   {
    "duration": 43,
    "start_time": "2022-02-28T19:48:54.146Z"
   },
   {
    "duration": 9,
    "start_time": "2022-02-28T19:48:54.192Z"
   },
   {
    "duration": 12,
    "start_time": "2022-02-28T19:48:54.203Z"
   },
   {
    "duration": 6,
    "start_time": "2022-02-28T19:48:54.217Z"
   },
   {
    "duration": 12,
    "start_time": "2022-02-28T19:48:54.225Z"
   },
   {
    "duration": 52,
    "start_time": "2022-02-28T19:48:54.240Z"
   },
   {
    "duration": 33,
    "start_time": "2022-02-28T19:48:54.294Z"
   },
   {
    "duration": 20,
    "start_time": "2022-02-28T19:48:54.329Z"
   },
   {
    "duration": 56,
    "start_time": "2022-02-28T19:48:54.352Z"
   },
   {
    "duration": 134,
    "start_time": "2022-02-28T19:48:54.410Z"
   },
   {
    "duration": 8,
    "start_time": "2022-02-28T19:48:54.547Z"
   },
   {
    "duration": 5,
    "start_time": "2022-02-28T19:48:54.558Z"
   },
   {
    "duration": 227,
    "start_time": "2022-02-28T19:48:54.565Z"
   },
   {
    "duration": 13,
    "start_time": "2022-02-28T19:48:54.794Z"
   },
   {
    "duration": 33,
    "start_time": "2022-02-28T19:48:54.809Z"
   },
   {
    "duration": 66,
    "start_time": "2022-02-28T19:48:54.845Z"
   },
   {
    "duration": 10,
    "start_time": "2022-02-28T19:48:54.913Z"
   },
   {
    "duration": 63,
    "start_time": "2022-02-28T19:48:54.925Z"
   },
   {
    "duration": 9,
    "start_time": "2022-02-28T19:48:54.991Z"
   },
   {
    "duration": 585,
    "start_time": "2022-02-28T19:48:55.002Z"
   },
   {
    "duration": 492,
    "start_time": "2022-02-28T19:48:55.589Z"
   },
   {
    "duration": 555,
    "start_time": "2022-02-28T19:48:56.087Z"
   },
   {
    "duration": 504,
    "start_time": "2022-02-28T19:48:56.645Z"
   },
   {
    "duration": 577,
    "start_time": "2022-02-28T19:48:57.152Z"
   },
   {
    "duration": 496,
    "start_time": "2022-02-28T19:48:57.732Z"
   },
   {
    "duration": 6,
    "start_time": "2022-02-28T19:48:58.230Z"
   },
   {
    "duration": 7,
    "start_time": "2022-02-28T19:48:58.247Z"
   },
   {
    "duration": 14,
    "start_time": "2022-02-28T19:48:58.286Z"
   },
   {
    "duration": 1909,
    "start_time": "2022-02-28T20:57:50.924Z"
   },
   {
    "duration": 526,
    "start_time": "2022-02-28T20:57:52.837Z"
   },
   {
    "duration": 20,
    "start_time": "2022-02-28T20:57:53.366Z"
   },
   {
    "duration": 8,
    "start_time": "2022-02-28T20:57:53.389Z"
   },
   {
    "duration": 12,
    "start_time": "2022-02-28T20:57:53.399Z"
   },
   {
    "duration": 23,
    "start_time": "2022-02-28T20:57:53.414Z"
   },
   {
    "duration": 11,
    "start_time": "2022-02-28T20:57:53.440Z"
   },
   {
    "duration": 40,
    "start_time": "2022-02-28T20:57:53.455Z"
   },
   {
    "duration": 36,
    "start_time": "2022-02-28T20:57:53.499Z"
   },
   {
    "duration": 14,
    "start_time": "2022-02-28T20:57:54.589Z"
   },
   {
    "duration": 4,
    "start_time": "2022-02-28T20:57:54.750Z"
   },
   {
    "duration": 15,
    "start_time": "2022-02-28T20:57:54.876Z"
   },
   {
    "duration": 11,
    "start_time": "2022-02-28T20:57:55.490Z"
   },
   {
    "duration": 5,
    "start_time": "2022-02-28T20:57:55.803Z"
   },
   {
    "duration": 28,
    "start_time": "2022-02-28T20:57:56.008Z"
   },
   {
    "duration": 15,
    "start_time": "2022-02-28T20:57:56.601Z"
   },
   {
    "duration": 5,
    "start_time": "2022-02-28T20:57:56.773Z"
   },
   {
    "duration": 9,
    "start_time": "2022-02-28T20:57:56.906Z"
   },
   {
    "duration": 20,
    "start_time": "2022-02-28T20:57:58.157Z"
   },
   {
    "duration": 57,
    "start_time": "2022-02-28T20:57:58.470Z"
   },
   {
    "duration": 7,
    "start_time": "2022-02-28T20:57:58.790Z"
   },
   {
    "duration": 34,
    "start_time": "2022-02-28T20:57:59.073Z"
   },
   {
    "duration": 23,
    "start_time": "2022-02-28T20:57:59.197Z"
   },
   {
    "duration": 11,
    "start_time": "2022-02-28T20:57:59.402Z"
   },
   {
    "duration": 14,
    "start_time": "2022-02-28T20:57:59.572Z"
   },
   {
    "duration": 19,
    "start_time": "2022-02-28T20:58:01.034Z"
   },
   {
    "duration": 68,
    "start_time": "2022-02-28T20:58:01.331Z"
   },
   {
    "duration": 7,
    "start_time": "2022-02-28T20:58:01.605Z"
   },
   {
    "duration": 24,
    "start_time": "2022-02-28T20:58:01.912Z"
   },
   {
    "duration": 19,
    "start_time": "2022-02-28T20:58:02.542Z"
   },
   {
    "duration": 5,
    "start_time": "2022-02-28T20:58:02.817Z"
   },
   {
    "duration": 15,
    "start_time": "2022-02-28T20:58:02.981Z"
   },
   {
    "duration": 17,
    "start_time": "2022-02-28T20:58:04.123Z"
   },
   {
    "duration": 31,
    "start_time": "2022-02-28T20:58:05.003Z"
   },
   {
    "duration": 6,
    "start_time": "2022-02-28T20:58:05.249Z"
   },
   {
    "duration": 22,
    "start_time": "2022-02-28T20:58:05.520Z"
   },
   {
    "duration": 14,
    "start_time": "2022-02-28T20:58:05.673Z"
   },
   {
    "duration": 12,
    "start_time": "2022-02-28T20:58:06.204Z"
   },
   {
    "duration": 10,
    "start_time": "2022-02-28T20:58:06.708Z"
   },
   {
    "duration": 9,
    "start_time": "2022-02-28T20:58:06.967Z"
   },
   {
    "duration": 6,
    "start_time": "2022-02-28T20:58:07.665Z"
   },
   {
    "duration": 9,
    "start_time": "2022-02-28T20:58:08.839Z"
   },
   {
    "duration": 6,
    "start_time": "2022-02-28T20:58:08.980Z"
   },
   {
    "duration": 8,
    "start_time": "2022-02-28T20:58:09.396Z"
   },
   {
    "duration": 11,
    "start_time": "2022-02-28T20:58:09.543Z"
   },
   {
    "duration": 6,
    "start_time": "2022-02-28T20:58:10.300Z"
   },
   {
    "duration": 13,
    "start_time": "2022-02-28T20:58:12.311Z"
   },
   {
    "duration": 9,
    "start_time": "2022-02-28T20:58:12.476Z"
   },
   {
    "duration": 34,
    "start_time": "2022-02-28T20:58:13.394Z"
   },
   {
    "duration": 23,
    "start_time": "2022-02-28T20:58:13.526Z"
   },
   {
    "duration": 29,
    "start_time": "2022-02-28T20:58:13.674Z"
   },
   {
    "duration": 78,
    "start_time": "2022-02-28T20:58:14.737Z"
   },
   {
    "duration": 7,
    "start_time": "2022-02-28T20:58:26.697Z"
   },
   {
    "duration": 10,
    "start_time": "2022-02-28T21:03:17.297Z"
   },
   {
    "duration": 5,
    "start_time": "2022-02-28T21:03:17.582Z"
   },
   {
    "duration": 209,
    "start_time": "2022-02-28T21:03:17.799Z"
   },
   {
    "duration": 14,
    "start_time": "2022-02-28T21:03:18.568Z"
   },
   {
    "duration": 35,
    "start_time": "2022-02-28T21:03:19.672Z"
   },
   {
    "duration": 40,
    "start_time": "2022-02-28T21:03:20.476Z"
   },
   {
    "duration": 12,
    "start_time": "2022-02-28T21:03:20.705Z"
   },
   {
    "duration": 40,
    "start_time": "2022-02-28T21:03:21.188Z"
   },
   {
    "duration": 11,
    "start_time": "2022-02-28T21:03:21.380Z"
   },
   {
    "duration": 575,
    "start_time": "2022-02-28T21:03:22.111Z"
   },
   {
    "duration": 508,
    "start_time": "2022-02-28T21:03:22.690Z"
   },
   {
    "duration": 555,
    "start_time": "2022-02-28T21:03:23.225Z"
   },
   {
    "duration": 545,
    "start_time": "2022-02-28T21:03:23.860Z"
   },
   {
    "duration": 545,
    "start_time": "2022-02-28T21:03:24.545Z"
   },
   {
    "duration": 478,
    "start_time": "2022-02-28T21:03:25.432Z"
   },
   {
    "duration": 11,
    "start_time": "2022-02-28T21:03:26.127Z"
   },
   {
    "duration": 8,
    "start_time": "2022-02-28T21:03:29.573Z"
   },
   {
    "duration": 16,
    "start_time": "2022-02-28T21:03:33.032Z"
   },
   {
    "duration": 1263,
    "start_time": "2022-05-19T01:31:11.356Z"
   },
   {
    "duration": 1067,
    "start_time": "2022-05-19T01:31:12.622Z"
   },
   {
    "duration": 15,
    "start_time": "2022-05-19T01:31:13.691Z"
   },
   {
    "duration": 4,
    "start_time": "2022-05-19T01:31:13.708Z"
   },
   {
    "duration": 12,
    "start_time": "2022-05-19T01:31:13.714Z"
   },
   {
    "duration": 13,
    "start_time": "2022-05-19T01:31:13.728Z"
   },
   {
    "duration": 11,
    "start_time": "2022-05-19T01:31:13.744Z"
   },
   {
    "duration": 21,
    "start_time": "2022-05-19T01:31:13.756Z"
   },
   {
    "duration": 24,
    "start_time": "2022-05-19T01:31:13.778Z"
   },
   {
    "duration": 8,
    "start_time": "2022-05-19T01:31:13.805Z"
   },
   {
    "duration": 7,
    "start_time": "2022-05-19T01:31:13.815Z"
   },
   {
    "duration": 51,
    "start_time": "2022-05-19T01:31:13.824Z"
   },
   {
    "duration": 7,
    "start_time": "2022-05-19T01:31:13.877Z"
   },
   {
    "duration": 6,
    "start_time": "2022-05-19T01:31:13.886Z"
   },
   {
    "duration": 28,
    "start_time": "2022-05-19T01:31:13.893Z"
   },
   {
    "duration": 11,
    "start_time": "2022-05-19T01:31:13.923Z"
   },
   {
    "duration": 10,
    "start_time": "2022-05-19T01:31:13.936Z"
   },
   {
    "duration": 13,
    "start_time": "2022-05-19T01:31:13.975Z"
   },
   {
    "duration": 17,
    "start_time": "2022-05-19T01:31:13.990Z"
   },
   {
    "duration": 69,
    "start_time": "2022-05-19T01:31:14.009Z"
   },
   {
    "duration": 6,
    "start_time": "2022-05-19T01:31:14.080Z"
   },
   {
    "duration": 34,
    "start_time": "2022-05-19T01:31:14.088Z"
   },
   {
    "duration": 21,
    "start_time": "2022-05-19T01:31:14.123Z"
   },
   {
    "duration": 8,
    "start_time": "2022-05-19T01:31:14.146Z"
   },
   {
    "duration": 26,
    "start_time": "2022-05-19T01:31:14.156Z"
   },
   {
    "duration": 24,
    "start_time": "2022-05-19T01:31:14.184Z"
   },
   {
    "duration": 76,
    "start_time": "2022-05-19T01:31:14.210Z"
   },
   {
    "duration": 7,
    "start_time": "2022-05-19T01:31:14.290Z"
   },
   {
    "duration": 34,
    "start_time": "2022-05-19T01:31:14.299Z"
   },
   {
    "duration": 16,
    "start_time": "2022-05-19T01:31:14.335Z"
   },
   {
    "duration": 4,
    "start_time": "2022-05-19T01:31:14.374Z"
   },
   {
    "duration": 12,
    "start_time": "2022-05-19T01:31:14.380Z"
   },
   {
    "duration": 21,
    "start_time": "2022-05-19T01:31:14.394Z"
   },
   {
    "duration": 35,
    "start_time": "2022-05-19T01:31:14.417Z"
   },
   {
    "duration": 7,
    "start_time": "2022-05-19T01:31:14.476Z"
   },
   {
    "duration": 22,
    "start_time": "2022-05-19T01:31:14.485Z"
   },
   {
    "duration": 12,
    "start_time": "2022-05-19T01:31:14.509Z"
   },
   {
    "duration": 8,
    "start_time": "2022-05-19T01:31:14.523Z"
   },
   {
    "duration": 10,
    "start_time": "2022-05-19T01:31:14.533Z"
   },
   {
    "duration": 39,
    "start_time": "2022-05-19T01:31:14.544Z"
   },
   {
    "duration": 8,
    "start_time": "2022-05-19T01:31:14.584Z"
   },
   {
    "duration": 11,
    "start_time": "2022-05-19T01:31:14.593Z"
   },
   {
    "duration": 22,
    "start_time": "2022-05-19T01:31:14.606Z"
   },
   {
    "duration": 10,
    "start_time": "2022-05-19T01:31:14.629Z"
   },
   {
    "duration": 8,
    "start_time": "2022-05-19T01:31:14.641Z"
   },
   {
    "duration": 25,
    "start_time": "2022-05-19T01:31:14.651Z"
   },
   {
    "duration": 10,
    "start_time": "2022-05-19T01:31:14.677Z"
   },
   {
    "duration": 11,
    "start_time": "2022-05-19T01:31:14.689Z"
   },
   {
    "duration": 31,
    "start_time": "2022-05-19T01:31:14.702Z"
   },
   {
    "duration": 46,
    "start_time": "2022-05-19T01:31:14.735Z"
   },
   {
    "duration": 22,
    "start_time": "2022-05-19T01:31:14.783Z"
   },
   {
    "duration": 147,
    "start_time": "2022-05-19T01:31:14.806Z"
   },
   {
    "duration": 8,
    "start_time": "2022-05-19T01:31:14.956Z"
   },
   {
    "duration": 13,
    "start_time": "2022-05-19T01:31:14.965Z"
   },
   {
    "duration": 103,
    "start_time": "2022-05-19T01:31:14.980Z"
   },
   {
    "duration": 17,
    "start_time": "2022-05-19T01:31:15.085Z"
   },
   {
    "duration": 30,
    "start_time": "2022-05-19T01:31:15.104Z"
   },
   {
    "duration": 62,
    "start_time": "2022-05-19T01:31:15.136Z"
   },
   {
    "duration": 9,
    "start_time": "2022-05-19T01:31:15.200Z"
   },
   {
    "duration": 30,
    "start_time": "2022-05-19T01:31:15.211Z"
   },
   {
    "duration": 8,
    "start_time": "2022-05-19T01:31:15.244Z"
   },
   {
    "duration": 336,
    "start_time": "2022-05-19T01:31:15.275Z"
   },
   {
    "duration": 256,
    "start_time": "2022-05-19T01:31:15.613Z"
   },
   {
    "duration": 246,
    "start_time": "2022-05-19T01:31:15.871Z"
   },
   {
    "duration": 285,
    "start_time": "2022-05-19T01:31:16.119Z"
   },
   {
    "duration": 272,
    "start_time": "2022-05-19T01:31:16.406Z"
   },
   {
    "duration": 283,
    "start_time": "2022-05-19T01:31:16.680Z"
   },
   {
    "duration": 10,
    "start_time": "2022-05-19T01:31:16.966Z"
   },
   {
    "duration": 8,
    "start_time": "2022-05-19T01:31:16.978Z"
   },
   {
    "duration": 12,
    "start_time": "2022-05-19T01:31:16.987Z"
   },
   {
    "duration": 3,
    "start_time": "2022-05-19T01:31:39.255Z"
   },
   {
    "duration": 385,
    "start_time": "2022-05-19T01:31:39.261Z"
   },
   {
    "duration": 13,
    "start_time": "2022-05-19T01:31:39.649Z"
   },
   {
    "duration": 21,
    "start_time": "2022-05-19T01:31:39.665Z"
   },
   {
    "duration": 35,
    "start_time": "2022-05-19T01:31:39.689Z"
   },
   {
    "duration": 33,
    "start_time": "2022-05-19T01:31:39.726Z"
   },
   {
    "duration": 25,
    "start_time": "2022-05-19T01:31:39.761Z"
   },
   {
    "duration": 16,
    "start_time": "2022-05-19T01:31:39.789Z"
   },
   {
    "duration": 60,
    "start_time": "2022-05-19T01:31:39.808Z"
   },
   {
    "duration": 23,
    "start_time": "2022-05-19T01:31:39.870Z"
   },
   {
    "duration": 17,
    "start_time": "2022-05-19T01:31:39.897Z"
   },
   {
    "duration": 51,
    "start_time": "2022-05-19T01:31:39.916Z"
   },
   {
    "duration": 28,
    "start_time": "2022-05-19T01:31:39.969Z"
   },
   {
    "duration": 35,
    "start_time": "2022-05-19T01:31:39.999Z"
   },
   {
    "duration": 38,
    "start_time": "2022-05-19T01:31:40.036Z"
   },
   {
    "duration": 30,
    "start_time": "2022-05-19T01:31:40.077Z"
   },
   {
    "duration": 21,
    "start_time": "2022-05-19T01:31:40.109Z"
   },
   {
    "duration": 32,
    "start_time": "2022-05-19T01:31:40.133Z"
   },
   {
    "duration": 46,
    "start_time": "2022-05-19T01:31:40.168Z"
   },
   {
    "duration": 112,
    "start_time": "2022-05-19T01:31:40.216Z"
   },
   {
    "duration": 11,
    "start_time": "2022-05-19T01:31:40.332Z"
   },
   {
    "duration": 58,
    "start_time": "2022-05-19T01:31:40.345Z"
   },
   {
    "duration": 22,
    "start_time": "2022-05-19T01:31:40.407Z"
   },
   {
    "duration": 35,
    "start_time": "2022-05-19T01:31:40.431Z"
   },
   {
    "duration": 25,
    "start_time": "2022-05-19T01:31:40.468Z"
   },
   {
    "duration": 37,
    "start_time": "2022-05-19T01:31:40.495Z"
   },
   {
    "duration": 98,
    "start_time": "2022-05-19T01:31:40.534Z"
   },
   {
    "duration": 6,
    "start_time": "2022-05-19T01:31:40.634Z"
   },
   {
    "duration": 45,
    "start_time": "2022-05-19T01:31:40.645Z"
   },
   {
    "duration": 29,
    "start_time": "2022-05-19T01:31:40.693Z"
   },
   {
    "duration": 7,
    "start_time": "2022-05-19T01:31:40.724Z"
   },
   {
    "duration": 36,
    "start_time": "2022-05-19T01:31:40.733Z"
   },
   {
    "duration": 39,
    "start_time": "2022-05-19T01:31:40.771Z"
   },
   {
    "duration": 51,
    "start_time": "2022-05-19T01:31:40.811Z"
   },
   {
    "duration": 10,
    "start_time": "2022-05-19T01:31:40.866Z"
   },
   {
    "duration": 35,
    "start_time": "2022-05-19T01:31:40.879Z"
   },
   {
    "duration": 23,
    "start_time": "2022-05-19T01:31:40.916Z"
   },
   {
    "duration": 36,
    "start_time": "2022-05-19T01:31:40.942Z"
   },
   {
    "duration": 40,
    "start_time": "2022-05-19T01:31:40.982Z"
   },
   {
    "duration": 21,
    "start_time": "2022-05-19T01:31:41.024Z"
   },
   {
    "duration": 48,
    "start_time": "2022-05-19T01:31:41.048Z"
   },
   {
    "duration": 39,
    "start_time": "2022-05-19T01:31:41.099Z"
   },
   {
    "duration": 14,
    "start_time": "2022-05-19T01:31:41.139Z"
   },
   {
    "duration": 23,
    "start_time": "2022-05-19T01:31:41.155Z"
   },
   {
    "duration": 22,
    "start_time": "2022-05-19T01:31:41.180Z"
   },
   {
    "duration": 45,
    "start_time": "2022-05-19T01:31:41.205Z"
   },
   {
    "duration": 33,
    "start_time": "2022-05-19T01:31:41.253Z"
   },
   {
    "duration": 65,
    "start_time": "2022-05-19T01:31:41.288Z"
   },
   {
    "duration": 64,
    "start_time": "2022-05-19T01:31:41.356Z"
   },
   {
    "duration": 67,
    "start_time": "2022-05-19T01:31:41.423Z"
   },
   {
    "duration": 55,
    "start_time": "2022-05-19T01:31:41.492Z"
   },
   {
    "duration": 197,
    "start_time": "2022-05-19T01:31:41.549Z"
   },
   {
    "duration": 9,
    "start_time": "2022-05-19T01:31:41.748Z"
   },
   {
    "duration": 20,
    "start_time": "2022-05-19T01:31:41.759Z"
   },
   {
    "duration": 151,
    "start_time": "2022-05-19T01:31:41.781Z"
   },
   {
    "duration": 19,
    "start_time": "2022-05-19T01:31:41.935Z"
   },
   {
    "duration": 49,
    "start_time": "2022-05-19T01:31:41.956Z"
   },
   {
    "duration": 47,
    "start_time": "2022-05-19T01:31:42.007Z"
   },
   {
    "duration": 23,
    "start_time": "2022-05-19T01:31:42.056Z"
   },
   {
    "duration": 44,
    "start_time": "2022-05-19T01:31:42.081Z"
   },
   {
    "duration": 9,
    "start_time": "2022-05-19T01:31:42.127Z"
   },
   {
    "duration": 378,
    "start_time": "2022-05-19T01:31:42.138Z"
   },
   {
    "duration": 314,
    "start_time": "2022-05-19T01:31:42.518Z"
   },
   {
    "duration": 351,
    "start_time": "2022-05-19T01:31:42.834Z"
   },
   {
    "duration": 307,
    "start_time": "2022-05-19T01:31:43.189Z"
   },
   {
    "duration": 352,
    "start_time": "2022-05-19T01:31:43.498Z"
   },
   {
    "duration": 335,
    "start_time": "2022-05-19T01:31:43.852Z"
   },
   {
    "duration": 18,
    "start_time": "2022-05-19T01:31:44.189Z"
   },
   {
    "duration": 14,
    "start_time": "2022-05-19T01:31:44.210Z"
   },
   {
    "duration": 27,
    "start_time": "2022-05-19T01:31:44.227Z"
   }
  ],
  "colab": {
   "name": "Analyzing Phone Plans.ipynb",
   "provenance": []
  },
  "kernelspec": {
   "display_name": "Python 3 (ipykernel)",
   "language": "python",
   "name": "python3"
  },
  "language_info": {
   "codemirror_mode": {
    "name": "ipython",
    "version": 3
   },
   "file_extension": ".py",
   "mimetype": "text/x-python",
   "name": "python",
   "nbconvert_exporter": "python",
   "pygments_lexer": "ipython3",
   "version": "3.9.7"
  },
  "toc": {
   "base_numbering": 1,
   "nav_menu": {},
   "number_sections": true,
   "sideBar": true,
   "skip_h1_title": true,
   "title_cell": "Table of Contents",
   "title_sidebar": "Contents",
   "toc_cell": false,
   "toc_position": {},
   "toc_section_display": true,
   "toc_window_display": false
  }
 },
 "nbformat": 4,
 "nbformat_minor": 1
}
