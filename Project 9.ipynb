{
 "cells": [
  {
   "cell_type": "markdown",
   "metadata": {
    "id": "0CP880NXvk5V"
   },
   "source": [
    "# Optimization of Gold Recovery Process"
   ]
  },
  {
   "cell_type": "markdown",
   "metadata": {
    "id": "S27FK4UPw93v"
   },
   "source": [
    "# Content\n",
    "* [Introduction](#intro)\n",
    "* [Initialization](#initialization)\n",
    "* [Data Exploration](#data_exploration)\n",
    "  * [`df_train`](#df_train)\n",
    "    * [Conclusion](#conclusion)\n",
    "  * [`df_test`](#df_test)\n",
    "    * [Conclusion](#conclusion)\n",
    "  * [`df_full`](#df_full)\n",
    "    * [Conclusion](#conclusion)\n",
    "  * [Recovery and MAE calculation](#recovery_MAE)\n",
    "  * [Analyzing features](#analyzing)\n",
    "* [Data Preprocessing](#data_preprocessing)\n",
    "  * [Missing values](#missing_values)\n",
    "  * [Converting data type](#converting)\n",
    "  * [Conclusion](#conclusion)\n",
    "* [Data Analysis](#data_analysis)\n",
    "  * [Distribution of concentrations of metals (Au, Ag, Pb) across purification stage](#distribution)\n",
    "  * [Comparing feed particle size distributions](#coparing_feed_particle)\n",
    "    * [Conclusion](#conclusion)\n",
    "  * [Distribution of total concentrations of all substances at different stages](#distribution_of_total_conc)\n",
    "    * [Conclusion](#conclusion)\n",
    "* [Model Building](#model_building)\n",
    "  * [Conclusion](#conclusion)\n",
    "* [Findings](#findings)\n"
   ]
  },
  {
   "cell_type": "markdown",
   "metadata": {
    "id": "EjgAYa86xBYZ"
   },
   "source": [
    "## Introduction \n",
    "\n",
    "Zyfra, a company that develops efficiency solutions for heavy industry, wants to develop a model to predict the amount of gold recovered from gold ore. Mined ore undergoes primary processing to get the ore mixture (rougher feed) for floatation. The gold ore mixture is fed into the float banks to obtain rougher Au concentrate and rougher tails. The rougher concentrate then undergoes two stages of purification. After purification, we have the final concentrate and new tails. The model created will help optimize the production and eliminate unprofitable parameters.\n",
    "\n",
    "**Data Description:**\n",
    "* **Technological process**\n",
    "  * Rougher feed — raw material\n",
    "  * Rougher additions (or reagent additions) — flotation reagents: Xanthate, Sulphate, Depressant\n",
    "    * Xanthate — promoter or flotation activator;\n",
    "    * Sulphate — sodium sulphide for this particular process;\n",
    "    * Depressant — sodium silicate.\n",
    "  * Rougher process — flotation\n",
    "  * Rougher tails — product residues\n",
    "  * Float banks — flotation unit\n",
    "  * Cleaner process — purification\n",
    "  * Rougher Au — rougher gold concentrate\n",
    "  * Final Au — final gold concentrate\n",
    "* **Parameters of stages**\n",
    "  * air amount — volume of air\n",
    "  * fluid levels\n",
    "  * feed size — feed particle size\n",
    "  * feed rat\n",
    "\n",
    "**Objectives:**\n",
    "* Calculate recovery for the `rougher.output.recovery` feature and find MAE between the calculations and feature values\n",
    "* Compare changes for concentrations of metals (Au, Ag, Pb) during the purification stage\n",
    "* Compare feed particle size distributions in training and test set\n",
    "* Compare total concentrations of all substances at different stages (raw feed, rougher concentrate, and final concentrate) to find any abnormal values in total distribution\n",
    "* Calculate the final sMAPE value \n",
    "* Train different models and evaluate them using cross-validation. Pick the best model"
   ]
  },
  {
   "cell_type": "markdown",
   "metadata": {
    "id": "R-eol4UK2Qw2"
   },
   "source": [
    "## Initialization \n"
   ]
  },
  {
   "cell_type": "code",
   "execution_count": 572,
   "metadata": {
    "id": "zvK9amoG2UEf"
   },
   "outputs": [],
   "source": [
    "# Loading all librairies \n",
    "import pandas as pd\n",
    "import numpy as np\n",
    "import seaborn as sns\n",
    "import matplotlib.pyplot as plt\n",
    "from sklearn.metrics import mean_absolute_error, make_scorer\n",
    "from sklearn.preprocessing import StandardScaler\n",
    "from sklearn.dummy import DummyRegressor\n",
    "from sklearn.linear_model import LinearRegression\n",
    "from sklearn.model_selection import cross_val_score\n",
    "from sklearn.tree import DecisionTreeRegressor\n",
    "from sklearn.ensemble import RandomForestRegressor\n",
    "from sklearn.model_selection import GridSearchCV\n",
    "from sklearn.pipeline import Pipeline"
   ]
  },
  {
   "cell_type": "code",
   "execution_count": 573,
   "metadata": {
    "id": "tqwN1_3r2yYE"
   },
   "outputs": [],
   "source": [
    "\n",
    "# Loading the data\n",
    "try:\n",
    "  df_train = pd.read_csv('gold_recovery_train.csv')\n",
    "  df_test = pd.read_csv('gold_recovery_test.csv')\n",
    "  df_full = pd.read_csv('gold_recovery_full.csv')\n",
    "except:\n",
    "  df_train = pd.read_csv('/datasets/gold_recovery_train.csv')\n",
    "  df_test = pd.read_csv('/datasets/gold_recovery_test.csv')\n",
    "  df_full = pd.read_csv('/datasets/gold_recovery_full.csv')"
   ]
  },
  {
   "cell_type": "markdown",
   "metadata": {
    "id": "Qon8RAEX462G"
   },
   "source": [
    "## Data Exploration "
   ]
  },
  {
   "cell_type": "markdown",
   "metadata": {
    "id": "k3L2a6fG5B2v"
   },
   "source": [
    "### `df_train`"
   ]
  },
  {
   "cell_type": "code",
   "execution_count": 574,
   "metadata": {
    "colab": {
     "base_uri": "https://localhost:8080/",
     "height": 473
    },
    "id": "r68lcxGv48yG",
    "outputId": "6b851a75-5871-4716-8c9b-f2b469b29b4e"
   },
   "outputs": [
    {
     "data": {
      "text/html": [
       "<div>\n",
       "<style scoped>\n",
       "    .dataframe tbody tr th:only-of-type {\n",
       "        vertical-align: middle;\n",
       "    }\n",
       "\n",
       "    .dataframe tbody tr th {\n",
       "        vertical-align: top;\n",
       "    }\n",
       "\n",
       "    .dataframe thead th {\n",
       "        text-align: right;\n",
       "    }\n",
       "</style>\n",
       "<table border=\"1\" class=\"dataframe\">\n",
       "  <thead>\n",
       "    <tr style=\"text-align: right;\">\n",
       "      <th></th>\n",
       "      <th>date</th>\n",
       "      <th>final.output.concentrate_ag</th>\n",
       "      <th>final.output.concentrate_pb</th>\n",
       "      <th>final.output.concentrate_sol</th>\n",
       "      <th>final.output.concentrate_au</th>\n",
       "      <th>final.output.recovery</th>\n",
       "      <th>final.output.tail_ag</th>\n",
       "      <th>final.output.tail_pb</th>\n",
       "      <th>final.output.tail_sol</th>\n",
       "      <th>final.output.tail_au</th>\n",
       "      <th>...</th>\n",
       "      <th>secondary_cleaner.state.floatbank4_a_air</th>\n",
       "      <th>secondary_cleaner.state.floatbank4_a_level</th>\n",
       "      <th>secondary_cleaner.state.floatbank4_b_air</th>\n",
       "      <th>secondary_cleaner.state.floatbank4_b_level</th>\n",
       "      <th>secondary_cleaner.state.floatbank5_a_air</th>\n",
       "      <th>secondary_cleaner.state.floatbank5_a_level</th>\n",
       "      <th>secondary_cleaner.state.floatbank5_b_air</th>\n",
       "      <th>secondary_cleaner.state.floatbank5_b_level</th>\n",
       "      <th>secondary_cleaner.state.floatbank6_a_air</th>\n",
       "      <th>secondary_cleaner.state.floatbank6_a_level</th>\n",
       "    </tr>\n",
       "  </thead>\n",
       "  <tbody>\n",
       "    <tr>\n",
       "      <th>0</th>\n",
       "      <td>2016-01-15 00:00:00</td>\n",
       "      <td>6.055403</td>\n",
       "      <td>9.889648</td>\n",
       "      <td>5.507324</td>\n",
       "      <td>42.192020</td>\n",
       "      <td>70.541216</td>\n",
       "      <td>10.411962</td>\n",
       "      <td>0.895447</td>\n",
       "      <td>16.904297</td>\n",
       "      <td>2.143149</td>\n",
       "      <td>...</td>\n",
       "      <td>14.016835</td>\n",
       "      <td>-502.488007</td>\n",
       "      <td>12.099931</td>\n",
       "      <td>-504.715942</td>\n",
       "      <td>9.925633</td>\n",
       "      <td>-498.310211</td>\n",
       "      <td>8.079666</td>\n",
       "      <td>-500.470978</td>\n",
       "      <td>14.151341</td>\n",
       "      <td>-605.841980</td>\n",
       "    </tr>\n",
       "    <tr>\n",
       "      <th>1</th>\n",
       "      <td>2016-01-15 01:00:00</td>\n",
       "      <td>6.029369</td>\n",
       "      <td>9.968944</td>\n",
       "      <td>5.257781</td>\n",
       "      <td>42.701629</td>\n",
       "      <td>69.266198</td>\n",
       "      <td>10.462676</td>\n",
       "      <td>0.927452</td>\n",
       "      <td>16.634514</td>\n",
       "      <td>2.224930</td>\n",
       "      <td>...</td>\n",
       "      <td>13.992281</td>\n",
       "      <td>-505.503262</td>\n",
       "      <td>11.950531</td>\n",
       "      <td>-501.331529</td>\n",
       "      <td>10.039245</td>\n",
       "      <td>-500.169983</td>\n",
       "      <td>7.984757</td>\n",
       "      <td>-500.582168</td>\n",
       "      <td>13.998353</td>\n",
       "      <td>-599.787184</td>\n",
       "    </tr>\n",
       "    <tr>\n",
       "      <th>2</th>\n",
       "      <td>2016-01-15 02:00:00</td>\n",
       "      <td>6.055926</td>\n",
       "      <td>10.213995</td>\n",
       "      <td>5.383759</td>\n",
       "      <td>42.657501</td>\n",
       "      <td>68.116445</td>\n",
       "      <td>10.507046</td>\n",
       "      <td>0.953716</td>\n",
       "      <td>16.208849</td>\n",
       "      <td>2.257889</td>\n",
       "      <td>...</td>\n",
       "      <td>14.015015</td>\n",
       "      <td>-502.520901</td>\n",
       "      <td>11.912783</td>\n",
       "      <td>-501.133383</td>\n",
       "      <td>10.070913</td>\n",
       "      <td>-500.129135</td>\n",
       "      <td>8.013877</td>\n",
       "      <td>-500.517572</td>\n",
       "      <td>14.028663</td>\n",
       "      <td>-601.427363</td>\n",
       "    </tr>\n",
       "    <tr>\n",
       "      <th>3</th>\n",
       "      <td>2016-01-15 03:00:00</td>\n",
       "      <td>6.047977</td>\n",
       "      <td>9.977019</td>\n",
       "      <td>4.858634</td>\n",
       "      <td>42.689819</td>\n",
       "      <td>68.347543</td>\n",
       "      <td>10.422762</td>\n",
       "      <td>0.883763</td>\n",
       "      <td>16.532835</td>\n",
       "      <td>2.146849</td>\n",
       "      <td>...</td>\n",
       "      <td>14.036510</td>\n",
       "      <td>-500.857308</td>\n",
       "      <td>11.999550</td>\n",
       "      <td>-501.193686</td>\n",
       "      <td>9.970366</td>\n",
       "      <td>-499.201640</td>\n",
       "      <td>7.977324</td>\n",
       "      <td>-500.255908</td>\n",
       "      <td>14.005551</td>\n",
       "      <td>-599.996129</td>\n",
       "    </tr>\n",
       "    <tr>\n",
       "      <th>4</th>\n",
       "      <td>2016-01-15 04:00:00</td>\n",
       "      <td>6.148599</td>\n",
       "      <td>10.142511</td>\n",
       "      <td>4.939416</td>\n",
       "      <td>42.774141</td>\n",
       "      <td>66.927016</td>\n",
       "      <td>10.360302</td>\n",
       "      <td>0.792826</td>\n",
       "      <td>16.525686</td>\n",
       "      <td>2.055292</td>\n",
       "      <td>...</td>\n",
       "      <td>14.027298</td>\n",
       "      <td>-499.838632</td>\n",
       "      <td>11.953070</td>\n",
       "      <td>-501.053894</td>\n",
       "      <td>9.925709</td>\n",
       "      <td>-501.686727</td>\n",
       "      <td>7.894242</td>\n",
       "      <td>-500.356035</td>\n",
       "      <td>13.996647</td>\n",
       "      <td>-601.496691</td>\n",
       "    </tr>\n",
       "  </tbody>\n",
       "</table>\n",
       "<p>5 rows × 87 columns</p>\n",
       "</div>"
      ],
      "text/plain": [
       "                  date  final.output.concentrate_ag  \\\n",
       "0  2016-01-15 00:00:00                     6.055403   \n",
       "1  2016-01-15 01:00:00                     6.029369   \n",
       "2  2016-01-15 02:00:00                     6.055926   \n",
       "3  2016-01-15 03:00:00                     6.047977   \n",
       "4  2016-01-15 04:00:00                     6.148599   \n",
       "\n",
       "   final.output.concentrate_pb  final.output.concentrate_sol  \\\n",
       "0                     9.889648                      5.507324   \n",
       "1                     9.968944                      5.257781   \n",
       "2                    10.213995                      5.383759   \n",
       "3                     9.977019                      4.858634   \n",
       "4                    10.142511                      4.939416   \n",
       "\n",
       "   final.output.concentrate_au  final.output.recovery  final.output.tail_ag  \\\n",
       "0                    42.192020              70.541216             10.411962   \n",
       "1                    42.701629              69.266198             10.462676   \n",
       "2                    42.657501              68.116445             10.507046   \n",
       "3                    42.689819              68.347543             10.422762   \n",
       "4                    42.774141              66.927016             10.360302   \n",
       "\n",
       "   final.output.tail_pb  final.output.tail_sol  final.output.tail_au  ...  \\\n",
       "0              0.895447              16.904297              2.143149  ...   \n",
       "1              0.927452              16.634514              2.224930  ...   \n",
       "2              0.953716              16.208849              2.257889  ...   \n",
       "3              0.883763              16.532835              2.146849  ...   \n",
       "4              0.792826              16.525686              2.055292  ...   \n",
       "\n",
       "   secondary_cleaner.state.floatbank4_a_air  \\\n",
       "0                                 14.016835   \n",
       "1                                 13.992281   \n",
       "2                                 14.015015   \n",
       "3                                 14.036510   \n",
       "4                                 14.027298   \n",
       "\n",
       "   secondary_cleaner.state.floatbank4_a_level  \\\n",
       "0                                 -502.488007   \n",
       "1                                 -505.503262   \n",
       "2                                 -502.520901   \n",
       "3                                 -500.857308   \n",
       "4                                 -499.838632   \n",
       "\n",
       "   secondary_cleaner.state.floatbank4_b_air  \\\n",
       "0                                 12.099931   \n",
       "1                                 11.950531   \n",
       "2                                 11.912783   \n",
       "3                                 11.999550   \n",
       "4                                 11.953070   \n",
       "\n",
       "   secondary_cleaner.state.floatbank4_b_level  \\\n",
       "0                                 -504.715942   \n",
       "1                                 -501.331529   \n",
       "2                                 -501.133383   \n",
       "3                                 -501.193686   \n",
       "4                                 -501.053894   \n",
       "\n",
       "   secondary_cleaner.state.floatbank5_a_air  \\\n",
       "0                                  9.925633   \n",
       "1                                 10.039245   \n",
       "2                                 10.070913   \n",
       "3                                  9.970366   \n",
       "4                                  9.925709   \n",
       "\n",
       "   secondary_cleaner.state.floatbank5_a_level  \\\n",
       "0                                 -498.310211   \n",
       "1                                 -500.169983   \n",
       "2                                 -500.129135   \n",
       "3                                 -499.201640   \n",
       "4                                 -501.686727   \n",
       "\n",
       "   secondary_cleaner.state.floatbank5_b_air  \\\n",
       "0                                  8.079666   \n",
       "1                                  7.984757   \n",
       "2                                  8.013877   \n",
       "3                                  7.977324   \n",
       "4                                  7.894242   \n",
       "\n",
       "   secondary_cleaner.state.floatbank5_b_level  \\\n",
       "0                                 -500.470978   \n",
       "1                                 -500.582168   \n",
       "2                                 -500.517572   \n",
       "3                                 -500.255908   \n",
       "4                                 -500.356035   \n",
       "\n",
       "   secondary_cleaner.state.floatbank6_a_air  \\\n",
       "0                                 14.151341   \n",
       "1                                 13.998353   \n",
       "2                                 14.028663   \n",
       "3                                 14.005551   \n",
       "4                                 13.996647   \n",
       "\n",
       "   secondary_cleaner.state.floatbank6_a_level  \n",
       "0                                 -605.841980  \n",
       "1                                 -599.787184  \n",
       "2                                 -601.427363  \n",
       "3                                 -599.996129  \n",
       "4                                 -601.496691  \n",
       "\n",
       "[5 rows x 87 columns]"
      ]
     },
     "execution_count": 574,
     "metadata": {},
     "output_type": "execute_result"
    }
   ],
   "source": [
    "# Obtaining the first 5 rows of the table\n",
    "df_train.head()"
   ]
  },
  {
   "cell_type": "code",
   "execution_count": 575,
   "metadata": {
    "colab": {
     "base_uri": "https://localhost:8080/"
    },
    "id": "CdxOcNgU56He",
    "outputId": "446b07b0-1ac4-4b92-8499-31cc74165bca"
   },
   "outputs": [
    {
     "name": "stdout",
     "output_type": "stream",
     "text": [
      "df_train has 16860 rows and 87 columns\n"
     ]
    }
   ],
   "source": [
    "# Obtaining number of rows and columns\n",
    "shape = df_train.shape\n",
    "print('df_train has {} rows and {} columns'.format(shape[0], shape[1]))"
   ]
  },
  {
   "cell_type": "code",
   "execution_count": 576,
   "metadata": {
    "colab": {
     "base_uri": "https://localhost:8080/"
    },
    "id": "zxaAAdLx6K9Y",
    "outputId": "c6c0f72b-af5e-4751-f1ce-c23f4b88da9c"
   },
   "outputs": [
    {
     "name": "stdout",
     "output_type": "stream",
     "text": [
      "<class 'pandas.core.frame.DataFrame'>\n",
      "RangeIndex: 16860 entries, 0 to 16859\n",
      "Data columns (total 87 columns):\n",
      " #   Column                                              Non-Null Count  Dtype  \n",
      "---  ------                                              --------------  -----  \n",
      " 0   date                                                16860 non-null  object \n",
      " 1   final.output.concentrate_ag                         16788 non-null  float64\n",
      " 2   final.output.concentrate_pb                         16788 non-null  float64\n",
      " 3   final.output.concentrate_sol                        16490 non-null  float64\n",
      " 4   final.output.concentrate_au                         16789 non-null  float64\n",
      " 5   final.output.recovery                               15339 non-null  float64\n",
      " 6   final.output.tail_ag                                16794 non-null  float64\n",
      " 7   final.output.tail_pb                                16677 non-null  float64\n",
      " 8   final.output.tail_sol                               16715 non-null  float64\n",
      " 9   final.output.tail_au                                16794 non-null  float64\n",
      " 10  primary_cleaner.input.sulfate                       15553 non-null  float64\n",
      " 11  primary_cleaner.input.depressant                    15598 non-null  float64\n",
      " 12  primary_cleaner.input.feed_size                     16860 non-null  float64\n",
      " 13  primary_cleaner.input.xanthate                      15875 non-null  float64\n",
      " 14  primary_cleaner.output.concentrate_ag               16778 non-null  float64\n",
      " 15  primary_cleaner.output.concentrate_pb               16502 non-null  float64\n",
      " 16  primary_cleaner.output.concentrate_sol              16224 non-null  float64\n",
      " 17  primary_cleaner.output.concentrate_au               16778 non-null  float64\n",
      " 18  primary_cleaner.output.tail_ag                      16777 non-null  float64\n",
      " 19  primary_cleaner.output.tail_pb                      16761 non-null  float64\n",
      " 20  primary_cleaner.output.tail_sol                     16579 non-null  float64\n",
      " 21  primary_cleaner.output.tail_au                      16777 non-null  float64\n",
      " 22  primary_cleaner.state.floatbank8_a_air              16820 non-null  float64\n",
      " 23  primary_cleaner.state.floatbank8_a_level            16827 non-null  float64\n",
      " 24  primary_cleaner.state.floatbank8_b_air              16820 non-null  float64\n",
      " 25  primary_cleaner.state.floatbank8_b_level            16833 non-null  float64\n",
      " 26  primary_cleaner.state.floatbank8_c_air              16822 non-null  float64\n",
      " 27  primary_cleaner.state.floatbank8_c_level            16833 non-null  float64\n",
      " 28  primary_cleaner.state.floatbank8_d_air              16821 non-null  float64\n",
      " 29  primary_cleaner.state.floatbank8_d_level            16833 non-null  float64\n",
      " 30  rougher.calculation.sulfate_to_au_concentrate       16833 non-null  float64\n",
      " 31  rougher.calculation.floatbank10_sulfate_to_au_feed  16833 non-null  float64\n",
      " 32  rougher.calculation.floatbank11_sulfate_to_au_feed  16833 non-null  float64\n",
      " 33  rougher.calculation.au_pb_ratio                     15618 non-null  float64\n",
      " 34  rougher.input.feed_ag                               16778 non-null  float64\n",
      " 35  rougher.input.feed_pb                               16632 non-null  float64\n",
      " 36  rougher.input.feed_rate                             16347 non-null  float64\n",
      " 37  rougher.input.feed_size                             16443 non-null  float64\n",
      " 38  rougher.input.feed_sol                              16568 non-null  float64\n",
      " 39  rougher.input.feed_au                               16777 non-null  float64\n",
      " 40  rougher.input.floatbank10_sulfate                   15816 non-null  float64\n",
      " 41  rougher.input.floatbank10_xanthate                  16514 non-null  float64\n",
      " 42  rougher.input.floatbank11_sulfate                   16237 non-null  float64\n",
      " 43  rougher.input.floatbank11_xanthate                  14956 non-null  float64\n",
      " 44  rougher.output.concentrate_ag                       16778 non-null  float64\n",
      " 45  rougher.output.concentrate_pb                       16778 non-null  float64\n",
      " 46  rougher.output.concentrate_sol                      16698 non-null  float64\n",
      " 47  rougher.output.concentrate_au                       16778 non-null  float64\n",
      " 48  rougher.output.recovery                             14287 non-null  float64\n",
      " 49  rougher.output.tail_ag                              14610 non-null  float64\n",
      " 50  rougher.output.tail_pb                              16778 non-null  float64\n",
      " 51  rougher.output.tail_sol                             14611 non-null  float64\n",
      " 52  rougher.output.tail_au                              14611 non-null  float64\n",
      " 53  rougher.state.floatbank10_a_air                     16807 non-null  float64\n",
      " 54  rougher.state.floatbank10_a_level                   16807 non-null  float64\n",
      " 55  rougher.state.floatbank10_b_air                     16807 non-null  float64\n",
      " 56  rougher.state.floatbank10_b_level                   16807 non-null  float64\n",
      " 57  rougher.state.floatbank10_c_air                     16807 non-null  float64\n",
      " 58  rougher.state.floatbank10_c_level                   16814 non-null  float64\n",
      " 59  rougher.state.floatbank10_d_air                     16802 non-null  float64\n",
      " 60  rougher.state.floatbank10_d_level                   16809 non-null  float64\n",
      " 61  rougher.state.floatbank10_e_air                     16257 non-null  float64\n",
      " 62  rougher.state.floatbank10_e_level                   16809 non-null  float64\n",
      " 63  rougher.state.floatbank10_f_air                     16802 non-null  float64\n",
      " 64  rougher.state.floatbank10_f_level                   16802 non-null  float64\n",
      " 65  secondary_cleaner.output.tail_ag                    16776 non-null  float64\n",
      " 66  secondary_cleaner.output.tail_pb                    16764 non-null  float64\n",
      " 67  secondary_cleaner.output.tail_sol                   14874 non-null  float64\n",
      " 68  secondary_cleaner.output.tail_au                    16778 non-null  float64\n",
      " 69  secondary_cleaner.state.floatbank2_a_air            16497 non-null  float64\n",
      " 70  secondary_cleaner.state.floatbank2_a_level          16751 non-null  float64\n",
      " 71  secondary_cleaner.state.floatbank2_b_air            16705 non-null  float64\n",
      " 72  secondary_cleaner.state.floatbank2_b_level          16748 non-null  float64\n",
      " 73  secondary_cleaner.state.floatbank3_a_air            16763 non-null  float64\n",
      " 74  secondary_cleaner.state.floatbank3_a_level          16747 non-null  float64\n",
      " 75  secondary_cleaner.state.floatbank3_b_air            16752 non-null  float64\n",
      " 76  secondary_cleaner.state.floatbank3_b_level          16750 non-null  float64\n",
      " 77  secondary_cleaner.state.floatbank4_a_air            16731 non-null  float64\n",
      " 78  secondary_cleaner.state.floatbank4_a_level          16747 non-null  float64\n",
      " 79  secondary_cleaner.state.floatbank4_b_air            16768 non-null  float64\n",
      " 80  secondary_cleaner.state.floatbank4_b_level          16767 non-null  float64\n",
      " 81  secondary_cleaner.state.floatbank5_a_air            16775 non-null  float64\n",
      " 82  secondary_cleaner.state.floatbank5_a_level          16775 non-null  float64\n",
      " 83  secondary_cleaner.state.floatbank5_b_air            16775 non-null  float64\n",
      " 84  secondary_cleaner.state.floatbank5_b_level          16776 non-null  float64\n",
      " 85  secondary_cleaner.state.floatbank6_a_air            16757 non-null  float64\n",
      " 86  secondary_cleaner.state.floatbank6_a_level          16775 non-null  float64\n",
      "dtypes: float64(86), object(1)\n",
      "memory usage: 11.2+ MB\n"
     ]
    }
   ],
   "source": [
    "# Obtaining general info about the table\n",
    "df_train.info()"
   ]
  },
  {
   "cell_type": "markdown",
   "metadata": {
    "id": "N4ymecdL6dF9"
   },
   "source": [
    "Since there are supposed to be 16,860 rows for each column, we can see that `df_train` contains missing values. "
   ]
  },
  {
   "cell_type": "code",
   "execution_count": 577,
   "metadata": {
    "colab": {
     "base_uri": "https://localhost:8080/"
    },
    "id": "v1vop9xc6orY",
    "outputId": "d5c373d8-10e1-4088-afd9-c00b0e8e9f4d"
   },
   "outputs": [
    {
     "name": "stdout",
     "output_type": "stream",
     "text": [
      "                                                    missing values      %\n",
      "rougher.output.recovery                                       2573  15.26\n",
      "rougher.output.tail_ag                                        2250  13.35\n",
      "rougher.output.tail_sol                                       2249  13.34\n",
      "rougher.output.tail_au                                        2249  13.34\n",
      "secondary_cleaner.output.tail_sol                             1986  11.78\n",
      "...                                                            ...    ...\n",
      "primary_cleaner.state.floatbank8_d_level                        27   0.16\n",
      "rougher.calculation.floatbank10_sulfate_to_au_feed              27   0.16\n",
      "rougher.calculation.floatbank11_sulfate_to_au_feed              27   0.16\n",
      "primary_cleaner.input.feed_size                                  0   0.00\n",
      "date                                                             0   0.00\n",
      "\n",
      "[87 rows x 2 columns]\n"
     ]
    }
   ],
   "source": [
    "# Percentage of missing values per column \n",
    "df_train_mis = df_train.isna().sum().to_frame('missing values')\n",
    "df_train_mis['%'] = round(100 * df_train.isna().sum()/len(df_train), 2)\n",
    "print(df_train_mis.sort_values(by='%', ascending=False))"
   ]
  },
  {
   "cell_type": "code",
   "execution_count": 578,
   "metadata": {
    "colab": {
     "base_uri": "https://localhost:8080/"
    },
    "id": "gXbW0Hax9bzC",
    "outputId": "a6b70d1e-466a-4430-e6a7-dd5a713fd07e"
   },
   "outputs": [
    {
     "data": {
      "text/plain": [
       "0"
      ]
     },
     "execution_count": 578,
     "metadata": {},
     "output_type": "execute_result"
    }
   ],
   "source": [
    "# Checking for duplicates\n",
    "df_train.duplicated().sum()"
   ]
  },
  {
   "cell_type": "markdown",
   "metadata": {
    "id": "ACVoSjQc9mI7"
   },
   "source": [
    "#### Conclusion\n",
    "\n",
    "The `df_train` dataset contains 16,860 rows and 87 columns. There are no duplicates, but there are missing values in this dataset. The `date` column is in object type, but needs to converted to datetime. "
   ]
  },
  {
   "cell_type": "markdown",
   "metadata": {
    "id": "GP-oaeZK9gtj"
   },
   "source": [
    "### `df_test`"
   ]
  },
  {
   "cell_type": "code",
   "execution_count": 579,
   "metadata": {
    "colab": {
     "base_uri": "https://localhost:8080/",
     "height": 473
    },
    "id": "Z7yzVqXT9kKn",
    "outputId": "7cd55f29-cc25-430f-cff2-d7256eafc654"
   },
   "outputs": [
    {
     "data": {
      "text/html": [
       "<div>\n",
       "<style scoped>\n",
       "    .dataframe tbody tr th:only-of-type {\n",
       "        vertical-align: middle;\n",
       "    }\n",
       "\n",
       "    .dataframe tbody tr th {\n",
       "        vertical-align: top;\n",
       "    }\n",
       "\n",
       "    .dataframe thead th {\n",
       "        text-align: right;\n",
       "    }\n",
       "</style>\n",
       "<table border=\"1\" class=\"dataframe\">\n",
       "  <thead>\n",
       "    <tr style=\"text-align: right;\">\n",
       "      <th></th>\n",
       "      <th>date</th>\n",
       "      <th>primary_cleaner.input.sulfate</th>\n",
       "      <th>primary_cleaner.input.depressant</th>\n",
       "      <th>primary_cleaner.input.feed_size</th>\n",
       "      <th>primary_cleaner.input.xanthate</th>\n",
       "      <th>primary_cleaner.state.floatbank8_a_air</th>\n",
       "      <th>primary_cleaner.state.floatbank8_a_level</th>\n",
       "      <th>primary_cleaner.state.floatbank8_b_air</th>\n",
       "      <th>primary_cleaner.state.floatbank8_b_level</th>\n",
       "      <th>primary_cleaner.state.floatbank8_c_air</th>\n",
       "      <th>...</th>\n",
       "      <th>secondary_cleaner.state.floatbank4_a_air</th>\n",
       "      <th>secondary_cleaner.state.floatbank4_a_level</th>\n",
       "      <th>secondary_cleaner.state.floatbank4_b_air</th>\n",
       "      <th>secondary_cleaner.state.floatbank4_b_level</th>\n",
       "      <th>secondary_cleaner.state.floatbank5_a_air</th>\n",
       "      <th>secondary_cleaner.state.floatbank5_a_level</th>\n",
       "      <th>secondary_cleaner.state.floatbank5_b_air</th>\n",
       "      <th>secondary_cleaner.state.floatbank5_b_level</th>\n",
       "      <th>secondary_cleaner.state.floatbank6_a_air</th>\n",
       "      <th>secondary_cleaner.state.floatbank6_a_level</th>\n",
       "    </tr>\n",
       "  </thead>\n",
       "  <tbody>\n",
       "    <tr>\n",
       "      <th>0</th>\n",
       "      <td>2016-09-01 00:59:59</td>\n",
       "      <td>210.800909</td>\n",
       "      <td>14.993118</td>\n",
       "      <td>8.080000</td>\n",
       "      <td>1.005021</td>\n",
       "      <td>1398.981301</td>\n",
       "      <td>-500.225577</td>\n",
       "      <td>1399.144926</td>\n",
       "      <td>-499.919735</td>\n",
       "      <td>1400.102998</td>\n",
       "      <td>...</td>\n",
       "      <td>12.023554</td>\n",
       "      <td>-497.795834</td>\n",
       "      <td>8.016656</td>\n",
       "      <td>-501.289139</td>\n",
       "      <td>7.946562</td>\n",
       "      <td>-432.317850</td>\n",
       "      <td>4.872511</td>\n",
       "      <td>-500.037437</td>\n",
       "      <td>26.705889</td>\n",
       "      <td>-499.709414</td>\n",
       "    </tr>\n",
       "    <tr>\n",
       "      <th>1</th>\n",
       "      <td>2016-09-01 01:59:59</td>\n",
       "      <td>215.392455</td>\n",
       "      <td>14.987471</td>\n",
       "      <td>8.080000</td>\n",
       "      <td>0.990469</td>\n",
       "      <td>1398.777912</td>\n",
       "      <td>-500.057435</td>\n",
       "      <td>1398.055362</td>\n",
       "      <td>-499.778182</td>\n",
       "      <td>1396.151033</td>\n",
       "      <td>...</td>\n",
       "      <td>12.058140</td>\n",
       "      <td>-498.695773</td>\n",
       "      <td>8.130979</td>\n",
       "      <td>-499.634209</td>\n",
       "      <td>7.958270</td>\n",
       "      <td>-525.839648</td>\n",
       "      <td>4.878850</td>\n",
       "      <td>-500.162375</td>\n",
       "      <td>25.019940</td>\n",
       "      <td>-499.819438</td>\n",
       "    </tr>\n",
       "    <tr>\n",
       "      <th>2</th>\n",
       "      <td>2016-09-01 02:59:59</td>\n",
       "      <td>215.259946</td>\n",
       "      <td>12.884934</td>\n",
       "      <td>7.786667</td>\n",
       "      <td>0.996043</td>\n",
       "      <td>1398.493666</td>\n",
       "      <td>-500.868360</td>\n",
       "      <td>1398.860436</td>\n",
       "      <td>-499.764529</td>\n",
       "      <td>1398.075709</td>\n",
       "      <td>...</td>\n",
       "      <td>11.962366</td>\n",
       "      <td>-498.767484</td>\n",
       "      <td>8.096893</td>\n",
       "      <td>-500.827423</td>\n",
       "      <td>8.071056</td>\n",
       "      <td>-500.801673</td>\n",
       "      <td>4.905125</td>\n",
       "      <td>-499.828510</td>\n",
       "      <td>24.994862</td>\n",
       "      <td>-500.622559</td>\n",
       "    </tr>\n",
       "    <tr>\n",
       "      <th>3</th>\n",
       "      <td>2016-09-01 03:59:59</td>\n",
       "      <td>215.336236</td>\n",
       "      <td>12.006805</td>\n",
       "      <td>7.640000</td>\n",
       "      <td>0.863514</td>\n",
       "      <td>1399.618111</td>\n",
       "      <td>-498.863574</td>\n",
       "      <td>1397.440120</td>\n",
       "      <td>-499.211024</td>\n",
       "      <td>1400.129303</td>\n",
       "      <td>...</td>\n",
       "      <td>12.033091</td>\n",
       "      <td>-498.350935</td>\n",
       "      <td>8.074946</td>\n",
       "      <td>-499.474407</td>\n",
       "      <td>7.897085</td>\n",
       "      <td>-500.868509</td>\n",
       "      <td>4.931400</td>\n",
       "      <td>-499.963623</td>\n",
       "      <td>24.948919</td>\n",
       "      <td>-498.709987</td>\n",
       "    </tr>\n",
       "    <tr>\n",
       "      <th>4</th>\n",
       "      <td>2016-09-01 04:59:59</td>\n",
       "      <td>199.099327</td>\n",
       "      <td>10.682530</td>\n",
       "      <td>7.530000</td>\n",
       "      <td>0.805575</td>\n",
       "      <td>1401.268123</td>\n",
       "      <td>-500.808305</td>\n",
       "      <td>1398.128818</td>\n",
       "      <td>-499.504543</td>\n",
       "      <td>1402.172226</td>\n",
       "      <td>...</td>\n",
       "      <td>12.025367</td>\n",
       "      <td>-500.786497</td>\n",
       "      <td>8.054678</td>\n",
       "      <td>-500.397500</td>\n",
       "      <td>8.107890</td>\n",
       "      <td>-509.526725</td>\n",
       "      <td>4.957674</td>\n",
       "      <td>-500.360026</td>\n",
       "      <td>25.003331</td>\n",
       "      <td>-500.856333</td>\n",
       "    </tr>\n",
       "  </tbody>\n",
       "</table>\n",
       "<p>5 rows × 53 columns</p>\n",
       "</div>"
      ],
      "text/plain": [
       "                  date  primary_cleaner.input.sulfate  \\\n",
       "0  2016-09-01 00:59:59                     210.800909   \n",
       "1  2016-09-01 01:59:59                     215.392455   \n",
       "2  2016-09-01 02:59:59                     215.259946   \n",
       "3  2016-09-01 03:59:59                     215.336236   \n",
       "4  2016-09-01 04:59:59                     199.099327   \n",
       "\n",
       "   primary_cleaner.input.depressant  primary_cleaner.input.feed_size  \\\n",
       "0                         14.993118                         8.080000   \n",
       "1                         14.987471                         8.080000   \n",
       "2                         12.884934                         7.786667   \n",
       "3                         12.006805                         7.640000   \n",
       "4                         10.682530                         7.530000   \n",
       "\n",
       "   primary_cleaner.input.xanthate  primary_cleaner.state.floatbank8_a_air  \\\n",
       "0                        1.005021                             1398.981301   \n",
       "1                        0.990469                             1398.777912   \n",
       "2                        0.996043                             1398.493666   \n",
       "3                        0.863514                             1399.618111   \n",
       "4                        0.805575                             1401.268123   \n",
       "\n",
       "   primary_cleaner.state.floatbank8_a_level  \\\n",
       "0                               -500.225577   \n",
       "1                               -500.057435   \n",
       "2                               -500.868360   \n",
       "3                               -498.863574   \n",
       "4                               -500.808305   \n",
       "\n",
       "   primary_cleaner.state.floatbank8_b_air  \\\n",
       "0                             1399.144926   \n",
       "1                             1398.055362   \n",
       "2                             1398.860436   \n",
       "3                             1397.440120   \n",
       "4                             1398.128818   \n",
       "\n",
       "   primary_cleaner.state.floatbank8_b_level  \\\n",
       "0                               -499.919735   \n",
       "1                               -499.778182   \n",
       "2                               -499.764529   \n",
       "3                               -499.211024   \n",
       "4                               -499.504543   \n",
       "\n",
       "   primary_cleaner.state.floatbank8_c_air  ...  \\\n",
       "0                             1400.102998  ...   \n",
       "1                             1396.151033  ...   \n",
       "2                             1398.075709  ...   \n",
       "3                             1400.129303  ...   \n",
       "4                             1402.172226  ...   \n",
       "\n",
       "   secondary_cleaner.state.floatbank4_a_air  \\\n",
       "0                                 12.023554   \n",
       "1                                 12.058140   \n",
       "2                                 11.962366   \n",
       "3                                 12.033091   \n",
       "4                                 12.025367   \n",
       "\n",
       "   secondary_cleaner.state.floatbank4_a_level  \\\n",
       "0                                 -497.795834   \n",
       "1                                 -498.695773   \n",
       "2                                 -498.767484   \n",
       "3                                 -498.350935   \n",
       "4                                 -500.786497   \n",
       "\n",
       "   secondary_cleaner.state.floatbank4_b_air  \\\n",
       "0                                  8.016656   \n",
       "1                                  8.130979   \n",
       "2                                  8.096893   \n",
       "3                                  8.074946   \n",
       "4                                  8.054678   \n",
       "\n",
       "   secondary_cleaner.state.floatbank4_b_level  \\\n",
       "0                                 -501.289139   \n",
       "1                                 -499.634209   \n",
       "2                                 -500.827423   \n",
       "3                                 -499.474407   \n",
       "4                                 -500.397500   \n",
       "\n",
       "   secondary_cleaner.state.floatbank5_a_air  \\\n",
       "0                                  7.946562   \n",
       "1                                  7.958270   \n",
       "2                                  8.071056   \n",
       "3                                  7.897085   \n",
       "4                                  8.107890   \n",
       "\n",
       "   secondary_cleaner.state.floatbank5_a_level  \\\n",
       "0                                 -432.317850   \n",
       "1                                 -525.839648   \n",
       "2                                 -500.801673   \n",
       "3                                 -500.868509   \n",
       "4                                 -509.526725   \n",
       "\n",
       "   secondary_cleaner.state.floatbank5_b_air  \\\n",
       "0                                  4.872511   \n",
       "1                                  4.878850   \n",
       "2                                  4.905125   \n",
       "3                                  4.931400   \n",
       "4                                  4.957674   \n",
       "\n",
       "   secondary_cleaner.state.floatbank5_b_level  \\\n",
       "0                                 -500.037437   \n",
       "1                                 -500.162375   \n",
       "2                                 -499.828510   \n",
       "3                                 -499.963623   \n",
       "4                                 -500.360026   \n",
       "\n",
       "   secondary_cleaner.state.floatbank6_a_air  \\\n",
       "0                                 26.705889   \n",
       "1                                 25.019940   \n",
       "2                                 24.994862   \n",
       "3                                 24.948919   \n",
       "4                                 25.003331   \n",
       "\n",
       "   secondary_cleaner.state.floatbank6_a_level  \n",
       "0                                 -499.709414  \n",
       "1                                 -499.819438  \n",
       "2                                 -500.622559  \n",
       "3                                 -498.709987  \n",
       "4                                 -500.856333  \n",
       "\n",
       "[5 rows x 53 columns]"
      ]
     },
     "execution_count": 579,
     "metadata": {},
     "output_type": "execute_result"
    }
   ],
   "source": [
    "# Obtaining the first 5 rows of the table\n",
    "df_test.head()"
   ]
  },
  {
   "cell_type": "code",
   "execution_count": 580,
   "metadata": {
    "colab": {
     "base_uri": "https://localhost:8080/"
    },
    "id": "J82Ae-av-cBI",
    "outputId": "a4c96835-3807-42b1-b47e-eb822fa6ba6e"
   },
   "outputs": [
    {
     "name": "stdout",
     "output_type": "stream",
     "text": [
      "df_test contains 5856 rows and 53 columns\n"
     ]
    }
   ],
   "source": [
    "# Obtaining the number of rows and columns\n",
    "shape = df_test.shape\n",
    "print('df_test contains {} rows and {} columns'.format(shape[0], shape[1]))"
   ]
  },
  {
   "cell_type": "code",
   "execution_count": 581,
   "metadata": {
    "colab": {
     "base_uri": "https://localhost:8080/"
    },
    "id": "emIgJT8k-o5l",
    "outputId": "be8cadba-5a03-4363-854e-57e1ee1ea734"
   },
   "outputs": [
    {
     "name": "stdout",
     "output_type": "stream",
     "text": [
      "<class 'pandas.core.frame.DataFrame'>\n",
      "RangeIndex: 5856 entries, 0 to 5855\n",
      "Data columns (total 53 columns):\n",
      " #   Column                                      Non-Null Count  Dtype  \n",
      "---  ------                                      --------------  -----  \n",
      " 0   date                                        5856 non-null   object \n",
      " 1   primary_cleaner.input.sulfate               5554 non-null   float64\n",
      " 2   primary_cleaner.input.depressant            5572 non-null   float64\n",
      " 3   primary_cleaner.input.feed_size             5856 non-null   float64\n",
      " 4   primary_cleaner.input.xanthate              5690 non-null   float64\n",
      " 5   primary_cleaner.state.floatbank8_a_air      5840 non-null   float64\n",
      " 6   primary_cleaner.state.floatbank8_a_level    5840 non-null   float64\n",
      " 7   primary_cleaner.state.floatbank8_b_air      5840 non-null   float64\n",
      " 8   primary_cleaner.state.floatbank8_b_level    5840 non-null   float64\n",
      " 9   primary_cleaner.state.floatbank8_c_air      5840 non-null   float64\n",
      " 10  primary_cleaner.state.floatbank8_c_level    5840 non-null   float64\n",
      " 11  primary_cleaner.state.floatbank8_d_air      5840 non-null   float64\n",
      " 12  primary_cleaner.state.floatbank8_d_level    5840 non-null   float64\n",
      " 13  rougher.input.feed_ag                       5840 non-null   float64\n",
      " 14  rougher.input.feed_pb                       5840 non-null   float64\n",
      " 15  rougher.input.feed_rate                     5816 non-null   float64\n",
      " 16  rougher.input.feed_size                     5834 non-null   float64\n",
      " 17  rougher.input.feed_sol                      5789 non-null   float64\n",
      " 18  rougher.input.feed_au                       5840 non-null   float64\n",
      " 19  rougher.input.floatbank10_sulfate           5599 non-null   float64\n",
      " 20  rougher.input.floatbank10_xanthate          5733 non-null   float64\n",
      " 21  rougher.input.floatbank11_sulfate           5801 non-null   float64\n",
      " 22  rougher.input.floatbank11_xanthate          5503 non-null   float64\n",
      " 23  rougher.state.floatbank10_a_air             5839 non-null   float64\n",
      " 24  rougher.state.floatbank10_a_level           5840 non-null   float64\n",
      " 25  rougher.state.floatbank10_b_air             5839 non-null   float64\n",
      " 26  rougher.state.floatbank10_b_level           5840 non-null   float64\n",
      " 27  rougher.state.floatbank10_c_air             5839 non-null   float64\n",
      " 28  rougher.state.floatbank10_c_level           5840 non-null   float64\n",
      " 29  rougher.state.floatbank10_d_air             5839 non-null   float64\n",
      " 30  rougher.state.floatbank10_d_level           5840 non-null   float64\n",
      " 31  rougher.state.floatbank10_e_air             5839 non-null   float64\n",
      " 32  rougher.state.floatbank10_e_level           5840 non-null   float64\n",
      " 33  rougher.state.floatbank10_f_air             5839 non-null   float64\n",
      " 34  rougher.state.floatbank10_f_level           5840 non-null   float64\n",
      " 35  secondary_cleaner.state.floatbank2_a_air    5836 non-null   float64\n",
      " 36  secondary_cleaner.state.floatbank2_a_level  5840 non-null   float64\n",
      " 37  secondary_cleaner.state.floatbank2_b_air    5833 non-null   float64\n",
      " 38  secondary_cleaner.state.floatbank2_b_level  5840 non-null   float64\n",
      " 39  secondary_cleaner.state.floatbank3_a_air    5822 non-null   float64\n",
      " 40  secondary_cleaner.state.floatbank3_a_level  5840 non-null   float64\n",
      " 41  secondary_cleaner.state.floatbank3_b_air    5840 non-null   float64\n",
      " 42  secondary_cleaner.state.floatbank3_b_level  5840 non-null   float64\n",
      " 43  secondary_cleaner.state.floatbank4_a_air    5840 non-null   float64\n",
      " 44  secondary_cleaner.state.floatbank4_a_level  5840 non-null   float64\n",
      " 45  secondary_cleaner.state.floatbank4_b_air    5840 non-null   float64\n",
      " 46  secondary_cleaner.state.floatbank4_b_level  5840 non-null   float64\n",
      " 47  secondary_cleaner.state.floatbank5_a_air    5840 non-null   float64\n",
      " 48  secondary_cleaner.state.floatbank5_a_level  5840 non-null   float64\n",
      " 49  secondary_cleaner.state.floatbank5_b_air    5840 non-null   float64\n",
      " 50  secondary_cleaner.state.floatbank5_b_level  5840 non-null   float64\n",
      " 51  secondary_cleaner.state.floatbank6_a_air    5840 non-null   float64\n",
      " 52  secondary_cleaner.state.floatbank6_a_level  5840 non-null   float64\n",
      "dtypes: float64(52), object(1)\n",
      "memory usage: 2.4+ MB\n"
     ]
    }
   ],
   "source": [
    "# Obtaining general info \n",
    "df_test.info()"
   ]
  },
  {
   "cell_type": "markdown",
   "metadata": {
    "id": "2k4HIwFw-ymd"
   },
   "source": [
    "Since there are supposed to be 5,856 rows for each column, `df_test` contains missing vlaues. "
   ]
  },
  {
   "cell_type": "code",
   "execution_count": 582,
   "metadata": {
    "colab": {
     "base_uri": "https://localhost:8080/"
    },
    "id": "9kG0SIbZ_EDl",
    "outputId": "50e88e8c-4f88-4560-ccb5-9e89a81a338b"
   },
   "outputs": [
    {
     "name": "stdout",
     "output_type": "stream",
     "text": [
      "                                            missing values     %\n",
      "rougher.input.floatbank11_xanthate                     353  6.03\n",
      "primary_cleaner.input.sulfate                          302  5.16\n",
      "primary_cleaner.input.depressant                       284  4.85\n",
      "rougher.input.floatbank10_sulfate                      257  4.39\n",
      "primary_cleaner.input.xanthate                         166  2.83\n",
      "rougher.input.floatbank10_xanthate                     123  2.10\n",
      "rougher.input.feed_sol                                  67  1.14\n",
      "rougher.input.floatbank11_sulfate                       55  0.94\n",
      "rougher.input.feed_rate                                 40  0.68\n",
      "secondary_cleaner.state.floatbank3_a_air                34  0.58\n",
      "secondary_cleaner.state.floatbank2_b_air                23  0.39\n",
      "rougher.input.feed_size                                 22  0.38\n",
      "secondary_cleaner.state.floatbank2_a_air                20  0.34\n",
      "rougher.state.floatbank10_a_air                         17  0.29\n",
      "rougher.state.floatbank10_c_air                         17  0.29\n",
      "rougher.state.floatbank10_d_air                         17  0.29\n",
      "rougher.state.floatbank10_e_air                         17  0.29\n",
      "rougher.state.floatbank10_b_air                         17  0.29\n",
      "rougher.state.floatbank10_f_air                         17  0.29\n",
      "secondary_cleaner.state.floatbank3_a_level              16  0.27\n",
      "secondary_cleaner.state.floatbank3_b_air                16  0.27\n",
      "secondary_cleaner.state.floatbank3_b_level              16  0.27\n",
      "secondary_cleaner.state.floatbank4_a_air                16  0.27\n",
      "secondary_cleaner.state.floatbank4_a_level              16  0.27\n",
      "secondary_cleaner.state.floatbank4_b_air                16  0.27\n",
      "secondary_cleaner.state.floatbank4_b_level              16  0.27\n",
      "secondary_cleaner.state.floatbank5_a_air                16  0.27\n",
      "secondary_cleaner.state.floatbank5_a_level              16  0.27\n",
      "secondary_cleaner.state.floatbank2_b_level              16  0.27\n",
      "secondary_cleaner.state.floatbank5_b_air                16  0.27\n",
      "secondary_cleaner.state.floatbank5_b_level              16  0.27\n",
      "secondary_cleaner.state.floatbank6_a_air                16  0.27\n",
      "secondary_cleaner.state.floatbank2_a_level              16  0.27\n",
      "rougher.state.floatbank10_b_level                       16  0.27\n",
      "secondary_cleaner.state.floatbank6_a_level              16  0.27\n",
      "rougher.state.floatbank10_f_level                       16  0.27\n",
      "rougher.state.floatbank10_e_level                       16  0.27\n",
      "primary_cleaner.state.floatbank8_a_air                  16  0.27\n",
      "primary_cleaner.state.floatbank8_a_level                16  0.27\n",
      "primary_cleaner.state.floatbank8_b_air                  16  0.27\n",
      "primary_cleaner.state.floatbank8_b_level                16  0.27\n",
      "primary_cleaner.state.floatbank8_c_air                  16  0.27\n",
      "primary_cleaner.state.floatbank8_c_level                16  0.27\n",
      "primary_cleaner.state.floatbank8_d_air                  16  0.27\n",
      "primary_cleaner.state.floatbank8_d_level                16  0.27\n",
      "rougher.input.feed_ag                                   16  0.27\n",
      "rougher.input.feed_pb                                   16  0.27\n",
      "rougher.input.feed_au                                   16  0.27\n",
      "rougher.state.floatbank10_a_level                       16  0.27\n",
      "rougher.state.floatbank10_c_level                       16  0.27\n",
      "rougher.state.floatbank10_d_level                       16  0.27\n",
      "primary_cleaner.input.feed_size                          0  0.00\n",
      "date                                                     0  0.00\n"
     ]
    }
   ],
   "source": [
    "# Percentage of missing values per column \n",
    "df_test_mis = df_test.isna().sum().to_frame('missing values')\n",
    "df_test_mis['%'] = round(100 * df_test.isna().sum()/len(df_test), 2)\n",
    "print(df_test_mis.sort_values(by='%', ascending=False))"
   ]
  },
  {
   "cell_type": "code",
   "execution_count": 583,
   "metadata": {
    "colab": {
     "base_uri": "https://localhost:8080/"
    },
    "id": "hCK_eYoF_uhG",
    "outputId": "35e72110-f824-4815-9246-6f1eb6bdc4ef"
   },
   "outputs": [
    {
     "data": {
      "text/plain": [
       "0"
      ]
     },
     "execution_count": 583,
     "metadata": {},
     "output_type": "execute_result"
    }
   ],
   "source": [
    "# Checking for duplicates\n",
    "df_test.duplicated().sum()"
   ]
  },
  {
   "cell_type": "markdown",
   "metadata": {
    "id": "jWGMJW_1_z5c"
   },
   "source": [
    "#### Conclusion \n",
    "The `df_test` dataset contains 5,856 rows and 53 columns. There are no duplicates, but there are missing values in this dataset. The date column is in object type, but needs to converted to datetime."
   ]
  },
  {
   "cell_type": "markdown",
   "metadata": {
    "id": "lxc-0dPBAB50"
   },
   "source": [
    "### `df_full`"
   ]
  },
  {
   "cell_type": "code",
   "execution_count": 584,
   "metadata": {
    "colab": {
     "base_uri": "https://localhost:8080/",
     "height": 473
    },
    "id": "LPcKsrpBAE4K",
    "outputId": "9af64412-97b9-4c17-9263-537b90373a21"
   },
   "outputs": [
    {
     "data": {
      "text/html": [
       "<div>\n",
       "<style scoped>\n",
       "    .dataframe tbody tr th:only-of-type {\n",
       "        vertical-align: middle;\n",
       "    }\n",
       "\n",
       "    .dataframe tbody tr th {\n",
       "        vertical-align: top;\n",
       "    }\n",
       "\n",
       "    .dataframe thead th {\n",
       "        text-align: right;\n",
       "    }\n",
       "</style>\n",
       "<table border=\"1\" class=\"dataframe\">\n",
       "  <thead>\n",
       "    <tr style=\"text-align: right;\">\n",
       "      <th></th>\n",
       "      <th>date</th>\n",
       "      <th>final.output.concentrate_ag</th>\n",
       "      <th>final.output.concentrate_pb</th>\n",
       "      <th>final.output.concentrate_sol</th>\n",
       "      <th>final.output.concentrate_au</th>\n",
       "      <th>final.output.recovery</th>\n",
       "      <th>final.output.tail_ag</th>\n",
       "      <th>final.output.tail_pb</th>\n",
       "      <th>final.output.tail_sol</th>\n",
       "      <th>final.output.tail_au</th>\n",
       "      <th>...</th>\n",
       "      <th>secondary_cleaner.state.floatbank4_a_air</th>\n",
       "      <th>secondary_cleaner.state.floatbank4_a_level</th>\n",
       "      <th>secondary_cleaner.state.floatbank4_b_air</th>\n",
       "      <th>secondary_cleaner.state.floatbank4_b_level</th>\n",
       "      <th>secondary_cleaner.state.floatbank5_a_air</th>\n",
       "      <th>secondary_cleaner.state.floatbank5_a_level</th>\n",
       "      <th>secondary_cleaner.state.floatbank5_b_air</th>\n",
       "      <th>secondary_cleaner.state.floatbank5_b_level</th>\n",
       "      <th>secondary_cleaner.state.floatbank6_a_air</th>\n",
       "      <th>secondary_cleaner.state.floatbank6_a_level</th>\n",
       "    </tr>\n",
       "  </thead>\n",
       "  <tbody>\n",
       "    <tr>\n",
       "      <th>0</th>\n",
       "      <td>2016-01-15 00:00:00</td>\n",
       "      <td>6.055403</td>\n",
       "      <td>9.889648</td>\n",
       "      <td>5.507324</td>\n",
       "      <td>42.192020</td>\n",
       "      <td>70.541216</td>\n",
       "      <td>10.411962</td>\n",
       "      <td>0.895447</td>\n",
       "      <td>16.904297</td>\n",
       "      <td>2.143149</td>\n",
       "      <td>...</td>\n",
       "      <td>14.016835</td>\n",
       "      <td>-502.488007</td>\n",
       "      <td>12.099931</td>\n",
       "      <td>-504.715942</td>\n",
       "      <td>9.925633</td>\n",
       "      <td>-498.310211</td>\n",
       "      <td>8.079666</td>\n",
       "      <td>-500.470978</td>\n",
       "      <td>14.151341</td>\n",
       "      <td>-605.841980</td>\n",
       "    </tr>\n",
       "    <tr>\n",
       "      <th>1</th>\n",
       "      <td>2016-01-15 01:00:00</td>\n",
       "      <td>6.029369</td>\n",
       "      <td>9.968944</td>\n",
       "      <td>5.257781</td>\n",
       "      <td>42.701629</td>\n",
       "      <td>69.266198</td>\n",
       "      <td>10.462676</td>\n",
       "      <td>0.927452</td>\n",
       "      <td>16.634514</td>\n",
       "      <td>2.224930</td>\n",
       "      <td>...</td>\n",
       "      <td>13.992281</td>\n",
       "      <td>-505.503262</td>\n",
       "      <td>11.950531</td>\n",
       "      <td>-501.331529</td>\n",
       "      <td>10.039245</td>\n",
       "      <td>-500.169983</td>\n",
       "      <td>7.984757</td>\n",
       "      <td>-500.582168</td>\n",
       "      <td>13.998353</td>\n",
       "      <td>-599.787184</td>\n",
       "    </tr>\n",
       "    <tr>\n",
       "      <th>2</th>\n",
       "      <td>2016-01-15 02:00:00</td>\n",
       "      <td>6.055926</td>\n",
       "      <td>10.213995</td>\n",
       "      <td>5.383759</td>\n",
       "      <td>42.657501</td>\n",
       "      <td>68.116445</td>\n",
       "      <td>10.507046</td>\n",
       "      <td>0.953716</td>\n",
       "      <td>16.208849</td>\n",
       "      <td>2.257889</td>\n",
       "      <td>...</td>\n",
       "      <td>14.015015</td>\n",
       "      <td>-502.520901</td>\n",
       "      <td>11.912783</td>\n",
       "      <td>-501.133383</td>\n",
       "      <td>10.070913</td>\n",
       "      <td>-500.129135</td>\n",
       "      <td>8.013877</td>\n",
       "      <td>-500.517572</td>\n",
       "      <td>14.028663</td>\n",
       "      <td>-601.427363</td>\n",
       "    </tr>\n",
       "    <tr>\n",
       "      <th>3</th>\n",
       "      <td>2016-01-15 03:00:00</td>\n",
       "      <td>6.047977</td>\n",
       "      <td>9.977019</td>\n",
       "      <td>4.858634</td>\n",
       "      <td>42.689819</td>\n",
       "      <td>68.347543</td>\n",
       "      <td>10.422762</td>\n",
       "      <td>0.883763</td>\n",
       "      <td>16.532835</td>\n",
       "      <td>2.146849</td>\n",
       "      <td>...</td>\n",
       "      <td>14.036510</td>\n",
       "      <td>-500.857308</td>\n",
       "      <td>11.999550</td>\n",
       "      <td>-501.193686</td>\n",
       "      <td>9.970366</td>\n",
       "      <td>-499.201640</td>\n",
       "      <td>7.977324</td>\n",
       "      <td>-500.255908</td>\n",
       "      <td>14.005551</td>\n",
       "      <td>-599.996129</td>\n",
       "    </tr>\n",
       "    <tr>\n",
       "      <th>4</th>\n",
       "      <td>2016-01-15 04:00:00</td>\n",
       "      <td>6.148599</td>\n",
       "      <td>10.142511</td>\n",
       "      <td>4.939416</td>\n",
       "      <td>42.774141</td>\n",
       "      <td>66.927016</td>\n",
       "      <td>10.360302</td>\n",
       "      <td>0.792826</td>\n",
       "      <td>16.525686</td>\n",
       "      <td>2.055292</td>\n",
       "      <td>...</td>\n",
       "      <td>14.027298</td>\n",
       "      <td>-499.838632</td>\n",
       "      <td>11.953070</td>\n",
       "      <td>-501.053894</td>\n",
       "      <td>9.925709</td>\n",
       "      <td>-501.686727</td>\n",
       "      <td>7.894242</td>\n",
       "      <td>-500.356035</td>\n",
       "      <td>13.996647</td>\n",
       "      <td>-601.496691</td>\n",
       "    </tr>\n",
       "  </tbody>\n",
       "</table>\n",
       "<p>5 rows × 87 columns</p>\n",
       "</div>"
      ],
      "text/plain": [
       "                  date  final.output.concentrate_ag  \\\n",
       "0  2016-01-15 00:00:00                     6.055403   \n",
       "1  2016-01-15 01:00:00                     6.029369   \n",
       "2  2016-01-15 02:00:00                     6.055926   \n",
       "3  2016-01-15 03:00:00                     6.047977   \n",
       "4  2016-01-15 04:00:00                     6.148599   \n",
       "\n",
       "   final.output.concentrate_pb  final.output.concentrate_sol  \\\n",
       "0                     9.889648                      5.507324   \n",
       "1                     9.968944                      5.257781   \n",
       "2                    10.213995                      5.383759   \n",
       "3                     9.977019                      4.858634   \n",
       "4                    10.142511                      4.939416   \n",
       "\n",
       "   final.output.concentrate_au  final.output.recovery  final.output.tail_ag  \\\n",
       "0                    42.192020              70.541216             10.411962   \n",
       "1                    42.701629              69.266198             10.462676   \n",
       "2                    42.657501              68.116445             10.507046   \n",
       "3                    42.689819              68.347543             10.422762   \n",
       "4                    42.774141              66.927016             10.360302   \n",
       "\n",
       "   final.output.tail_pb  final.output.tail_sol  final.output.tail_au  ...  \\\n",
       "0              0.895447              16.904297              2.143149  ...   \n",
       "1              0.927452              16.634514              2.224930  ...   \n",
       "2              0.953716              16.208849              2.257889  ...   \n",
       "3              0.883763              16.532835              2.146849  ...   \n",
       "4              0.792826              16.525686              2.055292  ...   \n",
       "\n",
       "   secondary_cleaner.state.floatbank4_a_air  \\\n",
       "0                                 14.016835   \n",
       "1                                 13.992281   \n",
       "2                                 14.015015   \n",
       "3                                 14.036510   \n",
       "4                                 14.027298   \n",
       "\n",
       "   secondary_cleaner.state.floatbank4_a_level  \\\n",
       "0                                 -502.488007   \n",
       "1                                 -505.503262   \n",
       "2                                 -502.520901   \n",
       "3                                 -500.857308   \n",
       "4                                 -499.838632   \n",
       "\n",
       "   secondary_cleaner.state.floatbank4_b_air  \\\n",
       "0                                 12.099931   \n",
       "1                                 11.950531   \n",
       "2                                 11.912783   \n",
       "3                                 11.999550   \n",
       "4                                 11.953070   \n",
       "\n",
       "   secondary_cleaner.state.floatbank4_b_level  \\\n",
       "0                                 -504.715942   \n",
       "1                                 -501.331529   \n",
       "2                                 -501.133383   \n",
       "3                                 -501.193686   \n",
       "4                                 -501.053894   \n",
       "\n",
       "   secondary_cleaner.state.floatbank5_a_air  \\\n",
       "0                                  9.925633   \n",
       "1                                 10.039245   \n",
       "2                                 10.070913   \n",
       "3                                  9.970366   \n",
       "4                                  9.925709   \n",
       "\n",
       "   secondary_cleaner.state.floatbank5_a_level  \\\n",
       "0                                 -498.310211   \n",
       "1                                 -500.169983   \n",
       "2                                 -500.129135   \n",
       "3                                 -499.201640   \n",
       "4                                 -501.686727   \n",
       "\n",
       "   secondary_cleaner.state.floatbank5_b_air  \\\n",
       "0                                  8.079666   \n",
       "1                                  7.984757   \n",
       "2                                  8.013877   \n",
       "3                                  7.977324   \n",
       "4                                  7.894242   \n",
       "\n",
       "   secondary_cleaner.state.floatbank5_b_level  \\\n",
       "0                                 -500.470978   \n",
       "1                                 -500.582168   \n",
       "2                                 -500.517572   \n",
       "3                                 -500.255908   \n",
       "4                                 -500.356035   \n",
       "\n",
       "   secondary_cleaner.state.floatbank6_a_air  \\\n",
       "0                                 14.151341   \n",
       "1                                 13.998353   \n",
       "2                                 14.028663   \n",
       "3                                 14.005551   \n",
       "4                                 13.996647   \n",
       "\n",
       "   secondary_cleaner.state.floatbank6_a_level  \n",
       "0                                 -605.841980  \n",
       "1                                 -599.787184  \n",
       "2                                 -601.427363  \n",
       "3                                 -599.996129  \n",
       "4                                 -601.496691  \n",
       "\n",
       "[5 rows x 87 columns]"
      ]
     },
     "execution_count": 584,
     "metadata": {},
     "output_type": "execute_result"
    }
   ],
   "source": [
    "# Obtaining the first 5 rows for the table\n",
    "df_full.head()"
   ]
  },
  {
   "cell_type": "code",
   "execution_count": 585,
   "metadata": {
    "colab": {
     "base_uri": "https://localhost:8080/"
    },
    "id": "826WL_3XAJAX",
    "outputId": "92545496-e8ba-4d45-a7f6-53fbf1db5c9b"
   },
   "outputs": [
    {
     "name": "stdout",
     "output_type": "stream",
     "text": [
      "df_full contains 22716 rows and 87 columns\n"
     ]
    }
   ],
   "source": [
    "# Obtaining the number of rows and columns\n",
    "shape = df_full.shape\n",
    "print('df_full contains {} rows and {} columns'.format(shape[0], shape[1]))"
   ]
  },
  {
   "cell_type": "code",
   "execution_count": 586,
   "metadata": {
    "colab": {
     "base_uri": "https://localhost:8080/"
    },
    "id": "ipI1_-9mC16A",
    "outputId": "fa86e59c-ff37-4f20-fa9e-bf28f27f994f"
   },
   "outputs": [
    {
     "name": "stdout",
     "output_type": "stream",
     "text": [
      "<class 'pandas.core.frame.DataFrame'>\n",
      "RangeIndex: 22716 entries, 0 to 22715\n",
      "Data columns (total 87 columns):\n",
      " #   Column                                              Non-Null Count  Dtype  \n",
      "---  ------                                              --------------  -----  \n",
      " 0   date                                                22716 non-null  object \n",
      " 1   final.output.concentrate_ag                         22627 non-null  float64\n",
      " 2   final.output.concentrate_pb                         22629 non-null  float64\n",
      " 3   final.output.concentrate_sol                        22331 non-null  float64\n",
      " 4   final.output.concentrate_au                         22630 non-null  float64\n",
      " 5   final.output.recovery                               20753 non-null  float64\n",
      " 6   final.output.tail_ag                                22633 non-null  float64\n",
      " 7   final.output.tail_pb                                22516 non-null  float64\n",
      " 8   final.output.tail_sol                               22445 non-null  float64\n",
      " 9   final.output.tail_au                                22635 non-null  float64\n",
      " 10  primary_cleaner.input.sulfate                       21107 non-null  float64\n",
      " 11  primary_cleaner.input.depressant                    21170 non-null  float64\n",
      " 12  primary_cleaner.input.feed_size                     22716 non-null  float64\n",
      " 13  primary_cleaner.input.xanthate                      21565 non-null  float64\n",
      " 14  primary_cleaner.output.concentrate_ag               22618 non-null  float64\n",
      " 15  primary_cleaner.output.concentrate_pb               22268 non-null  float64\n",
      " 16  primary_cleaner.output.concentrate_sol              21918 non-null  float64\n",
      " 17  primary_cleaner.output.concentrate_au               22618 non-null  float64\n",
      " 18  primary_cleaner.output.tail_ag                      22614 non-null  float64\n",
      " 19  primary_cleaner.output.tail_pb                      22594 non-null  float64\n",
      " 20  primary_cleaner.output.tail_sol                     22365 non-null  float64\n",
      " 21  primary_cleaner.output.tail_au                      22617 non-null  float64\n",
      " 22  primary_cleaner.state.floatbank8_a_air              22660 non-null  float64\n",
      " 23  primary_cleaner.state.floatbank8_a_level            22667 non-null  float64\n",
      " 24  primary_cleaner.state.floatbank8_b_air              22660 non-null  float64\n",
      " 25  primary_cleaner.state.floatbank8_b_level            22673 non-null  float64\n",
      " 26  primary_cleaner.state.floatbank8_c_air              22662 non-null  float64\n",
      " 27  primary_cleaner.state.floatbank8_c_level            22673 non-null  float64\n",
      " 28  primary_cleaner.state.floatbank8_d_air              22661 non-null  float64\n",
      " 29  primary_cleaner.state.floatbank8_d_level            22673 non-null  float64\n",
      " 30  rougher.calculation.sulfate_to_au_concentrate       22672 non-null  float64\n",
      " 31  rougher.calculation.floatbank10_sulfate_to_au_feed  22672 non-null  float64\n",
      " 32  rougher.calculation.floatbank11_sulfate_to_au_feed  22672 non-null  float64\n",
      " 33  rougher.calculation.au_pb_ratio                     21089 non-null  float64\n",
      " 34  rougher.input.feed_ag                               22618 non-null  float64\n",
      " 35  rougher.input.feed_pb                               22472 non-null  float64\n",
      " 36  rougher.input.feed_rate                             22163 non-null  float64\n",
      " 37  rougher.input.feed_size                             22277 non-null  float64\n",
      " 38  rougher.input.feed_sol                              22357 non-null  float64\n",
      " 39  rougher.input.feed_au                               22617 non-null  float64\n",
      " 40  rougher.input.floatbank10_sulfate                   21415 non-null  float64\n",
      " 41  rougher.input.floatbank10_xanthate                  22247 non-null  float64\n",
      " 42  rougher.input.floatbank11_sulfate                   22038 non-null  float64\n",
      " 43  rougher.input.floatbank11_xanthate                  20459 non-null  float64\n",
      " 44  rougher.output.concentrate_ag                       22618 non-null  float64\n",
      " 45  rougher.output.concentrate_pb                       22618 non-null  float64\n",
      " 46  rougher.output.concentrate_sol                      22526 non-null  float64\n",
      " 47  rougher.output.concentrate_au                       22618 non-null  float64\n",
      " 48  rougher.output.recovery                             19597 non-null  float64\n",
      " 49  rougher.output.tail_ag                              19979 non-null  float64\n",
      " 50  rougher.output.tail_pb                              22618 non-null  float64\n",
      " 51  rougher.output.tail_sol                             19980 non-null  float64\n",
      " 52  rougher.output.tail_au                              19980 non-null  float64\n",
      " 53  rougher.state.floatbank10_a_air                     22646 non-null  float64\n",
      " 54  rougher.state.floatbank10_a_level                   22647 non-null  float64\n",
      " 55  rougher.state.floatbank10_b_air                     22646 non-null  float64\n",
      " 56  rougher.state.floatbank10_b_level                   22647 non-null  float64\n",
      " 57  rougher.state.floatbank10_c_air                     22646 non-null  float64\n",
      " 58  rougher.state.floatbank10_c_level                   22654 non-null  float64\n",
      " 59  rougher.state.floatbank10_d_air                     22641 non-null  float64\n",
      " 60  rougher.state.floatbank10_d_level                   22649 non-null  float64\n",
      " 61  rougher.state.floatbank10_e_air                     22096 non-null  float64\n",
      " 62  rougher.state.floatbank10_e_level                   22649 non-null  float64\n",
      " 63  rougher.state.floatbank10_f_air                     22641 non-null  float64\n",
      " 64  rougher.state.floatbank10_f_level                   22642 non-null  float64\n",
      " 65  secondary_cleaner.output.tail_ag                    22616 non-null  float64\n",
      " 66  secondary_cleaner.output.tail_pb                    22600 non-null  float64\n",
      " 67  secondary_cleaner.output.tail_sol                   20501 non-null  float64\n",
      " 68  secondary_cleaner.output.tail_au                    22618 non-null  float64\n",
      " 69  secondary_cleaner.state.floatbank2_a_air            22333 non-null  float64\n",
      " 70  secondary_cleaner.state.floatbank2_a_level          22591 non-null  float64\n",
      " 71  secondary_cleaner.state.floatbank2_b_air            22538 non-null  float64\n",
      " 72  secondary_cleaner.state.floatbank2_b_level          22588 non-null  float64\n",
      " 73  secondary_cleaner.state.floatbank3_a_air            22585 non-null  float64\n",
      " 74  secondary_cleaner.state.floatbank3_a_level          22587 non-null  float64\n",
      " 75  secondary_cleaner.state.floatbank3_b_air            22592 non-null  float64\n",
      " 76  secondary_cleaner.state.floatbank3_b_level          22590 non-null  float64\n",
      " 77  secondary_cleaner.state.floatbank4_a_air            22571 non-null  float64\n",
      " 78  secondary_cleaner.state.floatbank4_a_level          22587 non-null  float64\n",
      " 79  secondary_cleaner.state.floatbank4_b_air            22608 non-null  float64\n",
      " 80  secondary_cleaner.state.floatbank4_b_level          22607 non-null  float64\n",
      " 81  secondary_cleaner.state.floatbank5_a_air            22615 non-null  float64\n",
      " 82  secondary_cleaner.state.floatbank5_a_level          22615 non-null  float64\n",
      " 83  secondary_cleaner.state.floatbank5_b_air            22615 non-null  float64\n",
      " 84  secondary_cleaner.state.floatbank5_b_level          22616 non-null  float64\n",
      " 85  secondary_cleaner.state.floatbank6_a_air            22597 non-null  float64\n",
      " 86  secondary_cleaner.state.floatbank6_a_level          22615 non-null  float64\n",
      "dtypes: float64(86), object(1)\n",
      "memory usage: 15.1+ MB\n"
     ]
    }
   ],
   "source": [
    "# Obtaining general info\n",
    "df_full.info()"
   ]
  },
  {
   "cell_type": "markdown",
   "metadata": {
    "id": "b44aUZ1MC9a2"
   },
   "source": [
    "Since there are supposed to be 22,716 rows for each column, `df_full` contains missing vlaues."
   ]
  },
  {
   "cell_type": "code",
   "execution_count": 587,
   "metadata": {
    "colab": {
     "base_uri": "https://localhost:8080/"
    },
    "id": "qINBqB_wDDEo",
    "outputId": "b726f4a2-b2bb-4599-e432-a72c51157869"
   },
   "outputs": [
    {
     "name": "stdout",
     "output_type": "stream",
     "text": [
      "                                                    missing values      %\n",
      "rougher.output.recovery                                       3119  13.73\n",
      "rougher.output.tail_ag                                        2737  12.05\n",
      "rougher.output.tail_au                                        2736  12.04\n",
      "rougher.output.tail_sol                                       2736  12.04\n",
      "rougher.input.floatbank11_xanthate                            2257   9.94\n",
      "...                                                            ...    ...\n",
      "primary_cleaner.state.floatbank8_d_level                        43   0.19\n",
      "rougher.calculation.sulfate_to_au_concentrate                   44   0.19\n",
      "rougher.calculation.floatbank11_sulfate_to_au_feed              44   0.19\n",
      "primary_cleaner.input.feed_size                                  0   0.00\n",
      "date                                                             0   0.00\n",
      "\n",
      "[87 rows x 2 columns]\n"
     ]
    }
   ],
   "source": [
    "# Obtaining percentage of missing values per column \n",
    "df_full_mis = df_full.isna().sum().to_frame('missing values')\n",
    "df_full_mis['%'] = round(100 * df_full.isna().sum()/len(df_full), 2)\n",
    "print(df_full_mis.sort_values(by='%', ascending=False))"
   ]
  },
  {
   "cell_type": "code",
   "execution_count": 588,
   "metadata": {
    "colab": {
     "base_uri": "https://localhost:8080/"
    },
    "id": "Qf0Bg2-dDfYO",
    "outputId": "75d6fd68-5467-429b-df9b-3420c3bbc88e"
   },
   "outputs": [
    {
     "data": {
      "text/plain": [
       "0"
      ]
     },
     "execution_count": 588,
     "metadata": {},
     "output_type": "execute_result"
    }
   ],
   "source": [
    "# Checking for duplicates\n",
    "df_full.duplicated().sum()"
   ]
  },
  {
   "cell_type": "markdown",
   "metadata": {
    "id": "yGYaprPbDnV5"
   },
   "source": [
    "#### Conlcusion\n",
    "The `df_full` dataset contains 22,716 rows and 87 columns. There are no duplicates, but there are missing values in this dataset. The date column is in object type, but needs to converted to datetime."
   ]
  },
  {
   "cell_type": "markdown",
   "metadata": {
    "id": "ks2tp1h9HBq-"
   },
   "source": [
    "### Recovery and MAE calculations"
   ]
  },
  {
   "cell_type": "markdown",
   "metadata": {
    "id": "2_oGb0X5HJnb"
   },
   "source": [
    "To simulate the process of recovering gold from gold ore, we use the following formula:\n",
    "\n",
    "$$\n",
    "Recovery = \\frac{C * (F-T)}{F * (C-T)}\\ * 100\\%\n",
    "$$ \n",
    "\n",
    "where:\n",
    "* C — share of gold in the concentrate right after flotation \n",
    "* F — share of gold in the feed before flotation\n",
    "* T — share of gold in the rougher tails right after flotation "
   ]
  },
  {
   "cell_type": "code",
   "execution_count": 589,
   "metadata": {
    "colab": {
     "base_uri": "https://localhost:8080/"
    },
    "id": "LPMn3-RuIIiB",
    "outputId": "4a72a131-c026-4ca2-f09e-87f15bc7191c"
   },
   "outputs": [
    {
     "name": "stdout",
     "output_type": "stream",
     "text": [
      "0        87.107763\n",
      "1        86.843261\n",
      "2        86.842308\n",
      "3        87.226430\n",
      "4        86.688794\n",
      "           ...    \n",
      "16855    89.574376\n",
      "16856    87.724007\n",
      "16857    88.890579\n",
      "16858    89.858126\n",
      "16859    89.514960\n",
      "Length: 16860, dtype: float64\n"
     ]
    }
   ],
   "source": [
    "# Defining coefficients\n",
    "C = df_train['rougher.output.concentrate_au']\n",
    "F = df_train['rougher.input.feed_au']\n",
    "T = df_train['rougher.output.tail_au']\n",
    "\n",
    "# Calculating recovery\n",
    "calc_recovery = (C * (F-T))/(F * (C-T)) * 100\n",
    "print(calc_recovery)"
   ]
  },
  {
   "cell_type": "code",
   "execution_count": 590,
   "metadata": {
    "colab": {
     "base_uri": "https://localhost:8080/"
    },
    "id": "d4q2AI01L9ZE",
    "outputId": "7f19cff0-3d10-4f79-9723-d0198230e855"
   },
   "outputs": [
    {
     "name": "stdout",
     "output_type": "stream",
     "text": [
      "MAE score = 9.303415616264301e-15\n"
     ]
    }
   ],
   "source": [
    "# Calculating mean absolute error (MAE)\n",
    "calc_mae = pd.DataFrame({'calc_recovery':calc_recovery, 'output_recovery':df_train['rougher.output.recovery']}).dropna()\n",
    "mae = mean_absolute_error(calc_mae['calc_recovery'], calc_mae['output_recovery'])\n",
    "print(f'MAE score = {mae}')"
   ]
  },
  {
   "cell_type": "markdown",
   "metadata": {
    "id": "mX2fa1tvNjMI"
   },
   "source": [
    "Since the MAE score is close to zero, the calculated recovery values from the simulated recovery process are very similar to the values in `rougher.output.recovery` feature."
   ]
  },
  {
   "cell_type": "markdown",
   "metadata": {
    "id": "aQbNXVnOPEVW"
   },
   "source": [
    "### Analyzing features not available in test set"
   ]
  },
  {
   "cell_type": "code",
   "execution_count": 591,
   "metadata": {
    "colab": {
     "base_uri": "https://localhost:8080/"
    },
    "id": "ihmaXdg-PkxH",
    "outputId": "f58cb822-dbf9-4d06-91fe-d4728090e6e5"
   },
   "outputs": [
    {
     "data": {
      "text/plain": [
       "['primary_cleaner.output.concentrate_au',\n",
       " 'primary_cleaner.output.concentrate_pb',\n",
       " 'secondary_cleaner.output.tail_au',\n",
       " 'rougher.calculation.sulfate_to_au_concentrate',\n",
       " 'rougher.output.concentrate_ag',\n",
       " 'rougher.calculation.au_pb_ratio',\n",
       " 'final.output.tail_sol',\n",
       " 'final.output.tail_ag',\n",
       " 'primary_cleaner.output.tail_ag',\n",
       " 'rougher.output.tail_sol',\n",
       " 'primary_cleaner.output.tail_au',\n",
       " 'final.output.concentrate_sol',\n",
       " 'rougher.output.tail_pb',\n",
       " 'secondary_cleaner.output.tail_pb',\n",
       " 'final.output.concentrate_au',\n",
       " 'secondary_cleaner.output.tail_ag',\n",
       " 'rougher.calculation.floatbank10_sulfate_to_au_feed',\n",
       " 'primary_cleaner.output.concentrate_sol',\n",
       " 'final.output.tail_pb',\n",
       " 'primary_cleaner.output.tail_pb',\n",
       " 'secondary_cleaner.output.tail_sol',\n",
       " 'primary_cleaner.output.tail_sol',\n",
       " 'rougher.calculation.floatbank11_sulfate_to_au_feed',\n",
       " 'rougher.output.tail_au',\n",
       " 'rougher.output.concentrate_au',\n",
       " 'rougher.output.tail_ag',\n",
       " 'rougher.output.concentrate_sol',\n",
       " 'final.output.recovery',\n",
       " 'final.output.tail_au',\n",
       " 'final.output.concentrate_ag',\n",
       " 'rougher.output.concentrate_pb',\n",
       " 'final.output.concentrate_pb',\n",
       " 'rougher.output.recovery',\n",
       " 'primary_cleaner.output.concentrate_ag']"
      ]
     },
     "execution_count": 591,
     "metadata": {},
     "output_type": "execute_result"
    }
   ],
   "source": [
    "# Features not available in test set\n",
    "features_diff = list(set(df_train.columns).difference(df_test.columns))\n",
    "features_diff"
   ]
  },
  {
   "cell_type": "markdown",
   "metadata": {
    "id": "GfTEElncQa4m"
   },
   "source": [
    "There are 34 features in the training set that are not available in the test set. The features not available in the test set include features containing the concentrains of metals, Au, Ag, and Pb. The parameter types are output and calculations. "
   ]
  },
  {
   "cell_type": "markdown",
   "metadata": {
    "id": "l0fBqvIDRVNg"
   },
   "source": [
    "## Data Preprocessing "
   ]
  },
  {
   "cell_type": "markdown",
   "metadata": {
    "id": "k8Ba6N7SRgV3"
   },
   "source": [
    "### Missing values\n"
   ]
  },
  {
   "cell_type": "code",
   "execution_count": 592,
   "metadata": {
    "colab": {
     "base_uri": "https://localhost:8080/"
    },
    "id": "HmVBJxilRh5g",
    "outputId": "dde9e915-74f6-4180-e3e1-64bfb533087d"
   },
   "outputs": [
    {
     "data": {
      "text/plain": [
       "date                                            0\n",
       "final.output.concentrate_ag                    72\n",
       "final.output.concentrate_pb                    72\n",
       "final.output.concentrate_sol                  370\n",
       "final.output.concentrate_au                    71\n",
       "                                             ... \n",
       "secondary_cleaner.state.floatbank5_a_level     85\n",
       "secondary_cleaner.state.floatbank5_b_air       85\n",
       "secondary_cleaner.state.floatbank5_b_level     84\n",
       "secondary_cleaner.state.floatbank6_a_air      103\n",
       "secondary_cleaner.state.floatbank6_a_level     85\n",
       "Length: 87, dtype: int64"
      ]
     },
     "execution_count": 592,
     "metadata": {},
     "output_type": "execute_result"
    }
   ],
   "source": [
    "# Calculating number of missing values per column in df_train\n",
    "df_train.isna().sum()"
   ]
  },
  {
   "cell_type": "code",
   "execution_count": 593,
   "metadata": {
    "colab": {
     "base_uri": "https://localhost:8080/"
    },
    "id": "jj9wlF9cuEev",
    "outputId": "a350f7c0-246a-44ac-cf55-48534e792f04"
   },
   "outputs": [
    {
     "data": {
      "text/plain": [
       "0"
      ]
     },
     "execution_count": 593,
     "metadata": {},
     "output_type": "execute_result"
    }
   ],
   "source": [
    "# Using forward fill to fill in missing values in df_train \n",
    "df_train.fillna(method='ffill', inplace=True)\n",
    "\n",
    "# Checking to make sure missing values have been filled in df_train\n",
    "df_train.isna().sum().sum()"
   ]
  },
  {
   "cell_type": "code",
   "execution_count": 594,
   "metadata": {
    "colab": {
     "base_uri": "https://localhost:8080/"
    },
    "id": "OaqfI9FKudwE",
    "outputId": "b9acb49a-902e-4b1e-bd2f-97ff7e7e2927"
   },
   "outputs": [
    {
     "data": {
      "text/plain": [
       "date                                            0\n",
       "primary_cleaner.input.sulfate                 302\n",
       "primary_cleaner.input.depressant              284\n",
       "primary_cleaner.input.feed_size                 0\n",
       "primary_cleaner.input.xanthate                166\n",
       "primary_cleaner.state.floatbank8_a_air         16\n",
       "primary_cleaner.state.floatbank8_a_level       16\n",
       "primary_cleaner.state.floatbank8_b_air         16\n",
       "primary_cleaner.state.floatbank8_b_level       16\n",
       "primary_cleaner.state.floatbank8_c_air         16\n",
       "primary_cleaner.state.floatbank8_c_level       16\n",
       "primary_cleaner.state.floatbank8_d_air         16\n",
       "primary_cleaner.state.floatbank8_d_level       16\n",
       "rougher.input.feed_ag                          16\n",
       "rougher.input.feed_pb                          16\n",
       "rougher.input.feed_rate                        40\n",
       "rougher.input.feed_size                        22\n",
       "rougher.input.feed_sol                         67\n",
       "rougher.input.feed_au                          16\n",
       "rougher.input.floatbank10_sulfate             257\n",
       "rougher.input.floatbank10_xanthate            123\n",
       "rougher.input.floatbank11_sulfate              55\n",
       "rougher.input.floatbank11_xanthate            353\n",
       "rougher.state.floatbank10_a_air                17\n",
       "rougher.state.floatbank10_a_level              16\n",
       "rougher.state.floatbank10_b_air                17\n",
       "rougher.state.floatbank10_b_level              16\n",
       "rougher.state.floatbank10_c_air                17\n",
       "rougher.state.floatbank10_c_level              16\n",
       "rougher.state.floatbank10_d_air                17\n",
       "rougher.state.floatbank10_d_level              16\n",
       "rougher.state.floatbank10_e_air                17\n",
       "rougher.state.floatbank10_e_level              16\n",
       "rougher.state.floatbank10_f_air                17\n",
       "rougher.state.floatbank10_f_level              16\n",
       "secondary_cleaner.state.floatbank2_a_air       20\n",
       "secondary_cleaner.state.floatbank2_a_level     16\n",
       "secondary_cleaner.state.floatbank2_b_air       23\n",
       "secondary_cleaner.state.floatbank2_b_level     16\n",
       "secondary_cleaner.state.floatbank3_a_air       34\n",
       "secondary_cleaner.state.floatbank3_a_level     16\n",
       "secondary_cleaner.state.floatbank3_b_air       16\n",
       "secondary_cleaner.state.floatbank3_b_level     16\n",
       "secondary_cleaner.state.floatbank4_a_air       16\n",
       "secondary_cleaner.state.floatbank4_a_level     16\n",
       "secondary_cleaner.state.floatbank4_b_air       16\n",
       "secondary_cleaner.state.floatbank4_b_level     16\n",
       "secondary_cleaner.state.floatbank5_a_air       16\n",
       "secondary_cleaner.state.floatbank5_a_level     16\n",
       "secondary_cleaner.state.floatbank5_b_air       16\n",
       "secondary_cleaner.state.floatbank5_b_level     16\n",
       "secondary_cleaner.state.floatbank6_a_air       16\n",
       "secondary_cleaner.state.floatbank6_a_level     16\n",
       "dtype: int64"
      ]
     },
     "execution_count": 594,
     "metadata": {},
     "output_type": "execute_result"
    }
   ],
   "source": [
    "# Calculating number of missing values per column in df_test\n",
    "df_test.isna().sum()"
   ]
  },
  {
   "cell_type": "code",
   "execution_count": 595,
   "metadata": {
    "colab": {
     "base_uri": "https://localhost:8080/"
    },
    "id": "NX0SKQQDuiT-",
    "outputId": "ddde48ff-0023-4de0-e5f3-3eef5de87e65"
   },
   "outputs": [
    {
     "data": {
      "text/plain": [
       "0"
      ]
     },
     "execution_count": 595,
     "metadata": {},
     "output_type": "execute_result"
    }
   ],
   "source": [
    "# Using forward fill to fill in missing values in df_train \n",
    "df_test.fillna(method='ffill', inplace=True)\n",
    "\n",
    "# Checking to make sure missing values have been filled in df_train\n",
    "df_test.isna().sum().sum()"
   ]
  },
  {
   "cell_type": "code",
   "execution_count": 596,
   "metadata": {
    "colab": {
     "base_uri": "https://localhost:8080/"
    },
    "id": "R-uzkHmfuryS",
    "outputId": "e5aa5837-78ef-427f-e4c6-2e5a03db890e"
   },
   "outputs": [
    {
     "data": {
      "text/plain": [
       "date                                            0\n",
       "final.output.concentrate_ag                    89\n",
       "final.output.concentrate_pb                    87\n",
       "final.output.concentrate_sol                  385\n",
       "final.output.concentrate_au                    86\n",
       "                                             ... \n",
       "secondary_cleaner.state.floatbank5_a_level    101\n",
       "secondary_cleaner.state.floatbank5_b_air      101\n",
       "secondary_cleaner.state.floatbank5_b_level    100\n",
       "secondary_cleaner.state.floatbank6_a_air      119\n",
       "secondary_cleaner.state.floatbank6_a_level    101\n",
       "Length: 87, dtype: int64"
      ]
     },
     "execution_count": 596,
     "metadata": {},
     "output_type": "execute_result"
    }
   ],
   "source": [
    "# Calculating number of missing values per column in df_full\n",
    "df_full.isna().sum()"
   ]
  },
  {
   "cell_type": "code",
   "execution_count": 597,
   "metadata": {
    "colab": {
     "base_uri": "https://localhost:8080/"
    },
    "id": "QLreCDkBux4u",
    "outputId": "21b9612e-5a44-4b71-aaf2-b1ca44a6c600"
   },
   "outputs": [
    {
     "data": {
      "text/plain": [
       "0"
      ]
     },
     "execution_count": 597,
     "metadata": {},
     "output_type": "execute_result"
    }
   ],
   "source": [
    "# Using forward fill to fill in missing values in df_train \n",
    "df_full.fillna(method='ffill', inplace=True)\n",
    "\n",
    "# Checking to make sure missing values have been filled in df_train\n",
    "df_full.isna().sum().sum()"
   ]
  },
  {
   "cell_type": "markdown",
   "metadata": {
    "id": "lYSV1419u7AG"
   },
   "source": [
    "Using forward fill, also known as “ffill” in short, we propagated the last valid observation forward along the selected axis for our DataFrames (`df_train`, `df_test`, and `df_full`)."
   ]
  },
  {
   "cell_type": "markdown",
   "metadata": {
    "id": "QO2PwAaKvJUK"
   },
   "source": [
    "### Converting data type"
   ]
  },
  {
   "cell_type": "code",
   "execution_count": 598,
   "metadata": {
    "colab": {
     "base_uri": "https://localhost:8080/"
    },
    "id": "vkziq5wVvT6G",
    "outputId": "dd23e97f-b4f2-467c-9eda-858f54195018"
   },
   "outputs": [
    {
     "data": {
      "text/plain": [
       "dtype('<M8[ns]')"
      ]
     },
     "execution_count": 598,
     "metadata": {},
     "output_type": "execute_result"
    }
   ],
   "source": [
    "# Changing values in date column of df_train to datetime\n",
    "df_train['date'] = pd.to_datetime(df_train['date'], format='%Y-%m-%d %H:%M:%S')\n",
    "\n",
    "# Checking to make sure date was properly converted to datetime\n",
    "df_train['date'].dtype"
   ]
  },
  {
   "cell_type": "code",
   "execution_count": 599,
   "metadata": {
    "colab": {
     "base_uri": "https://localhost:8080/"
    },
    "id": "PCZNdNFowEJE",
    "outputId": "7dcfb5bc-42bf-420b-a671-edc314465a92"
   },
   "outputs": [
    {
     "data": {
      "text/plain": [
       "dtype('<M8[ns]')"
      ]
     },
     "execution_count": 599,
     "metadata": {},
     "output_type": "execute_result"
    }
   ],
   "source": [
    "# Changing values in date column of df_test to datetime\n",
    "df_test['date'] = pd.to_datetime(df_test['date'], format='%Y-%m-%d %H:%M:%S')\n",
    "\n",
    "# Checking to make sure date was properly converted to datetime\n",
    "df_test['date'].dtype"
   ]
  },
  {
   "cell_type": "code",
   "execution_count": 600,
   "metadata": {
    "colab": {
     "base_uri": "https://localhost:8080/"
    },
    "id": "hMLafsgJwn3f",
    "outputId": "84be6632-e34d-4317-b4ad-a7c07b704749"
   },
   "outputs": [
    {
     "data": {
      "text/plain": [
       "dtype('<M8[ns]')"
      ]
     },
     "execution_count": 600,
     "metadata": {},
     "output_type": "execute_result"
    }
   ],
   "source": [
    "# Changing values in date column of df_full to datetime\n",
    "df_full['date'] = pd.to_datetime(df_full['date'], format='%Y-%m-%d %H:%M:%S')\n",
    "\n",
    "# Checking to make sure date was properly converted to datetime\n",
    "df_full['date'].dtype"
   ]
  },
  {
   "cell_type": "markdown",
   "metadata": {
    "id": "3WiwdprFwzEh"
   },
   "source": [
    "The `date` column in `df_train`, `df_test`, and `df_full` was converted from object type to datetime. "
   ]
  },
  {
   "cell_type": "markdown",
   "metadata": {
    "id": "tj82vscPxRXR"
   },
   "source": [
    "### Conclusion \n",
    "All missing values were filled for `df_train`, `df_test`, and `df_full` using the forward fill method. The `date` column in `df_train`, `df_test`, and `df_full` were converted to datetime type. \n",
    "\n",
    "Now that we preprocessed our data, we will now analyze the data. "
   ]
  },
  {
   "cell_type": "markdown",
   "metadata": {
    "id": "Dsyi226_xMZm"
   },
   "source": [
    "## Data Analysis"
   ]
  },
  {
   "cell_type": "markdown",
   "metadata": {
    "id": "6ox76MTUyMXz"
   },
   "source": [
    "### Distribution of concentrations of metals (Au, Ag, Pb) across purification stage"
   ]
  },
  {
   "cell_type": "code",
   "execution_count": 601,
   "metadata": {
    "colab": {
     "base_uri": "https://localhost:8080/",
     "height": 1000
    },
    "id": "QopGPG7fyVHx",
    "outputId": "e46307be-7f43-4565-85e2-9ab8456c9db1"
   },
   "outputs": [
    {
     "name": "stderr",
     "output_type": "stream",
     "text": [
      "/opt/conda/lib/python3.9/site-packages/seaborn/distributions.py:2557: FutureWarning: `distplot` is a deprecated function and will be removed in a future version. Please adapt your code to use either `displot` (a figure-level function with similar flexibility) or `histplot` (an axes-level function for histograms).\n",
      "  warnings.warn(msg, FutureWarning)\n",
      "/opt/conda/lib/python3.9/site-packages/seaborn/distributions.py:2557: FutureWarning: `distplot` is a deprecated function and will be removed in a future version. Please adapt your code to use either `displot` (a figure-level function with similar flexibility) or `histplot` (an axes-level function for histograms).\n",
      "  warnings.warn(msg, FutureWarning)\n",
      "/opt/conda/lib/python3.9/site-packages/seaborn/distributions.py:2557: FutureWarning: `distplot` is a deprecated function and will be removed in a future version. Please adapt your code to use either `displot` (a figure-level function with similar flexibility) or `histplot` (an axes-level function for histograms).\n",
      "  warnings.warn(msg, FutureWarning)\n",
      "/opt/conda/lib/python3.9/site-packages/seaborn/distributions.py:2557: FutureWarning: `distplot` is a deprecated function and will be removed in a future version. Please adapt your code to use either `displot` (a figure-level function with similar flexibility) or `histplot` (an axes-level function for histograms).\n",
      "  warnings.warn(msg, FutureWarning)\n",
      "/opt/conda/lib/python3.9/site-packages/seaborn/distributions.py:2557: FutureWarning: `distplot` is a deprecated function and will be removed in a future version. Please adapt your code to use either `displot` (a figure-level function with similar flexibility) or `histplot` (an axes-level function for histograms).\n",
      "  warnings.warn(msg, FutureWarning)\n",
      "/opt/conda/lib/python3.9/site-packages/seaborn/distributions.py:2557: FutureWarning: `distplot` is a deprecated function and will be removed in a future version. Please adapt your code to use either `displot` (a figure-level function with similar flexibility) or `histplot` (an axes-level function for histograms).\n",
      "  warnings.warn(msg, FutureWarning)\n",
      "/opt/conda/lib/python3.9/site-packages/seaborn/distributions.py:2557: FutureWarning: `distplot` is a deprecated function and will be removed in a future version. Please adapt your code to use either `displot` (a figure-level function with similar flexibility) or `histplot` (an axes-level function for histograms).\n",
      "  warnings.warn(msg, FutureWarning)\n",
      "/opt/conda/lib/python3.9/site-packages/seaborn/distributions.py:2557: FutureWarning: `distplot` is a deprecated function and will be removed in a future version. Please adapt your code to use either `displot` (a figure-level function with similar flexibility) or `histplot` (an axes-level function for histograms).\n",
      "  warnings.warn(msg, FutureWarning)\n",
      "/opt/conda/lib/python3.9/site-packages/seaborn/distributions.py:2557: FutureWarning: `distplot` is a deprecated function and will be removed in a future version. Please adapt your code to use either `displot` (a figure-level function with similar flexibility) or `histplot` (an axes-level function for histograms).\n",
      "  warnings.warn(msg, FutureWarning)\n"
     ]
    },
    {
     "data": {
      "image/png": "[encoded data removed]",
      "text/plain": [
       "<Figure size 840x560 with 1 Axes>"
      ]
     },
     "metadata": {
      "needs_background": "light"
     },
     "output_type": "display_data"
    },
    {
     "data": {
      "image/png": "[encoded data removed]",
      "text/plain": [
       "<Figure size 840x560 with 1 Axes>"
      ]
     },
     "metadata": {
      "needs_background": "light"
     },
     "output_type": "display_data"
    },
    {
     "data": {
      "image/png": "[encoded data removed]",
      "text/plain": [
       "<Figure size 840x560 with 1 Axes>"
      ]
     },
     "metadata": {
      "needs_background": "light"
     },
     "output_type": "display_data"
    }
   ],
   "source": [
    "metals = ['au', 'ag', 'pb']\n",
    "parameters = ['rougher.output.concentrate', 'primary_cleaner.output.concentrate', 'final.output.concentrate']\n",
    "colors = ['blue', 'orange', 'green']\n",
    "\n",
    "# Creating function to plot distribution of concentrations \n",
    "def plot_distribution(df):\n",
    "  kwargs = dict(hist_kws={'alpha':0.8}, kde_kws={'linewidth':3})\n",
    "  for element in metals:\n",
    "    plt.figure(figsize=(12,8), dpi=70)\n",
    "    for features, colour in zip(parameters, colors):\n",
    "      sns.distplot(df[features+'_'+element], color=colour, label=features+'_'+element, **kwargs)\n",
    "      plt.axvline(0, c='r')\n",
    "      plt.title('Distribution of ' +element+ ' Concentrations Across Purification Stage')\n",
    "      plt.xlabel('Concentration of ' +element)\n",
    "      plt.legend()\n",
    "\n",
    "# Plotting distribution of concentration of metals in training set\n",
    "plot_distribution(df_train)"
   ]
  },
  {
   "cell_type": "markdown",
   "metadata": {
    "id": "5LjhIYn9ATOn"
   },
   "source": [
    "Based on the graph, the concentrations of gold (Au) increases during the final output. This shows that the purification process is functioning properly. The concentration of the other two metals (Ag and Pb) either decreased or increased during the final stage. "
   ]
  },
  {
   "cell_type": "markdown",
   "metadata": {
    "id": "XVeZa_IyA5_r"
   },
   "source": [
    "### Comparing feed particle size distributions in the training set and test set"
   ]
  },
  {
   "cell_type": "code",
   "execution_count": 602,
   "metadata": {
    "colab": {
     "base_uri": "https://localhost:8080/"
    },
    "id": "ZYUY4tWdBQsU",
    "outputId": "75a4f901-93cb-48c1-dd90-eb96480c41ec"
   },
   "outputs": [
    {
     "name": "stdout",
     "output_type": "stream",
     "text": [
      "Average particle size for rougher input in training set: 60.189\n",
      "Average particle size for rougher input in test set: 55.899\n",
      "\n",
      "Average particle size for primary cleaner input in training set: 7.297\n",
      "Average particle size for primary cleaner input in test set: 7.265\n"
     ]
    }
   ],
   "source": [
    "# Average particle size for rougher input in training and test set\n",
    "print('Average particle size for rougher input in training set: {:.3f}'.format(df_train['rougher.input.feed_size'].mean()))\n",
    "print('Average particle size for rougher input in test set: {:.3f}'.format(df_test['rougher.input.feed_size'].mean()))\n",
    "\n",
    "print()\n",
    "\n",
    "# Average particle size for cleaner input in training and test set\n",
    "print('Average particle size for primary cleaner input in training set: {:.3f}'.format(df_train['primary_cleaner.input.feed_size'].mean()))\n",
    "print('Average particle size for primary cleaner input in test set: {:.3f}'.format(df_test['primary_cleaner.input.feed_size'].mean()))"
   ]
  },
  {
   "cell_type": "code",
   "execution_count": 603,
   "metadata": {
    "id": "jCZZbN7pDTqE"
   },
   "outputs": [],
   "source": [
    "# Creating function to plot distribution of feed particle size\n",
    "def plot_particle_size_distribution(df):\n",
    "    kwargs = dict(hist_kws={'alpha': 0.5}, kde_kws={'linewidth':3})\n",
    "    plt.figure(figsize=(12,8), dpi=70)\n",
    "    for features, colour, labels in zip(input_feed, colors, label):\n",
    "        sns.distplot(features, color=colour, label=labels, **kwargs)\n",
    "        plt.axvline(0, c=\"r\")\n",
    "    plt.title('Distribution for Feed Particle Size')\n",
    "    plt.xlabel('Distribution')\n",
    "    plt.legend()\n",
    "\n"
   ]
  },
  {
   "cell_type": "code",
   "execution_count": 604,
   "metadata": {
    "colab": {
     "base_uri": "https://localhost:8080/",
     "height": 589
    },
    "id": "sMhjT3RSSb5s",
    "outputId": "2af61139-85b3-4fed-8456-08c55da3f01e"
   },
   "outputs": [
    {
     "name": "stderr",
     "output_type": "stream",
     "text": [
      "/opt/conda/lib/python3.9/site-packages/seaborn/distributions.py:2557: FutureWarning: `distplot` is a deprecated function and will be removed in a future version. Please adapt your code to use either `displot` (a figure-level function with similar flexibility) or `histplot` (an axes-level function for histograms).\n",
      "  warnings.warn(msg, FutureWarning)\n",
      "/opt/conda/lib/python3.9/site-packages/seaborn/distributions.py:2557: FutureWarning: `distplot` is a deprecated function and will be removed in a future version. Please adapt your code to use either `displot` (a figure-level function with similar flexibility) or `histplot` (an axes-level function for histograms).\n",
      "  warnings.warn(msg, FutureWarning)\n"
     ]
    },
    {
     "data": {
      "image/png": "[encoded data removed]",
      "text/plain": [
       "<Figure size 840x560 with 1 Axes>"
      ]
     },
     "metadata": {
      "needs_background": "light"
     },
     "output_type": "display_data"
    }
   ],
   "source": [
    "# Plotting distribution of feed particle size for rougher input\n",
    "input_feed = [df_train['rougher.input.feed_size'], df_test['rougher.input.feed_size']]\n",
    "label = ['df_train.rougher.input.feed_size', 'df_test.rougher.input.feed_size']\n",
    "colors = ['blue', 'orange']\n",
    "\n",
    "plot_particle_size_distribution(df_train)"
   ]
  },
  {
   "cell_type": "code",
   "execution_count": 605,
   "metadata": {
    "colab": {
     "base_uri": "https://localhost:8080/",
     "height": 589
    },
    "id": "PK6IoHKrT53r",
    "outputId": "c67157dd-7232-40ae-c110-007109b0db7a"
   },
   "outputs": [
    {
     "name": "stderr",
     "output_type": "stream",
     "text": [
      "/opt/conda/lib/python3.9/site-packages/seaborn/distributions.py:2557: FutureWarning: `distplot` is a deprecated function and will be removed in a future version. Please adapt your code to use either `displot` (a figure-level function with similar flexibility) or `histplot` (an axes-level function for histograms).\n",
      "  warnings.warn(msg, FutureWarning)\n",
      "/opt/conda/lib/python3.9/site-packages/seaborn/distributions.py:2557: FutureWarning: `distplot` is a deprecated function and will be removed in a future version. Please adapt your code to use either `displot` (a figure-level function with similar flexibility) or `histplot` (an axes-level function for histograms).\n",
      "  warnings.warn(msg, FutureWarning)\n"
     ]
    },
    {
     "data": {
      "image/png": "[encoded data removed]",
      "text/plain": [
       "<Figure size 840x560 with 1 Axes>"
      ]
     },
     "metadata": {
      "needs_background": "light"
     },
     "output_type": "display_data"
    }
   ],
   "source": [
    "# Plotting distribution of feed particles for cleaner input\n",
    "input_feed = [df_train['primary_cleaner.input.feed_size'], df_test['primary_cleaner.input.feed_size']]\n",
    "label = ['df_train.primary_cleaner.input.feed_size', 'df_test.primary_cleaner.input.feed_size']\n",
    "color = ['blue', 'orange']\n",
    "\n",
    "plot_particle_size_distribution(df_train)"
   ]
  },
  {
   "cell_type": "markdown",
   "metadata": {
    "id": "_mDjIabcWWDd"
   },
   "source": [
    "#### Conclusion\n",
    "Our graphs show that the particle size distributions are similar for both the `rougher.input.feed_size` and `primary_cleaner.input.feed_size`. The average particle sizes in the rougher.input.feed_size and primary_cleaner.input.feed_size for the training and test set are also close in value. This indicates that we can train our model without any problems. "
   ]
  },
  {
   "cell_type": "markdown",
   "metadata": {
    "id": "zPKUXquDXbrI"
   },
   "source": [
    "### Distribution of total concentrations of all substances at different stages: raw feed, rougher concentrate, and final concentrate"
   ]
  },
  {
   "cell_type": "code",
   "execution_count": 606,
   "metadata": {
    "colab": {
     "base_uri": "https://localhost:8080/",
     "height": 530
    },
    "id": "8KsaoXf2XfPE",
    "outputId": "7a1f8973-18fe-4bca-bc64-106954b3a9d3"
   },
   "outputs": [
    {
     "data": {
      "text/plain": [
       "Text(0.5, 1.0, 'Distribution of Total Concentration in Raw Feed')"
      ]
     },
     "execution_count": 606,
     "metadata": {},
     "output_type": "execute_result"
    },
    {
     "data": {
      "image/png": "[encoded data removed]",
      "text/plain": [
       "<Figure size 864x576 with 1 Axes>"
      ]
     },
     "metadata": {
      "needs_background": "light"
     },
     "output_type": "display_data"
    }
   ],
   "source": [
    "# Raw feed stage (rougher.input.feed)\n",
    "df_full['rougher.input.feed'] = df_full['rougher.input.feed_au'] + df_full['rougher.input.feed_ag'] + df_full['rougher.input.feed_pb']\n",
    "\n",
    "# Plotting distribution of all substances for raw feed stage \n",
    "raw_feed_stage = df_full['rougher.input.feed']\n",
    "plt.figure(figsize=(12,8))\n",
    "plt.hist(raw_feed_stage, density=True, bins=100)\n",
    "\n",
    "# Adding title and axes label\n",
    "plt.xlabel('rougher.input.feed')\n",
    "plt.ylabel('frequency')\n",
    "plt.title('Distribution of Total Concentration in Raw Feed')"
   ]
  },
  {
   "cell_type": "markdown",
   "metadata": {
    "id": "u3DuK_Cq12XX"
   },
   "source": [
    "The distribution of the total concentration in the raw feed stage is skewed to the left with most values clustered on the right. There is a large spike in concentration at the 0 mark. This means that there are outliers in the data that need to be removed. \n"
   ]
  },
  {
   "cell_type": "code",
   "execution_count": 607,
   "metadata": {
    "colab": {
     "base_uri": "https://localhost:8080/",
     "height": 530
    },
    "id": "Q8mkB-7pCaWW",
    "outputId": "fd6bb26a-2ad9-44c1-ad74-7643f9a6e6de"
   },
   "outputs": [
    {
     "data": {
      "text/plain": [
       "Text(0.5, 1.0, 'Distribution of Total Concentration in Rougher Concentrate')"
      ]
     },
     "execution_count": 607,
     "metadata": {},
     "output_type": "execute_result"
    },
    {
     "data": {
      "image/png": "[encoded data removed]",
      "text/plain": [
       "<Figure size 864x576 with 1 Axes>"
      ]
     },
     "metadata": {
      "needs_background": "light"
     },
     "output_type": "display_data"
    }
   ],
   "source": [
    "# Rougher concentrate stage (rougher.output.concentrate)\n",
    "df_full['rougher.output.concentrate'] = df_full['rougher.output.concentrate_au'] + df_full['rougher.output.concentrate_ag'] + df_full['rougher.output.concentrate_pb']\n",
    "\n",
    "# Plotting distribution of all substances for rougher concentrate stage \n",
    "rougher_concentrate_stage = df_full['rougher.output.concentrate']\n",
    "plt.figure(figsize=(12,8))\n",
    "plt.hist(rougher_concentrate_stage, density=True, bins=100)\n",
    "\n",
    "# Adding title and axes label\n",
    "plt.xlabel('rougher.output.concentrate')\n",
    "plt.ylabel('frequency')\n",
    "plt.title('Distribution of Total Concentration in Rougher Concentrate')"
   ]
  },
  {
   "cell_type": "markdown",
   "metadata": {
    "id": "MNiZqQQ4DGJG"
   },
   "source": [
    "The distribution of the total concentration in the rougher concentrate stage is skewed to the left with most values clustered on the right. There is a large spike in concentration at the 0 mark. This means that there are outliers in the data that need to be removed."
   ]
  },
  {
   "cell_type": "code",
   "execution_count": 608,
   "metadata": {
    "colab": {
     "base_uri": "https://localhost:8080/",
     "height": 530
    },
    "id": "Mrex-DGcDLZV",
    "outputId": "d5633fee-bbcc-4390-93d3-774e804007dd"
   },
   "outputs": [
    {
     "data": {
      "text/plain": [
       "Text(0.5, 1.0, 'Distribution of Total Concentration in Final Concentrate')"
      ]
     },
     "execution_count": 608,
     "metadata": {},
     "output_type": "execute_result"
    },
    {
     "data": {
      "image/png": "[encoded data removed]",
      "text/plain": [
       "<Figure size 864x576 with 1 Axes>"
      ]
     },
     "metadata": {
      "needs_background": "light"
     },
     "output_type": "display_data"
    }
   ],
   "source": [
    "# Final concentrate stage (final.output.concentrate)\n",
    "df_full['final.output.concentrate'] = df_full['final.output.concentrate_au'] + df_full['final.output.concentrate_ag'] + df_full['final.output.concentrate_pb']\n",
    "\n",
    "# Plotting distribution of all substances for final concentrate stage\n",
    "rougher_concentrate_stage = df_full['final.output.concentrate']\n",
    "plt.figure(figsize=(12,8))\n",
    "plt.hist(rougher_concentrate_stage, density=True, bins=100)\n",
    "\n",
    "# Adding title and axes label\n",
    "plt.xlabel('final.output.concentrate')\n",
    "plt.ylabel('frequency')\n",
    "plt.title('Distribution of Total Concentration in Final Concentrate')"
   ]
  },
  {
   "cell_type": "markdown",
   "metadata": {
    "id": "Ptc74i28DpEC"
   },
   "source": [
    "The distribution of the total concentration in the rougher concentrate stage is skewed to the left with most values clustered on the right. There is a large spike in concentration at the 0 mark. This means that there are outliers in the data that need to be removed."
   ]
  },
  {
   "cell_type": "code",
   "execution_count": 609,
   "metadata": {
    "colab": {
     "base_uri": "https://localhost:8080/"
    },
    "id": "dRMEcVsaGQCl",
    "outputId": "ca78d7d9-3b1d-49a2-f451-2a026d10294f"
   },
   "outputs": [
    {
     "name": "stdout",
     "output_type": "stream",
     "text": [
      "Shape of df_full_filtered: (19896, 90)\n"
     ]
    }
   ],
   "source": [
    "# Creating filtered dataset without outliers\n",
    "df_full_filtered = df_full[(df_full['rougher.input.feed'] > 1) & (df_full['rougher.output.concentrate'] > 1) & (df_full['final.output.concentrate'] > 1)]\n",
    "\n",
    "# Getting number of rows and columns of filtered dataset\n",
    "print('Shape of df_full_filtered:', df_full_filtered.shape)"
   ]
  },
  {
   "cell_type": "code",
   "execution_count": 610,
   "metadata": {
    "id": "QC2vPYnCHpaL"
   },
   "outputs": [],
   "source": [
    "# Making date the index of the datasets\n",
    "df_train.set_index('date', inplace=True)\n",
    "df_test.set_index('date', inplace=True)\n",
    "df_full_filtered.set_index('date', inplace=True)"
   ]
  },
  {
   "cell_type": "markdown",
   "metadata": {
    "id": "Kp-Dc80TI3Od"
   },
   "source": [
    "We use this new index to filter out outliers in the training set and test set. "
   ]
  },
  {
   "cell_type": "code",
   "execution_count": 611,
   "metadata": {
    "colab": {
     "base_uri": "https://localhost:8080/"
    },
    "id": "rfCqPqPkI9zx",
    "outputId": "fb3a9b26-8201-4a8e-f1a1-053b8e771cf0"
   },
   "outputs": [
    {
     "name": "stdout",
     "output_type": "stream",
     "text": [
      "Shape of df_train_filtered: (14608, 90)\n"
     ]
    }
   ],
   "source": [
    "# Index of df_train in df_full\n",
    "df_train_index_filter = df_full_filtered.index.intersection(df_train.index)\n",
    "\n",
    "# Filtering out outliers in df_train\n",
    "df_train_filtered = df_full_filtered.loc[df_train_index_filter]\n",
    "df_train_filtered.reset_index(inplace=True)\n",
    "\n",
    "# Getting number of rows and columns of filtered dataset\n",
    "print('Shape of df_train_filtered:', df_train_filtered.shape)"
   ]
  },
  {
   "cell_type": "code",
   "execution_count": 612,
   "metadata": {
    "colab": {
     "base_uri": "https://localhost:8080/"
    },
    "id": "BSihiHzuLHUC",
    "outputId": "633b65f8-f77a-419e-f91d-6b5afa605e16"
   },
   "outputs": [
    {
     "name": "stdout",
     "output_type": "stream",
     "text": [
      "Shape of df_train_filtered: (5288, 90)\n"
     ]
    }
   ],
   "source": [
    "# Index of df_test in df_full\n",
    "df_test_index_filter = df_full_filtered.index.intersection(df_test.index)\n",
    "\n",
    "# Filtering out outliers in df_test\n",
    "df_test_filtered = df_full_filtered.loc[df_test_index_filter]\n",
    "df_test_filtered.reset_index(inplace=True)\n",
    "\n",
    "# Getting number of rows and columns of filtered dataset\n",
    "print('Shape of df_train_filtered:', df_test_filtered.shape)"
   ]
  },
  {
   "cell_type": "markdown",
   "metadata": {
    "id": "4r4XWekdLW5Y"
   },
   "source": [
    "#### Conclusion \n",
    "We checked for outliers in the total concentrations of all substances at different stages: raw feed, rougher concentrate, and final concentrate. There was a spike in frequency at the value 0, which indicated abnormal values in total distribution. We removed the outliers and created new filtered datasets for `df_full`, `df_train`, and `df_test`. \n",
    "\n",
    "Using our filtered datasets, we can now train different models to calculate sMAPE.\n"
   ]
  },
  {
   "cell_type": "markdown",
   "metadata": {
    "id": "XmSBk6cQPtRD"
   },
   "source": [
    "## Model Building"
   ]
  },
  {
   "cell_type": "code",
   "execution_count": 613,
   "metadata": {
    "id": "KKTvqBmaPuiX"
   },
   "outputs": [],
   "source": [
    "# Creating function to calculate the symmetric mean absolute percentage error (sMAPE)\n",
    "def smape (actual, predicted):\n",
    "  smape =  1/len(actual) * np.sum(2 * np.abs(predicted-actual)/(np.abs(actual) + np.abs(predicted)) * 100)\n",
    "  return smape\n",
    "\n",
    "# Creating function to calcualte final sMAPE\n",
    "def final_smape(actual, predicted):\n",
    "  smape_rougher = smape(actual[:,0], predicted[:,0])\n",
    "  smape_final = smape(actual[:,1], predicted[:,1])\n",
    "  final_smape = ((0.25 * smape_rougher) + (0.75 * smape_final))\n",
    "  return final_smape\n",
    "\n",
    "# Creating user-defined scoring function\n",
    "smape_score = make_scorer(final_smape, greater_is_better=False)"
   ]
  },
  {
   "cell_type": "code",
   "execution_count": 614,
   "metadata": {
    "id": "v7J9GFksGG20"
   },
   "outputs": [],
   "source": [
    "# Declaring variables for features  \n",
    "features_train = df_train_filtered.drop(features_diff, axis=1)\n",
    "features_train = features_train.drop(['date','rougher.output.concentrate','final.output.concentrate'], axis=1)\n",
    "features_test = df_test_filtered.drop(features_diff, axis=1)\n",
    "features_test = features_test.drop(['date','rougher.output.concentrate','final.output.concentrate'], axis=1)\n",
    "\n",
    "# Declaring variables for target\n",
    "target_train = df_train_filtered[['rougher.output.recovery', 'final.output.recovery']]\n",
    "target_test = df_test_filtered[['rougher.output.recovery', 'final.output.recovery']]"
   ]
  },
  {
   "cell_type": "code",
   "execution_count": 615,
   "metadata": {
    "id": "dsC9ggXKIGqZ"
   },
   "outputs": [],
   "source": [
    "# Tranforming taget data into numpy array \n",
    "target_train = target_train.values\n",
    "target_test = target_test.values"
   ]
  },
  {
   "cell_type": "code",
   "execution_count": 616,
   "metadata": {
    "colab": {
     "base_uri": "https://localhost:8080/"
    },
    "id": "QaPl-_aVIafP",
    "outputId": "d1b9acfc-938e-48a2-ddd9-5bab4ef2fb9f"
   },
   "outputs": [
    {
     "name": "stdout",
     "output_type": "stream",
     "text": [
      "Baseline sMAPE = 15.12%\n",
      "Baseline final sMAPE score = 8.29%\n"
     ]
    }
   ],
   "source": [
    "# Creating a baseline model\n",
    "dr = DummyRegressor()\n",
    "dr.fit(features_train, target_train)\n",
    "dr_pred = dr.predict(features_test)\n",
    "print('Baseline sMAPE = {:.2f}%'.format(smape(target_test, dr_pred)))\n",
    "print('Baseline final sMAPE score = {:.2f}%'.format(final_smape(target_test, dr_pred)))"
   ]
  },
  {
   "cell_type": "markdown",
   "metadata": {
    "id": "NoQhxdNnKA7q"
   },
   "source": [
    "The symmetric mean absolute percentage error (sMAPE) is used to measure the predictive accuracy of models. The smaller the value for sMAPE, the better the predictive accuracy of a given model. The final sMAPE score for our baseline model is 8.29%. We will try to improve the score by training different models and evaluating them using cross-validation. "
   ]
  },
  {
   "cell_type": "code",
   "execution_count": 617,
   "metadata": {},
   "outputs": [
    {
     "name": "stdout",
     "output_type": "stream",
     "text": [
      "sMAPE range of values: [-13.14822528 -10.0541952   -9.61917146  -9.0172931  -13.84557208]\n",
      "sMAPE = 14.05%\n",
      "Final sMAPE score = 7.96%\n"
     ]
    }
   ],
   "source": [
    "# Creating pipeline for linear regression model\n",
    "pipeline_lr = Pipeline([('scaler', StandardScaler()),('linear_regression', LinearRegression())])\n",
    "pipeline_lr.fit(features_train, target_train)\n",
    "\n",
    "# Performing cross-validation \n",
    "cv_score_lr = cross_val_score(pipeline_lr, features_train, target_train, cv=5, scoring=smape_score)\n",
    "print('sMAPE range of values:', cv_score_lr)\n",
    "\n",
    "# Calculating sMAPE\n",
    "pipeline_lr_pred = pipeline_lr.predict(features_test)\n",
    "print('sMAPE = {:.2f}%'.format(smape(target_test, pipeline_lr_pred)))\n",
    "print('Final sMAPE score = {:.2f}%'.format(final_smape(target_test, pipeline_lr_pred)))"
   ]
  },
  {
   "cell_type": "code",
   "execution_count": 618,
   "metadata": {
    "colab": {
     "base_uri": "https://localhost:8080/"
    },
    "id": "7Uow8lb8UJnI",
    "outputId": "65b342f6-3d02-43f4-eb2c-622b7fc0de52"
   },
   "outputs": [
    {
     "name": "stderr",
     "output_type": "stream",
     "text": [
      "/tmp/ipykernel_36/1818198077.py:3: RuntimeWarning: invalid value encountered in true_divide\n",
      "  smape =  1/len(actual) * np.sum(2 * np.abs(predicted-actual)/(np.abs(actual) + np.abs(predicted)) * 100)\n"
     ]
    },
    {
     "name": "stdout",
     "output_type": "stream",
     "text": [
      "sMAPE range of values: [         nan -18.22441073 -14.86595086 -18.08474728 -14.99600243]\n"
     ]
    }
   ],
   "source": [
    "# Creating pipeline for decision tree regression model\n",
    "pipeline_dtr = Pipeline([('scaler', StandardScaler()),('decision_tree', DecisionTreeRegressor())])\n",
    "pipeline_dtr.fit(features_train, target_train)\n",
    "\n",
    "# Performing cross-validation \n",
    "cv_score_dtr = cross_val_score(pipeline_dtr, features_train, target_train, cv=5, scoring=smape_score)\n",
    "print('sMAPE range of values:', cv_score_dtr)"
   ]
  },
  {
   "cell_type": "code",
   "execution_count": 619,
   "metadata": {
    "colab": {
     "base_uri": "https://localhost:8080/"
    },
    "id": "gR2GhCsbVFO6",
    "outputId": "48434604-6ec9-4454-8398-782fce5c524c"
   },
   "outputs": [
    {
     "name": "stdout",
     "output_type": "stream",
     "text": [
      "max_depth = 1 :-9.933181224586654\n",
      "max_depth = 2 :-9.944154218533319\n",
      "max_depth = 3 :-9.787576191054129\n",
      "max_depth = 4 :-10.187897487207698\n",
      "max_depth = 5 :-10.256753999363463\n"
     ]
    }
   ],
   "source": [
    "# Tuning hyperparameter max_depth for decision tree regression model\n",
    "for depth in range (1,6):\n",
    "  model = DecisionTreeRegressor(random_state=12345, max_depth=depth)\n",
    "  model.fit(features_train, target_train)\n",
    "  prediction_test = model.predict(features_test)\n",
    "  cv_score = cross_val_score(model, features_train, target_train, cv=5, scoring=smape_score)\n",
    "  print('max_depth =', depth, ':', end='')\n",
    "  print(cv_score.mean())"
   ]
  },
  {
   "cell_type": "code",
   "execution_count": 620,
   "metadata": {
    "colab": {
     "base_uri": "https://localhost:8080/"
    },
    "id": "pXZm8hQxazTp",
    "outputId": "e8c87d12-43dd-4ba5-d241-dcb29ad4f38a"
   },
   "outputs": [
    {
     "name": "stdout",
     "output_type": "stream",
     "text": [
      "sMAPE range of values: [-10.59122692  -8.0250326   -9.62872192  -9.57824608 -11.84267861]\n",
      "sMAPE = 13.69%\n",
      "Final sMAPE score = 7.62%\n"
     ]
    }
   ],
   "source": [
    "# Creating decision tree regression model with hyperparameter tuning\n",
    "pipeline_dtr = Pipeline([('scaler', StandardScaler()),('decision_tree', DecisionTreeRegressor(random_state=12345, max_depth=1))])\n",
    "pipeline_dtr.fit(features_train, target_train)\n",
    "\n",
    "# Performing cross-validation \n",
    "cv_score_dtr = cross_val_score(pipeline_dtr, features_train, target_train, cv=5, scoring=smape_score)\n",
    "print('sMAPE range of values:', cv_score_dtr)\n",
    "\n",
    "# Calculating sMAPE score\n",
    "dtr_pred = pipeline_dtr.predict(features_test)\n",
    "print('sMAPE = {:.2f}%'.format(smape(target_test, dtr_pred)))\n",
    "print('Final sMAPE score = {:.2f}%'.format(final_smape(target_test, dtr_pred)))"
   ]
  },
  {
   "cell_type": "code",
   "execution_count": 621,
   "metadata": {
    "colab": {
     "base_uri": "https://localhost:8080/"
    },
    "id": "UdzwxQd_cxXR",
    "outputId": "67726079-9b80-460b-e3a8-14598b8fea70"
   },
   "outputs": [
    {
     "name": "stdout",
     "output_type": "stream",
     "text": [
      "sMAPE range of values: [-11.08410467  -9.46691089  -9.33163292 -10.69315642 -11.10219584]\n"
     ]
    }
   ],
   "source": [
    "# Creating pipeline for random forest regression model\n",
    "pipeline_rfr = Pipeline([('scaler', StandardScaler()),('random_forest', RandomForestRegressor())])\n",
    "pipeline_rfr.fit(features_train, target_train)\n",
    "\n",
    "# Performing cross-validation \n",
    "cv_score_rfr = cross_val_score(pipeline_rfr, features_train, target_train, cv=5, scoring=smape_score)\n",
    "print('sMAPE range of values:', cv_score_rfr)"
   ]
  },
  {
   "cell_type": "code",
   "execution_count": 622,
   "metadata": {
    "colab": {
     "base_uri": "https://localhost:8080/"
    },
    "id": "1kXTrnKxrAAz",
    "outputId": "ae744d14-794d-4851-a48b-36405bc93e53"
   },
   "outputs": [
    {
     "name": "stdout",
     "output_type": "stream",
     "text": [
      "The best hyperparameters are: {'random_forest__n_estimators': 25}\n"
     ]
    }
   ],
   "source": [
    "# Tuning hyperparameter n_estimators for random forest regression model\n",
    "pipe_params = {'random_forest__n_estimators':[10,15,20,25]}\n",
    "model = RandomForestRegressor(random_state=12345)\n",
    "search = GridSearchCV(pipeline_rfr, param_grid=pipe_params, scoring=smape_score)\n",
    "search.fit(features_train, target_train)\n",
    "print('The best hyperparameters are: {}'.format(search.best_params_))\n",
    "\n",
    "\n",
    "        "
   ]
  },
  {
   "cell_type": "code",
   "execution_count": 623,
   "metadata": {
    "colab": {
     "base_uri": "https://localhost:8080/"
    },
    "id": "CWuMeZsP1i_E",
    "outputId": "cdeff879-b415-49b9-f4de-1be8193766ae"
   },
   "outputs": [
    {
     "name": "stdout",
     "output_type": "stream",
     "text": [
      "sMAPE range of values: [-10.59122692  -8.0250326   -9.62872192  -9.57824608 -11.84267861]\n",
      "sMAPE = 15.45%\n",
      "Final sMAPE score = 8.19%\n"
     ]
    }
   ],
   "source": [
    "# Creating random forest regression model with hyperparameter tuning\n",
    "pipeline_rfr = Pipeline([('scaler', StandardScaler()),('random_forest', RandomForestRegressor(random_state=12345, n_estimators=15))])\n",
    "pipeline_rfr.fit(features_train, target_train)\n",
    "\n",
    "# Performing cross-validation \n",
    "cv_score_rfr = cross_val_score(pipeline_rfr, features_train, target_train, cv=5, scoring=smape_score)\n",
    "print('sMAPE range of values:', cv_score_dtr)\n",
    "\n",
    "# Calculating sMAPE score\n",
    "rfr_pred = pipeline_rfr.predict(features_test)\n",
    "print('sMAPE = {:.2f}%'.format(smape(target_test, rfr_pred)))\n",
    "print('Final sMAPE score = {:.2f}%'.format(final_smape(target_test, rfr_pred)))"
   ]
  },
  {
   "cell_type": "markdown",
   "metadata": {
    "id": "fmEd5SmP-ueS"
   },
   "source": [
    "#### Conclusion \n",
    "We created two functions to calculate the symmetric mean absolute percentage error (sMAPE) and the final symmetric mean absolute percentage error (final sMAPE). sMAPE is used to measure the predictive accuracy of models. The smaller the value for SMAPE, the better the predictive accuracy of a given model. For our baseline model, we obtained a final sMAPE score of 8.29%. Three different regression models were then trained and evaluated with k-fold cross validation as a means of improving the sMAPE score. \n",
    "* For the linear regression model, we obtained a sMAPE score of 14.05% and a final sMAPE score of 7.96%\n",
    "* We trained two different decision tree regression models: one where we  didn’t tune the hyperparameters and one where we tuned the hyperparameters. After hyperparameter tuning, we obtained a sMAPE score of 13.69% and a final sMAPE score of 7.62% \n",
    "* We also trained two different random forest regression models: one where we didn’t tune the hyperparameters and one where we tuned the hyperparameters. After hyperparameter tuning, we obtained a sMAPE score of 15.45% and a final sMAPE score of 8.19%. \n",
    "\n",
    "The best model for our data was the decision tree regression model with a sMAPE score of 7.62%.\n"
   ]
  },
  {
   "cell_type": "markdown",
   "metadata": {
    "id": "E7r7TaXxCgI3"
   },
   "source": [
    "## Findings\n",
    "\n",
    "We simulated the process of recovering gold from gold ore by calculating recovery. We then used the calculated recovery values to calculate the mean absolute error (MAE). We obtained an MAE score close to zero. This means that the calculated recovery values from our simulated recovery process are very similar to the values in `rougher.output.recovery` feature.\n",
    "\n",
    "We plotted the distribution of how the concentrations of metals (Au, Ag, Pb) change depending on the purification stage. Based on our graph, the concentrations of gold (Au) increased during the final output. This means that the purification process is functioning properly. The concentration of the other two metals (Ag and Pb) either decreased or increased during the final stage. We also compared the feed particle size distributions in the training set and in the test set. We found the average particle size for rougher and primary cleaner input in both the training set and test set:\n",
    "* Average particle size for rougher input in training set: 60.189\n",
    "* Average particle size for rougher input in test set: 55.899\n",
    "* Average particle size for primary cleaner input in training set: 7.297\n",
    "* Average particle size for primary cleaner input in test set: 7.265\n",
    "\n",
    "We plotted graphs that showed that compared the particle size distributions in both the training and test set. Our graph further showed that the particle size distributions were similar for both the `rougher.input.feed_size` and `primary_cleaner.input.feed_size`. This indicated that we could train our model without any problems.\n",
    "\n",
    "We also considered the total concentrations of all substances at different stages: raw feed, rougher concentrate, and final concentrate. We plotted the distribution of total concentration at the different stages to check for outliers.  We found that there was a spike in frequency at the value 0 for all three stages. This indicated that there were abnormal values in total distribution. To deal with this, we removed the outliers and created new filtered datasets. Our new filtered datasets were then used to build and train our models.\n",
    "\n",
    "We created two functions to calculate the symmetric mean absolute percentage error (sMAPE) and the final symmetric mean absolute percentage error (final sMAPE). For our baseline model, we obtained a final sMAPE score of 8.29%. Three different regression models were then trained and evaluated with k-fold cross validation as a means of improving the sMAPE score. \n",
    "* For the linear regression model, we obtained a sMAPE score of 14.05% and a final sMAPE score of 7.96%\n",
    "* After hyperparameter tuning of the decision tree regression model, we obtained a sMAPE score of 13.69% and a final sMAPE score of 7.62%\n",
    "* After hyperparameter tuning of the random forest model, we obtained a sMAPE score of 15.45% and a final sMAPE score of 8.19% \n",
    "\n",
    "The best model for our data was the decision tree regression model with a final sMAPE score of 7.62%.\n"
   ]
  }
 ],
 "metadata": {
  "ExecuteTimeLog": [
   {
    "duration": 40854,
    "start_time": "2022-04-09T12:05:24.529Z"
   },
   {
    "duration": 296,
    "start_time": "2022-04-09T12:06:05.385Z"
   },
   {
    "duration": 781,
    "start_time": "2022-04-09T12:06:26.726Z"
   },
   {
    "duration": 21,
    "start_time": "2022-04-09T12:06:30.286Z"
   },
   {
    "duration": 3,
    "start_time": "2022-04-09T12:06:30.629Z"
   },
   {
    "duration": 17,
    "start_time": "2022-04-09T12:06:30.967Z"
   },
   {
    "duration": 19,
    "start_time": "2022-04-09T12:06:31.286Z"
   },
   {
    "duration": 70,
    "start_time": "2022-04-09T12:06:31.461Z"
   },
   {
    "duration": 17,
    "start_time": "2022-04-09T12:06:31.960Z"
   },
   {
    "duration": 4,
    "start_time": "2022-04-09T12:06:32.120Z"
   },
   {
    "duration": 11,
    "start_time": "2022-04-09T12:06:32.277Z"
   },
   {
    "duration": 11,
    "start_time": "2022-04-09T12:06:32.639Z"
   },
   {
    "duration": 22,
    "start_time": "2022-04-09T12:06:32.843Z"
   },
   {
    "duration": 17,
    "start_time": "2022-04-09T12:06:33.648Z"
   },
   {
    "duration": 3,
    "start_time": "2022-04-09T12:06:33.825Z"
   },
   {
    "duration": 17,
    "start_time": "2022-04-09T12:06:34.015Z"
   },
   {
    "duration": 17,
    "start_time": "2022-04-09T12:06:34.553Z"
   },
   {
    "duration": 101,
    "start_time": "2022-04-09T12:06:34.835Z"
   },
   {
    "duration": 7,
    "start_time": "2022-04-09T12:06:36.006Z"
   },
   {
    "duration": 7,
    "start_time": "2022-04-09T12:06:36.153Z"
   },
   {
    "duration": 4,
    "start_time": "2022-04-09T12:06:37.134Z"
   },
   {
    "duration": 10,
    "start_time": "2022-04-09T12:06:38.432Z"
   },
   {
    "duration": 12,
    "start_time": "2022-04-09T12:06:38.727Z"
   },
   {
    "duration": 6,
    "start_time": "2022-04-09T12:06:39.178Z"
   },
   {
    "duration": 8,
    "start_time": "2022-04-09T12:06:40.246Z"
   },
   {
    "duration": 11,
    "start_time": "2022-04-09T12:06:40.812Z"
   },
   {
    "duration": 15,
    "start_time": "2022-04-09T12:06:41.227Z"
   },
   {
    "duration": 10,
    "start_time": "2022-04-09T12:08:00.423Z"
   },
   {
    "duration": 6,
    "start_time": "2022-04-09T12:08:00.628Z"
   },
   {
    "duration": 8,
    "start_time": "2022-04-09T12:08:00.768Z"
   },
   {
    "duration": 3741,
    "start_time": "2022-04-09T12:08:04.608Z"
   },
   {
    "duration": 6,
    "start_time": "2022-04-09T12:08:43.123Z"
   },
   {
    "duration": 4,
    "start_time": "2022-04-09T12:08:43.303Z"
   },
   {
    "duration": 808,
    "start_time": "2022-04-09T12:08:43.439Z"
   },
   {
    "duration": 809,
    "start_time": "2022-04-09T12:08:44.249Z"
   },
   {
    "duration": 241,
    "start_time": "2022-04-09T12:09:57.077Z"
   },
   {
    "duration": 252,
    "start_time": "2022-04-09T12:09:57.530Z"
   },
   {
    "duration": 329,
    "start_time": "2022-04-09T12:09:58.926Z"
   },
   {
    "duration": 25,
    "start_time": "2022-04-09T12:10:00.324Z"
   },
   {
    "duration": 28,
    "start_time": "2022-04-09T12:10:05.367Z"
   },
   {
    "duration": 5,
    "start_time": "2022-04-09T12:10:10.043Z"
   },
   {
    "duration": 24,
    "start_time": "2022-04-09T12:10:14.140Z"
   },
   {
    "duration": 11,
    "start_time": "2022-04-09T12:10:21.281Z"
   },
   {
    "duration": 8,
    "start_time": "2022-04-09T12:10:23.557Z"
   },
   {
    "duration": 24,
    "start_time": "2022-04-09T12:10:35.076Z"
   },
   {
    "duration": 24,
    "start_time": "2022-04-09T12:10:43.192Z"
   },
   {
    "duration": 4,
    "start_time": "2022-04-09T12:11:22.233Z"
   },
   {
    "duration": 12,
    "start_time": "2022-04-09T12:11:22.389Z"
   },
   {
    "duration": 23,
    "start_time": "2022-04-09T12:11:26.720Z"
   },
   {
    "duration": 14,
    "start_time": "2022-04-09T12:11:29.315Z"
   },
   {
    "duration": 53,
    "start_time": "2022-04-09T21:08:01.967Z"
   },
   {
    "duration": 2124,
    "start_time": "2022-04-09T21:08:08.159Z"
   },
   {
    "duration": 767,
    "start_time": "2022-04-09T21:08:10.285Z"
   },
   {
    "duration": 33,
    "start_time": "2022-04-09T21:08:11.054Z"
   },
   {
    "duration": 4,
    "start_time": "2022-04-09T21:08:11.088Z"
   },
   {
    "duration": 21,
    "start_time": "2022-04-09T21:08:11.094Z"
   },
   {
    "duration": 17,
    "start_time": "2022-04-09T21:08:11.117Z"
   },
   {
    "duration": 100,
    "start_time": "2022-04-09T21:08:11.135Z"
   },
   {
    "duration": 18,
    "start_time": "2022-04-09T21:08:11.237Z"
   },
   {
    "duration": 3,
    "start_time": "2022-04-09T21:08:11.257Z"
   },
   {
    "duration": 27,
    "start_time": "2022-04-09T21:08:11.261Z"
   },
   {
    "duration": 11,
    "start_time": "2022-04-09T21:08:11.289Z"
   },
   {
    "duration": 23,
    "start_time": "2022-04-09T21:08:11.301Z"
   },
   {
    "duration": 18,
    "start_time": "2022-04-09T21:08:11.326Z"
   },
   {
    "duration": 32,
    "start_time": "2022-04-09T21:08:11.347Z"
   },
   {
    "duration": 18,
    "start_time": "2022-04-09T21:08:11.381Z"
   },
   {
    "duration": 18,
    "start_time": "2022-04-09T21:08:11.401Z"
   },
   {
    "duration": 133,
    "start_time": "2022-04-09T21:08:11.420Z"
   },
   {
    "duration": 7,
    "start_time": "2022-04-09T21:08:11.554Z"
   },
   {
    "duration": 16,
    "start_time": "2022-04-09T21:08:11.563Z"
   },
   {
    "duration": 8,
    "start_time": "2022-04-09T21:08:11.580Z"
   },
   {
    "duration": 13,
    "start_time": "2022-04-09T21:08:11.589Z"
   },
   {
    "duration": 12,
    "start_time": "2022-04-09T21:08:11.603Z"
   },
   {
    "duration": 6,
    "start_time": "2022-04-09T21:08:11.617Z"
   },
   {
    "duration": 9,
    "start_time": "2022-04-09T21:08:11.624Z"
   },
   {
    "duration": 44,
    "start_time": "2022-04-09T21:08:11.635Z"
   },
   {
    "duration": 14,
    "start_time": "2022-04-09T21:08:11.681Z"
   },
   {
    "duration": 8,
    "start_time": "2022-04-09T21:08:11.697Z"
   },
   {
    "duration": 13,
    "start_time": "2022-04-09T21:08:11.706Z"
   },
   {
    "duration": 19,
    "start_time": "2022-04-09T21:08:11.720Z"
   },
   {
    "duration": 3950,
    "start_time": "2022-04-09T21:08:11.740Z"
   },
   {
    "duration": 7,
    "start_time": "2022-04-09T21:08:15.691Z"
   },
   {
    "duration": 4,
    "start_time": "2022-04-09T21:08:15.699Z"
   },
   {
    "duration": 835,
    "start_time": "2022-04-09T21:08:15.705Z"
   },
   {
    "duration": 831,
    "start_time": "2022-04-09T21:08:16.541Z"
   },
   {
    "duration": 240,
    "start_time": "2022-04-09T21:08:17.374Z"
   },
   {
    "duration": 260,
    "start_time": "2022-04-09T21:08:17.616Z"
   },
   {
    "duration": 364,
    "start_time": "2022-04-09T21:08:17.878Z"
   },
   {
    "duration": 34,
    "start_time": "2022-04-09T21:08:18.244Z"
   },
   {
    "duration": 5,
    "start_time": "2022-04-09T21:08:18.280Z"
   },
   {
    "duration": 15,
    "start_time": "2022-04-09T21:08:18.286Z"
   },
   {
    "duration": 8,
    "start_time": "2022-04-09T21:08:18.305Z"
   },
   {
    "duration": 4,
    "start_time": "2022-04-09T21:08:18.315Z"
   },
   {
    "duration": 4,
    "start_time": "2022-04-09T21:08:31.640Z"
   },
   {
    "duration": 6,
    "start_time": "2022-04-09T21:15:13.078Z"
   },
   {
    "duration": 4,
    "start_time": "2022-04-09T21:16:10.477Z"
   },
   {
    "duration": 75,
    "start_time": "2022-04-09T21:20:02.368Z"
   },
   {
    "duration": 4,
    "start_time": "2022-04-09T21:20:15.049Z"
   },
   {
    "duration": 810,
    "start_time": "2022-04-09T21:20:15.056Z"
   },
   {
    "duration": 24,
    "start_time": "2022-04-09T21:20:15.868Z"
   },
   {
    "duration": 4,
    "start_time": "2022-04-09T21:20:15.894Z"
   },
   {
    "duration": 21,
    "start_time": "2022-04-09T21:20:15.900Z"
   },
   {
    "duration": 18,
    "start_time": "2022-04-09T21:20:15.923Z"
   },
   {
    "duration": 106,
    "start_time": "2022-04-09T21:20:15.942Z"
   },
   {
    "duration": 31,
    "start_time": "2022-04-09T21:20:16.049Z"
   },
   {
    "duration": 4,
    "start_time": "2022-04-09T21:20:16.081Z"
   },
   {
    "duration": 17,
    "start_time": "2022-04-09T21:20:16.086Z"
   },
   {
    "duration": 11,
    "start_time": "2022-04-09T21:20:16.105Z"
   },
   {
    "duration": 25,
    "start_time": "2022-04-09T21:20:16.118Z"
   },
   {
    "duration": 50,
    "start_time": "2022-04-09T21:20:16.145Z"
   },
   {
    "duration": 5,
    "start_time": "2022-04-09T21:20:16.197Z"
   },
   {
    "duration": 20,
    "start_time": "2022-04-09T21:20:16.204Z"
   },
   {
    "duration": 19,
    "start_time": "2022-04-09T21:20:16.226Z"
   },
   {
    "duration": 134,
    "start_time": "2022-04-09T21:20:16.246Z"
   },
   {
    "duration": 7,
    "start_time": "2022-04-09T21:20:16.381Z"
   },
   {
    "duration": 6,
    "start_time": "2022-04-09T21:20:16.390Z"
   },
   {
    "duration": 4,
    "start_time": "2022-04-09T21:20:16.398Z"
   },
   {
    "duration": 13,
    "start_time": "2022-04-09T21:20:16.403Z"
   },
   {
    "duration": 13,
    "start_time": "2022-04-09T21:20:16.418Z"
   },
   {
    "duration": 6,
    "start_time": "2022-04-09T21:20:16.432Z"
   },
   {
    "duration": 44,
    "start_time": "2022-04-09T21:20:16.440Z"
   },
   {
    "duration": 10,
    "start_time": "2022-04-09T21:20:16.486Z"
   },
   {
    "duration": 15,
    "start_time": "2022-04-09T21:20:16.498Z"
   },
   {
    "duration": 8,
    "start_time": "2022-04-09T21:20:16.515Z"
   },
   {
    "duration": 8,
    "start_time": "2022-04-09T21:20:16.525Z"
   },
   {
    "duration": 44,
    "start_time": "2022-04-09T21:20:16.536Z"
   },
   {
    "duration": 3889,
    "start_time": "2022-04-09T21:20:16.582Z"
   },
   {
    "duration": 10,
    "start_time": "2022-04-09T21:20:20.472Z"
   },
   {
    "duration": 8,
    "start_time": "2022-04-09T21:20:20.484Z"
   },
   {
    "duration": 969,
    "start_time": "2022-04-09T21:20:20.494Z"
   },
   {
    "duration": 786,
    "start_time": "2022-04-09T21:20:21.464Z"
   },
   {
    "duration": 261,
    "start_time": "2022-04-09T21:20:22.252Z"
   },
   {
    "duration": 256,
    "start_time": "2022-04-09T21:20:22.515Z"
   },
   {
    "duration": 251,
    "start_time": "2022-04-09T21:20:22.772Z"
   },
   {
    "duration": 27,
    "start_time": "2022-04-09T21:20:23.025Z"
   },
   {
    "duration": 5,
    "start_time": "2022-04-09T21:20:23.053Z"
   },
   {
    "duration": 28,
    "start_time": "2022-04-09T21:20:23.060Z"
   },
   {
    "duration": 8,
    "start_time": "2022-04-09T21:20:23.090Z"
   },
   {
    "duration": 5,
    "start_time": "2022-04-09T21:20:23.099Z"
   },
   {
    "duration": 12,
    "start_time": "2022-04-09T21:20:23.106Z"
   },
   {
    "duration": 12,
    "start_time": "2022-04-09T21:21:11.420Z"
   },
   {
    "duration": 42,
    "start_time": "2022-04-09T21:21:20.833Z"
   },
   {
    "duration": 44,
    "start_time": "2022-04-09T21:22:13.390Z"
   },
   {
    "duration": 849,
    "start_time": "2022-04-09T21:31:20.148Z"
   },
   {
    "duration": 10,
    "start_time": "2022-04-09T21:32:41.357Z"
   },
   {
    "duration": 14,
    "start_time": "2022-04-09T21:33:02.945Z"
   },
   {
    "duration": 14,
    "start_time": "2022-04-09T21:33:42.917Z"
   },
   {
    "duration": 42,
    "start_time": "2022-04-09T21:33:45.830Z"
   },
   {
    "duration": 19,
    "start_time": "2022-04-09T21:41:17.598Z"
   },
   {
    "duration": 19,
    "start_time": "2022-04-09T21:41:48.521Z"
   },
   {
    "duration": 45,
    "start_time": "2022-04-09T21:41:51.384Z"
   },
   {
    "duration": 8629,
    "start_time": "2022-04-09T21:47:34.378Z"
   },
   {
    "duration": 1914,
    "start_time": "2022-04-10T19:04:24.990Z"
   },
   {
    "duration": 801,
    "start_time": "2022-04-10T19:04:26.907Z"
   },
   {
    "duration": 31,
    "start_time": "2022-04-10T19:04:27.710Z"
   },
   {
    "duration": 4,
    "start_time": "2022-04-10T19:04:27.743Z"
   },
   {
    "duration": 23,
    "start_time": "2022-04-10T19:04:27.751Z"
   },
   {
    "duration": 19,
    "start_time": "2022-04-10T19:04:27.776Z"
   },
   {
    "duration": 108,
    "start_time": "2022-04-10T19:04:27.797Z"
   },
   {
    "duration": 33,
    "start_time": "2022-04-10T19:04:27.907Z"
   },
   {
    "duration": 3,
    "start_time": "2022-04-10T19:04:27.942Z"
   },
   {
    "duration": 20,
    "start_time": "2022-04-10T19:04:27.947Z"
   },
   {
    "duration": 12,
    "start_time": "2022-04-10T19:04:27.969Z"
   },
   {
    "duration": 56,
    "start_time": "2022-04-10T19:04:27.983Z"
   },
   {
    "duration": 22,
    "start_time": "2022-04-10T19:04:28.041Z"
   },
   {
    "duration": 7,
    "start_time": "2022-04-10T19:04:28.067Z"
   },
   {
    "duration": 25,
    "start_time": "2022-04-10T19:04:28.076Z"
   },
   {
    "duration": 45,
    "start_time": "2022-04-10T19:04:28.103Z"
   },
   {
    "duration": 124,
    "start_time": "2022-04-10T19:04:28.149Z"
   },
   {
    "duration": 7,
    "start_time": "2022-04-10T19:04:28.275Z"
   },
   {
    "duration": 13,
    "start_time": "2022-04-10T19:04:28.283Z"
   },
   {
    "duration": 7,
    "start_time": "2022-04-10T19:04:28.299Z"
   },
   {
    "duration": 34,
    "start_time": "2022-04-10T19:04:28.308Z"
   },
   {
    "duration": 14,
    "start_time": "2022-04-10T19:04:28.344Z"
   },
   {
    "duration": 8,
    "start_time": "2022-04-10T19:04:28.360Z"
   },
   {
    "duration": 17,
    "start_time": "2022-04-10T19:04:28.369Z"
   },
   {
    "duration": 16,
    "start_time": "2022-04-10T19:04:28.388Z"
   },
   {
    "duration": 40,
    "start_time": "2022-04-10T19:04:28.407Z"
   },
   {
    "duration": 12,
    "start_time": "2022-04-10T19:04:28.448Z"
   },
   {
    "duration": 15,
    "start_time": "2022-04-10T19:04:28.462Z"
   },
   {
    "duration": 15,
    "start_time": "2022-04-10T19:04:28.479Z"
   },
   {
    "duration": 4131,
    "start_time": "2022-04-10T19:04:28.496Z"
   },
   {
    "duration": 12,
    "start_time": "2022-04-10T19:04:32.629Z"
   },
   {
    "duration": 24,
    "start_time": "2022-04-10T19:04:32.643Z"
   },
   {
    "duration": 865,
    "start_time": "2022-04-10T19:04:32.669Z"
   },
   {
    "duration": 807,
    "start_time": "2022-04-10T19:04:33.536Z"
   },
   {
    "duration": 269,
    "start_time": "2022-04-10T19:04:34.345Z"
   },
   {
    "duration": 278,
    "start_time": "2022-04-10T19:04:34.616Z"
   },
   {
    "duration": 501,
    "start_time": "2022-04-10T19:04:34.896Z"
   },
   {
    "duration": 27,
    "start_time": "2022-04-10T19:04:35.398Z"
   },
   {
    "duration": 6,
    "start_time": "2022-04-10T19:04:35.439Z"
   },
   {
    "duration": 24,
    "start_time": "2022-04-10T19:04:35.447Z"
   },
   {
    "duration": 17,
    "start_time": "2022-04-10T19:04:35.475Z"
   },
   {
    "duration": 9,
    "start_time": "2022-04-10T19:04:35.493Z"
   },
   {
    "duration": 32,
    "start_time": "2022-04-10T19:04:41.628Z"
   },
   {
    "duration": 18,
    "start_time": "2022-04-10T19:06:59.527Z"
   },
   {
    "duration": 113,
    "start_time": "2022-04-10T19:10:10.375Z"
   },
   {
    "duration": 15,
    "start_time": "2022-04-10T19:10:16.496Z"
   },
   {
    "duration": 19,
    "start_time": "2022-04-10T19:10:39.200Z"
   },
   {
    "duration": 155,
    "start_time": "2022-04-10T19:19:39.479Z"
   },
   {
    "duration": 189,
    "start_time": "2022-04-10T19:23:12.086Z"
   },
   {
    "duration": 21,
    "start_time": "2022-04-10T19:23:27.366Z"
   },
   {
    "duration": 17,
    "start_time": "2022-04-10T19:23:51.782Z"
   },
   {
    "duration": 20,
    "start_time": "2022-04-10T19:24:14.934Z"
   },
   {
    "duration": 15,
    "start_time": "2022-04-10T19:25:18.861Z"
   },
   {
    "duration": 14,
    "start_time": "2022-04-10T19:25:23.465Z"
   },
   {
    "duration": 18,
    "start_time": "2022-04-10T19:25:46.006Z"
   },
   {
    "duration": 21,
    "start_time": "2022-04-10T19:25:53.463Z"
   },
   {
    "duration": 22,
    "start_time": "2022-04-10T19:29:47.574Z"
   },
   {
    "duration": 129,
    "start_time": "2022-04-10T19:30:28.484Z"
   },
   {
    "duration": 24,
    "start_time": "2022-04-10T19:30:47.467Z"
   },
   {
    "duration": 19,
    "start_time": "2022-04-10T19:32:10.582Z"
   },
   {
    "duration": 18,
    "start_time": "2022-04-10T19:32:18.174Z"
   },
   {
    "duration": 220,
    "start_time": "2022-04-10T19:34:50.782Z"
   },
   {
    "duration": 179,
    "start_time": "2022-04-10T19:35:11.048Z"
   },
   {
    "duration": 149,
    "start_time": "2022-04-10T19:36:30.035Z"
   },
   {
    "duration": 4,
    "start_time": "2022-04-10T19:36:47.209Z"
   },
   {
    "duration": 811,
    "start_time": "2022-04-10T19:36:47.215Z"
   },
   {
    "duration": 30,
    "start_time": "2022-04-10T19:36:48.028Z"
   },
   {
    "duration": 13,
    "start_time": "2022-04-10T19:36:48.060Z"
   },
   {
    "duration": 23,
    "start_time": "2022-04-10T19:36:48.075Z"
   },
   {
    "duration": 19,
    "start_time": "2022-04-10T19:36:48.100Z"
   },
   {
    "duration": 96,
    "start_time": "2022-04-10T19:36:48.121Z"
   },
   {
    "duration": 35,
    "start_time": "2022-04-10T19:36:48.219Z"
   },
   {
    "duration": 4,
    "start_time": "2022-04-10T19:36:48.255Z"
   },
   {
    "duration": 20,
    "start_time": "2022-04-10T19:36:48.260Z"
   },
   {
    "duration": 12,
    "start_time": "2022-04-10T19:36:48.283Z"
   },
   {
    "duration": 52,
    "start_time": "2022-04-10T19:36:48.297Z"
   },
   {
    "duration": 21,
    "start_time": "2022-04-10T19:36:48.350Z"
   },
   {
    "duration": 9,
    "start_time": "2022-04-10T19:36:48.373Z"
   },
   {
    "duration": 27,
    "start_time": "2022-04-10T19:36:48.384Z"
   },
   {
    "duration": 42,
    "start_time": "2022-04-10T19:36:48.413Z"
   },
   {
    "duration": 123,
    "start_time": "2022-04-10T19:36:48.456Z"
   },
   {
    "duration": 8,
    "start_time": "2022-04-10T19:36:48.581Z"
   },
   {
    "duration": 34,
    "start_time": "2022-04-10T19:36:48.590Z"
   },
   {
    "duration": 23,
    "start_time": "2022-04-10T19:36:48.626Z"
   },
   {
    "duration": 34,
    "start_time": "2022-04-10T19:36:48.651Z"
   },
   {
    "duration": 26,
    "start_time": "2022-04-10T19:36:48.687Z"
   },
   {
    "duration": 15,
    "start_time": "2022-04-10T19:36:48.715Z"
   },
   {
    "duration": 24,
    "start_time": "2022-04-10T19:36:48.732Z"
   },
   {
    "duration": 21,
    "start_time": "2022-04-10T19:36:48.758Z"
   },
   {
    "duration": 21,
    "start_time": "2022-04-10T19:36:48.781Z"
   },
   {
    "duration": 10,
    "start_time": "2022-04-10T19:36:48.804Z"
   },
   {
    "duration": 22,
    "start_time": "2022-04-10T19:36:48.816Z"
   },
   {
    "duration": 13,
    "start_time": "2022-04-10T19:36:48.842Z"
   },
   {
    "duration": 3982,
    "start_time": "2022-04-10T19:36:48.856Z"
   },
   {
    "duration": 7,
    "start_time": "2022-04-10T19:36:52.841Z"
   },
   {
    "duration": 9,
    "start_time": "2022-04-10T19:36:52.849Z"
   },
   {
    "duration": 967,
    "start_time": "2022-04-10T19:36:52.860Z"
   },
   {
    "duration": 817,
    "start_time": "2022-04-10T19:36:53.829Z"
   },
   {
    "duration": 274,
    "start_time": "2022-04-10T19:36:54.648Z"
   },
   {
    "duration": 283,
    "start_time": "2022-04-10T19:36:54.924Z"
   },
   {
    "duration": 273,
    "start_time": "2022-04-10T19:36:55.209Z"
   },
   {
    "duration": 20,
    "start_time": "2022-04-10T19:36:55.484Z"
   },
   {
    "duration": 14,
    "start_time": "2022-04-10T19:36:55.506Z"
   },
   {
    "duration": 27,
    "start_time": "2022-04-10T19:36:55.522Z"
   },
   {
    "duration": 15,
    "start_time": "2022-04-10T19:36:55.550Z"
   },
   {
    "duration": 10,
    "start_time": "2022-04-10T19:36:55.567Z"
   },
   {
    "duration": 33,
    "start_time": "2022-04-10T19:36:55.579Z"
   },
   {
    "duration": 25,
    "start_time": "2022-04-10T19:37:18.648Z"
   },
   {
    "duration": 24,
    "start_time": "2022-04-10T19:37:46.500Z"
   },
   {
    "duration": 44,
    "start_time": "2022-04-10T19:37:49.602Z"
   },
   {
    "duration": 4,
    "start_time": "2022-04-10T19:41:56.043Z"
   },
   {
    "duration": 796,
    "start_time": "2022-04-10T19:41:56.049Z"
   },
   {
    "duration": 22,
    "start_time": "2022-04-10T19:41:56.847Z"
   },
   {
    "duration": 10,
    "start_time": "2022-04-10T19:41:56.871Z"
   },
   {
    "duration": 24,
    "start_time": "2022-04-10T19:41:56.884Z"
   },
   {
    "duration": 35,
    "start_time": "2022-04-10T19:41:56.909Z"
   },
   {
    "duration": 78,
    "start_time": "2022-04-10T19:41:56.946Z"
   },
   {
    "duration": 34,
    "start_time": "2022-04-10T19:41:57.025Z"
   },
   {
    "duration": 4,
    "start_time": "2022-04-10T19:41:57.060Z"
   },
   {
    "duration": 20,
    "start_time": "2022-04-10T19:41:57.065Z"
   },
   {
    "duration": 12,
    "start_time": "2022-04-10T19:41:57.087Z"
   },
   {
    "duration": 52,
    "start_time": "2022-04-10T19:41:57.101Z"
   },
   {
    "duration": 20,
    "start_time": "2022-04-10T19:41:57.155Z"
   },
   {
    "duration": 11,
    "start_time": "2022-04-10T19:41:57.177Z"
   },
   {
    "duration": 24,
    "start_time": "2022-04-10T19:41:57.190Z"
   },
   {
    "duration": 37,
    "start_time": "2022-04-10T19:41:57.216Z"
   },
   {
    "duration": 126,
    "start_time": "2022-04-10T19:41:57.255Z"
   },
   {
    "duration": 7,
    "start_time": "2022-04-10T19:41:57.383Z"
   },
   {
    "duration": 10,
    "start_time": "2022-04-10T19:41:57.392Z"
   },
   {
    "duration": 5,
    "start_time": "2022-04-10T19:41:57.406Z"
   },
   {
    "duration": 32,
    "start_time": "2022-04-10T19:41:57.412Z"
   },
   {
    "duration": 14,
    "start_time": "2022-04-10T19:41:57.446Z"
   },
   {
    "duration": 8,
    "start_time": "2022-04-10T19:41:57.462Z"
   },
   {
    "duration": 9,
    "start_time": "2022-04-10T19:41:57.472Z"
   },
   {
    "duration": 13,
    "start_time": "2022-04-10T19:41:57.484Z"
   },
   {
    "duration": 55,
    "start_time": "2022-04-10T19:41:57.499Z"
   },
   {
    "duration": 10,
    "start_time": "2022-04-10T19:41:57.556Z"
   },
   {
    "duration": 12,
    "start_time": "2022-04-10T19:41:57.568Z"
   },
   {
    "duration": 15,
    "start_time": "2022-04-10T19:41:57.583Z"
   },
   {
    "duration": 4666,
    "start_time": "2022-04-10T19:41:57.600Z"
   },
   {
    "duration": 7,
    "start_time": "2022-04-10T19:42:02.268Z"
   },
   {
    "duration": 27,
    "start_time": "2022-04-10T19:42:02.277Z"
   },
   {
    "duration": 857,
    "start_time": "2022-04-10T19:42:02.306Z"
   },
   {
    "duration": 898,
    "start_time": "2022-04-10T19:42:03.165Z"
   },
   {
    "duration": 434,
    "start_time": "2022-04-10T19:42:04.065Z"
   },
   {
    "duration": 282,
    "start_time": "2022-04-10T19:42:04.502Z"
   },
   {
    "duration": 282,
    "start_time": "2022-04-10T19:42:04.786Z"
   },
   {
    "duration": 19,
    "start_time": "2022-04-10T19:42:05.070Z"
   },
   {
    "duration": 6,
    "start_time": "2022-04-10T19:42:05.091Z"
   },
   {
    "duration": 22,
    "start_time": "2022-04-10T19:42:05.098Z"
   },
   {
    "duration": 23,
    "start_time": "2022-04-10T19:42:05.122Z"
   },
   {
    "duration": 17,
    "start_time": "2022-04-10T19:42:05.147Z"
   },
   {
    "duration": 38,
    "start_time": "2022-04-10T19:42:05.166Z"
   },
   {
    "duration": 100114,
    "start_time": "2022-04-10T19:42:05.206Z"
   },
   {
    "duration": 3,
    "start_time": "2022-04-10T19:43:45.322Z"
   },
   {
    "duration": 16,
    "start_time": "2022-04-10T19:43:45.326Z"
   },
   {
    "duration": 2100,
    "start_time": "2022-04-10T19:43:45.344Z"
   },
   {
    "duration": 8745,
    "start_time": "2022-04-10T19:43:47.446Z"
   },
   {
    "duration": 11534,
    "start_time": "2022-04-10T19:43:56.193Z"
   },
   {
    "duration": 3774,
    "start_time": "2022-04-10T19:44:07.728Z"
   },
   {
    "duration": 475578,
    "start_time": "2022-04-10T19:44:11.504Z"
   },
   {
    "duration": 284271,
    "start_time": "2022-04-10T19:52:07.083Z"
   },
   {
    "duration": 48232,
    "start_time": "2022-04-10T19:56:51.356Z"
   },
   {
    "duration": 23,
    "start_time": "2022-04-10T19:57:39.638Z"
   },
   {
    "duration": 0,
    "start_time": "2022-04-10T19:57:39.684Z"
   },
   {
    "duration": 19,
    "start_time": "2022-04-10T20:00:22.792Z"
   },
   {
    "duration": 5,
    "start_time": "2022-04-10T20:01:01.667Z"
   },
   {
    "duration": 4,
    "start_time": "2022-04-10T20:09:24.056Z"
   },
   {
    "duration": 755,
    "start_time": "2022-04-10T20:09:24.062Z"
   },
   {
    "duration": 28,
    "start_time": "2022-04-10T20:09:24.820Z"
   },
   {
    "duration": 4,
    "start_time": "2022-04-10T20:09:24.850Z"
   },
   {
    "duration": 25,
    "start_time": "2022-04-10T20:09:24.855Z"
   },
   {
    "duration": 19,
    "start_time": "2022-04-10T20:09:24.882Z"
   },
   {
    "duration": 107,
    "start_time": "2022-04-10T20:09:24.903Z"
   },
   {
    "duration": 35,
    "start_time": "2022-04-10T20:09:25.013Z"
   },
   {
    "duration": 9,
    "start_time": "2022-04-10T20:09:25.052Z"
   },
   {
    "duration": 19,
    "start_time": "2022-04-10T20:09:25.063Z"
   },
   {
    "duration": 13,
    "start_time": "2022-04-10T20:09:25.084Z"
   },
   {
    "duration": 50,
    "start_time": "2022-04-10T20:09:25.099Z"
   },
   {
    "duration": 21,
    "start_time": "2022-04-10T20:09:25.151Z"
   },
   {
    "duration": 8,
    "start_time": "2022-04-10T20:09:25.174Z"
   },
   {
    "duration": 25,
    "start_time": "2022-04-10T20:09:25.183Z"
   },
   {
    "duration": 44,
    "start_time": "2022-04-10T20:09:25.210Z"
   },
   {
    "duration": 121,
    "start_time": "2022-04-10T20:09:25.256Z"
   },
   {
    "duration": 8,
    "start_time": "2022-04-10T20:09:25.379Z"
   },
   {
    "duration": 14,
    "start_time": "2022-04-10T20:09:25.388Z"
   },
   {
    "duration": 5,
    "start_time": "2022-04-10T20:09:25.405Z"
   },
   {
    "duration": 30,
    "start_time": "2022-04-10T20:09:25.411Z"
   },
   {
    "duration": 14,
    "start_time": "2022-04-10T20:09:25.443Z"
   },
   {
    "duration": 8,
    "start_time": "2022-04-10T20:09:25.460Z"
   },
   {
    "duration": 11,
    "start_time": "2022-04-10T20:09:25.470Z"
   },
   {
    "duration": 16,
    "start_time": "2022-04-10T20:09:25.483Z"
   },
   {
    "duration": 18,
    "start_time": "2022-04-10T20:09:25.538Z"
   },
   {
    "duration": 9,
    "start_time": "2022-04-10T20:09:25.560Z"
   },
   {
    "duration": 15,
    "start_time": "2022-04-10T20:09:25.571Z"
   },
   {
    "duration": 19,
    "start_time": "2022-04-10T20:09:25.588Z"
   },
   {
    "duration": 4303,
    "start_time": "2022-04-10T20:09:25.608Z"
   },
   {
    "duration": 8,
    "start_time": "2022-04-10T20:09:29.914Z"
   },
   {
    "duration": 6,
    "start_time": "2022-04-10T20:09:29.938Z"
   },
   {
    "duration": 881,
    "start_time": "2022-04-10T20:09:29.945Z"
   },
   {
    "duration": 846,
    "start_time": "2022-04-10T20:09:30.828Z"
   },
   {
    "duration": 292,
    "start_time": "2022-04-10T20:09:31.676Z"
   },
   {
    "duration": 293,
    "start_time": "2022-04-10T20:09:31.971Z"
   },
   {
    "duration": 464,
    "start_time": "2022-04-10T20:09:32.266Z"
   },
   {
    "duration": 21,
    "start_time": "2022-04-10T20:09:32.732Z"
   },
   {
    "duration": 7,
    "start_time": "2022-04-10T20:09:32.755Z"
   },
   {
    "duration": 23,
    "start_time": "2022-04-10T20:09:32.763Z"
   },
   {
    "duration": 7,
    "start_time": "2022-04-10T20:09:32.788Z"
   },
   {
    "duration": 6,
    "start_time": "2022-04-10T20:09:32.796Z"
   },
   {
    "duration": 36,
    "start_time": "2022-04-10T20:09:32.804Z"
   },
   {
    "duration": 0,
    "start_time": "2022-04-10T20:09:32.842Z"
   },
   {
    "duration": 0,
    "start_time": "2022-04-10T20:09:32.843Z"
   },
   {
    "duration": 0,
    "start_time": "2022-04-10T20:09:32.844Z"
   },
   {
    "duration": 0,
    "start_time": "2022-04-10T20:09:32.845Z"
   },
   {
    "duration": 0,
    "start_time": "2022-04-10T20:09:32.847Z"
   },
   {
    "duration": 0,
    "start_time": "2022-04-10T20:09:32.848Z"
   },
   {
    "duration": 0,
    "start_time": "2022-04-10T20:09:32.849Z"
   },
   {
    "duration": 0,
    "start_time": "2022-04-10T20:09:32.850Z"
   },
   {
    "duration": 0,
    "start_time": "2022-04-10T20:09:32.851Z"
   },
   {
    "duration": 0,
    "start_time": "2022-04-10T20:09:32.853Z"
   },
   {
    "duration": 26,
    "start_time": "2022-04-10T20:28:17.018Z"
   },
   {
    "duration": 4,
    "start_time": "2022-04-10T20:28:29.635Z"
   },
   {
    "duration": 779,
    "start_time": "2022-04-10T20:28:29.643Z"
   },
   {
    "duration": 26,
    "start_time": "2022-04-10T20:28:30.425Z"
   },
   {
    "duration": 11,
    "start_time": "2022-04-10T20:28:30.453Z"
   },
   {
    "duration": 28,
    "start_time": "2022-04-10T20:28:30.465Z"
   },
   {
    "duration": 18,
    "start_time": "2022-04-10T20:28:30.496Z"
   },
   {
    "duration": 94,
    "start_time": "2022-04-10T20:28:30.516Z"
   },
   {
    "duration": 36,
    "start_time": "2022-04-10T20:28:30.613Z"
   },
   {
    "duration": 13,
    "start_time": "2022-04-10T20:28:30.650Z"
   },
   {
    "duration": 19,
    "start_time": "2022-04-10T20:28:30.665Z"
   },
   {
    "duration": 13,
    "start_time": "2022-04-10T20:28:30.686Z"
   },
   {
    "duration": 50,
    "start_time": "2022-04-10T20:28:30.701Z"
   },
   {
    "duration": 21,
    "start_time": "2022-04-10T20:28:30.753Z"
   },
   {
    "duration": 19,
    "start_time": "2022-04-10T20:28:30.776Z"
   },
   {
    "duration": 35,
    "start_time": "2022-04-10T20:28:30.798Z"
   },
   {
    "duration": 21,
    "start_time": "2022-04-10T20:28:30.838Z"
   },
   {
    "duration": 128,
    "start_time": "2022-04-10T20:28:30.861Z"
   },
   {
    "duration": 8,
    "start_time": "2022-04-10T20:28:30.991Z"
   },
   {
    "duration": 21,
    "start_time": "2022-04-10T20:28:31.001Z"
   },
   {
    "duration": 17,
    "start_time": "2022-04-10T20:28:31.024Z"
   },
   {
    "duration": 16,
    "start_time": "2022-04-10T20:28:31.043Z"
   },
   {
    "duration": 26,
    "start_time": "2022-04-10T20:28:31.061Z"
   },
   {
    "duration": 8,
    "start_time": "2022-04-10T20:28:31.089Z"
   },
   {
    "duration": 19,
    "start_time": "2022-04-10T20:28:31.098Z"
   },
   {
    "duration": 12,
    "start_time": "2022-04-10T20:28:31.138Z"
   },
   {
    "duration": 19,
    "start_time": "2022-04-10T20:28:31.152Z"
   },
   {
    "duration": 10,
    "start_time": "2022-04-10T20:28:31.173Z"
   },
   {
    "duration": 21,
    "start_time": "2022-04-10T20:28:31.185Z"
   },
   {
    "duration": 43,
    "start_time": "2022-04-10T20:28:31.208Z"
   },
   {
    "duration": 4678,
    "start_time": "2022-04-10T20:28:31.253Z"
   },
   {
    "duration": 8,
    "start_time": "2022-04-10T20:28:35.933Z"
   },
   {
    "duration": 16,
    "start_time": "2022-04-10T20:28:35.943Z"
   },
   {
    "duration": 997,
    "start_time": "2022-04-10T20:28:35.961Z"
   },
   {
    "duration": 1225,
    "start_time": "2022-04-10T20:28:36.960Z"
   },
   {
    "duration": 292,
    "start_time": "2022-04-10T20:28:38.187Z"
   },
   {
    "duration": 294,
    "start_time": "2022-04-10T20:28:38.480Z"
   },
   {
    "duration": 290,
    "start_time": "2022-04-10T20:28:38.776Z"
   },
   {
    "duration": 17,
    "start_time": "2022-04-10T20:28:39.068Z"
   },
   {
    "duration": 7,
    "start_time": "2022-04-10T20:28:39.087Z"
   },
   {
    "duration": 23,
    "start_time": "2022-04-10T20:28:39.095Z"
   },
   {
    "duration": 26,
    "start_time": "2022-04-10T20:28:39.120Z"
   },
   {
    "duration": 12,
    "start_time": "2022-04-10T20:28:39.151Z"
   },
   {
    "duration": 37,
    "start_time": "2022-04-10T20:28:39.165Z"
   },
   {
    "duration": 103183,
    "start_time": "2022-04-10T20:28:39.204Z"
   },
   {
    "duration": 4,
    "start_time": "2022-04-10T20:30:22.389Z"
   },
   {
    "duration": 18,
    "start_time": "2022-04-10T20:30:22.395Z"
   },
   {
    "duration": 2828,
    "start_time": "2022-04-10T20:30:22.415Z"
   },
   {
    "duration": 9936,
    "start_time": "2022-04-10T20:30:25.245Z"
   },
   {
    "duration": 8683,
    "start_time": "2022-04-10T20:30:35.183Z"
   },
   {
    "duration": 2996,
    "start_time": "2022-04-10T20:30:43.868Z"
   },
   {
    "duration": 526189,
    "start_time": "2022-04-10T20:30:46.866Z"
   },
   {
    "duration": 4,
    "start_time": "2022-04-10T20:44:56.691Z"
   },
   {
    "duration": 781,
    "start_time": "2022-04-10T20:44:56.697Z"
   },
   {
    "duration": 23,
    "start_time": "2022-04-10T20:44:57.480Z"
   },
   {
    "duration": 34,
    "start_time": "2022-04-10T20:44:57.505Z"
   },
   {
    "duration": 30,
    "start_time": "2022-04-10T20:44:57.542Z"
   },
   {
    "duration": 24,
    "start_time": "2022-04-10T20:44:57.574Z"
   },
   {
    "duration": 131,
    "start_time": "2022-04-10T20:44:57.601Z"
   },
   {
    "duration": 34,
    "start_time": "2022-04-10T20:44:57.734Z"
   },
   {
    "duration": 4,
    "start_time": "2022-04-10T20:44:57.771Z"
   },
   {
    "duration": 27,
    "start_time": "2022-04-10T20:44:57.777Z"
   },
   {
    "duration": 38,
    "start_time": "2022-04-10T20:44:57.806Z"
   },
   {
    "duration": 36,
    "start_time": "2022-04-10T20:44:57.846Z"
   },
   {
    "duration": 24,
    "start_time": "2022-04-10T20:44:57.884Z"
   },
   {
    "duration": 28,
    "start_time": "2022-04-10T20:44:57.910Z"
   },
   {
    "duration": 28,
    "start_time": "2022-04-10T20:44:57.941Z"
   },
   {
    "duration": 21,
    "start_time": "2022-04-10T20:44:57.971Z"
   },
   {
    "duration": 147,
    "start_time": "2022-04-10T20:44:57.994Z"
   },
   {
    "duration": 8,
    "start_time": "2022-04-10T20:44:58.143Z"
   },
   {
    "duration": 14,
    "start_time": "2022-04-10T20:44:58.152Z"
   },
   {
    "duration": 11,
    "start_time": "2022-04-10T20:44:58.168Z"
   },
   {
    "duration": 18,
    "start_time": "2022-04-10T20:44:58.181Z"
   },
   {
    "duration": 14,
    "start_time": "2022-04-10T20:44:58.201Z"
   },
   {
    "duration": 8,
    "start_time": "2022-04-10T20:44:58.240Z"
   },
   {
    "duration": 10,
    "start_time": "2022-04-10T20:44:58.250Z"
   },
   {
    "duration": 19,
    "start_time": "2022-04-10T20:44:58.265Z"
   },
   {
    "duration": 16,
    "start_time": "2022-04-10T20:44:58.287Z"
   },
   {
    "duration": 38,
    "start_time": "2022-04-10T20:44:58.305Z"
   },
   {
    "duration": 12,
    "start_time": "2022-04-10T20:44:58.346Z"
   },
   {
    "duration": 19,
    "start_time": "2022-04-10T20:44:58.361Z"
   },
   {
    "duration": 4588,
    "start_time": "2022-04-10T20:44:58.382Z"
   },
   {
    "duration": 8,
    "start_time": "2022-04-10T20:45:02.972Z"
   },
   {
    "duration": 19,
    "start_time": "2022-04-10T20:45:02.981Z"
   },
   {
    "duration": 837,
    "start_time": "2022-04-10T20:45:03.002Z"
   },
   {
    "duration": 809,
    "start_time": "2022-04-10T20:45:03.841Z"
   },
   {
    "duration": 282,
    "start_time": "2022-04-10T20:45:04.652Z"
   },
   {
    "duration": 519,
    "start_time": "2022-04-10T20:45:04.936Z"
   },
   {
    "duration": 280,
    "start_time": "2022-04-10T20:45:05.457Z"
   },
   {
    "duration": 18,
    "start_time": "2022-04-10T20:45:05.740Z"
   },
   {
    "duration": 6,
    "start_time": "2022-04-10T20:45:05.761Z"
   },
   {
    "duration": 21,
    "start_time": "2022-04-10T20:45:05.769Z"
   },
   {
    "duration": 9,
    "start_time": "2022-04-10T20:45:05.793Z"
   },
   {
    "duration": 36,
    "start_time": "2022-04-10T20:45:05.804Z"
   },
   {
    "duration": 35,
    "start_time": "2022-04-10T20:45:05.842Z"
   },
   {
    "duration": 40,
    "start_time": "2022-04-10T20:45:05.879Z"
   },
   {
    "duration": 3,
    "start_time": "2022-04-10T20:45:05.921Z"
   },
   {
    "duration": 7,
    "start_time": "2022-04-10T20:45:05.938Z"
   },
   {
    "duration": 2192,
    "start_time": "2022-04-10T20:45:05.948Z"
   },
   {
    "duration": 8167,
    "start_time": "2022-04-10T20:45:08.143Z"
   },
   {
    "duration": 7794,
    "start_time": "2022-04-10T20:45:16.312Z"
   },
   {
    "duration": 3073,
    "start_time": "2022-04-10T20:45:24.108Z"
   },
   {
    "duration": 4,
    "start_time": "2022-04-10T21:14:24.243Z"
   },
   {
    "duration": 796,
    "start_time": "2022-04-10T21:14:24.248Z"
   },
   {
    "duration": 23,
    "start_time": "2022-04-10T21:14:25.046Z"
   },
   {
    "duration": 6,
    "start_time": "2022-04-10T21:14:25.070Z"
   },
   {
    "duration": 30,
    "start_time": "2022-04-10T21:14:25.078Z"
   },
   {
    "duration": 35,
    "start_time": "2022-04-10T21:14:25.110Z"
   },
   {
    "duration": 93,
    "start_time": "2022-04-10T21:14:25.147Z"
   },
   {
    "duration": 23,
    "start_time": "2022-04-10T21:14:25.247Z"
   },
   {
    "duration": 4,
    "start_time": "2022-04-10T21:14:25.272Z"
   },
   {
    "duration": 19,
    "start_time": "2022-04-10T21:14:25.277Z"
   },
   {
    "duration": 13,
    "start_time": "2022-04-10T21:14:25.298Z"
   },
   {
    "duration": 53,
    "start_time": "2022-04-10T21:14:25.313Z"
   },
   {
    "duration": 24,
    "start_time": "2022-04-10T21:14:25.368Z"
   },
   {
    "duration": 4,
    "start_time": "2022-04-10T21:14:25.394Z"
   },
   {
    "duration": 51,
    "start_time": "2022-04-10T21:14:25.400Z"
   },
   {
    "duration": 20,
    "start_time": "2022-04-10T21:14:25.452Z"
   },
   {
    "duration": 133,
    "start_time": "2022-04-10T21:14:25.474Z"
   },
   {
    "duration": 9,
    "start_time": "2022-04-10T21:14:25.609Z"
   },
   {
    "duration": 29,
    "start_time": "2022-04-10T21:14:25.619Z"
   },
   {
    "duration": 12,
    "start_time": "2022-04-10T21:14:25.650Z"
   },
   {
    "duration": 15,
    "start_time": "2022-04-10T21:14:25.664Z"
   },
   {
    "duration": 15,
    "start_time": "2022-04-10T21:14:25.681Z"
   },
   {
    "duration": 7,
    "start_time": "2022-04-10T21:14:25.698Z"
   },
   {
    "duration": 37,
    "start_time": "2022-04-10T21:14:25.707Z"
   },
   {
    "duration": 15,
    "start_time": "2022-04-10T21:14:25.746Z"
   },
   {
    "duration": 17,
    "start_time": "2022-04-10T21:14:25.763Z"
   },
   {
    "duration": 9,
    "start_time": "2022-04-10T21:14:25.782Z"
   },
   {
    "duration": 14,
    "start_time": "2022-04-10T21:14:25.793Z"
   },
   {
    "duration": 11,
    "start_time": "2022-04-10T21:14:25.838Z"
   },
   {
    "duration": 4705,
    "start_time": "2022-04-10T21:14:25.851Z"
   },
   {
    "duration": 8,
    "start_time": "2022-04-10T21:14:30.559Z"
   },
   {
    "duration": 15,
    "start_time": "2022-04-10T21:14:30.569Z"
   },
   {
    "duration": 877,
    "start_time": "2022-04-10T21:14:30.586Z"
   },
   {
    "duration": 897,
    "start_time": "2022-04-10T21:14:31.464Z"
   },
   {
    "duration": 292,
    "start_time": "2022-04-10T21:14:32.363Z"
   },
   {
    "duration": 306,
    "start_time": "2022-04-10T21:14:32.657Z"
   },
   {
    "duration": 277,
    "start_time": "2022-04-10T21:14:32.965Z"
   },
   {
    "duration": 19,
    "start_time": "2022-04-10T21:14:33.244Z"
   },
   {
    "duration": 5,
    "start_time": "2022-04-10T21:14:33.265Z"
   },
   {
    "duration": 18,
    "start_time": "2022-04-10T21:14:33.272Z"
   },
   {
    "duration": 8,
    "start_time": "2022-04-10T21:14:33.292Z"
   },
   {
    "duration": 37,
    "start_time": "2022-04-10T21:14:33.302Z"
   },
   {
    "duration": 38,
    "start_time": "2022-04-10T21:14:33.341Z"
   },
   {
    "duration": 97876,
    "start_time": "2022-04-10T21:14:33.381Z"
   },
   {
    "duration": 2,
    "start_time": "2022-04-10T21:16:11.259Z"
   },
   {
    "duration": 14,
    "start_time": "2022-04-10T21:16:11.263Z"
   },
   {
    "duration": 2662,
    "start_time": "2022-04-10T21:16:11.278Z"
   },
   {
    "duration": 8103,
    "start_time": "2022-04-10T21:16:13.944Z"
   },
   {
    "duration": 7389,
    "start_time": "2022-04-10T21:16:22.049Z"
   },
   {
    "duration": 2925,
    "start_time": "2022-04-10T21:16:29.440Z"
   },
   {
    "duration": 478318,
    "start_time": "2022-04-10T21:16:32.367Z"
   },
   {
    "duration": 273147,
    "start_time": "2022-04-10T21:24:30.686Z"
   },
   {
    "duration": 47627,
    "start_time": "2022-04-10T21:29:03.838Z"
   },
   {
    "duration": 95773,
    "start_time": "2022-04-10T21:41:05.053Z"
   },
   {
    "duration": 3211,
    "start_time": "2022-04-10T21:42:40.828Z"
   },
   {
    "duration": 258,
    "start_time": "2022-04-10T21:50:00.387Z"
   },
   {
    "duration": 2692,
    "start_time": "2022-04-10T21:50:03.155Z"
   },
   {
    "duration": 11,
    "start_time": "2022-04-10T22:00:10.726Z"
   },
   {
    "duration": 1625,
    "start_time": "2022-04-10T22:00:26.498Z"
   },
   {
    "duration": 7987,
    "start_time": "2022-04-10T22:00:46.254Z"
   },
   {
    "duration": 0,
    "start_time": "2022-04-10T22:04:56.084Z"
   },
   {
    "duration": 0,
    "start_time": "2022-04-10T22:04:56.085Z"
   },
   {
    "duration": 0,
    "start_time": "2022-04-10T22:04:56.086Z"
   },
   {
    "duration": 0,
    "start_time": "2022-04-10T22:04:56.087Z"
   },
   {
    "duration": 0,
    "start_time": "2022-04-10T22:04:56.088Z"
   },
   {
    "duration": 0,
    "start_time": "2022-04-10T22:04:56.089Z"
   },
   {
    "duration": 0,
    "start_time": "2022-04-10T22:04:56.091Z"
   },
   {
    "duration": 0,
    "start_time": "2022-04-10T22:04:56.092Z"
   },
   {
    "duration": 0,
    "start_time": "2022-04-10T22:04:56.093Z"
   },
   {
    "duration": 0,
    "start_time": "2022-04-10T22:04:56.094Z"
   },
   {
    "duration": 0,
    "start_time": "2022-04-10T22:04:56.095Z"
   },
   {
    "duration": 0,
    "start_time": "2022-04-10T22:04:56.096Z"
   },
   {
    "duration": 0,
    "start_time": "2022-04-10T22:04:56.098Z"
   },
   {
    "duration": 0,
    "start_time": "2022-04-10T22:04:56.099Z"
   },
   {
    "duration": 0,
    "start_time": "2022-04-10T22:04:56.100Z"
   },
   {
    "duration": 0,
    "start_time": "2022-04-10T22:04:56.139Z"
   },
   {
    "duration": 0,
    "start_time": "2022-04-10T22:04:56.141Z"
   },
   {
    "duration": 0,
    "start_time": "2022-04-10T22:04:56.143Z"
   },
   {
    "duration": 0,
    "start_time": "2022-04-10T22:04:56.144Z"
   },
   {
    "duration": 0,
    "start_time": "2022-04-10T22:04:56.145Z"
   },
   {
    "duration": 0,
    "start_time": "2022-04-10T22:04:56.146Z"
   },
   {
    "duration": 0,
    "start_time": "2022-04-10T22:04:56.147Z"
   },
   {
    "duration": 0,
    "start_time": "2022-04-10T22:04:56.148Z"
   },
   {
    "duration": 0,
    "start_time": "2022-04-10T22:04:56.149Z"
   },
   {
    "duration": 0,
    "start_time": "2022-04-10T22:04:56.150Z"
   },
   {
    "duration": 0,
    "start_time": "2022-04-10T22:04:56.151Z"
   },
   {
    "duration": 0,
    "start_time": "2022-04-10T22:04:56.152Z"
   },
   {
    "duration": 0,
    "start_time": "2022-04-10T22:04:56.153Z"
   },
   {
    "duration": 0,
    "start_time": "2022-04-10T22:04:56.155Z"
   },
   {
    "duration": 0,
    "start_time": "2022-04-10T22:04:56.156Z"
   },
   {
    "duration": 0,
    "start_time": "2022-04-10T22:04:56.157Z"
   },
   {
    "duration": 0,
    "start_time": "2022-04-10T22:04:56.159Z"
   },
   {
    "duration": 0,
    "start_time": "2022-04-10T22:04:56.160Z"
   },
   {
    "duration": 0,
    "start_time": "2022-04-10T22:04:56.160Z"
   },
   {
    "duration": 0,
    "start_time": "2022-04-10T22:04:56.162Z"
   },
   {
    "duration": 0,
    "start_time": "2022-04-10T22:04:56.163Z"
   },
   {
    "duration": 0,
    "start_time": "2022-04-10T22:04:56.164Z"
   },
   {
    "duration": 0,
    "start_time": "2022-04-10T22:04:56.165Z"
   },
   {
    "duration": 0,
    "start_time": "2022-04-10T22:04:56.166Z"
   },
   {
    "duration": 0,
    "start_time": "2022-04-10T22:04:56.167Z"
   },
   {
    "duration": 0,
    "start_time": "2022-04-10T22:04:56.169Z"
   },
   {
    "duration": 0,
    "start_time": "2022-04-10T22:04:56.170Z"
   },
   {
    "duration": 0,
    "start_time": "2022-04-10T22:04:56.171Z"
   },
   {
    "duration": 0,
    "start_time": "2022-04-10T22:04:56.172Z"
   },
   {
    "duration": 0,
    "start_time": "2022-04-10T22:04:56.174Z"
   },
   {
    "duration": 0,
    "start_time": "2022-04-10T22:04:56.239Z"
   },
   {
    "duration": 0,
    "start_time": "2022-04-10T22:04:56.241Z"
   },
   {
    "duration": 0,
    "start_time": "2022-04-10T22:04:56.243Z"
   },
   {
    "duration": 0,
    "start_time": "2022-04-10T22:04:56.244Z"
   },
   {
    "duration": 0,
    "start_time": "2022-04-10T22:04:56.245Z"
   },
   {
    "duration": 0,
    "start_time": "2022-04-10T22:04:56.246Z"
   },
   {
    "duration": 0,
    "start_time": "2022-04-10T22:04:56.247Z"
   },
   {
    "duration": 0,
    "start_time": "2022-04-10T22:04:56.249Z"
   },
   {
    "duration": 0,
    "start_time": "2022-04-10T22:04:56.250Z"
   },
   {
    "duration": 2459,
    "start_time": "2022-04-10T22:05:40.887Z"
   },
   {
    "duration": 2628,
    "start_time": "2022-04-10T22:05:54.920Z"
   },
   {
    "duration": 2370,
    "start_time": "2022-04-10T22:06:09.169Z"
   },
   {
    "duration": 1639,
    "start_time": "2022-04-10T22:06:20.166Z"
   },
   {
    "duration": 8097,
    "start_time": "2022-04-10T22:06:25.221Z"
   },
   {
    "duration": 7720,
    "start_time": "2022-04-10T22:06:39.166Z"
   },
   {
    "duration": 7049,
    "start_time": "2022-04-10T22:06:52.484Z"
   },
   {
    "duration": 6483,
    "start_time": "2022-04-10T22:07:13.316Z"
   },
   {
    "duration": 6970,
    "start_time": "2022-04-10T22:07:26.021Z"
   },
   {
    "duration": 97624,
    "start_time": "2022-04-10T22:07:35.127Z"
   },
   {
    "duration": 14,
    "start_time": "2022-04-10T22:28:50.275Z"
   },
   {
    "duration": 13,
    "start_time": "2022-04-10T22:28:59.924Z"
   },
   {
    "duration": 5,
    "start_time": "2022-04-10T22:31:19.122Z"
   },
   {
    "duration": 833,
    "start_time": "2022-04-10T22:31:19.130Z"
   },
   {
    "duration": 21,
    "start_time": "2022-04-10T22:31:19.965Z"
   },
   {
    "duration": 6,
    "start_time": "2022-04-10T22:31:19.989Z"
   },
   {
    "duration": 42,
    "start_time": "2022-04-10T22:31:19.998Z"
   },
   {
    "duration": 20,
    "start_time": "2022-04-10T22:31:20.042Z"
   },
   {
    "duration": 102,
    "start_time": "2022-04-10T22:31:20.064Z"
   },
   {
    "duration": 23,
    "start_time": "2022-04-10T22:31:20.168Z"
   },
   {
    "duration": 5,
    "start_time": "2022-04-10T22:31:20.195Z"
   },
   {
    "duration": 38,
    "start_time": "2022-04-10T22:31:20.203Z"
   },
   {
    "duration": 15,
    "start_time": "2022-04-10T22:31:20.243Z"
   },
   {
    "duration": 27,
    "start_time": "2022-04-10T22:31:20.260Z"
   },
   {
    "duration": 55,
    "start_time": "2022-04-10T22:31:20.290Z"
   },
   {
    "duration": 5,
    "start_time": "2022-04-10T22:31:20.347Z"
   },
   {
    "duration": 25,
    "start_time": "2022-04-10T22:31:20.354Z"
   },
   {
    "duration": 23,
    "start_time": "2022-04-10T22:31:20.382Z"
   },
   {
    "duration": 144,
    "start_time": "2022-04-10T22:31:20.407Z"
   },
   {
    "duration": 9,
    "start_time": "2022-04-10T22:31:20.553Z"
   },
   {
    "duration": 13,
    "start_time": "2022-04-10T22:31:20.564Z"
   },
   {
    "duration": 12,
    "start_time": "2022-04-10T22:31:20.578Z"
   },
   {
    "duration": 16,
    "start_time": "2022-04-10T22:31:20.592Z"
   },
   {
    "duration": 39,
    "start_time": "2022-04-10T22:31:20.610Z"
   },
   {
    "duration": 9,
    "start_time": "2022-04-10T22:31:20.651Z"
   },
   {
    "duration": 9,
    "start_time": "2022-04-10T22:31:20.665Z"
   },
   {
    "duration": 13,
    "start_time": "2022-04-10T22:31:20.676Z"
   },
   {
    "duration": 55,
    "start_time": "2022-04-10T22:31:20.691Z"
   },
   {
    "duration": 9,
    "start_time": "2022-04-10T22:31:20.748Z"
   },
   {
    "duration": 19,
    "start_time": "2022-04-10T22:31:20.759Z"
   },
   {
    "duration": 26,
    "start_time": "2022-04-10T22:31:20.780Z"
   },
   {
    "duration": 4346,
    "start_time": "2022-04-10T22:31:20.808Z"
   },
   {
    "duration": 8,
    "start_time": "2022-04-10T22:31:25.156Z"
   },
   {
    "duration": 18,
    "start_time": "2022-04-10T22:31:25.165Z"
   },
   {
    "duration": 854,
    "start_time": "2022-04-10T22:31:25.185Z"
   },
   {
    "duration": 911,
    "start_time": "2022-04-10T22:31:26.041Z"
   },
   {
    "duration": 268,
    "start_time": "2022-04-10T22:31:26.954Z"
   },
   {
    "duration": 290,
    "start_time": "2022-04-10T22:31:27.224Z"
   },
   {
    "duration": 539,
    "start_time": "2022-04-10T22:31:27.516Z"
   },
   {
    "duration": 20,
    "start_time": "2022-04-10T22:31:28.057Z"
   },
   {
    "duration": 5,
    "start_time": "2022-04-10T22:31:28.079Z"
   },
   {
    "duration": 18,
    "start_time": "2022-04-10T22:31:28.086Z"
   },
   {
    "duration": 34,
    "start_time": "2022-04-10T22:31:28.106Z"
   },
   {
    "duration": 5,
    "start_time": "2022-04-10T22:31:28.142Z"
   },
   {
    "duration": 27,
    "start_time": "2022-04-10T22:31:28.150Z"
   },
   {
    "duration": 11,
    "start_time": "2022-04-10T22:31:28.178Z"
   },
   {
    "duration": 11,
    "start_time": "2022-04-10T22:31:28.191Z"
   },
   {
    "duration": 14,
    "start_time": "2022-04-10T22:33:37.733Z"
   },
   {
    "duration": 3,
    "start_time": "2022-04-10T22:33:42.741Z"
   },
   {
    "duration": 6,
    "start_time": "2022-04-10T22:33:45.794Z"
   },
   {
    "duration": 234,
    "start_time": "2022-04-10T22:33:49.706Z"
   },
   {
    "duration": 2070,
    "start_time": "2022-04-10T22:33:54.872Z"
   },
   {
    "duration": 1550,
    "start_time": "2022-04-10T22:34:03.184Z"
   },
   {
    "duration": 6864,
    "start_time": "2022-04-10T22:34:07.408Z"
   },
   {
    "duration": 4603,
    "start_time": "2022-04-10T22:34:21.125Z"
   },
   {
    "duration": 6048,
    "start_time": "2022-04-10T22:34:30.181Z"
   },
   {
    "duration": 81937,
    "start_time": "2022-04-10T22:34:38.976Z"
   },
   {
    "duration": 390375,
    "start_time": "2022-04-10T22:57:16.170Z"
   },
   {
    "duration": 1898,
    "start_time": "2022-04-10T23:03:55.542Z"
   },
   {
    "duration": 7045,
    "start_time": "2022-04-10T23:03:57.442Z"
   },
   {
    "duration": 5,
    "start_time": "2022-04-10T23:20:14.395Z"
   },
   {
    "duration": 863,
    "start_time": "2022-04-10T23:20:14.402Z"
   },
   {
    "duration": 22,
    "start_time": "2022-04-10T23:20:15.267Z"
   },
   {
    "duration": 7,
    "start_time": "2022-04-10T23:20:15.291Z"
   },
   {
    "duration": 39,
    "start_time": "2022-04-10T23:20:15.300Z"
   },
   {
    "duration": 20,
    "start_time": "2022-04-10T23:20:15.341Z"
   },
   {
    "duration": 97,
    "start_time": "2022-04-10T23:20:15.363Z"
   },
   {
    "duration": 21,
    "start_time": "2022-04-10T23:20:15.462Z"
   },
   {
    "duration": 8,
    "start_time": "2022-04-10T23:20:15.485Z"
   },
   {
    "duration": 18,
    "start_time": "2022-04-10T23:20:15.495Z"
   },
   {
    "duration": 34,
    "start_time": "2022-04-10T23:20:15.516Z"
   },
   {
    "duration": 27,
    "start_time": "2022-04-10T23:20:15.552Z"
   },
   {
    "duration": 21,
    "start_time": "2022-04-10T23:20:15.581Z"
   },
   {
    "duration": 35,
    "start_time": "2022-04-10T23:20:15.604Z"
   },
   {
    "duration": 22,
    "start_time": "2022-04-10T23:20:15.641Z"
   },
   {
    "duration": 20,
    "start_time": "2022-04-10T23:20:15.664Z"
   },
   {
    "duration": 136,
    "start_time": "2022-04-10T23:20:15.687Z"
   },
   {
    "duration": 16,
    "start_time": "2022-04-10T23:20:15.825Z"
   },
   {
    "duration": 11,
    "start_time": "2022-04-10T23:20:15.843Z"
   },
   {
    "duration": 6,
    "start_time": "2022-04-10T23:20:15.856Z"
   },
   {
    "duration": 19,
    "start_time": "2022-04-10T23:20:15.863Z"
   },
   {
    "duration": 15,
    "start_time": "2022-04-10T23:20:15.884Z"
   },
   {
    "duration": 8,
    "start_time": "2022-04-10T23:20:15.901Z"
   },
   {
    "duration": 35,
    "start_time": "2022-04-10T23:20:15.912Z"
   },
   {
    "duration": 13,
    "start_time": "2022-04-10T23:20:15.949Z"
   },
   {
    "duration": 18,
    "start_time": "2022-04-10T23:20:15.964Z"
   },
   {
    "duration": 17,
    "start_time": "2022-04-10T23:20:15.984Z"
   },
   {
    "duration": 44,
    "start_time": "2022-04-10T23:20:16.003Z"
   },
   {
    "duration": 11,
    "start_time": "2022-04-10T23:20:16.052Z"
   },
   {
    "duration": 4035,
    "start_time": "2022-04-10T23:20:16.065Z"
   },
   {
    "duration": 8,
    "start_time": "2022-04-10T23:20:20.102Z"
   },
   {
    "duration": 25,
    "start_time": "2022-04-10T23:20:20.112Z"
   },
   {
    "duration": 785,
    "start_time": "2022-04-10T23:20:20.139Z"
   },
   {
    "duration": 796,
    "start_time": "2022-04-10T23:20:20.926Z"
   },
   {
    "duration": 273,
    "start_time": "2022-04-10T23:20:21.724Z"
   },
   {
    "duration": 657,
    "start_time": "2022-04-10T23:20:22.000Z"
   },
   {
    "duration": 266,
    "start_time": "2022-04-10T23:20:22.659Z"
   },
   {
    "duration": 29,
    "start_time": "2022-04-10T23:20:22.927Z"
   },
   {
    "duration": 5,
    "start_time": "2022-04-10T23:20:22.958Z"
   },
   {
    "duration": 19,
    "start_time": "2022-04-10T23:20:22.965Z"
   },
   {
    "duration": 9,
    "start_time": "2022-04-10T23:20:22.985Z"
   },
   {
    "duration": 6,
    "start_time": "2022-04-10T23:20:22.996Z"
   },
   {
    "duration": 43,
    "start_time": "2022-04-10T23:20:23.004Z"
   },
   {
    "duration": 11,
    "start_time": "2022-04-10T23:20:23.049Z"
   },
   {
    "duration": 10,
    "start_time": "2022-04-10T23:20:23.062Z"
   },
   {
    "duration": 1770,
    "start_time": "2022-04-10T23:20:23.074Z"
   },
   {
    "duration": 7179,
    "start_time": "2022-04-10T23:20:24.847Z"
   },
   {
    "duration": 4473,
    "start_time": "2022-04-10T23:20:32.028Z"
   },
   {
    "duration": 1806,
    "start_time": "2022-04-10T23:20:36.503Z"
   },
   {
    "duration": 393861,
    "start_time": "2022-04-10T23:20:38.311Z"
   },
   {
    "duration": 232374,
    "start_time": "2022-04-10T23:27:12.174Z"
   },
   {
    "duration": 78817,
    "start_time": "2022-04-10T23:31:04.550Z"
   },
   {
    "duration": 58530,
    "start_time": "2022-04-10T23:34:13.041Z"
   },
   {
    "duration": 5,
    "start_time": "2022-04-10T23:39:41.639Z"
   },
   {
    "duration": 885,
    "start_time": "2022-04-10T23:39:41.647Z"
   },
   {
    "duration": 21,
    "start_time": "2022-04-10T23:39:42.534Z"
   },
   {
    "duration": 8,
    "start_time": "2022-04-10T23:39:42.557Z"
   },
   {
    "duration": 25,
    "start_time": "2022-04-10T23:39:42.567Z"
   },
   {
    "duration": 19,
    "start_time": "2022-04-10T23:39:42.594Z"
   },
   {
    "duration": 102,
    "start_time": "2022-04-10T23:39:42.615Z"
   },
   {
    "duration": 33,
    "start_time": "2022-04-10T23:39:42.719Z"
   },
   {
    "duration": 9,
    "start_time": "2022-04-10T23:39:42.754Z"
   },
   {
    "duration": 19,
    "start_time": "2022-04-10T23:39:42.765Z"
   },
   {
    "duration": 12,
    "start_time": "2022-04-10T23:39:42.787Z"
   },
   {
    "duration": 48,
    "start_time": "2022-04-10T23:39:42.801Z"
   },
   {
    "duration": 21,
    "start_time": "2022-04-10T23:39:42.851Z"
   },
   {
    "duration": 7,
    "start_time": "2022-04-10T23:39:42.874Z"
   },
   {
    "duration": 32,
    "start_time": "2022-04-10T23:39:42.883Z"
   },
   {
    "duration": 38,
    "start_time": "2022-04-10T23:39:42.917Z"
   },
   {
    "duration": 129,
    "start_time": "2022-04-10T23:39:42.957Z"
   },
   {
    "duration": 8,
    "start_time": "2022-04-10T23:39:43.088Z"
   },
   {
    "duration": 11,
    "start_time": "2022-04-10T23:39:43.097Z"
   },
   {
    "duration": 7,
    "start_time": "2022-04-10T23:39:43.109Z"
   },
   {
    "duration": 30,
    "start_time": "2022-04-10T23:39:43.118Z"
   },
   {
    "duration": 15,
    "start_time": "2022-04-10T23:39:43.150Z"
   },
   {
    "duration": 7,
    "start_time": "2022-04-10T23:39:43.167Z"
   },
   {
    "duration": 10,
    "start_time": "2022-04-10T23:39:43.176Z"
   },
   {
    "duration": 18,
    "start_time": "2022-04-10T23:39:43.187Z"
   },
   {
    "duration": 19,
    "start_time": "2022-04-10T23:39:43.239Z"
   },
   {
    "duration": 9,
    "start_time": "2022-04-10T23:39:43.260Z"
   },
   {
    "duration": 13,
    "start_time": "2022-04-10T23:39:43.271Z"
   },
   {
    "duration": 21,
    "start_time": "2022-04-10T23:39:43.289Z"
   },
   {
    "duration": 4033,
    "start_time": "2022-04-10T23:39:43.312Z"
   },
   {
    "duration": 6,
    "start_time": "2022-04-10T23:39:47.347Z"
   },
   {
    "duration": 9,
    "start_time": "2022-04-10T23:39:47.355Z"
   },
   {
    "duration": 868,
    "start_time": "2022-04-10T23:39:47.365Z"
   },
   {
    "duration": 804,
    "start_time": "2022-04-10T23:39:48.239Z"
   },
   {
    "duration": 575,
    "start_time": "2022-04-10T23:39:49.046Z"
   },
   {
    "duration": 297,
    "start_time": "2022-04-10T23:39:49.624Z"
   },
   {
    "duration": 294,
    "start_time": "2022-04-10T23:39:49.923Z"
   },
   {
    "duration": 29,
    "start_time": "2022-04-10T23:39:50.218Z"
   },
   {
    "duration": 5,
    "start_time": "2022-04-10T23:39:50.249Z"
   },
   {
    "duration": 18,
    "start_time": "2022-04-10T23:39:50.256Z"
   },
   {
    "duration": 12,
    "start_time": "2022-04-10T23:39:50.275Z"
   },
   {
    "duration": 5,
    "start_time": "2022-04-10T23:39:50.289Z"
   },
   {
    "duration": 21,
    "start_time": "2022-04-10T23:39:50.296Z"
   },
   {
    "duration": 3,
    "start_time": "2022-04-10T23:39:50.340Z"
   },
   {
    "duration": 15,
    "start_time": "2022-04-10T23:39:50.345Z"
   },
   {
    "duration": 1678,
    "start_time": "2022-04-10T23:39:50.362Z"
   },
   {
    "duration": 6914,
    "start_time": "2022-04-10T23:39:52.042Z"
   },
   {
    "duration": 6623,
    "start_time": "2022-04-10T23:39:58.958Z"
   },
   {
    "duration": 590,
    "start_time": "2022-04-10T23:40:05.583Z"
   },
   {
    "duration": 390054,
    "start_time": "2022-04-10T23:40:06.175Z"
   },
   {
    "duration": 238307,
    "start_time": "2022-04-10T23:46:36.239Z"
   },
   {
    "duration": 58591,
    "start_time": "2022-04-10T23:50:34.548Z"
   }
  ],
  "colab": {
   "collapsed_sections": [],
   "name": "Gold Recovery.ipynb",
   "provenance": []
  },
  "kernelspec": {
   "display_name": "Python 3 (ipykernel)",
   "language": "python",
   "name": "python3"
  },
  "language_info": {
   "codemirror_mode": {
    "name": "ipython",
    "version": 3
   },
   "file_extension": ".py",
   "mimetype": "text/x-python",
   "name": "python",
   "nbconvert_exporter": "python",
   "pygments_lexer": "ipython3",
   "version": "3.9.7"
  },
  "toc": {
   "base_numbering": 1,
   "nav_menu": {},
   "number_sections": true,
   "sideBar": true,
   "skip_h1_title": true,
   "title_cell": "Table of Contents",
   "title_sidebar": "Contents",
   "toc_cell": false,
   "toc_position": {},
   "toc_section_display": true,
   "toc_window_display": false
  }
 },
 "nbformat": 4,
 "nbformat_minor": 1
}
