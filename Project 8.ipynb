{
 "cells": [
  {
   "cell_type": "markdown",
   "metadata": {
    "id": "qZPeKUsT6ovB"
   },
   "source": [
    "# Best Place for New Oil Well?"
   ]
  },
  {
   "cell_type": "markdown",
   "metadata": {
    "id": "g9FLKRH46_NN"
   },
   "source": [
    "# Content\n",
    "\n",
    "* [Introduction](#intro)\n",
    "* [Initialization](#initialization)\n",
    "* [Data Exploration](#data_exploration)\n",
    "  * [Region 1](#region_1)\n",
    "  * [Region 2](#region_2)\n",
    "  * [Region 3](#region_3)\n",
    "  * [Conclusion](#conclusion)\n",
    "* [Model Training](#model_training)\n",
    "  * [Splitting the source data](#splitting)\n",
    "    * [Region 1](#region_1)\n",
    "    * [Region 2](#region_2)\n",
    "    * [Region 3](#region_3)\n",
    "  * [Training the model and making predictions](#training_predictions)\n",
    "    * [Region 1](#region_1)\n",
    "    * [Region 2](#region_2)\n",
    "    * [Region 3](#region_3)\n",
    "  * [Conclusion](#conclusion)\n",
    "* [Calculating Volume of Reserve](#volume)\n",
    "  * [Conclusion](#conclusion)\n",
    "* [Profit Calculation](#profit)\n",
    "  * [Obtaining highest values of predictions](#highest_value)\n",
    "  * [Calculating profit from selected oil well and model predictions](#profit_calculations)\n",
    "* [Bootstrapping for Profit and Risk](#bootstrapping)\n",
    "  * [Region 1](#region_1)\n",
    "  * [Region 2](#region_2)\n",
    "  * [Region 3](#region_3)\n",
    "  * [Conclusion](#conclusion)\n",
    "* [Findings](#findings)"
   ]
  },
  {
   "cell_type": "markdown",
   "metadata": {
    "id": "k_RFqKwv7QKN"
   },
   "source": [
    "## Introduction\n",
    "\n",
    "OilyGiant, a mining company, wants to find the best place for a new oil well. Data on oil samples from three regions, and the parameters of each oil well in the region are given. The budget for development of 200 oil wells is 100 USD million. One barrel of raw materials brings 4.5 USD of revenue, and the revenue from one unit of product is 4,500 USD. We will build a model that helps pick the region with the highest profit margin. \n",
    "\n",
    "**Data Description:**\n",
    "\n",
    "* Geological exploration data for the 3 regions are stored in files:\n",
    "  * `geo_data_0.csv`\n",
    "  * `geo_data_1.csv`\n",
    "  * `geo_data_2.csv`\n",
    "* `id` - unique oil well identifier\n",
    "* `f0`, `f1`, `f2` - three features of points (their specific meaning is unimportant, but the features themselves are significant)\n",
    "* `product` - volume of reserves in the oil well (thousand barrels)\n",
    "\n",
    "**Objectives:**\n",
    "\n",
    "* Train and test the model for each region \n",
    "* Calculate volume of reserves sufficient for developing a new well without losses\n",
    "* Calculate profit from a set of selected oil wells and model predictions \n",
    "* Select a region for oil wells' development and calculate the profit for the obtained volume of reserves \n",
    "* Use bootstrapping technique with 1000 samples to find the distribution of profit "
   ]
  },
  {
   "cell_type": "markdown",
   "metadata": {
    "id": "-IjifZGHEoN0"
   },
   "source": [
    "## Initialization "
   ]
  },
  {
   "cell_type": "code",
   "execution_count": 106,
   "metadata": {
    "id": "PiZlUUhGErIF"
   },
   "outputs": [],
   "source": [
    "# Loading all libraries \n",
    "import pandas as pd\n",
    "import numpy as np\n",
    "from numpy.random import RandomState\n",
    "from sklearn.linear_model import LinearRegression\n",
    "from sklearn.preprocessing import StandardScaler\n",
    "from sklearn.model_selection import train_test_split\n",
    "from sklearn.metrics import f1_score\n",
    "from sklearn.metrics import mean_squared_error\n",
    "from sklearn.metrics import r2_score\n",
    "from sklearn.model_selection import cross_val_score\n"
   ]
  },
  {
   "cell_type": "code",
   "execution_count": 107,
   "metadata": {
    "id": "Gu5FjNvKFMV2"
   },
   "outputs": [],
   "source": [
    "# Loading the data\n",
    "try:\n",
    "  df_0 = pd.read_csv('geo_data_0.csv')\n",
    "  df_1 = pd.read_csv('geo_data_1.csv')\n",
    "  df_2 = pd.read_csv('geo_data_2.csv')\n",
    "except:\n",
    "  df_0 = pd.read_csv('/datasets/geo_data_0.csv')\n",
    "  df_1 = pd.read_csv('/datasets/geo_data_1.csv')\n",
    "  df_2 = pd.read_csv('/datasets/geo_data_2.csv')\n"
   ]
  },
  {
   "cell_type": "markdown",
   "metadata": {
    "id": "w-AUeu_zGgR3"
   },
   "source": [
    "## Data Exploration"
   ]
  },
  {
   "cell_type": "markdown",
   "metadata": {
    "id": "M-NHKxBxGir9"
   },
   "source": [
    "### Region 1 (`geo_data_0`)\n",
    "\n",
    "Description of data:\n",
    "\n",
    "* `id` - unique oil well identifier\n",
    "* `f0`, `f1`, `f2` - three features of points (their specific meaning is unimportant, but the features themselves are significant)\n",
    "* `product` - volume of reserves in the oil well (thousand barrels)"
   ]
  },
  {
   "cell_type": "code",
   "execution_count": 108,
   "metadata": {
    "colab": {
     "base_uri": "https://localhost:8080/",
     "height": 206
    },
    "id": "BaAzIVLhG8Uk",
    "outputId": "831df5ae-e637-4580-d93f-c0b34e3cd1f5"
   },
   "outputs": [
    {
     "data": {
      "text/html": [
       "<div>\n",
       "<style scoped>\n",
       "    .dataframe tbody tr th:only-of-type {\n",
       "        vertical-align: middle;\n",
       "    }\n",
       "\n",
       "    .dataframe tbody tr th {\n",
       "        vertical-align: top;\n",
       "    }\n",
       "\n",
       "    .dataframe thead th {\n",
       "        text-align: right;\n",
       "    }\n",
       "</style>\n",
       "<table border=\"1\" class=\"dataframe\">\n",
       "  <thead>\n",
       "    <tr style=\"text-align: right;\">\n",
       "      <th></th>\n",
       "      <th>id</th>\n",
       "      <th>f0</th>\n",
       "      <th>f1</th>\n",
       "      <th>f2</th>\n",
       "      <th>product</th>\n",
       "    </tr>\n",
       "  </thead>\n",
       "  <tbody>\n",
       "    <tr>\n",
       "      <th>0</th>\n",
       "      <td>txEyH</td>\n",
       "      <td>0.705745</td>\n",
       "      <td>-0.497823</td>\n",
       "      <td>1.221170</td>\n",
       "      <td>105.280062</td>\n",
       "    </tr>\n",
       "    <tr>\n",
       "      <th>1</th>\n",
       "      <td>2acmU</td>\n",
       "      <td>1.334711</td>\n",
       "      <td>-0.340164</td>\n",
       "      <td>4.365080</td>\n",
       "      <td>73.037750</td>\n",
       "    </tr>\n",
       "    <tr>\n",
       "      <th>2</th>\n",
       "      <td>409Wp</td>\n",
       "      <td>1.022732</td>\n",
       "      <td>0.151990</td>\n",
       "      <td>1.419926</td>\n",
       "      <td>85.265647</td>\n",
       "    </tr>\n",
       "    <tr>\n",
       "      <th>3</th>\n",
       "      <td>iJLyR</td>\n",
       "      <td>-0.032172</td>\n",
       "      <td>0.139033</td>\n",
       "      <td>2.978566</td>\n",
       "      <td>168.620776</td>\n",
       "    </tr>\n",
       "    <tr>\n",
       "      <th>4</th>\n",
       "      <td>Xdl7t</td>\n",
       "      <td>1.988431</td>\n",
       "      <td>0.155413</td>\n",
       "      <td>4.751769</td>\n",
       "      <td>154.036647</td>\n",
       "    </tr>\n",
       "  </tbody>\n",
       "</table>\n",
       "</div>"
      ],
      "text/plain": [
       "      id        f0        f1        f2     product\n",
       "0  txEyH  0.705745 -0.497823  1.221170  105.280062\n",
       "1  2acmU  1.334711 -0.340164  4.365080   73.037750\n",
       "2  409Wp  1.022732  0.151990  1.419926   85.265647\n",
       "3  iJLyR -0.032172  0.139033  2.978566  168.620776\n",
       "4  Xdl7t  1.988431  0.155413  4.751769  154.036647"
      ]
     },
     "execution_count": 108,
     "metadata": {},
     "output_type": "execute_result"
    }
   ],
   "source": [
    "# Obtaining the first 5 rows of the table\n",
    "df_0.head()"
   ]
  },
  {
   "cell_type": "code",
   "execution_count": 109,
   "metadata": {
    "colab": {
     "base_uri": "https://localhost:8080/"
    },
    "id": "GlY2Sz-4HGPn",
    "outputId": "8355de00-07fb-4cf4-e1e8-7ea7168ff53e"
   },
   "outputs": [
    {
     "name": "stdout",
     "output_type": "stream",
     "text": [
      "Region 1 has 100000 rows and 5 columns\n"
     ]
    }
   ],
   "source": [
    "# Obtaining the number of rows and columns\n",
    "shape = df_0.shape\n",
    "print('Region 1 has {} rows and {} columns'.format(shape[0], shape[1]))"
   ]
  },
  {
   "cell_type": "code",
   "execution_count": 110,
   "metadata": {
    "colab": {
     "base_uri": "https://localhost:8080/"
    },
    "id": "-zyWdTgZHabe",
    "outputId": "eace1125-097f-46d6-e107-2baa7e17ed44"
   },
   "outputs": [
    {
     "name": "stdout",
     "output_type": "stream",
     "text": [
      "<class 'pandas.core.frame.DataFrame'>\n",
      "RangeIndex: 100000 entries, 0 to 99999\n",
      "Data columns (total 5 columns):\n",
      " #   Column   Non-Null Count   Dtype  \n",
      "---  ------   --------------   -----  \n",
      " 0   id       100000 non-null  object \n",
      " 1   f0       100000 non-null  float64\n",
      " 2   f1       100000 non-null  float64\n",
      " 3   f2       100000 non-null  float64\n",
      " 4   product  100000 non-null  float64\n",
      "dtypes: float64(4), object(1)\n",
      "memory usage: 3.8+ MB\n"
     ]
    }
   ],
   "source": [
    "# Obtaining general info on the table\n",
    "df_0.info()"
   ]
  },
  {
   "cell_type": "markdown",
   "metadata": {
    "id": "Dyz-i7KRHga0"
   },
   "source": [
    "Since each column has 100,000 rows, there is no missing data in this table. "
   ]
  },
  {
   "cell_type": "code",
   "execution_count": 111,
   "metadata": {
    "colab": {
     "base_uri": "https://localhost:8080/"
    },
    "id": "9JrOxqF6JG57",
    "outputId": "13010c32-08e1-47bc-ae6a-4848cc680cff"
   },
   "outputs": [
    {
     "data": {
      "text/plain": [
       "0"
      ]
     },
     "execution_count": 111,
     "metadata": {},
     "output_type": "execute_result"
    }
   ],
   "source": [
    "# Checking for duplicates\n",
    "df_0.duplicated().sum()"
   ]
  },
  {
   "cell_type": "markdown",
   "metadata": {
    "id": "qxjZyzakHveV"
   },
   "source": [
    "### Region 2 (`geo_data_1`)\n",
    "\n",
    "Description of data:\n",
    "\n",
    "* `id` - unique oil well identifier\n",
    "* `f0`, `f1`, `f2` - three features of points (their specific meaning is unimportant, but the features themselves are significant)\n",
    "* `product` - volume of reserves in the oil well (thousand barrels)"
   ]
  },
  {
   "cell_type": "code",
   "execution_count": 112,
   "metadata": {
    "colab": {
     "base_uri": "https://localhost:8080/",
     "height": 206
    },
    "id": "Y98TL4okH5na",
    "outputId": "8eea91f8-17ca-49ce-880c-948746dc11fb"
   },
   "outputs": [
    {
     "data": {
      "text/html": [
       "<div>\n",
       "<style scoped>\n",
       "    .dataframe tbody tr th:only-of-type {\n",
       "        vertical-align: middle;\n",
       "    }\n",
       "\n",
       "    .dataframe tbody tr th {\n",
       "        vertical-align: top;\n",
       "    }\n",
       "\n",
       "    .dataframe thead th {\n",
       "        text-align: right;\n",
       "    }\n",
       "</style>\n",
       "<table border=\"1\" class=\"dataframe\">\n",
       "  <thead>\n",
       "    <tr style=\"text-align: right;\">\n",
       "      <th></th>\n",
       "      <th>id</th>\n",
       "      <th>f0</th>\n",
       "      <th>f1</th>\n",
       "      <th>f2</th>\n",
       "      <th>product</th>\n",
       "    </tr>\n",
       "  </thead>\n",
       "  <tbody>\n",
       "    <tr>\n",
       "      <th>0</th>\n",
       "      <td>kBEdx</td>\n",
       "      <td>-15.001348</td>\n",
       "      <td>-8.276000</td>\n",
       "      <td>-0.005876</td>\n",
       "      <td>3.179103</td>\n",
       "    </tr>\n",
       "    <tr>\n",
       "      <th>1</th>\n",
       "      <td>62mP7</td>\n",
       "      <td>14.272088</td>\n",
       "      <td>-3.475083</td>\n",
       "      <td>0.999183</td>\n",
       "      <td>26.953261</td>\n",
       "    </tr>\n",
       "    <tr>\n",
       "      <th>2</th>\n",
       "      <td>vyE1P</td>\n",
       "      <td>6.263187</td>\n",
       "      <td>-5.948386</td>\n",
       "      <td>5.001160</td>\n",
       "      <td>134.766305</td>\n",
       "    </tr>\n",
       "    <tr>\n",
       "      <th>3</th>\n",
       "      <td>KcrkZ</td>\n",
       "      <td>-13.081196</td>\n",
       "      <td>-11.506057</td>\n",
       "      <td>4.999415</td>\n",
       "      <td>137.945408</td>\n",
       "    </tr>\n",
       "    <tr>\n",
       "      <th>4</th>\n",
       "      <td>AHL4O</td>\n",
       "      <td>12.702195</td>\n",
       "      <td>-8.147433</td>\n",
       "      <td>5.004363</td>\n",
       "      <td>134.766305</td>\n",
       "    </tr>\n",
       "  </tbody>\n",
       "</table>\n",
       "</div>"
      ],
      "text/plain": [
       "      id         f0         f1        f2     product\n",
       "0  kBEdx -15.001348  -8.276000 -0.005876    3.179103\n",
       "1  62mP7  14.272088  -3.475083  0.999183   26.953261\n",
       "2  vyE1P   6.263187  -5.948386  5.001160  134.766305\n",
       "3  KcrkZ -13.081196 -11.506057  4.999415  137.945408\n",
       "4  AHL4O  12.702195  -8.147433  5.004363  134.766305"
      ]
     },
     "execution_count": 112,
     "metadata": {},
     "output_type": "execute_result"
    }
   ],
   "source": [
    "# Obtaining first 5 rows of the table\n",
    "df_1.head()"
   ]
  },
  {
   "cell_type": "code",
   "execution_count": 113,
   "metadata": {
    "colab": {
     "base_uri": "https://localhost:8080/"
    },
    "id": "Ads-g52eH_Lc",
    "outputId": "eb28ec72-6a18-4c22-9785-3b1c228ced2f"
   },
   "outputs": [
    {
     "name": "stdout",
     "output_type": "stream",
     "text": [
      "Region 2 has 100000 rows and 5 columns\n"
     ]
    }
   ],
   "source": [
    "# Obtaining number of rows and columns \n",
    "shape = df_1.shape\n",
    "print('Region 2 has {} rows and {} columns'.format(shape[0], shape[1]))"
   ]
  },
  {
   "cell_type": "code",
   "execution_count": 114,
   "metadata": {
    "colab": {
     "base_uri": "https://localhost:8080/"
    },
    "id": "y7NpTAlkINto",
    "outputId": "c25510d9-34fc-433e-871d-48f03aa1ad0c"
   },
   "outputs": [
    {
     "name": "stdout",
     "output_type": "stream",
     "text": [
      "<class 'pandas.core.frame.DataFrame'>\n",
      "RangeIndex: 100000 entries, 0 to 99999\n",
      "Data columns (total 5 columns):\n",
      " #   Column   Non-Null Count   Dtype  \n",
      "---  ------   --------------   -----  \n",
      " 0   id       100000 non-null  object \n",
      " 1   f0       100000 non-null  float64\n",
      " 2   f1       100000 non-null  float64\n",
      " 3   f2       100000 non-null  float64\n",
      " 4   product  100000 non-null  float64\n",
      "dtypes: float64(4), object(1)\n",
      "memory usage: 3.8+ MB\n"
     ]
    }
   ],
   "source": [
    "# Obtaining general info on the table\n",
    "df_1.info()"
   ]
  },
  {
   "cell_type": "markdown",
   "metadata": {
    "id": "7M7R4WK_ITme"
   },
   "source": [
    "Since each column has 100,000 rows, there is no missing data in this table. "
   ]
  },
  {
   "cell_type": "code",
   "execution_count": 115,
   "metadata": {
    "colab": {
     "base_uri": "https://localhost:8080/"
    },
    "id": "-OXOb-rkJPFe",
    "outputId": "71371b12-7f68-4c6c-abe7-99059133cd8b"
   },
   "outputs": [
    {
     "data": {
      "text/plain": [
       "0"
      ]
     },
     "execution_count": 115,
     "metadata": {},
     "output_type": "execute_result"
    }
   ],
   "source": [
    "# Checking for duplicates\n",
    "df_1.duplicated().sum()"
   ]
  },
  {
   "cell_type": "markdown",
   "metadata": {
    "id": "hf1NlQEEIY0S"
   },
   "source": [
    "### Region 3 (`geo_data_2`)\n",
    "\n",
    "Description of data:\n",
    "* `id` - unique oil well identifier\n",
    "* `f0`, `f1`, `f2` - three features of points (their specific meaning is unimportant, but the features themselves are significant)\n",
    "* `product` - volume of reserves in the oil well (thousand barrels)"
   ]
  },
  {
   "cell_type": "code",
   "execution_count": 116,
   "metadata": {
    "colab": {
     "base_uri": "https://localhost:8080/",
     "height": 206
    },
    "id": "xHiNY33TImgG",
    "outputId": "a33e12b7-874f-428f-dec8-4446f147c0a0"
   },
   "outputs": [
    {
     "data": {
      "text/html": [
       "<div>\n",
       "<style scoped>\n",
       "    .dataframe tbody tr th:only-of-type {\n",
       "        vertical-align: middle;\n",
       "    }\n",
       "\n",
       "    .dataframe tbody tr th {\n",
       "        vertical-align: top;\n",
       "    }\n",
       "\n",
       "    .dataframe thead th {\n",
       "        text-align: right;\n",
       "    }\n",
       "</style>\n",
       "<table border=\"1\" class=\"dataframe\">\n",
       "  <thead>\n",
       "    <tr style=\"text-align: right;\">\n",
       "      <th></th>\n",
       "      <th>id</th>\n",
       "      <th>f0</th>\n",
       "      <th>f1</th>\n",
       "      <th>f2</th>\n",
       "      <th>product</th>\n",
       "    </tr>\n",
       "  </thead>\n",
       "  <tbody>\n",
       "    <tr>\n",
       "      <th>0</th>\n",
       "      <td>fwXo0</td>\n",
       "      <td>-1.146987</td>\n",
       "      <td>0.963328</td>\n",
       "      <td>-0.828965</td>\n",
       "      <td>27.758673</td>\n",
       "    </tr>\n",
       "    <tr>\n",
       "      <th>1</th>\n",
       "      <td>WJtFt</td>\n",
       "      <td>0.262778</td>\n",
       "      <td>0.269839</td>\n",
       "      <td>-2.530187</td>\n",
       "      <td>56.069697</td>\n",
       "    </tr>\n",
       "    <tr>\n",
       "      <th>2</th>\n",
       "      <td>ovLUW</td>\n",
       "      <td>0.194587</td>\n",
       "      <td>0.289035</td>\n",
       "      <td>-5.586433</td>\n",
       "      <td>62.871910</td>\n",
       "    </tr>\n",
       "    <tr>\n",
       "      <th>3</th>\n",
       "      <td>q6cA6</td>\n",
       "      <td>2.236060</td>\n",
       "      <td>-0.553760</td>\n",
       "      <td>0.930038</td>\n",
       "      <td>114.572842</td>\n",
       "    </tr>\n",
       "    <tr>\n",
       "      <th>4</th>\n",
       "      <td>WPMUX</td>\n",
       "      <td>-0.515993</td>\n",
       "      <td>1.716266</td>\n",
       "      <td>5.899011</td>\n",
       "      <td>149.600746</td>\n",
       "    </tr>\n",
       "  </tbody>\n",
       "</table>\n",
       "</div>"
      ],
      "text/plain": [
       "      id        f0        f1        f2     product\n",
       "0  fwXo0 -1.146987  0.963328 -0.828965   27.758673\n",
       "1  WJtFt  0.262778  0.269839 -2.530187   56.069697\n",
       "2  ovLUW  0.194587  0.289035 -5.586433   62.871910\n",
       "3  q6cA6  2.236060 -0.553760  0.930038  114.572842\n",
       "4  WPMUX -0.515993  1.716266  5.899011  149.600746"
      ]
     },
     "execution_count": 116,
     "metadata": {},
     "output_type": "execute_result"
    }
   ],
   "source": [
    "# Obtaining first 5 rows of the table\n",
    "df_2.head()"
   ]
  },
  {
   "cell_type": "code",
   "execution_count": 117,
   "metadata": {
    "colab": {
     "base_uri": "https://localhost:8080/"
    },
    "id": "o-KO3GrRIt_r",
    "outputId": "ea90ea71-c9a2-4f2f-bda6-e0999876ebbd"
   },
   "outputs": [
    {
     "name": "stdout",
     "output_type": "stream",
     "text": [
      "Region 3 has 100000 rows and 5 columns\n"
     ]
    }
   ],
   "source": [
    "# Obtaining number of rows and columns \n",
    "shape = df_2.shape\n",
    "print('Region 3 has {} rows and {} columns'.format(shape[0], shape[1]))"
   ]
  },
  {
   "cell_type": "code",
   "execution_count": 118,
   "metadata": {
    "colab": {
     "base_uri": "https://localhost:8080/"
    },
    "id": "rCfEQtD9I8T4",
    "outputId": "82e38cd2-b39a-48fd-ad05-f43e9e9db609"
   },
   "outputs": [
    {
     "name": "stdout",
     "output_type": "stream",
     "text": [
      "<class 'pandas.core.frame.DataFrame'>\n",
      "RangeIndex: 100000 entries, 0 to 99999\n",
      "Data columns (total 5 columns):\n",
      " #   Column   Non-Null Count   Dtype  \n",
      "---  ------   --------------   -----  \n",
      " 0   id       100000 non-null  object \n",
      " 1   f0       100000 non-null  float64\n",
      " 2   f1       100000 non-null  float64\n",
      " 3   f2       100000 non-null  float64\n",
      " 4   product  100000 non-null  float64\n",
      "dtypes: float64(4), object(1)\n",
      "memory usage: 3.8+ MB\n"
     ]
    }
   ],
   "source": [
    "# Obtaining general info on the table\n",
    "df_2.info()"
   ]
  },
  {
   "cell_type": "markdown",
   "metadata": {
    "id": "bboQNYGUJAIw"
   },
   "source": [
    "Since each column has 100,000 rows, there is no missing data in the table. "
   ]
  },
  {
   "cell_type": "code",
   "execution_count": 119,
   "metadata": {
    "colab": {
     "base_uri": "https://localhost:8080/"
    },
    "id": "0v3j-QEsJShM",
    "outputId": "3de306eb-1a42-47ca-d817-7d1a1de6223b"
   },
   "outputs": [
    {
     "data": {
      "text/plain": [
       "0"
      ]
     },
     "execution_count": 119,
     "metadata": {},
     "output_type": "execute_result"
    }
   ],
   "source": [
    "# Checking for duplicates\n",
    "df_2.duplicated().sum()"
   ]
  },
  {
   "cell_type": "markdown",
   "metadata": {
    "id": "rFwU8XTXJWM9"
   },
   "source": [
    "### Conclusion\n",
    "\n",
    "Each region has 100,000 rows and 5 columns. They all have the same column names and follow good rules of style. There are two types of data, float and object. The values in the column `id` are object type. The values in the columns, `f0`, `f1`, `f2`, and `product` are float type. There are no missing values or duplicates for our three tables. \n",
    "\n",
    "We will now train and test the model for each region."
   ]
  },
  {
   "cell_type": "markdown",
   "metadata": {
    "id": "AT8EUNjgLYNL"
   },
   "source": [
    "## Model Training"
   ]
  },
  {
   "cell_type": "markdown",
   "metadata": {
    "id": "0zFFDaj5Lhbs"
   },
   "source": [
    "### Splitting the source data of each region \n"
   ]
  },
  {
   "cell_type": "markdown",
   "metadata": {
    "id": "b2Nty2mGVTHT"
   },
   "source": [
    "#### Region 1"
   ]
  },
  {
   "cell_type": "code",
   "execution_count": 120,
   "metadata": {
    "colab": {
     "base_uri": "https://localhost:8080/",
     "height": 206
    },
    "id": "6k4lWeBjLwmw",
    "outputId": "a0885cb4-39ba-4778-f0ec-4f263023e566"
   },
   "outputs": [
    {
     "data": {
      "text/html": [
       "<div>\n",
       "<style scoped>\n",
       "    .dataframe tbody tr th:only-of-type {\n",
       "        vertical-align: middle;\n",
       "    }\n",
       "\n",
       "    .dataframe tbody tr th {\n",
       "        vertical-align: top;\n",
       "    }\n",
       "\n",
       "    .dataframe thead th {\n",
       "        text-align: right;\n",
       "    }\n",
       "</style>\n",
       "<table border=\"1\" class=\"dataframe\">\n",
       "  <thead>\n",
       "    <tr style=\"text-align: right;\">\n",
       "      <th></th>\n",
       "      <th>f0</th>\n",
       "      <th>f1</th>\n",
       "      <th>f2</th>\n",
       "      <th>product</th>\n",
       "    </tr>\n",
       "  </thead>\n",
       "  <tbody>\n",
       "    <tr>\n",
       "      <th>0</th>\n",
       "      <td>0.705745</td>\n",
       "      <td>-0.497823</td>\n",
       "      <td>1.221170</td>\n",
       "      <td>105.280062</td>\n",
       "    </tr>\n",
       "    <tr>\n",
       "      <th>1</th>\n",
       "      <td>1.334711</td>\n",
       "      <td>-0.340164</td>\n",
       "      <td>4.365080</td>\n",
       "      <td>73.037750</td>\n",
       "    </tr>\n",
       "    <tr>\n",
       "      <th>2</th>\n",
       "      <td>1.022732</td>\n",
       "      <td>0.151990</td>\n",
       "      <td>1.419926</td>\n",
       "      <td>85.265647</td>\n",
       "    </tr>\n",
       "    <tr>\n",
       "      <th>3</th>\n",
       "      <td>-0.032172</td>\n",
       "      <td>0.139033</td>\n",
       "      <td>2.978566</td>\n",
       "      <td>168.620776</td>\n",
       "    </tr>\n",
       "    <tr>\n",
       "      <th>4</th>\n",
       "      <td>1.988431</td>\n",
       "      <td>0.155413</td>\n",
       "      <td>4.751769</td>\n",
       "      <td>154.036647</td>\n",
       "    </tr>\n",
       "  </tbody>\n",
       "</table>\n",
       "</div>"
      ],
      "text/plain": [
       "         f0        f1        f2     product\n",
       "0  0.705745 -0.497823  1.221170  105.280062\n",
       "1  1.334711 -0.340164  4.365080   73.037750\n",
       "2  1.022732  0.151990  1.419926   85.265647\n",
       "3 -0.032172  0.139033  2.978566  168.620776\n",
       "4  1.988431  0.155413  4.751769  154.036647"
      ]
     },
     "execution_count": 120,
     "metadata": {},
     "output_type": "execute_result"
    }
   ],
   "source": [
    "# Dropping unimportant feature\n",
    "df_0 = df_0.drop(['id'], axis=1)\n",
    "\n",
    "# Checking to make sure column was dropped\n",
    "df_0.head()"
   ]
  },
  {
   "cell_type": "code",
   "execution_count": 121,
   "metadata": {
    "id": "3QBV9_6rR_p-"
   },
   "outputs": [],
   "source": [
    "# Declaring variables for features and target \n",
    "features_0 = df_0.drop(['product'], axis=1)\n",
    "target_0 = df_0['product']"
   ]
  },
  {
   "cell_type": "code",
   "execution_count": 122,
   "metadata": {
    "id": "B4eYT_KKSQZx"
   },
   "outputs": [],
   "source": [
    "# Splitting the data into 75% training set and 25% validation set\n",
    "features_train_0, features_valid_0, target_train_0, target_valid_0 = train_test_split(features_0, target_0, test_size=0.25, random_state=12345)"
   ]
  },
  {
   "cell_type": "code",
   "execution_count": 123,
   "metadata": {
    "colab": {
     "base_uri": "https://localhost:8080/"
    },
    "id": "7dc2Mg_4T9Dv",
    "outputId": "deb69946-a0ee-47c2-be24-a9932d246602"
   },
   "outputs": [
    {
     "name": "stdout",
     "output_type": "stream",
     "text": [
      "The training set contains 75000 rows, which represents 75% of the data\n",
      "The validation set contains 25000 rows, which represents 25% of the data\n"
     ]
    }
   ],
   "source": [
    "# Checking to see if data was split properly\n",
    "print('The training set contains {} rows,'.format(features_train_0.shape[0]), 'which represents 75% of the data')\n",
    "print('The validation set contains {} rows,'.format(features_valid_0.shape[0]), 'which represents 25% of the data')"
   ]
  },
  {
   "cell_type": "code",
   "execution_count": 124,
   "metadata": {
    "id": "Abg4Wn3STZdh"
   },
   "outputs": [],
   "source": [
    "# Features scaling \n",
    "scaler = StandardScaler()\n",
    "scaler.fit(features_train_0)\n",
    "features_train_0 = scaler.transform(features_train_0)\n",
    "features_valid_0 = scaler.transform(features_valid_0)"
   ]
  },
  {
   "cell_type": "code",
   "execution_count": 125,
   "metadata": {
    "colab": {
     "base_uri": "https://localhost:8080/"
    },
    "id": "cz3JVCJ-Ukzg",
    "outputId": "27968a4a-96c4-405b-8bf7-962e41dade77"
   },
   "outputs": [
    {
     "name": "stdout",
     "output_type": "stream",
     "text": [
      "Size of training features: (75000, 3)\n",
      "Size of training target: (75000,)\n",
      "\n",
      "Size of validation features: (25000, 3)\n",
      "Size of validation target: (25000,)\n"
     ]
    }
   ],
   "source": [
    "# Checking size of features and target set\n",
    "print('Size of training features:', features_train_0.shape)\n",
    "print('Size of training target:', target_train_0.shape)\n",
    "print()\n",
    "print('Size of validation features:', features_valid_0.shape)\n",
    "print('Size of validation target:', target_valid_0.shape)"
   ]
  },
  {
   "cell_type": "markdown",
   "metadata": {
    "id": "yXkBxhQUVkfl"
   },
   "source": [
    "#### Region 2"
   ]
  },
  {
   "cell_type": "code",
   "execution_count": 126,
   "metadata": {
    "colab": {
     "base_uri": "https://localhost:8080/",
     "height": 206
    },
    "id": "nwbPxaWiVmGR",
    "outputId": "ad430834-d111-4390-81d2-39f44751cf62"
   },
   "outputs": [
    {
     "data": {
      "text/html": [
       "<div>\n",
       "<style scoped>\n",
       "    .dataframe tbody tr th:only-of-type {\n",
       "        vertical-align: middle;\n",
       "    }\n",
       "\n",
       "    .dataframe tbody tr th {\n",
       "        vertical-align: top;\n",
       "    }\n",
       "\n",
       "    .dataframe thead th {\n",
       "        text-align: right;\n",
       "    }\n",
       "</style>\n",
       "<table border=\"1\" class=\"dataframe\">\n",
       "  <thead>\n",
       "    <tr style=\"text-align: right;\">\n",
       "      <th></th>\n",
       "      <th>f0</th>\n",
       "      <th>f1</th>\n",
       "      <th>f2</th>\n",
       "      <th>product</th>\n",
       "    </tr>\n",
       "  </thead>\n",
       "  <tbody>\n",
       "    <tr>\n",
       "      <th>0</th>\n",
       "      <td>-15.001348</td>\n",
       "      <td>-8.276000</td>\n",
       "      <td>-0.005876</td>\n",
       "      <td>3.179103</td>\n",
       "    </tr>\n",
       "    <tr>\n",
       "      <th>1</th>\n",
       "      <td>14.272088</td>\n",
       "      <td>-3.475083</td>\n",
       "      <td>0.999183</td>\n",
       "      <td>26.953261</td>\n",
       "    </tr>\n",
       "    <tr>\n",
       "      <th>2</th>\n",
       "      <td>6.263187</td>\n",
       "      <td>-5.948386</td>\n",
       "      <td>5.001160</td>\n",
       "      <td>134.766305</td>\n",
       "    </tr>\n",
       "    <tr>\n",
       "      <th>3</th>\n",
       "      <td>-13.081196</td>\n",
       "      <td>-11.506057</td>\n",
       "      <td>4.999415</td>\n",
       "      <td>137.945408</td>\n",
       "    </tr>\n",
       "    <tr>\n",
       "      <th>4</th>\n",
       "      <td>12.702195</td>\n",
       "      <td>-8.147433</td>\n",
       "      <td>5.004363</td>\n",
       "      <td>134.766305</td>\n",
       "    </tr>\n",
       "  </tbody>\n",
       "</table>\n",
       "</div>"
      ],
      "text/plain": [
       "          f0         f1        f2     product\n",
       "0 -15.001348  -8.276000 -0.005876    3.179103\n",
       "1  14.272088  -3.475083  0.999183   26.953261\n",
       "2   6.263187  -5.948386  5.001160  134.766305\n",
       "3 -13.081196 -11.506057  4.999415  137.945408\n",
       "4  12.702195  -8.147433  5.004363  134.766305"
      ]
     },
     "execution_count": 126,
     "metadata": {},
     "output_type": "execute_result"
    }
   ],
   "source": [
    "# Dropping unimportant feature\n",
    "df_1 = df_1.drop(['id'], axis=1)\n",
    "\n",
    "# Checking to make sure column was dropped\n",
    "df_1.head()"
   ]
  },
  {
   "cell_type": "code",
   "execution_count": 127,
   "metadata": {
    "id": "BospAA-tVrhT"
   },
   "outputs": [],
   "source": [
    "# Declaring variables for features and target \n",
    "features_1 = df_1.drop(['product'], axis=1)\n",
    "target_1 = df_1['product']"
   ]
  },
  {
   "cell_type": "code",
   "execution_count": 128,
   "metadata": {
    "id": "tOo46t3DVxpr"
   },
   "outputs": [],
   "source": [
    "# Splitting the data into 75% training set and 25% validation set\n",
    "features_train_1, features_valid_1, target_train_1, target_valid_1 = train_test_split(features_1, target_1, test_size=0.25, random_state=12345)"
   ]
  },
  {
   "cell_type": "code",
   "execution_count": 129,
   "metadata": {
    "colab": {
     "base_uri": "https://localhost:8080/"
    },
    "id": "xTGsJ2W0V3Vr",
    "outputId": "3da468a8-8dbe-4888-c30f-7753c4ed1a00"
   },
   "outputs": [
    {
     "name": "stdout",
     "output_type": "stream",
     "text": [
      "The training set contains 75000 rows, which represents 75% of the data\n",
      "The validation set contains 25000 rows, which represents 25% of the data\n"
     ]
    }
   ],
   "source": [
    "# Checking to see if data was split properly\n",
    "print('The training set contains {} rows,'.format(features_train_1.shape[0]), 'which represents 75% of the data')\n",
    "print('The validation set contains {} rows,'.format(features_valid_1.shape[0]), 'which represents 25% of the data')"
   ]
  },
  {
   "cell_type": "code",
   "execution_count": 130,
   "metadata": {
    "id": "JczjaP3lV-V_"
   },
   "outputs": [],
   "source": [
    "# Features scaling \n",
    "scaler = StandardScaler()\n",
    "scaler.fit(features_train_1)\n",
    "features_train_1 = scaler.transform(features_train_1)\n",
    "features_valid_1 = scaler.transform(features_valid_1)"
   ]
  },
  {
   "cell_type": "code",
   "execution_count": 131,
   "metadata": {
    "colab": {
     "base_uri": "https://localhost:8080/"
    },
    "id": "A8_9NEjlWC2J",
    "outputId": "a1e1002e-9049-43f0-81d8-50d8bcccb247"
   },
   "outputs": [
    {
     "name": "stdout",
     "output_type": "stream",
     "text": [
      "Size of training features: (75000, 3)\n",
      "Size of training target: (75000,)\n",
      "\n",
      "Size of validation features: (25000, 3)\n",
      "Size of validation target: (25000,)\n"
     ]
    }
   ],
   "source": [
    "# Checking size of features and target set\n",
    "print('Size of training features:', features_train_1.shape)\n",
    "print('Size of training target:', target_train_1.shape)\n",
    "print()\n",
    "print('Size of validation features:', features_valid_1.shape)\n",
    "print('Size of validation target:', target_valid_1.shape)"
   ]
  },
  {
   "cell_type": "markdown",
   "metadata": {
    "id": "vPT-hFLoWJA8"
   },
   "source": [
    "#### Region 3"
   ]
  },
  {
   "cell_type": "code",
   "execution_count": 132,
   "metadata": {
    "colab": {
     "base_uri": "https://localhost:8080/",
     "height": 206
    },
    "id": "8PlPVmpuWKhi",
    "outputId": "6b297697-59d9-4280-9b33-c0b831f40721"
   },
   "outputs": [
    {
     "data": {
      "text/html": [
       "<div>\n",
       "<style scoped>\n",
       "    .dataframe tbody tr th:only-of-type {\n",
       "        vertical-align: middle;\n",
       "    }\n",
       "\n",
       "    .dataframe tbody tr th {\n",
       "        vertical-align: top;\n",
       "    }\n",
       "\n",
       "    .dataframe thead th {\n",
       "        text-align: right;\n",
       "    }\n",
       "</style>\n",
       "<table border=\"1\" class=\"dataframe\">\n",
       "  <thead>\n",
       "    <tr style=\"text-align: right;\">\n",
       "      <th></th>\n",
       "      <th>f0</th>\n",
       "      <th>f1</th>\n",
       "      <th>f2</th>\n",
       "      <th>product</th>\n",
       "    </tr>\n",
       "  </thead>\n",
       "  <tbody>\n",
       "    <tr>\n",
       "      <th>0</th>\n",
       "      <td>-1.146987</td>\n",
       "      <td>0.963328</td>\n",
       "      <td>-0.828965</td>\n",
       "      <td>27.758673</td>\n",
       "    </tr>\n",
       "    <tr>\n",
       "      <th>1</th>\n",
       "      <td>0.262778</td>\n",
       "      <td>0.269839</td>\n",
       "      <td>-2.530187</td>\n",
       "      <td>56.069697</td>\n",
       "    </tr>\n",
       "    <tr>\n",
       "      <th>2</th>\n",
       "      <td>0.194587</td>\n",
       "      <td>0.289035</td>\n",
       "      <td>-5.586433</td>\n",
       "      <td>62.871910</td>\n",
       "    </tr>\n",
       "    <tr>\n",
       "      <th>3</th>\n",
       "      <td>2.236060</td>\n",
       "      <td>-0.553760</td>\n",
       "      <td>0.930038</td>\n",
       "      <td>114.572842</td>\n",
       "    </tr>\n",
       "    <tr>\n",
       "      <th>4</th>\n",
       "      <td>-0.515993</td>\n",
       "      <td>1.716266</td>\n",
       "      <td>5.899011</td>\n",
       "      <td>149.600746</td>\n",
       "    </tr>\n",
       "  </tbody>\n",
       "</table>\n",
       "</div>"
      ],
      "text/plain": [
       "         f0        f1        f2     product\n",
       "0 -1.146987  0.963328 -0.828965   27.758673\n",
       "1  0.262778  0.269839 -2.530187   56.069697\n",
       "2  0.194587  0.289035 -5.586433   62.871910\n",
       "3  2.236060 -0.553760  0.930038  114.572842\n",
       "4 -0.515993  1.716266  5.899011  149.600746"
      ]
     },
     "execution_count": 132,
     "metadata": {},
     "output_type": "execute_result"
    }
   ],
   "source": [
    "# Dropping unimportant feature\n",
    "df_2 = df_2.drop(['id'], axis=1)\n",
    "\n",
    "# Checking to make sure column was dropped\n",
    "df_2.head()"
   ]
  },
  {
   "cell_type": "code",
   "execution_count": 133,
   "metadata": {
    "id": "aPqetU6BWPgT"
   },
   "outputs": [],
   "source": [
    "# Declaring variables for features and target \n",
    "features_2 = df_2.drop(['product'], axis=1)\n",
    "target_2 = df_2['product']"
   ]
  },
  {
   "cell_type": "code",
   "execution_count": 134,
   "metadata": {
    "id": "BFbhu4EHWTiA"
   },
   "outputs": [],
   "source": [
    "# Splitting the data into 75% training set and 25% validation set\n",
    "features_train_2, features_valid_2, target_train_2, target_valid_2 = train_test_split(features_2, target_2, test_size=0.25, random_state=12345)"
   ]
  },
  {
   "cell_type": "code",
   "execution_count": 135,
   "metadata": {
    "colab": {
     "base_uri": "https://localhost:8080/"
    },
    "id": "M9XzCN3uWbVO",
    "outputId": "d3f38375-5b38-47e1-854f-f1f36a0ad3c1"
   },
   "outputs": [
    {
     "name": "stdout",
     "output_type": "stream",
     "text": [
      "The training set contains 75000 rows, which represents 75% of the data\n",
      "The validation set contains 25000 rows, which represents 25% of the data\n"
     ]
    }
   ],
   "source": [
    "# Checking to see if data was split properly\n",
    "print('The training set contains {} rows,'.format(features_train_2.shape[0]), 'which represents 75% of the data')\n",
    "print('The validation set contains {} rows,'.format(features_valid_2.shape[0]), 'which represents 25% of the data')"
   ]
  },
  {
   "cell_type": "code",
   "execution_count": 136,
   "metadata": {
    "id": "yZw2pw99WdUw"
   },
   "outputs": [],
   "source": [
    "# Features scaling \n",
    "scaler = StandardScaler()\n",
    "scaler.fit(features_train_2)\n",
    "features_train_2 = scaler.transform(features_train_2)\n",
    "features_valid_2 = scaler.transform(features_valid_2)"
   ]
  },
  {
   "cell_type": "code",
   "execution_count": 137,
   "metadata": {
    "colab": {
     "base_uri": "https://localhost:8080/"
    },
    "id": "-Fw1eclZWkff",
    "outputId": "06378580-6bca-4668-db38-8303f46445fb"
   },
   "outputs": [
    {
     "name": "stdout",
     "output_type": "stream",
     "text": [
      "Size of training features: (75000, 3)\n",
      "Size of training target: (75000,)\n",
      "\n",
      "Size of validation features: (25000, 3)\n",
      "Size of validation target: (25000,)\n"
     ]
    }
   ],
   "source": [
    "# Checking size of features and target set\n",
    "print('Size of training features:', features_train_2.shape)\n",
    "print('Size of training target:', target_train_2.shape)\n",
    "print()\n",
    "print('Size of validation features:', features_valid_2.shape)\n",
    "print('Size of validation target:', target_valid_2.shape)"
   ]
  },
  {
   "cell_type": "markdown",
   "metadata": {
    "id": "LVkuhdOoYeIn"
   },
   "source": [
    "### Training the model and making predictions for each region"
   ]
  },
  {
   "cell_type": "markdown",
   "metadata": {
    "id": "4xvx81ISYkRp"
   },
   "source": [
    "#### Region 1"
   ]
  },
  {
   "cell_type": "code",
   "execution_count": 138,
   "metadata": {
    "colab": {
     "base_uri": "https://localhost:8080/"
    },
    "id": "_k7d2a_yYnZP",
    "outputId": "df6275cb-3a57-428b-c998-7a97225a9290"
   },
   "outputs": [
    {
     "name": "stdout",
     "output_type": "stream",
     "text": [
      "MSE = 1412.213\n",
      "RMSE = 37.579\n",
      "R2 =  0.2799\n",
      "Volume of predicted reserves =  92.593\n"
     ]
    }
   ],
   "source": [
    "# Creating linear regression model\n",
    "model = LinearRegression()\n",
    "model.fit(features_train_0, target_train_0)\n",
    "predicted_valid_0 = model.predict(features_valid_0)\n",
    "\n",
    "# Calculating RMSE\n",
    "mse = mean_squared_error(target_valid_0, predicted_valid_0)\n",
    "print('MSE =', round(mse,3))\n",
    "print('RMSE =', round(mse**0.5, 3))\n",
    "\n",
    "# Calculating R2\n",
    "print('R2 = ', round(r2_score(target_valid_0, predicted_valid_0), 4))\n",
    "\n",
    "# Calculating volume of predicted reserves\n",
    "print('Volume of predicted reserves = ', round(predicted_valid_0.mean(), 3)) \n"
   ]
  },
  {
   "cell_type": "markdown",
   "metadata": {
    "id": "PqQx41XUa2Jw"
   },
   "source": [
    "#### Region 2"
   ]
  },
  {
   "cell_type": "code",
   "execution_count": 139,
   "metadata": {
    "colab": {
     "base_uri": "https://localhost:8080/"
    },
    "id": "Fr8vRgVaa4N5",
    "outputId": "8e4a713b-a6f1-49ec-e295-fcd35bb23461"
   },
   "outputs": [
    {
     "name": "stdout",
     "output_type": "stream",
     "text": [
      "MSE = 0.798\n",
      "RMSE = 0.893\n",
      "R2 =  0.9996\n",
      "Volume of predicted reserves =  68.729\n"
     ]
    }
   ],
   "source": [
    "# Creating linear regression model \n",
    "model = LinearRegression()\n",
    "model.fit(features_train_1, target_train_1)\n",
    "predicted_valid_1 = model.predict(features_valid_1)\n",
    "\n",
    "# Calculating RMSE\n",
    "mse = mean_squared_error(target_valid_1, predicted_valid_1)\n",
    "print('MSE =', round(mse,3))\n",
    "print('RMSE =', round(mse**0.5, 3))\n",
    "\n",
    "# Calculating R2\n",
    "print('R2 = ', round(r2_score(target_valid_1, predicted_valid_1), 4))\n",
    "\n",
    "# Calculating volume of predicted reserves\n",
    "print('Volume of predicted reserves = ', round(predicted_valid_1.mean(), 3)) "
   ]
  },
  {
   "cell_type": "markdown",
   "metadata": {
    "id": "MWQMoO_5bVyw"
   },
   "source": [
    "#### Region 3"
   ]
  },
  {
   "cell_type": "code",
   "execution_count": 140,
   "metadata": {
    "colab": {
     "base_uri": "https://localhost:8080/"
    },
    "id": "O4SMj1ABbUxh",
    "outputId": "5bab0c4a-5e81-4b3f-a8d2-09fb23c83d29"
   },
   "outputs": [
    {
     "name": "stdout",
     "output_type": "stream",
     "text": [
      "MSE = 1602.378\n",
      "RMSE = 40.0297\n",
      "R2 =  0.2052\n",
      "Volume of predicted reserves =  94.965\n"
     ]
    }
   ],
   "source": [
    "# Creating linear regression model \n",
    "model = LinearRegression()\n",
    "model.fit(features_train_2, target_train_2)\n",
    "predicted_valid_2 = model.predict(features_valid_2)\n",
    "\n",
    "# Calculating RMSE\n",
    "mse = mean_squared_error(target_valid_2, predicted_valid_2)\n",
    "print('MSE =', round(mse,3))\n",
    "print('RMSE =', round(mse**0.5, 4))\n",
    "\n",
    "# Calculating R2\n",
    "print('R2 = ', round(r2_score(target_valid_2, predicted_valid_2), 4))\n",
    "\n",
    "# Calculating volume of predicted reserves\n",
    "print('Volume of predicted reserves = ', round(predicted_valid_2.mean(), 3)) "
   ]
  },
  {
   "cell_type": "markdown",
   "metadata": {
    "id": "Hj73_2YHfWbh"
   },
   "source": [
    "### Conclusion\n",
    "\n",
    "We split the source data for each region in a  75:25 ratio: 75% training set and 25% validation set.\n",
    "* The training set contains 75000 rows.\n",
    "* The validation set contains 25000 rows\n",
    "\n",
    "We standardized the features of each region and trained the model with a linear regression. \n",
    "\n",
    "For region 1, we found that the root mean square error (RMSE) was 37.579, and that the R2 value was 0.2799. A low R2 score indicates poor model quality. \n",
    "\n",
    "For region 2, we found that the RMSE was .893, and that the R2 value was 0.996. A low RMSE value close to 1 shows that the model is predicting close to the actual average volume of reserves. A high R2 score is indicative of good model quality. \n",
    "\n",
    "For region 3, we found that the RMSE 40.030, and that the R2 value was 0.2052. A low R2 score is indicative of poor model quality. \n",
    "\n",
    "The average volume of predicted reserves was also calculated for each region:\n",
    "* Volume of predicted reserves in Region 1: 92.593 thousand barrels\n",
    "* Volume of predicted reserves in Region 2: 68.729 thousand barrels\n",
    "* Volume of predicted reserves in Region 3: 94.96 thousand barrels\n",
    "\n",
    "We will now prepare for profit calculation and find the volume of reserves sufficient for developing a new well without losses.  \n"
   ]
  },
  {
   "cell_type": "markdown",
   "metadata": {
    "id": "boDmiBOCNbZo"
   },
   "source": [
    "## Calculating Volume of Reserve"
   ]
  },
  {
   "cell_type": "code",
   "execution_count": 141,
   "metadata": {
    "id": "eHqEOeeQn-7T"
   },
   "outputs": [],
   "source": [
    "# Creating variables for key values \n",
    "\n",
    "# When studying a region, 500 oil wells(points) are used\n",
    "region_wells = 500\n",
    "\n",
    "# Best 200 oil wells (points) used for profit calculations\n",
    "best_wells = 200\n",
    "\n",
    "# Budget for development of 200 oil wells\n",
    "total_budget = 100000000\n",
    "\n",
    "# Revenue from one unit of product (volume of reserves is in thousand barrels)\n",
    "rev_per_unit = 4500\n",
    "\n",
    "# Regions with risk loss lower than 2.5%\n",
    "risk_loss = 0.025"
   ]
  },
  {
   "cell_type": "code",
   "execution_count": 142,
   "metadata": {
    "colab": {
     "base_uri": "https://localhost:8080/"
    },
    "id": "3S1gXcLhrH82",
    "outputId": "bc485714-6079-46ea-f3fa-3fefa621cb3d"
   },
   "outputs": [
    {
     "name": "stdout",
     "output_type": "stream",
     "text": [
      "Volume of reserves sufficient for developing a new well: 111.111\n"
     ]
    }
   ],
   "source": [
    "# Calculate the volume of reserves sufficient for developing a new well without losses\n",
    "new_well_volume = total_budget/rev_per_unit/best_wells\n",
    "print(f'Volume of reserves sufficient for developing a new well: {new_well_volume:.3f}')"
   ]
  },
  {
   "cell_type": "code",
   "execution_count": 143,
   "metadata": {
    "colab": {
     "base_uri": "https://localhost:8080/"
    },
    "id": "fYqaW4e8sJ8o",
    "outputId": "ed9c86b4-de9d-4508-db64-455c72e490f0"
   },
   "outputs": [
    {
     "name": "stdout",
     "output_type": "stream",
     "text": [
      "Average volume of reserves in Region 1: 92.593\n",
      "\n",
      "Average volume of reserves in Region 1: 68.729\n",
      "\n",
      "Average volume of reserves in Region 1: 94.965\n"
     ]
    }
   ],
   "source": [
    "# Average volume of reserves in each region \n",
    "print('Average volume of reserves in Region 1:', round(predicted_valid_0.mean(), 3))\n",
    "print()\n",
    "print('Average volume of reserves in Region 1:', round(predicted_valid_1.mean(), 3))\n",
    "print()\n",
    "print('Average volume of reserves in Region 1:', round(predicted_valid_2.mean(), 3))"
   ]
  },
  {
   "cell_type": "markdown",
   "metadata": {
    "id": "_Dw73NgcswZD"
   },
   "source": [
    "### Conclusion\n",
    "\n",
    "The volume of reserves sufficient for developing a new well without a loss is 111.111 thousand barrels. This volume is the baseline value for finding sufficient wells. Upon comparison with the average volume of reserves in each region (Region 1 to Region 3), we see that the average volume of reserves is lower than our baseline value. \n",
    "\n",
    "Next, we will write a function to calculate profit from a set of selected oil wells and model predictions."
   ]
  },
  {
   "cell_type": "markdown",
   "metadata": {
    "id": "Og2C4Z5Vtvxr"
   },
   "source": [
    "## Profit Calculation "
   ]
  },
  {
   "cell_type": "code",
   "execution_count": 144,
   "metadata": {
    "id": "jDzVfe924BuL"
   },
   "outputs": [],
   "source": [
    "# Function to pick the wells with the highest values of predictions\n",
    "def highest_pred(target, predicted, count):\n",
    "  target = pd.Series(target)\n",
    "  predicted = pd.Series(predicted)\n",
    "  vol_predicted = predicted.reset_index(drop=True).sort_values(ascending=False)\n",
    "  select_vol = target.reset_index(drop=True).iloc[vol_predicted.index][:count]\n",
    "  return select_vol.sum() * 1000\n",
    "\n",
    "\n",
    "# Function to calculate profit\n",
    "def revenue(target, predicted, count):\n",
    "  target = pd.Series(target)\n",
    "  predicted = pd.Series(predicted)\n",
    "  predicted_sorted = predicted.reset_index(drop=True).sort_values(ascending=False)\n",
    "  selected = target.reset_index(drop=True)[predicted_sorted.index][:count]\n",
    "  profit = selected.sum()*rev_per_unit - total_budget\n",
    "  return profit"
   ]
  },
  {
   "cell_type": "markdown",
   "metadata": {
    "id": "3vTkymKcAhKb"
   },
   "source": [
    "### Obtaining highest values of prediction for each region "
   ]
  },
  {
   "cell_type": "code",
   "execution_count": 145,
   "metadata": {
    "colab": {
     "base_uri": "https://localhost:8080/"
    },
    "id": "fZQHuNGt6l1p",
    "outputId": "9f8667ab-abfd-4129-874f-2f50e2113f7d"
   },
   "outputs": [
    {
     "name": "stdout",
     "output_type": "stream",
     "text": [
      "The highest predicition value in the Region 1: 29601835.651\n"
     ]
    }
   ],
   "source": [
    "# Highest value prediction in Region 1 (geo_data_0)\n",
    "print('The highest predicition value in the Region 1:', round(highest_pred(target_valid_0, predicted_valid_0, 200),3))"
   ]
  },
  {
   "cell_type": "code",
   "execution_count": 146,
   "metadata": {
    "colab": {
     "base_uri": "https://localhost:8080/"
    },
    "id": "OqzaNdi1-mCi",
    "outputId": "17a9e8f6-a82d-4366-e848-54c246a76bca"
   },
   "outputs": [
    {
     "name": "stdout",
     "output_type": "stream",
     "text": [
      "The highest predicition value in the Region 2: 27589081.548\n"
     ]
    }
   ],
   "source": [
    "# Highest value prediction in Region 2 (geo_data_1)\n",
    "print('The highest predicition value in the Region 2:', round(highest_pred(target_valid_1, predicted_valid_1, 200),3))"
   ]
  },
  {
   "cell_type": "code",
   "execution_count": 147,
   "metadata": {
    "colab": {
     "base_uri": "https://localhost:8080/"
    },
    "id": "V_cz-1pm-qRy",
    "outputId": "b4e05c56-ae07-4e5b-c088-0a7b18bc90af"
   },
   "outputs": [
    {
     "name": "stdout",
     "output_type": "stream",
     "text": [
      "The highest predicition value in the Region 3: 28245222.141\n"
     ]
    }
   ],
   "source": [
    "# Highest value prediction in Region 3 (geo_data_2)\n",
    "print('The highest predicition value in the Region 3:', round(highest_pred(target_valid_2, predicted_valid_2, 200),3))"
   ]
  },
  {
   "cell_type": "markdown",
   "metadata": {
    "id": "j8GOYfoFBSPe"
   },
   "source": [
    "Region 1 has the highest value of predictions, followed by Region 3 and Region 2, respectively. We will now calculate profit from each region. "
   ]
  },
  {
   "cell_type": "markdown",
   "metadata": {
    "id": "jsosHJl8Asx7"
   },
   "source": [
    "### Calculating profit from a set of selected oil well and model predictions in each region"
   ]
  },
  {
   "cell_type": "code",
   "execution_count": 148,
   "metadata": {
    "colab": {
     "base_uri": "https://localhost:8080/"
    },
    "id": "Rf3CBYvZ-0yr",
    "outputId": "41b2dd5b-6b5a-43e0-9f9d-7a6a299182dd"
   },
   "outputs": [
    {
     "name": "stdout",
     "output_type": "stream",
     "text": [
      "Profit from set of selected oil wells and model predictions in Region 1: 33208260.43\n"
     ]
    }
   ],
   "source": [
    "# Profit from a set of selected oil wells and model predictions in Region 1 (geo_data_0)\n",
    "print('Profit from set of selected oil wells and model predictions in Region 1:', round(revenue(target_valid_0, predicted_valid_0, 200),2))"
   ]
  },
  {
   "cell_type": "code",
   "execution_count": 149,
   "metadata": {
    "colab": {
     "base_uri": "https://localhost:8080/"
    },
    "id": "go8Wlx3R_-QE",
    "outputId": "2b8ae577-1033-451e-ed4a-9c0280ef692f"
   },
   "outputs": [
    {
     "name": "stdout",
     "output_type": "stream",
     "text": [
      "Profit from set of selected oil wells and model predictions in Region 2: 24150866.97\n"
     ]
    }
   ],
   "source": [
    "# Profit from a set of selected oil wells and model predictions in Region 2 (geo_data_1)\n",
    "print('Profit from set of selected oil wells and model predictions in Region 2:', round(revenue(target_valid_1, predicted_valid_1, 200),2))"
   ]
  },
  {
   "cell_type": "code",
   "execution_count": 150,
   "metadata": {
    "colab": {
     "base_uri": "https://localhost:8080/"
    },
    "id": "Vf_RVsIGAQ76",
    "outputId": "eb112e69-e167-4d15-e2e4-8a87cdd58b73"
   },
   "outputs": [
    {
     "name": "stdout",
     "output_type": "stream",
     "text": [
      "Profit from set of selected oil wells and model predictions in Region 3: 27103499.64\n"
     ]
    }
   ],
   "source": [
    "# Profit from a set of selected oil wells and model predictions in Region 3 (geo_data_2)\n",
    "print('Profit from set of selected oil wells and model predictions in Region 3:', round(revenue(target_valid_2, predicted_valid_2, 200),2))"
   ]
  },
  {
   "cell_type": "markdown",
   "metadata": {
    "id": "UP2XuvRuBn4c"
   },
   "source": [
    "Region 1 has the highest profit at 33 million USD, followed by Region 3 (27 million USD) and Region 2 (24 million USD), respectively.\n",
    "\n",
    "We will now use the bootstrapping technique with 1000 samples to find the distribution of profit. Average profit will be assessed with a 95% confidence interval to find risk of losses. "
   ]
  },
  {
   "cell_type": "markdown",
   "metadata": {
    "id": "VjiRS5WnCUNz"
   },
   "source": [
    "## Bootstrapping for Profit and Risk"
   ]
  },
  {
   "cell_type": "markdown",
   "metadata": {
    "id": "rZD6qaUGN-H8"
   },
   "source": [
    "### Region 1"
   ]
  },
  {
   "cell_type": "code",
   "execution_count": 151,
   "metadata": {
    "colab": {
     "base_uri": "https://localhost:8080/"
    },
    "id": "f4FtwFpiC_xW",
    "outputId": "6baad555-1d16-44a2-a6b4-d490dafa202a"
   },
   "outputs": [
    {
     "name": "stdout",
     "output_type": "stream",
     "text": [
      "Average profit: 3961649.8480237117\n",
      "95% confidence interval: (-1112155.4589049604, 9097669.41553423)\n",
      "Risk of losses:  6.90%\n"
     ]
    }
   ],
   "source": [
    "# Defining random state\n",
    "state = RandomState(12345)\n",
    "\n",
    "# Bootstrapping technique\n",
    "values = []\n",
    "target_valid_0 = pd.Series(target_valid_0)\n",
    "predicted_valid_0 = pd.Series(predicted_valid_0)\n",
    "for i in range(1000):\n",
    "  target_subsample_0 = target_valid_0.reset_index(drop=True).sample(replace=True, random_state=state, n=500)\n",
    "  predicted_subsample_0 = predicted_valid_0.reset_index(drop=True)[target_subsample_0.index]\n",
    "  values.append(revenue(target_subsample_0, predicted_subsample_0, 200))\n",
    "\n",
    "# Computing bootstrapping profit, confidence interval, and risk of losses\n",
    "values = pd.Series(values)\n",
    "avg_profit = values.mean()\n",
    "lower = values.quantile(0.025)\n",
    "upper = values.quantile(.975)\n",
    "losses = values < 0\n",
    "risk_of_losses = (losses.sum()/len(values)) \n",
    "\n",
    "print(f'Average profit: {avg_profit}')\n",
    "print(f'95% confidence interval: {(lower, upper)}')\n",
    "print(f'Risk of losses: {risk_of_losses: .2%}')"
   ]
  },
  {
   "cell_type": "markdown",
   "metadata": {
    "id": "G2vf6tt1N_8O"
   },
   "source": [
    "### Region 2"
   ]
  },
  {
   "cell_type": "code",
   "execution_count": 152,
   "metadata": {
    "colab": {
     "base_uri": "https://localhost:8080/"
    },
    "id": "FeKGxpIsOBLb",
    "outputId": "f10f0be4-44c6-49dc-d541-9b5dc26dc55e"
   },
   "outputs": [
    {
     "name": "stdout",
     "output_type": "stream",
     "text": [
      "Average profit: 4560451.057866608\n",
      "95% confidence interval: (338205.0939898458, 8522894.538660347)\n",
      "Risk of losses:  1.50%\n"
     ]
    }
   ],
   "source": [
    "# Defining random state\n",
    "state = RandomState(12345)\n",
    "\n",
    "# Bootstrapping technique\n",
    "values = []\n",
    "target_valid_1 = pd.Series(target_valid_1)\n",
    "predicted_valid_1 = pd.Series(predicted_valid_1)\n",
    "for i in range(1000):\n",
    "  target_subsample_1 = target_valid_1.reset_index(drop=True).sample(replace=True, random_state=state, n=500)\n",
    "  predicted_subsample_1 = predicted_valid_1.reset_index(drop=True)[target_subsample_1.index]\n",
    "  values.append(revenue(target_subsample_1, predicted_subsample_1, 200))\n",
    "\n",
    "# Computing bootstrapping profit, confidence interval, and risk of losses\n",
    "values = pd.Series(values)\n",
    "avg_profit = values.mean()\n",
    "lower = values.quantile(0.025)\n",
    "upper = values.quantile(.975)\n",
    "losses = values < 0\n",
    "risk_of_losses = (losses.sum()/len(values)) \n",
    "\n",
    "print(f'Average profit: {avg_profit}')\n",
    "print(f'95% confidence interval: {(lower, upper)}')\n",
    "print(f'Risk of losses: {risk_of_losses: .2%}')"
   ]
  },
  {
   "cell_type": "markdown",
   "metadata": {
    "id": "bsxgmLSwObDe"
   },
   "source": [
    "### Region 3"
   ]
  },
  {
   "cell_type": "code",
   "execution_count": 153,
   "metadata": {
    "colab": {
     "base_uri": "https://localhost:8080/"
    },
    "id": "26t7qRfnOcju",
    "outputId": "6004bf1b-798e-4fc2-c5b2-947a297cbe92"
   },
   "outputs": [
    {
     "name": "stdout",
     "output_type": "stream",
     "text": [
      "Average profit: 4044038.665683568\n",
      "95% confidence interval: (-1633504.1339559986, 9503595.749237997)\n",
      "Risk of losses:  7.60%\n"
     ]
    }
   ],
   "source": [
    "# Defining random state\n",
    "state = RandomState(12345)\n",
    "\n",
    "# Bootstrapping technique\n",
    "values = []\n",
    "target_valid_2 = pd.Series(target_valid_2)\n",
    "predicted_valid_2 = pd.Series(predicted_valid_2)\n",
    "for i in range(1000):\n",
    "  target_subsample_2 = target_valid_2.reset_index(drop=True).sample(replace=True, random_state=state, n=500)\n",
    "  predicted_subsample_2 = predicted_valid_2.reset_index(drop=True)[target_subsample_2.index]\n",
    "  values.append(revenue(target_subsample_2, predicted_subsample_2, 200))\n",
    "\n",
    "# Computing bootstrapping profit, confidence interval, and risk of losses\n",
    "values = pd.Series(values)\n",
    "avg_profit = values.mean()\n",
    "lower = values.quantile(0.025)\n",
    "upper = values.quantile(.975)\n",
    "losses = values < 0\n",
    "risk_of_losses = (losses.sum()/len(values)) \n",
    "\n",
    "print(f'Average profit: {avg_profit}')\n",
    "print(f'95% confidence interval: {(lower, upper)}')\n",
    "print(f'Risk of losses: {risk_of_losses: .2%}')"
   ]
  },
  {
   "cell_type": "markdown",
   "metadata": {
    "id": "XsKZnEugSUiv"
   },
   "source": [
    "### Conclusion\n",
    "\n",
    "A 95% confidence interval means that if we were to take 1000 different samples and compute a 95% confidence interval for each sample, then approximately 950 of the 1000 confidence intervals will contain the true mean. In other words, 950 out of 1000 times the estimate will fall between the upper and lower values specified by the confidence interval. From the use of bootstrapping technique , we found that Region 2 (`geo_data_1`) had the highest distribution of average profit. Region 2 (`geo_data_1`) had the highest average profit of 4.6 million US and the lowest risk loss at 1.50%. Region 3 (`geo_data_0`) had the second highest average profit of 4.0 million USD with a risk loss of 7.6%. Region 1 had the least average profit of 3.9 million USD with a risk loss of 6.9%. \n",
    "\n",
    "Based on our findings, we can say that Region 2 (`geo_data_1`) is the best place to develop a new oil well. "
   ]
  },
  {
   "cell_type": "markdown",
   "metadata": {
    "id": "8A_wMBDTU1VG"
   },
   "source": [
    "## Findings\n",
    "\n",
    "We split the source data for each region in a 75:25 ratio: 75% training set and 25% validation set.\n",
    "* The training set contains 75000 rows.\n",
    "* The validation set contains 25000 rows\n",
    "\n",
    "We then standardized the features of each region and trained the model with using linear regression. For each region, we found the root mean square error (RMSE) and R2 value.\n",
    "* For region 1, the RMSE was 37.579, and the R2 value was 0.2799. A low R2 score is indicative of poor model quality.\n",
    "* For region 2, the RMSE was .893, and the R2 value was 0.996. The low RMSE value close to 1 indicates that the model is predicting close to the actual average volume of reserves. A high R2 score is indicative of good model quality.\n",
    "* For region 3, the RMSE was 40.030, and the R2 value was 0.2052. A low R2 score is indicative of poor model quality.\n",
    "\n",
    "The volume of predicted reserves calculated for each region was:\n",
    "* Region 1: 92.593 thousand barrels\n",
    "* Region 2: 68.729 thousand barrels\n",
    "* Region 3: 94.96 thousand barrels\n",
    "\n",
    "We found that the volume of reserves sufficient for developing a new well without a loss was 111.11 thousand barrels. This volume was the baseline value for finding sufficient wells. After comparing them with the average volume of reserves in each region (Region 1 to Region 3), we saw that the average volume of reserves was much lower than the baseline value.\n",
    "\n",
    "Profit was calculated from a set of selected oil wells and model predictions. We found that Region 1 had the highest profit at 33 million USD, followed by Region 3 (27 million USD) and Region 2 (24 million USD), respectively. \n",
    "\n",
    "Bootstrapping technique with 1000 samples was used to find the distribution of profit, average profit, 95% confidence interval, and risk of loss. We found that Region 2 had the highest distribution of average profit, which means that Region 2 also had the highest average profit. Region 2 had an average profit of 4.5 million USD and the lowest risk of loss at 1.50%. Region 3 had the second highest average profit of 4.0 million USD with a risk of loss of 7.6%. Region 1 had the least average profit of 3.9 million USD with a risk of loss of 6.9%. \n",
    "\n",
    "Based on our findings, Region 2 (`geo_data_1`) is the best place to develop a new oil well. Region 2 provides the high profit with the lowest amount of risk involved. "
   ]
  }
 ],
 "metadata": {
  "ExecuteTimeLog": [
   {
    "duration": 1887,
    "start_time": "2022-04-03T22:13:24.186Z"
   },
   {
    "duration": 4108,
    "start_time": "2022-04-03T22:13:26.075Z"
   },
   {
    "duration": 17,
    "start_time": "2022-04-03T22:13:30.185Z"
   },
   {
    "duration": 5,
    "start_time": "2022-04-03T22:13:30.204Z"
   },
   {
    "duration": 22,
    "start_time": "2022-04-03T22:13:30.211Z"
   },
   {
    "duration": 53,
    "start_time": "2022-04-03T22:13:30.235Z"
   },
   {
    "duration": 11,
    "start_time": "2022-04-03T22:13:30.290Z"
   },
   {
    "duration": 29,
    "start_time": "2022-04-03T22:13:30.303Z"
   },
   {
    "duration": 33,
    "start_time": "2022-04-03T22:13:30.334Z"
   },
   {
    "duration": 51,
    "start_time": "2022-04-03T22:13:30.370Z"
   },
   {
    "duration": 15,
    "start_time": "2022-04-03T22:13:30.423Z"
   },
   {
    "duration": 18,
    "start_time": "2022-04-03T22:13:30.440Z"
   },
   {
    "duration": 27,
    "start_time": "2022-04-03T22:13:30.460Z"
   },
   {
    "duration": 65,
    "start_time": "2022-04-03T22:13:30.489Z"
   },
   {
    "duration": 14,
    "start_time": "2022-04-03T22:13:30.556Z"
   },
   {
    "duration": 10,
    "start_time": "2022-04-03T22:13:30.571Z"
   },
   {
    "duration": 16,
    "start_time": "2022-04-03T22:13:30.583Z"
   },
   {
    "duration": 5,
    "start_time": "2022-04-03T22:13:30.600Z"
   },
   {
    "duration": 34,
    "start_time": "2022-04-03T22:13:30.607Z"
   },
   {
    "duration": 4,
    "start_time": "2022-04-03T22:13:30.643Z"
   },
   {
    "duration": 18,
    "start_time": "2022-04-03T22:13:30.649Z"
   },
   {
    "duration": 9,
    "start_time": "2022-04-03T22:13:30.669Z"
   },
   {
    "duration": 24,
    "start_time": "2022-04-03T22:13:30.679Z"
   },
   {
    "duration": 4,
    "start_time": "2022-04-03T22:13:30.707Z"
   },
   {
    "duration": 14,
    "start_time": "2022-04-03T22:13:30.732Z"
   },
   {
    "duration": 5,
    "start_time": "2022-04-03T22:13:30.749Z"
   },
   {
    "duration": 11,
    "start_time": "2022-04-03T22:13:31.771Z"
   },
   {
    "duration": 6,
    "start_time": "2022-04-03T22:13:31.976Z"
   },
   {
    "duration": 15,
    "start_time": "2022-04-03T22:13:32.224Z"
   },
   {
    "duration": 4,
    "start_time": "2022-04-03T22:13:32.474Z"
   },
   {
    "duration": 13,
    "start_time": "2022-04-03T22:13:32.701Z"
   },
   {
    "duration": 5,
    "start_time": "2022-04-03T22:13:32.976Z"
   },
   {
    "duration": 21,
    "start_time": "2022-04-03T22:13:33.993Z"
   },
   {
    "duration": 704,
    "start_time": "2022-04-03T22:13:34.241Z"
   },
   {
    "duration": 184,
    "start_time": "2022-04-03T22:13:34.948Z"
   },
   {
    "duration": 998,
    "start_time": "2022-04-03T22:13:35.135Z"
   },
   {
    "duration": 106,
    "start_time": "2022-04-03T22:13:36.136Z"
   },
   {
    "duration": 1092,
    "start_time": "2022-04-03T22:13:36.244Z"
   },
   {
    "duration": 93,
    "start_time": "2022-04-03T22:13:37.339Z"
   },
   {
    "duration": 21,
    "start_time": "2022-04-03T22:13:37.434Z"
   },
   {
    "duration": 20,
    "start_time": "2022-04-03T22:13:37.457Z"
   },
   {
    "duration": 18,
    "start_time": "2022-04-03T22:13:37.478Z"
   },
   {
    "duration": 9,
    "start_time": "2022-04-03T22:13:37.993Z"
   },
   {
    "duration": 8,
    "start_time": "2022-04-03T22:13:38.310Z"
   },
   {
    "duration": 8,
    "start_time": "2022-04-03T22:13:38.492Z"
   },
   {
    "duration": 8,
    "start_time": "2022-04-03T22:13:39.039Z"
   },
   {
    "duration": 8,
    "start_time": "2022-04-03T22:13:39.331Z"
   },
   {
    "duration": 9,
    "start_time": "2022-04-03T22:13:40.011Z"
   },
   {
    "duration": 1374,
    "start_time": "2022-04-03T22:13:43.059Z"
   },
   {
    "duration": 6,
    "start_time": "2022-04-03T22:13:51.209Z"
   },
   {
    "duration": 4,
    "start_time": "2022-04-03T22:13:54.790Z"
   },
   {
    "duration": 5,
    "start_time": "2022-04-03T22:14:04.627Z"
   },
   {
    "duration": 4,
    "start_time": "2022-04-03T22:14:07.704Z"
   },
   {
    "duration": 5,
    "start_time": "2022-04-03T22:14:51.321Z"
   },
   {
    "duration": 675,
    "start_time": "2022-04-03T22:14:55.461Z"
   },
   {
    "duration": 217,
    "start_time": "2022-04-03T22:15:01.328Z"
   },
   {
    "duration": 273,
    "start_time": "2022-04-03T22:15:05.747Z"
   },
   {
    "duration": 571,
    "start_time": "2022-04-03T22:15:22.128Z"
   },
   {
    "duration": 7,
    "start_time": "2022-04-03T22:15:37.392Z"
   },
   {
    "duration": 6,
    "start_time": "2022-04-03T22:15:48.824Z"
   },
   {
    "duration": 1560,
    "start_time": "2022-04-03T22:16:23.081Z"
   },
   {
    "duration": 359,
    "start_time": "2022-04-03T22:16:29.826Z"
   },
   {
    "duration": 4,
    "start_time": "2022-04-03T22:16:35.813Z"
   },
   {
    "duration": 1367,
    "start_time": "2022-04-03T22:16:50.652Z"
   },
   {
    "duration": 309,
    "start_time": "2022-04-03T22:16:55.958Z"
   },
   {
    "duration": 4,
    "start_time": "2022-04-03T22:17:01.756Z"
   },
   {
    "duration": 7,
    "start_time": "2022-04-03T22:19:29.198Z"
   },
   {
    "duration": 8,
    "start_time": "2022-04-03T22:19:32.405Z"
   },
   {
    "duration": 5,
    "start_time": "2022-04-03T22:19:41.207Z"
   },
   {
    "duration": 3,
    "start_time": "2022-04-03T22:20:09.663Z"
   },
   {
    "duration": 3,
    "start_time": "2022-04-03T22:20:34.705Z"
   },
   {
    "duration": 3,
    "start_time": "2022-04-03T22:20:42.046Z"
   },
   {
    "duration": 3,
    "start_time": "2022-04-03T22:22:36.712Z"
   },
   {
    "duration": 3,
    "start_time": "2022-04-03T22:22:36.869Z"
   },
   {
    "duration": 4,
    "start_time": "2022-04-03T22:22:53.493Z"
   },
   {
    "duration": 6,
    "start_time": "2022-04-03T22:25:22.238Z"
   },
   {
    "duration": 5,
    "start_time": "2022-04-03T22:25:26.343Z"
   },
   {
    "duration": 5,
    "start_time": "2022-04-03T22:25:31.822Z"
   },
   {
    "duration": 5,
    "start_time": "2022-04-03T22:25:35.756Z"
   },
   {
    "duration": 5,
    "start_time": "2022-04-03T22:25:40.192Z"
   },
   {
    "duration": 50,
    "start_time": "2022-04-04T04:01:58.811Z"
   },
   {
    "duration": 1186,
    "start_time": "2022-04-04T04:02:10.052Z"
   },
   {
    "duration": 546,
    "start_time": "2022-04-04T04:02:11.239Z"
   },
   {
    "duration": 17,
    "start_time": "2022-04-04T04:02:11.787Z"
   },
   {
    "duration": 9,
    "start_time": "2022-04-04T04:02:11.806Z"
   },
   {
    "duration": 35,
    "start_time": "2022-04-04T04:02:11.817Z"
   },
   {
    "duration": 57,
    "start_time": "2022-04-04T04:02:11.854Z"
   },
   {
    "duration": 9,
    "start_time": "2022-04-04T04:02:11.913Z"
   },
   {
    "duration": 19,
    "start_time": "2022-04-04T04:02:11.923Z"
   },
   {
    "duration": 41,
    "start_time": "2022-04-04T04:02:11.943Z"
   },
   {
    "duration": 58,
    "start_time": "2022-04-04T04:02:11.987Z"
   },
   {
    "duration": 10,
    "start_time": "2022-04-04T04:02:12.046Z"
   },
   {
    "duration": 20,
    "start_time": "2022-04-04T04:02:12.057Z"
   },
   {
    "duration": 25,
    "start_time": "2022-04-04T04:02:12.079Z"
   },
   {
    "duration": 73,
    "start_time": "2022-04-04T04:02:12.106Z"
   },
   {
    "duration": 12,
    "start_time": "2022-04-04T04:02:12.181Z"
   },
   {
    "duration": 29,
    "start_time": "2022-04-04T04:02:12.195Z"
   },
   {
    "duration": 29,
    "start_time": "2022-04-04T04:02:12.225Z"
   },
   {
    "duration": 5,
    "start_time": "2022-04-04T04:02:12.256Z"
   },
   {
    "duration": 28,
    "start_time": "2022-04-04T04:02:12.262Z"
   },
   {
    "duration": 6,
    "start_time": "2022-04-04T04:02:12.292Z"
   },
   {
    "duration": 22,
    "start_time": "2022-04-04T04:02:12.300Z"
   },
   {
    "duration": 24,
    "start_time": "2022-04-04T04:02:12.324Z"
   },
   {
    "duration": 21,
    "start_time": "2022-04-04T04:02:12.349Z"
   },
   {
    "duration": 10,
    "start_time": "2022-04-04T04:02:12.372Z"
   },
   {
    "duration": 19,
    "start_time": "2022-04-04T04:02:12.384Z"
   },
   {
    "duration": 4,
    "start_time": "2022-04-04T04:02:12.405Z"
   },
   {
    "duration": 13,
    "start_time": "2022-04-04T04:02:12.410Z"
   },
   {
    "duration": 11,
    "start_time": "2022-04-04T04:02:12.426Z"
   },
   {
    "duration": 19,
    "start_time": "2022-04-04T04:02:12.438Z"
   },
   {
    "duration": 4,
    "start_time": "2022-04-04T04:02:12.458Z"
   },
   {
    "duration": 17,
    "start_time": "2022-04-04T04:02:12.463Z"
   },
   {
    "duration": 5,
    "start_time": "2022-04-04T04:02:12.481Z"
   },
   {
    "duration": 52,
    "start_time": "2022-04-04T04:02:12.487Z"
   },
   {
    "duration": 103,
    "start_time": "2022-04-04T04:02:12.541Z"
   },
   {
    "duration": 207,
    "start_time": "2022-04-04T04:02:14.872Z"
   },
   {
    "duration": 15,
    "start_time": "2022-04-04T04:02:29.797Z"
   },
   {
    "duration": 20,
    "start_time": "2022-04-04T04:05:28.280Z"
   },
   {
    "duration": 15,
    "start_time": "2022-04-04T04:05:37.893Z"
   },
   {
    "duration": 17,
    "start_time": "2022-04-04T04:05:45.048Z"
   },
   {
    "duration": 4,
    "start_time": "2022-04-04T04:14:07.325Z"
   },
   {
    "duration": 8,
    "start_time": "2022-04-04T04:14:10.557Z"
   },
   {
    "duration": 7,
    "start_time": "2022-04-04T04:14:11.528Z"
   },
   {
    "duration": 8,
    "start_time": "2022-04-04T04:14:13.142Z"
   },
   {
    "duration": 23,
    "start_time": "2022-04-04T04:14:15.781Z"
   },
   {
    "duration": 5,
    "start_time": "2022-04-04T04:14:45.132Z"
   },
   {
    "duration": 4,
    "start_time": "2022-04-04T04:14:48.558Z"
   },
   {
    "duration": 17,
    "start_time": "2022-04-04T04:14:52.279Z"
   },
   {
    "duration": 4,
    "start_time": "2022-04-04T04:15:15.833Z"
   },
   {
    "duration": 508,
    "start_time": "2022-04-04T04:15:15.841Z"
   },
   {
    "duration": 10,
    "start_time": "2022-04-04T04:15:16.351Z"
   },
   {
    "duration": 8,
    "start_time": "2022-04-04T04:15:16.363Z"
   },
   {
    "duration": 20,
    "start_time": "2022-04-04T04:15:16.373Z"
   },
   {
    "duration": 71,
    "start_time": "2022-04-04T04:15:16.395Z"
   },
   {
    "duration": 10,
    "start_time": "2022-04-04T04:15:16.467Z"
   },
   {
    "duration": 6,
    "start_time": "2022-04-04T04:15:16.479Z"
   },
   {
    "duration": 18,
    "start_time": "2022-04-04T04:15:16.487Z"
   },
   {
    "duration": 71,
    "start_time": "2022-04-04T04:15:16.507Z"
   },
   {
    "duration": 10,
    "start_time": "2022-04-04T04:15:16.579Z"
   },
   {
    "duration": 7,
    "start_time": "2022-04-04T04:15:16.591Z"
   },
   {
    "duration": 37,
    "start_time": "2022-04-04T04:15:16.600Z"
   },
   {
    "duration": 52,
    "start_time": "2022-04-04T04:15:16.639Z"
   },
   {
    "duration": 35,
    "start_time": "2022-04-04T04:15:16.696Z"
   },
   {
    "duration": 7,
    "start_time": "2022-04-04T04:15:16.733Z"
   },
   {
    "duration": 13,
    "start_time": "2022-04-04T04:15:16.743Z"
   },
   {
    "duration": 11,
    "start_time": "2022-04-04T04:15:16.758Z"
   },
   {
    "duration": 16,
    "start_time": "2022-04-04T04:15:16.771Z"
   },
   {
    "duration": 5,
    "start_time": "2022-04-04T04:15:16.789Z"
   },
   {
    "duration": 39,
    "start_time": "2022-04-04T04:15:16.796Z"
   },
   {
    "duration": 14,
    "start_time": "2022-04-04T04:15:16.837Z"
   },
   {
    "duration": 14,
    "start_time": "2022-04-04T04:15:16.853Z"
   },
   {
    "duration": 4,
    "start_time": "2022-04-04T04:15:16.869Z"
   },
   {
    "duration": 20,
    "start_time": "2022-04-04T04:15:16.875Z"
   },
   {
    "duration": 9,
    "start_time": "2022-04-04T04:15:16.897Z"
   },
   {
    "duration": 38,
    "start_time": "2022-04-04T04:15:16.908Z"
   },
   {
    "duration": 10,
    "start_time": "2022-04-04T04:15:16.948Z"
   },
   {
    "duration": 14,
    "start_time": "2022-04-04T04:15:16.960Z"
   },
   {
    "duration": 5,
    "start_time": "2022-04-04T04:15:16.976Z"
   },
   {
    "duration": 15,
    "start_time": "2022-04-04T04:15:16.983Z"
   },
   {
    "duration": 6,
    "start_time": "2022-04-04T04:15:16.999Z"
   },
   {
    "duration": 21,
    "start_time": "2022-04-04T04:15:17.031Z"
   },
   {
    "duration": 107,
    "start_time": "2022-04-04T04:15:17.134Z"
   },
   {
    "duration": 197,
    "start_time": "2022-04-04T04:15:17.244Z"
   },
   {
    "duration": 188,
    "start_time": "2022-04-04T04:15:17.444Z"
   },
   {
    "duration": 3,
    "start_time": "2022-04-04T04:15:17.634Z"
   },
   {
    "duration": 9,
    "start_time": "2022-04-04T04:15:17.639Z"
   },
   {
    "duration": 5,
    "start_time": "2022-04-04T04:15:19.377Z"
   },
   {
    "duration": 10,
    "start_time": "2022-04-04T04:15:24.637Z"
   },
   {
    "duration": 9,
    "start_time": "2022-04-04T04:15:59.389Z"
   },
   {
    "duration": 8,
    "start_time": "2022-04-04T04:16:00.395Z"
   },
   {
    "duration": 8,
    "start_time": "2022-04-04T04:16:01.395Z"
   },
   {
    "duration": 9,
    "start_time": "2022-04-04T04:16:02.439Z"
   },
   {
    "duration": 9,
    "start_time": "2022-04-04T04:16:06.126Z"
   },
   {
    "duration": 8,
    "start_time": "2022-04-04T04:16:07.854Z"
   },
   {
    "duration": 10,
    "start_time": "2022-04-04T04:16:09.442Z"
   },
   {
    "duration": 1474,
    "start_time": "2022-04-04T04:25:38.379Z"
   },
   {
    "duration": 1446,
    "start_time": "2022-04-04T04:25:46.616Z"
   },
   {
    "duration": 1425,
    "start_time": "2022-04-04T04:25:52.473Z"
   },
   {
    "duration": 1471,
    "start_time": "2022-04-04T04:27:00.475Z"
   },
   {
    "duration": 1418,
    "start_time": "2022-04-04T04:27:07.359Z"
   },
   {
    "duration": 1410,
    "start_time": "2022-04-04T04:27:11.346Z"
   },
   {
    "duration": 1435,
    "start_time": "2022-04-04T04:27:20.536Z"
   },
   {
    "duration": 1458,
    "start_time": "2022-04-04T04:28:04.992Z"
   },
   {
    "duration": 1452,
    "start_time": "2022-04-04T04:28:12.031Z"
   },
   {
    "duration": 1443,
    "start_time": "2022-04-04T04:28:21.136Z"
   },
   {
    "duration": 3,
    "start_time": "2022-04-04T04:37:57.631Z"
   },
   {
    "duration": 474,
    "start_time": "2022-04-04T04:37:57.636Z"
   },
   {
    "duration": 9,
    "start_time": "2022-04-04T04:37:58.112Z"
   },
   {
    "duration": 6,
    "start_time": "2022-04-04T04:37:58.132Z"
   },
   {
    "duration": 19,
    "start_time": "2022-04-04T04:37:58.141Z"
   },
   {
    "duration": 51,
    "start_time": "2022-04-04T04:37:58.161Z"
   },
   {
    "duration": 25,
    "start_time": "2022-04-04T04:37:58.214Z"
   },
   {
    "duration": 11,
    "start_time": "2022-04-04T04:37:58.240Z"
   },
   {
    "duration": 24,
    "start_time": "2022-04-04T04:37:58.252Z"
   },
   {
    "duration": 56,
    "start_time": "2022-04-04T04:37:58.277Z"
   },
   {
    "duration": 9,
    "start_time": "2022-04-04T04:37:58.336Z"
   },
   {
    "duration": 5,
    "start_time": "2022-04-04T04:37:58.347Z"
   },
   {
    "duration": 23,
    "start_time": "2022-04-04T04:37:58.354Z"
   },
   {
    "duration": 74,
    "start_time": "2022-04-04T04:37:58.379Z"
   },
   {
    "duration": 12,
    "start_time": "2022-04-04T04:37:58.455Z"
   },
   {
    "duration": 11,
    "start_time": "2022-04-04T04:37:58.469Z"
   },
   {
    "duration": 18,
    "start_time": "2022-04-04T04:37:58.482Z"
   },
   {
    "duration": 4,
    "start_time": "2022-04-04T04:37:58.502Z"
   },
   {
    "duration": 32,
    "start_time": "2022-04-04T04:37:58.507Z"
   },
   {
    "duration": 4,
    "start_time": "2022-04-04T04:37:58.541Z"
   },
   {
    "duration": 14,
    "start_time": "2022-04-04T04:37:58.547Z"
   },
   {
    "duration": 9,
    "start_time": "2022-04-04T04:37:58.563Z"
   },
   {
    "duration": 13,
    "start_time": "2022-04-04T04:37:58.574Z"
   },
   {
    "duration": 4,
    "start_time": "2022-04-04T04:37:58.589Z"
   },
   {
    "duration": 39,
    "start_time": "2022-04-04T04:37:58.595Z"
   },
   {
    "duration": 4,
    "start_time": "2022-04-04T04:37:58.636Z"
   },
   {
    "duration": 17,
    "start_time": "2022-04-04T04:37:58.641Z"
   },
   {
    "duration": 9,
    "start_time": "2022-04-04T04:37:58.659Z"
   },
   {
    "duration": 11,
    "start_time": "2022-04-04T04:37:58.671Z"
   },
   {
    "duration": 5,
    "start_time": "2022-04-04T04:37:58.683Z"
   },
   {
    "duration": 14,
    "start_time": "2022-04-04T04:37:58.689Z"
   },
   {
    "duration": 5,
    "start_time": "2022-04-04T04:37:58.732Z"
   },
   {
    "duration": 93,
    "start_time": "2022-04-04T04:37:58.739Z"
   },
   {
    "duration": 108,
    "start_time": "2022-04-04T04:37:58.834Z"
   },
   {
    "duration": 196,
    "start_time": "2022-04-04T04:37:58.945Z"
   },
   {
    "duration": 97,
    "start_time": "2022-04-04T04:37:59.143Z"
   },
   {
    "duration": 3,
    "start_time": "2022-04-04T04:37:59.333Z"
   },
   {
    "duration": 7,
    "start_time": "2022-04-04T04:37:59.338Z"
   },
   {
    "duration": 5,
    "start_time": "2022-04-04T04:37:59.346Z"
   },
   {
    "duration": 11,
    "start_time": "2022-04-04T04:37:59.353Z"
   },
   {
    "duration": 9,
    "start_time": "2022-04-04T04:37:59.366Z"
   },
   {
    "duration": 11,
    "start_time": "2022-04-04T04:37:59.377Z"
   },
   {
    "duration": 43,
    "start_time": "2022-04-04T04:37:59.389Z"
   },
   {
    "duration": 11,
    "start_time": "2022-04-04T04:37:59.434Z"
   },
   {
    "duration": 9,
    "start_time": "2022-04-04T04:37:59.447Z"
   },
   {
    "duration": 1495,
    "start_time": "2022-04-04T04:37:59.458Z"
   },
   {
    "duration": 1496,
    "start_time": "2022-04-04T04:38:00.955Z"
   },
   {
    "duration": 1486,
    "start_time": "2022-04-04T04:38:02.453Z"
   },
   {
    "duration": 4,
    "start_time": "2022-04-04T04:38:03.940Z"
   },
   {
    "duration": 7,
    "start_time": "2022-04-04T04:38:03.946Z"
   },
   {
    "duration": 14,
    "start_time": "2022-04-04T04:38:03.955Z"
   }
  ],
  "colab": {
   "collapsed_sections": [
    "w-AUeu_zGgR3",
    "b2Nty2mGVTHT",
    "yXkBxhQUVkfl",
    "PqQx41XUa2Jw",
    "MWQMoO_5bVyw"
   ],
   "name": "Oil Well Location Prediction.ipynb",
   "provenance": []
  },
  "kernelspec": {
   "display_name": "Python 3 (ipykernel)",
   "language": "python",
   "name": "python3"
  },
  "language_info": {
   "codemirror_mode": {
    "name": "ipython",
    "version": 3
   },
   "file_extension": ".py",
   "mimetype": "text/x-python",
   "name": "python",
   "nbconvert_exporter": "python",
   "pygments_lexer": "ipython3",
   "version": "3.9.7"
  },
  "toc": {
   "base_numbering": 1,
   "nav_menu": {},
   "number_sections": true,
   "sideBar": true,
   "skip_h1_title": true,
   "title_cell": "Table of Contents",
   "title_sidebar": "Contents",
   "toc_cell": false,
   "toc_position": {},
   "toc_section_display": true,
   "toc_window_display": false
  }
 },
 "nbformat": 4,
 "nbformat_minor": 1
}
