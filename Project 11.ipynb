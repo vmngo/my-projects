{
 "cells": [
  {
   "cell_type": "markdown",
   "metadata": {
    "id": "uViwBRHr8ubc"
   },
   "source": [
    "# Predicting Market Value of a Car"
   ]
  },
  {
   "cell_type": "markdown",
   "metadata": {
    "id": "_dQbAHGQ9Xl4"
   },
   "source": [
    "# Content\n",
    "\n",
    "* [Introduction](#intro)\n",
    "* [Initialization](#initlization)\n",
    "* [Data Exploration](#data_exploration)\n",
    "* [Data Preprocessing](#data_preprocessing)\n",
    "\t* [Conclusion](#conclusion)\n",
    "* [Exploratory Data Analysis (EDA)](#eda)\n",
    "\t* [Conclusion](#conclusion)\n",
    "* [Training Models](#training_models)\n",
    "\t* [Linear Regression for Sanity Check](#sanity_check)\n",
    "\t* [Random Forest Regressor](#random_forest)\n",
    "\t* [LightGBM Regressor](#lightGBM)\n",
    "\t* [CatBoost Regressor](#catboost)\n",
    "\t* [XGBoost](#xgboost)\n",
    "\t* [Conclusion](#conclusion)\n",
    "* [Model Analysis](model_analysis)\n",
    "\t* [Conclusion](#conclusion)\n",
    "* [Findings](#findings)\n",
    "\t\n"
   ]
  },
  {
   "cell_type": "markdown",
   "metadata": {
    "id": "SLBdeUpV9YzZ"
   },
   "source": [
    "## Introduction \n",
    "\n",
    "Rusty Bargain, a used car sales service, wants to develop an app is attract new customers. In that app, we should be able to quickly find out the market value of a car. We have access to historical data: technical specifications, trim versions, and prices. We need to build a model to determine the value. \n",
    "\n",
    "Rusty Bargain is interested in:\n",
    "* the quality of the prediction \n",
    "* the speed of the prediction \n",
    "* the time required for training \n",
    "\n",
    "**Data Description:**\n",
    "\n",
    "**Features**\n",
    "* `DateCrawled` — date profile was downloaded from the database\n",
    "* `VehicleType` — vehicle body type\n",
    "* `RegistrationYear` — vehicle registration year\n",
    "* `Gearbox` — gearbox type\n",
    "* `Power` — power (hp)\n",
    "* `Model` — vehicle model\n",
    "* `Mileage` — mileage (measured in km due to dataset's regional specifics)\n",
    "* `RegistrationMonth` — vehicle registration month\n",
    "* `FuelType` — fuel type\n",
    "* `Brand` — vehicle brand\n",
    "* `NotRepaired` — vehicle repaired or not\n",
    "* `DateCreated` — date of profile creation\n",
    "* `NumberOfPictures` — number of vehicle pictures\n",
    "* `PostalCode` — postal code of profile owner (user)\n",
    "* `LastSeen` — date of the last activity of the user\n",
    "\n",
    "**Target** \n",
    "* `Price` - price (Euro)\n",
    "\n",
    "**Objectives:**\n",
    "* Train different models with various hyperparameters \n",
    "* Use RMSE metric to evaluate the models\n",
    "* Compare gradient boosting methods with random forest, decision tree, and linear regression\n",
    "* Analyze the speed and quality of the models"
   ]
  },
  {
   "cell_type": "markdown",
   "metadata": {
    "id": "WXcyXMNEFVEK"
   },
   "source": [
    "## Initialization"
   ]
  },
  {
   "cell_type": "code",
   "execution_count": 1,
   "metadata": {
    "colab": {
     "base_uri": "https://localhost:8080/"
    },
    "id": "KhrWnp1xFaqT",
    "outputId": "3dee4c74-aa71-4d93-bc2e-2b59e1827a4d"
   },
   "outputs": [
    {
     "name": "stdout",
     "output_type": "stream",
     "text": [
      "Collecting catboost\n",
      "  Downloading catboost-1.0.5-cp37-none-manylinux1_x86_64.whl (76.6 MB)\n",
      "\u001b[K     |████████████████████████████████| 76.6 MB 57 kB/s \n",
      "\u001b[?25hRequirement already satisfied: pandas>=0.24.0 in /usr/local/lib/python3.7/dist-packages (from catboost) (1.3.5)\n",
      "Requirement already satisfied: numpy>=1.16.0 in /usr/local/lib/python3.7/dist-packages (from catboost) (1.21.6)\n",
      "Requirement already satisfied: plotly in /usr/local/lib/python3.7/dist-packages (from catboost) (5.5.0)\n",
      "Requirement already satisfied: six in /usr/local/lib/python3.7/dist-packages (from catboost) (1.15.0)\n",
      "Requirement already satisfied: scipy in /usr/local/lib/python3.7/dist-packages (from catboost) (1.4.1)\n",
      "Requirement already satisfied: matplotlib in /usr/local/lib/python3.7/dist-packages (from catboost) (3.2.2)\n",
      "Requirement already satisfied: graphviz in /usr/local/lib/python3.7/dist-packages (from catboost) (0.10.1)\n",
      "Requirement already satisfied: pytz>=2017.3 in /usr/local/lib/python3.7/dist-packages (from pandas>=0.24.0->catboost) (2022.1)\n",
      "Requirement already satisfied: python-dateutil>=2.7.3 in /usr/local/lib/python3.7/dist-packages (from pandas>=0.24.0->catboost) (2.8.2)\n",
      "Requirement already satisfied: pyparsing!=2.0.4,!=2.1.2,!=2.1.6,>=2.0.1 in /usr/local/lib/python3.7/dist-packages (from matplotlib->catboost) (3.0.8)\n",
      "Requirement already satisfied: cycler>=0.10 in /usr/local/lib/python3.7/dist-packages (from matplotlib->catboost) (0.11.0)\n",
      "Requirement already satisfied: kiwisolver>=1.0.1 in /usr/local/lib/python3.7/dist-packages (from matplotlib->catboost) (1.4.2)\n",
      "Requirement already satisfied: typing-extensions in /usr/local/lib/python3.7/dist-packages (from kiwisolver>=1.0.1->matplotlib->catboost) (4.1.1)\n",
      "Requirement already satisfied: tenacity>=6.2.0 in /usr/local/lib/python3.7/dist-packages (from plotly->catboost) (8.0.1)\n",
      "Installing collected packages: catboost\n",
      "Successfully installed catboost-1.0.5\n"
     ]
    }
   ],
   "source": [
    "# Loading all libraries\n",
    "import pandas as pd\n",
    "import numpy as np\n",
    "import math\n",
    "import seaborn as sns\n",
    "import matplotlib.pyplot as plt\n",
    "\n",
    "from sklearn.preprocessing import OneHotEncoder, OrdinalEncoder, StandardScaler\n",
    "from sklearn.model_selection import train_test_split, GridSearchCV\n",
    "from sklearn.metrics import mean_squared_error\n",
    "from sklearn.pipeline import Pipeline\n",
    "from sklearn.compose import ColumnTransformer\n",
    "from sklearn.linear_model import LinearRegression\n",
    "from sklearn.ensemble import RandomForestRegressor\n",
    "from lightgbm import LGBMRegressor\n",
    "from xgboost import XGBRegressor\n",
    "\n",
    "!pip install catboost\n",
    "from catboost import CatBoostRegressor"
   ]
  },
  {
   "cell_type": "code",
   "execution_count": 2,
   "metadata": {
    "id": "6t7HAhcUFy2a"
   },
   "outputs": [],
   "source": [
    "# Loading the data\n",
    "try:\n",
    "  df = pd.read_csv('car_data.csv')\n",
    "except:\n",
    "  df = pd.read_csv('/datasets/car_data.csv')"
   ]
  },
  {
   "cell_type": "markdown",
   "metadata": {
    "id": "epkCeMRQGDxh"
   },
   "source": [
    "## Data Exploration\n",
    "\n",
    "Description of data:\n",
    "\n",
    "* `DateCrawled` — date profile was downloaded from the database\n",
    "* `VehicleType` — vehicle body type\n",
    "* `RegistrationYear` — vehicle registration year\n",
    "* `Gearbox` — gearbox type\n",
    "* `Power` — power (hp)\n",
    "* `Model` — vehicle model\n",
    "* `Mileage` — mileage (measured in km due to dataset's regional specifics)\n",
    "* `RegistrationMonth` — vehicle registration month\n",
    "* `FuelType` — fuel type\n",
    "* `Brand` — vehicle brand\n",
    "* `NotRepaired` — vehicle repaired or not\n",
    "* `DateCreated` — date of profile creation\n",
    "* `NumberOfPictures` — number of vehicle pictures\n",
    "* `PostalCode` — postal code of profile owner (user)\n",
    "* `LastSeen` — date of the last activity of the user\n",
    "* `Price` - price (Euro)"
   ]
  },
  {
   "cell_type": "code",
   "execution_count": 3,
   "metadata": {
    "colab": {
     "base_uri": "https://localhost:8080/",
     "height": 356
    },
    "id": "MzEAHZdaF7Yj",
    "outputId": "4ca9297d-e254-4f83-90e4-2251984ef3d4"
   },
   "outputs": [
    {
     "data": {
      "text/html": [
       "\n",
       "  <div id=\"df-5181b98a-4947-4c79-8379-36d5aa4b8d48\">\n",
       "    <div class=\"colab-df-container\">\n",
       "      <div>\n",
       "<style scoped>\n",
       "    .dataframe tbody tr th:only-of-type {\n",
       "        vertical-align: middle;\n",
       "    }\n",
       "\n",
       "    .dataframe tbody tr th {\n",
       "        vertical-align: top;\n",
       "    }\n",
       "\n",
       "    .dataframe thead th {\n",
       "        text-align: right;\n",
       "    }\n",
       "</style>\n",
       "<table border=\"1\" class=\"dataframe\">\n",
       "  <thead>\n",
       "    <tr style=\"text-align: right;\">\n",
       "      <th></th>\n",
       "      <th>DateCrawled</th>\n",
       "      <th>Price</th>\n",
       "      <th>VehicleType</th>\n",
       "      <th>RegistrationYear</th>\n",
       "      <th>Gearbox</th>\n",
       "      <th>Power</th>\n",
       "      <th>Model</th>\n",
       "      <th>Mileage</th>\n",
       "      <th>RegistrationMonth</th>\n",
       "      <th>FuelType</th>\n",
       "      <th>Brand</th>\n",
       "      <th>NotRepaired</th>\n",
       "      <th>DateCreated</th>\n",
       "      <th>NumberOfPictures</th>\n",
       "      <th>PostalCode</th>\n",
       "      <th>LastSeen</th>\n",
       "    </tr>\n",
       "  </thead>\n",
       "  <tbody>\n",
       "    <tr>\n",
       "      <th>0</th>\n",
       "      <td>24/03/2016 11:52</td>\n",
       "      <td>480</td>\n",
       "      <td>NaN</td>\n",
       "      <td>1993</td>\n",
       "      <td>manual</td>\n",
       "      <td>0</td>\n",
       "      <td>golf</td>\n",
       "      <td>150000</td>\n",
       "      <td>0</td>\n",
       "      <td>petrol</td>\n",
       "      <td>volkswagen</td>\n",
       "      <td>NaN</td>\n",
       "      <td>24/03/2016 00:00</td>\n",
       "      <td>0</td>\n",
       "      <td>70435</td>\n",
       "      <td>07/04/2016 03:16</td>\n",
       "    </tr>\n",
       "    <tr>\n",
       "      <th>1</th>\n",
       "      <td>24/03/2016 10:58</td>\n",
       "      <td>18300</td>\n",
       "      <td>coupe</td>\n",
       "      <td>2011</td>\n",
       "      <td>manual</td>\n",
       "      <td>190</td>\n",
       "      <td>NaN</td>\n",
       "      <td>125000</td>\n",
       "      <td>5</td>\n",
       "      <td>gasoline</td>\n",
       "      <td>audi</td>\n",
       "      <td>yes</td>\n",
       "      <td>24/03/2016 00:00</td>\n",
       "      <td>0</td>\n",
       "      <td>66954</td>\n",
       "      <td>07/04/2016 01:46</td>\n",
       "    </tr>\n",
       "    <tr>\n",
       "      <th>2</th>\n",
       "      <td>14/03/2016 12:52</td>\n",
       "      <td>9800</td>\n",
       "      <td>suv</td>\n",
       "      <td>2004</td>\n",
       "      <td>auto</td>\n",
       "      <td>163</td>\n",
       "      <td>grand</td>\n",
       "      <td>125000</td>\n",
       "      <td>8</td>\n",
       "      <td>gasoline</td>\n",
       "      <td>jeep</td>\n",
       "      <td>NaN</td>\n",
       "      <td>14/03/2016 00:00</td>\n",
       "      <td>0</td>\n",
       "      <td>90480</td>\n",
       "      <td>05/04/2016 12:47</td>\n",
       "    </tr>\n",
       "    <tr>\n",
       "      <th>3</th>\n",
       "      <td>17/03/2016 16:54</td>\n",
       "      <td>1500</td>\n",
       "      <td>small</td>\n",
       "      <td>2001</td>\n",
       "      <td>manual</td>\n",
       "      <td>75</td>\n",
       "      <td>golf</td>\n",
       "      <td>150000</td>\n",
       "      <td>6</td>\n",
       "      <td>petrol</td>\n",
       "      <td>volkswagen</td>\n",
       "      <td>no</td>\n",
       "      <td>17/03/2016 00:00</td>\n",
       "      <td>0</td>\n",
       "      <td>91074</td>\n",
       "      <td>17/03/2016 17:40</td>\n",
       "    </tr>\n",
       "    <tr>\n",
       "      <th>4</th>\n",
       "      <td>31/03/2016 17:25</td>\n",
       "      <td>3600</td>\n",
       "      <td>small</td>\n",
       "      <td>2008</td>\n",
       "      <td>manual</td>\n",
       "      <td>69</td>\n",
       "      <td>fabia</td>\n",
       "      <td>90000</td>\n",
       "      <td>7</td>\n",
       "      <td>gasoline</td>\n",
       "      <td>skoda</td>\n",
       "      <td>no</td>\n",
       "      <td>31/03/2016 00:00</td>\n",
       "      <td>0</td>\n",
       "      <td>60437</td>\n",
       "      <td>06/04/2016 10:17</td>\n",
       "    </tr>\n",
       "  </tbody>\n",
       "</table>\n",
       "</div>\n",
       "      <button class=\"colab-df-convert\" onclick=\"convertToInteractive('df-5181b98a-4947-4c79-8379-36d5aa4b8d48')\"\n",
       "              title=\"Convert this dataframe to an interactive table.\"\n",
       "              style=\"display:none;\">\n",
       "        \n",
       "  <svg xmlns=\"http://www.w3.org/2000/svg\" height=\"24px\"viewBox=\"0 0 24 24\"\n",
       "       width=\"24px\">\n",
       "    <path d=\"M0 0h24v24H0V0z\" fill=\"none\"/>\n",
       "    <path d=\"M18.56 5.44l.94 2.06.94-2.06 2.06-.94-2.06-.94-.94-2.06-.94 2.06-2.06.94zm-11 1L8.5 8.5l.94-2.06 2.06-.94-2.06-.94L8.5 2.5l-.94 2.06-2.06.94zm10 10l.94 2.06.94-2.06 2.06-.94-2.06-.94-.94-2.06-.94 2.06-2.06.94z\"/><path d=\"M17.41 7.96l-1.37-1.37c-.4-.4-.92-.59-1.43-.59-.52 0-1.04.2-1.43.59L10.3 9.45l-7.72 7.72c-.78.78-.78 2.05 0 2.83L4 21.41c.39.39.9.59 1.41.59.51 0 1.02-.2 1.41-.59l7.78-7.78 2.81-2.81c.8-.78.8-2.07 0-2.86zM5.41 20L4 18.59l7.72-7.72 1.47 1.35L5.41 20z\"/>\n",
       "  </svg>\n",
       "      </button>\n",
       "      \n",
       "  <style>\n",
       "    .colab-df-container {\n",
       "      display:flex;\n",
       "      flex-wrap:wrap;\n",
       "      gap: 12px;\n",
       "    }\n",
       "\n",
       "    .colab-df-convert {\n",
       "      background-color: #E8F0FE;\n",
       "      border: none;\n",
       "      border-radius: 50%;\n",
       "      cursor: pointer;\n",
       "      display: none;\n",
       "      fill: #1967D2;\n",
       "      height: 32px;\n",
       "      padding: 0 0 0 0;\n",
       "      width: 32px;\n",
       "    }\n",
       "\n",
       "    .colab-df-convert:hover {\n",
       "      background-color: #E2EBFA;\n",
       "      box-shadow: 0px 1px 2px rgba(60, 64, 67, 0.3), 0px 1px 3px 1px rgba(60, 64, 67, 0.15);\n",
       "      fill: #174EA6;\n",
       "    }\n",
       "\n",
       "    [theme=dark] .colab-df-convert {\n",
       "      background-color: #3B4455;\n",
       "      fill: #D2E3FC;\n",
       "    }\n",
       "\n",
       "    [theme=dark] .colab-df-convert:hover {\n",
       "      background-color: #434B5C;\n",
       "      box-shadow: 0px 1px 3px 1px rgba(0, 0, 0, 0.15);\n",
       "      filter: drop-shadow(0px 1px 2px rgba(0, 0, 0, 0.3));\n",
       "      fill: #FFFFFF;\n",
       "    }\n",
       "  </style>\n",
       "\n",
       "      <script>\n",
       "        const buttonEl =\n",
       "          document.querySelector('#df-5181b98a-4947-4c79-8379-36d5aa4b8d48 button.colab-df-convert');\n",
       "        buttonEl.style.display =\n",
       "          google.colab.kernel.accessAllowed ? 'block' : 'none';\n",
       "\n",
       "        async function convertToInteractive(key) {\n",
       "          const element = document.querySelector('#df-5181b98a-4947-4c79-8379-36d5aa4b8d48');\n",
       "          const dataTable =\n",
       "            await google.colab.kernel.invokeFunction('convertToInteractive',\n",
       "                                                     [key], {});\n",
       "          if (!dataTable) return;\n",
       "\n",
       "          const docLinkHtml = 'Like what you see? Visit the ' +\n",
       "            '<a target=\"_blank\" href=https://colab.research.google.com/notebooks/data_table.ipynb>data table notebook</a>'\n",
       "            + ' to learn more about interactive tables.';\n",
       "          element.innerHTML = '';\n",
       "          dataTable['output_type'] = 'display_data';\n",
       "          await google.colab.output.renderOutput(dataTable, element);\n",
       "          const docLink = document.createElement('div');\n",
       "          docLink.innerHTML = docLinkHtml;\n",
       "          element.appendChild(docLink);\n",
       "        }\n",
       "      </script>\n",
       "    </div>\n",
       "  </div>\n",
       "  "
      ],
      "text/plain": [
       "        DateCrawled  Price VehicleType  RegistrationYear Gearbox  Power  \\\n",
       "0  24/03/2016 11:52    480         NaN              1993  manual      0   \n",
       "1  24/03/2016 10:58  18300       coupe              2011  manual    190   \n",
       "2  14/03/2016 12:52   9800         suv              2004    auto    163   \n",
       "3  17/03/2016 16:54   1500       small              2001  manual     75   \n",
       "4  31/03/2016 17:25   3600       small              2008  manual     69   \n",
       "\n",
       "   Model  Mileage  RegistrationMonth  FuelType       Brand NotRepaired  \\\n",
       "0   golf   150000                  0    petrol  volkswagen         NaN   \n",
       "1    NaN   125000                  5  gasoline        audi         yes   \n",
       "2  grand   125000                  8  gasoline        jeep         NaN   \n",
       "3   golf   150000                  6    petrol  volkswagen          no   \n",
       "4  fabia    90000                  7  gasoline       skoda          no   \n",
       "\n",
       "        DateCreated  NumberOfPictures  PostalCode          LastSeen  \n",
       "0  24/03/2016 00:00                 0       70435  07/04/2016 03:16  \n",
       "1  24/03/2016 00:00                 0       66954  07/04/2016 01:46  \n",
       "2  14/03/2016 00:00                 0       90480  05/04/2016 12:47  \n",
       "3  17/03/2016 00:00                 0       91074  17/03/2016 17:40  \n",
       "4  31/03/2016 00:00                 0       60437  06/04/2016 10:17  "
      ]
     },
     "execution_count": 3,
     "metadata": {},
     "output_type": "execute_result"
    }
   ],
   "source": [
    "# Obtaining first five rows of table\n",
    "df.head()"
   ]
  },
  {
   "cell_type": "code",
   "execution_count": 4,
   "metadata": {
    "colab": {
     "base_uri": "https://localhost:8080/"
    },
    "id": "yckSuz3KGUyn",
    "outputId": "94dca123-8d24-46cb-bf6e-3e79f72ce41e"
   },
   "outputs": [
    {
     "name": "stdout",
     "output_type": "stream",
     "text": [
      "The table has 354369 rows and 16 columns\n"
     ]
    }
   ],
   "source": [
    "# Obtaining number of rows and columns \n",
    "shape = df.shape\n",
    "print('The table has {} rows and {} columns'.format(shape[0], shape[1]))"
   ]
  },
  {
   "cell_type": "code",
   "execution_count": 5,
   "metadata": {
    "colab": {
     "base_uri": "https://localhost:8080/"
    },
    "id": "pjLm09ZtGiWI",
    "outputId": "c21cc85b-a7c6-46a8-9520-f48e287ace2f"
   },
   "outputs": [
    {
     "name": "stdout",
     "output_type": "stream",
     "text": [
      "<class 'pandas.core.frame.DataFrame'>\n",
      "RangeIndex: 354369 entries, 0 to 354368\n",
      "Data columns (total 16 columns):\n",
      " #   Column             Non-Null Count   Dtype \n",
      "---  ------             --------------   ----- \n",
      " 0   DateCrawled        354369 non-null  object\n",
      " 1   Price              354369 non-null  int64 \n",
      " 2   VehicleType        316879 non-null  object\n",
      " 3   RegistrationYear   354369 non-null  int64 \n",
      " 4   Gearbox            334536 non-null  object\n",
      " 5   Power              354369 non-null  int64 \n",
      " 6   Model              334664 non-null  object\n",
      " 7   Mileage            354369 non-null  int64 \n",
      " 8   RegistrationMonth  354369 non-null  int64 \n",
      " 9   FuelType           321474 non-null  object\n",
      " 10  Brand              354369 non-null  object\n",
      " 11  NotRepaired        283215 non-null  object\n",
      " 12  DateCreated        354369 non-null  object\n",
      " 13  NumberOfPictures   354369 non-null  int64 \n",
      " 14  PostalCode         354369 non-null  int64 \n",
      " 15  LastSeen           354369 non-null  object\n",
      "dtypes: int64(7), object(9)\n",
      "memory usage: 43.3+ MB\n"
     ]
    }
   ],
   "source": [
    "# Obtaining general info\n",
    "df.info()"
   ]
  },
  {
   "cell_type": "markdown",
   "metadata": {
    "id": "2CAisRkFGpRZ"
   },
   "source": [
    "Since there are 354,369 rows per column, df contains missing values in columns `VehicleType`, `Gearbox`, `Model`, `FuelType`, and `NotRepaired`."
   ]
  },
  {
   "cell_type": "code",
   "execution_count": 6,
   "metadata": {
    "colab": {
     "base_uri": "https://localhost:8080/"
    },
    "id": "DtYueMm6HLG4",
    "outputId": "30a24174-23c9-4683-f46c-617c83849318"
   },
   "outputs": [
    {
     "name": "stdout",
     "output_type": "stream",
     "text": [
      "                   missing_values       %\n",
      "NotRepaired                 71154  20.079\n",
      "VehicleType                 37490  10.579\n",
      "FuelType                    32895   9.283\n",
      "Gearbox                     19833   5.597\n",
      "Model                       19705   5.561\n",
      "DateCrawled                     0   0.000\n",
      "Price                           0   0.000\n",
      "RegistrationYear                0   0.000\n",
      "Power                           0   0.000\n",
      "Mileage                         0   0.000\n",
      "RegistrationMonth               0   0.000\n",
      "Brand                           0   0.000\n",
      "DateCreated                     0   0.000\n",
      "NumberOfPictures                0   0.000\n",
      "PostalCode                      0   0.000\n",
      "LastSeen                        0   0.000\n"
     ]
    }
   ],
   "source": [
    "# Percentage of missing values per column \n",
    "df_mis = df.isna().sum().to_frame('missing_values')\n",
    "df_mis['%'] = round(100 * df.isna().sum()/len(df), 3)\n",
    "print(df_mis.sort_values(by='%', ascending=False))"
   ]
  },
  {
   "cell_type": "code",
   "execution_count": 7,
   "metadata": {
    "colab": {
     "base_uri": "https://localhost:8080/"
    },
    "id": "1tCEGmBEIGyW",
    "outputId": "94845786-8a0b-4dfc-cb99-cda8120121f1"
   },
   "outputs": [
    {
     "data": {
      "text/plain": [
       "262"
      ]
     },
     "execution_count": 7,
     "metadata": {},
     "output_type": "execute_result"
    }
   ],
   "source": [
    "# Checking for duplicates\n",
    "df.duplicated().sum()"
   ]
  },
  {
   "cell_type": "markdown",
   "metadata": {
    "id": "a_7ZZnGoINSj"
   },
   "source": [
    "There are 262 duplicated values in our data. "
   ]
  },
  {
   "cell_type": "markdown",
   "metadata": {
    "id": "1BmdyiQeIPsl"
   },
   "source": [
    "### Conclusion\n",
    "\n",
    "Our dataset contains 354,369 rows and 16 columns. There are missing values in the columns `VehicleType`, `Gearbox`, `Model`, `FuelType`, and `NotRepaired`. The dataframe also contains duplicated data. Column names don't follow good rules of style and date values are written as object type. \n",
    "\n",
    "We will now preprocess our data to deal with missing values and duplicates. We will also fix column names and change datatype to make our data easier to work with."
   ]
  },
  {
   "cell_type": "markdown",
   "metadata": {
    "id": "pHSilP7WJSSd"
   },
   "source": [
    "## Data Preprocessing"
   ]
  },
  {
   "cell_type": "code",
   "execution_count": 8,
   "metadata": {
    "colab": {
     "base_uri": "https://localhost:8080/"
    },
    "id": "DKFz7cBoJZHB",
    "outputId": "752feff4-9559-4f81-c49d-37cb0327b8b8"
   },
   "outputs": [
    {
     "data": {
      "text/plain": [
       "Index(['date_crawled', 'price', 'vehicle_type', 'registration_year', 'gearbox',\n",
       "       'power', 'model', 'mileage', 'registration_month', 'fuel_type', 'brand',\n",
       "       'not_repaired', 'date_created', 'number_of_pictures', 'postal_code',\n",
       "       'last_seen'],\n",
       "      dtype='object')"
      ]
     },
     "execution_count": 8,
     "metadata": {},
     "output_type": "execute_result"
    }
   ],
   "source": [
    "# Chaning column names to lowercase\n",
    "df.columns = df.columns.str.lower()\n",
    "\n",
    "# Renaming columns\n",
    "df = df.rename(columns={'datecrawled':'date_crawled', 'vehicletype':'vehicle_type', 'registrationyear':'registration_year', 'registrationmonth': 'registration_month', \n",
    "                        'fueltype':'fuel_type', 'notrepaired': 'not_repaired', 'datecreated': 'date_created', \n",
    "                        'numberofpictures': 'number_of_pictures', 'postalcode': 'postal_code', 'lastseen': 'last_seen'})\n",
    "\n",
    "# Checking to see if columns have been properly renamed\n",
    "df.columns"
   ]
  },
  {
   "cell_type": "code",
   "execution_count": 9,
   "metadata": {
    "colab": {
     "base_uri": "https://localhost:8080/"
    },
    "id": "btA0ET6GKoNx",
    "outputId": "a2b3fd0c-33a8-4c99-a5f5-b7726434e712"
   },
   "outputs": [
    {
     "data": {
      "text/plain": [
       "date_crawled          datetime64[ns]\n",
       "price                          int64\n",
       "vehicle_type                  object\n",
       "registration_year              int64\n",
       "gearbox                       object\n",
       "power                          int64\n",
       "model                         object\n",
       "mileage                        int64\n",
       "registration_month             int64\n",
       "fuel_type                     object\n",
       "brand                         object\n",
       "not_repaired                  object\n",
       "date_created          datetime64[ns]\n",
       "number_of_pictures             int64\n",
       "postal_code                    int64\n",
       "last_seen             datetime64[ns]\n",
       "dtype: object"
      ]
     },
     "execution_count": 9,
     "metadata": {},
     "output_type": "execute_result"
    }
   ],
   "source": [
    "# Converting datatype\n",
    "df['date_crawled'] = pd.to_datetime(df['date_crawled'], format='%d/%m/%Y %H:%M')\n",
    "df['date_created'] = pd.to_datetime(df['date_created'], format='%d/%m/%Y %H:%M')\n",
    "df['last_seen'] = pd.to_datetime(df['last_seen'], format='%d/%m/%Y %H:%M')\n",
    "\n",
    "#Checking to see if columns have been properly converted\n",
    "df.dtypes"
   ]
  },
  {
   "cell_type": "code",
   "execution_count": 10,
   "metadata": {
    "colab": {
     "base_uri": "https://localhost:8080/"
    },
    "id": "E6q9EfN5NxaL",
    "outputId": "07d8c265-cc02-4d91-a6e1-f986dc7d67eb"
   },
   "outputs": [
    {
     "data": {
      "text/plain": [
       "not_repaired          71154\n",
       "vehicle_type          37490\n",
       "fuel_type             32895\n",
       "gearbox               19833\n",
       "model                 19705\n",
       "date_crawled              0\n",
       "price                     0\n",
       "registration_year         0\n",
       "power                     0\n",
       "mileage                   0\n",
       "registration_month        0\n",
       "brand                     0\n",
       "date_created              0\n",
       "number_of_pictures        0\n",
       "postal_code               0\n",
       "last_seen                 0\n",
       "dtype: int64"
      ]
     },
     "execution_count": 10,
     "metadata": {},
     "output_type": "execute_result"
    }
   ],
   "source": [
    "# Obtaining number of missing values per column\n",
    "df.isna().sum().sort_values(ascending=False)"
   ]
  },
  {
   "cell_type": "code",
   "execution_count": 11,
   "metadata": {
    "colab": {
     "base_uri": "https://localhost:8080/"
    },
    "id": "EcDC7fncQEgI",
    "outputId": "30792d24-da77-403f-8d9b-eeab23f0f492"
   },
   "outputs": [
    {
     "name": "stdout",
     "output_type": "stream",
     "text": [
      "Percent of missing values in not_repaired: 20.079%\n"
     ]
    }
   ],
   "source": [
    "# Percent of missing value in not_repaired\n",
    "mis = df['not_repaired'].isna().sum()/len(df)\n",
    "print(f'Percent of missing values in not_repaired: {mis:.3%}')"
   ]
  },
  {
   "cell_type": "markdown",
   "metadata": {
    "id": "f8whObu8QwgP"
   },
   "source": [
    "Since there is such a large percentage of missing values, we cannot drop the missing values in this column. "
   ]
  },
  {
   "cell_type": "code",
   "execution_count": 12,
   "metadata": {
    "colab": {
     "base_uri": "https://localhost:8080/"
    },
    "id": "7zL37sOdOBgu",
    "outputId": "7a7ff0d9-cdde-40ad-eff8-a90b33486f56"
   },
   "outputs": [
    {
     "name": "stdout",
     "output_type": "stream",
     "text": [
      "[nan 'yes' 'no']\n"
     ]
    }
   ],
   "source": [
    "# Obtaining unique values for not_repaired \n",
    "print(df['not_repaired'].unique())"
   ]
  },
  {
   "cell_type": "markdown",
   "metadata": {
    "id": "GmN9XtCNQ9CG"
   },
   "source": [
    "Since we don't know whether the car has been repaired, we will fill missing values with \"unknown.\" "
   ]
  },
  {
   "cell_type": "code",
   "execution_count": 13,
   "metadata": {
    "colab": {
     "base_uri": "https://localhost:8080/"
    },
    "id": "X5GO1M13P4YE",
    "outputId": "f9d39302-6db5-411d-96b1-2f1854e2cd28"
   },
   "outputs": [
    {
     "name": "stdout",
     "output_type": "stream",
     "text": [
      "['unknown' 'yes' 'no']\n"
     ]
    }
   ],
   "source": [
    "# Filling in missing values with \"unknown\"\n",
    "df['not_repaired'].fillna('unknown', inplace=True)\n",
    "\n",
    "# Checking to see if missing values has been properly replaced\n",
    "print(df['not_repaired'].unique())"
   ]
  },
  {
   "cell_type": "code",
   "execution_count": 14,
   "metadata": {
    "colab": {
     "base_uri": "https://localhost:8080/"
    },
    "id": "bvPsVaHcbTon",
    "outputId": "8dbd5757-9fa7-4078-c16a-ff01af48f94a"
   },
   "outputs": [
    {
     "name": "stdout",
     "output_type": "stream",
     "text": [
      "Percent of missing values in model: 5.561%\n"
     ]
    }
   ],
   "source": [
    "# Percent of missing value in model\n",
    "mis = df['model'].isna().sum()/len(df)\n",
    "print(f'Percent of missing values in model: {mis:.3%}')"
   ]
  },
  {
   "cell_type": "markdown",
   "metadata": {
    "id": "MoQsnBr_hI1T"
   },
   "source": [
    "Since there is roughly 5% of missing values in the `model` column, we will drop these values."
   ]
  },
  {
   "cell_type": "code",
   "execution_count": 15,
   "metadata": {
    "colab": {
     "base_uri": "https://localhost:8080/"
    },
    "id": "eK1mM3mpf4Kb",
    "outputId": "b66a8bc1-a149-4c20-c326-980bf6e1be3a"
   },
   "outputs": [
    {
     "data": {
      "text/plain": [
       "0"
      ]
     },
     "execution_count": 15,
     "metadata": {},
     "output_type": "execute_result"
    }
   ],
   "source": [
    "# Dropping missing values in model \n",
    "df = df.dropna(subset=['model'])\n",
    "\n",
    "# Checking to see if missing values have been dropped\n",
    "df['model'].isna().sum()"
   ]
  },
  {
   "cell_type": "code",
   "execution_count": 16,
   "metadata": {
    "colab": {
     "base_uri": "https://localhost:8080/"
    },
    "id": "WjIx_lDtRGKG",
    "outputId": "af114c5f-1b6b-431b-da20-5b2cdb19ce70"
   },
   "outputs": [
    {
     "name": "stdout",
     "output_type": "stream",
     "text": [
      "Percent of missing values in vehicle_type: 9.162%\n"
     ]
    }
   ],
   "source": [
    "# Percent of missing value in vehicle_type\n",
    "mis = df['vehicle_type'].isna().sum()/len(df)\n",
    "print(f'Percent of missing values in vehicle_type: {mis:.3%}')"
   ]
  },
  {
   "cell_type": "markdown",
   "metadata": {
    "id": "y53RQHPQRVJn"
   },
   "source": [
    "Since there is more than 5% of missing values, we cannot drop the missing values in this column."
   ]
  },
  {
   "cell_type": "code",
   "execution_count": 17,
   "metadata": {
    "colab": {
     "base_uri": "https://localhost:8080/"
    },
    "id": "9e5SChD8Rc91",
    "outputId": "8513d769-4719-45ee-bfc9-921e8d2597f3"
   },
   "outputs": [
    {
     "name": "stdout",
     "output_type": "stream",
     "text": [
      "[nan 'suv' 'small' 'sedan' 'convertible' 'bus' 'wagon' 'coupe' 'other']\n"
     ]
    }
   ],
   "source": [
    "# Getting unique values for vehicle_type\n",
    "print(df['vehicle_type'].unique())"
   ]
  },
  {
   "cell_type": "markdown",
   "metadata": {
    "id": "7aFuLzA_iKRi"
   },
   "source": [
    "We will group `vehicle_type` with `model` to fill in missing values. "
   ]
  },
  {
   "cell_type": "code",
   "execution_count": 18,
   "metadata": {
    "colab": {
     "base_uri": "https://localhost:8080/"
    },
    "id": "JhZVFlQ5YvAk",
    "outputId": "6cbb4324-0332-497c-b88d-c5751087562e"
   },
   "outputs": [
    {
     "data": {
      "text/plain": [
       "0"
      ]
     },
     "execution_count": 18,
     "metadata": {},
     "output_type": "execute_result"
    }
   ],
   "source": [
    "# Filling in missing value for vehicle_type\n",
    "df['vehicle_type']=df.groupby('model').vehicle_type.transform(lambda x: x.fillna(x.mode()[0]))\n",
    "\n",
    "# Checking to see if missing values have been filled\n",
    "df['vehicle_type'].isna().sum()"
   ]
  },
  {
   "cell_type": "code",
   "execution_count": 19,
   "metadata": {
    "colab": {
     "base_uri": "https://localhost:8080/"
    },
    "id": "EeQhl5XWagt2",
    "outputId": "3f00c08f-4dcf-40f1-ae97-4d28f65cb619"
   },
   "outputs": [
    {
     "name": "stdout",
     "output_type": "stream",
     "text": [
      "Percent of missing values in fuel_type: 7.689%\n"
     ]
    }
   ],
   "source": [
    "# Percent of missing value in fuel_type\n",
    "mis = df['fuel_type'].isna().sum()/len(df)\n",
    "print(f'Percent of missing values in fuel_type: {mis:.3%}')"
   ]
  },
  {
   "cell_type": "markdown",
   "metadata": {
    "id": "exAJQYoMi63K"
   },
   "source": [
    "Since there is more than 5% of missing values, we cannot drop the missing values in this column."
   ]
  },
  {
   "cell_type": "code",
   "execution_count": 20,
   "metadata": {
    "colab": {
     "base_uri": "https://localhost:8080/"
    },
    "id": "cib9G8Sgi-g-",
    "outputId": "a51c068f-b919-4cd4-9b9e-ced33fb37901"
   },
   "outputs": [
    {
     "name": "stdout",
     "output_type": "stream",
     "text": [
      "['petrol' 'gasoline' nan 'lpg' 'other' 'hybrid' 'cng' 'electric']\n"
     ]
    }
   ],
   "source": [
    "# Getting unique values for fuel_type\n",
    "print(df['fuel_type'].unique())"
   ]
  },
  {
   "cell_type": "markdown",
   "metadata": {
    "id": "50cYdDJPjPkx"
   },
   "source": [
    "We will group fuel_type with model to fill in missing values."
   ]
  },
  {
   "cell_type": "code",
   "execution_count": 21,
   "metadata": {
    "colab": {
     "base_uri": "https://localhost:8080/"
    },
    "id": "18uHv6Lsal-3",
    "outputId": "4fd1952b-8be4-4fb6-efe0-8dc6031a6c4a"
   },
   "outputs": [
    {
     "data": {
      "text/plain": [
       "0"
      ]
     },
     "execution_count": 21,
     "metadata": {},
     "output_type": "execute_result"
    }
   ],
   "source": [
    "# Filling in missing values for fuel_type\n",
    "df['fuel_type']=df.groupby('model').fuel_type.transform(lambda x: x.fillna(x.mode()[0]))\n",
    "\n",
    "# Checking to see if missing values have been filled\n",
    "df['fuel_type'].isna().sum()"
   ]
  },
  {
   "cell_type": "code",
   "execution_count": 22,
   "metadata": {
    "colab": {
     "base_uri": "https://localhost:8080/"
    },
    "id": "yyTSZnYfbDLY",
    "outputId": "52ee9c4f-7e26-4c65-e18f-6c4f116e4091"
   },
   "outputs": [
    {
     "name": "stdout",
     "output_type": "stream",
     "text": [
      "Percent of missing values in gearbox: 4.692%\n"
     ]
    }
   ],
   "source": [
    "# Percent of missing value in gearbox\n",
    "mis = df['gearbox'].isna().sum()/len(df)\n",
    "print(f'Percent of missing values in gearbox: {mis:.3%}')"
   ]
  },
  {
   "cell_type": "markdown",
   "metadata": {
    "id": "HxSP6-utjmRR"
   },
   "source": [
    "Since there is less than 5% of missing values in gearbox, we will drop the missing values"
   ]
  },
  {
   "cell_type": "code",
   "execution_count": 23,
   "metadata": {
    "colab": {
     "base_uri": "https://localhost:8080/"
    },
    "id": "KRG829W5jrp2",
    "outputId": "2c0e54c7-74b9-46c1-fab0-572d92e4dc72"
   },
   "outputs": [
    {
     "data": {
      "text/plain": [
       "0"
      ]
     },
     "execution_count": 23,
     "metadata": {},
     "output_type": "execute_result"
    }
   ],
   "source": [
    "df = df.dropna(subset=['gearbox'])\n",
    "\n",
    "df['gearbox'].isna().sum()"
   ]
  },
  {
   "cell_type": "code",
   "execution_count": 24,
   "metadata": {
    "colab": {
     "base_uri": "https://localhost:8080/"
    },
    "id": "iRJEgX-NkDZX",
    "outputId": "652b7e34-027c-4b9d-993d-dee6ecd8b8d6"
   },
   "outputs": [
    {
     "data": {
      "text/plain": [
       "0"
      ]
     },
     "execution_count": 24,
     "metadata": {},
     "output_type": "execute_result"
    }
   ],
   "source": [
    "# Dropping duplicated data\n",
    "df = df.drop_duplicates().reset_index(drop=True)\n",
    "\n",
    "# Checking to make sure duplicates have been dropped\n",
    "df.duplicated().sum()"
   ]
  },
  {
   "cell_type": "code",
   "execution_count": 25,
   "metadata": {
    "colab": {
     "base_uri": "https://localhost:8080/"
    },
    "id": "mwD0_s1UkY8t",
    "outputId": "85c9d32a-979f-494c-85fb-f8c522219bcd"
   },
   "outputs": [
    {
     "name": "stdout",
     "output_type": "stream",
     "text": [
      "<class 'pandas.core.frame.DataFrame'>\n",
      "RangeIndex: 318700 entries, 0 to 318699\n",
      "Data columns (total 16 columns):\n",
      " #   Column              Non-Null Count   Dtype         \n",
      "---  ------              --------------   -----         \n",
      " 0   date_crawled        318700 non-null  datetime64[ns]\n",
      " 1   price               318700 non-null  int64         \n",
      " 2   vehicle_type        318700 non-null  object        \n",
      " 3   registration_year   318700 non-null  int64         \n",
      " 4   gearbox             318700 non-null  object        \n",
      " 5   power               318700 non-null  int64         \n",
      " 6   model               318700 non-null  object        \n",
      " 7   mileage             318700 non-null  int64         \n",
      " 8   registration_month  318700 non-null  int64         \n",
      " 9   fuel_type           318700 non-null  object        \n",
      " 10  brand               318700 non-null  object        \n",
      " 11  not_repaired        318700 non-null  object        \n",
      " 12  date_created        318700 non-null  datetime64[ns]\n",
      " 13  number_of_pictures  318700 non-null  int64         \n",
      " 14  postal_code         318700 non-null  int64         \n",
      " 15  last_seen           318700 non-null  datetime64[ns]\n",
      "dtypes: datetime64[ns](3), int64(7), object(6)\n",
      "memory usage: 38.9+ MB\n"
     ]
    }
   ],
   "source": [
    "# Checking info after manipulations\n",
    "df.info()"
   ]
  },
  {
   "cell_type": "markdown",
   "metadata": {
    "id": "HUeyIk8kk_Ma"
   },
   "source": [
    "### Conclusion\n",
    "\n",
    "We changed all column names to lower case and added snakecase to make column names easier to work with. Since all the date columns were written in object type, we changed it to datetime. The missing values in `model` and `gearbox` were dropped. Missing values in `not_repaired` were replacead with \"unknown.\" The columns, `vehicle_type` and `fuel_type`, were grouped with `model` to fill in missing values. Duplicated data was removed. We checked our data after manipulations and saw that the number of rows reduced from 354,369 to 318,700.\n",
    "\n",
    "Now that our dataset is clean, we will exploratory data analysis (EDA) to see if we can find patterns, relationships, or anomilies in our data."
   ]
  },
  {
   "cell_type": "markdown",
   "metadata": {
    "id": "Dey59mUumCIg"
   },
   "source": [
    "## Exploratory Data Analysis (EDA)"
   ]
  },
  {
   "cell_type": "code",
   "execution_count": 26,
   "metadata": {
    "colab": {
     "base_uri": "https://localhost:8080/",
     "height": 614
    },
    "id": "tg8c-Ju-uSNW",
    "outputId": "d67ac466-aa46-451e-8713-4d44eb55ea70"
   },
   "outputs": [
    {
     "data": {
      "image/png": "[encoded data removed]",
      "text/plain": [
       "<Figure size 576x720 with 2 Axes>"
      ]
     },
     "metadata": {
      "needs_background": "light"
     },
     "output_type": "display_data"
    }
   ],
   "source": [
    "# Correlation of features with price\n",
    "plt.figure(figsize=(8, 10))\n",
    "\n",
    "heatmap = sns.heatmap(df.corr()[['price']].sort_values(by='price', ascending=False), vmin=-1, vmax=1, annot=True, cmap='BrBG')\n",
    "\n",
    "heatmap.set_title('Features Correlating with Price', fontdict={'fontsize':14}, pad=12);"
   ]
  },
  {
   "cell_type": "markdown",
   "metadata": {
    "id": "_ZKbqy8u-NZz"
   },
   "source": [
    "The correlation matrix shows there is little to no correlation between price and the selected features. "
   ]
  },
  {
   "cell_type": "code",
   "execution_count": 27,
   "metadata": {
    "colab": {
     "base_uri": "https://localhost:8080/",
     "height": 530
    },
    "id": "XpEQU_qI-Znp",
    "outputId": "3fc165da-11d5-4f78-e097-05e3340829e9"
   },
   "outputs": [
    {
     "data": {
      "text/plain": [
       "Text(0, 0.5, 'frquency')"
      ]
     },
     "execution_count": 27,
     "metadata": {},
     "output_type": "execute_result"
    },
    {
     "data": {
      "image/png": "[encoded data removed]",
      "text/plain": [
       "<Figure size 720x576 with 1 Axes>"
      ]
     },
     "metadata": {
      "needs_background": "light"
     },
     "output_type": "display_data"
    }
   ],
   "source": [
    "# Histogram of price\n",
    "df['price'].hist(bins=25, figsize=(10,8))\n",
    "\n",
    "# Adding title and axes label\n",
    "plt.title('Histogram of Price')\n",
    "plt.xlabel('price')\n",
    "plt.ylabel('frquency')\n"
   ]
  },
  {
   "cell_type": "markdown",
   "metadata": {
    "id": "62YaOIbLJo97"
   },
   "source": [
    "The distribution of `price` is skewed to the right with most values clustered on the left. Most cars are priced between 0 and 8000 euro."
   ]
  },
  {
   "cell_type": "code",
   "execution_count": 28,
   "metadata": {
    "colab": {
     "base_uri": "https://localhost:8080/",
     "height": 530
    },
    "id": "Fqz-BCJTQcfj",
    "outputId": "f5b40205-b0f9-4f24-cd6b-f38fbc5713a6"
   },
   "outputs": [
    {
     "data": {
      "text/plain": [
       "Text(0.5, 0, 'power')"
      ]
     },
     "execution_count": 28,
     "metadata": {},
     "output_type": "execute_result"
    },
    {
     "data": {
      "image/png": "[encoded data removed]",
      "text/plain": [
       "<Figure size 720x576 with 1 Axes>"
      ]
     },
     "metadata": {
      "needs_background": "light"
     },
     "output_type": "display_data"
    }
   ],
   "source": [
    "# Violin plot of power\n",
    "plt.figure(figsize=(10,8))\n",
    "sns.violinplot(x=df['power'])\n",
    "\n",
    "# Adding title and axes label\n",
    "plt.title('Violin plot of Power')\n",
    "plt.xlabel('power')"
   ]
  },
  {
   "cell_type": "markdown",
   "metadata": {
    "id": "th5XBWHoRyce"
   },
   "source": [
    "A violin plot is a combination of a boxplot and kernel density estimate. It shows the distribution of quantitative data. From our violin plot of `power`, we can see that there are outliers, and that most of our values are clustered way below 2000 hp. "
   ]
  },
  {
   "cell_type": "code",
   "execution_count": 29,
   "metadata": {
    "colab": {
     "base_uri": "https://localhost:8080/",
     "height": 535
    },
    "id": "PsiQT5duKWeq",
    "outputId": "3d0b3baa-8907-4f6f-c219-37be0ae3667e"
   },
   "outputs": [
    {
     "data": {
      "text/plain": [
       "Text(0.5, 0, 'power')"
      ]
     },
     "execution_count": 29,
     "metadata": {},
     "output_type": "execute_result"
    },
    {
     "data": {
      "image/png": "[encoded data removed]",
      "text/plain": [
       "<Figure size 720x576 with 1 Axes>"
      ]
     },
     "metadata": {
      "needs_background": "light"
     },
     "output_type": "display_data"
    }
   ],
   "source": [
    "# Boxplot of power without outliers\n",
    "plt.figure(figsize=(10,8))\n",
    "sns.set_theme(style=\"whitegrid\")\n",
    "sns.boxplot(x=df['power'], showfliers=False)\n",
    "\n",
    "# Adding title and axes label\n",
    "plt.title('Boxplot of Power')\n",
    "plt.xlabel('power')"
   ]
  },
  {
   "cell_type": "markdown",
   "metadata": {
    "id": "YUR6q-qcN5Ku"
   },
   "source": [
    "The boxplot of `power` without outliers show that most values are between 0 and 250 hp. "
   ]
  },
  {
   "cell_type": "code",
   "execution_count": 30,
   "metadata": {
    "colab": {
     "base_uri": "https://localhost:8080/",
     "height": 535
    },
    "id": "R4ifbLlpS5g1",
    "outputId": "e6acfd66-e3e3-4274-ff13-94ce82d2841b"
   },
   "outputs": [
    {
     "data": {
      "text/plain": [
       "Text(0, 0.5, 'frquency')"
      ]
     },
     "execution_count": 30,
     "metadata": {},
     "output_type": "execute_result"
    },
    {
     "data": {
      "image/png": "[encoded data removed]",
      "text/plain": [
       "<Figure size 720x576 with 1 Axes>"
      ]
     },
     "metadata": {},
     "output_type": "display_data"
    }
   ],
   "source": [
    "# Histogram of mileage\n",
    "df['mileage'].hist(bins=8, figsize=(10,8))\n",
    "\n",
    "# Adding title and axes label\n",
    "plt.title('Histogram of Mileage')\n",
    "plt.xlabel('mileage')\n",
    "plt.ylabel('frquency')"
   ]
  },
  {
   "cell_type": "markdown",
   "metadata": {
    "id": "0JKXJgDMTa7R"
   },
   "source": [
    "The distribution of `mileage` is skewed to the left with most values clustered to the right. Most cars posted have over 80,000 mileage."
   ]
  },
  {
   "cell_type": "code",
   "execution_count": 31,
   "metadata": {
    "colab": {
     "base_uri": "https://localhost:8080/",
     "height": 535
    },
    "id": "aJFGk5PnUDzg",
    "outputId": "d807938a-eda0-487d-be72-3c8da44eec05"
   },
   "outputs": [
    {
     "data": {
      "text/plain": [
       "Text(0.5, 0, 'year')"
      ]
     },
     "execution_count": 31,
     "metadata": {},
     "output_type": "execute_result"
    },
    {
     "data": {
      "image/png": "[encoded data removed]",
      "text/plain": [
       "<Figure size 720x576 with 1 Axes>"
      ]
     },
     "metadata": {},
     "output_type": "display_data"
    }
   ],
   "source": [
    "# Boxplot of registration_year\n",
    "plt.figure(figsize=(10,8))\n",
    "sns.set_theme(style=\"whitegrid\")\n",
    "sns.boxplot(x=df['registration_year'])\n",
    "\n",
    "# Adding title and axes label\n",
    "plt.xlim(1600,2022)\n",
    "plt.title('Boxplot of Registration Year')\n",
    "plt.xlabel('year')"
   ]
  },
  {
   "cell_type": "markdown",
   "metadata": {
    "id": "eNvzaSs5VTBs"
   },
   "source": [
    "From our boxplot of `registration_year`, we can see that there are outliers. Most cars listed have a registration year of 1980 or newer. "
   ]
  },
  {
   "cell_type": "code",
   "execution_count": 32,
   "metadata": {
    "colab": {
     "base_uri": "https://localhost:8080/",
     "height": 626
    },
    "id": "8i9tWn8LX5-O",
    "outputId": "130a2cf4-a3d2-4b7e-dd91-023efe1dfa7a"
   },
   "outputs": [
    {
     "data": {
      "text/plain": [
       "Text(0, 0.5, 'count')"
      ]
     },
     "execution_count": 32,
     "metadata": {},
     "output_type": "execute_result"
    },
    {
     "data": {
      "image/png": "[encoded data removed]",
      "text/plain": [
       "<Figure size 720x648 with 1 Axes>"
      ]
     },
     "metadata": {},
     "output_type": "display_data"
    }
   ],
   "source": [
    "# Bar plot of brand\n",
    "df['fuel_type'].value_counts().plot(kind = 'bar', figsize=(10,9), grid=False)\n",
    "\n",
    "# Adding title and axes label\n",
    "plt.title('Bar Chart of Fuel Type')\n",
    "plt.xlabel('fuel type')\n",
    "plt.ylabel('count')"
   ]
  },
  {
   "cell_type": "markdown",
   "metadata": {
    "id": "4PT4E0-ra8-K"
   },
   "source": [
    "The fuel type for most cars listed is petrol, followed by gasoline and lpg. "
   ]
  },
  {
   "cell_type": "code",
   "execution_count": 33,
   "metadata": {
    "colab": {
     "base_uri": "https://localhost:8080/",
     "height": 642
    },
    "id": "-ym9xaPBbffK",
    "outputId": "ef616cbb-a8d5-46d3-a457-d9ca0d584d4d"
   },
   "outputs": [
    {
     "data": {
      "text/plain": [
       "Text(0, 0.5, 'count')"
      ]
     },
     "execution_count": 33,
     "metadata": {},
     "output_type": "execute_result"
    },
    {
     "data": {
      "image/png": "[encoded data removed]",
      "text/plain": [
       "<Figure size 720x648 with 1 Axes>"
      ]
     },
     "metadata": {},
     "output_type": "display_data"
    }
   ],
   "source": [
    "# Bar plot of vehicle type\n",
    "df['vehicle_type'].value_counts().plot(kind = 'bar', figsize=(10,9), grid=False)\n",
    "\n",
    "# Adding title and axes label\n",
    "plt.title('Bar Chart of Vehicle Type')\n",
    "plt.xlabel('vehicle type')\n",
    "plt.ylabel('count')"
   ]
  },
  {
   "cell_type": "markdown",
   "metadata": {
    "id": "ydrUiy4Ubl4g"
   },
   "source": [
    "The top three most listed types of cars are sedans, small, and wagons. "
   ]
  },
  {
   "cell_type": "code",
   "execution_count": 34,
   "metadata": {
    "colab": {
     "base_uri": "https://localhost:8080/",
     "height": 630
    },
    "id": "iyorLyfQbwDe",
    "outputId": "e27242e9-784b-414f-a9af-7614321cd8cc"
   },
   "outputs": [
    {
     "data": {
      "text/plain": [
       "Text(0, 0.5, 'count')"
      ]
     },
     "execution_count": 34,
     "metadata": {},
     "output_type": "execute_result"
    },
    {
     "data": {
      "image/png": "[encoded data removed]",
      "text/plain": [
       "<Figure size 720x648 with 1 Axes>"
      ]
     },
     "metadata": {},
     "output_type": "display_data"
    }
   ],
   "source": [
    "# Bar plot of model\n",
    "df['not_repaired'].value_counts().plot(kind = 'bar', figsize=(10,9), grid=False)\n",
    "\n",
    "# Adding title and axes label\n",
    "plt.title('Bar Chart of Whether Car is Repaired')\n",
    "plt.xlabel('not repaired')\n",
    "plt.ylabel('count')"
   ]
  },
  {
   "cell_type": "markdown",
   "metadata": {
    "id": "rEmIpCVncN7g"
   },
   "source": [
    "Most cars are not repaired when listed. "
   ]
  },
  {
   "cell_type": "code",
   "execution_count": 35,
   "metadata": {
    "colab": {
     "base_uri": "https://localhost:8080/",
     "height": 449
    },
    "id": "31yp-TKucgAf",
    "outputId": "7d0f2474-a09e-4b24-dd7a-5c9cc28d11ea"
   },
   "outputs": [
    {
     "data": {
      "text/plain": [
       "Text(0, 0.5, 'count')"
      ]
     },
     "execution_count": 35,
     "metadata": {},
     "output_type": "execute_result"
    },
    {
     "data": {
      "image/png": "[encoded data removed]",
      "text/plain": [
       "<Figure size 1080x360 with 1 Axes>"
      ]
     },
     "metadata": {},
     "output_type": "display_data"
    }
   ],
   "source": [
    "# Top selling vehicle brands\n",
    "plt.figure(figsize=(15, 5))\n",
    "highest_brand = df['brand'].value_counts().index\n",
    "sns.countplot(data=df, x='brand', order=highest_brand)\n",
    "plt.xticks(rotation=75)\n",
    "plt.title('Bar Chart of Car Brands')\n",
    "plt.xlabel('model')\n",
    "plt.ylabel('count')\n"
   ]
  },
  {
   "cell_type": "markdown",
   "metadata": {
    "id": "-WpIsb4vZ6b6"
   },
   "source": [
    "From our bar chart of car brands, we can see that Volkswagen, Opel, BMW, Mercedes, and Audi are the top five most listed brands of cars.  "
   ]
  },
  {
   "cell_type": "code",
   "execution_count": 36,
   "metadata": {
    "id": "0Es8K0uhfSIW"
   },
   "outputs": [],
   "source": [
    "# Filtering out outliers\n",
    "df_filtered = df[(df['power'] <= 250) & (df['registration_year'] >= 1980) & (df['price'] > 0)]"
   ]
  },
  {
   "cell_type": "markdown",
   "metadata": {
    "id": "-lNMWvmJh233"
   },
   "source": [
    "Since it doesn't make sense for a car to be listed for a price of 0 euros, we filtered out our data for all cars greater than 0. Since most of the cars listed have a horsepower between 0 to 250, we filtered out cars that have greater than 250 hp. Since most cars listed are from the 1980s or newer, we filtered out all older cars. "
   ]
  },
  {
   "cell_type": "code",
   "execution_count": 37,
   "metadata": {
    "colab": {
     "base_uri": "https://localhost:8080/",
     "height": 335
    },
    "id": "7QjGjUsnftub",
    "outputId": "cc6ee7b8-7c43-4019-bdcf-666bd9d26f1c"
   },
   "outputs": [
    {
     "name": "stdout",
     "output_type": "stream",
     "text": [
      "Shape of the filtered dataset: (302968, 16)\n",
      "\n"
     ]
    },
    {
     "data": {
      "text/html": [
       "\n",
       "  <div id=\"df-d1fe3ba2-8072-4aac-8706-d23e52661054\">\n",
       "    <div class=\"colab-df-container\">\n",
       "      <div>\n",
       "<style scoped>\n",
       "    .dataframe tbody tr th:only-of-type {\n",
       "        vertical-align: middle;\n",
       "    }\n",
       "\n",
       "    .dataframe tbody tr th {\n",
       "        vertical-align: top;\n",
       "    }\n",
       "\n",
       "    .dataframe thead th {\n",
       "        text-align: right;\n",
       "    }\n",
       "</style>\n",
       "<table border=\"1\" class=\"dataframe\">\n",
       "  <thead>\n",
       "    <tr style=\"text-align: right;\">\n",
       "      <th></th>\n",
       "      <th>price</th>\n",
       "      <th>registration_year</th>\n",
       "      <th>power</th>\n",
       "      <th>mileage</th>\n",
       "      <th>registration_month</th>\n",
       "      <th>number_of_pictures</th>\n",
       "      <th>postal_code</th>\n",
       "    </tr>\n",
       "  </thead>\n",
       "  <tbody>\n",
       "    <tr>\n",
       "      <th>count</th>\n",
       "      <td>302968.000000</td>\n",
       "      <td>302968.000000</td>\n",
       "      <td>302968.000000</td>\n",
       "      <td>302968.000000</td>\n",
       "      <td>302968.000000</td>\n",
       "      <td>302968.0</td>\n",
       "      <td>302968.000000</td>\n",
       "    </tr>\n",
       "    <tr>\n",
       "      <th>mean</th>\n",
       "      <td>4561.151630</td>\n",
       "      <td>2003.647761</td>\n",
       "      <td>108.189667</td>\n",
       "      <td>128898.811096</td>\n",
       "      <td>5.938462</td>\n",
       "      <td>0.0</td>\n",
       "      <td>50867.517966</td>\n",
       "    </tr>\n",
       "    <tr>\n",
       "      <th>std</th>\n",
       "      <td>4434.750407</td>\n",
       "      <td>25.577614</td>\n",
       "      <td>53.185896</td>\n",
       "      <td>36416.893277</td>\n",
       "      <td>3.619520</td>\n",
       "      <td>0.0</td>\n",
       "      <td>25746.715042</td>\n",
       "    </tr>\n",
       "    <tr>\n",
       "      <th>min</th>\n",
       "      <td>1.000000</td>\n",
       "      <td>1980.000000</td>\n",
       "      <td>0.000000</td>\n",
       "      <td>5000.000000</td>\n",
       "      <td>0.000000</td>\n",
       "      <td>0.0</td>\n",
       "      <td>1067.000000</td>\n",
       "    </tr>\n",
       "    <tr>\n",
       "      <th>25%</th>\n",
       "      <td>1250.000000</td>\n",
       "      <td>1999.000000</td>\n",
       "      <td>75.000000</td>\n",
       "      <td>125000.000000</td>\n",
       "      <td>3.000000</td>\n",
       "      <td>0.0</td>\n",
       "      <td>30539.000000</td>\n",
       "    </tr>\n",
       "    <tr>\n",
       "      <th>50%</th>\n",
       "      <td>2950.000000</td>\n",
       "      <td>2003.000000</td>\n",
       "      <td>105.000000</td>\n",
       "      <td>150000.000000</td>\n",
       "      <td>6.000000</td>\n",
       "      <td>0.0</td>\n",
       "      <td>49696.000000</td>\n",
       "    </tr>\n",
       "    <tr>\n",
       "      <th>75%</th>\n",
       "      <td>6500.000000</td>\n",
       "      <td>2008.000000</td>\n",
       "      <td>141.000000</td>\n",
       "      <td>150000.000000</td>\n",
       "      <td>9.000000</td>\n",
       "      <td>0.0</td>\n",
       "      <td>71397.000000</td>\n",
       "    </tr>\n",
       "    <tr>\n",
       "      <th>max</th>\n",
       "      <td>20000.000000</td>\n",
       "      <td>8200.000000</td>\n",
       "      <td>250.000000</td>\n",
       "      <td>150000.000000</td>\n",
       "      <td>12.000000</td>\n",
       "      <td>0.0</td>\n",
       "      <td>99998.000000</td>\n",
       "    </tr>\n",
       "  </tbody>\n",
       "</table>\n",
       "</div>\n",
       "      <button class=\"colab-df-convert\" onclick=\"convertToInteractive('df-d1fe3ba2-8072-4aac-8706-d23e52661054')\"\n",
       "              title=\"Convert this dataframe to an interactive table.\"\n",
       "              style=\"display:none;\">\n",
       "        \n",
       "  <svg xmlns=\"http://www.w3.org/2000/svg\" height=\"24px\"viewBox=\"0 0 24 24\"\n",
       "       width=\"24px\">\n",
       "    <path d=\"M0 0h24v24H0V0z\" fill=\"none\"/>\n",
       "    <path d=\"M18.56 5.44l.94 2.06.94-2.06 2.06-.94-2.06-.94-.94-2.06-.94 2.06-2.06.94zm-11 1L8.5 8.5l.94-2.06 2.06-.94-2.06-.94L8.5 2.5l-.94 2.06-2.06.94zm10 10l.94 2.06.94-2.06 2.06-.94-2.06-.94-.94-2.06-.94 2.06-2.06.94z\"/><path d=\"M17.41 7.96l-1.37-1.37c-.4-.4-.92-.59-1.43-.59-.52 0-1.04.2-1.43.59L10.3 9.45l-7.72 7.72c-.78.78-.78 2.05 0 2.83L4 21.41c.39.39.9.59 1.41.59.51 0 1.02-.2 1.41-.59l7.78-7.78 2.81-2.81c.8-.78.8-2.07 0-2.86zM5.41 20L4 18.59l7.72-7.72 1.47 1.35L5.41 20z\"/>\n",
       "  </svg>\n",
       "      </button>\n",
       "      \n",
       "  <style>\n",
       "    .colab-df-container {\n",
       "      display:flex;\n",
       "      flex-wrap:wrap;\n",
       "      gap: 12px;\n",
       "    }\n",
       "\n",
       "    .colab-df-convert {\n",
       "      background-color: #E8F0FE;\n",
       "      border: none;\n",
       "      border-radius: 50%;\n",
       "      cursor: pointer;\n",
       "      display: none;\n",
       "      fill: #1967D2;\n",
       "      height: 32px;\n",
       "      padding: 0 0 0 0;\n",
       "      width: 32px;\n",
       "    }\n",
       "\n",
       "    .colab-df-convert:hover {\n",
       "      background-color: #E2EBFA;\n",
       "      box-shadow: 0px 1px 2px rgba(60, 64, 67, 0.3), 0px 1px 3px 1px rgba(60, 64, 67, 0.15);\n",
       "      fill: #174EA6;\n",
       "    }\n",
       "\n",
       "    [theme=dark] .colab-df-convert {\n",
       "      background-color: #3B4455;\n",
       "      fill: #D2E3FC;\n",
       "    }\n",
       "\n",
       "    [theme=dark] .colab-df-convert:hover {\n",
       "      background-color: #434B5C;\n",
       "      box-shadow: 0px 1px 3px 1px rgba(0, 0, 0, 0.15);\n",
       "      filter: drop-shadow(0px 1px 2px rgba(0, 0, 0, 0.3));\n",
       "      fill: #FFFFFF;\n",
       "    }\n",
       "  </style>\n",
       "\n",
       "      <script>\n",
       "        const buttonEl =\n",
       "          document.querySelector('#df-d1fe3ba2-8072-4aac-8706-d23e52661054 button.colab-df-convert');\n",
       "        buttonEl.style.display =\n",
       "          google.colab.kernel.accessAllowed ? 'block' : 'none';\n",
       "\n",
       "        async function convertToInteractive(key) {\n",
       "          const element = document.querySelector('#df-d1fe3ba2-8072-4aac-8706-d23e52661054');\n",
       "          const dataTable =\n",
       "            await google.colab.kernel.invokeFunction('convertToInteractive',\n",
       "                                                     [key], {});\n",
       "          if (!dataTable) return;\n",
       "\n",
       "          const docLinkHtml = 'Like what you see? Visit the ' +\n",
       "            '<a target=\"_blank\" href=https://colab.research.google.com/notebooks/data_table.ipynb>data table notebook</a>'\n",
       "            + ' to learn more about interactive tables.';\n",
       "          element.innerHTML = '';\n",
       "          dataTable['output_type'] = 'display_data';\n",
       "          await google.colab.output.renderOutput(dataTable, element);\n",
       "          const docLink = document.createElement('div');\n",
       "          docLink.innerHTML = docLinkHtml;\n",
       "          element.appendChild(docLink);\n",
       "        }\n",
       "      </script>\n",
       "    </div>\n",
       "  </div>\n",
       "  "
      ],
      "text/plain": [
       "               price  registration_year          power        mileage  \\\n",
       "count  302968.000000      302968.000000  302968.000000  302968.000000   \n",
       "mean     4561.151630        2003.647761     108.189667  128898.811096   \n",
       "std      4434.750407          25.577614      53.185896   36416.893277   \n",
       "min         1.000000        1980.000000       0.000000    5000.000000   \n",
       "25%      1250.000000        1999.000000      75.000000  125000.000000   \n",
       "50%      2950.000000        2003.000000     105.000000  150000.000000   \n",
       "75%      6500.000000        2008.000000     141.000000  150000.000000   \n",
       "max     20000.000000        8200.000000     250.000000  150000.000000   \n",
       "\n",
       "       registration_month  number_of_pictures    postal_code  \n",
       "count       302968.000000            302968.0  302968.000000  \n",
       "mean             5.938462                 0.0   50867.517966  \n",
       "std              3.619520                 0.0   25746.715042  \n",
       "min              0.000000                 0.0    1067.000000  \n",
       "25%              3.000000                 0.0   30539.000000  \n",
       "50%              6.000000                 0.0   49696.000000  \n",
       "75%              9.000000                 0.0   71397.000000  \n",
       "max             12.000000                 0.0   99998.000000  "
      ]
     },
     "execution_count": 37,
     "metadata": {},
     "output_type": "execute_result"
    }
   ],
   "source": [
    "# Shape of new filtered data\n",
    "print('Shape of the filtered dataset:', (df_filtered.shape))\n",
    "\n",
    "print()\n",
    "\n",
    "# Getting statistcal summary of filtered data\n",
    "df_filtered.describe()"
   ]
  },
  {
   "cell_type": "markdown",
   "metadata": {
    "id": "GOGC9_zajNaD"
   },
   "source": [
    "### Conclusion\n",
    "\n",
    "From our exploratory data analysis, we saw that most cars were priced between 0 and 8000 euros. The violin plot of `power` showed that most cars listed have a horsepower below 2000 hp. Removing the outlier from `power` showed that most values were between 0 to 250 hp. A histogram of `mileage` was plotted and we saw that most cars posted have 80,000 miles on it. From the boxplot of `registration_year`, we saw that most cars listed have a registration year of 1980 or newer. The fuel type for most cars listed was petrol, followed by gasoline and lpg. The top three most listed types of cars are sedans, small, and wagons. We also found out that most cars were not repaired before listing. We created a bar chart of car brands, and saw that the top five most popular brands were, Volkswagen, Opel, BMW, Mercedes, and Audi, respectively. \n",
    "\n",
    "We filtered out outliers and created a new dataset called `df_filtered`. Our new filtered dataset contains 302968 rows and 16 columns. Now we will train different models with various hyperparameters, and analyze the speed and quality of the models. \n"
   ]
  },
  {
   "cell_type": "markdown",
   "metadata": {
    "id": "E_EMU7nroKB-"
   },
   "source": [
    "## Training Models\n",
    "\n",
    "We will train different models with various hyperparameters. Our main goal is to compare gradient boosting methods with random forest, decision tree, and linear regression.\n",
    "\n",
    "We will analyze the speed and quality of the models using the RMSE metric."
   ]
  },
  {
   "cell_type": "code",
   "execution_count": 38,
   "metadata": {
    "id": "77Ll6OuPoTTT"
   },
   "outputs": [],
   "source": [
    "# Dropping unimportant features\n",
    "cars_df = df_filtered.drop(['date_crawled', 'registration_year', 'registration_month', 'date_created', 'number_of_pictures', 'postal_code', 'last_seen'], axis=1)"
   ]
  },
  {
   "cell_type": "markdown",
   "metadata": {
    "id": "RPKbnoeSSF4p"
   },
   "source": [
    "### Linear Regression for Sanity Check"
   ]
  },
  {
   "cell_type": "code",
   "execution_count": 39,
   "metadata": {
    "id": "yAY0fpbbhDSL"
   },
   "outputs": [],
   "source": [
    "# Defining numerical and categorical features \n",
    "numerical = ['mileage', 'power']\n",
    "\n",
    "categorical = [cname for cname in cars_df.columns if cars_df[cname].dtype in ['object']]"
   ]
  },
  {
   "cell_type": "code",
   "execution_count": 40,
   "metadata": {
    "id": "v0CstZBHhkPY"
   },
   "outputs": [],
   "source": [
    "# Creating a standard scaler transformer to scale continuous numerical data\n",
    "ss = Pipeline(steps=[('ss', StandardScaler())])\n",
    "\n",
    "# Creating one-hot encoder transformer to encode the categorical data\n",
    "ohe = Pipeline(steps=[('ohe', OneHotEncoder(drop='first'))])\n",
    "\n",
    "#Creating preprocess column transformer to combine the ss and ohe pipelines\n",
    "preprocess = ColumnTransformer(transformers=[('cont', ss, numerical), ('cat', ohe, categorical)])"
   ]
  },
  {
   "cell_type": "code",
   "execution_count": 41,
   "metadata": {
    "id": "WC3apMANhsH0"
   },
   "outputs": [],
   "source": [
    "# Declaring features and target variable\n",
    "X = cars_df.drop(['price'], axis=1)\n",
    "y = cars_df['price']\n",
    "\n",
    "# Splitting data into 75% training set adn 25% test set\n",
    "X_train, X_test, y_train, y_test = train_test_split(X, y, test_size=0.25, random_state=12345)"
   ]
  },
  {
   "cell_type": "code",
   "execution_count": 42,
   "metadata": {
    "colab": {
     "base_uri": "https://localhost:8080/"
    },
    "id": "xmwE8BVgiQQg",
    "outputId": "e1eedd7e-e8bc-4d78-9384-54eb906fb150"
   },
   "outputs": [
    {
     "name": "stdout",
     "output_type": "stream",
     "text": [
      "RMSE = 2806.6187465674766\n",
      "CPU times: user 10.2 s, sys: 6.45 s, total: 16.7 s\n",
      "Wall time: 17.6 s\n"
     ]
    }
   ],
   "source": [
    "%%time\n",
    "\n",
    "# Creating linear regression pipeline\n",
    "lr_pipeline = Pipeline(steps=[('preprocess', preprocess), ('linear_regression', LinearRegression())])\n",
    "lr_pipeline.fit(X_train, y_train)\n",
    "lr_predict = lr_pipeline.predict(X_test)\n",
    "\n",
    "# Calculating rmse\n",
    "lr_rmse = np.sqrt(mean_squared_error(y_test, lr_predict))\n",
    "print('RMSE =', lr_rmse)"
   ]
  },
  {
   "cell_type": "markdown",
   "metadata": {
    "id": "nQAxwVWNmxiu"
   },
   "source": [
    "### Random Forest Regressor"
   ]
  },
  {
   "cell_type": "code",
   "execution_count": 43,
   "metadata": {
    "id": "Ij8P8DvGyNT7"
   },
   "outputs": [],
   "source": [
    "# Splitting data into 75% training set and 25% test set\n",
    "rfr_X_train, rfr_X_test, rfr_y_train, rfr_y_test = train_test_split(X, y, test_size=0.25, random_state=12345)\n",
    "\n",
    "# Ordinal encoding\n",
    "ordinal_encoder = OrdinalEncoder()\n",
    "ordinal_encoder.fit(rfr_X_train[categorical])\n",
    "rfr_X_train[categorical] = ordinal_encoder.transform(rfr_X_train[categorical])\n",
    "rfr_X_test[categorical] = ordinal_encoder.transform(rfr_X_test[categorical])"
   ]
  },
  {
   "cell_type": "code",
   "execution_count": 44,
   "metadata": {
    "colab": {
     "base_uri": "https://localhost:8080/"
    },
    "id": "-M0kvIDk42yC",
    "outputId": "a338c335-5ca6-49cc-8017-0d08349f3714"
   },
   "outputs": [
    {
     "name": "stdout",
     "output_type": "stream",
     "text": [
      "The best hyperparameters are: {'max_depth': 50, 'min_samples_leaf': 2, 'n_estimators': 25}\n",
      "CPU times: user 13min 28s, sys: 3.16 s, total: 13min 31s\n",
      "Wall time: 13min 38s\n"
     ]
    }
   ],
   "source": [
    "%%time\n",
    "\n",
    "# Defining hyperparameters\n",
    "grid = {'n_estimators':[10,15,20,25], 'max_depth':[6,25,50], 'min_samples_leaf':[1,2,10]}\n",
    "\n",
    "# Random forest regressor model \n",
    "rfr = RandomForestRegressor(random_state=12345)\n",
    "\n",
    "# Grid search \n",
    "grid_search_rfr = GridSearchCV(estimator=rfr, param_grid=grid, scoring='neg_mean_squared_error', cv=5)\n",
    "grid_search_rfr.fit(rfr_X_train, rfr_y_train)\n",
    "print('The best hyperparameters are: {}'.format(grid_search_rfr.best_params_))"
   ]
  },
  {
   "cell_type": "code",
   "execution_count": 45,
   "metadata": {
    "colab": {
     "base_uri": "https://localhost:8080/"
    },
    "id": "5Avx16n3Funh",
    "outputId": "81865024-d195-45d7-ab77-98f3e697b56f"
   },
   "outputs": [
    {
     "name": "stdout",
     "output_type": "stream",
     "text": [
      "RMSE = 2015.7509524433783\n",
      "CPU times: user 10.6 s, sys: 29.9 ms, total: 10.6 s\n",
      "Wall time: 12 s\n"
     ]
    }
   ],
   "source": [
    "%%time\n",
    "\n",
    "# Creating random forest model with hyperparameters tuned\n",
    "rfr_model = RandomForestRegressor(**grid_search_rfr.best_params_)\n",
    "rfr_model.fit(rfr_X_train, rfr_y_train)\n",
    "rfr_predict = rfr_model.predict(rfr_X_test)\n",
    "\n",
    "# Calculating RMSE\n",
    "rfr_rmse = np.sqrt(mean_squared_error(rfr_y_test, rfr_predict))\n",
    "print('RMSE =', rfr_rmse)"
   ]
  },
  {
   "cell_type": "markdown",
   "metadata": {
    "id": "hMhrC71GGuvs"
   },
   "source": [
    "### LightGBM Regressor"
   ]
  },
  {
   "cell_type": "code",
   "execution_count": 46,
   "metadata": {
    "id": "9ZJ2iXiuHvic"
   },
   "outputs": [],
   "source": [
    "# Splitting data into 75% training set and 25% test set\n",
    "ltb_X_train, ltb_X_test, ltb_y_train, ltb_y_test = train_test_split(X, y, test_size=0.25, random_state=12345)\n",
    "\n",
    "# Ordinal encoding\n",
    "ordinal_encoder = OrdinalEncoder()\n",
    "ordinal_encoder.fit(ltb_X_train[categorical])\n",
    "ltb_X_train[categorical] = ordinal_encoder.transform(ltb_X_train[categorical])\n",
    "ltb_X_test[categorical] = ordinal_encoder.transform(ltb_X_test[categorical])"
   ]
  },
  {
   "cell_type": "code",
   "execution_count": 47,
   "metadata": {
    "colab": {
     "base_uri": "https://localhost:8080/"
    },
    "id": "fUwluaIgIZbV",
    "outputId": "c0eaa00d-1634-499a-f09d-1d0e9e06d0d3"
   },
   "outputs": [
    {
     "name": "stdout",
     "output_type": "stream",
     "text": [
      "The best hyperparameters are: {'learning_rate': 0.1, 'n_estimators': 100, 'num_leaves': 32}\n",
      "CPU times: user 5min 21s, sys: 2.37 s, total: 5min 23s\n",
      "Wall time: 2min 52s\n"
     ]
    }
   ],
   "source": [
    "%%time \n",
    "\n",
    "# Defining hyperparameters to tune\n",
    "ltb_grid = {'learning_rate': [0.01, 0.05, 0.1], 'n_estimators':[6,25,50,100], 'num_leaves':[5,20,25,32]}\n",
    "\n",
    "# LightGBM model\n",
    "ltb = LGBMRegressor(random_state=12345)\n",
    "\n",
    "# Grid search\n",
    "grid_search_ltb = GridSearchCV(estimator=ltb, param_grid=ltb_grid, scoring='neg_mean_squared_error', cv=5)\n",
    "grid_search_ltb.fit(ltb_X_train, ltb_y_train)\n",
    "print('The best hyperparameters are: {}'.format(grid_search_ltb.best_params_))\n"
   ]
  },
  {
   "cell_type": "code",
   "execution_count": 48,
   "metadata": {
    "colab": {
     "base_uri": "https://localhost:8080/"
    },
    "id": "ljqb2IHfL_iG",
    "outputId": "69419712-e022-4238-c86e-08fd5669372d"
   },
   "outputs": [
    {
     "name": "stdout",
     "output_type": "stream",
     "text": [
      "RMSE = 2273.976545895668\n",
      "CPU times: user 3.44 s, sys: 30.9 ms, total: 3.47 s\n",
      "Wall time: 1.85 s\n"
     ]
    }
   ],
   "source": [
    "%%time\n",
    "\n",
    "# Creating LightGBM model with hyperparameters tuned\n",
    "ltb_model = LGBMRegressor(**grid_search_ltb.best_params_)\n",
    "ltb_model.fit(ltb_X_train, ltb_y_train)\n",
    "ltb_predict = ltb_model.predict(ltb_X_test)\n",
    "\n",
    "# Calculating RMSE\n",
    "ltb_rmse = np.sqrt(mean_squared_error(ltb_y_test, ltb_predict))\n",
    "print('RMSE =', ltb_rmse)"
   ]
  },
  {
   "cell_type": "markdown",
   "metadata": {
    "id": "ZfwydrxzOuoZ"
   },
   "source": [
    "### CatBoost Regressor"
   ]
  },
  {
   "cell_type": "code",
   "execution_count": 49,
   "metadata": {
    "id": "oitvSb0oO45b"
   },
   "outputs": [],
   "source": [
    "# Splitting data into 75% training set and 25% test set\n",
    "cat_X_train, cat_X_test, cat_y_train, cat_y_test = train_test_split(X, y, test_size=0.25, random_state=12345)\n",
    "\n",
    "cat_features = ['vehicle_type', 'gearbox', 'model', 'fuel_type', 'brand', 'not_repaired']"
   ]
  },
  {
   "cell_type": "code",
   "execution_count": 50,
   "metadata": {
    "colab": {
     "base_uri": "https://localhost:8080/"
    },
    "id": "ED_VONkVPYed",
    "outputId": "97c7b99e-e4b0-499c-f3ce-3c0859c9f670"
   },
   "outputs": [
    {
     "name": "stdout",
     "output_type": "stream",
     "text": [
      "The best hyperparameters are: {'depth': 9, 'l2_leaf_reg': 1, 'learning_rate': 0.1}\n",
      "CPU times: user 13min 43s, sys: 12.4 s, total: 13min 56s\n",
      "Wall time: 7min 23s\n"
     ]
    }
   ],
   "source": [
    "%%time\n",
    "\n",
    "# Defining hyperparameters to tune\n",
    "cat_grid = {'learning_rate': [0.01, 0.1], 'depth':[3,7,9], 'l2_leaf_reg':[1,5]}\n",
    "\n",
    "# CatBoost model\n",
    "cat = CatBoostRegressor(iterations=100, cat_features=cat_features, logging_level='Silent', loss_function='RMSE', early_stopping_rounds=55, random_state=12345)\n",
    "\n",
    "# Grid search\n",
    "grid_search_cat = GridSearchCV(estimator=cat, param_grid=cat_grid, scoring='neg_mean_squared_error', cv=5)\n",
    "grid_search_cat.fit(cat_X_train, cat_y_train)\n",
    "print('The best hyperparameters are: {}'.format(grid_search_cat.best_params_))"
   ]
  },
  {
   "cell_type": "code",
   "execution_count": 51,
   "metadata": {
    "colab": {
     "base_uri": "https://localhost:8080/"
    },
    "id": "1ASdsC0bzsuh",
    "outputId": "963ebcf5-ce53-4319-c9a7-e6010b35bfd2"
   },
   "outputs": [
    {
     "name": "stdout",
     "output_type": "stream",
     "text": [
      "RMSE = 1971.1569129556954\n",
      "CPU times: user 11min 16s, sys: 10.8 s, total: 11min 27s\n",
      "Wall time: 6min 3s\n"
     ]
    }
   ],
   "source": [
    "%%time\n",
    "\n",
    "# Creating CatBoost model with hyperparameters tuned\n",
    "cat_model = CatBoostRegressor(**grid_search_cat.best_params_)\n",
    "cat_model.fit(cat_X_train, cat_y_train, cat_features=cat_features, eval_set=(cat_X_test, cat_y_test), verbose=False)\n",
    "cat_predict = cat_model.predict(cat_X_test)\n",
    "\n",
    "# Calculating RMSE\n",
    "cat_rmse = np.sqrt(mean_squared_error(cat_y_test, cat_predict))\n",
    "print('RMSE =', cat_rmse)"
   ]
  },
  {
   "cell_type": "markdown",
   "metadata": {
    "id": "oVA4s8ZC3FCo"
   },
   "source": [
    "### XGBoost"
   ]
  },
  {
   "cell_type": "code",
   "execution_count": 52,
   "metadata": {
    "id": "dxslznkt3Hkv"
   },
   "outputs": [],
   "source": [
    "# One-hot encoding of categorical features\n",
    "cars_df_ohe = pd.get_dummies(cars_df, drop_first=True)\n",
    "\n",
    "# Declaring features and target\n",
    "X_ohe = cars_df_ohe.drop(['price'], axis=1)\n",
    "y_ohe = cars_df_ohe['price']\n",
    "\n",
    "# Splitting data into 75% training set and 25% test set\n",
    "X_train_ohe, X_test_ohe, y_train_ohe, y_test_ohe = train_test_split(X_ohe, y_ohe, test_size=0.25, random_state=12345)"
   ]
  },
  {
   "cell_type": "code",
   "execution_count": 53,
   "metadata": {
    "colab": {
     "base_uri": "https://localhost:8080/"
    },
    "id": "1szV8FKXKvOT",
    "outputId": "494b5920-7c83-4184-8918-4e1dcde87e83"
   },
   "outputs": [
    {
     "name": "stdout",
     "output_type": "stream",
     "text": [
      "RMSE = 2544.236325307813\n",
      "CPU times: user 3min 31s, sys: 1.06 s, total: 3min 32s\n",
      "Wall time: 1min 50s\n"
     ]
    }
   ],
   "source": [
    "%%time\n",
    "\n",
    "# Creating XGBoost regressor model\n",
    "xgb = XGBRegressor(max_depth=3, n_estimators=100, objective='reg:squarederror', booster='gbtree', n_jobs=-1, random_state=12345, learning_rate=0.1)\n",
    "xgb.fit(X_train_ohe, y_train_ohe)\n",
    "xgb_predict = xgb.predict(X_test_ohe)\n",
    "\n",
    "# Calculating RMSE\n",
    "xgb_rmse = np.sqrt(mean_squared_error(y_test_ohe, xgb_predict))\n",
    "print('RMSE =', xgb_rmse)"
   ]
  },
  {
   "cell_type": "markdown",
   "metadata": {
    "id": "2CGVd87rHVpF"
   },
   "source": [
    "### Conclusion\n",
    "\n",
    "Since linear regression is not great for hyperparameter tuning, we used it as a sanity check for other methods. The metric used to evaluate the models was the root mean squared error (RMSE). The RMSE is the standard deviation of the residuals (or prediction errors). In other words, it tells us how concentrated the data is around the line of best fit. Lower values of RMSE tend to indicate a better fit. The RMSE score for our linear regression model was 2806.62. We used GridSearchCV to perform an exhaustive search over specified parameter values to tune our hyperparameters for a random forest regressor, LightGBM regressor, and CatBoost regressor. After finding the best hyperparameters to use for each model, we fitted our models and calculated the RMSE. For the random forest regressor, we obtained a RMSE score of 2015.75. The LightGBM obtained a RMSE score of 2273.98. The CatBoost Regressor obtained a RMSE score of 1971.16. We also trained a XGBoost regressor model and obtained a RMSE score of 2544.24. \n"
   ]
  },
  {
   "cell_type": "markdown",
   "metadata": {
    "id": "R4wJsWZNQC2O"
   },
   "source": [
    "## Model Analysis"
   ]
  },
  {
   "cell_type": "code",
   "execution_count": 76,
   "metadata": {
    "colab": {
     "base_uri": "https://localhost:8080/",
     "height": 206
    },
    "id": "yvXIMpGKQErG",
    "outputId": "9408cef7-2d7b-4d62-a6c4-0c8ac3a05308"
   },
   "outputs": [
    {
     "data": {
      "text/html": [
       "\n",
       "  <div id=\"df-1881ff65-d01d-41bd-b782-c8f49d607bf0\">\n",
       "    <div class=\"colab-df-container\">\n",
       "      <div>\n",
       "<style scoped>\n",
       "    .dataframe tbody tr th:only-of-type {\n",
       "        vertical-align: middle;\n",
       "    }\n",
       "\n",
       "    .dataframe tbody tr th {\n",
       "        vertical-align: top;\n",
       "    }\n",
       "\n",
       "    .dataframe thead th {\n",
       "        text-align: right;\n",
       "    }\n",
       "</style>\n",
       "<table border=\"1\" class=\"dataframe\">\n",
       "  <thead>\n",
       "    <tr style=\"text-align: right;\">\n",
       "      <th></th>\n",
       "      <th>model</th>\n",
       "      <th>rmse_score</th>\n",
       "      <th>hyperparameter_tuning_time</th>\n",
       "      <th>model_run_time</th>\n",
       "    </tr>\n",
       "  </thead>\n",
       "  <tbody>\n",
       "    <tr>\n",
       "      <th>0</th>\n",
       "      <td>LinearRegressor</td>\n",
       "      <td>2806.62</td>\n",
       "      <td>0</td>\n",
       "      <td>8.14</td>\n",
       "    </tr>\n",
       "    <tr>\n",
       "      <th>1</th>\n",
       "      <td>RandomForestRegressor</td>\n",
       "      <td>2014.84</td>\n",
       "      <td>888</td>\n",
       "      <td>12.60</td>\n",
       "    </tr>\n",
       "    <tr>\n",
       "      <th>2</th>\n",
       "      <td>LightGBM</td>\n",
       "      <td>2273.98</td>\n",
       "      <td>200</td>\n",
       "      <td>15.50</td>\n",
       "    </tr>\n",
       "    <tr>\n",
       "      <th>3</th>\n",
       "      <td>CatBoost</td>\n",
       "      <td>1971.16</td>\n",
       "      <td>420</td>\n",
       "      <td>351.00</td>\n",
       "    </tr>\n",
       "    <tr>\n",
       "      <th>4</th>\n",
       "      <td>XGBoost</td>\n",
       "      <td>2544.24</td>\n",
       "      <td>0</td>\n",
       "      <td>137.00</td>\n",
       "    </tr>\n",
       "  </tbody>\n",
       "</table>\n",
       "</div>\n",
       "      <button class=\"colab-df-convert\" onclick=\"convertToInteractive('df-1881ff65-d01d-41bd-b782-c8f49d607bf0')\"\n",
       "              title=\"Convert this dataframe to an interactive table.\"\n",
       "              style=\"display:none;\">\n",
       "        \n",
       "  <svg xmlns=\"http://www.w3.org/2000/svg\" height=\"24px\"viewBox=\"0 0 24 24\"\n",
       "       width=\"24px\">\n",
       "    <path d=\"M0 0h24v24H0V0z\" fill=\"none\"/>\n",
       "    <path d=\"M18.56 5.44l.94 2.06.94-2.06 2.06-.94-2.06-.94-.94-2.06-.94 2.06-2.06.94zm-11 1L8.5 8.5l.94-2.06 2.06-.94-2.06-.94L8.5 2.5l-.94 2.06-2.06.94zm10 10l.94 2.06.94-2.06 2.06-.94-2.06-.94-.94-2.06-.94 2.06-2.06.94z\"/><path d=\"M17.41 7.96l-1.37-1.37c-.4-.4-.92-.59-1.43-.59-.52 0-1.04.2-1.43.59L10.3 9.45l-7.72 7.72c-.78.78-.78 2.05 0 2.83L4 21.41c.39.39.9.59 1.41.59.51 0 1.02-.2 1.41-.59l7.78-7.78 2.81-2.81c.8-.78.8-2.07 0-2.86zM5.41 20L4 18.59l7.72-7.72 1.47 1.35L5.41 20z\"/>\n",
       "  </svg>\n",
       "      </button>\n",
       "      \n",
       "  <style>\n",
       "    .colab-df-container {\n",
       "      display:flex;\n",
       "      flex-wrap:wrap;\n",
       "      gap: 12px;\n",
       "    }\n",
       "\n",
       "    .colab-df-convert {\n",
       "      background-color: #E8F0FE;\n",
       "      border: none;\n",
       "      border-radius: 50%;\n",
       "      cursor: pointer;\n",
       "      display: none;\n",
       "      fill: #1967D2;\n",
       "      height: 32px;\n",
       "      padding: 0 0 0 0;\n",
       "      width: 32px;\n",
       "    }\n",
       "\n",
       "    .colab-df-convert:hover {\n",
       "      background-color: #E2EBFA;\n",
       "      box-shadow: 0px 1px 2px rgba(60, 64, 67, 0.3), 0px 1px 3px 1px rgba(60, 64, 67, 0.15);\n",
       "      fill: #174EA6;\n",
       "    }\n",
       "\n",
       "    [theme=dark] .colab-df-convert {\n",
       "      background-color: #3B4455;\n",
       "      fill: #D2E3FC;\n",
       "    }\n",
       "\n",
       "    [theme=dark] .colab-df-convert:hover {\n",
       "      background-color: #434B5C;\n",
       "      box-shadow: 0px 1px 3px 1px rgba(0, 0, 0, 0.15);\n",
       "      filter: drop-shadow(0px 1px 2px rgba(0, 0, 0, 0.3));\n",
       "      fill: #FFFFFF;\n",
       "    }\n",
       "  </style>\n",
       "\n",
       "      <script>\n",
       "        const buttonEl =\n",
       "          document.querySelector('#df-1881ff65-d01d-41bd-b782-c8f49d607bf0 button.colab-df-convert');\n",
       "        buttonEl.style.display =\n",
       "          google.colab.kernel.accessAllowed ? 'block' : 'none';\n",
       "\n",
       "        async function convertToInteractive(key) {\n",
       "          const element = document.querySelector('#df-1881ff65-d01d-41bd-b782-c8f49d607bf0');\n",
       "          const dataTable =\n",
       "            await google.colab.kernel.invokeFunction('convertToInteractive',\n",
       "                                                     [key], {});\n",
       "          if (!dataTable) return;\n",
       "\n",
       "          const docLinkHtml = 'Like what you see? Visit the ' +\n",
       "            '<a target=\"_blank\" href=https://colab.research.google.com/notebooks/data_table.ipynb>data table notebook</a>'\n",
       "            + ' to learn more about interactive tables.';\n",
       "          element.innerHTML = '';\n",
       "          dataTable['output_type'] = 'display_data';\n",
       "          await google.colab.output.renderOutput(dataTable, element);\n",
       "          const docLink = document.createElement('div');\n",
       "          docLink.innerHTML = docLinkHtml;\n",
       "          element.appendChild(docLink);\n",
       "        }\n",
       "      </script>\n",
       "    </div>\n",
       "  </div>\n",
       "  "
      ],
      "text/plain": [
       "                   model  rmse_score  hyperparameter_tuning_time  \\\n",
       "0        LinearRegressor     2806.62                           0   \n",
       "1  RandomForestRegressor     2014.84                         888   \n",
       "2               LightGBM     2273.98                         200   \n",
       "3               CatBoost     1971.16                         420   \n",
       "4                XGBoost     2544.24                           0   \n",
       "\n",
       "   model_run_time  \n",
       "0            8.14  \n",
       "1           12.60  \n",
       "2           15.50  \n",
       "3          351.00  \n",
       "4          137.00  "
      ]
     },
     "metadata": {},
     "output_type": "display_data"
    }
   ],
   "source": [
    "# Creating dataframe to compare diffent performance of models \n",
    "model = ['LinearRegressor', 'RandomForestRegressor', 'LightGBM', 'CatBoost', 'XGBoost']\n",
    "rmse = [2806.62, 2014.84, 2273.98, 1971.16, 2544.24]\n",
    "tune_time = [0, 888, 200, 420, 0]\n",
    "model_time = [8.14, 12.6, 15.5, 351, 137]\n",
    "models = pd.DataFrame(data = zip(model, rmse, tune_time, model_time), columns = ['model', 'rmse_score', 'hyperparameter_tuning_time', 'model_run_time'])\n",
    "\n",
    "display(models)\n"
   ]
  },
  {
   "cell_type": "code",
   "execution_count": 89,
   "metadata": {
    "colab": {
     "base_uri": "https://localhost:8080/",
     "height": 673
    },
    "id": "cM0W3QYZGSBx",
    "outputId": "b63d9eed-31e6-4305-8c52-4884e17ae412"
   },
   "outputs": [
    {
     "data": {
      "image/png": "[encoded data removed]",
      "text/plain": [
       "<Figure size 1440x648 with 3 Axes>"
      ]
     },
     "metadata": {},
     "output_type": "display_data"
    }
   ],
   "source": [
    "# Plotting performance metrics\n",
    "sns.set_style('whitegrid')\n",
    "\n",
    "fig, ax = plt.subplots(1, 3, figsize=(20,9))\n",
    "\n",
    "sns.barplot(data = models.sort_values('rmse_score'), \n",
    "            y = 'model',\n",
    "            x = 'rmse_score',\n",
    "            orient = 'h', \n",
    "            palette ='mako', \n",
    "            ax=ax[0])\n",
    "ax[0].set_title('RMSE Score of Various Models')\n",
    "\n",
    "sns.barplot(data = models.sort_values('hyperparameter_tuning_time'), \n",
    "            y = 'model',\n",
    "            x = 'hyperparameter_tuning_time',\n",
    "            orient = 'h',\n",
    "            palette = 'mako', \n",
    "            ax = ax[1])\n",
    "ax[1].set_title('Hyperparameter Tuning Time of Various Models')\n",
    "\n",
    "sns.barplot(data=models.sort_values(by='model_run_time'),\n",
    "            y ='model',\n",
    "            x = 'model_run_time', \n",
    "            orient = 'h', \n",
    "            palette = 'mako', \n",
    "            ax = ax[2])\n",
    "ax[2].set_title('Run Time of Various Models')\n",
    "\n",
    "plt.tight_layout()\n",
    "plt.show()"
   ]
  },
  {
   "cell_type": "markdown",
   "metadata": {
    "id": "qAyrsV2BkIzC"
   },
   "source": [
    "### Conclusion\n",
    "\n",
    "Our linear regression model had the highest RMSE score of 2806.62, while our CatBoost regressor model had the lowest RMSE score of 1971.16. Our random forest regressor model took the longest to tune hyperparameters using GridSearchCV, while the LightGBM model took the least time. Although our random forest regressor model took the longest to tune hyperparameters, it also took the least time to predict the target. Since the metric used to evaluate our models was RMSE, the CatBoost regressor outperformed the other models. It obtained a significantly lower RMSE score than the other models. "
   ]
  },
  {
   "cell_type": "markdown",
   "metadata": {
    "id": "t-IOSGPjxOkx"
   },
   "source": [
    "## Findings\n",
    "\n",
    "From our exploratory data analysis, we found that most cars were priced between 0 to 8000 euros. Our violin plot of `power` showed that our data was significantly skewed to the right with most values being clustered way below 2000 horsepower (hp). Upon removing our outliers in `power`, we saw that most cars listed had a horsepower between 0 to 250 hp. The histogram of `mileage` showed that most cars posted had at least 80k miles on it. The boxplot of `registration_year` showed that most cars that were listed were from the year 1980 or newer. We observed that most cars listed had a fuel type of petrol, followed by gasoline and lpg. The top three most listed types of cars were sedans, small cars, and wagons. We found out that most cars were not repaired before listing. Upon creating a bar chart of car brands, we found that the top five most popular brands were, Volkswagen, Opel, BMW, Mercedes, and Audi, respectively. Before training our models, we removed outliers and created a new dataset. \n",
    "\n",
    "Since linear regression is not great for hyperparameter tuning, we used it as a sanity check for other methods. The metric used to evaluate the models was the root mean squared error (RMSE). Lower values of RMSE tend to indicate a better fit. The RMSE score for our linear regression model was 2806.62. Using a GridSearchCV, we performed an exhaustive search over specified parameter values to tune our hyperparameters for a random forest regressor, LightGBM regressor, and CatBoost regressor. After finding the best hyperparameters to use for each model, we fitted our models and calculated the RMSE\n",
    "* For the random forest regressor, we obtained a RMSE score of 2015.75\n",
    "* The LightGBM obtained a RMSE score of 2273.98. \n",
    "* The CatBoost Regressor obtained a RMSE score of 1971.16. \n",
    "\n",
    "We also trained a XGBoost regressor model and obtained a RMSE score of 2544.24. \n",
    "\n",
    "We analyzed the speed and quality of the models we trained. \n",
    "* Our linear regression model had the highest RMSE score of 2806.62, while our CatBoost regressor model had the lowest RMSE score of 1971.16. \n",
    "* Our random forest regressor model took the longest to tune hyperparameters using GridSearchCV, while the LightGBM model took the least time. \n",
    "* Our random forest regressor model took the longest to tune hyperparameters, but also took the least time to predict the target\n",
    "\n",
    "Since the metric used to evaluate our models was RMSE, the CatBoost regressor outperformed the other models. It obtained a significantly lower RMSE score than the other models. A summary of the models we trained is summarized below:\n",
    "\n",
    "| Model | RMSE Score | Hyperparameter Tuning Time (sec) | Model Run Time (sec) |\n",
    "| --- | --- | --- | ---|\n",
    "| Linear Regressor | 2806.62 | N/A | 8.14 s |\n",
    "| Random Forest Regressor | 2014.84 | 888 s | 12.6 s\n",
    "| LightGBM | 2273.98 | 200 s | 15.5 s \n",
    "| CatBoost | 1971.16 | 420 s | 351 s\n",
    "| XGBoost | 2544.24 | N/A | 137 s\n"
   ]
  }
 ],
 "metadata": {
  "colab": {
   "collapsed_sections": [
    "HUeyIk8kk_Ma",
    "GOGC9_zajNaD",
    "2CGVd87rHVpF"
   ],
   "name": "Numerical Methods Project.ipynb",
   "provenance": []
  },
  "kernelspec": {
   "display_name": "Python 3 (ipykernel)",
   "language": "python",
   "name": "python3"
  },
  "language_info": {
   "codemirror_mode": {
    "name": "ipython",
    "version": 3
   },
   "file_extension": ".py",
   "mimetype": "text/x-python",
   "name": "python",
   "nbconvert_exporter": "python",
   "pygments_lexer": "ipython3",
   "version": "3.9.7"
  },
  "toc": {
   "base_numbering": 1,
   "nav_menu": {},
   "number_sections": true,
   "sideBar": true,
   "skip_h1_title": true,
   "title_cell": "Table of Contents",
   "title_sidebar": "Contents",
   "toc_cell": false,
   "toc_position": {},
   "toc_section_display": true,
   "toc_window_display": false
  }
 },
 "nbformat": 4,
 "nbformat_minor": 1
}
