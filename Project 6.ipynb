{
 "cells": [
  {
   "cell_type": "markdown",
   "metadata": {
    "id": "zY-8JMFhE9xV"
   },
   "source": [
    "# Machine Learning for Phone Plans"
   ]
  },
  {
   "cell_type": "markdown",
   "metadata": {
    "id": "Yx2cmWe184bk"
   },
   "source": [
    "# Contents <a id='back'></a>\n",
    "\n",
    "* [Introduction](#introduction)\n",
    "* [Data Exploration](#data_preprocessing)\n",
    "    * [Conclusion](#conclusion)\n",
    "* [Splitting the Source Data](#spliting_data)\n",
    "    * [Conclusions](#splitting_data_conclusions)\n",
    "* [Investigating the Quality of Different Models](#quality_check)\n",
    "  * [Decision Tree Classifier](#decision_tree)\n",
    "  * [Random Forest](#random_forest)\n",
    "  * [Logical Regression](logical_regression)\n",
    "  * [Conclusion](#conclusion)\n",
    "* [Checking Model Quality](#checking)\n",
    "* [Sanity Check](#sanity_check)\n",
    "* [Findings](#conclusions)"
   ]
  },
  {
   "cell_type": "markdown",
   "metadata": {
    "id": "LJMfEeA4Fh1T"
   },
   "source": [
    "## Introduction\n",
    "\n",
    "The mobile carrier, Megaline, wants to develop a model that analyzes subscribers' behavior in order to recommend one of their newer plans: **Smart** or **Ultra**. We will use machine learning to develop a model for a classification task with the highest possible accuracy. \n",
    "\n",
    "**Data Description:**\n",
    "* `calls` - number of calls\n",
    "* `minutes` - total call duration in minutes\n",
    "* `messages` - number of text messages\n",
    "* `mb_used` - Internet traffic used in MB\n",
    "* `is_ultra` - plan for the current month (Ultra - 1, Smart - 0)\n",
    "\n",
    "**Objectives**:\n",
    "* Split the source data into training set, validation set, and test set\n",
    "* Investigate the quality of different models \n",
    "* Check the qulaity of the model using the test set\n",
    "* Perform a sanity check on the model"
   ]
  },
  {
   "cell_type": "markdown",
   "metadata": {
    "id": "-0Nk6vauHSvc"
   },
   "source": [
    "## Initialization "
   ]
  },
  {
   "cell_type": "code",
   "execution_count": 130,
   "metadata": {
    "id": "eE9OEl-wHVm8"
   },
   "outputs": [],
   "source": [
    "# Loading all libraries \n",
    "\n",
    "import pandas as pd \n",
    "import numpy as np\n",
    "from sklearn.tree import DecisionTreeClassifier\n",
    "from sklearn.metrics import accuracy_score\n",
    "from sklearn.model_selection import train_test_split\n",
    "from sklearn.ensemble import RandomForestClassifier\n",
    "from sklearn.linear_model import LogisticRegression\n",
    "from sklearn.metrics import confusion_matrix\n",
    "from sklearn.metrics import classification_report"
   ]
  },
  {
   "cell_type": "code",
   "execution_count": 94,
   "metadata": {
    "id": "hYeCFQKCOyrl"
   },
   "outputs": [],
   "source": [
    "# Loading the data\n",
    "try:\n",
    "  df = pd.read_csv('users_behavior.csv')\n",
    "except:\n",
    "  df = pd.read_csv('/datasets/users_behavior.csv')"
   ]
  },
  {
   "cell_type": "markdown",
   "metadata": {
    "id": "6fQvbXFSPfUm"
   },
   "source": [
    "## Data Exploration\n",
    "\n",
    "Description of data:\n",
    "* `calls` - number of calls\n",
    "* `minutes` - total call duration in minutes\n",
    "* `messages` - number of text messages\n",
    "* `mb_used` - Internet traffic used in MB\n",
    "* `is_ultra` - plan for the current month (Ultra - 1, Smart - 0)"
   ]
  },
  {
   "cell_type": "code",
   "execution_count": 95,
   "metadata": {
    "colab": {
     "base_uri": "https://localhost:8080/",
     "height": 206
    },
    "id": "EfJl_RZSPrna",
    "outputId": "4edb8562-732e-4211-f1f4-01b515c2c65f"
   },
   "outputs": [
    {
     "data": {
      "text/html": [
       "\n",
       "  <div id=\"df-0da36a20-6534-4a42-8598-80208e8f3f57\">\n",
       "    <div class=\"colab-df-container\">\n",
       "      <div>\n",
       "<style scoped>\n",
       "    .dataframe tbody tr th:only-of-type {\n",
       "        vertical-align: middle;\n",
       "    }\n",
       "\n",
       "    .dataframe tbody tr th {\n",
       "        vertical-align: top;\n",
       "    }\n",
       "\n",
       "    .dataframe thead th {\n",
       "        text-align: right;\n",
       "    }\n",
       "</style>\n",
       "<table border=\"1\" class=\"dataframe\">\n",
       "  <thead>\n",
       "    <tr style=\"text-align: right;\">\n",
       "      <th></th>\n",
       "      <th>calls</th>\n",
       "      <th>minutes</th>\n",
       "      <th>messages</th>\n",
       "      <th>mb_used</th>\n",
       "      <th>is_ultra</th>\n",
       "    </tr>\n",
       "  </thead>\n",
       "  <tbody>\n",
       "    <tr>\n",
       "      <th>0</th>\n",
       "      <td>40.0</td>\n",
       "      <td>311.90</td>\n",
       "      <td>83.0</td>\n",
       "      <td>19915.42</td>\n",
       "      <td>0</td>\n",
       "    </tr>\n",
       "    <tr>\n",
       "      <th>1</th>\n",
       "      <td>85.0</td>\n",
       "      <td>516.75</td>\n",
       "      <td>56.0</td>\n",
       "      <td>22696.96</td>\n",
       "      <td>0</td>\n",
       "    </tr>\n",
       "    <tr>\n",
       "      <th>2</th>\n",
       "      <td>77.0</td>\n",
       "      <td>467.66</td>\n",
       "      <td>86.0</td>\n",
       "      <td>21060.45</td>\n",
       "      <td>0</td>\n",
       "    </tr>\n",
       "    <tr>\n",
       "      <th>3</th>\n",
       "      <td>106.0</td>\n",
       "      <td>745.53</td>\n",
       "      <td>81.0</td>\n",
       "      <td>8437.39</td>\n",
       "      <td>1</td>\n",
       "    </tr>\n",
       "    <tr>\n",
       "      <th>4</th>\n",
       "      <td>66.0</td>\n",
       "      <td>418.74</td>\n",
       "      <td>1.0</td>\n",
       "      <td>14502.75</td>\n",
       "      <td>0</td>\n",
       "    </tr>\n",
       "  </tbody>\n",
       "</table>\n",
       "</div>\n",
       "      <button class=\"colab-df-convert\" onclick=\"convertToInteractive('df-0da36a20-6534-4a42-8598-80208e8f3f57')\"\n",
       "              title=\"Convert this dataframe to an interactive table.\"\n",
       "              style=\"display:none;\">\n",
       "        \n",
       "  <svg xmlns=\"http://www.w3.org/2000/svg\" height=\"24px\"viewBox=\"0 0 24 24\"\n",
       "       width=\"24px\">\n",
       "    <path d=\"M0 0h24v24H0V0z\" fill=\"none\"/>\n",
       "    <path d=\"M18.56 5.44l.94 2.06.94-2.06 2.06-.94-2.06-.94-.94-2.06-.94 2.06-2.06.94zm-11 1L8.5 8.5l.94-2.06 2.06-.94-2.06-.94L8.5 2.5l-.94 2.06-2.06.94zm10 10l.94 2.06.94-2.06 2.06-.94-2.06-.94-.94-2.06-.94 2.06-2.06.94z\"/><path d=\"M17.41 7.96l-1.37-1.37c-.4-.4-.92-.59-1.43-.59-.52 0-1.04.2-1.43.59L10.3 9.45l-7.72 7.72c-.78.78-.78 2.05 0 2.83L4 21.41c.39.39.9.59 1.41.59.51 0 1.02-.2 1.41-.59l7.78-7.78 2.81-2.81c.8-.78.8-2.07 0-2.86zM5.41 20L4 18.59l7.72-7.72 1.47 1.35L5.41 20z\"/>\n",
       "  </svg>\n",
       "      </button>\n",
       "      \n",
       "  <style>\n",
       "    .colab-df-container {\n",
       "      display:flex;\n",
       "      flex-wrap:wrap;\n",
       "      gap: 12px;\n",
       "    }\n",
       "\n",
       "    .colab-df-convert {\n",
       "      background-color: #E8F0FE;\n",
       "      border: none;\n",
       "      border-radius: 50%;\n",
       "      cursor: pointer;\n",
       "      display: none;\n",
       "      fill: #1967D2;\n",
       "      height: 32px;\n",
       "      padding: 0 0 0 0;\n",
       "      width: 32px;\n",
       "    }\n",
       "\n",
       "    .colab-df-convert:hover {\n",
       "      background-color: #E2EBFA;\n",
       "      box-shadow: 0px 1px 2px rgba(60, 64, 67, 0.3), 0px 1px 3px 1px rgba(60, 64, 67, 0.15);\n",
       "      fill: #174EA6;\n",
       "    }\n",
       "\n",
       "    [theme=dark] .colab-df-convert {\n",
       "      background-color: #3B4455;\n",
       "      fill: #D2E3FC;\n",
       "    }\n",
       "\n",
       "    [theme=dark] .colab-df-convert:hover {\n",
       "      background-color: #434B5C;\n",
       "      box-shadow: 0px 1px 3px 1px rgba(0, 0, 0, 0.15);\n",
       "      filter: drop-shadow(0px 1px 2px rgba(0, 0, 0, 0.3));\n",
       "      fill: #FFFFFF;\n",
       "    }\n",
       "  </style>\n",
       "\n",
       "      <script>\n",
       "        const buttonEl =\n",
       "          document.querySelector('#df-0da36a20-6534-4a42-8598-80208e8f3f57 button.colab-df-convert');\n",
       "        buttonEl.style.display =\n",
       "          google.colab.kernel.accessAllowed ? 'block' : 'none';\n",
       "\n",
       "        async function convertToInteractive(key) {\n",
       "          const element = document.querySelector('#df-0da36a20-6534-4a42-8598-80208e8f3f57');\n",
       "          const dataTable =\n",
       "            await google.colab.kernel.invokeFunction('convertToInteractive',\n",
       "                                                     [key], {});\n",
       "          if (!dataTable) return;\n",
       "\n",
       "          const docLinkHtml = 'Like what you see? Visit the ' +\n",
       "            '<a target=\"_blank\" href=https://colab.research.google.com/notebooks/data_table.ipynb>data table notebook</a>'\n",
       "            + ' to learn more about interactive tables.';\n",
       "          element.innerHTML = '';\n",
       "          dataTable['output_type'] = 'display_data';\n",
       "          await google.colab.output.renderOutput(dataTable, element);\n",
       "          const docLink = document.createElement('div');\n",
       "          docLink.innerHTML = docLinkHtml;\n",
       "          element.appendChild(docLink);\n",
       "        }\n",
       "      </script>\n",
       "    </div>\n",
       "  </div>\n",
       "  "
      ],
      "text/plain": [
       "   calls  minutes  messages   mb_used  is_ultra\n",
       "0   40.0   311.90      83.0  19915.42         0\n",
       "1   85.0   516.75      56.0  22696.96         0\n",
       "2   77.0   467.66      86.0  21060.45         0\n",
       "3  106.0   745.53      81.0   8437.39         1\n",
       "4   66.0   418.74       1.0  14502.75         0"
      ]
     },
     "execution_count": 95,
     "metadata": {},
     "output_type": "execute_result"
    }
   ],
   "source": [
    "# Obtaining the first 5 rows of the table\n",
    "df.head()"
   ]
  },
  {
   "cell_type": "code",
   "execution_count": 96,
   "metadata": {
    "colab": {
     "base_uri": "https://localhost:8080/"
    },
    "id": "bSlidb6LPwqy",
    "outputId": "000c9a84-f658-4bef-f9d3-677d6608ab80"
   },
   "outputs": [
    {
     "name": "stdout",
     "output_type": "stream",
     "text": [
      "The table has 3214 rows and 5 columns\n"
     ]
    }
   ],
   "source": [
    "# Obtaining the numbers of rows and columns \n",
    "shape = df.shape\n",
    "print('The table has {} rows and {} columns'.format(shape[0], shape[1]))"
   ]
  },
  {
   "cell_type": "code",
   "execution_count": 97,
   "metadata": {
    "colab": {
     "base_uri": "https://localhost:8080/"
    },
    "id": "PBIZLLGvQJnp",
    "outputId": "22486008-1535-4aef-bf80-f4fd1f088c3c"
   },
   "outputs": [
    {
     "name": "stdout",
     "output_type": "stream",
     "text": [
      "<class 'pandas.core.frame.DataFrame'>\n",
      "RangeIndex: 3214 entries, 0 to 3213\n",
      "Data columns (total 5 columns):\n",
      " #   Column    Non-Null Count  Dtype  \n",
      "---  ------    --------------  -----  \n",
      " 0   calls     3214 non-null   float64\n",
      " 1   minutes   3214 non-null   float64\n",
      " 2   messages  3214 non-null   float64\n",
      " 3   mb_used   3214 non-null   float64\n",
      " 4   is_ultra  3214 non-null   int64  \n",
      "dtypes: float64(4), int64(1)\n",
      "memory usage: 125.7 KB\n"
     ]
    }
   ],
   "source": [
    "# Obtaining general info on the data\n",
    "df.info()"
   ]
  },
  {
   "cell_type": "markdown",
   "metadata": {
    "id": "jICf3lSRQOP4"
   },
   "source": [
    "Since each column has 3,214 rows, there are no missing values in the data. "
   ]
  },
  {
   "cell_type": "code",
   "execution_count": 98,
   "metadata": {
    "colab": {
     "base_uri": "https://localhost:8080/"
    },
    "id": "fqTIN7ijQe3K",
    "outputId": "ce949371-dc74-449d-b197-c3a364cb8d72"
   },
   "outputs": [
    {
     "data": {
      "text/plain": [
       "0"
      ]
     },
     "execution_count": 98,
     "metadata": {},
     "output_type": "execute_result"
    }
   ],
   "source": [
    "# Checking for duplicates\n",
    "df.duplicated().sum()"
   ]
  },
  {
   "cell_type": "markdown",
   "metadata": {
    "id": "sclMAov6QjGN"
   },
   "source": [
    "**Conclusion**\n",
    "\n",
    "Our dataframe has 5 columns, each with 3,214 rows. There are two data types in this table, float and integer. The values in the columns, `calls`, `minutes`, `messages` and `mb_used`, are float type. The values in the column, `is_ultra`, are integer type. There are no missing values or duplicates.\n",
    "\n",
    "Since the data has already been preprocessed, we will proceed by splitting the source data into a training set, a validation set, and a test set."
   ]
  },
  {
   "cell_type": "markdown",
   "metadata": {
    "id": "8d9Fje1ZRz5h"
   },
   "source": [
    "## Splitting the Source Data"
   ]
  },
  {
   "cell_type": "code",
   "execution_count": 99,
   "metadata": {
    "id": "iwWnJxIJR12m"
   },
   "outputs": [],
   "source": [
    "# Splitting the data into 60% training, 20% validation, 20% test set\n",
    "\n",
    "# Split data into training and validation\n",
    "df_train, df_valid = train_test_split(df, test_size=0.20, random_state=1234)\n",
    "\n",
    "# Split data into training and testing\n",
    "df_train, df_test = train_test_split(df_train, test_size=0.25, random_state=1234)"
   ]
  },
  {
   "cell_type": "code",
   "execution_count": 100,
   "metadata": {
    "colab": {
     "base_uri": "https://localhost:8080/"
    },
    "id": "jKytOP41U-gb",
    "outputId": "e38e2933-bbb3-402f-e97b-e2e460d271de"
   },
   "outputs": [
    {
     "name": "stdout",
     "output_type": "stream",
     "text": [
      "The training set contains 1928 rows, which represents 60% of the data\n",
      "\n",
      "The validation set contains 643 rows, which represents 20% of the data\n",
      "\n",
      "The test set contains 643 rows, which represents 20% of the data\n"
     ]
    }
   ],
   "source": [
    "# Checking to see if data was split properly\n",
    "print('The training set contains {} rows'.format(df_train.shape[0]) + ', which represents 60% of the data')\n",
    "print()\n",
    "print('The validation set contains {} rows'.format(df_valid.shape[0]) + ', which represents 20% of the data')\n",
    "print()\n",
    "print('The test set contains {} rows'.format(df_test.shape[0]) + ', which represents 20% of the data')"
   ]
  },
  {
   "cell_type": "code",
   "execution_count": 101,
   "metadata": {
    "colab": {
     "base_uri": "https://localhost:8080/"
    },
    "id": "CffhOrhHXAEz",
    "outputId": "83299033-656f-4999-f35c-0f7c8ed0c4b3"
   },
   "outputs": [
    {
     "name": "stdout",
     "output_type": "stream",
     "text": [
      "Size of training feature: (1928, 4)\n",
      "Size of training target: (1928,)\n",
      "\n",
      "Size of validation feautres: (643, 4)\n",
      "Size of validation target: (643,)\n",
      "\n",
      "Size of test features: (643, 4)\n",
      "Size of test target: (643,)\n"
     ]
    }
   ],
   "source": [
    "# Declare variables for features and target\n",
    "features_train = df_train.drop(['is_ultra'], axis=1)\n",
    "target_train = df_train['is_ultra']\n",
    "features_valid = df_valid.drop(['is_ultra'], axis=1)\n",
    "target_valid = df_valid['is_ultra']\n",
    "features_test = df_test.drop(['is_ultra'], axis=1)\n",
    "target_test = df_test['is_ultra']\n",
    "\n",
    "# Checking size of each features and target set\n",
    "print('Size of training feature:', features_train.shape)\n",
    "print('Size of training target:', target_train.shape)\n",
    "print()\n",
    "print('Size of validation feautres:', features_valid.shape)\n",
    "print('Size of validation target:', target_valid.shape)\n",
    "print()\n",
    "print('Size of test features:', features_test.shape)\n",
    "print('Size of test target:', target_test.shape)"
   ]
  },
  {
   "cell_type": "markdown",
   "metadata": {
    "id": "koaGEoVzbXip"
   },
   "source": [
    "**Conclusions**\n",
    "\n",
    "We split the source data in a 3:1:1 ratio: 60% training set, 20% validation set, and 20% test set. \n",
    "* The training set contains 1928 rows\n",
    "* The validation set contains 643 rows\n",
    "* The test set contains 643 rows\n",
    "\n",
    "We decided that the features of our sets would be every column except for `is_ultra` and that the target would be the `is_ultra` column.\n",
    "\n",
    "We will now proceed by investigating the qualities of each model. Since this is a classification task, the models we will be using are decision tree classifier, random forest, and logisitic regression. "
   ]
  },
  {
   "cell_type": "markdown",
   "metadata": {
    "id": "Em1mnk2GcwjB"
   },
   "source": [
    "## Investigating the Quality of Different Models"
   ]
  },
  {
   "cell_type": "markdown",
   "metadata": {
    "id": "JGFHQX14dCuw"
   },
   "source": [
    "### Decision Tree Classifier\n",
    "\n",
    "The most important hyperparameter of the decision tree is max_depth. We will create a loop that iterates over different values of max_depth to find the value that gives us the highest accuracy.\n",
    "\n"
   ]
  },
  {
   "cell_type": "code",
   "execution_count": 102,
   "metadata": {
    "colab": {
     "base_uri": "https://localhost:8080/"
    },
    "id": "Qu93DcPQdFyp",
    "outputId": "c92071b2-5c72-4715-f81c-adc4d43153b8"
   },
   "outputs": [
    {
     "name": "stdout",
     "output_type": "stream",
     "text": [
      "Max depth =  3 : 0.7884914463452566\n"
     ]
    }
   ],
   "source": [
    "# Creating a loop for max_depth from 1 to 50\n",
    "highest_accuracy = 0\n",
    "best_depth = 0\n",
    "for depth in range (1,50):\n",
    "  model = DecisionTreeClassifier(random_state=1234, max_depth=depth)\n",
    "  model.fit(features_train, target_train)\n",
    "  predictions_valid = model.predict(features_valid)\n",
    "  accuracy = accuracy_score(target_valid, predictions_valid)\n",
    "  if accuracy > highest_accuracy:\n",
    "    highest_accuracy = accuracy\n",
    "    best_depth = depth\n",
    "print('Max depth = ', best_depth, ':', highest_accuracy)\n"
   ]
  },
  {
   "cell_type": "markdown",
   "metadata": {
    "id": "3lVOq42fiTdW"
   },
   "source": [
    "We found that the max_depth of 5 gave us the highest accuracy value for our training data. It has a 78.8% accuracy rate. "
   ]
  },
  {
   "cell_type": "markdown",
   "metadata": {
    "id": "pa38O2Znidk7"
   },
   "source": [
    "### Random Forest \n",
    "\n",
    "The random forest algorithm trains a large number of independent trees and makes a decision by voting. We will tune the hyperparameter, n_estimators to find the value that gives us the highest accuracy."
   ]
  },
  {
   "cell_type": "code",
   "execution_count": 103,
   "metadata": {
    "colab": {
     "base_uri": "https://localhost:8080/"
    },
    "id": "agZv2lczjcr6",
    "outputId": "c4264e22-f4c3-4257-a588-54eb74e94e6c"
   },
   "outputs": [
    {
     "name": "stdout",
     "output_type": "stream",
     "text": [
      "n_estimators =  18 : 0.8149300155520995\n"
     ]
    }
   ],
   "source": [
    "# Creating a loop for n_estimators from 1 to 50 \n",
    "highest_accuracy = 0\n",
    "max_n_estimators = 0 \n",
    "for n in range(1,50):\n",
    "  model = RandomForestClassifier(random_state=1234, n_estimators=n)\n",
    "  model.fit(features_train, target_train)\n",
    "  predictions_valid = model.predict(features_valid)\n",
    "  accuracy = accuracy_score(target_valid, predictions_valid)\n",
    "  if accuracy > highest_accuracy:\n",
    "    highest_accuracy = accuracy \n",
    "    max_n_estimators = n\n",
    "print('n_estimators = ', max_n_estimators, ':', highest_accuracy)\n"
   ]
  },
  {
   "cell_type": "markdown",
   "metadata": {
    "id": "CG9VDV8_lWHp"
   },
   "source": [
    "We found that the value of n_estimators of 18 gave us the highest accuracy for our training data. It has a 81.5% accuracy rate."
   ]
  },
  {
   "cell_type": "markdown",
   "metadata": {
    "id": "_3BHi141ljsI"
   },
   "source": [
    "### Logical Regression \n",
    "\n",
    "Logistic regression estimates probabilities by using a logistic function. We will be using the \"liblinear\" solver to find our accuracy rate. "
   ]
  },
  {
   "cell_type": "code",
   "execution_count": 104,
   "metadata": {
    "colab": {
     "base_uri": "https://localhost:8080/"
    },
    "id": "nlBvS9MumOdK",
    "outputId": "b5872bc2-3d13-493c-d788-28f8480b4bec"
   },
   "outputs": [
    {
     "name": "stdout",
     "output_type": "stream",
     "text": [
      "Accuracy: 0.7293934681181959\n"
     ]
    }
   ],
   "source": [
    "# Finding accuracy for the logical regression model \n",
    "model = LogisticRegression(random_state=1234, solver='liblinear')\n",
    "model.fit(features_train, target_train)\n",
    "predictions_valid = model.predict(features_valid)\n",
    "accuracy = accuracy_score(target_valid, predictions_valid)\n",
    "print(f'Accuracy: {accuracy}')"
   ]
  },
  {
   "cell_type": "markdown",
   "metadata": {
    "id": "XRx84ctunhtU"
   },
   "source": [
    "The accuracy rate for the logical regression model is 72.9%."
   ]
  },
  {
   "cell_type": "markdown",
   "metadata": {
    "id": "Q01kni4Fnn0G"
   },
   "source": [
    "**Conclusions**\n",
    "\n",
    "For the decision tree classifier model, we found that the max_depth of 5 gave us the highest accuracy value of .788 for our training data. For the random forest model, we found that the n_estimators of 18 gave us the highest accuracy value of .815. Using the \"liblinear\" solver for the logical regression model, we got an accuracy value of .729. The best overall model for our data was the random forest model, with an accuracy rate of 81.5%.\n",
    "\n",
    "We will now proceed with checking the quality of the random forest model by using the test set."
   ]
  },
  {
   "cell_type": "markdown",
   "metadata": {
    "id": "vTtGNg80oxB8"
   },
   "source": [
    "## Checking Model Quality "
   ]
  },
  {
   "cell_type": "code",
   "execution_count": 105,
   "metadata": {
    "colab": {
     "base_uri": "https://localhost:8080/"
    },
    "id": "R2GRFTNAo0U3",
    "outputId": "15046b47-570e-4ee2-d12a-ade565aa8c4a"
   },
   "outputs": [
    {
     "name": "stdout",
     "output_type": "stream",
     "text": [
      "Accuracy: 0.8009331259720062\n"
     ]
    }
   ],
   "source": [
    "random_forest_model = RandomForestClassifier(random_state=1234, n_estimators=18)\n",
    "random_forest_model.fit(features_train, target_train)\n",
    "test_prediction = random_forest_model.predict(features_test)\n",
    "accuracy = accuracy_score(target_test, test_prediction)\n",
    "print(f'Accuracy: {accuracy}')"
   ]
  },
  {
   "cell_type": "markdown",
   "metadata": {
    "id": "PYK9zZnYqRYP"
   },
   "source": [
    "The accuracy of the model is 80.1%. The model has passed the accuracy threshold of 75%. \n",
    "\n",
    "We will now sanity check the model. "
   ]
  },
  {
   "cell_type": "markdown",
   "metadata": {
    "id": "ytErHqCxqaPc"
   },
   "source": [
    "## Sanity Check "
   ]
  },
  {
   "cell_type": "code",
   "execution_count": 124,
   "metadata": {
    "id": "ysUE60axxo56"
   },
   "outputs": [],
   "source": [
    "# Splitting our data\n",
    "x_train, x_test, y_train, y_test = train_test_split(features_train, target_train, random_state=1234)\n"
   ]
  },
  {
   "cell_type": "code",
   "execution_count": 131,
   "metadata": {
    "id": "ogzA3BClzQez"
   },
   "outputs": [],
   "source": [
    "# Creating a Random Forest model\n",
    "model = RandomForestClassifier(random_state=1234, n_estimators=18)\n",
    "model.fit(x_train, y_train)"
   ]
  },
  {
   "cell_type": "code",
   "execution_count": 137,
   "metadata": {
    "colab": {
     "base_uri": "https://localhost:8080/"
    },
    "id": "ERI2ei58zkRw",
    "outputId": "e2a979ab-5a71-4416-e4d8-4ac0f33ffaf7"
   },
   "outputs": [
    {
     "name": "stdout",
     "output_type": "stream",
     "text": [
      "Accuracy of model: 0.8070539419087137\n"
     ]
    }
   ],
   "source": [
    "# Finding the accuracy of model\n",
    "prediction = model.predict(x_test)\n",
    "accuracy = accuracy_score(y_test, prediction)\n",
    "print(f'Accuracy of model: {accuracy}')"
   ]
  },
  {
   "cell_type": "code",
   "execution_count": 143,
   "metadata": {
    "colab": {
     "base_uri": "https://localhost:8080/"
    },
    "id": "OvEb3nOwz5LW",
    "outputId": "aec0afb4-3e16-4aea-ecbb-16433ccfa492"
   },
   "outputs": [
    {
     "name": "stdout",
     "output_type": "stream",
     "text": [
      "True positives: 320\n",
      "False positives: 26\n",
      "False negatives: 67\n",
      "True negatives: 69\n"
     ]
    }
   ],
   "source": [
    "# Creating a confusion matrix\n",
    "tn, fp, fn, tp = confusion_matrix(y_test, prediction).ravel()\n",
    "print(f'True positives: {tn}')\n",
    "print(f'False positives: {fp}')\n",
    "print(f'False negatives: {fn}')\n",
    "print(f'True negatives: {tp}')"
   ]
  },
  {
   "cell_type": "markdown",
   "metadata": {
    "id": "vfaf-XVP1rH_"
   },
   "source": [
    "Out of the 346 predictions, the model predicted 320 of them correctly. "
   ]
  },
  {
   "cell_type": "code",
   "execution_count": 135,
   "metadata": {
    "colab": {
     "base_uri": "https://localhost:8080/"
    },
    "id": "AnksFBKi0Fy6",
    "outputId": "76909da1-472a-497d-fad4-8ae976580dc6"
   },
   "outputs": [
    {
     "name": "stdout",
     "output_type": "stream",
     "text": [
      "Classification report: \n",
      "               precision    recall  f1-score   support\n",
      "\n",
      "           0       0.83      0.92      0.87       346\n",
      "           1       0.73      0.51      0.60       136\n",
      "\n",
      "    accuracy                           0.81       482\n",
      "   macro avg       0.78      0.72      0.74       482\n",
      "weighted avg       0.80      0.81      0.80       482\n",
      "\n"
     ]
    }
   ],
   "source": [
    "# Confusion matrix metrics\n",
    "matrix = classification_report(y_test, prediction)\n",
    "print('Classification report: \\n', matrix)"
   ]
  },
  {
   "cell_type": "markdown",
   "metadata": {
    "id": "SZCn_TJS376P"
   },
   "source": [
    "The precision of our model was right 73% of the time. Recall (or sensitivity) is the percentage of positive values correctly classfied. Our recall in this case is 51%. "
   ]
  },
  {
   "cell_type": "markdown",
   "metadata": {
    "id": "OxOY6R8_5idm"
   },
   "source": [
    "## Findings\n",
    "\n",
    "We split the source data in a 3:1:1 ratio: 60% training set, 20% validation set, and 20% test set.\n",
    "* The training set contains 1928 rows.\n",
    "* The validation set contains 643 rows.\n",
    "* The test set contains 643 rows. \n",
    "\n",
    "We created three different models: decision tree classifier, random forest, and logical regression. We investigated the quality of each model by changing hyperparameters\n",
    "* For the decision tree classifier model, we found that the max_depth of 5 gave us the highest accuracy rate. The accuracy rate was 78.8%.\n",
    "* For the random forest model, we found that n_estimators of 15 gave us the highest accuracy rate. The accuracy rate was 81.5%.\n",
    "* For the logical regression model, we used the “liblinear” solver and obtained an accuracy rate of 72.9%.\n",
    "\n",
    "The random forest classifier turned out to be the best model for our data. The logical regression model wat the least accurate model. \n",
    "\n",
    "We checked the quality of the random forest model using the test set and got an accuracy rate of 80.1%. We also performed a sanity check for the model by calculating the precision, recall, f1-score, and accuracy.\n",
    "\n",
    "Since the threshold for accuracy was 0.75 and our model obtained an accuracy of 81%, we can say that the model achieved what the task required. In other words, the model is able to predict the right phone plan for subscribers 81% of the time.\n"
   ]
  }
 ],
 "metadata": {
  "colab": {
   "name": "Phone Plan Recommendation.ipynb",
   "provenance": []
  },
  "kernelspec": {
   "display_name": "Python 3 (ipykernel)",
   "language": "python",
   "name": "python3"
  },
  "language_info": {
   "codemirror_mode": {
    "name": "ipython",
    "version": 3
   },
   "file_extension": ".py",
   "mimetype": "text/x-python",
   "name": "python",
   "nbconvert_exporter": "python",
   "pygments_lexer": "ipython3",
   "version": "3.9.7"
  },
  "toc": {
   "base_numbering": 1,
   "nav_menu": {},
   "number_sections": true,
   "sideBar": true,
   "skip_h1_title": true,
   "title_cell": "Table of Contents",
   "title_sidebar": "Contents",
   "toc_cell": false,
   "toc_position": {},
   "toc_section_display": true,
   "toc_window_display": false
  }
 },
 "nbformat": 4,
 "nbformat_minor": 1
}
